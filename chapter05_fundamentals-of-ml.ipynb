{
  "cells": [
    {
      "cell_type": "markdown",
      "metadata": {
        "id": "dJlvY6QDTk2x"
      },
      "source": [
        "이 노트북은 [케라스 창시자에게 배우는 딥러닝 2판](https://tensorflow.blog/kerasdl2/)의 예제 코드를 담고 있습니다.\n",
        "\n",
        "<table align=\"left\">\n",
        "    <tr>\n",
        "        <td>\n",
        "            <a href=\"https://colab.research.google.com/github/rickiepark/deep-learning-with-python-2nd/blob/main/chapter05_fundamentals-of-ml.ipynb\" target=\"_parent\"><img src=\"https://colab.research.google.com/assets/colab-badge.svg\" alt=\"Open In Colab\"/></a>\n",
        "        </td>\n",
        "    </tr>\n",
        "</table>"
      ]
    },
    {
      "cell_type": "markdown",
      "metadata": {
        "id": "mPvlk_EMTk24"
      },
      "source": [
        "# 머신 러닝의 기본 요소"
      ]
    },
    {
      "cell_type": "markdown",
      "metadata": {
        "id": "QIwdb7e7Tk25"
      },
      "source": [
        "## 일반화: 머신 러닝의 목표"
      ]
    },
    {
      "cell_type": "markdown",
      "metadata": {
        "id": "tPMwQAH7Tk29"
      },
      "source": [
        "### 과소적합과 과대적합"
      ]
    },
    {
      "cell_type": "markdown",
      "metadata": {
        "id": "pGWJKdoUTk2-"
      },
      "source": [
        "#### 잡음 섞인 훈련 데이터"
      ]
    },
    {
      "cell_type": "markdown",
      "metadata": {
        "id": "6px_zXDbTk2_"
      },
      "source": [
        "#### 불확실한 특성"
      ]
    },
    {
      "cell_type": "markdown",
      "metadata": {
        "id": "QgElP-miTk3A"
      },
      "source": [
        "#### 드문 특성과 가짜 상관관계"
      ]
    },
    {
      "cell_type": "markdown",
      "metadata": {
        "id": "VfRNGJB8Tk3B"
      },
      "source": [
        "**MNIST에 백색 잡음 픽셀과 0 픽셀을 추가하기**"
      ]
    },
    {
      "cell_type": "code",
      "execution_count": 1,
      "metadata": {
        "execution": {
          "iopub.execute_input": "2022-05-21T01:01:24.254476Z",
          "iopub.status.busy": "2022-05-21T01:01:24.253958Z",
          "iopub.status.idle": "2022-05-21T01:01:27.373051Z",
          "shell.execute_reply": "2022-05-21T01:01:27.372074Z"
        },
        "id": "KBz18RQVTk3C",
        "outputId": "2dc59106-2635-4ca7-e571-186a8d5bc235",
        "colab": {
          "base_uri": "https://localhost:8080/"
        }
      },
      "outputs": [
        {
          "output_type": "stream",
          "name": "stdout",
          "text": [
            "Downloading data from https://storage.googleapis.com/tensorflow/tf-keras-datasets/mnist.npz\n",
            "11490434/11490434 [==============================] - 1s 0us/step\n"
          ]
        }
      ],
      "source": [
        "from tensorflow.keras.datasets import mnist\n",
        "import numpy as np\n",
        "\n",
        "(train_images, train_labels), _ = mnist.load_data()\n",
        "train_images = train_images.reshape((60000, 28 * 28))\n",
        "train_images = train_images.astype(\"float32\") / 255\n",
        "\n",
        "train_images_with_noise_channels = np.concatenate(\n",
        "    [train_images, np.random.random((len(train_images), 784))], axis=1)\n",
        "\n",
        "train_images_with_zeros_channels = np.concatenate(\n",
        "    [train_images, np.zeros((len(train_images), 784))], axis=1)"
      ]
    },
    {
      "cell_type": "code",
      "source": [
        "train_images.shape"
      ],
      "metadata": {
        "id": "UwCWJ6XmyAX9",
        "outputId": "bd6b4d23-0ce8-40a7-c6c9-c396aab9e42f",
        "colab": {
          "base_uri": "https://localhost:8080/"
        }
      },
      "execution_count": 3,
      "outputs": [
        {
          "output_type": "execute_result",
          "data": {
            "text/plain": [
              "(60000, 784)"
            ]
          },
          "metadata": {},
          "execution_count": 3
        }
      ]
    },
    {
      "cell_type": "code",
      "execution_count": 2,
      "metadata": {
        "execution": {
          "iopub.execute_input": "2022-05-21T01:01:27.377455Z",
          "iopub.status.busy": "2022-05-21T01:01:27.376945Z",
          "iopub.status.idle": "2022-05-21T01:01:27.388938Z",
          "shell.execute_reply": "2022-05-21T01:01:27.387917Z"
        },
        "id": "8cUOncJ1Tk3F",
        "outputId": "315a608a-5cd4-498f-fe0d-7464646c9af6",
        "colab": {
          "base_uri": "https://localhost:8080/"
        }
      },
      "outputs": [
        {
          "output_type": "execute_result",
          "data": {
            "text/plain": [
              "(60000, 1568)"
            ]
          },
          "metadata": {},
          "execution_count": 2
        }
      ],
      "source": [
        "train_images_with_noise_channels.shape"
      ]
    },
    {
      "cell_type": "code",
      "source": [
        "np.zeros((len(train_images), 784))"
      ],
      "metadata": {
        "id": "-DTeaUOKyLqr",
        "outputId": "314c8e57-c797-4f32-c7c5-652187061f9c",
        "colab": {
          "base_uri": "https://localhost:8080/"
        }
      },
      "execution_count": 4,
      "outputs": [
        {
          "output_type": "execute_result",
          "data": {
            "text/plain": [
              "array([[0., 0., 0., ..., 0., 0., 0.],\n",
              "       [0., 0., 0., ..., 0., 0., 0.],\n",
              "       [0., 0., 0., ..., 0., 0., 0.],\n",
              "       ...,\n",
              "       [0., 0., 0., ..., 0., 0., 0.],\n",
              "       [0., 0., 0., ..., 0., 0., 0.],\n",
              "       [0., 0., 0., ..., 0., 0., 0.]])"
            ]
          },
          "metadata": {},
          "execution_count": 4
        }
      ]
    },
    {
      "cell_type": "code",
      "source": [],
      "metadata": {
        "id": "DSLh7es1yLt1"
      },
      "execution_count": null,
      "outputs": []
    },
    {
      "cell_type": "markdown",
      "metadata": {
        "id": "Eh9dzVI3Tk3I"
      },
      "source": [
        "**백색 잡음과 0을 추가한 MNIST 데이터에서 모델 훈련하기**"
      ]
    },
    {
      "cell_type": "code",
      "execution_count": 5,
      "metadata": {
        "execution": {
          "iopub.execute_input": "2022-05-21T01:01:27.392783Z",
          "iopub.status.busy": "2022-05-21T01:01:27.392444Z",
          "iopub.status.idle": "2022-05-21T01:02:25.502977Z",
          "shell.execute_reply": "2022-05-21T01:02:25.502078Z"
        },
        "id": "H8BUR0xETk3J",
        "outputId": "05f75994-c4d1-4741-a988-66076e7f8985",
        "colab": {
          "base_uri": "https://localhost:8080/"
        }
      },
      "outputs": [
        {
          "output_type": "stream",
          "name": "stdout",
          "text": [
            "Epoch 1/10\n",
            "375/375 [==============================] - 7s 4ms/step - loss: 0.5983 - accuracy: 0.8189 - val_loss: 0.2916 - val_accuracy: 0.9141\n",
            "Epoch 2/10\n",
            "375/375 [==============================] - 1s 4ms/step - loss: 0.2525 - accuracy: 0.9215 - val_loss: 0.1861 - val_accuracy: 0.9473\n",
            "Epoch 3/10\n",
            "375/375 [==============================] - 1s 3ms/step - loss: 0.1672 - accuracy: 0.9489 - val_loss: 0.2568 - val_accuracy: 0.9237\n",
            "Epoch 4/10\n",
            "375/375 [==============================] - 1s 4ms/step - loss: 0.1181 - accuracy: 0.9630 - val_loss: 0.1538 - val_accuracy: 0.9529\n",
            "Epoch 5/10\n",
            "375/375 [==============================] - 2s 5ms/step - loss: 0.0874 - accuracy: 0.9729 - val_loss: 0.1154 - val_accuracy: 0.9672\n",
            "Epoch 6/10\n",
            "375/375 [==============================] - 2s 4ms/step - loss: 0.0667 - accuracy: 0.9788 - val_loss: 0.1158 - val_accuracy: 0.9665\n",
            "Epoch 7/10\n",
            "375/375 [==============================] - 1s 4ms/step - loss: 0.0475 - accuracy: 0.9850 - val_loss: 0.1090 - val_accuracy: 0.9677\n",
            "Epoch 8/10\n",
            "375/375 [==============================] - 1s 3ms/step - loss: 0.0345 - accuracy: 0.9894 - val_loss: 0.1168 - val_accuracy: 0.9667\n",
            "Epoch 9/10\n",
            "375/375 [==============================] - 1s 4ms/step - loss: 0.0248 - accuracy: 0.9923 - val_loss: 0.1452 - val_accuracy: 0.9612\n",
            "Epoch 10/10\n",
            "375/375 [==============================] - 1s 3ms/step - loss: 0.0205 - accuracy: 0.9936 - val_loss: 0.1544 - val_accuracy: 0.9598\n",
            "Epoch 1/10\n",
            "375/375 [==============================] - 3s 5ms/step - loss: 0.3025 - accuracy: 0.9136 - val_loss: 0.1505 - val_accuracy: 0.9578\n",
            "Epoch 2/10\n",
            "375/375 [==============================] - 2s 5ms/step - loss: 0.1255 - accuracy: 0.9634 - val_loss: 0.1072 - val_accuracy: 0.9679\n",
            "Epoch 3/10\n",
            "375/375 [==============================] - 1s 4ms/step - loss: 0.0841 - accuracy: 0.9746 - val_loss: 0.0922 - val_accuracy: 0.9728\n",
            "Epoch 4/10\n",
            "375/375 [==============================] - 1s 3ms/step - loss: 0.0597 - accuracy: 0.9825 - val_loss: 0.1023 - val_accuracy: 0.9693\n",
            "Epoch 5/10\n",
            "375/375 [==============================] - 1s 3ms/step - loss: 0.0451 - accuracy: 0.9866 - val_loss: 0.0797 - val_accuracy: 0.9768\n",
            "Epoch 6/10\n",
            "375/375 [==============================] - 1s 4ms/step - loss: 0.0336 - accuracy: 0.9902 - val_loss: 0.0776 - val_accuracy: 0.9775\n",
            "Epoch 7/10\n",
            "375/375 [==============================] - 1s 4ms/step - loss: 0.0259 - accuracy: 0.9926 - val_loss: 0.0834 - val_accuracy: 0.9771\n",
            "Epoch 8/10\n",
            "375/375 [==============================] - 1s 3ms/step - loss: 0.0192 - accuracy: 0.9948 - val_loss: 0.0834 - val_accuracy: 0.9775\n",
            "Epoch 9/10\n",
            "375/375 [==============================] - 1s 4ms/step - loss: 0.0147 - accuracy: 0.9959 - val_loss: 0.0752 - val_accuracy: 0.9792\n",
            "Epoch 10/10\n",
            "375/375 [==============================] - 2s 5ms/step - loss: 0.0114 - accuracy: 0.9972 - val_loss: 0.0783 - val_accuracy: 0.9791\n"
          ]
        }
      ],
      "source": [
        "from tensorflow import keras\n",
        "from tensorflow.keras import layers\n",
        "\n",
        "def get_model():\n",
        "    model = keras.Sequential([\n",
        "        layers.Dense(512, activation=\"relu\"),\n",
        "        layers.Dense(10, activation=\"softmax\")\n",
        "    ])\n",
        "    model.compile(optimizer=\"rmsprop\",\n",
        "                  loss=\"sparse_categorical_crossentropy\",\n",
        "                  metrics=[\"accuracy\"])\n",
        "    return model\n",
        "\n",
        "model = get_model()\n",
        "history_noise = model.fit(\n",
        "    train_images_with_noise_channels, train_labels,\n",
        "    epochs=10,\n",
        "    batch_size=128,\n",
        "    validation_split=0.2)\n",
        "\n",
        "model = get_model()\n",
        "history_zeros = model.fit(\n",
        "    train_images_with_zeros_channels, train_labels,\n",
        "    epochs=10,\n",
        "    batch_size=128,\n",
        "    validation_split=0.2)"
      ]
    },
    {
      "cell_type": "markdown",
      "metadata": {
        "id": "Vx3EJaPaTk3K"
      },
      "source": [
        "**검증 정확도 비교 그래프 그리기**"
      ]
    },
    {
      "cell_type": "code",
      "execution_count": 6,
      "metadata": {
        "execution": {
          "iopub.execute_input": "2022-05-21T01:02:25.507068Z",
          "iopub.status.busy": "2022-05-21T01:02:25.506610Z",
          "iopub.status.idle": "2022-05-21T01:02:26.352048Z",
          "shell.execute_reply": "2022-05-21T01:02:26.351089Z"
        },
        "id": "FZnn2Uw4Tk3L",
        "outputId": "23ae485a-22a5-4fc8-f4de-df0244861e3e",
        "colab": {
          "base_uri": "https://localhost:8080/",
          "height": 472
        }
      },
      "outputs": [
        {
          "output_type": "display_data",
          "data": {
            "text/plain": [
              "<Figure size 640x480 with 1 Axes>"
            ],
            "image/png": "[encoded data removed]"
          },
          "metadata": {}
        }
      ],
      "source": [
        "import matplotlib.pyplot as plt\n",
        "val_acc_noise = history_noise.history[\"val_accuracy\"]\n",
        "val_acc_zeros = history_zeros.history[\"val_accuracy\"]\n",
        "epochs = range(1, 11)\n",
        "plt.plot(epochs, val_acc_noise, \"b-\",\n",
        "         label=\"Validation accuracy with noise channels\")\n",
        "plt.plot(epochs, val_acc_zeros, \"b--\",\n",
        "         label=\"Validation accuracy with zeros channels\")\n",
        "plt.title(\"Effect of noise channels on validation accuracy\")\n",
        "plt.xlabel(\"Epochs\")\n",
        "plt.ylabel(\"Accuracy\")\n",
        "plt.legend()\n",
        "plt.show()"
      ]
    },
    {
      "cell_type": "code",
      "source": [
        "import matplotlib.pyplot as plt\n",
        "val_acc_noise = history_noise.history[\"accuracy\"]\n",
        "val_acc_zeros = history_zeros.history[\"accuracy\"]\n",
        "epochs = range(1, 11)\n",
        "plt.plot(epochs, val_acc_noise, \"b-\",\n",
        "         label=\"accuracy with noise channels\")\n",
        "plt.plot(epochs, val_acc_zeros, \"b--\",\n",
        "         label=\"accuracy with zeros channels\")\n",
        "plt.title(\"Effect of noise channels on accuracy\")\n",
        "plt.xlabel(\"Epochs\")\n",
        "plt.ylabel(\"Accuracy\")\n",
        "plt.legend()\n",
        "plt.show()"
      ],
      "metadata": {
        "id": "j_tb4SKGyeUb",
        "outputId": "1580e89e-e4dd-442f-8c1d-20663e2aa254",
        "colab": {
          "base_uri": "https://localhost:8080/",
          "height": 472
        }
      },
      "execution_count": 8,
      "outputs": [
        {
          "output_type": "display_data",
          "data": {
            "text/plain": [
              "<Figure size 640x480 with 1 Axes>"
            ],
            "image/png": "[encoded data removed]"
          },
          "metadata": {}
        }
      ]
    },
    {
      "cell_type": "markdown",
      "metadata": {
        "id": "ve-7nJARTk3N"
      },
      "source": [
        "### 딥러닝에서 일반화의 본질"
      ]
    },
    {
      "cell_type": "markdown",
      "metadata": {
        "id": "mMxFZdiQTk3O"
      },
      "source": [
        "**랜덤하게 섞은 레이블로 MNIST 모델 훈련하기**"
      ]
    },
    {
      "cell_type": "code",
      "source": [
        "(train_images, train_labels), _ = mnist.load_data()\n",
        "train_images = train_images.reshape((60000, 28 * 28))\n",
        "train_images = train_images.astype(\"float32\") / 255\n",
        "\n",
        "random_train_labels = train_labels[:].copy\n",
        "np.random.shuffle(random_train_labels)"
      ],
      "metadata": {
        "id": "Fb0An4xJzz7P",
        "outputId": "3e869e2e-53c8-472a-e54b-7cc0407bd70b",
        "colab": {
          "base_uri": "https://localhost:8080/",
          "height": 248
        }
      },
      "execution_count": 12,
      "outputs": [
        {
          "output_type": "error",
          "ename": "TypeError",
          "evalue": "ignored",
          "traceback": [
            "\u001b[0;31m---------------------------------------------------------------------------\u001b[0m",
            "\u001b[0;31mTypeError\u001b[0m                                 Traceback (most recent call last)",
            "\u001b[0;32m<ipython-input-12-425defc8b63e>\u001b[0m in \u001b[0;36m<cell line: 6>\u001b[0;34m()\u001b[0m\n\u001b[1;32m      4\u001b[0m \u001b[0;34m\u001b[0m\u001b[0m\n\u001b[1;32m      5\u001b[0m \u001b[0mrandom_train_labels\u001b[0m \u001b[0;34m=\u001b[0m \u001b[0mtrain_labels\u001b[0m\u001b[0;34m[\u001b[0m\u001b[0;34m:\u001b[0m\u001b[0;34m]\u001b[0m\u001b[0;34m.\u001b[0m\u001b[0mcopy\u001b[0m\u001b[0;34m\u001b[0m\u001b[0;34m\u001b[0m\u001b[0m\n\u001b[0;32m----> 6\u001b[0;31m \u001b[0mnp\u001b[0m\u001b[0;34m.\u001b[0m\u001b[0mrandom\u001b[0m\u001b[0;34m.\u001b[0m\u001b[0mshuffle\u001b[0m\u001b[0;34m(\u001b[0m\u001b[0mrandom_train_labels\u001b[0m\u001b[0;34m)\u001b[0m\u001b[0;34m\u001b[0m\u001b[0;34m\u001b[0m\u001b[0m\n\u001b[0m",
            "\u001b[0;32mmtrand.pyx\u001b[0m in \u001b[0;36mnumpy.random.mtrand.RandomState.shuffle\u001b[0;34m()\u001b[0m\n",
            "\u001b[0;31mTypeError\u001b[0m: object of type 'builtin_function_or_method' has no len()"
          ]
        }
      ]
    },
    {
      "cell_type": "code",
      "source": [
        "train_label[:10]"
      ],
      "metadata": {
        "id": "Zrv7-UO_zz2T",
        "outputId": "e9a783ee-3b87-4eec-91c8-24f493f5b79a",
        "colab": {
          "base_uri": "https://localhost:8080/",
          "height": 174
        }
      },
      "execution_count": 14,
      "outputs": [
        {
          "output_type": "error",
          "ename": "NameError",
          "evalue": "ignored",
          "traceback": [
            "\u001b[0;31m---------------------------------------------------------------------------\u001b[0m",
            "\u001b[0;31mNameError\u001b[0m                                 Traceback (most recent call last)",
            "\u001b[0;32m<ipython-input-14-0111a18e88b1>\u001b[0m in \u001b[0;36m<cell line: 1>\u001b[0;34m()\u001b[0m\n\u001b[0;32m----> 1\u001b[0;31m \u001b[0mtrain_label\u001b[0m\u001b[0;34m[\u001b[0m\u001b[0;34m:\u001b[0m\u001b[0;36m10\u001b[0m\u001b[0;34m]\u001b[0m\u001b[0;34m\u001b[0m\u001b[0;34m\u001b[0m\u001b[0m\n\u001b[0m",
            "\u001b[0;31mNameError\u001b[0m: name 'train_label' is not defined"
          ]
        }
      ]
    },
    {
      "cell_type": "code",
      "source": [],
      "metadata": {
        "id": "Wd6YPvk_zzxL"
      },
      "execution_count": null,
      "outputs": []
    },
    {
      "cell_type": "code",
      "execution_count": 9,
      "metadata": {
        "execution": {
          "iopub.execute_input": "2022-05-21T01:02:26.358294Z",
          "iopub.status.busy": "2022-05-21T01:02:26.357787Z",
          "iopub.status.idle": "2022-05-21T01:05:33.171731Z",
          "shell.execute_reply": "2022-05-21T01:05:33.170427Z"
        },
        "id": "8ocMHIMMTk3O",
        "outputId": "1498cd1b-89fe-4e4d-e072-c70ca691d8cb",
        "colab": {
          "base_uri": "https://localhost:8080/"
        }
      },
      "outputs": [
        {
          "output_type": "stream",
          "name": "stdout",
          "text": [
            "Epoch 1/100\n",
            "375/375 [==============================] - 3s 5ms/step - loss: 2.3152 - accuracy: 0.1064 - val_loss: 2.3056 - val_accuracy: 0.1063\n",
            "Epoch 2/100\n",
            "375/375 [==============================] - 1s 3ms/step - loss: 2.2988 - accuracy: 0.1175 - val_loss: 2.3085 - val_accuracy: 0.1037\n",
            "Epoch 3/100\n",
            "375/375 [==============================] - 1s 3ms/step - loss: 2.2910 - accuracy: 0.1251 - val_loss: 2.3183 - val_accuracy: 0.1090\n",
            "Epoch 4/100\n",
            "375/375 [==============================] - 1s 3ms/step - loss: 2.2786 - accuracy: 0.1411 - val_loss: 2.3221 - val_accuracy: 0.0994\n",
            "Epoch 5/100\n",
            "375/375 [==============================] - 1s 4ms/step - loss: 2.2619 - accuracy: 0.1520 - val_loss: 2.3380 - val_accuracy: 0.1035\n",
            "Epoch 6/100\n",
            "375/375 [==============================] - 2s 6ms/step - loss: 2.2421 - accuracy: 0.1671 - val_loss: 2.3528 - val_accuracy: 0.0986\n",
            "Epoch 7/100\n",
            "375/375 [==============================] - 2s 6ms/step - loss: 2.2198 - accuracy: 0.1786 - val_loss: 2.3640 - val_accuracy: 0.0984\n",
            "Epoch 8/100\n",
            "375/375 [==============================] - 2s 4ms/step - loss: 2.1920 - accuracy: 0.1963 - val_loss: 2.3822 - val_accuracy: 0.1024\n",
            "Epoch 9/100\n",
            "375/375 [==============================] - 2s 4ms/step - loss: 2.1617 - accuracy: 0.2113 - val_loss: 2.3968 - val_accuracy: 0.1053\n",
            "Epoch 10/100\n",
            "375/375 [==============================] - 1s 3ms/step - loss: 2.1308 - accuracy: 0.2276 - val_loss: 2.4187 - val_accuracy: 0.1013\n",
            "Epoch 11/100\n",
            "375/375 [==============================] - 1s 4ms/step - loss: 2.0952 - accuracy: 0.2457 - val_loss: 2.4429 - val_accuracy: 0.1023\n",
            "Epoch 12/100\n",
            "375/375 [==============================] - 1s 4ms/step - loss: 2.0600 - accuracy: 0.2620 - val_loss: 2.4804 - val_accuracy: 0.0992\n",
            "Epoch 13/100\n",
            "375/375 [==============================] - 1s 3ms/step - loss: 2.0212 - accuracy: 0.2791 - val_loss: 2.5027 - val_accuracy: 0.1027\n",
            "Epoch 14/100\n",
            "375/375 [==============================] - 1s 3ms/step - loss: 1.9840 - accuracy: 0.2965 - val_loss: 2.5276 - val_accuracy: 0.1067\n",
            "Epoch 15/100\n",
            "375/375 [==============================] - 1s 3ms/step - loss: 1.9472 - accuracy: 0.3101 - val_loss: 2.5677 - val_accuracy: 0.1047\n",
            "Epoch 16/100\n",
            "375/375 [==============================] - 1s 4ms/step - loss: 1.9072 - accuracy: 0.3284 - val_loss: 2.6023 - val_accuracy: 0.1022\n",
            "Epoch 17/100\n",
            "375/375 [==============================] - 1s 4ms/step - loss: 1.8682 - accuracy: 0.3468 - val_loss: 2.6307 - val_accuracy: 0.1041\n",
            "Epoch 18/100\n",
            "375/375 [==============================] - 2s 4ms/step - loss: 1.8308 - accuracy: 0.3590 - val_loss: 2.6782 - val_accuracy: 0.1052\n",
            "Epoch 19/100\n",
            "375/375 [==============================] - 1s 4ms/step - loss: 1.7901 - accuracy: 0.3738 - val_loss: 2.6966 - val_accuracy: 0.1036\n",
            "Epoch 20/100\n",
            "375/375 [==============================] - 1s 3ms/step - loss: 1.7528 - accuracy: 0.3917 - val_loss: 2.7457 - val_accuracy: 0.1034\n",
            "Epoch 21/100\n",
            "375/375 [==============================] - 1s 3ms/step - loss: 1.7162 - accuracy: 0.4044 - val_loss: 2.7862 - val_accuracy: 0.1023\n",
            "Epoch 22/100\n",
            "375/375 [==============================] - 1s 4ms/step - loss: 1.6787 - accuracy: 0.4204 - val_loss: 2.8368 - val_accuracy: 0.1014\n",
            "Epoch 23/100\n",
            "375/375 [==============================] - 1s 3ms/step - loss: 1.6436 - accuracy: 0.4348 - val_loss: 2.8833 - val_accuracy: 0.1064\n",
            "Epoch 24/100\n",
            "375/375 [==============================] - 1s 4ms/step - loss: 1.6078 - accuracy: 0.4462 - val_loss: 2.9225 - val_accuracy: 0.1018\n",
            "Epoch 25/100\n",
            "375/375 [==============================] - 2s 5ms/step - loss: 1.5720 - accuracy: 0.4625 - val_loss: 2.9423 - val_accuracy: 0.1007\n",
            "Epoch 26/100\n",
            "375/375 [==============================] - 2s 6ms/step - loss: 1.5387 - accuracy: 0.4731 - val_loss: 3.0089 - val_accuracy: 0.1014\n",
            "Epoch 27/100\n",
            "375/375 [==============================] - 2s 4ms/step - loss: 1.5033 - accuracy: 0.4876 - val_loss: 3.0657 - val_accuracy: 0.1054\n",
            "Epoch 28/100\n",
            "375/375 [==============================] - 2s 5ms/step - loss: 1.4721 - accuracy: 0.4986 - val_loss: 3.1133 - val_accuracy: 0.1004\n",
            "Epoch 29/100\n",
            "375/375 [==============================] - 3s 7ms/step - loss: 1.4422 - accuracy: 0.5100 - val_loss: 3.1711 - val_accuracy: 0.1034\n",
            "Epoch 30/100\n",
            "375/375 [==============================] - 1s 4ms/step - loss: 1.4111 - accuracy: 0.5220 - val_loss: 3.1981 - val_accuracy: 0.1006\n",
            "Epoch 31/100\n",
            "375/375 [==============================] - 2s 5ms/step - loss: 1.3791 - accuracy: 0.5345 - val_loss: 3.2712 - val_accuracy: 0.1030\n",
            "Epoch 32/100\n",
            "375/375 [==============================] - 2s 4ms/step - loss: 1.3524 - accuracy: 0.5431 - val_loss: 3.3323 - val_accuracy: 0.1027\n",
            "Epoch 33/100\n",
            "375/375 [==============================] - 3s 8ms/step - loss: 1.3214 - accuracy: 0.5543 - val_loss: 3.3747 - val_accuracy: 0.0998\n",
            "Epoch 34/100\n",
            "375/375 [==============================] - 2s 5ms/step - loss: 1.2946 - accuracy: 0.5617 - val_loss: 3.4125 - val_accuracy: 0.1034\n",
            "Epoch 35/100\n",
            "375/375 [==============================] - 1s 3ms/step - loss: 1.2638 - accuracy: 0.5762 - val_loss: 3.4740 - val_accuracy: 0.1023\n",
            "Epoch 36/100\n",
            "375/375 [==============================] - 1s 4ms/step - loss: 1.2388 - accuracy: 0.5830 - val_loss: 3.5284 - val_accuracy: 0.1027\n",
            "Epoch 37/100\n",
            "375/375 [==============================] - 1s 4ms/step - loss: 1.2131 - accuracy: 0.5928 - val_loss: 3.5794 - val_accuracy: 0.1003\n",
            "Epoch 38/100\n",
            "375/375 [==============================] - 1s 3ms/step - loss: 1.1873 - accuracy: 0.6041 - val_loss: 3.6464 - val_accuracy: 0.1009\n",
            "Epoch 39/100\n",
            "375/375 [==============================] - 1s 3ms/step - loss: 1.1626 - accuracy: 0.6105 - val_loss: 3.7086 - val_accuracy: 0.1008\n",
            "Epoch 40/100\n",
            "375/375 [==============================] - 1s 4ms/step - loss: 1.1374 - accuracy: 0.6215 - val_loss: 3.7632 - val_accuracy: 0.1004\n",
            "Epoch 41/100\n",
            "375/375 [==============================] - 2s 4ms/step - loss: 1.1143 - accuracy: 0.6306 - val_loss: 3.8331 - val_accuracy: 0.1003\n",
            "Epoch 42/100\n",
            "375/375 [==============================] - 2s 5ms/step - loss: 1.0911 - accuracy: 0.6372 - val_loss: 3.9096 - val_accuracy: 0.1041\n",
            "Epoch 43/100\n",
            "375/375 [==============================] - 1s 4ms/step - loss: 1.0688 - accuracy: 0.6455 - val_loss: 3.9820 - val_accuracy: 0.1000\n",
            "Epoch 44/100\n",
            "375/375 [==============================] - 1s 3ms/step - loss: 1.0449 - accuracy: 0.6527 - val_loss: 4.0354 - val_accuracy: 0.0988\n",
            "Epoch 45/100\n",
            "375/375 [==============================] - 1s 3ms/step - loss: 1.0228 - accuracy: 0.6602 - val_loss: 4.0824 - val_accuracy: 0.1012\n",
            "Epoch 46/100\n",
            "375/375 [==============================] - 1s 4ms/step - loss: 1.0038 - accuracy: 0.6698 - val_loss: 4.1114 - val_accuracy: 0.1006\n",
            "Epoch 47/100\n",
            "375/375 [==============================] - 2s 5ms/step - loss: 0.9813 - accuracy: 0.6773 - val_loss: 4.2319 - val_accuracy: 0.1005\n",
            "Epoch 48/100\n",
            "375/375 [==============================] - 2s 4ms/step - loss: 0.9591 - accuracy: 0.6837 - val_loss: 4.2682 - val_accuracy: 0.1007\n",
            "Epoch 49/100\n",
            "375/375 [==============================] - 2s 6ms/step - loss: 0.9407 - accuracy: 0.6910 - val_loss: 4.3077 - val_accuracy: 0.1019\n",
            "Epoch 50/100\n",
            "375/375 [==============================] - 2s 4ms/step - loss: 0.9215 - accuracy: 0.6981 - val_loss: 4.3993 - val_accuracy: 0.1017\n",
            "Epoch 51/100\n",
            "375/375 [==============================] - 1s 3ms/step - loss: 0.9034 - accuracy: 0.7027 - val_loss: 4.4545 - val_accuracy: 0.1011\n",
            "Epoch 52/100\n",
            "375/375 [==============================] - 1s 3ms/step - loss: 0.8825 - accuracy: 0.7102 - val_loss: 4.5207 - val_accuracy: 0.1016\n",
            "Epoch 53/100\n",
            "375/375 [==============================] - 1s 3ms/step - loss: 0.8680 - accuracy: 0.7162 - val_loss: 4.6185 - val_accuracy: 0.1028\n",
            "Epoch 54/100\n",
            "375/375 [==============================] - 1s 3ms/step - loss: 0.8458 - accuracy: 0.7219 - val_loss: 4.6975 - val_accuracy: 0.1023\n",
            "Epoch 55/100\n",
            "375/375 [==============================] - 1s 4ms/step - loss: 0.8334 - accuracy: 0.7279 - val_loss: 4.7249 - val_accuracy: 0.1002\n",
            "Epoch 56/100\n",
            "375/375 [==============================] - 1s 3ms/step - loss: 0.8154 - accuracy: 0.7324 - val_loss: 4.7652 - val_accuracy: 0.0992\n",
            "Epoch 57/100\n",
            "375/375 [==============================] - 1s 3ms/step - loss: 0.7990 - accuracy: 0.7384 - val_loss: 4.8499 - val_accuracy: 0.1002\n",
            "Epoch 58/100\n",
            "375/375 [==============================] - 1s 3ms/step - loss: 0.7813 - accuracy: 0.7439 - val_loss: 4.9110 - val_accuracy: 0.0978\n",
            "Epoch 59/100\n",
            "375/375 [==============================] - 2s 5ms/step - loss: 0.7693 - accuracy: 0.7495 - val_loss: 5.0042 - val_accuracy: 0.1018\n",
            "Epoch 60/100\n",
            "375/375 [==============================] - 2s 4ms/step - loss: 0.7552 - accuracy: 0.7531 - val_loss: 5.0412 - val_accuracy: 0.1005\n",
            "Epoch 61/100\n",
            "375/375 [==============================] - 1s 4ms/step - loss: 0.7376 - accuracy: 0.7581 - val_loss: 5.1144 - val_accuracy: 0.1008\n",
            "Epoch 62/100\n",
            "375/375 [==============================] - 1s 4ms/step - loss: 0.7218 - accuracy: 0.7659 - val_loss: 5.1797 - val_accuracy: 0.0977\n",
            "Epoch 63/100\n",
            "375/375 [==============================] - 1s 3ms/step - loss: 0.7074 - accuracy: 0.7698 - val_loss: 5.2870 - val_accuracy: 0.1040\n",
            "Epoch 64/100\n",
            "375/375 [==============================] - 1s 3ms/step - loss: 0.6961 - accuracy: 0.7751 - val_loss: 5.3102 - val_accuracy: 0.0999\n",
            "Epoch 65/100\n",
            "375/375 [==============================] - 1s 4ms/step - loss: 0.6780 - accuracy: 0.7812 - val_loss: 5.4224 - val_accuracy: 0.1004\n",
            "Epoch 66/100\n",
            "375/375 [==============================] - 1s 3ms/step - loss: 0.6666 - accuracy: 0.7855 - val_loss: 5.4909 - val_accuracy: 0.1019\n",
            "Epoch 67/100\n",
            "375/375 [==============================] - 1s 3ms/step - loss: 0.6559 - accuracy: 0.7890 - val_loss: 5.5713 - val_accuracy: 0.1013\n",
            "Epoch 68/100\n",
            "375/375 [==============================] - 1s 4ms/step - loss: 0.6414 - accuracy: 0.7950 - val_loss: 5.6338 - val_accuracy: 0.1042\n",
            "Epoch 69/100\n",
            "375/375 [==============================] - 2s 5ms/step - loss: 0.6299 - accuracy: 0.7980 - val_loss: 5.7007 - val_accuracy: 0.1053\n",
            "Epoch 70/100\n",
            "375/375 [==============================] - 1s 3ms/step - loss: 0.6155 - accuracy: 0.8019 - val_loss: 5.7797 - val_accuracy: 0.0991\n",
            "Epoch 71/100\n",
            "375/375 [==============================] - 1s 3ms/step - loss: 0.6060 - accuracy: 0.8042 - val_loss: 5.8155 - val_accuracy: 0.1023\n",
            "Epoch 72/100\n",
            "375/375 [==============================] - 1s 3ms/step - loss: 0.5909 - accuracy: 0.8121 - val_loss: 5.8953 - val_accuracy: 0.1013\n",
            "Epoch 73/100\n",
            "375/375 [==============================] - 1s 4ms/step - loss: 0.5805 - accuracy: 0.8148 - val_loss: 5.9705 - val_accuracy: 0.1022\n",
            "Epoch 74/100\n",
            "375/375 [==============================] - 1s 4ms/step - loss: 0.5685 - accuracy: 0.8176 - val_loss: 6.0293 - val_accuracy: 0.1033\n",
            "Epoch 75/100\n",
            "375/375 [==============================] - 1s 3ms/step - loss: 0.5579 - accuracy: 0.8234 - val_loss: 6.1264 - val_accuracy: 0.0981\n",
            "Epoch 76/100\n",
            "375/375 [==============================] - 1s 3ms/step - loss: 0.5470 - accuracy: 0.8255 - val_loss: 6.1883 - val_accuracy: 0.0988\n",
            "Epoch 77/100\n",
            "375/375 [==============================] - 1s 3ms/step - loss: 0.5388 - accuracy: 0.8287 - val_loss: 6.2817 - val_accuracy: 0.1012\n",
            "Epoch 78/100\n",
            "375/375 [==============================] - 2s 5ms/step - loss: 0.5275 - accuracy: 0.8326 - val_loss: 6.2951 - val_accuracy: 0.1013\n",
            "Epoch 79/100\n",
            "375/375 [==============================] - 2s 4ms/step - loss: 0.5156 - accuracy: 0.8382 - val_loss: 6.4102 - val_accuracy: 0.1005\n",
            "Epoch 80/100\n",
            "375/375 [==============================] - 2s 4ms/step - loss: 0.5069 - accuracy: 0.8393 - val_loss: 6.4782 - val_accuracy: 0.1028\n",
            "Epoch 81/100\n",
            "375/375 [==============================] - 1s 3ms/step - loss: 0.4968 - accuracy: 0.8426 - val_loss: 6.5315 - val_accuracy: 0.1018\n",
            "Epoch 82/100\n",
            "375/375 [==============================] - 1s 3ms/step - loss: 0.4871 - accuracy: 0.8474 - val_loss: 6.6154 - val_accuracy: 0.1041\n",
            "Epoch 83/100\n",
            "375/375 [==============================] - 1s 3ms/step - loss: 0.4786 - accuracy: 0.8483 - val_loss: 6.7454 - val_accuracy: 0.1018\n",
            "Epoch 84/100\n",
            "375/375 [==============================] - 1s 4ms/step - loss: 0.4694 - accuracy: 0.8508 - val_loss: 6.7661 - val_accuracy: 0.1001\n",
            "Epoch 85/100\n",
            "375/375 [==============================] - 1s 4ms/step - loss: 0.4627 - accuracy: 0.8538 - val_loss: 6.8933 - val_accuracy: 0.1019\n",
            "Epoch 86/100\n",
            "375/375 [==============================] - 1s 3ms/step - loss: 0.4522 - accuracy: 0.8575 - val_loss: 6.8866 - val_accuracy: 0.1007\n",
            "Epoch 87/100\n",
            "375/375 [==============================] - 2s 4ms/step - loss: 0.4443 - accuracy: 0.8610 - val_loss: 7.0716 - val_accuracy: 0.0997\n",
            "Epoch 88/100\n",
            "375/375 [==============================] - 2s 4ms/step - loss: 0.4364 - accuracy: 0.8626 - val_loss: 7.0596 - val_accuracy: 0.1018\n",
            "Epoch 89/100\n",
            "375/375 [==============================] - 1s 3ms/step - loss: 0.4265 - accuracy: 0.8678 - val_loss: 7.1812 - val_accuracy: 0.1011\n",
            "Epoch 90/100\n",
            "375/375 [==============================] - 1s 3ms/step - loss: 0.4197 - accuracy: 0.8693 - val_loss: 7.2270 - val_accuracy: 0.1004\n",
            "Epoch 91/100\n",
            "375/375 [==============================] - 1s 3ms/step - loss: 0.4090 - accuracy: 0.8721 - val_loss: 7.4058 - val_accuracy: 0.1028\n",
            "Epoch 92/100\n",
            "375/375 [==============================] - 1s 4ms/step - loss: 0.4038 - accuracy: 0.8741 - val_loss: 7.4004 - val_accuracy: 0.1037\n",
            "Epoch 93/100\n",
            "375/375 [==============================] - 1s 3ms/step - loss: 0.3983 - accuracy: 0.8750 - val_loss: 7.4454 - val_accuracy: 0.0974\n",
            "Epoch 94/100\n",
            "375/375 [==============================] - 1s 3ms/step - loss: 0.3890 - accuracy: 0.8796 - val_loss: 7.5252 - val_accuracy: 0.1012\n",
            "Epoch 95/100\n",
            "375/375 [==============================] - 1s 4ms/step - loss: 0.3819 - accuracy: 0.8827 - val_loss: 7.6201 - val_accuracy: 0.1015\n",
            "Epoch 96/100\n",
            "375/375 [==============================] - 2s 4ms/step - loss: 0.3768 - accuracy: 0.8832 - val_loss: 7.6489 - val_accuracy: 0.1033\n",
            "Epoch 97/100\n",
            "375/375 [==============================] - 2s 4ms/step - loss: 0.3672 - accuracy: 0.8852 - val_loss: 7.7838 - val_accuracy: 0.1031\n",
            "Epoch 98/100\n",
            "375/375 [==============================] - 1s 3ms/step - loss: 0.3612 - accuracy: 0.8878 - val_loss: 7.8565 - val_accuracy: 0.1032\n",
            "Epoch 99/100\n",
            "375/375 [==============================] - 1s 3ms/step - loss: 0.3569 - accuracy: 0.8900 - val_loss: 7.8818 - val_accuracy: 0.1015\n",
            "Epoch 100/100\n",
            "375/375 [==============================] - 1s 4ms/step - loss: 0.3483 - accuracy: 0.8926 - val_loss: 8.0157 - val_accuracy: 0.1013\n"
          ]
        },
        {
          "output_type": "execute_result",
          "data": {
            "text/plain": [
              "<keras.callbacks.History at 0x7ff4e016d610>"
            ]
          },
          "metadata": {},
          "execution_count": 9
        }
      ],
      "source": [
        "(train_images, train_labels), _ = mnist.load_data()\n",
        "train_images = train_images.reshape((60000, 28 * 28))\n",
        "train_images = train_images.astype(\"float32\") / 255\n",
        "\n",
        "random_train_labels = train_labels[:]\n",
        "np.random.shuffle(random_train_labels)\n",
        "\n",
        "model = keras.Sequential([\n",
        "    layers.Dense(512, activation=\"relu\"),\n",
        "    layers.Dense(10, activation=\"softmax\")\n",
        "])\n",
        "model.compile(optimizer=\"rmsprop\",\n",
        "              loss=\"sparse_categorical_crossentropy\",\n",
        "              metrics=[\"accuracy\"])\n",
        "model.fit(train_images, random_train_labels,\n",
        "          epochs=100,\n",
        "          batch_size=128,\n",
        "          validation_split=0.2)"
      ]
    },
    {
      "cell_type": "markdown",
      "metadata": {
        "id": "oXAyqCrXTk3P"
      },
      "source": [
        "#### 매니폴드 가설"
      ]
    },
    {
      "cell_type": "markdown",
      "metadata": {
        "id": "L0Uvbr43Tk3P"
      },
      "source": [
        "#### 일반화의 원천인 보간"
      ]
    },
    {
      "cell_type": "markdown",
      "metadata": {
        "id": "pHMR5mNZTk3P"
      },
      "source": [
        "#### 딥러닝이 작동하는 이유"
      ]
    },
    {
      "cell_type": "markdown",
      "metadata": {
        "id": "eb0YYZR4Tk3P"
      },
      "source": [
        "#### 가장 중요한 훈련 데이터"
      ]
    },
    {
      "cell_type": "markdown",
      "metadata": {
        "id": "PunfvZ7uTk3Q"
      },
      "source": [
        "## 머신 러닝 모델 평가"
      ]
    },
    {
      "cell_type": "markdown",
      "metadata": {
        "id": "5P4VJfMFTk3Q"
      },
      "source": [
        "### 훈련, 검증, 테스트 세트"
      ]
    },
    {
      "cell_type": "markdown",
      "metadata": {
        "id": "mrwB851-Tk3Q"
      },
      "source": [
        "#### 단순 홀드아웃 검증"
      ]
    },
    {
      "cell_type": "markdown",
      "metadata": {
        "id": "1sEzzYjjTk3R"
      },
      "source": [
        "#### K-겹 교차 검증"
      ]
    },
    {
      "cell_type": "markdown",
      "metadata": {
        "id": "XYrpFDZQTk3R"
      },
      "source": [
        "#### 셔플링을 사용한 반복 K-겹 교차 검증"
      ]
    },
    {
      "cell_type": "markdown",
      "metadata": {
        "id": "kngFjE0QTk3R"
      },
      "source": [
        "### 상식 수준의 기준점을 넘기"
      ]
    },
    {
      "cell_type": "markdown",
      "metadata": {
        "id": "czziT5WVTk3R"
      },
      "source": [
        "### 모델 평가에 대해 유념해야 할 점"
      ]
    },
    {
      "cell_type": "markdown",
      "metadata": {
        "id": "p6nofQfTTk3R"
      },
      "source": [
        "## 훈련 성능 향상하기"
      ]
    },
    {
      "cell_type": "markdown",
      "metadata": {
        "id": "XtWaoT4BTk3S"
      },
      "source": [
        "### 경사 하강법의 핵심 파라미터 튜닝하기"
      ]
    },
    {
      "cell_type": "markdown",
      "metadata": {
        "id": "pRY-dxWTTk3S"
      },
      "source": [
        "**잘못된 높은 학습률로 MNIST 모델 훈련하기**"
      ]
    },
    {
      "cell_type": "code",
      "execution_count": 15,
      "metadata": {
        "execution": {
          "iopub.execute_input": "2022-05-21T01:05:33.177460Z",
          "iopub.status.busy": "2022-05-21T01:05:33.177117Z",
          "iopub.status.idle": "2022-05-21T01:05:52.585061Z",
          "shell.execute_reply": "2022-05-21T01:05:52.584241Z"
        },
        "id": "ZqvcFMPRTk3T",
        "outputId": "f6a813f2-3e32-417d-ce1e-b9eb72b9e21b",
        "colab": {
          "base_uri": "https://localhost:8080/"
        }
      },
      "outputs": [
        {
          "output_type": "stream",
          "name": "stdout",
          "text": [
            "Epoch 1/10\n",
            "375/375 [==============================] - 3s 5ms/step - loss: 575.1330 - accuracy: 0.2923 - val_loss: 2.5252 - val_accuracy: 0.1864\n",
            "Epoch 2/10\n",
            "375/375 [==============================] - 2s 4ms/step - loss: 4.7056 - accuracy: 0.1836 - val_loss: 2.2478 - val_accuracy: 0.2426\n",
            "Epoch 3/10\n",
            "375/375 [==============================] - 1s 3ms/step - loss: 2.7901 - accuracy: 0.1707 - val_loss: 2.1935 - val_accuracy: 0.1963\n",
            "Epoch 4/10\n",
            "375/375 [==============================] - 1s 3ms/step - loss: 2.3952 - accuracy: 0.1504 - val_loss: 2.4427 - val_accuracy: 0.1347\n",
            "Epoch 5/10\n",
            "375/375 [==============================] - 1s 3ms/step - loss: 2.4548 - accuracy: 0.1558 - val_loss: 2.4520 - val_accuracy: 0.1904\n",
            "Epoch 6/10\n",
            "375/375 [==============================] - 1s 3ms/step - loss: 2.3993 - accuracy: 0.1584 - val_loss: 2.9448 - val_accuracy: 0.1915\n",
            "Epoch 7/10\n",
            "375/375 [==============================] - 1s 3ms/step - loss: 2.3974 - accuracy: 0.1769 - val_loss: 2.3416 - val_accuracy: 0.1797\n",
            "Epoch 8/10\n",
            "375/375 [==============================] - 1s 4ms/step - loss: 2.3882 - accuracy: 0.1736 - val_loss: 11.4096 - val_accuracy: 0.1016\n",
            "Epoch 9/10\n",
            "375/375 [==============================] - 1s 3ms/step - loss: 2.4849 - accuracy: 0.1758 - val_loss: 2.2772 - val_accuracy: 0.1784\n",
            "Epoch 10/10\n",
            "375/375 [==============================] - 1s 4ms/step - loss: 2.3203 - accuracy: 0.1847 - val_loss: 2.1685 - val_accuracy: 0.1859\n"
          ]
        },
        {
          "output_type": "execute_result",
          "data": {
            "text/plain": [
              "<keras.callbacks.History at 0x7ff573509af0>"
            ]
          },
          "metadata": {},
          "execution_count": 15
        }
      ],
      "source": [
        "(train_images, train_labels), _ = mnist.load_data()\n",
        "train_images = train_images.reshape((60000, 28 * 28))\n",
        "train_images = train_images.astype(\"float32\") / 255\n",
        "\n",
        "model = keras.Sequential([\n",
        "    layers.Dense(512, activation=\"relu\"),\n",
        "    layers.Dense(10, activation=\"softmax\")\n",
        "])\n",
        "model.compile(optimizer=keras.optimizers.RMSprop(1.),\n",
        "              loss=\"sparse_categorical_crossentropy\",\n",
        "              metrics=[\"accuracy\"])\n",
        "model.fit(train_images, train_labels,\n",
        "          epochs=10,\n",
        "          batch_size=128,\n",
        "          validation_split=0.2)"
      ]
    },
    {
      "cell_type": "markdown",
      "metadata": {
        "id": "77iXsoAYTk3U"
      },
      "source": [
        "**같은 모델을 적절한 학습률로 훈련하기**"
      ]
    },
    {
      "cell_type": "code",
      "execution_count": null,
      "metadata": {
        "execution": {
          "iopub.execute_input": "2022-05-21T01:05:52.588549Z",
          "iopub.status.busy": "2022-05-21T01:05:52.588260Z",
          "iopub.status.idle": "2022-05-21T01:06:11.526008Z",
          "shell.execute_reply": "2022-05-21T01:06:11.525112Z"
        },
        "id": "TQAqlYm0Tk3U",
        "outputId": "7b26b962-1097-426b-a3b0-16213cc0194b",
        "colab": {
          "base_uri": "https://localhost:8080/"
        }
      },
      "outputs": [
        {
          "output_type": "stream",
          "name": "stdout",
          "text": [
            "Epoch 1/10\n",
            "375/375 [==============================] - 2s 4ms/step - loss: 0.3588 - accuracy: 0.9128 - val_loss: 0.2375 - val_accuracy: 0.9398\n",
            "Epoch 2/10\n",
            "375/375 [==============================] - 1s 4ms/step - loss: 0.1431 - accuracy: 0.9638 - val_loss: 0.1824 - val_accuracy: 0.9566\n",
            "Epoch 3/10\n",
            "375/375 [==============================] - 1s 4ms/step - loss: 0.1178 - accuracy: 0.9721 - val_loss: 0.1684 - val_accuracy: 0.9709\n",
            "Epoch 4/10\n",
            "375/375 [==============================] - 1s 4ms/step - loss: 0.0987 - accuracy: 0.9786 - val_loss: 0.1908 - val_accuracy: 0.9693\n",
            "Epoch 5/10\n",
            "375/375 [==============================] - 1s 3ms/step - loss: 0.0854 - accuracy: 0.9819 - val_loss: 0.2492 - val_accuracy: 0.9664\n",
            "Epoch 6/10\n",
            "375/375 [==============================] - 1s 3ms/step - loss: 0.0858 - accuracy: 0.9835 - val_loss: 0.2023 - val_accuracy: 0.9728\n",
            "Epoch 7/10\n",
            "375/375 [==============================] - 1s 4ms/step - loss: 0.0713 - accuracy: 0.9859 - val_loss: 0.2328 - val_accuracy: 0.9728\n",
            "Epoch 8/10\n",
            "375/375 [==============================] - 1s 4ms/step - loss: 0.0629 - accuracy: 0.9884 - val_loss: 0.2934 - val_accuracy: 0.9693\n",
            "Epoch 9/10\n",
            "375/375 [==============================] - 1s 3ms/step - loss: 0.0601 - accuracy: 0.9896 - val_loss: 0.3093 - val_accuracy: 0.9735\n",
            "Epoch 10/10\n",
            "375/375 [==============================] - 1s 3ms/step - loss: 0.0609 - accuracy: 0.9899 - val_loss: 0.3793 - val_accuracy: 0.9707\n"
          ]
        },
        {
          "output_type": "execute_result",
          "data": {
            "text/plain": [
              "<keras.callbacks.History at 0x7f71100bba50>"
            ]
          },
          "metadata": {},
          "execution_count": 7
        }
      ],
      "source": [
        "model = keras.Sequential([\n",
        "    layers.Dense(512, activation=\"relu\"),\n",
        "    layers.Dense(10, activation=\"softmax\")\n",
        "])\n",
        "model.compile(optimizer=keras.optimizers.RMSprop(1e-2),\n",
        "              loss=\"sparse_categorical_crossentropy\",\n",
        "              metrics=[\"accuracy\"])\n",
        "model.fit(train_images, train_labels,\n",
        "          epochs=10,\n",
        "          batch_size=128,\n",
        "          validation_split=0.2)"
      ]
    },
    {
      "cell_type": "markdown",
      "metadata": {
        "id": "9IVJeVeOTk3V"
      },
      "source": [
        "### 구조에 대해 더 나은 가정하기"
      ]
    },
    {
      "cell_type": "markdown",
      "metadata": {
        "id": "Br1F2jcwTk3V"
      },
      "source": [
        "### 모델 용량 늘리기"
      ]
    },
    {
      "cell_type": "markdown",
      "metadata": {
        "id": "Ubvdcv_-Tk3V"
      },
      "source": [
        "**MNIST 데이터를 사용한 간단한 로지스틱 회귀 모델**"
      ]
    },
    {
      "cell_type": "code",
      "execution_count": null,
      "metadata": {
        "execution": {
          "iopub.execute_input": "2022-05-21T01:06:11.530131Z",
          "iopub.status.busy": "2022-05-21T01:06:11.529560Z",
          "iopub.status.idle": "2022-05-21T01:06:25.955536Z",
          "shell.execute_reply": "2022-05-21T01:06:25.954654Z"
        },
        "id": "xl5ejzSRTk3W",
        "outputId": "515b5c38-0fc7-41cb-a8ab-a217997afff3",
        "colab": {
          "base_uri": "https://localhost:8080/"
        }
      },
      "outputs": [
        {
          "output_type": "stream",
          "name": "stdout",
          "text": [
            "Epoch 1/20\n",
            "375/375 [==============================] - 2s 4ms/step - loss: 0.6689 - accuracy: 0.8348 - val_loss: 0.3602 - val_accuracy: 0.9028\n",
            "Epoch 2/20\n",
            "375/375 [==============================] - 1s 3ms/step - loss: 0.3514 - accuracy: 0.9035 - val_loss: 0.3079 - val_accuracy: 0.9149\n",
            "Epoch 3/20\n",
            "375/375 [==============================] - 1s 3ms/step - loss: 0.3153 - accuracy: 0.9124 - val_loss: 0.2902 - val_accuracy: 0.9187\n",
            "Epoch 4/20\n",
            "375/375 [==============================] - 1s 3ms/step - loss: 0.2990 - accuracy: 0.9168 - val_loss: 0.2811 - val_accuracy: 0.9221\n",
            "Epoch 5/20\n",
            "375/375 [==============================] - 1s 3ms/step - loss: 0.2896 - accuracy: 0.9187 - val_loss: 0.2752 - val_accuracy: 0.9232\n",
            "Epoch 6/20\n",
            "375/375 [==============================] - 1s 3ms/step - loss: 0.2830 - accuracy: 0.9209 - val_loss: 0.2722 - val_accuracy: 0.9245\n",
            "Epoch 7/20\n",
            "375/375 [==============================] - 1s 3ms/step - loss: 0.2781 - accuracy: 0.9222 - val_loss: 0.2692 - val_accuracy: 0.9254\n",
            "Epoch 8/20\n",
            "375/375 [==============================] - 1s 3ms/step - loss: 0.2744 - accuracy: 0.9240 - val_loss: 0.2689 - val_accuracy: 0.9266\n",
            "Epoch 9/20\n",
            "375/375 [==============================] - 1s 3ms/step - loss: 0.2714 - accuracy: 0.9251 - val_loss: 0.2658 - val_accuracy: 0.9282\n",
            "Epoch 10/20\n",
            "375/375 [==============================] - 1s 3ms/step - loss: 0.2687 - accuracy: 0.9254 - val_loss: 0.2647 - val_accuracy: 0.9276\n",
            "Epoch 11/20\n",
            "375/375 [==============================] - 1s 3ms/step - loss: 0.2667 - accuracy: 0.9257 - val_loss: 0.2660 - val_accuracy: 0.9268\n",
            "Epoch 12/20\n",
            "375/375 [==============================] - 1s 3ms/step - loss: 0.2649 - accuracy: 0.9268 - val_loss: 0.2627 - val_accuracy: 0.9283\n",
            "Epoch 13/20\n",
            "375/375 [==============================] - 1s 3ms/step - loss: 0.2632 - accuracy: 0.9272 - val_loss: 0.2630 - val_accuracy: 0.9283\n",
            "Epoch 14/20\n",
            "375/375 [==============================] - 1s 3ms/step - loss: 0.2618 - accuracy: 0.9280 - val_loss: 0.2619 - val_accuracy: 0.9296\n",
            "Epoch 15/20\n",
            "375/375 [==============================] - 1s 3ms/step - loss: 0.2606 - accuracy: 0.9281 - val_loss: 0.2616 - val_accuracy: 0.9298\n",
            "Epoch 16/20\n",
            "375/375 [==============================] - 1s 3ms/step - loss: 0.2593 - accuracy: 0.9293 - val_loss: 0.2607 - val_accuracy: 0.9293\n",
            "Epoch 17/20\n",
            "375/375 [==============================] - 1s 3ms/step - loss: 0.2584 - accuracy: 0.9287 - val_loss: 0.2628 - val_accuracy: 0.9296\n",
            "Epoch 18/20\n",
            "375/375 [==============================] - 1s 3ms/step - loss: 0.2573 - accuracy: 0.9297 - val_loss: 0.2608 - val_accuracy: 0.9307\n",
            "Epoch 19/20\n",
            "375/375 [==============================] - 1s 3ms/step - loss: 0.2563 - accuracy: 0.9294 - val_loss: 0.2615 - val_accuracy: 0.9305\n",
            "Epoch 20/20\n",
            "375/375 [==============================] - 1s 3ms/step - loss: 0.2556 - accuracy: 0.9307 - val_loss: 0.2614 - val_accuracy: 0.9309\n"
          ]
        }
      ],
      "source": [
        "model = keras.Sequential([layers.Dense(10, activation=\"softmax\")])\n",
        "model.compile(optimizer=\"rmsprop\",\n",
        "              loss=\"sparse_categorical_crossentropy\",\n",
        "              metrics=[\"accuracy\"])\n",
        "history_small_model = model.fit(\n",
        "    train_images, train_labels,\n",
        "    epochs=20,\n",
        "    batch_size=128,\n",
        "    validation_split=0.2)"
      ]
    },
    {
      "cell_type": "code",
      "execution_count": null,
      "metadata": {
        "execution": {
          "iopub.execute_input": "2022-05-21T01:06:25.959685Z",
          "iopub.status.busy": "2022-05-21T01:06:25.959399Z",
          "iopub.status.idle": "2022-05-21T01:06:26.277516Z",
          "shell.execute_reply": "2022-05-21T01:06:26.276506Z"
        },
        "id": "-yiFhvT4Tk3W",
        "outputId": "7421f121-24fa-40c4-9a7f-994733415b8f",
        "colab": {
          "base_uri": "https://localhost:8080/",
          "height": 295
        }
      },
      "outputs": [
        {
          "output_type": "display_data",
          "data": {
            "text/plain": [
              "<Figure size 432x288 with 1 Axes>"
            ],
            "image/png": "[encoded data removed]"
          },
          "metadata": {
            "needs_background": "light"
          }
        }
      ],
      "source": [
        "import matplotlib.pyplot as plt\n",
        "val_loss = history_small_model.history[\"val_loss\"]\n",
        "epochs = range(1, 21)\n",
        "plt.plot(epochs, val_loss, \"b--\",\n",
        "         label=\"Validation loss\")\n",
        "plt.title(\"Effect of insufficient model capacity on validation loss\")\n",
        "plt.xlabel(\"Epochs\")\n",
        "plt.ylabel(\"Loss\")\n",
        "plt.legend()\n",
        "plt.show()"
      ]
    },
    {
      "cell_type": "code",
      "execution_count": null,
      "metadata": {
        "execution": {
          "iopub.execute_input": "2022-05-21T01:06:26.281161Z",
          "iopub.status.busy": "2022-05-21T01:06:26.280863Z",
          "iopub.status.idle": "2022-05-21T01:06:48.235589Z",
          "shell.execute_reply": "2022-05-21T01:06:48.234644Z"
        },
        "id": "TYz3NAseTk3X",
        "outputId": "0e274062-e4dc-41d8-fc90-cb3b9083812d",
        "colab": {
          "base_uri": "https://localhost:8080/"
        }
      },
      "outputs": [
        {
          "output_type": "stream",
          "name": "stdout",
          "text": [
            "Epoch 1/20\n",
            "375/375 [==============================] - 2s 4ms/step - loss: 0.3696 - accuracy: 0.8978 - val_loss: 0.2014 - val_accuracy: 0.9406\n",
            "Epoch 2/20\n",
            "375/375 [==============================] - 1s 4ms/step - loss: 0.1610 - accuracy: 0.9518 - val_loss: 0.1392 - val_accuracy: 0.9598\n",
            "Epoch 3/20\n",
            "375/375 [==============================] - 1s 4ms/step - loss: 0.1113 - accuracy: 0.9665 - val_loss: 0.1105 - val_accuracy: 0.9683\n",
            "Epoch 4/20\n",
            "375/375 [==============================] - 1s 3ms/step - loss: 0.0863 - accuracy: 0.9740 - val_loss: 0.0984 - val_accuracy: 0.9702\n",
            "Epoch 5/20\n",
            "375/375 [==============================] - 1s 4ms/step - loss: 0.0679 - accuracy: 0.9789 - val_loss: 0.0969 - val_accuracy: 0.9709\n",
            "Epoch 6/20\n",
            "375/375 [==============================] - 1s 4ms/step - loss: 0.0562 - accuracy: 0.9827 - val_loss: 0.0968 - val_accuracy: 0.9732\n",
            "Epoch 7/20\n",
            "375/375 [==============================] - 1s 3ms/step - loss: 0.0465 - accuracy: 0.9860 - val_loss: 0.0923 - val_accuracy: 0.9727\n",
            "Epoch 8/20\n",
            "375/375 [==============================] - 1s 4ms/step - loss: 0.0397 - accuracy: 0.9874 - val_loss: 0.0930 - val_accuracy: 0.9734\n",
            "Epoch 9/20\n",
            "375/375 [==============================] - 1s 4ms/step - loss: 0.0327 - accuracy: 0.9899 - val_loss: 0.0981 - val_accuracy: 0.9734\n",
            "Epoch 10/20\n",
            "375/375 [==============================] - 1s 3ms/step - loss: 0.0279 - accuracy: 0.9918 - val_loss: 0.1013 - val_accuracy: 0.9740\n",
            "Epoch 11/20\n",
            "375/375 [==============================] - 1s 4ms/step - loss: 0.0232 - accuracy: 0.9933 - val_loss: 0.1002 - val_accuracy: 0.9762\n",
            "Epoch 12/20\n",
            "375/375 [==============================] - 1s 4ms/step - loss: 0.0202 - accuracy: 0.9935 - val_loss: 0.1096 - val_accuracy: 0.9732\n",
            "Epoch 13/20\n",
            "375/375 [==============================] - 1s 4ms/step - loss: 0.0169 - accuracy: 0.9945 - val_loss: 0.1043 - val_accuracy: 0.9747\n",
            "Epoch 14/20\n",
            "375/375 [==============================] - 1s 3ms/step - loss: 0.0143 - accuracy: 0.9959 - val_loss: 0.1211 - val_accuracy: 0.9737\n",
            "Epoch 15/20\n",
            "375/375 [==============================] - 1s 4ms/step - loss: 0.0126 - accuracy: 0.9959 - val_loss: 0.1186 - val_accuracy: 0.9743\n",
            "Epoch 16/20\n",
            "375/375 [==============================] - 1s 4ms/step - loss: 0.0101 - accuracy: 0.9969 - val_loss: 0.1180 - val_accuracy: 0.9772\n",
            "Epoch 17/20\n",
            "375/375 [==============================] - 1s 4ms/step - loss: 0.0093 - accuracy: 0.9974 - val_loss: 0.1481 - val_accuracy: 0.9736\n",
            "Epoch 18/20\n",
            "375/375 [==============================] - 1s 4ms/step - loss: 0.0072 - accuracy: 0.9977 - val_loss: 0.1356 - val_accuracy: 0.9764\n",
            "Epoch 19/20\n",
            "375/375 [==============================] - 1s 3ms/step - loss: 0.0064 - accuracy: 0.9981 - val_loss: 0.1418 - val_accuracy: 0.9753\n",
            "Epoch 20/20\n",
            "375/375 [==============================] - 1s 3ms/step - loss: 0.0062 - accuracy: 0.9979 - val_loss: 0.1474 - val_accuracy: 0.9760\n"
          ]
        }
      ],
      "source": [
        "model = keras.Sequential([\n",
        "    layers.Dense(96, activation=\"relu\"),\n",
        "    layers.Dense(96, activation=\"relu\"),\n",
        "    layers.Dense(10, activation=\"softmax\"),\n",
        "])\n",
        "model.compile(optimizer=\"rmsprop\",\n",
        "              loss=\"sparse_categorical_crossentropy\",\n",
        "              metrics=[\"accuracy\"])\n",
        "history_large_model = model.fit(\n",
        "    train_images, train_labels,\n",
        "    epochs=20,\n",
        "    batch_size=128,\n",
        "    validation_split=0.2)"
      ]
    },
    {
      "cell_type": "markdown",
      "metadata": {
        "id": "xsjm0jXuTk3Y"
      },
      "source": [
        "## 일반화 성능 향상하기"
      ]
    },
    {
      "cell_type": "markdown",
      "metadata": {
        "id": "SCOzA1LKTk3Y"
      },
      "source": [
        "### 데이터셋 큐레이션"
      ]
    },
    {
      "cell_type": "markdown",
      "metadata": {
        "id": "cDNJQp2yTk3Y"
      },
      "source": [
        "### 특성 공학"
      ]
    },
    {
      "cell_type": "markdown",
      "metadata": {
        "id": "BA30Ys7CTk3Y"
      },
      "source": [
        "### 조기 종료 사용하기"
      ]
    },
    {
      "cell_type": "markdown",
      "metadata": {
        "id": "FS0RwwIpTk3Z"
      },
      "source": [
        "### 모델 규제하기"
      ]
    },
    {
      "cell_type": "markdown",
      "metadata": {
        "id": "g1lVn3NcTk3Z"
      },
      "source": [
        "#### 네트워크 크기 축소"
      ]
    },
    {
      "cell_type": "markdown",
      "metadata": {
        "id": "j3r8_V04Tk3Z"
      },
      "source": [
        "**원본 모델**"
      ]
    },
    {
      "cell_type": "code",
      "execution_count": null,
      "metadata": {
        "execution": {
          "iopub.execute_input": "2022-05-21T01:06:48.240327Z",
          "iopub.status.busy": "2022-05-21T01:06:48.239635Z",
          "iopub.status.idle": "2022-05-21T01:07:01.599335Z",
          "shell.execute_reply": "2022-05-21T01:07:01.598428Z"
        },
        "id": "yZ__XxRqTk3Z",
        "outputId": "42070f91-b5a8-4806-c5a3-b6fb087605bc",
        "colab": {
          "base_uri": "https://localhost:8080/"
        }
      },
      "outputs": [
        {
          "output_type": "stream",
          "name": "stdout",
          "text": [
            "Downloading data from https://storage.googleapis.com/tensorflow/tf-keras-datasets/imdb.npz\n",
            "17464789/17464789 [==============================] - 0s 0us/step\n",
            "Epoch 1/20\n",
            "30/30 [==============================] - 2s 41ms/step - loss: 0.5118 - accuracy: 0.7942 - val_loss: 0.3966 - val_accuracy: 0.8645\n",
            "Epoch 2/20\n",
            "30/30 [==============================] - 1s 22ms/step - loss: 0.3088 - accuracy: 0.9041 - val_loss: 0.3057 - val_accuracy: 0.8865\n",
            "Epoch 3/20\n",
            "30/30 [==============================] - 1s 22ms/step - loss: 0.2241 - accuracy: 0.9275 - val_loss: 0.2775 - val_accuracy: 0.8937\n",
            "Epoch 4/20\n",
            "30/30 [==============================] - 1s 21ms/step - loss: 0.1776 - accuracy: 0.9411 - val_loss: 0.2884 - val_accuracy: 0.8850\n",
            "Epoch 5/20\n",
            "30/30 [==============================] - 1s 22ms/step - loss: 0.1439 - accuracy: 0.9547 - val_loss: 0.2798 - val_accuracy: 0.8879\n",
            "Epoch 6/20\n",
            "30/30 [==============================] - 1s 21ms/step - loss: 0.1197 - accuracy: 0.9633 - val_loss: 0.2933 - val_accuracy: 0.8857\n",
            "Epoch 7/20\n",
            "30/30 [==============================] - 1s 22ms/step - loss: 0.1027 - accuracy: 0.9682 - val_loss: 0.3094 - val_accuracy: 0.8853\n",
            "Epoch 8/20\n",
            "30/30 [==============================] - 1s 22ms/step - loss: 0.0843 - accuracy: 0.9758 - val_loss: 0.3293 - val_accuracy: 0.8847\n",
            "Epoch 9/20\n",
            "30/30 [==============================] - 1s 22ms/step - loss: 0.0710 - accuracy: 0.9796 - val_loss: 0.3508 - val_accuracy: 0.8812\n",
            "Epoch 10/20\n",
            "30/30 [==============================] - 1s 21ms/step - loss: 0.0615 - accuracy: 0.9833 - val_loss: 0.3765 - val_accuracy: 0.8793\n",
            "Epoch 11/20\n",
            "30/30 [==============================] - 1s 22ms/step - loss: 0.0520 - accuracy: 0.9863 - val_loss: 0.3998 - val_accuracy: 0.8776\n",
            "Epoch 12/20\n",
            "30/30 [==============================] - 1s 22ms/step - loss: 0.0408 - accuracy: 0.9904 - val_loss: 0.4280 - val_accuracy: 0.8760\n",
            "Epoch 13/20\n",
            "30/30 [==============================] - 1s 22ms/step - loss: 0.0333 - accuracy: 0.9925 - val_loss: 0.4632 - val_accuracy: 0.8739\n",
            "Epoch 14/20\n",
            "30/30 [==============================] - 1s 22ms/step - loss: 0.0281 - accuracy: 0.9938 - val_loss: 0.4990 - val_accuracy: 0.8722\n",
            "Epoch 15/20\n",
            "30/30 [==============================] - 1s 21ms/step - loss: 0.0225 - accuracy: 0.9953 - val_loss: 0.5676 - val_accuracy: 0.8653\n",
            "Epoch 16/20\n",
            "30/30 [==============================] - 1s 22ms/step - loss: 0.0190 - accuracy: 0.9959 - val_loss: 0.6024 - val_accuracy: 0.8654\n",
            "Epoch 17/20\n",
            "30/30 [==============================] - 1s 22ms/step - loss: 0.0139 - accuracy: 0.9981 - val_loss: 0.6486 - val_accuracy: 0.8631\n",
            "Epoch 18/20\n",
            "30/30 [==============================] - 1s 22ms/step - loss: 0.0118 - accuracy: 0.9985 - val_loss: 0.6424 - val_accuracy: 0.8643\n",
            "Epoch 19/20\n",
            "30/30 [==============================] - 1s 22ms/step - loss: 0.0120 - accuracy: 0.9976 - val_loss: 0.6860 - val_accuracy: 0.8648\n",
            "Epoch 20/20\n",
            "30/30 [==============================] - 1s 21ms/step - loss: 0.0057 - accuracy: 0.9995 - val_loss: 0.7044 - val_accuracy: 0.8640\n"
          ]
        }
      ],
      "source": [
        "from tensorflow.keras.datasets import imdb\n",
        "(train_data, train_labels), _ = imdb.load_data(num_words=10000)\n",
        "\n",
        "def vectorize_sequences(sequences, dimension=10000):\n",
        "    results = np.zeros((len(sequences), dimension))\n",
        "    for i, sequence in enumerate(sequences):\n",
        "        results[i, sequence] = 1.\n",
        "    return results\n",
        "train_data = vectorize_sequences(train_data)\n",
        "\n",
        "model = keras.Sequential([\n",
        "    layers.Dense(16, activation=\"relu\"),\n",
        "    layers.Dense(16, activation=\"relu\"),\n",
        "    layers.Dense(1, activation=\"sigmoid\")\n",
        "])\n",
        "model.compile(optimizer=\"rmsprop\",\n",
        "              loss=\"binary_crossentropy\",\n",
        "              metrics=[\"accuracy\"])\n",
        "history_original = model.fit(train_data, train_labels,\n",
        "                             epochs=20, batch_size=512, validation_split=0.4)"
      ]
    },
    {
      "cell_type": "markdown",
      "metadata": {
        "id": "Ur2zKeT6Tk3a"
      },
      "source": [
        "**작은 용량의 모델**"
      ]
    },
    {
      "cell_type": "code",
      "execution_count": null,
      "metadata": {
        "execution": {
          "iopub.execute_input": "2022-05-21T01:07:01.603485Z",
          "iopub.status.busy": "2022-05-21T01:07:01.603168Z",
          "iopub.status.idle": "2022-05-21T01:07:09.910749Z",
          "shell.execute_reply": "2022-05-21T01:07:09.909893Z"
        },
        "id": "J07S8kRUTk3a",
        "outputId": "c0a63b10-4be7-4862-b259-50a1ba0abdd4",
        "colab": {
          "base_uri": "https://localhost:8080/"
        }
      },
      "outputs": [
        {
          "output_type": "stream",
          "name": "stdout",
          "text": [
            "Epoch 1/20\n",
            "30/30 [==============================] - 2s 36ms/step - loss: 0.5793 - accuracy: 0.7719 - val_loss: 0.4977 - val_accuracy: 0.8150\n",
            "Epoch 2/20\n",
            "30/30 [==============================] - 1s 24ms/step - loss: 0.4241 - accuracy: 0.8781 - val_loss: 0.4017 - val_accuracy: 0.8668\n",
            "Epoch 3/20\n",
            "30/30 [==============================] - 1s 22ms/step - loss: 0.3374 - accuracy: 0.9001 - val_loss: 0.3441 - val_accuracy: 0.8817\n",
            "Epoch 4/20\n",
            "30/30 [==============================] - 1s 22ms/step - loss: 0.2784 - accuracy: 0.9167 - val_loss: 0.3107 - val_accuracy: 0.8882\n",
            "Epoch 5/20\n",
            "30/30 [==============================] - 1s 22ms/step - loss: 0.2377 - accuracy: 0.9285 - val_loss: 0.2951 - val_accuracy: 0.8892\n",
            "Epoch 6/20\n",
            "30/30 [==============================] - 1s 21ms/step - loss: 0.2075 - accuracy: 0.9373 - val_loss: 0.2814 - val_accuracy: 0.8924\n",
            "Epoch 7/20\n",
            "30/30 [==============================] - 1s 23ms/step - loss: 0.1825 - accuracy: 0.9467 - val_loss: 0.2786 - val_accuracy: 0.8889\n",
            "Epoch 8/20\n",
            "30/30 [==============================] - 1s 22ms/step - loss: 0.1631 - accuracy: 0.9521 - val_loss: 0.2756 - val_accuracy: 0.8891\n",
            "Epoch 9/20\n",
            "30/30 [==============================] - 1s 22ms/step - loss: 0.1456 - accuracy: 0.9582 - val_loss: 0.2774 - val_accuracy: 0.8886\n",
            "Epoch 10/20\n",
            "30/30 [==============================] - 1s 22ms/step - loss: 0.1303 - accuracy: 0.9637 - val_loss: 0.2830 - val_accuracy: 0.8887\n",
            "Epoch 11/20\n",
            "30/30 [==============================] - 1s 22ms/step - loss: 0.1174 - accuracy: 0.9675 - val_loss: 0.2885 - val_accuracy: 0.8861\n",
            "Epoch 12/20\n",
            "30/30 [==============================] - 1s 25ms/step - loss: 0.1062 - accuracy: 0.9708 - val_loss: 0.2932 - val_accuracy: 0.8859\n",
            "Epoch 13/20\n",
            "30/30 [==============================] - 1s 23ms/step - loss: 0.0961 - accuracy: 0.9741 - val_loss: 0.3011 - val_accuracy: 0.8853\n",
            "Epoch 14/20\n",
            "30/30 [==============================] - 1s 22ms/step - loss: 0.0866 - accuracy: 0.9771 - val_loss: 0.3206 - val_accuracy: 0.8807\n",
            "Epoch 15/20\n",
            "30/30 [==============================] - 1s 22ms/step - loss: 0.0783 - accuracy: 0.9801 - val_loss: 0.3235 - val_accuracy: 0.8825\n",
            "Epoch 16/20\n",
            "30/30 [==============================] - 1s 22ms/step - loss: 0.0710 - accuracy: 0.9825 - val_loss: 0.3366 - val_accuracy: 0.8816\n",
            "Epoch 17/20\n",
            "30/30 [==============================] - 1s 22ms/step - loss: 0.0635 - accuracy: 0.9853 - val_loss: 0.3488 - val_accuracy: 0.8801\n",
            "Epoch 18/20\n",
            "30/30 [==============================] - 1s 22ms/step - loss: 0.0577 - accuracy: 0.9868 - val_loss: 0.3650 - val_accuracy: 0.8785\n",
            "Epoch 19/20\n",
            "30/30 [==============================] - 1s 21ms/step - loss: 0.0515 - accuracy: 0.9883 - val_loss: 0.3816 - val_accuracy: 0.8788\n",
            "Epoch 20/20\n",
            "30/30 [==============================] - 1s 21ms/step - loss: 0.0461 - accuracy: 0.9895 - val_loss: 0.3973 - val_accuracy: 0.8761\n"
          ]
        }
      ],
      "source": [
        "model = keras.Sequential([\n",
        "    layers.Dense(4, activation=\"relu\"),\n",
        "    layers.Dense(4, activation=\"relu\"),\n",
        "    layers.Dense(1, activation=\"sigmoid\")\n",
        "])\n",
        "model.compile(optimizer=\"rmsprop\",\n",
        "              loss=\"binary_crossentropy\",\n",
        "              metrics=[\"accuracy\"])\n",
        "history_smaller_model = model.fit(\n",
        "    train_data, train_labels,\n",
        "    epochs=20, batch_size=512, validation_split=0.4)"
      ]
    },
    {
      "cell_type": "markdown",
      "metadata": {
        "id": "k6040fZeTk3a"
      },
      "source": [
        "**큰 용량의 모델**"
      ]
    },
    {
      "cell_type": "code",
      "execution_count": null,
      "metadata": {
        "execution": {
          "iopub.execute_input": "2022-05-21T01:07:09.914619Z",
          "iopub.status.busy": "2022-05-21T01:07:09.914070Z",
          "iopub.status.idle": "2022-05-21T01:07:55.440909Z",
          "shell.execute_reply": "2022-05-21T01:07:55.439855Z"
        },
        "id": "gRyaH_CkTk3b",
        "outputId": "926ff59e-c18a-439c-957d-c7f1b60584ca",
        "colab": {
          "base_uri": "https://localhost:8080/"
        }
      },
      "outputs": [
        {
          "output_type": "stream",
          "name": "stdout",
          "text": [
            "Epoch 1/20\n",
            "30/30 [==============================] - 2s 42ms/step - loss: 0.5673 - accuracy: 0.7789 - val_loss: 0.3003 - val_accuracy: 0.8852\n",
            "Epoch 2/20\n",
            "30/30 [==============================] - 1s 27ms/step - loss: 0.2481 - accuracy: 0.9052 - val_loss: 0.3609 - val_accuracy: 0.8541\n",
            "Epoch 3/20\n",
            "30/30 [==============================] - 1s 27ms/step - loss: 0.1528 - accuracy: 0.9397 - val_loss: 0.3480 - val_accuracy: 0.8729\n",
            "Epoch 4/20\n",
            "30/30 [==============================] - 1s 26ms/step - loss: 0.1118 - accuracy: 0.9672 - val_loss: 0.3435 - val_accuracy: 0.8910\n",
            "Epoch 5/20\n",
            "30/30 [==============================] - 1s 26ms/step - loss: 0.0219 - accuracy: 0.9935 - val_loss: 1.6897 - val_accuracy: 0.6846\n",
            "Epoch 6/20\n",
            "30/30 [==============================] - 1s 26ms/step - loss: 0.0350 - accuracy: 0.9893 - val_loss: 0.5067 - val_accuracy: 0.8879\n",
            "Epoch 7/20\n",
            "30/30 [==============================] - 1s 26ms/step - loss: 8.4210e-04 - accuracy: 0.9999 - val_loss: 0.6132 - val_accuracy: 0.8886\n",
            "Epoch 8/20\n",
            "30/30 [==============================] - 1s 26ms/step - loss: 9.0304e-04 - accuracy: 0.9999 - val_loss: 0.7161 - val_accuracy: 0.8876\n",
            "Epoch 9/20\n",
            "30/30 [==============================] - 1s 28ms/step - loss: 2.9179e-05 - accuracy: 1.0000 - val_loss: 0.8425 - val_accuracy: 0.8869\n",
            "Epoch 10/20\n",
            "30/30 [==============================] - 1s 26ms/step - loss: 5.3758e-06 - accuracy: 1.0000 - val_loss: 0.9504 - val_accuracy: 0.8880\n",
            "Epoch 11/20\n",
            "30/30 [==============================] - 1s 26ms/step - loss: 1.2510e-06 - accuracy: 1.0000 - val_loss: 1.0460 - val_accuracy: 0.8871\n",
            "Epoch 12/20\n",
            "30/30 [==============================] - 1s 26ms/step - loss: 3.7285e-07 - accuracy: 1.0000 - val_loss: 1.1332 - val_accuracy: 0.8859\n",
            "Epoch 13/20\n",
            "30/30 [==============================] - 1s 26ms/step - loss: 1.2854e-07 - accuracy: 1.0000 - val_loss: 1.1943 - val_accuracy: 0.8863\n",
            "Epoch 14/20\n",
            "30/30 [==============================] - 1s 26ms/step - loss: 5.4076e-08 - accuracy: 1.0000 - val_loss: 1.2503 - val_accuracy: 0.8865\n",
            "Epoch 15/20\n",
            "30/30 [==============================] - 1s 25ms/step - loss: 2.9129e-08 - accuracy: 1.0000 - val_loss: 1.2856 - val_accuracy: 0.8864\n",
            "Epoch 16/20\n",
            "30/30 [==============================] - 1s 26ms/step - loss: 1.9333e-08 - accuracy: 1.0000 - val_loss: 1.3063 - val_accuracy: 0.8870\n",
            "Epoch 17/20\n",
            "30/30 [==============================] - 1s 26ms/step - loss: 1.4389e-08 - accuracy: 1.0000 - val_loss: 1.3258 - val_accuracy: 0.8868\n",
            "Epoch 18/20\n",
            "30/30 [==============================] - 1s 25ms/step - loss: 1.1431e-08 - accuracy: 1.0000 - val_loss: 1.3392 - val_accuracy: 0.8870\n",
            "Epoch 19/20\n",
            "30/30 [==============================] - 1s 26ms/step - loss: 9.5314e-09 - accuracy: 1.0000 - val_loss: 1.3522 - val_accuracy: 0.8869\n",
            "Epoch 20/20\n",
            "30/30 [==============================] - 1s 28ms/step - loss: 8.1679e-09 - accuracy: 1.0000 - val_loss: 1.3632 - val_accuracy: 0.8864\n"
          ]
        }
      ],
      "source": [
        "model = keras.Sequential([\n",
        "    layers.Dense(512, activation=\"relu\"),\n",
        "    layers.Dense(512, activation=\"relu\"),\n",
        "    layers.Dense(1, activation=\"sigmoid\")\n",
        "])\n",
        "model.compile(optimizer=\"rmsprop\",\n",
        "              loss=\"binary_crossentropy\",\n",
        "              metrics=[\"accuracy\"])\n",
        "history_larger_model = model.fit(\n",
        "    train_data, train_labels,\n",
        "    epochs=20, batch_size=512, validation_split=0.4)"
      ]
    },
    {
      "cell_type": "markdown",
      "metadata": {
        "id": "HkMwsNWiTk3b"
      },
      "source": [
        "#### 가중치 규제 추가하기"
      ]
    },
    {
      "cell_type": "markdown",
      "metadata": {
        "id": "slmc7NwkTk3b"
      },
      "source": [
        "**모델에 L2 가중치 추가하기**"
      ]
    },
    {
      "cell_type": "code",
      "execution_count": null,
      "metadata": {
        "execution": {
          "iopub.execute_input": "2022-05-21T01:07:55.445676Z",
          "iopub.status.busy": "2022-05-21T01:07:55.444826Z",
          "iopub.status.idle": "2022-05-21T01:08:04.225182Z",
          "shell.execute_reply": "2022-05-21T01:08:04.224432Z"
        },
        "id": "BbKqHmXtTk3b",
        "outputId": "89b3595e-57f9-4e11-f373-b7d9ae79f9ba",
        "colab": {
          "base_uri": "https://localhost:8080/"
        }
      },
      "outputs": [
        {
          "output_type": "stream",
          "name": "stdout",
          "text": [
            "Epoch 1/20\n",
            "30/30 [==============================] - 2s 39ms/step - loss: 0.6008 - accuracy: 0.7869 - val_loss: 0.5094 - val_accuracy: 0.8202\n",
            "Epoch 2/20\n",
            "30/30 [==============================] - 1s 22ms/step - loss: 0.4126 - accuracy: 0.8913 - val_loss: 0.4147 - val_accuracy: 0.8704\n",
            "Epoch 3/20\n",
            "30/30 [==============================] - 1s 22ms/step - loss: 0.3432 - accuracy: 0.9120 - val_loss: 0.3858 - val_accuracy: 0.8798\n",
            "Epoch 4/20\n",
            "30/30 [==============================] - 1s 21ms/step - loss: 0.3126 - accuracy: 0.9197 - val_loss: 0.3618 - val_accuracy: 0.8865\n",
            "Epoch 5/20\n",
            "30/30 [==============================] - 1s 22ms/step - loss: 0.2898 - accuracy: 0.9306 - val_loss: 0.3603 - val_accuracy: 0.8866\n",
            "Epoch 6/20\n",
            "30/30 [==============================] - 1s 22ms/step - loss: 0.2761 - accuracy: 0.9340 - val_loss: 0.4112 - val_accuracy: 0.8648\n",
            "Epoch 7/20\n",
            "30/30 [==============================] - 1s 22ms/step - loss: 0.2647 - accuracy: 0.9390 - val_loss: 0.3612 - val_accuracy: 0.8852\n",
            "Epoch 8/20\n",
            "30/30 [==============================] - 1s 22ms/step - loss: 0.2570 - accuracy: 0.9409 - val_loss: 0.3638 - val_accuracy: 0.8843\n",
            "Epoch 9/20\n",
            "30/30 [==============================] - 1s 22ms/step - loss: 0.2502 - accuracy: 0.9425 - val_loss: 0.3681 - val_accuracy: 0.8832\n",
            "Epoch 10/20\n",
            "30/30 [==============================] - 1s 22ms/step - loss: 0.2431 - accuracy: 0.9456 - val_loss: 0.3712 - val_accuracy: 0.8828\n",
            "Epoch 11/20\n",
            "30/30 [==============================] - 1s 22ms/step - loss: 0.2415 - accuracy: 0.9454 - val_loss: 0.3795 - val_accuracy: 0.8803\n",
            "Epoch 12/20\n",
            "30/30 [==============================] - 1s 22ms/step - loss: 0.2322 - accuracy: 0.9491 - val_loss: 0.3876 - val_accuracy: 0.8774\n",
            "Epoch 13/20\n",
            "30/30 [==============================] - 1s 21ms/step - loss: 0.2328 - accuracy: 0.9482 - val_loss: 0.4040 - val_accuracy: 0.8753\n",
            "Epoch 14/20\n",
            "30/30 [==============================] - 1s 21ms/step - loss: 0.2279 - accuracy: 0.9502 - val_loss: 0.3943 - val_accuracy: 0.8767\n",
            "Epoch 15/20\n",
            "30/30 [==============================] - 1s 22ms/step - loss: 0.2261 - accuracy: 0.9488 - val_loss: 0.3987 - val_accuracy: 0.8774\n",
            "Epoch 16/20\n",
            "30/30 [==============================] - 1s 22ms/step - loss: 0.2204 - accuracy: 0.9521 - val_loss: 0.3924 - val_accuracy: 0.8781\n",
            "Epoch 17/20\n",
            "30/30 [==============================] - 1s 21ms/step - loss: 0.2176 - accuracy: 0.9525 - val_loss: 0.3966 - val_accuracy: 0.8770\n",
            "Epoch 18/20\n",
            "30/30 [==============================] - 1s 21ms/step - loss: 0.2153 - accuracy: 0.9532 - val_loss: 0.4018 - val_accuracy: 0.8781\n",
            "Epoch 19/20\n",
            "30/30 [==============================] - 1s 24ms/step - loss: 0.2141 - accuracy: 0.9545 - val_loss: 0.4348 - val_accuracy: 0.8689\n",
            "Epoch 20/20\n",
            "30/30 [==============================] - 1s 21ms/step - loss: 0.2179 - accuracy: 0.9533 - val_loss: 0.4065 - val_accuracy: 0.8767\n"
          ]
        }
      ],
      "source": [
        "from tensorflow.keras import regularizers\n",
        "model = keras.Sequential([\n",
        "    layers.Dense(16,\n",
        "                 kernel_regularizer=regularizers.l2(0.002),\n",
        "                 activation=\"relu\"),\n",
        "    layers.Dense(16,\n",
        "                 kernel_regularizer=regularizers.l2(0.002),\n",
        "                 activation=\"relu\"),\n",
        "    layers.Dense(1, activation=\"sigmoid\")\n",
        "])\n",
        "model.compile(optimizer=\"rmsprop\",\n",
        "              loss=\"binary_crossentropy\",\n",
        "              metrics=[\"accuracy\"])\n",
        "history_l2_reg = model.fit(\n",
        "    train_data, train_labels,\n",
        "    epochs=20, batch_size=512, validation_split=0.4)"
      ]
    },
    {
      "cell_type": "markdown",
      "metadata": {
        "id": "766AbsD9Tk3c"
      },
      "source": [
        "**케라스에서 사용할 수 있는 가중치 규제**"
      ]
    },
    {
      "cell_type": "code",
      "execution_count": null,
      "metadata": {
        "execution": {
          "iopub.execute_input": "2022-05-21T01:08:04.229728Z",
          "iopub.status.busy": "2022-05-21T01:08:04.228866Z",
          "iopub.status.idle": "2022-05-21T01:08:04.237099Z",
          "shell.execute_reply": "2022-05-21T01:08:04.235990Z"
        },
        "id": "tT6wJynITk3c",
        "outputId": "65db72bb-52b7-4506-ef29-2c744b4ab897",
        "colab": {
          "base_uri": "https://localhost:8080/"
        }
      },
      "outputs": [
        {
          "output_type": "execute_result",
          "data": {
            "text/plain": [
              "<keras.regularizers.L1L2 at 0x7f70020eee10>"
            ]
          },
          "metadata": {},
          "execution_count": 15
        }
      ],
      "source": [
        "from tensorflow.keras import regularizers\n",
        "regularizers.l1(0.001)\n",
        "regularizers.l1_l2(l1=0.001, l2=0.001)"
      ]
    },
    {
      "cell_type": "markdown",
      "metadata": {
        "id": "ultTwtPKTk3c"
      },
      "source": [
        "#### 드롭아웃 추가"
      ]
    },
    {
      "cell_type": "markdown",
      "metadata": {
        "id": "MWW1i75kTk3c"
      },
      "source": [
        "**IMDB 모델에 드롭아웃 추가하기**"
      ]
    },
    {
      "cell_type": "code",
      "execution_count": null,
      "metadata": {
        "execution": {
          "iopub.execute_input": "2022-05-21T01:08:04.241161Z",
          "iopub.status.busy": "2022-05-21T01:08:04.240762Z",
          "iopub.status.idle": "2022-05-21T01:08:13.113623Z",
          "shell.execute_reply": "2022-05-21T01:08:13.112554Z"
        },
        "id": "K6C938cRTk3d",
        "outputId": "cab61d67-bb61-424e-f606-f01b4aec4aec",
        "colab": {
          "base_uri": "https://localhost:8080/"
        }
      },
      "outputs": [
        {
          "output_type": "stream",
          "name": "stdout",
          "text": [
            "Epoch 1/20\n",
            "30/30 [==============================] - 2s 37ms/step - loss: 0.6394 - accuracy: 0.6262 - val_loss: 0.5249 - val_accuracy: 0.8433\n",
            "Epoch 2/20\n",
            "30/30 [==============================] - 1s 22ms/step - loss: 0.5247 - accuracy: 0.7531 - val_loss: 0.4134 - val_accuracy: 0.8722\n",
            "Epoch 3/20\n",
            "30/30 [==============================] - 1s 21ms/step - loss: 0.4367 - accuracy: 0.8188 - val_loss: 0.3441 - val_accuracy: 0.8766\n",
            "Epoch 4/20\n",
            "30/30 [==============================] - 1s 22ms/step - loss: 0.3715 - accuracy: 0.8570 - val_loss: 0.3002 - val_accuracy: 0.8856\n",
            "Epoch 5/20\n",
            "30/30 [==============================] - 1s 22ms/step - loss: 0.3236 - accuracy: 0.8821 - val_loss: 0.2817 - val_accuracy: 0.8929\n",
            "Epoch 6/20\n",
            "30/30 [==============================] - 1s 22ms/step - loss: 0.2814 - accuracy: 0.8973 - val_loss: 0.2889 - val_accuracy: 0.8803\n",
            "Epoch 7/20\n",
            "30/30 [==============================] - 1s 22ms/step - loss: 0.2499 - accuracy: 0.9121 - val_loss: 0.2747 - val_accuracy: 0.8940\n",
            "Epoch 8/20\n",
            "30/30 [==============================] - 1s 26ms/step - loss: 0.2197 - accuracy: 0.9281 - val_loss: 0.2865 - val_accuracy: 0.8903\n",
            "Epoch 9/20\n",
            "30/30 [==============================] - 1s 29ms/step - loss: 0.1983 - accuracy: 0.9359 - val_loss: 0.3085 - val_accuracy: 0.8901\n",
            "Epoch 10/20\n",
            "30/30 [==============================] - 1s 30ms/step - loss: 0.1809 - accuracy: 0.9456 - val_loss: 0.3147 - val_accuracy: 0.8894\n",
            "Epoch 11/20\n",
            "30/30 [==============================] - 1s 26ms/step - loss: 0.1619 - accuracy: 0.9508 - val_loss: 0.3341 - val_accuracy: 0.8890\n",
            "Epoch 12/20\n",
            "30/30 [==============================] - 1s 22ms/step - loss: 0.1424 - accuracy: 0.9531 - val_loss: 0.3532 - val_accuracy: 0.8870\n",
            "Epoch 13/20\n",
            "30/30 [==============================] - 1s 22ms/step - loss: 0.1310 - accuracy: 0.9593 - val_loss: 0.3662 - val_accuracy: 0.8887\n",
            "Epoch 14/20\n",
            "30/30 [==============================] - 1s 22ms/step - loss: 0.1216 - accuracy: 0.9631 - val_loss: 0.3979 - val_accuracy: 0.8886\n",
            "Epoch 15/20\n",
            "30/30 [==============================] - 1s 22ms/step - loss: 0.1117 - accuracy: 0.9663 - val_loss: 0.4015 - val_accuracy: 0.8880\n",
            "Epoch 16/20\n",
            "30/30 [==============================] - 1s 22ms/step - loss: 0.1022 - accuracy: 0.9685 - val_loss: 0.4369 - val_accuracy: 0.8886\n",
            "Epoch 17/20\n",
            "30/30 [==============================] - 1s 22ms/step - loss: 0.0999 - accuracy: 0.9681 - val_loss: 0.4553 - val_accuracy: 0.8875\n",
            "Epoch 18/20\n",
            "30/30 [==============================] - 1s 22ms/step - loss: 0.0901 - accuracy: 0.9707 - val_loss: 0.4918 - val_accuracy: 0.8888\n",
            "Epoch 19/20\n",
            "30/30 [==============================] - 1s 21ms/step - loss: 0.0849 - accuracy: 0.9719 - val_loss: 0.5229 - val_accuracy: 0.8871\n",
            "Epoch 20/20\n",
            "30/30 [==============================] - 1s 21ms/step - loss: 0.0871 - accuracy: 0.9707 - val_loss: 0.5527 - val_accuracy: 0.8845\n"
          ]
        }
      ],
      "source": [
        "model = keras.Sequential([\n",
        "    layers.Dense(16, activation=\"relu\"),\n",
        "    layers.Dropout(0.5),\n",
        "    layers.Dense(16, activation=\"relu\"),\n",
        "    layers.Dropout(0.5),\n",
        "    layers.Dense(1, activation=\"sigmoid\")\n",
        "])\n",
        "model.compile(optimizer=\"rmsprop\",\n",
        "              loss=\"binary_crossentropy\",\n",
        "              metrics=[\"accuracy\"])\n",
        "history_dropout = model.fit(\n",
        "    train_data, train_labels,\n",
        "    epochs=20, batch_size=512, validation_split=0.4)"
      ]
    },
    {
      "cell_type": "markdown",
      "metadata": {
        "id": "JuocOmx8Tk3d"
      },
      "source": [
        "## 요약"
      ]
    }
  ],
  "metadata": {
    "colab": {
      "name": "chapter05_fundamentals-of-ml.i",
      "provenance": []
    },
    "kernelspec": {
      "display_name": "default:Python",
      "language": "python",
      "name": "conda-env-default-py"
    },
    "language_info": {
      "codemirror_mode": {
        "name": "ipython",
        "version": 3
      },
      "file_extension": ".py",
      "mimetype": "text/x-python",
      "name": "python",
      "nbconvert_exporter": "python",
      "pygments_lexer": "ipython3",
      "version": "3.9.10"
    },
    "accelerator": "GPU",
    "gpuClass": "standard"
  },
  "nbformat": 4,
  "nbformat_minor": 0
}