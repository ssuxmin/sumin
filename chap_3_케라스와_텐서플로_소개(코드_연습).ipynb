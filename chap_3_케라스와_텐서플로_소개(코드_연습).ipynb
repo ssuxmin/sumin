{
  "nbformat": 4,
  "nbformat_minor": 0,
  "metadata": {
    "colab": {
      "provenance": [],
      "authorship_tag": "ABX9TyOFUGrLqr5FZeFRUGhm4a+Z",
      "include_colab_link": true
    },
    "kernelspec": {
      "name": "python3",
      "display_name": "Python 3"
    },
    "language_info": {
      "name": "python"
    }
  },
  "cells": [
    {
      "cell_type": "markdown",
      "metadata": {
        "id": "view-in-github",
        "colab_type": "text"
      },
      "source": [
        "<a href=\"https://colab.research.google.com/github/ssuxmin/tmp/blob/main/chap_3_%EC%BC%80%EB%9D%BC%EC%8A%A4%EC%99%80_%ED%85%90%EC%84%9C%ED%94%8C%EB%A1%9C_%EC%86%8C%EA%B0%9C(%EC%BD%94%EB%93%9C_%EC%97%B0%EC%8A%B5).ipynb\" target=\"_parent\"><img src=\"https://colab.research.google.com/assets/colab-badge.svg\" alt=\"Open In Colab\"/></a>"
      ]
    },
    {
      "cell_type": "markdown",
      "source": [
        "### 3.5.1 상수 텐서와 변수(p.121)"
      ],
      "metadata": {
        "id": "7-jj-AeDD_fJ"
      }
    },
    {
      "cell_type": "markdown",
      "source": [
        "**(코드 3-1) 모두 1 또는 0인 텐서** "
      ],
      "metadata": {
        "id": "21JQIyQ_D-oH"
      }
    },
    {
      "cell_type": "code",
      "source": [
        "import tensorflow as tf\n",
        "x=tf.ones(shape=(2,1))\n",
        "print(x)"
      ],
      "metadata": {
        "id": "7yTCXt1ED-ux",
        "outputId": "b3c8ca1b-707e-485b-ab78-92dc84166f32",
        "colab": {
          "base_uri": "https://localhost:8080/"
        }
      },
      "execution_count": 1,
      "outputs": [
        {
          "output_type": "stream",
          "name": "stdout",
          "text": [
            "tf.Tensor(\n",
            "[[1.]\n",
            " [1.]], shape=(2, 1), dtype=float32)\n"
          ]
        }
      ]
    },
    {
      "cell_type": "code",
      "source": [
        "x=tf.zeros(shape=(2,1))\n",
        "print(x)"
      ],
      "metadata": {
        "id": "KMTdGfarD-w-",
        "outputId": "e0362b88-5186-4094-9f4a-38a90ff16a2d",
        "colab": {
          "base_uri": "https://localhost:8080/"
        }
      },
      "execution_count": 2,
      "outputs": [
        {
          "output_type": "stream",
          "name": "stdout",
          "text": [
            "tf.Tensor(\n",
            "[[0.]\n",
            " [0.]], shape=(2, 1), dtype=float32)\n"
          ]
        }
      ]
    },
    {
      "cell_type": "markdown",
      "source": [
        "**(코드 3-2) 랜덤 텐서**"
      ],
      "metadata": {
        "id": "BK1SrNUoD-zt"
      }
    },
    {
      "cell_type": "code",
      "source": [
        "x=tf.random.normal(shape=(3,1), mean=0, stddev=1,) \n",
        "# 평균이 0, 표준편차가 1인 정규분포에서 뽑은 랜덤한 값으로 만든 텐서\n",
        "# np.random.normal(size=(3,1),loc=0., scale=1.) 와 같음!!!!!\n",
        "print(x)"
      ],
      "metadata": {
        "id": "8iKElqg-D-2A",
        "outputId": "4691c78a-08c6-4354-b51e-9936c4677f90",
        "colab": {
          "base_uri": "https://localhost:8080/"
        }
      },
      "execution_count": 3,
      "outputs": [
        {
          "output_type": "stream",
          "name": "stdout",
          "text": [
            "tf.Tensor(\n",
            "[[-0.62870735]\n",
            " [-2.3548834 ]\n",
            " [-0.09732541]], shape=(3, 1), dtype=float32)\n"
          ]
        }
      ]
    },
    {
      "cell_type": "code",
      "source": [
        "x=tf.random.uniform(shape=(3,1), minval=0, maxval=1.)\n",
        "# 0과 1 사이의 균등분포에서 뽑은 랜덤한 값으로 만든 텐서\n",
        "# np.random.normal(size=(3,1),low=0., high=1.) 와 같음!!!!!\n",
        "print(x)"
      ],
      "metadata": {
        "id": "KwExH6K7D-4d",
        "outputId": "fd98e19a-0d2d-4349-fe8a-cfbc7d71fd30",
        "colab": {
          "base_uri": "https://localhost:8080/"
        }
      },
      "execution_count": 5,
      "outputs": [
        {
          "output_type": "stream",
          "name": "stdout",
          "text": [
            "tf.Tensor(\n",
            "[[0.08670056]\n",
            " [0.5701883 ]\n",
            " [0.90638554]], shape=(3, 1), dtype=float32)\n"
          ]
        }
      ]
    },
    {
      "cell_type": "markdown",
      "source": [
        "**텐서플로 텐서는 상수!!   (값을 할당할 수 없음)** "
      ],
      "metadata": {
        "id": "Bzzg1oMXD-7j"
      }
    },
    {
      "cell_type": "markdown",
      "source": [
        "**(코드 3-3) 넘파이 배열에 값 할당하기**"
      ],
      "metadata": {
        "id": "jSq3TCIbGkfu"
      }
    },
    {
      "cell_type": "code",
      "source": [
        "import numpy as np\n",
        "x= np.ones(shape=(2,2))\n",
        "x[0,0]=0."
      ],
      "metadata": {
        "id": "C9IWun61GkiC"
      },
      "execution_count": 6,
      "outputs": []
    },
    {
      "cell_type": "code",
      "source": [
        "x"
      ],
      "metadata": {
        "id": "og8Q3sNWGkkg",
        "outputId": "2b7ee2ea-35c0-42e1-eb58-2c5fb84831a1",
        "colab": {
          "base_uri": "https://localhost:8080/"
        }
      },
      "execution_count": 7,
      "outputs": [
        {
          "output_type": "execute_result",
          "data": {
            "text/plain": [
              "array([[0., 1.],\n",
              "       [1., 1.]])"
            ]
          },
          "metadata": {},
          "execution_count": 7
        }
      ]
    },
    {
      "cell_type": "markdown",
      "source": [
        "**(코드3-4) 텐서플로 텐서에 값을 할당 못하는 예제**"
      ],
      "metadata": {
        "id": "RRRCSBdsKT9h"
      }
    },
    {
      "cell_type": "code",
      "source": [
        "x= tf.ones(shape=(2,2))\n",
        "x[0,0]=0.    # 텐서에는 값을 할당할 수 없기 때문에 에러 발생!"
      ],
      "metadata": {
        "id": "d8r-vcFVKUBS",
        "outputId": "3cc9c755-d365-40dc-957b-7150e05b991e",
        "colab": {
          "base_uri": "https://localhost:8080/",
          "height": 190
        }
      },
      "execution_count": 8,
      "outputs": [
        {
          "output_type": "error",
          "ename": "TypeError",
          "evalue": "ignored",
          "traceback": [
            "\u001b[0;31m---------------------------------------------------------------------------\u001b[0m",
            "\u001b[0;31mTypeError\u001b[0m                                 Traceback (most recent call last)",
            "\u001b[0;32m<ipython-input-8-67d7b143f010>\u001b[0m in \u001b[0;36m<module>\u001b[0;34m\u001b[0m\n\u001b[1;32m      1\u001b[0m \u001b[0mx\u001b[0m\u001b[0;34m=\u001b[0m \u001b[0mtf\u001b[0m\u001b[0;34m.\u001b[0m\u001b[0mones\u001b[0m\u001b[0;34m(\u001b[0m\u001b[0mshape\u001b[0m\u001b[0;34m=\u001b[0m\u001b[0;34m(\u001b[0m\u001b[0;36m2\u001b[0m\u001b[0;34m,\u001b[0m\u001b[0;36m2\u001b[0m\u001b[0;34m)\u001b[0m\u001b[0;34m)\u001b[0m\u001b[0;34m\u001b[0m\u001b[0;34m\u001b[0m\u001b[0m\n\u001b[0;32m----> 2\u001b[0;31m \u001b[0mx\u001b[0m\u001b[0;34m[\u001b[0m\u001b[0;36m0\u001b[0m\u001b[0;34m,\u001b[0m\u001b[0;36m0\u001b[0m\u001b[0;34m]\u001b[0m\u001b[0;34m=\u001b[0m\u001b[0;36m0.\u001b[0m\u001b[0;34m\u001b[0m\u001b[0;34m\u001b[0m\u001b[0m\n\u001b[0m",
            "\u001b[0;31mTypeError\u001b[0m: 'tensorflow.python.framework.ops.EagerTensor' object does not support item assignment"
          ]
        }
      ]
    },
    {
      "cell_type": "markdown",
      "source": [
        "**(코드3-5) 텐서플로 변수 만들기**"
      ],
      "metadata": {
        "id": "70uP6okhKUDg"
      }
    },
    {
      "cell_type": "code",
      "source": [
        "v=tf.Variable(initial_value=tf.random.normal(shape=(3,1)))\n",
        "print(v)"
      ],
      "metadata": {
        "id": "C9EbCMfAKUGF",
        "outputId": "60affa0d-3a17-48c6-9b78-cada054daac1",
        "colab": {
          "base_uri": "https://localhost:8080/"
        }
      },
      "execution_count": 10,
      "outputs": [
        {
          "output_type": "stream",
          "name": "stdout",
          "text": [
            "<tf.Variable 'Variable:0' shape=(3, 1) dtype=float32, numpy=\n",
            "array([[-1.1065823 ],\n",
            "       [-0.97207433],\n",
            "       [-0.6407829 ]], dtype=float32)>\n"
          ]
        }
      ]
    },
    {
      "cell_type": "markdown",
      "source": [
        "**(코드3-6) 텐서플로 변수에 값 할당하기**"
      ],
      "metadata": {
        "id": "kqqOBPVuKUIS"
      }
    },
    {
      "cell_type": "code",
      "source": [
        "v.assign(tf.ones((3,1)))"
      ],
      "metadata": {
        "id": "dMNoNF0hLdXx",
        "outputId": "e7c9c74c-8ba6-4c9a-da5c-204d13330515",
        "colab": {
          "base_uri": "https://localhost:8080/"
        }
      },
      "execution_count": 13,
      "outputs": [
        {
          "output_type": "execute_result",
          "data": {
            "text/plain": [
              "<tf.Variable 'UnreadVariable' shape=(3, 1) dtype=float32, numpy=\n",
              "array([[1.],\n",
              "       [1.],\n",
              "       [1.]], dtype=float32)>"
            ]
          },
          "metadata": {},
          "execution_count": 13
        }
      ]
    },
    {
      "cell_type": "markdown",
      "source": [
        "**(코드3-7) 변수 일부에 값 할당하기**"
      ],
      "metadata": {
        "id": "0iGbn5sPLdjR"
      }
    },
    {
      "cell_type": "code",
      "source": [
        "v[0,0].assign(3.)"
      ],
      "metadata": {
        "id": "KoTqC5wRLvmB",
        "outputId": "81229170-1c90-4fae-f59e-041bdc64e735",
        "colab": {
          "base_uri": "https://localhost:8080/"
        }
      },
      "execution_count": 14,
      "outputs": [
        {
          "output_type": "execute_result",
          "data": {
            "text/plain": [
              "<tf.Variable 'UnreadVariable' shape=(3, 1) dtype=float32, numpy=\n",
              "array([[3.],\n",
              "       [1.],\n",
              "       [1.]], dtype=float32)>"
            ]
          },
          "metadata": {},
          "execution_count": 14
        }
      ]
    },
    {
      "cell_type": "markdown",
      "source": [
        "**(코드3-8) assign.add() 사용하기**"
      ],
      "metadata": {
        "id": "3yGH7g89D_DM"
      }
    },
    {
      "cell_type": "code",
      "source": [
        "v.assign_add(tf.ones((3,1)))"
      ],
      "metadata": {
        "id": "VVdMxsnALvwd",
        "outputId": "3d7e87d6-e40c-4dc8-96a9-bea802a980fd",
        "colab": {
          "base_uri": "https://localhost:8080/"
        }
      },
      "execution_count": 15,
      "outputs": [
        {
          "output_type": "execute_result",
          "data": {
            "text/plain": [
              "<tf.Variable 'UnreadVariable' shape=(3, 1) dtype=float32, numpy=\n",
              "array([[4.],\n",
              "       [2.],\n",
              "       [2.]], dtype=float32)>"
            ]
          },
          "metadata": {},
          "execution_count": 15
        }
      ]
    },
    {
      "cell_type": "markdown",
      "source": [
        "### 3.5.2 텐서 연산 : 텐서플로에서 수학 계산하기"
      ],
      "metadata": {
        "id": "xnjpI5aCNcQS"
      }
    },
    {
      "cell_type": "markdown",
      "source": [
        "****(코드3-9) 기본적인 수학 연산**"
      ],
      "metadata": {
        "id": "0Tep2lxPNcW5"
      }
    },
    {
      "cell_type": "code",
      "source": [
        "a = tf.ones((2, 2))\n",
        "b = tf.square(a)      # 제곱\n",
        "c = tf.sqrt(a)        # 제곱근\n",
        "d = b + c             # 두 텐서 더함\n",
        "e = tf.matmul(a, b)   # 두 텐서의 점곱 계산\n",
        "e *= d                # 두 텐서를 곱함 "
      ],
      "metadata": {
        "id": "11qzW97rNu06"
      },
      "execution_count": 16,
      "outputs": []
    },
    {
      "cell_type": "markdown",
      "source": [
        "### 3.5.3 GradientTape API 다시 살펴보기(p.124)"
      ],
      "metadata": {
        "id": "iIlO6ggUODBA"
      }
    },
    {
      "cell_type": "code",
      "source": [],
      "metadata": {
        "id": "wo--BfjoONUN"
      },
      "execution_count": null,
      "outputs": []
    },
    {
      "cell_type": "code",
      "source": [],
      "metadata": {
        "id": "uwkun8YzONjU"
      },
      "execution_count": null,
      "outputs": []
    }
  ]
}