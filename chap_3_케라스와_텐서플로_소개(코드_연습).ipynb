{
  "nbformat": 4,
  "nbformat_minor": 0,
  "metadata": {
    "colab": {
      "provenance": [],
      "authorship_tag": "ABX9TyOlpxwXgxKYjS5ti70nNtno",
      "include_colab_link": true
    },
    "kernelspec": {
      "name": "python3",
      "display_name": "Python 3"
    },
    "language_info": {
      "name": "python"
    }
  },
  "cells": [
    {
      "cell_type": "markdown",
      "metadata": {
        "id": "view-in-github",
        "colab_type": "text"
      },
      "source": [
        "<a href=\"https://colab.research.google.com/github/ssuxmin/tmp/blob/main/chap_3_%EC%BC%80%EB%9D%BC%EC%8A%A4%EC%99%80_%ED%85%90%EC%84%9C%ED%94%8C%EB%A1%9C_%EC%86%8C%EA%B0%9C(%EC%BD%94%EB%93%9C_%EC%97%B0%EC%8A%B5).ipynb\" target=\"_parent\"><img src=\"https://colab.research.google.com/assets/colab-badge.svg\" alt=\"Open In Colab\"/></a>"
      ]
    },
    {
      "cell_type": "code",
      "execution_count": null,
      "metadata": {
        "id": "_tF1IDxpo1BQ"
      },
      "outputs": [],
      "source": []
    }
  ]
}