{
  "cells": [
    {
      "cell_type": "markdown",
      "metadata": {
        "id": "TD2VFLNa1qIr"
      },
      "source": [
        "이 노트북은 [케라스 창시자에게 배우는 딥러닝 2판](https://tensorflow.blog/kerasdl2/)의 예제 코드를 담고 있습니다.\n",
        "\n",
        "<table align=\"left\"><tr><td>\n",
        "<a href=\"https://colab.research.google.com/github/rickiepark/deep-learning-with-python-2nd/blob/master/chapter02_mathematical-building-blocks.ipynb\" target=\"_parent\"><img src=\"https://colab.research.google.com/assets/colab-badge.svg\" alt=\"Open In Colab\"/></a>\n",
        "</td></tr></table>"
      ]
    },
    {
      "cell_type": "markdown",
      "metadata": {
        "id": "mokNYTez1qIt"
      },
      "source": [
        "# 신경망의 수학적 구성 요소"
      ]
    },
    {
      "cell_type": "markdown",
      "metadata": {
        "id": "TEnmFpmg1qIu"
      },
      "source": [
        "## 신경망과의 첫 만남"
      ]
    },
    {
      "cell_type": "markdown",
      "metadata": {
        "id": "nlRV5eGp1qIu"
      },
      "source": [
        "**케라스에서 MNIST 데이터셋 적재하기**"
      ]
    },
    {
      "cell_type": "code",
      "execution_count": 24,
      "metadata": {
        "execution": {
          "iopub.execute_input": "2022-05-21T00:57:05.419691Z",
          "iopub.status.busy": "2022-05-21T00:57:05.419221Z",
          "iopub.status.idle": "2022-05-21T00:57:07.931588Z",
          "shell.execute_reply": "2022-05-21T00:57:07.930532Z"
        },
        "id": "Kbsv3tf21qIu"
      },
      "outputs": [],
      "source": [
        "from tensorflow.keras.datasets import mnist\n",
        "(train_images, train_labels), (test_images, test_labels) = mnist.load_data()"
      ]
    },
    {
      "cell_type": "code",
      "execution_count": 25,
      "metadata": {
        "execution": {
          "iopub.execute_input": "2022-05-21T00:57:07.936250Z",
          "iopub.status.busy": "2022-05-21T00:57:07.935565Z",
          "iopub.status.idle": "2022-05-21T00:57:07.945910Z",
          "shell.execute_reply": "2022-05-21T00:57:07.945184Z"
        },
        "id": "GjsNOiRZ1qIw",
        "outputId": "a2f9deec-2f49-4b48-bfd9-2f9778916287",
        "colab": {
          "base_uri": "https://localhost:8080/"
        }
      },
      "outputs": [
        {
          "output_type": "execute_result",
          "data": {
            "text/plain": [
              "(60000, 28, 28)"
            ]
          },
          "metadata": {},
          "execution_count": 25
        }
      ],
      "source": [
        "train_images.shape"
      ]
    },
    {
      "cell_type": "code",
      "execution_count": 26,
      "metadata": {
        "execution": {
          "iopub.execute_input": "2022-05-21T00:57:07.949595Z",
          "iopub.status.busy": "2022-05-21T00:57:07.948880Z",
          "iopub.status.idle": "2022-05-21T00:57:07.953413Z",
          "shell.execute_reply": "2022-05-21T00:57:07.952780Z"
        },
        "id": "BMvJUobh1qIw",
        "outputId": "784ea10b-92d4-4ea0-9282-5bacfec2122d",
        "colab": {
          "base_uri": "https://localhost:8080/"
        }
      },
      "outputs": [
        {
          "output_type": "execute_result",
          "data": {
            "text/plain": [
              "60000"
            ]
          },
          "metadata": {},
          "execution_count": 26
        }
      ],
      "source": [
        "len(train_labels)"
      ]
    },
    {
      "cell_type": "code",
      "execution_count": 27,
      "metadata": {
        "execution": {
          "iopub.execute_input": "2022-05-21T00:57:07.956620Z",
          "iopub.status.busy": "2022-05-21T00:57:07.956158Z",
          "iopub.status.idle": "2022-05-21T00:57:07.961433Z",
          "shell.execute_reply": "2022-05-21T00:57:07.960670Z"
        },
        "id": "VhW9RYKv1qIw",
        "outputId": "978f12cf-c918-492e-dc81-38f02e031056",
        "colab": {
          "base_uri": "https://localhost:8080/"
        }
      },
      "outputs": [
        {
          "output_type": "execute_result",
          "data": {
            "text/plain": [
              "array([5, 0, 4, ..., 5, 6, 8], dtype=uint8)"
            ]
          },
          "metadata": {},
          "execution_count": 27
        }
      ],
      "source": [
        "train_labels"
      ]
    },
    {
      "cell_type": "code",
      "execution_count": 28,
      "metadata": {
        "execution": {
          "iopub.execute_input": "2022-05-21T00:57:07.964700Z",
          "iopub.status.busy": "2022-05-21T00:57:07.964447Z",
          "iopub.status.idle": "2022-05-21T00:57:07.969443Z",
          "shell.execute_reply": "2022-05-21T00:57:07.968645Z"
        },
        "id": "s-H4DSiI1qIx",
        "outputId": "45c64d33-8869-41ef-fd95-b24894b51206",
        "colab": {
          "base_uri": "https://localhost:8080/"
        }
      },
      "outputs": [
        {
          "output_type": "execute_result",
          "data": {
            "text/plain": [
              "(10000, 28, 28)"
            ]
          },
          "metadata": {},
          "execution_count": 28
        }
      ],
      "source": [
        "test_images.shape"
      ]
    },
    {
      "cell_type": "code",
      "execution_count": 29,
      "metadata": {
        "execution": {
          "iopub.execute_input": "2022-05-21T00:57:07.973895Z",
          "iopub.status.busy": "2022-05-21T00:57:07.973604Z",
          "iopub.status.idle": "2022-05-21T00:57:07.978539Z",
          "shell.execute_reply": "2022-05-21T00:57:07.977669Z"
        },
        "id": "arJVF8HY1qIx",
        "outputId": "2ab08bec-ec30-4cdf-c20e-c4bdc5473574",
        "colab": {
          "base_uri": "https://localhost:8080/"
        }
      },
      "outputs": [
        {
          "output_type": "execute_result",
          "data": {
            "text/plain": [
              "10000"
            ]
          },
          "metadata": {},
          "execution_count": 29
        }
      ],
      "source": [
        "len(test_labels)"
      ]
    },
    {
      "cell_type": "code",
      "execution_count": 30,
      "metadata": {
        "execution": {
          "iopub.execute_input": "2022-05-21T00:57:07.982841Z",
          "iopub.status.busy": "2022-05-21T00:57:07.982277Z",
          "iopub.status.idle": "2022-05-21T00:57:07.987700Z",
          "shell.execute_reply": "2022-05-21T00:57:07.986719Z"
        },
        "id": "9mGmW7a81qIy",
        "outputId": "ec4c988b-b832-4467-969d-84f96acd900a",
        "colab": {
          "base_uri": "https://localhost:8080/"
        }
      },
      "outputs": [
        {
          "output_type": "execute_result",
          "data": {
            "text/plain": [
              "array([7, 2, 1, ..., 4, 5, 6], dtype=uint8)"
            ]
          },
          "metadata": {},
          "execution_count": 30
        }
      ],
      "source": [
        "test_labels"
      ]
    },
    {
      "cell_type": "markdown",
      "metadata": {
        "id": "lkR5Kdxs1qIy"
      },
      "source": [
        "**신경망 구조**"
      ]
    },
    {
      "cell_type": "code",
      "execution_count": 31,
      "metadata": {
        "execution": {
          "iopub.execute_input": "2022-05-21T00:57:07.991164Z",
          "iopub.status.busy": "2022-05-21T00:57:07.990885Z",
          "iopub.status.idle": "2022-05-21T00:57:08.025097Z",
          "shell.execute_reply": "2022-05-21T00:57:08.023960Z"
        },
        "id": "nGjggIFO1qIy"
      },
      "outputs": [],
      "source": [
        "from tensorflow import keras\n",
        "from tensorflow.keras import layers\n",
        "model = keras.Sequential([\n",
        "    layers.Dense(512, activation=\"relu\"),\n",
        "    layers.Dense(10, activation=\"softmax\")\n",
        "])"
      ]
    },
    {
      "cell_type": "markdown",
      "metadata": {
        "id": "ztkKhME61qIy"
      },
      "source": [
        "**컴파일 단계**"
      ]
    },
    {
      "cell_type": "code",
      "execution_count": 32,
      "metadata": {
        "execution": {
          "iopub.execute_input": "2022-05-21T00:57:08.029264Z",
          "iopub.status.busy": "2022-05-21T00:57:08.028955Z",
          "iopub.status.idle": "2022-05-21T00:57:08.043873Z",
          "shell.execute_reply": "2022-05-21T00:57:08.042917Z"
        },
        "id": "XAll1_qf1qIz"
      },
      "outputs": [],
      "source": [
        "model.compile(optimizer=\"rmsprop\",\n",
        "              loss=\"sparse_categorical_crossentropy\",\n",
        "              metrics=[\"accuracy\"])"
      ]
    },
    {
      "cell_type": "markdown",
      "metadata": {
        "id": "IfXepSHu1qIz"
      },
      "source": [
        "**이미지 데이터 준비하기**"
      ]
    },
    {
      "cell_type": "code",
      "execution_count": 33,
      "metadata": {
        "execution": {
          "iopub.execute_input": "2022-05-21T00:57:08.047878Z",
          "iopub.status.busy": "2022-05-21T00:57:08.047587Z",
          "iopub.status.idle": "2022-05-21T00:57:08.461821Z",
          "shell.execute_reply": "2022-05-21T00:57:08.460699Z"
        },
        "id": "0VedXTKL1qIz"
      },
      "outputs": [],
      "source": [
        "train_images = train_images.reshape((60000, 28 * 28))\n",
        "train_images = train_images.astype(\"float32\") / 255\n",
        "test_images = test_images.reshape((10000, 28 * 28))\n",
        "test_images = test_images.astype(\"float32\") / 255"
      ]
    },
    {
      "cell_type": "markdown",
      "metadata": {
        "id": "r9cuYTKi1qIz"
      },
      "source": [
        "**모델 훈련**"
      ]
    },
    {
      "cell_type": "code",
      "execution_count": 34,
      "metadata": {
        "execution": {
          "iopub.execute_input": "2022-05-21T00:57:08.466297Z",
          "iopub.status.busy": "2022-05-21T00:57:08.465542Z",
          "iopub.status.idle": "2022-05-21T00:57:19.300649Z",
          "shell.execute_reply": "2022-05-21T00:57:19.299825Z"
        },
        "id": "LstMGeYK1qIz",
        "outputId": "955e18af-2eed-4bf2-9c87-3f7ff82a5dde",
        "colab": {
          "base_uri": "https://localhost:8080/"
        }
      },
      "outputs": [
        {
          "output_type": "stream",
          "name": "stdout",
          "text": [
            "Epoch 1/5\n",
            "469/469 [==============================] - 2s 3ms/step - loss: 0.2694 - accuracy: 0.9220\n",
            "Epoch 2/5\n",
            "469/469 [==============================] - 1s 3ms/step - loss: 0.1083 - accuracy: 0.9682\n",
            "Epoch 3/5\n",
            "469/469 [==============================] - 1s 3ms/step - loss: 0.0714 - accuracy: 0.9788\n",
            "Epoch 4/5\n",
            "469/469 [==============================] - 1s 3ms/step - loss: 0.0520 - accuracy: 0.9845\n",
            "Epoch 5/5\n",
            "469/469 [==============================] - 1s 3ms/step - loss: 0.0398 - accuracy: 0.9880\n"
          ]
        },
        {
          "output_type": "execute_result",
          "data": {
            "text/plain": [
              "<keras.callbacks.History at 0x7f09696b3340>"
            ]
          },
          "metadata": {},
          "execution_count": 34
        }
      ],
      "source": [
        "model.fit(train_images, train_labels, epochs=5, batch_size=128)"
      ]
    },
    {
      "cell_type": "markdown",
      "metadata": {
        "id": "iQgihs241qI0"
      },
      "source": [
        "**모델을 사용해 예측 만들기**"
      ]
    },
    {
      "cell_type": "code",
      "execution_count": 35,
      "metadata": {
        "execution": {
          "iopub.execute_input": "2022-05-21T00:57:19.304176Z",
          "iopub.status.busy": "2022-05-21T00:57:19.303848Z",
          "iopub.status.idle": "2022-05-21T00:57:19.406311Z",
          "shell.execute_reply": "2022-05-21T00:57:19.405251Z"
        },
        "id": "qV8_w05L1qI0",
        "outputId": "a0fedc80-4e7d-4ff3-b84a-a647cc8b54b3",
        "colab": {
          "base_uri": "https://localhost:8080/"
        }
      },
      "outputs": [
        {
          "output_type": "stream",
          "name": "stdout",
          "text": [
            "1/1 [==============================] - 0s 53ms/step\n"
          ]
        },
        {
          "output_type": "execute_result",
          "data": {
            "text/plain": [
              "array([3.3438843e-07, 2.0865620e-08, 4.5337089e-05, 7.2763301e-05,\n",
              "       3.1050169e-11, 1.2524531e-07, 1.4152874e-11, 9.9987841e-01,\n",
              "       5.9312561e-07, 2.4361207e-06], dtype=float32)"
            ]
          },
          "metadata": {},
          "execution_count": 35
        }
      ],
      "source": [
        "test_digits = test_images[0:10]\n",
        "predictions = model.predict(test_digits)\n",
        "predictions[0]"
      ]
    },
    {
      "cell_type": "code",
      "execution_count": 36,
      "metadata": {
        "execution": {
          "iopub.execute_input": "2022-05-21T00:57:19.410311Z",
          "iopub.status.busy": "2022-05-21T00:57:19.409575Z",
          "iopub.status.idle": "2022-05-21T00:57:19.414980Z",
          "shell.execute_reply": "2022-05-21T00:57:19.414116Z"
        },
        "id": "zc_2oAmH1qI0",
        "outputId": "07ea3c27-3b57-4eab-b8bd-2499fd62c77c",
        "colab": {
          "base_uri": "https://localhost:8080/"
        }
      },
      "outputs": [
        {
          "output_type": "execute_result",
          "data": {
            "text/plain": [
              "7"
            ]
          },
          "metadata": {},
          "execution_count": 36
        }
      ],
      "source": [
        "predictions[0].argmax()"
      ]
    },
    {
      "cell_type": "code",
      "execution_count": 37,
      "metadata": {
        "execution": {
          "iopub.execute_input": "2022-05-21T00:57:19.418674Z",
          "iopub.status.busy": "2022-05-21T00:57:19.418395Z",
          "iopub.status.idle": "2022-05-21T00:57:19.424303Z",
          "shell.execute_reply": "2022-05-21T00:57:19.423160Z"
        },
        "id": "G96ao1pL1qI0",
        "outputId": "08da6d46-3856-4943-9fda-e172803d2a96",
        "colab": {
          "base_uri": "https://localhost:8080/"
        }
      },
      "outputs": [
        {
          "output_type": "execute_result",
          "data": {
            "text/plain": [
              "0.9998784"
            ]
          },
          "metadata": {},
          "execution_count": 37
        }
      ],
      "source": [
        "predictions[0][7]"
      ]
    },
    {
      "cell_type": "code",
      "execution_count": 38,
      "metadata": {
        "execution": {
          "iopub.execute_input": "2022-05-21T00:57:19.428684Z",
          "iopub.status.busy": "2022-05-21T00:57:19.428277Z",
          "iopub.status.idle": "2022-05-21T00:57:19.433154Z",
          "shell.execute_reply": "2022-05-21T00:57:19.432273Z"
        },
        "id": "CmsTCGMe1qI0",
        "outputId": "801b1272-82df-424b-b51a-3a45a030e047",
        "colab": {
          "base_uri": "https://localhost:8080/"
        }
      },
      "outputs": [
        {
          "output_type": "execute_result",
          "data": {
            "text/plain": [
              "7"
            ]
          },
          "metadata": {},
          "execution_count": 38
        }
      ],
      "source": [
        "test_labels[0]"
      ]
    },
    {
      "cell_type": "markdown",
      "metadata": {
        "id": "xz0O7yfW1qI1"
      },
      "source": [
        "**새로운 데이터에서 모델 평가하기**"
      ]
    },
    {
      "cell_type": "code",
      "execution_count": 39,
      "metadata": {
        "execution": {
          "iopub.execute_input": "2022-05-21T00:57:19.437738Z",
          "iopub.status.busy": "2022-05-21T00:57:19.437092Z",
          "iopub.status.idle": "2022-05-21T00:57:20.109805Z",
          "shell.execute_reply": "2022-05-21T00:57:20.109057Z"
        },
        "id": "5n06x08R1qI1",
        "outputId": "db130b92-94f3-40bd-8415-0ad0644bd743",
        "colab": {
          "base_uri": "https://localhost:8080/"
        }
      },
      "outputs": [
        {
          "output_type": "stream",
          "name": "stdout",
          "text": [
            "313/313 [==============================] - 1s 3ms/step - loss: 0.0630 - accuracy: 0.9802\n",
            "테스트 정확도: 0.9801999926567078\n"
          ]
        }
      ],
      "source": [
        "test_loss, test_acc = model.evaluate(test_images, test_labels)\n",
        "print(f\"테스트 정확도: {test_acc}\")"
      ]
    },
    {
      "cell_type": "code",
      "source": [],
      "metadata": {
        "id": "iA4T6zFLtpxb"
      },
      "execution_count": 39,
      "outputs": []
    },
    {
      "cell_type": "markdown",
      "metadata": {
        "id": "_sf8F4Lt1qI1"
      },
      "source": [
        "## 신경망을 위한 데이터 표현"
      ]
    },
    {
      "cell_type": "markdown",
      "metadata": {
        "id": "0rIygsuR1qI1"
      },
      "source": [
        "### 스칼라 (랭크-0 텐서)"
      ]
    },
    {
      "cell_type": "code",
      "execution_count": 40,
      "metadata": {
        "execution": {
          "iopub.execute_input": "2022-05-21T00:57:20.113826Z",
          "iopub.status.busy": "2022-05-21T00:57:20.113141Z",
          "iopub.status.idle": "2022-05-21T00:57:20.119204Z",
          "shell.execute_reply": "2022-05-21T00:57:20.118308Z"
        },
        "id": "zaKeHFt51qI1",
        "outputId": "0bd23743-a00e-4a92-a1ac-2a33ddb6b582",
        "colab": {
          "base_uri": "https://localhost:8080/"
        }
      },
      "outputs": [
        {
          "output_type": "execute_result",
          "data": {
            "text/plain": [
              "array(12)"
            ]
          },
          "metadata": {},
          "execution_count": 40
        }
      ],
      "source": [
        "import numpy as np\n",
        "x = np.array(12)\n",
        "x"
      ]
    },
    {
      "cell_type": "code",
      "execution_count": 41,
      "metadata": {
        "execution": {
          "iopub.execute_input": "2022-05-21T00:57:20.122738Z",
          "iopub.status.busy": "2022-05-21T00:57:20.122472Z",
          "iopub.status.idle": "2022-05-21T00:57:20.127154Z",
          "shell.execute_reply": "2022-05-21T00:57:20.126388Z"
        },
        "id": "L7qdT7rT1qI1",
        "outputId": "794b15e4-3664-4989-96ea-7ca3694aa5c3",
        "colab": {
          "base_uri": "https://localhost:8080/"
        }
      },
      "outputs": [
        {
          "output_type": "execute_result",
          "data": {
            "text/plain": [
              "0"
            ]
          },
          "metadata": {},
          "execution_count": 41
        }
      ],
      "source": [
        "x.ndim"
      ]
    },
    {
      "cell_type": "markdown",
      "metadata": {
        "id": "UBwl26_c1qI2"
      },
      "source": [
        "### 벡터 (랭크-1 텐서)"
      ]
    },
    {
      "cell_type": "code",
      "execution_count": 42,
      "metadata": {
        "execution": {
          "iopub.execute_input": "2022-05-21T00:57:20.131021Z",
          "iopub.status.busy": "2022-05-21T00:57:20.130223Z",
          "iopub.status.idle": "2022-05-21T00:57:20.135705Z",
          "shell.execute_reply": "2022-05-21T00:57:20.135002Z"
        },
        "id": "_FZ_X24k1qI2",
        "outputId": "3b4fa1f7-64c3-40a5-b2db-bb86af686133",
        "colab": {
          "base_uri": "https://localhost:8080/"
        }
      },
      "outputs": [
        {
          "output_type": "execute_result",
          "data": {
            "text/plain": [
              "array([12,  3,  6, 14,  7])"
            ]
          },
          "metadata": {},
          "execution_count": 42
        }
      ],
      "source": [
        "x = np.array([12, 3, 6, 14, 7])\n",
        "x"
      ]
    },
    {
      "cell_type": "code",
      "execution_count": 43,
      "metadata": {
        "execution": {
          "iopub.execute_input": "2022-05-21T00:57:20.139180Z",
          "iopub.status.busy": "2022-05-21T00:57:20.138695Z",
          "iopub.status.idle": "2022-05-21T00:57:20.143498Z",
          "shell.execute_reply": "2022-05-21T00:57:20.142627Z"
        },
        "id": "bGycblhT1qI2",
        "outputId": "2578ed5d-4f13-4a86-ed79-dfc331fba530",
        "colab": {
          "base_uri": "https://localhost:8080/"
        }
      },
      "outputs": [
        {
          "output_type": "execute_result",
          "data": {
            "text/plain": [
              "1"
            ]
          },
          "metadata": {},
          "execution_count": 43
        }
      ],
      "source": [
        "x.ndim"
      ]
    },
    {
      "cell_type": "markdown",
      "metadata": {
        "id": "aEgHXF7o1qI2"
      },
      "source": [
        "### 행렬 (랭크-2 텐서)"
      ]
    },
    {
      "cell_type": "code",
      "execution_count": 44,
      "metadata": {
        "execution": {
          "iopub.execute_input": "2022-05-21T00:57:20.146816Z",
          "iopub.status.busy": "2022-05-21T00:57:20.146544Z",
          "iopub.status.idle": "2022-05-21T00:57:20.153035Z",
          "shell.execute_reply": "2022-05-21T00:57:20.152330Z"
        },
        "id": "w4Pfesli1qI2",
        "outputId": "42d7313b-d17e-4ca9-baa4-5a2fb799c038",
        "colab": {
          "base_uri": "https://localhost:8080/"
        }
      },
      "outputs": [
        {
          "output_type": "execute_result",
          "data": {
            "text/plain": [
              "2"
            ]
          },
          "metadata": {},
          "execution_count": 44
        }
      ],
      "source": [
        "x = np.array([[5, 78, 2, 34, 0],\n",
        "              [6, 79, 3, 35, 1],\n",
        "              [7, 80, 4, 36, 2]])\n",
        "x.ndim"
      ]
    },
    {
      "cell_type": "markdown",
      "metadata": {
        "id": "WY7v3OYg1qI2"
      },
      "source": [
        "### 랭크-3 텐서와 더 높은 랭크의 텐서"
      ]
    },
    {
      "cell_type": "code",
      "execution_count": 45,
      "metadata": {
        "execution": {
          "iopub.execute_input": "2022-05-21T00:57:20.156415Z",
          "iopub.status.busy": "2022-05-21T00:57:20.156159Z",
          "iopub.status.idle": "2022-05-21T00:57:20.163001Z",
          "shell.execute_reply": "2022-05-21T00:57:20.162138Z"
        },
        "id": "EJw4bMhQ1qI3",
        "outputId": "97e78fc4-e5ea-4505-995b-806c1a1c6d01",
        "colab": {
          "base_uri": "https://localhost:8080/"
        }
      },
      "outputs": [
        {
          "output_type": "execute_result",
          "data": {
            "text/plain": [
              "3"
            ]
          },
          "metadata": {},
          "execution_count": 45
        }
      ],
      "source": [
        "x = np.array([[[5, 78, 2, 34, 0],\n",
        "               [6, 79, 3, 35, 1],\n",
        "               [7, 80, 4, 36, 2]],\n",
        "              [[5, 78, 2, 34, 0],\n",
        "               [6, 79, 3, 35, 1],\n",
        "               [7, 80, 4, 36, 2]],\n",
        "              [[5, 78, 2, 34, 0],\n",
        "               [6, 79, 3, 35, 1],\n",
        "               [7, 80, 4, 36, 2]]])\n",
        "x.ndim"
      ]
    },
    {
      "cell_type": "markdown",
      "metadata": {
        "id": "wKerwOYq1qI3"
      },
      "source": [
        "### 핵심 속성"
      ]
    },
    {
      "cell_type": "code",
      "execution_count": 46,
      "metadata": {
        "execution": {
          "iopub.execute_input": "2022-05-21T00:57:20.166433Z",
          "iopub.status.busy": "2022-05-21T00:57:20.166160Z",
          "iopub.status.idle": "2022-05-21T00:57:20.596456Z",
          "shell.execute_reply": "2022-05-21T00:57:20.595567Z"
        },
        "id": "TTHc4oX71qI3"
      },
      "outputs": [],
      "source": [
        "from tensorflow.keras.datasets import mnist\n",
        "(train_images, train_labels), (test_images, test_labels) = mnist.load_data()"
      ]
    },
    {
      "cell_type": "code",
      "execution_count": 47,
      "metadata": {
        "execution": {
          "iopub.execute_input": "2022-05-21T00:57:20.600816Z",
          "iopub.status.busy": "2022-05-21T00:57:20.600517Z",
          "iopub.status.idle": "2022-05-21T00:57:20.605652Z",
          "shell.execute_reply": "2022-05-21T00:57:20.604662Z"
        },
        "id": "o5fj8Tyc1qI3",
        "outputId": "b0843602-0a31-414b-c4b2-60646eea4e15",
        "colab": {
          "base_uri": "https://localhost:8080/"
        }
      },
      "outputs": [
        {
          "output_type": "execute_result",
          "data": {
            "text/plain": [
              "3"
            ]
          },
          "metadata": {},
          "execution_count": 47
        }
      ],
      "source": [
        "train_images.ndim"
      ]
    },
    {
      "cell_type": "code",
      "execution_count": 48,
      "metadata": {
        "execution": {
          "iopub.execute_input": "2022-05-21T00:57:20.608889Z",
          "iopub.status.busy": "2022-05-21T00:57:20.608612Z",
          "iopub.status.idle": "2022-05-21T00:57:20.614638Z",
          "shell.execute_reply": "2022-05-21T00:57:20.613826Z"
        },
        "id": "SWgMFCzV1qI3",
        "outputId": "2b7a8c74-0b0a-454c-a21f-2ec049a6701e",
        "colab": {
          "base_uri": "https://localhost:8080/"
        }
      },
      "outputs": [
        {
          "output_type": "execute_result",
          "data": {
            "text/plain": [
              "(60000, 28, 28)"
            ]
          },
          "metadata": {},
          "execution_count": 48
        }
      ],
      "source": [
        "train_images.shape"
      ]
    },
    {
      "cell_type": "code",
      "execution_count": 49,
      "metadata": {
        "execution": {
          "iopub.execute_input": "2022-05-21T00:57:20.618889Z",
          "iopub.status.busy": "2022-05-21T00:57:20.618226Z",
          "iopub.status.idle": "2022-05-21T00:57:20.625094Z",
          "shell.execute_reply": "2022-05-21T00:57:20.624338Z"
        },
        "id": "FbDovWF61qI3",
        "outputId": "b05633b6-c430-4926-96f3-1e8ee4ea39d8",
        "colab": {
          "base_uri": "https://localhost:8080/"
        }
      },
      "outputs": [
        {
          "output_type": "execute_result",
          "data": {
            "text/plain": [
              "dtype('uint8')"
            ]
          },
          "metadata": {},
          "execution_count": 49
        }
      ],
      "source": [
        "train_images.dtype"
      ]
    },
    {
      "cell_type": "markdown",
      "metadata": {
        "id": "JRoaVKPv1qI3"
      },
      "source": [
        "**다섯 번째 이미지 출력하기**"
      ]
    },
    {
      "cell_type": "code",
      "execution_count": 50,
      "metadata": {
        "execution": {
          "iopub.execute_input": "2022-05-21T00:57:20.628820Z",
          "iopub.status.busy": "2022-05-21T00:57:20.628306Z",
          "iopub.status.idle": "2022-05-21T00:57:21.431208Z",
          "shell.execute_reply": "2022-05-21T00:57:21.430286Z"
        },
        "id": "IIZkhp0i1qI4",
        "outputId": "8a09fad3-46ed-4aa9-fb8e-a48a081585d9",
        "colab": {
          "base_uri": "https://localhost:8080/",
          "height": 265
        }
      },
      "outputs": [
        {
          "output_type": "display_data",
          "data": {
            "text/plain": [
              "<Figure size 432x288 with 1 Axes>"
            ],
            "image/png": "[encoded data removed]"
          },
          "metadata": {
            "needs_background": "light"
          }
        }
      ],
      "source": [
        "import matplotlib.pyplot as plt\n",
        "digit = train_images[4]\n",
        "plt.imshow(digit, cmap=plt.cm.binary)\n",
        "plt.show()"
      ]
    },
    {
      "cell_type": "code",
      "execution_count": 51,
      "metadata": {
        "execution": {
          "iopub.execute_input": "2022-05-21T00:57:21.435121Z",
          "iopub.status.busy": "2022-05-21T00:57:21.434503Z",
          "iopub.status.idle": "2022-05-21T00:57:21.439445Z",
          "shell.execute_reply": "2022-05-21T00:57:21.438851Z"
        },
        "id": "SIQgEABY1qI4",
        "outputId": "1aaf959f-a562-4c0c-dc03-8b560f3ed4a4",
        "colab": {
          "base_uri": "https://localhost:8080/"
        }
      },
      "outputs": [
        {
          "output_type": "execute_result",
          "data": {
            "text/plain": [
              "9"
            ]
          },
          "metadata": {},
          "execution_count": 51
        }
      ],
      "source": [
        "train_labels[4]"
      ]
    },
    {
      "cell_type": "markdown",
      "metadata": {
        "id": "wBkiHJlR1qI4"
      },
      "source": [
        "### 넘파이로 텐서 조작하기"
      ]
    },
    {
      "cell_type": "code",
      "execution_count": 52,
      "metadata": {
        "execution": {
          "iopub.execute_input": "2022-05-21T00:57:21.443500Z",
          "iopub.status.busy": "2022-05-21T00:57:21.443068Z",
          "iopub.status.idle": "2022-05-21T00:57:21.447465Z",
          "shell.execute_reply": "2022-05-21T00:57:21.446885Z"
        },
        "id": "c2A6S7-s1qI4",
        "outputId": "cb3a3bb8-bcb6-49ba-b2dc-d1068e74cee3",
        "colab": {
          "base_uri": "https://localhost:8080/"
        }
      },
      "outputs": [
        {
          "output_type": "execute_result",
          "data": {
            "text/plain": [
              "(90, 28, 28)"
            ]
          },
          "metadata": {},
          "execution_count": 52
        }
      ],
      "source": [
        "my_slice = train_images[10:100]\n",
        "my_slice.shape"
      ]
    },
    {
      "cell_type": "code",
      "execution_count": 53,
      "metadata": {
        "execution": {
          "iopub.execute_input": "2022-05-21T00:57:21.450776Z",
          "iopub.status.busy": "2022-05-21T00:57:21.450356Z",
          "iopub.status.idle": "2022-05-21T00:57:21.454814Z",
          "shell.execute_reply": "2022-05-21T00:57:21.454187Z"
        },
        "id": "yTGVsW8W1qI4",
        "outputId": "28485ffd-11f5-4798-bf89-cc45f879e2de",
        "colab": {
          "base_uri": "https://localhost:8080/"
        }
      },
      "outputs": [
        {
          "output_type": "execute_result",
          "data": {
            "text/plain": [
              "(90, 28, 28)"
            ]
          },
          "metadata": {},
          "execution_count": 53
        }
      ],
      "source": [
        "my_slice = train_images[10:100, :, :]\n",
        "my_slice.shape"
      ]
    },
    {
      "cell_type": "code",
      "execution_count": 54,
      "metadata": {
        "execution": {
          "iopub.execute_input": "2022-05-21T00:57:21.458290Z",
          "iopub.status.busy": "2022-05-21T00:57:21.457804Z",
          "iopub.status.idle": "2022-05-21T00:57:21.462673Z",
          "shell.execute_reply": "2022-05-21T00:57:21.461775Z"
        },
        "id": "hQ-iwuuM1qI4",
        "outputId": "63082e80-08f6-4881-a6e7-d8b53f46e7af",
        "colab": {
          "base_uri": "https://localhost:8080/"
        }
      },
      "outputs": [
        {
          "output_type": "execute_result",
          "data": {
            "text/plain": [
              "(90, 28, 28)"
            ]
          },
          "metadata": {},
          "execution_count": 54
        }
      ],
      "source": [
        "my_slice = train_images[10:100, 0:28, 0:28]\n",
        "my_slice.shape"
      ]
    },
    {
      "cell_type": "code",
      "execution_count": 55,
      "metadata": {
        "execution": {
          "iopub.execute_input": "2022-05-21T00:57:21.465976Z",
          "iopub.status.busy": "2022-05-21T00:57:21.465505Z",
          "iopub.status.idle": "2022-05-21T00:57:21.469168Z",
          "shell.execute_reply": "2022-05-21T00:57:21.468362Z"
        },
        "id": "na1tzxx21qI4"
      },
      "outputs": [],
      "source": [
        "my_slice = train_images[:, 14:, 14:]"
      ]
    },
    {
      "cell_type": "code",
      "execution_count": 56,
      "metadata": {
        "execution": {
          "iopub.execute_input": "2022-05-21T00:57:21.472711Z",
          "iopub.status.busy": "2022-05-21T00:57:21.472282Z",
          "iopub.status.idle": "2022-05-21T00:57:21.476345Z",
          "shell.execute_reply": "2022-05-21T00:57:21.475454Z"
        },
        "id": "jTHEZSaa1qI5"
      },
      "outputs": [],
      "source": [
        "my_slice = train_images[:, 7:-7, 7:-7]"
      ]
    },
    {
      "cell_type": "markdown",
      "metadata": {
        "id": "VHuR99nN1qI5"
      },
      "source": [
        "### 배치 데이터"
      ]
    },
    {
      "cell_type": "code",
      "execution_count": 57,
      "metadata": {
        "execution": {
          "iopub.execute_input": "2022-05-21T00:57:21.479963Z",
          "iopub.status.busy": "2022-05-21T00:57:21.479396Z",
          "iopub.status.idle": "2022-05-21T00:57:21.482994Z",
          "shell.execute_reply": "2022-05-21T00:57:21.482245Z"
        },
        "id": "Ewj8YTjl1qI5"
      },
      "outputs": [],
      "source": [
        "batch = train_images[:128]"
      ]
    },
    {
      "cell_type": "code",
      "execution_count": 58,
      "metadata": {
        "execution": {
          "iopub.execute_input": "2022-05-21T00:57:21.486283Z",
          "iopub.status.busy": "2022-05-21T00:57:21.485817Z",
          "iopub.status.idle": "2022-05-21T00:57:21.489326Z",
          "shell.execute_reply": "2022-05-21T00:57:21.488653Z"
        },
        "id": "CKvQh_Dc1qI5"
      },
      "outputs": [],
      "source": [
        "batch = train_images[128:256]"
      ]
    },
    {
      "cell_type": "code",
      "execution_count": 59,
      "metadata": {
        "execution": {
          "iopub.execute_input": "2022-05-21T00:57:21.492485Z",
          "iopub.status.busy": "2022-05-21T00:57:21.491982Z",
          "iopub.status.idle": "2022-05-21T00:57:21.495891Z",
          "shell.execute_reply": "2022-05-21T00:57:21.495127Z"
        },
        "id": "FXxjaILB1qI5"
      },
      "outputs": [],
      "source": [
        "n = 3\n",
        "batch = train_images[128 * n:128 * (n + 1)]"
      ]
    },
    {
      "cell_type": "markdown",
      "metadata": {
        "id": "zCoiKdln1qI5"
      },
      "source": [
        "### 텐서의 실제 사례"
      ]
    },
    {
      "cell_type": "markdown",
      "metadata": {
        "id": "IdfIlLai1qI5"
      },
      "source": [
        "### 벡터 데이터"
      ]
    },
    {
      "cell_type": "markdown",
      "metadata": {
        "id": "mraA72yU1qI5"
      },
      "source": [
        "### 시계열 데이터 또는 시퀀스 데이터"
      ]
    },
    {
      "cell_type": "markdown",
      "metadata": {
        "id": "sN_C-CyC1qI5"
      },
      "source": [
        "### 이미지 데이터"
      ]
    },
    {
      "cell_type": "markdown",
      "metadata": {
        "id": "V_1Nl_5a1qI6"
      },
      "source": [
        "### 비디오 데이터"
      ]
    },
    {
      "cell_type": "markdown",
      "metadata": {
        "id": "Up42nxHL1qI6"
      },
      "source": [
        "## 신경망의 톱니바퀴: 텐서 연산"
      ]
    },
    {
      "cell_type": "markdown",
      "metadata": {
        "id": "nkl--fF91qI6"
      },
      "source": [
        "### 원소별 연산"
      ]
    },
    {
      "cell_type": "code",
      "execution_count": 60,
      "metadata": {
        "execution": {
          "iopub.execute_input": "2022-05-21T00:57:21.499755Z",
          "iopub.status.busy": "2022-05-21T00:57:21.499215Z",
          "iopub.status.idle": "2022-05-21T00:57:21.503803Z",
          "shell.execute_reply": "2022-05-21T00:57:21.502971Z"
        },
        "id": "t6Z3vq3l1qI6"
      },
      "outputs": [],
      "source": [
        "def naive_relu(x):\n",
        "    assert len(x.shape) == 2\n",
        "    x = x.copy()\n",
        "    for i in range(x.shape[0]):\n",
        "        for j in range(x.shape[1]):\n",
        "            x[i, j] = max(x[i, j], 0)\n",
        "    return x"
      ]
    },
    {
      "cell_type": "code",
      "execution_count": 61,
      "metadata": {
        "execution": {
          "iopub.execute_input": "2022-05-21T00:57:21.507340Z",
          "iopub.status.busy": "2022-05-21T00:57:21.506666Z",
          "iopub.status.idle": "2022-05-21T00:57:21.511473Z",
          "shell.execute_reply": "2022-05-21T00:57:21.510630Z"
        },
        "id": "uaoPSZmK1qI6"
      },
      "outputs": [],
      "source": [
        "def naive_add(x, y):\n",
        "    assert len(x.shape) == 2\n",
        "    assert x.shape == y.shape\n",
        "    x = x.copy()\n",
        "    for i in range(x.shape[0]):\n",
        "        for j in range(x.shape[1]):\n",
        "            x[i, j] += y[i, j]\n",
        "    return x"
      ]
    },
    {
      "cell_type": "code",
      "execution_count": 62,
      "metadata": {
        "execution": {
          "iopub.execute_input": "2022-05-21T00:57:21.514953Z",
          "iopub.status.busy": "2022-05-21T00:57:21.514566Z",
          "iopub.status.idle": "2022-05-21T00:57:21.524287Z",
          "shell.execute_reply": "2022-05-21T00:57:21.523672Z"
        },
        "id": "yahpjVBQ1qI6",
        "outputId": "2856375c-30a8-45d8-dd0b-e301fe2f7c46",
        "colab": {
          "base_uri": "https://localhost:8080/"
        }
      },
      "outputs": [
        {
          "output_type": "stream",
          "name": "stdout",
          "text": [
            "걸린 시간: 0.01 s\n"
          ]
        }
      ],
      "source": [
        "import time\n",
        "\n",
        "x = np.random.random((20, 100))\n",
        "y = np.random.random((20, 100))\n",
        "\n",
        "t0 = time.time()\n",
        "for _ in range(1000):\n",
        "    z = x + y\n",
        "    z = np.maximum(z, 0.)\n",
        "print(\"걸린 시간: {0:.2f} s\".format(time.time() - t0))"
      ]
    },
    {
      "cell_type": "code",
      "execution_count": 63,
      "metadata": {
        "execution": {
          "iopub.execute_input": "2022-05-21T00:57:21.527704Z",
          "iopub.status.busy": "2022-05-21T00:57:21.527269Z",
          "iopub.status.idle": "2022-05-21T00:57:23.525600Z",
          "shell.execute_reply": "2022-05-21T00:57:23.524629Z"
        },
        "id": "qA4UxC_g1qI6",
        "outputId": "cd06f3a8-6071-4fd0-eb5f-e2016d0053bd",
        "colab": {
          "base_uri": "https://localhost:8080/"
        }
      },
      "outputs": [
        {
          "output_type": "stream",
          "name": "stdout",
          "text": [
            "걸린 시간: 2.48 s\n"
          ]
        }
      ],
      "source": [
        "t0 = time.time()\n",
        "for _ in range(1000):\n",
        "    z = naive_add(x, y)\n",
        "    z = naive_relu(z)\n",
        "print(\"걸린 시간: {0:.2f} s\".format(time.time() - t0))"
      ]
    },
    {
      "cell_type": "markdown",
      "metadata": {
        "id": "9ZkDW9ie1qI7"
      },
      "source": [
        "### 브로드캐스팅"
      ]
    },
    {
      "cell_type": "code",
      "execution_count": 64,
      "metadata": {
        "execution": {
          "iopub.execute_input": "2022-05-21T00:57:23.529492Z",
          "iopub.status.busy": "2022-05-21T00:57:23.529207Z",
          "iopub.status.idle": "2022-05-21T00:57:23.533586Z",
          "shell.execute_reply": "2022-05-21T00:57:23.532638Z"
        },
        "id": "Rpk8MkPx1qI7"
      },
      "outputs": [],
      "source": [
        "import numpy as np\n",
        "X = np.random.random((32, 10))\n",
        "y = np.random.random((10,))"
      ]
    },
    {
      "cell_type": "code",
      "execution_count": 65,
      "metadata": {
        "execution": {
          "iopub.execute_input": "2022-05-21T00:57:23.536953Z",
          "iopub.status.busy": "2022-05-21T00:57:23.536681Z",
          "iopub.status.idle": "2022-05-21T00:57:23.541762Z",
          "shell.execute_reply": "2022-05-21T00:57:23.540974Z"
        },
        "id": "dBPKHsHi1qI7"
      },
      "outputs": [],
      "source": [
        "y = np.expand_dims(y, axis=0)"
      ]
    },
    {
      "cell_type": "code",
      "execution_count": 66,
      "metadata": {
        "execution": {
          "iopub.execute_input": "2022-05-21T00:57:23.545374Z",
          "iopub.status.busy": "2022-05-21T00:57:23.545120Z",
          "iopub.status.idle": "2022-05-21T00:57:23.549140Z",
          "shell.execute_reply": "2022-05-21T00:57:23.548341Z"
        },
        "id": "3fuvM3rd1qI7"
      },
      "outputs": [],
      "source": [
        "Y = np.concatenate([y] * 32, axis=0)"
      ]
    },
    {
      "cell_type": "code",
      "execution_count": 67,
      "metadata": {
        "execution": {
          "iopub.execute_input": "2022-05-21T00:57:23.552981Z",
          "iopub.status.busy": "2022-05-21T00:57:23.552734Z",
          "iopub.status.idle": "2022-05-21T00:57:23.557779Z",
          "shell.execute_reply": "2022-05-21T00:57:23.557013Z"
        },
        "id": "DM59177S1qI7"
      },
      "outputs": [],
      "source": [
        "def naive_add_matrix_and_vector(x, y):\n",
        "    assert len(x.shape) == 2\n",
        "    assert len(y.shape) == 1\n",
        "    assert x.shape[1] == y.shape[0]\n",
        "    x = x.copy()\n",
        "    for i in range(x.shape[0]):\n",
        "        for j in range(x.shape[1]):\n",
        "            x[i, j] += y[j]\n",
        "    return x"
      ]
    },
    {
      "cell_type": "code",
      "execution_count": 68,
      "metadata": {
        "execution": {
          "iopub.execute_input": "2022-05-21T00:57:23.561664Z",
          "iopub.status.busy": "2022-05-21T00:57:23.561412Z",
          "iopub.status.idle": "2022-05-21T00:57:23.566195Z",
          "shell.execute_reply": "2022-05-21T00:57:23.565424Z"
        },
        "id": "48yuFoqQ1qI7"
      },
      "outputs": [],
      "source": [
        "import numpy as np\n",
        "x = np.random.random((64, 3, 32, 10))\n",
        "y = np.random.random((32, 10))\n",
        "z = np.maximum(x, y)"
      ]
    },
    {
      "cell_type": "markdown",
      "metadata": {
        "id": "gtaTHBhr1qI7"
      },
      "source": [
        "### 텐서 곱셈"
      ]
    },
    {
      "cell_type": "code",
      "execution_count": 69,
      "metadata": {
        "execution": {
          "iopub.execute_input": "2022-05-21T00:57:23.570018Z",
          "iopub.status.busy": "2022-05-21T00:57:23.569765Z",
          "iopub.status.idle": "2022-05-21T00:57:23.574104Z",
          "shell.execute_reply": "2022-05-21T00:57:23.573257Z"
        },
        "id": "Bfm1DPx91qI7"
      },
      "outputs": [],
      "source": [
        "x = np.random.random((32,))\n",
        "y = np.random.random((32,))\n",
        "z = np.dot(x, y)"
      ]
    },
    {
      "cell_type": "code",
      "execution_count": 70,
      "metadata": {
        "execution": {
          "iopub.execute_input": "2022-05-21T00:57:23.578149Z",
          "iopub.status.busy": "2022-05-21T00:57:23.577898Z",
          "iopub.status.idle": "2022-05-21T00:57:23.582594Z",
          "shell.execute_reply": "2022-05-21T00:57:23.581768Z"
        },
        "id": "0NHLG02B1qI7"
      },
      "outputs": [],
      "source": [
        "def naive_vector_dot(x, y):\n",
        "    assert len(x.shape) == 1\n",
        "    assert len(y.shape) == 1\n",
        "    assert x.shape[0] == y.shape[0]\n",
        "    z = 0.\n",
        "    for i in range(x.shape[0]):\n",
        "        z += x[i] * y[i]\n",
        "    return z"
      ]
    },
    {
      "cell_type": "code",
      "execution_count": 71,
      "metadata": {
        "execution": {
          "iopub.execute_input": "2022-05-21T00:57:23.586856Z",
          "iopub.status.busy": "2022-05-21T00:57:23.586576Z",
          "iopub.status.idle": "2022-05-21T00:57:23.592373Z",
          "shell.execute_reply": "2022-05-21T00:57:23.591083Z"
        },
        "id": "vv6ks6x61qI8"
      },
      "outputs": [],
      "source": [
        "def naive_matrix_vector_dot(x, y):\n",
        "    assert len(x.shape) == 2\n",
        "    assert len(y.shape) == 1\n",
        "    assert x.shape[1] == y.shape[0]\n",
        "    z = np.zeros(x.shape[0])\n",
        "    for i in range(x.shape[0]):\n",
        "        for j in range(x.shape[1]):\n",
        "            z[i] += x[i, j] * y[j]\n",
        "    return z"
      ]
    },
    {
      "cell_type": "code",
      "execution_count": 72,
      "metadata": {
        "execution": {
          "iopub.execute_input": "2022-05-21T00:57:23.595861Z",
          "iopub.status.busy": "2022-05-21T00:57:23.595594Z",
          "iopub.status.idle": "2022-05-21T00:57:23.599907Z",
          "shell.execute_reply": "2022-05-21T00:57:23.599230Z"
        },
        "id": "Y_AwR-rh1qI8"
      },
      "outputs": [],
      "source": [
        "def naive_matrix_vector_dot(x, y):\n",
        "    z = np.zeros(x.shape[0])\n",
        "    for i in range(x.shape[0]):\n",
        "        z[i] = naive_vector_dot(x[i, :], y)\n",
        "    return z"
      ]
    },
    {
      "cell_type": "code",
      "execution_count": 73,
      "metadata": {
        "execution": {
          "iopub.execute_input": "2022-05-21T00:57:23.604217Z",
          "iopub.status.busy": "2022-05-21T00:57:23.603640Z",
          "iopub.status.idle": "2022-05-21T00:57:23.609035Z",
          "shell.execute_reply": "2022-05-21T00:57:23.608386Z"
        },
        "id": "_IJjhQB31qI8"
      },
      "outputs": [],
      "source": [
        "def naive_matrix_dot(x, y):\n",
        "    assert len(x.shape) == 2\n",
        "    assert len(y.shape) == 2\n",
        "    assert x.shape[1] == y.shape[0]\n",
        "    z = np.zeros((x.shape[0], y.shape[1]))\n",
        "    for i in range(x.shape[0]):\n",
        "        for j in range(y.shape[1]):\n",
        "            row_x = x[i, :]\n",
        "            column_y = y[:, j]\n",
        "            z[i, j] = naive_vector_dot(row_x, column_y)\n",
        "    return z"
      ]
    },
    {
      "cell_type": "markdown",
      "metadata": {
        "id": "kaVH1u8X1qI8"
      },
      "source": [
        "### 텐서 크기 변환"
      ]
    },
    {
      "cell_type": "code",
      "execution_count": 74,
      "metadata": {
        "execution": {
          "iopub.execute_input": "2022-05-21T00:57:23.612816Z",
          "iopub.status.busy": "2022-05-21T00:57:23.612353Z",
          "iopub.status.idle": "2022-05-21T00:57:23.615796Z",
          "shell.execute_reply": "2022-05-21T00:57:23.615179Z"
        },
        "id": "Yc92w48C1qI8"
      },
      "outputs": [],
      "source": [
        "train_images = train_images.reshape((60000, 28 * 28))"
      ]
    },
    {
      "cell_type": "code",
      "execution_count": 75,
      "metadata": {
        "execution": {
          "iopub.execute_input": "2022-05-21T00:57:23.620077Z",
          "iopub.status.busy": "2022-05-21T00:57:23.619555Z",
          "iopub.status.idle": "2022-05-21T00:57:23.625554Z",
          "shell.execute_reply": "2022-05-21T00:57:23.624598Z"
        },
        "id": "0hKBrXod1qI8",
        "outputId": "97795ec9-8317-45ac-fc6a-8600201bae0d",
        "colab": {
          "base_uri": "https://localhost:8080/"
        }
      },
      "outputs": [
        {
          "output_type": "execute_result",
          "data": {
            "text/plain": [
              "(3, 2)"
            ]
          },
          "metadata": {},
          "execution_count": 75
        }
      ],
      "source": [
        "x = np.array([[0., 1.],\n",
        "             [2., 3.],\n",
        "             [4., 5.]])\n",
        "x.shape"
      ]
    },
    {
      "cell_type": "code",
      "execution_count": 76,
      "metadata": {
        "execution": {
          "iopub.execute_input": "2022-05-21T00:57:23.629139Z",
          "iopub.status.busy": "2022-05-21T00:57:23.628859Z",
          "iopub.status.idle": "2022-05-21T00:57:23.634545Z",
          "shell.execute_reply": "2022-05-21T00:57:23.633514Z"
        },
        "id": "86-wf5je1qI8",
        "outputId": "55c4848b-ae8a-4702-ade8-fdccdf1edd06",
        "colab": {
          "base_uri": "https://localhost:8080/"
        }
      },
      "outputs": [
        {
          "output_type": "execute_result",
          "data": {
            "text/plain": [
              "array([[0.],\n",
              "       [1.],\n",
              "       [2.],\n",
              "       [3.],\n",
              "       [4.],\n",
              "       [5.]])"
            ]
          },
          "metadata": {},
          "execution_count": 76
        }
      ],
      "source": [
        "x = x.reshape((6, 1))\n",
        "x"
      ]
    },
    {
      "cell_type": "code",
      "source": [
        "x = x.reshape((2, 3))\n",
        "x"
      ],
      "metadata": {
        "id": "gtw2H4682AOF",
        "outputId": "8f9c60ce-02d6-4f5a-c9c9-e1c4d46d6e67",
        "colab": {
          "base_uri": "https://localhost:8080/"
        }
      },
      "execution_count": 77,
      "outputs": [
        {
          "output_type": "execute_result",
          "data": {
            "text/plain": [
              "array([[0., 1., 2.],\n",
              "       [3., 4., 5.]])"
            ]
          },
          "metadata": {},
          "execution_count": 77
        }
      ]
    },
    {
      "cell_type": "code",
      "execution_count": 78,
      "metadata": {
        "execution": {
          "iopub.execute_input": "2022-05-21T00:57:23.639766Z",
          "iopub.status.busy": "2022-05-21T00:57:23.639078Z",
          "iopub.status.idle": "2022-05-21T00:57:23.644899Z",
          "shell.execute_reply": "2022-05-21T00:57:23.644035Z"
        },
        "id": "Dl9-o-GI1qI8",
        "outputId": "6de9b67c-de96-4c24-adf8-157fba9e8010",
        "colab": {
          "base_uri": "https://localhost:8080/"
        }
      },
      "outputs": [
        {
          "output_type": "execute_result",
          "data": {
            "text/plain": [
              "(20, 300)"
            ]
          },
          "metadata": {},
          "execution_count": 78
        }
      ],
      "source": [
        "x = np.zeros((300, 20))\n",
        "x = np.transpose(x)\n",
        "x.shape"
      ]
    },
    {
      "cell_type": "markdown",
      "metadata": {
        "id": "MniATBRC1qI9"
      },
      "source": [
        "### 텐서 연산의 기하학적 해석"
      ]
    },
    {
      "cell_type": "markdown",
      "metadata": {
        "id": "Vkfc22a01qI9"
      },
      "source": [
        "### 딥러닝의 기하학적 해석"
      ]
    },
    {
      "cell_type": "markdown",
      "metadata": {
        "id": "sAFQT9yo1qI9"
      },
      "source": [
        "## 신경망의 엔진: 그레이디언트 기반 최적화"
      ]
    },
    {
      "cell_type": "markdown",
      "metadata": {
        "id": "Sa7y4mc-1qI9"
      },
      "source": [
        "### 도함수란?"
      ]
    },
    {
      "cell_type": "markdown",
      "metadata": {
        "id": "DmdsFrvu1qI9"
      },
      "source": [
        "### 텐서 연산의 도함수: 그레이디언트"
      ]
    },
    {
      "cell_type": "markdown",
      "metadata": {
        "id": "HGJX4BYw1qI9"
      },
      "source": [
        "### 확률적 경사 하강법"
      ]
    },
    {
      "cell_type": "markdown",
      "metadata": {
        "id": "vuwyaSaB1qI9"
      },
      "source": [
        "### 도함수 연결: 역전파 알고리즘"
      ]
    },
    {
      "cell_type": "markdown",
      "metadata": {
        "id": "dLFHRaA_1qI9"
      },
      "source": [
        "#### 연쇄 법칙"
      ]
    },
    {
      "cell_type": "markdown",
      "metadata": {
        "id": "uFf4jwDb1qI9"
      },
      "source": [
        "#### 계산 그래프를 활용한 자동 미분"
      ]
    },
    {
      "cell_type": "markdown",
      "metadata": {
        "id": "1FH_nw__1qI9"
      },
      "source": [
        "#### 텐서플로의 그레이디언트 테이프"
      ]
    },
    {
      "cell_type": "code",
      "execution_count": 79,
      "metadata": {
        "execution": {
          "iopub.execute_input": "2022-05-21T00:57:23.649769Z",
          "iopub.status.busy": "2022-05-21T00:57:23.649237Z",
          "iopub.status.idle": "2022-05-21T00:57:23.656183Z",
          "shell.execute_reply": "2022-05-21T00:57:23.655436Z"
        },
        "id": "gTu3wWTB1qI9"
      },
      "outputs": [],
      "source": [
        "import tensorflow as tf\n",
        "x = tf.Variable(0.)\n",
        "with tf.GradientTape() as tape:\n",
        "    y = 2 * x + 3\n",
        "grad_of_y_wrt_x = tape.gradient(y, x)"
      ]
    },
    {
      "cell_type": "code",
      "execution_count": 80,
      "metadata": {
        "execution": {
          "iopub.execute_input": "2022-05-21T00:57:23.659954Z",
          "iopub.status.busy": "2022-05-21T00:57:23.659320Z",
          "iopub.status.idle": "2022-05-21T00:57:23.665978Z",
          "shell.execute_reply": "2022-05-21T00:57:23.665192Z"
        },
        "id": "wQyEYbZo1qI-"
      },
      "outputs": [],
      "source": [
        "x = tf.Variable(tf.zeros((2, 2)))\n",
        "with tf.GradientTape() as tape:\n",
        "    y = 2 * x + 3\n",
        "grad_of_y_wrt_x = tape.gradient(y, x)"
      ]
    },
    {
      "cell_type": "code",
      "execution_count": 81,
      "metadata": {
        "execution": {
          "iopub.execute_input": "2022-05-21T00:57:23.669642Z",
          "iopub.status.busy": "2022-05-21T00:57:23.669139Z",
          "iopub.status.idle": "2022-05-21T00:57:23.677360Z",
          "shell.execute_reply": "2022-05-21T00:57:23.676599Z"
        },
        "id": "zbst9LJC1qI-"
      },
      "outputs": [],
      "source": [
        "W = tf.Variable(tf.random.uniform((2, 2)))\n",
        "b = tf.Variable(tf.zeros((2,)))\n",
        "x = tf.random.uniform((2, 2))\n",
        "with tf.GradientTape() as tape:\n",
        "    y = tf.matmul(x, W) + b\n",
        "grad_of_y_wrt_W_and_b = tape.gradient(y, [W, b])"
      ]
    },
    {
      "cell_type": "markdown",
      "metadata": {
        "id": "ma33AlGI1qI-"
      },
      "source": [
        "## 첫 번째 예제 다시 살펴보기"
      ]
    },
    {
      "cell_type": "code",
      "execution_count": 83,
      "metadata": {
        "execution": {
          "iopub.execute_input": "2022-05-21T00:57:23.681093Z",
          "iopub.status.busy": "2022-05-21T00:57:23.680602Z",
          "iopub.status.idle": "2022-05-21T00:57:24.079600Z",
          "shell.execute_reply": "2022-05-21T00:57:24.078307Z"
        },
        "id": "QwI0nrkj1qI-"
      },
      "outputs": [],
      "source": [
        "(train_images, train_labels), (test_images, test_labels) = mnist.load_data()\n",
        "train_images = train_images.reshape((60000, 28 * 28))\n",
        "train_images = train_images.astype(\"float32\") / 255\n",
        "test_images = test_images.reshape((10000, 28 * 28))\n",
        "test_images = test_images.astype(\"float32\") / 255"
      ]
    },
    {
      "cell_type": "code",
      "execution_count": 84,
      "metadata": {
        "execution": {
          "iopub.execute_input": "2022-05-21T00:57:24.084071Z",
          "iopub.status.busy": "2022-05-21T00:57:24.083440Z",
          "iopub.status.idle": "2022-05-21T00:57:24.092511Z",
          "shell.execute_reply": "2022-05-21T00:57:24.091627Z"
        },
        "id": "lmY9b4qU1qI-"
      },
      "outputs": [],
      "source": [
        "model = keras.Sequential([\n",
        "    layers.Dense(512, activation=\"relu\"),\n",
        "    layers.Dense(10, activation=\"softmax\")\n",
        "])"
      ]
    },
    {
      "cell_type": "code",
      "execution_count": 85,
      "metadata": {
        "execution": {
          "iopub.execute_input": "2022-05-21T00:57:24.096195Z",
          "iopub.status.busy": "2022-05-21T00:57:24.095736Z",
          "iopub.status.idle": "2022-05-21T00:57:24.104256Z",
          "shell.execute_reply": "2022-05-21T00:57:24.103588Z"
        },
        "id": "hfeRt6LZ1qI-"
      },
      "outputs": [],
      "source": [
        "model.compile(optimizer=\"rmsprop\",\n",
        "              loss=\"sparse_categorical_crossentropy\",\n",
        "              metrics=[\"accuracy\"])"
      ]
    },
    {
      "cell_type": "code",
      "execution_count": 86,
      "metadata": {
        "execution": {
          "iopub.execute_input": "2022-05-21T00:57:24.107793Z",
          "iopub.status.busy": "2022-05-21T00:57:24.107143Z",
          "iopub.status.idle": "2022-05-21T00:57:34.534710Z",
          "shell.execute_reply": "2022-05-21T00:57:34.533527Z"
        },
        "id": "K903L3_y1qI-",
        "outputId": "ebb95e2e-3917-4fea-d105-2283838af3cf",
        "colab": {
          "base_uri": "https://localhost:8080/"
        }
      },
      "outputs": [
        {
          "output_type": "stream",
          "name": "stdout",
          "text": [
            "Epoch 1/5\n",
            "469/469 [==============================] - 2s 4ms/step - loss: 0.2646 - accuracy: 0.9243\n",
            "Epoch 2/5\n",
            "469/469 [==============================] - 2s 4ms/step - loss: 0.1064 - accuracy: 0.9686\n",
            "Epoch 3/5\n",
            "469/469 [==============================] - 1s 3ms/step - loss: 0.0701 - accuracy: 0.9790\n",
            "Epoch 4/5\n",
            "469/469 [==============================] - 1s 3ms/step - loss: 0.0508 - accuracy: 0.9849\n",
            "Epoch 5/5\n",
            "469/469 [==============================] - 1s 3ms/step - loss: 0.0380 - accuracy: 0.9882\n"
          ]
        },
        {
          "output_type": "execute_result",
          "data": {
            "text/plain": [
              "<keras.callbacks.History at 0x7f096b5dfb50>"
            ]
          },
          "metadata": {},
          "execution_count": 86
        }
      ],
      "source": [
        "model.fit(train_images, train_labels, epochs=5, batch_size=128)"
      ]
    },
    {
      "cell_type": "markdown",
      "metadata": {
        "id": "XAmtOQyq1qI-"
      },
      "source": [
        "### 텐서플로를 사용해 첫 번째 예제를 밑바닥부터 다시 구현하기"
      ]
    },
    {
      "cell_type": "markdown",
      "metadata": {
        "id": "RsBD9EST1qI_"
      },
      "source": [
        "#### 단순한 Dense 클래스"
      ]
    },
    {
      "cell_type": "code",
      "execution_count": 87,
      "metadata": {
        "execution": {
          "iopub.execute_input": "2022-05-21T00:57:34.539073Z",
          "iopub.status.busy": "2022-05-21T00:57:34.538100Z",
          "iopub.status.idle": "2022-05-21T00:57:34.544603Z",
          "shell.execute_reply": "2022-05-21T00:57:34.543941Z"
        },
        "id": "2T0kW_M81qI_"
      },
      "outputs": [],
      "source": [
        "import tensorflow as tf\n",
        "\n",
        "class NaiveDense:\n",
        "    def __init__(self, input_size, output_size, activation):\n",
        "        self.activation = activation\n",
        "\n",
        "        w_shape = (input_size, output_size)\n",
        "        w_initial_value = tf.random.uniform(w_shape, minval=0, maxval=1e-1)\n",
        "        self.W = tf.Variable(w_initial_value)\n",
        "\n",
        "        b_shape = (output_size,)\n",
        "        b_initial_value = tf.zeros(b_shape)\n",
        "        self.b = tf.Variable(b_initial_value)\n",
        "\n",
        "    def __call__(self, inputs):\n",
        "        return self.activation(tf.matmul(inputs, self.W) + self.b)\n",
        "\n",
        "#    @property\n",
        "    def weights(self):\n",
        "        return [self.W, self.b]"
      ]
    },
    {
      "cell_type": "code",
      "source": [
        "dense1 = NaiveDense(5,3,activation=tf.nn.relu)"
      ],
      "metadata": {
        "id": "JTs5f5TZvJ1D"
      },
      "execution_count": 97,
      "outputs": []
    },
    {
      "cell_type": "code",
      "source": [
        "dense1.W"
      ],
      "metadata": {
        "id": "DCd_4jN7vYG7",
        "outputId": "c11c3971-e9bb-42c3-e49c-f6fa81304fbe",
        "colab": {
          "base_uri": "https://localhost:8080/"
        }
      },
      "execution_count": 98,
      "outputs": [
        {
          "output_type": "execute_result",
          "data": {
            "text/plain": [
              "<tf.Variable 'Variable:0' shape=(5, 3) dtype=float32, numpy=\n",
              "array([[0.09500648, 0.09443056, 0.00863109],\n",
              "       [0.09876897, 0.08117881, 0.02878655],\n",
              "       [0.00769883, 0.01504546, 0.00686286],\n",
              "       [0.04411856, 0.04336593, 0.09879451],\n",
              "       [0.0130958 , 0.06683508, 0.00628431]], dtype=float32)>"
            ]
          },
          "metadata": {},
          "execution_count": 98
        }
      ]
    },
    {
      "cell_type": "code",
      "source": [
        "dense1.activation"
      ],
      "metadata": {
        "id": "WwYFQBixvX_7",
        "outputId": "a6d1b2d2-fc4a-4998-b464-ddeccfe1ad2e",
        "colab": {
          "base_uri": "https://localhost:8080/"
        }
      },
      "execution_count": 99,
      "outputs": [
        {
          "output_type": "execute_result",
          "data": {
            "text/plain": [
              "<function tensorflow.python.ops.gen_nn_ops.relu(features, name=None)>"
            ]
          },
          "metadata": {},
          "execution_count": 99
        }
      ]
    },
    {
      "cell_type": "code",
      "source": [
        "dense1.weights"
      ],
      "metadata": {
        "id": "PXTMxmpwwcTA",
        "outputId": "8c2abf3a-fb59-4b05-80ea-b11e2e9d603c",
        "colab": {
          "base_uri": "https://localhost:8080/"
        }
      },
      "execution_count": 100,
      "outputs": [
        {
          "output_type": "execute_result",
          "data": {
            "text/plain": [
              "[<tf.Variable 'Variable:0' shape=(5, 3) dtype=float32, numpy=\n",
              " array([[0.09500648, 0.09443056, 0.00863109],\n",
              "        [0.09876897, 0.08117881, 0.02878655],\n",
              "        [0.00769883, 0.01504546, 0.00686286],\n",
              "        [0.04411856, 0.04336593, 0.09879451],\n",
              "        [0.0130958 , 0.06683508, 0.00628431]], dtype=float32)>,\n",
              " <tf.Variable 'Variable:0' shape=(3,) dtype=float32, numpy=array([0., 0., 0.], dtype=float32)>]"
            ]
          },
          "metadata": {},
          "execution_count": 100
        }
      ]
    },
    {
      "cell_type": "code",
      "source": [],
      "metadata": {
        "id": "24RyJCxKwcQc"
      },
      "execution_count": null,
      "outputs": []
    },
    {
      "cell_type": "code",
      "source": [],
      "metadata": {
        "id": "9gZnuLjawcN0"
      },
      "execution_count": null,
      "outputs": []
    },
    {
      "cell_type": "markdown",
      "metadata": {
        "id": "qVHHdEOF1qI_"
      },
      "source": [
        "#### 단순한 Sequential 클래스"
      ]
    },
    {
      "cell_type": "code",
      "execution_count": 103,
      "metadata": {
        "execution": {
          "iopub.execute_input": "2022-05-21T00:57:34.549011Z",
          "iopub.status.busy": "2022-05-21T00:57:34.548061Z",
          "iopub.status.idle": "2022-05-21T00:57:34.553613Z",
          "shell.execute_reply": "2022-05-21T00:57:34.552900Z"
        },
        "id": "lQ8O3Mti1qI_"
      },
      "outputs": [],
      "source": [
        "class NaiveSequential:\n",
        "    def __init__(self, layers):\n",
        "        self.layers = layers\n",
        "\n",
        "    def __call__(self, inputs):\n",
        "        x = inputs\n",
        "        for layer in self.layers:\n",
        "           x = layer(x)\n",
        "        return x\n",
        "\n",
        "    @property\n",
        "    def weights(self):\n",
        "       weights = []\n",
        "       for layer in self.layers:\n",
        "           weights += layer.weights\n",
        "       return weights"
      ]
    },
    {
      "cell_type": "code",
      "execution_count": 104,
      "metadata": {
        "execution": {
          "iopub.execute_input": "2022-05-21T00:57:34.557429Z",
          "iopub.status.busy": "2022-05-21T00:57:34.556712Z",
          "iopub.status.idle": "2022-05-21T00:57:34.565352Z",
          "shell.execute_reply": "2022-05-21T00:57:34.564638Z"
        },
        "id": "L40rhe-A1qI_"
      },
      "outputs": [],
      "source": [
        "model = NaiveSequential([\n",
        "    NaiveDense(input_size=28 * 28, output_size=512, activation=tf.nn.relu),\n",
        "    NaiveDense(input_size=512, output_size=10, activation=tf.nn.softmax)\n",
        "])\n",
        "assert len(model.weights) == 4"
      ]
    },
    {
      "cell_type": "code",
      "source": [
        "model.weights"
      ],
      "metadata": {
        "id": "qVnFtwEQxFU0",
        "outputId": "87205a92-4046-4c16-edc3-b09b926e6dac",
        "colab": {
          "base_uri": "https://localhost:8080/"
        }
      },
      "execution_count": 106,
      "outputs": [
        {
          "output_type": "execute_result",
          "data": {
            "text/plain": [
              "[<tf.Variable 'Variable:0' shape=(784, 512) dtype=float32, numpy=\n",
              " array([[0.02590168, 0.05323067, 0.08126154, ..., 0.05305358, 0.02339092,\n",
              "         0.0208956 ],\n",
              "        [0.02329636, 0.07279482, 0.04718543, ..., 0.00531451, 0.06495656,\n",
              "         0.00325069],\n",
              "        [0.09659052, 0.04430978, 0.01056085, ..., 0.09861672, 0.09784516,\n",
              "         0.03425925],\n",
              "        ...,\n",
              "        [0.0879757 , 0.05999533, 0.02100509, ..., 0.00916352, 0.0270389 ,\n",
              "         0.03986493],\n",
              "        [0.0342144 , 0.09410268, 0.0229014 , ..., 0.0508137 , 0.01540567,\n",
              "         0.03991253],\n",
              "        [0.09664046, 0.0491781 , 0.01163775, ..., 0.0336371 , 0.08860581,\n",
              "         0.01076554]], dtype=float32)>,\n",
              " <tf.Variable 'Variable:0' shape=(512,) dtype=float32, numpy=\n",
              " array([0., 0., 0., 0., 0., 0., 0., 0., 0., 0., 0., 0., 0., 0., 0., 0., 0.,\n",
              "        0., 0., 0., 0., 0., 0., 0., 0., 0., 0., 0., 0., 0., 0., 0., 0., 0.,\n",
              "        0., 0., 0., 0., 0., 0., 0., 0., 0., 0., 0., 0., 0., 0., 0., 0., 0.,\n",
              "        0., 0., 0., 0., 0., 0., 0., 0., 0., 0., 0., 0., 0., 0., 0., 0., 0.,\n",
              "        0., 0., 0., 0., 0., 0., 0., 0., 0., 0., 0., 0., 0., 0., 0., 0., 0.,\n",
              "        0., 0., 0., 0., 0., 0., 0., 0., 0., 0., 0., 0., 0., 0., 0., 0., 0.,\n",
              "        0., 0., 0., 0., 0., 0., 0., 0., 0., 0., 0., 0., 0., 0., 0., 0., 0.,\n",
              "        0., 0., 0., 0., 0., 0., 0., 0., 0., 0., 0., 0., 0., 0., 0., 0., 0.,\n",
              "        0., 0., 0., 0., 0., 0., 0., 0., 0., 0., 0., 0., 0., 0., 0., 0., 0.,\n",
              "        0., 0., 0., 0., 0., 0., 0., 0., 0., 0., 0., 0., 0., 0., 0., 0., 0.,\n",
              "        0., 0., 0., 0., 0., 0., 0., 0., 0., 0., 0., 0., 0., 0., 0., 0., 0.,\n",
              "        0., 0., 0., 0., 0., 0., 0., 0., 0., 0., 0., 0., 0., 0., 0., 0., 0.,\n",
              "        0., 0., 0., 0., 0., 0., 0., 0., 0., 0., 0., 0., 0., 0., 0., 0., 0.,\n",
              "        0., 0., 0., 0., 0., 0., 0., 0., 0., 0., 0., 0., 0., 0., 0., 0., 0.,\n",
              "        0., 0., 0., 0., 0., 0., 0., 0., 0., 0., 0., 0., 0., 0., 0., 0., 0.,\n",
              "        0., 0., 0., 0., 0., 0., 0., 0., 0., 0., 0., 0., 0., 0., 0., 0., 0.,\n",
              "        0., 0., 0., 0., 0., 0., 0., 0., 0., 0., 0., 0., 0., 0., 0., 0., 0.,\n",
              "        0., 0., 0., 0., 0., 0., 0., 0., 0., 0., 0., 0., 0., 0., 0., 0., 0.,\n",
              "        0., 0., 0., 0., 0., 0., 0., 0., 0., 0., 0., 0., 0., 0., 0., 0., 0.,\n",
              "        0., 0., 0., 0., 0., 0., 0., 0., 0., 0., 0., 0., 0., 0., 0., 0., 0.,\n",
              "        0., 0., 0., 0., 0., 0., 0., 0., 0., 0., 0., 0., 0., 0., 0., 0., 0.,\n",
              "        0., 0., 0., 0., 0., 0., 0., 0., 0., 0., 0., 0., 0., 0., 0., 0., 0.,\n",
              "        0., 0., 0., 0., 0., 0., 0., 0., 0., 0., 0., 0., 0., 0., 0., 0., 0.,\n",
              "        0., 0., 0., 0., 0., 0., 0., 0., 0., 0., 0., 0., 0., 0., 0., 0., 0.,\n",
              "        0., 0., 0., 0., 0., 0., 0., 0., 0., 0., 0., 0., 0., 0., 0., 0., 0.,\n",
              "        0., 0., 0., 0., 0., 0., 0., 0., 0., 0., 0., 0., 0., 0., 0., 0., 0.,\n",
              "        0., 0., 0., 0., 0., 0., 0., 0., 0., 0., 0., 0., 0., 0., 0., 0., 0.,\n",
              "        0., 0., 0., 0., 0., 0., 0., 0., 0., 0., 0., 0., 0., 0., 0., 0., 0.,\n",
              "        0., 0., 0., 0., 0., 0., 0., 0., 0., 0., 0., 0., 0., 0., 0., 0., 0.,\n",
              "        0., 0., 0., 0., 0., 0., 0., 0., 0., 0., 0., 0., 0., 0., 0., 0., 0.,\n",
              "        0., 0.], dtype=float32)>,\n",
              " <tf.Variable 'Variable:0' shape=(512, 10) dtype=float32, numpy=\n",
              " array([[0.07404834, 0.03006994, 0.05618392, ..., 0.09452689, 0.04130261,\n",
              "         0.06338014],\n",
              "        [0.02262453, 0.07416826, 0.04231758, ..., 0.09414432, 0.00067613,\n",
              "         0.01159106],\n",
              "        [0.03113961, 0.01165314, 0.08826917, ..., 0.01833734, 0.06570299,\n",
              "         0.07840075],\n",
              "        ...,\n",
              "        [0.09243178, 0.0662474 , 0.05619925, ..., 0.07269926, 0.01625961,\n",
              "         0.07204001],\n",
              "        [0.07617023, 0.0961859 , 0.0599111 , ..., 0.06903707, 0.07320806,\n",
              "         0.0915321 ],\n",
              "        [0.03550681, 0.05683839, 0.04899345, ..., 0.07343687, 0.0515434 ,\n",
              "         0.09818418]], dtype=float32)>,\n",
              " <tf.Variable 'Variable:0' shape=(10,) dtype=float32, numpy=array([0., 0., 0., 0., 0., 0., 0., 0., 0., 0.], dtype=float32)>]"
            ]
          },
          "metadata": {},
          "execution_count": 106
        }
      ]
    },
    {
      "cell_type": "code",
      "source": [],
      "metadata": {
        "id": "uNfwno22xFPz"
      },
      "execution_count": null,
      "outputs": []
    },
    {
      "cell_type": "code",
      "source": [],
      "metadata": {
        "id": "KUn8E8-bxFL8"
      },
      "execution_count": null,
      "outputs": []
    },
    {
      "cell_type": "markdown",
      "metadata": {
        "id": "gYioh4jn1qI_"
      },
      "source": [
        "#### 배치 제너레이터"
      ]
    },
    {
      "cell_type": "code",
      "execution_count": 111,
      "metadata": {
        "execution": {
          "iopub.execute_input": "2022-05-21T00:57:34.569718Z",
          "iopub.status.busy": "2022-05-21T00:57:34.568911Z",
          "iopub.status.idle": "2022-05-21T00:57:34.575841Z",
          "shell.execute_reply": "2022-05-21T00:57:34.575023Z"
        },
        "id": "bRwX8xXS1qI_"
      },
      "outputs": [],
      "source": [
        "import math\n",
        "\n",
        "class BatchGenerator:\n",
        "    def __init__(self, images, labels, batch_size=128):\n",
        "        assert len(images) == len(labels)\n",
        "        self.index = 0\n",
        "        self.images = images\n",
        "        self.labels = labels\n",
        "        self.batch_size = batch_size\n",
        "        self.num_batches = math.ceil(len(images) / batch_size)   \n",
        "\n",
        "    def next(self):\n",
        "        images = self.images[self.index : self.index + self.batch_size]\n",
        "        labels = self.labels[self.index : self.index + self.batch_size]\n",
        "        self.index += self.batch_size\n",
        "        return images, labels"
      ]
    },
    {
      "cell_type": "code",
      "source": [
        "generator1 = BatchGenerator(train_images, train_labels)"
      ],
      "metadata": {
        "id": "jJizuFqrxgvu"
      },
      "execution_count": 113,
      "outputs": []
    },
    {
      "cell_type": "code",
      "source": [
        "generator1.num_batches"
      ],
      "metadata": {
        "id": "eXOAfhbBxgoM",
        "outputId": "84d85d1a-42b8-4ea4-c3fa-7cf77ae2ace3",
        "colab": {
          "base_uri": "https://localhost:8080/"
        }
      },
      "execution_count": 114,
      "outputs": [
        {
          "output_type": "execute_result",
          "data": {
            "text/plain": [
              "469"
            ]
          },
          "metadata": {},
          "execution_count": 114
        }
      ]
    },
    {
      "cell_type": "code",
      "source": [],
      "metadata": {
        "id": "d34Eho77x3a0"
      },
      "execution_count": null,
      "outputs": []
    },
    {
      "cell_type": "markdown",
      "metadata": {
        "id": "UZ89mMQQ1qI_"
      },
      "source": [
        "### 훈련 스텝 실행하기"
      ]
    },
    {
      "cell_type": "code",
      "execution_count": 91,
      "metadata": {
        "execution": {
          "iopub.execute_input": "2022-05-21T00:57:34.579548Z",
          "iopub.status.busy": "2022-05-21T00:57:34.579204Z",
          "iopub.status.idle": "2022-05-21T00:57:34.584549Z",
          "shell.execute_reply": "2022-05-21T00:57:34.583770Z"
        },
        "id": "ts_uBtwz1qJA"
      },
      "outputs": [],
      "source": [
        "def one_training_step(model, images_batch, labels_batch):\n",
        "    with tf.GradientTape() as tape:\n",
        "        predictions = model(images_batch)\n",
        "        per_sample_losses = tf.keras.losses.sparse_categorical_crossentropy(\n",
        "            labels_batch, predictions)\n",
        "        average_loss = tf.reduce_mean(per_sample_losses)\n",
        "    gradients = tape.gradient(average_loss, model.weights)\n",
        "    update_weights(gradients, model.weights)\n",
        "    return average_loss"
      ]
    },
    {
      "cell_type": "code",
      "execution_count": 92,
      "metadata": {
        "execution": {
          "iopub.execute_input": "2022-05-21T00:57:34.587934Z",
          "iopub.status.busy": "2022-05-21T00:57:34.587645Z",
          "iopub.status.idle": "2022-05-21T00:57:34.591908Z",
          "shell.execute_reply": "2022-05-21T00:57:34.591071Z"
        },
        "id": "jaZr2QHV1qJA"
      },
      "outputs": [],
      "source": [
        "learning_rate = 1e-3\n",
        "\n",
        "def update_weights(gradients, weights):\n",
        "    for g, w in zip(gradients, weights):\n",
        "        w.assign_sub(g * learning_rate)"
      ]
    },
    {
      "cell_type": "code",
      "execution_count": 93,
      "metadata": {
        "execution": {
          "iopub.execute_input": "2022-05-21T00:57:34.595476Z",
          "iopub.status.busy": "2022-05-21T00:57:34.595223Z",
          "iopub.status.idle": "2022-05-21T00:57:34.600016Z",
          "shell.execute_reply": "2022-05-21T00:57:34.599071Z"
        },
        "id": "Nn_jpOBZ1qJA"
      },
      "outputs": [],
      "source": [
        "from tensorflow.keras import optimizers\n",
        "\n",
        "optimizer = optimizers.SGD(learning_rate=1e-3)\n",
        "\n",
        "def update_weights(gradients, weights):\n",
        "    optimizer.apply_gradients(zip(gradients, weights))"
      ]
    },
    {
      "cell_type": "markdown",
      "metadata": {
        "id": "yQFTzrXG1qJA"
      },
      "source": [
        "### 전체 훈련 루프"
      ]
    },
    {
      "cell_type": "code",
      "execution_count": 94,
      "metadata": {
        "execution": {
          "iopub.execute_input": "2022-05-21T00:57:34.603512Z",
          "iopub.status.busy": "2022-05-21T00:57:34.603225Z",
          "iopub.status.idle": "2022-05-21T00:57:34.608868Z",
          "shell.execute_reply": "2022-05-21T00:57:34.607981Z"
        },
        "id": "LeD5r6c51qJA"
      },
      "outputs": [],
      "source": [
        "def fit(model, images, labels, epochs, batch_size=128):\n",
        "    for epoch_counter in range(epochs):\n",
        "        print(f\"에포크 {epoch_counter}\")\n",
        "        batch_generator = BatchGenerator(images, labels)\n",
        "        for batch_counter in range(batch_generator.num_batches):\n",
        "            images_batch, labels_batch = batch_generator.next()\n",
        "            loss = one_training_step(model, images_batch, labels_batch)\n",
        "            if batch_counter % 100 == 0:\n",
        "                print(f\"{batch_counter}번째 배치 손실: {loss:.2f}\")"
      ]
    },
    {
      "cell_type": "code",
      "execution_count": 95,
      "metadata": {
        "execution": {
          "iopub.execute_input": "2022-05-21T00:57:34.612683Z",
          "iopub.status.busy": "2022-05-21T00:57:34.612226Z",
          "iopub.status.idle": "2022-05-21T00:58:10.090355Z",
          "shell.execute_reply": "2022-05-21T00:58:10.089432Z"
        },
        "id": "fLGhrHuT1qJA",
        "outputId": "45e0991c-2b81-4187-cdb6-58d3f6498122",
        "colab": {
          "base_uri": "https://localhost:8080/"
        }
      },
      "outputs": [
        {
          "output_type": "stream",
          "name": "stdout",
          "text": [
            "에포크 0\n",
            "0번째 배치 손실: 5.75\n",
            "100번째 배치 손실: 2.24\n",
            "200번째 배치 손실: 2.18\n",
            "300번째 배치 손실: 2.07\n",
            "400번째 배치 손실: 2.18\n",
            "에포크 1\n",
            "0번째 배치 손실: 1.88\n",
            "100번째 배치 손실: 1.88\n",
            "200번째 배치 손실: 1.80\n",
            "300번째 배치 손실: 1.69\n",
            "400번째 배치 손실: 1.79\n",
            "에포크 2\n",
            "0번째 배치 손실: 1.55\n",
            "100번째 배치 손실: 1.58\n",
            "200번째 배치 손실: 1.48\n",
            "300번째 배치 손실: 1.41\n",
            "400번째 배치 손실: 1.48\n",
            "에포크 3\n",
            "0번째 배치 손실: 1.29\n",
            "100번째 배치 손실: 1.34\n",
            "200번째 배치 손실: 1.22\n",
            "300번째 배치 손실: 1.20\n",
            "400번째 배치 손실: 1.25\n",
            "에포크 4\n",
            "0번째 배치 손실: 1.10\n",
            "100번째 배치 손실: 1.16\n",
            "200번째 배치 손실: 1.02\n",
            "300번째 배치 손실: 1.04\n",
            "400번째 배치 손실: 1.08\n",
            "에포크 5\n",
            "0번째 배치 손실: 0.95\n",
            "100번째 배치 손실: 1.02\n",
            "200번째 배치 손실: 0.88\n",
            "300번째 배치 손실: 0.93\n",
            "400번째 배치 손실: 0.97\n",
            "에포크 6\n",
            "0번째 배치 손실: 0.85\n",
            "100번째 배치 손실: 0.92\n",
            "200번째 배치 손실: 0.78\n",
            "300번째 배치 손실: 0.84\n",
            "400번째 배치 손실: 0.88\n",
            "에포크 7\n",
            "0번째 배치 손실: 0.77\n",
            "100번째 배치 손실: 0.84\n",
            "200번째 배치 손실: 0.71\n",
            "300번째 배치 손실: 0.77\n",
            "400번째 배치 손실: 0.81\n",
            "에포크 8\n",
            "0번째 배치 손실: 0.71\n",
            "100번째 배치 손실: 0.77\n",
            "200번째 배치 손실: 0.65\n",
            "300번째 배치 손실: 0.71\n",
            "400번째 배치 손실: 0.76\n",
            "에포크 9\n",
            "0번째 배치 손실: 0.66\n",
            "100번째 배치 손실: 0.72\n",
            "200번째 배치 손실: 0.60\n",
            "300번째 배치 손실: 0.67\n",
            "400번째 배치 손실: 0.72\n"
          ]
        }
      ],
      "source": [
        "from tensorflow.keras.datasets import mnist\n",
        "(train_images, train_labels), (test_images, test_labels) = mnist.load_data()\n",
        "\n",
        "train_images = train_images.reshape((60000, 28 * 28))\n",
        "train_images = train_images.astype(\"float32\") / 255\n",
        "test_images = test_images.reshape((10000, 28 * 28))\n",
        "test_images = test_images.astype(\"float32\") / 255\n",
        "\n",
        "fit(model, train_images, train_labels, epochs=10, batch_size=128)"
      ]
    },
    {
      "cell_type": "markdown",
      "metadata": {
        "id": "h5TNNZ_E1qJA"
      },
      "source": [
        "### 모델 평가하기"
      ]
    },
    {
      "cell_type": "code",
      "execution_count": 96,
      "metadata": {
        "execution": {
          "iopub.execute_input": "2022-05-21T00:58:10.094649Z",
          "iopub.status.busy": "2022-05-21T00:58:10.094318Z",
          "iopub.status.idle": "2022-05-21T00:58:10.165292Z",
          "shell.execute_reply": "2022-05-21T00:58:10.164371Z"
        },
        "id": "S4XG6fSU1qJA",
        "outputId": "548cd380-b4e0-4f9f-bf0a-45b4e859a36c",
        "colab": {
          "base_uri": "https://localhost:8080/"
        }
      },
      "outputs": [
        {
          "output_type": "stream",
          "name": "stdout",
          "text": [
            "정확도: 0.82\n"
          ]
        }
      ],
      "source": [
        "predictions = model(test_images)\n",
        "predictions = predictions.numpy()\n",
        "predicted_labels = np.argmax(predictions, axis=1)\n",
        "matches = predicted_labels == test_labels\n",
        "print(f\"정확도: {matches.mean():.2f}\")"
      ]
    },
    {
      "cell_type": "markdown",
      "metadata": {
        "id": "DSlIQZ5f1qJB"
      },
      "source": [
        "## 요약"
      ]
    }
  ],
  "metadata": {
    "colab": {
      "name": "chapter02_mathematical-building-blocks.i",
      "provenance": [],
      "toc_visible": true
    },
    "kernelspec": {
      "display_name": "default:Python",
      "language": "python",
      "name": "conda-env-default-py"
    },
    "language_info": {
      "codemirror_mode": {
        "name": "ipython",
        "version": 3
      },
      "file_extension": ".py",
      "mimetype": "text/x-python",
      "name": "python",
      "nbconvert_exporter": "python",
      "pygments_lexer": "ipython3",
      "version": "3.9.10"
    },
    "accelerator": "GPU",
    "gpuClass": "standard"
  },
  "nbformat": 4,
  "nbformat_minor": 0
}