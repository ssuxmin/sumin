{
  "cells": [
    {
      "cell_type": "markdown",
      "metadata": {
        "id": "view-in-github",
        "colab_type": "text"
      },
      "source": [
        "<a href=\"https://colab.research.google.com/github/ssuxmin/tmp/blob/main/automl_baseline.ipynb\" target=\"_parent\"><img src=\"https://colab.research.google.com/assets/colab-badge.svg\" alt=\"Open In Colab\"/></a>"
      ]
    },
    {
      "cell_type": "code",
      "execution_count": 17,
      "id": "7dce168b",
      "metadata": {
        "id": "7dce168b"
      },
      "outputs": [],
      "source": [
        "import pandas as pd\n",
        "import numpy as np\n",
        "import random\n",
        "import os\n",
        "\n",
        "from sklearn.preprocessing import LabelEncoder\n",
        "from sklearn.tree import DecisionTreeClassifier\n",
        "import pandas as pd"
      ]
    },
    {
      "cell_type": "code",
      "source": [
        "from google.colab import drive\n",
        "drive.mount('/content/drive')"
      ],
      "metadata": {
        "colab": {
          "base_uri": "https://localhost:8080/"
        },
        "id": "fR5jQR4YPoe2",
        "outputId": "60ea239a-af4e-46cc-d6fc-59da5b1ab322"
      },
      "id": "fR5jQR4YPoe2",
      "execution_count": 18,
      "outputs": [
        {
          "output_type": "stream",
          "name": "stdout",
          "text": [
            "Drive already mounted at /content/drive; to attempt to forcibly remount, call drive.mount(\"/content/drive\", force_remount=True).\n"
          ]
        }
      ]
    },
    {
      "cell_type": "code",
      "source": [
        "train = pd.read_csv('/content/drive/MyDrive/Colab Notebooks/범죄유형/train.csv')\n",
        "test = pd.read_csv('/content/drive/MyDrive/Colab Notebooks/범죄유형/test.csv')"
      ],
      "metadata": {
        "id": "_bxLBqwrP0x1"
      },
      "id": "_bxLBqwrP0x1",
      "execution_count": 19,
      "outputs": []
    },
    {
      "cell_type": "code",
      "execution_count": 20,
      "id": "d6354ac9",
      "metadata": {
        "colab": {
          "base_uri": "https://localhost:8080/"
        },
        "id": "d6354ac9",
        "outputId": "7c00a083-c2b3-498f-bcf3-b6ef6abb2b2c"
      },
      "outputs": [
        {
          "output_type": "stream",
          "name": "stdout",
          "text": [
            "['공원', '백화점', '병원', '식당', '약국', '은행', '인도', '주거지', '주유소', '주차장', '차도', '편의점', '학교', '호텔/모텔']\n",
            "['공원', '백화점', '병원', '식당', '약국', '은행', '인도', '주거지', '주유소', '주차장', '차도', '편의점', '학교', '호텔/모텔']\n"
          ]
        }
      ],
      "source": [
        "print(sorted(train['범죄발생지'].unique()))\n",
        "print(sorted(test['범죄발생지'].unique()))"
      ]
    },
    {
      "cell_type": "markdown",
      "source": [
        "# 시드(seed) 고정  \n",
        "매번 고정된 결과를 얻기 위해서 사용합니다.  \n",
        "시드를 고정하지 않는다면 같은 코드라도 매번 다른 결과가 나올 수 있습니다."
      ],
      "metadata": {
        "id": "VZhrLijBQCdL"
      },
      "id": "VZhrLijBQCdL"
    },
    {
      "cell_type": "code",
      "execution_count": 21,
      "id": "9e38443d",
      "metadata": {
        "id": "9e38443d"
      },
      "outputs": [],
      "source": [
        "def seed_everything(seed):\n",
        "    random.seed(seed)\n",
        "    os.environ['PYTHONHASHSEED'] = str(seed)\n",
        "    np.random.seed(seed)\n",
        "\n",
        "seed_everything(42) # Seed 고정"
      ]
    },
    {
      "cell_type": "code",
      "source": [
        "x_train = train.drop(['ID', 'TARGET'], axis = 1)\n",
        "y_train = train['TARGET']\n",
        "\n",
        "x_test = test.drop('ID', axis = 1)"
      ],
      "metadata": {
        "id": "Zr8A5gLtQP8I"
      },
      "id": "Zr8A5gLtQP8I",
      "execution_count": 35,
      "outputs": []
    },
    {
      "cell_type": "code",
      "execution_count": 23,
      "id": "a15da070",
      "metadata": {
        "id": "a15da070"
      },
      "outputs": [],
      "source": [
        "x_train = train.drop(['ID'], axis = 1)\n",
        "y_train = train['TARGET']\n",
        "\n",
        "x_test = test.drop('ID', axis = 1)"
      ]
    },
    {
      "cell_type": "code",
      "execution_count": 36,
      "id": "c9897d63",
      "metadata": {
        "id": "c9897d63"
      },
      "outputs": [],
      "source": [
        "ordinal_features = ['요일', '범죄발생지']\n",
        "\n",
        "for feature in ordinal_features:\n",
        "    le = LabelEncoder()\n",
        "    le = le.fit(x_train[feature])\n",
        "    x_train[feature] = le.transform(x_train[feature])\n",
        "\n",
        "    # x_train데이터에서 존재하지 않았던 값이 x_test 데이터에 존재할 수도 있습니다.\n",
        "    # 따라서 x_test 데이터를 바로 변형시키지 않고 고윳값을 확인후 x_test 데이터를 변환합니다.\n",
        "    for label in np.unique(x_test[feature]):\n",
        "        if label not in le.classes_:\n",
        "            le.classes_ = np.append(le.classes_, label)\n",
        "    x_test[feature] = le.transform(x_test[feature])"
      ]
    },
    {
      "cell_type": "code",
      "source": [
        "pip install pycaret"
      ],
      "metadata": {
        "colab": {
          "base_uri": "https://localhost:8080/"
        },
        "id": "zZnScqhGQyiG",
        "outputId": "7ff6b47d-b612-47f7-fd99-68efeeb86e12"
      },
      "id": "zZnScqhGQyiG",
      "execution_count": 25,
      "outputs": [
        {
          "output_type": "stream",
          "name": "stdout",
          "text": [
            "Looking in indexes: https://pypi.org/simple, https://us-python.pkg.dev/colab-wheels/public/simple/\n",
            "Requirement already satisfied: pycaret in /usr/local/lib/python3.10/dist-packages (3.0.2)\n",
            "Requirement already satisfied: ipython>=5.5.0 in /usr/local/lib/python3.10/dist-packages (from pycaret) (7.34.0)\n",
            "Requirement already satisfied: ipywidgets>=7.6.5 in /usr/local/lib/python3.10/dist-packages (from pycaret) (7.7.1)\n",
            "Requirement already satisfied: tqdm>=4.62.0 in /usr/local/lib/python3.10/dist-packages (from pycaret) (4.65.0)\n",
            "Requirement already satisfied: numpy<1.24,>=1.21 in /usr/local/lib/python3.10/dist-packages (from pycaret) (1.22.4)\n",
            "Requirement already satisfied: pandas<2.0.0,>=1.3.0 in /usr/local/lib/python3.10/dist-packages (from pycaret) (1.5.3)\n",
            "Requirement already satisfied: jinja2>=1.2 in /usr/local/lib/python3.10/dist-packages (from pycaret) (3.1.2)\n",
            "Requirement already satisfied: scipy<2.0.0 in /usr/local/lib/python3.10/dist-packages (from pycaret) (1.10.1)\n",
            "Requirement already satisfied: joblib>=1.2.0 in /usr/local/lib/python3.10/dist-packages (from pycaret) (1.2.0)\n",
            "Requirement already satisfied: scikit-learn>=1.0 in /usr/local/lib/python3.10/dist-packages (from pycaret) (1.2.2)\n",
            "Requirement already satisfied: pyod>=1.0.8 in /usr/local/lib/python3.10/dist-packages (from pycaret) (1.0.9)\n",
            "Requirement already satisfied: imbalanced-learn>=0.8.1 in /usr/local/lib/python3.10/dist-packages (from pycaret) (0.10.1)\n",
            "Requirement already satisfied: category-encoders>=2.4.0 in /usr/local/lib/python3.10/dist-packages (from pycaret) (2.6.1)\n",
            "Requirement already satisfied: lightgbm>=3.0.0 in /usr/local/lib/python3.10/dist-packages (from pycaret) (3.3.5)\n",
            "Requirement already satisfied: numba>=0.55.0 in /usr/local/lib/python3.10/dist-packages (from pycaret) (0.56.4)\n",
            "Requirement already satisfied: requests>=2.27.1 in /usr/local/lib/python3.10/dist-packages (from pycaret) (2.27.1)\n",
            "Requirement already satisfied: psutil>=5.9.0 in /usr/local/lib/python3.10/dist-packages (from pycaret) (5.9.5)\n",
            "Requirement already satisfied: markupsafe>=2.0.1 in /usr/local/lib/python3.10/dist-packages (from pycaret) (2.1.2)\n",
            "Requirement already satisfied: importlib-metadata>=4.12.0 in /usr/local/lib/python3.10/dist-packages (from pycaret) (6.6.0)\n",
            "Requirement already satisfied: nbformat>=4.2.0 in /usr/local/lib/python3.10/dist-packages (from pycaret) (5.8.0)\n",
            "Requirement already satisfied: cloudpickle in /usr/local/lib/python3.10/dist-packages (from pycaret) (2.2.1)\n",
            "Requirement already satisfied: deprecation>=2.1.0 in /usr/local/lib/python3.10/dist-packages (from pycaret) (2.1.0)\n",
            "Requirement already satisfied: xxhash in /usr/local/lib/python3.10/dist-packages (from pycaret) (3.2.0)\n",
            "Requirement already satisfied: matplotlib>=3.3.0 in /usr/local/lib/python3.10/dist-packages (from pycaret) (3.7.1)\n",
            "Requirement already satisfied: scikit-plot>=0.3.7 in /usr/local/lib/python3.10/dist-packages (from pycaret) (0.3.7)\n",
            "Requirement already satisfied: yellowbrick>=1.4 in /usr/local/lib/python3.10/dist-packages (from pycaret) (1.5)\n",
            "Requirement already satisfied: plotly>=5.0.0 in /usr/local/lib/python3.10/dist-packages (from pycaret) (5.13.1)\n",
            "Requirement already satisfied: kaleido>=0.2.1 in /usr/local/lib/python3.10/dist-packages (from pycaret) (0.2.1)\n",
            "Requirement already satisfied: schemdraw==0.15 in /usr/local/lib/python3.10/dist-packages (from pycaret) (0.15)\n",
            "Requirement already satisfied: plotly-resampler>=0.8.3.1 in /usr/local/lib/python3.10/dist-packages (from pycaret) (0.8.3.2)\n",
            "Requirement already satisfied: statsmodels>=0.12.1 in /usr/local/lib/python3.10/dist-packages (from pycaret) (0.13.5)\n",
            "Requirement already satisfied: sktime!=0.17.1,<0.17.2,>=0.16.1 in /usr/local/lib/python3.10/dist-packages (from pycaret) (0.17.0)\n",
            "Requirement already satisfied: tbats>=1.1.3 in /usr/local/lib/python3.10/dist-packages (from pycaret) (1.1.3)\n",
            "Requirement already satisfied: pmdarima!=1.8.1,<3.0.0,>=1.8.0 in /usr/local/lib/python3.10/dist-packages (from pycaret) (2.0.3)\n",
            "Requirement already satisfied: wurlitzer in /usr/local/lib/python3.10/dist-packages (from pycaret) (3.0.3)\n",
            "Requirement already satisfied: patsy>=0.5.1 in /usr/local/lib/python3.10/dist-packages (from category-encoders>=2.4.0->pycaret) (0.5.3)\n",
            "Requirement already satisfied: packaging in /usr/local/lib/python3.10/dist-packages (from deprecation>=2.1.0->pycaret) (23.1)\n",
            "Requirement already satisfied: threadpoolctl>=2.0.0 in /usr/local/lib/python3.10/dist-packages (from imbalanced-learn>=0.8.1->pycaret) (3.1.0)\n",
            "Requirement already satisfied: zipp>=0.5 in /usr/local/lib/python3.10/dist-packages (from importlib-metadata>=4.12.0->pycaret) (3.15.0)\n",
            "Requirement already satisfied: setuptools>=18.5 in /usr/local/lib/python3.10/dist-packages (from ipython>=5.5.0->pycaret) (67.7.2)\n",
            "Requirement already satisfied: jedi>=0.16 in /usr/local/lib/python3.10/dist-packages (from ipython>=5.5.0->pycaret) (0.18.2)\n",
            "Requirement already satisfied: decorator in /usr/local/lib/python3.10/dist-packages (from ipython>=5.5.0->pycaret) (4.4.2)\n",
            "Requirement already satisfied: pickleshare in /usr/local/lib/python3.10/dist-packages (from ipython>=5.5.0->pycaret) (0.7.5)\n",
            "Requirement already satisfied: traitlets>=4.2 in /usr/local/lib/python3.10/dist-packages (from ipython>=5.5.0->pycaret) (5.7.1)\n",
            "Requirement already satisfied: prompt-toolkit!=3.0.0,!=3.0.1,<3.1.0,>=2.0.0 in /usr/local/lib/python3.10/dist-packages (from ipython>=5.5.0->pycaret) (3.0.38)\n",
            "Requirement already satisfied: pygments in /usr/local/lib/python3.10/dist-packages (from ipython>=5.5.0->pycaret) (2.14.0)\n",
            "Requirement already satisfied: backcall in /usr/local/lib/python3.10/dist-packages (from ipython>=5.5.0->pycaret) (0.2.0)\n",
            "Requirement already satisfied: matplotlib-inline in /usr/local/lib/python3.10/dist-packages (from ipython>=5.5.0->pycaret) (0.1.6)\n",
            "Requirement already satisfied: pexpect>4.3 in /usr/local/lib/python3.10/dist-packages (from ipython>=5.5.0->pycaret) (4.8.0)\n",
            "Requirement already satisfied: ipykernel>=4.5.1 in /usr/local/lib/python3.10/dist-packages (from ipywidgets>=7.6.5->pycaret) (5.5.6)\n",
            "Requirement already satisfied: ipython-genutils~=0.2.0 in /usr/local/lib/python3.10/dist-packages (from ipywidgets>=7.6.5->pycaret) (0.2.0)\n",
            "Requirement already satisfied: widgetsnbextension~=3.6.0 in /usr/local/lib/python3.10/dist-packages (from ipywidgets>=7.6.5->pycaret) (3.6.4)\n",
            "Requirement already satisfied: jupyterlab-widgets>=1.0.0 in /usr/local/lib/python3.10/dist-packages (from ipywidgets>=7.6.5->pycaret) (3.0.7)\n",
            "Requirement already satisfied: wheel in /usr/local/lib/python3.10/dist-packages (from lightgbm>=3.0.0->pycaret) (0.40.0)\n",
            "Requirement already satisfied: contourpy>=1.0.1 in /usr/local/lib/python3.10/dist-packages (from matplotlib>=3.3.0->pycaret) (1.0.7)\n",
            "Requirement already satisfied: cycler>=0.10 in /usr/local/lib/python3.10/dist-packages (from matplotlib>=3.3.0->pycaret) (0.11.0)\n",
            "Requirement already satisfied: fonttools>=4.22.0 in /usr/local/lib/python3.10/dist-packages (from matplotlib>=3.3.0->pycaret) (4.39.3)\n",
            "Requirement already satisfied: kiwisolver>=1.0.1 in /usr/local/lib/python3.10/dist-packages (from matplotlib>=3.3.0->pycaret) (1.4.4)\n",
            "Requirement already satisfied: pillow>=6.2.0 in /usr/local/lib/python3.10/dist-packages (from matplotlib>=3.3.0->pycaret) (8.4.0)\n",
            "Requirement already satisfied: pyparsing>=2.3.1 in /usr/local/lib/python3.10/dist-packages (from matplotlib>=3.3.0->pycaret) (3.0.9)\n",
            "Requirement already satisfied: python-dateutil>=2.7 in /usr/local/lib/python3.10/dist-packages (from matplotlib>=3.3.0->pycaret) (2.8.2)\n",
            "Requirement already satisfied: fastjsonschema in /usr/local/lib/python3.10/dist-packages (from nbformat>=4.2.0->pycaret) (2.16.3)\n",
            "Requirement already satisfied: jsonschema>=2.6 in /usr/local/lib/python3.10/dist-packages (from nbformat>=4.2.0->pycaret) (4.3.3)\n",
            "Requirement already satisfied: jupyter-core in /usr/local/lib/python3.10/dist-packages (from nbformat>=4.2.0->pycaret) (5.3.0)\n",
            "Requirement already satisfied: llvmlite<0.40,>=0.39.0dev0 in /usr/local/lib/python3.10/dist-packages (from numba>=0.55.0->pycaret) (0.39.1)\n",
            "Requirement already satisfied: pytz>=2020.1 in /usr/local/lib/python3.10/dist-packages (from pandas<2.0.0,>=1.3.0->pycaret) (2022.7.1)\n",
            "Requirement already satisfied: tenacity>=6.2.0 in /usr/local/lib/python3.10/dist-packages (from plotly>=5.0.0->pycaret) (8.2.2)\n",
            "Requirement already satisfied: dash<3.0.0,>=2.2.0 in /usr/local/lib/python3.10/dist-packages (from plotly-resampler>=0.8.3.1->pycaret) (2.9.3)\n",
            "Requirement already satisfied: jupyter-dash>=0.4.2 in /usr/local/lib/python3.10/dist-packages (from plotly-resampler>=0.8.3.1->pycaret) (0.4.2)\n",
            "Requirement already satisfied: orjson<4.0.0,>=3.8.0 in /usr/local/lib/python3.10/dist-packages (from plotly-resampler>=0.8.3.1->pycaret) (3.8.13)\n",
            "Requirement already satisfied: trace-updater>=0.0.8 in /usr/local/lib/python3.10/dist-packages (from plotly-resampler>=0.8.3.1->pycaret) (0.0.9.1)\n",
            "Requirement already satisfied: Cython!=0.29.18,!=0.29.31,>=0.29 in /usr/local/lib/python3.10/dist-packages (from pmdarima!=1.8.1,<3.0.0,>=1.8.0->pycaret) (0.29.34)\n",
            "Requirement already satisfied: urllib3 in /usr/local/lib/python3.10/dist-packages (from pmdarima!=1.8.1,<3.0.0,>=1.8.0->pycaret) (1.26.15)\n",
            "Requirement already satisfied: six in /usr/local/lib/python3.10/dist-packages (from pyod>=1.0.8->pycaret) (1.16.0)\n",
            "Requirement already satisfied: certifi>=2017.4.17 in /usr/local/lib/python3.10/dist-packages (from requests>=2.27.1->pycaret) (2022.12.7)\n",
            "Requirement already satisfied: charset-normalizer~=2.0.0 in /usr/local/lib/python3.10/dist-packages (from requests>=2.27.1->pycaret) (2.0.12)\n",
            "Requirement already satisfied: idna<4,>=2.5 in /usr/local/lib/python3.10/dist-packages (from requests>=2.27.1->pycaret) (3.4)\n",
            "Requirement already satisfied: deprecated>=1.2.13 in /usr/local/lib/python3.10/dist-packages (from sktime!=0.17.1,<0.17.2,>=0.16.1->pycaret) (1.2.13)\n",
            "Requirement already satisfied: Flask>=1.0.4 in /usr/local/lib/python3.10/dist-packages (from dash<3.0.0,>=2.2.0->plotly-resampler>=0.8.3.1->pycaret) (2.2.4)\n",
            "Requirement already satisfied: dash-html-components==2.0.0 in /usr/local/lib/python3.10/dist-packages (from dash<3.0.0,>=2.2.0->plotly-resampler>=0.8.3.1->pycaret) (2.0.0)\n",
            "Requirement already satisfied: dash-core-components==2.0.0 in /usr/local/lib/python3.10/dist-packages (from dash<3.0.0,>=2.2.0->plotly-resampler>=0.8.3.1->pycaret) (2.0.0)\n",
            "Requirement already satisfied: dash-table==5.0.0 in /usr/local/lib/python3.10/dist-packages (from dash<3.0.0,>=2.2.0->plotly-resampler>=0.8.3.1->pycaret) (5.0.0)\n",
            "Requirement already satisfied: wrapt<2,>=1.10 in /usr/local/lib/python3.10/dist-packages (from deprecated>=1.2.13->sktime!=0.17.1,<0.17.2,>=0.16.1->pycaret) (1.14.1)\n",
            "Requirement already satisfied: jupyter-client in /usr/local/lib/python3.10/dist-packages (from ipykernel>=4.5.1->ipywidgets>=7.6.5->pycaret) (6.1.12)\n",
            "Requirement already satisfied: tornado>=4.2 in /usr/local/lib/python3.10/dist-packages (from ipykernel>=4.5.1->ipywidgets>=7.6.5->pycaret) (6.3.1)\n",
            "Requirement already satisfied: parso<0.9.0,>=0.8.0 in /usr/local/lib/python3.10/dist-packages (from jedi>=0.16->ipython>=5.5.0->pycaret) (0.8.3)\n",
            "Requirement already satisfied: attrs>=17.4.0 in /usr/local/lib/python3.10/dist-packages (from jsonschema>=2.6->nbformat>=4.2.0->pycaret) (23.1.0)\n",
            "Requirement already satisfied: pyrsistent!=0.17.0,!=0.17.1,!=0.17.2,>=0.14.0 in /usr/local/lib/python3.10/dist-packages (from jsonschema>=2.6->nbformat>=4.2.0->pycaret) (0.19.3)\n",
            "Requirement already satisfied: retrying in /usr/local/lib/python3.10/dist-packages (from jupyter-dash>=0.4.2->plotly-resampler>=0.8.3.1->pycaret) (1.3.4)\n",
            "Requirement already satisfied: ansi2html in /usr/local/lib/python3.10/dist-packages (from jupyter-dash>=0.4.2->plotly-resampler>=0.8.3.1->pycaret) (1.8.0)\n",
            "Requirement already satisfied: nest-asyncio in /usr/local/lib/python3.10/dist-packages (from jupyter-dash>=0.4.2->plotly-resampler>=0.8.3.1->pycaret) (1.5.6)\n",
            "Requirement already satisfied: ptyprocess>=0.5 in /usr/local/lib/python3.10/dist-packages (from pexpect>4.3->ipython>=5.5.0->pycaret) (0.7.0)\n",
            "Requirement already satisfied: wcwidth in /usr/local/lib/python3.10/dist-packages (from prompt-toolkit!=3.0.0,!=3.0.1,<3.1.0,>=2.0.0->ipython>=5.5.0->pycaret) (0.2.6)\n",
            "Requirement already satisfied: notebook>=4.4.1 in /usr/local/lib/python3.10/dist-packages (from widgetsnbextension~=3.6.0->ipywidgets>=7.6.5->pycaret) (6.4.8)\n",
            "Requirement already satisfied: platformdirs>=2.5 in /usr/local/lib/python3.10/dist-packages (from jupyter-core->nbformat>=4.2.0->pycaret) (3.3.0)\n",
            "Requirement already satisfied: Werkzeug>=2.2.2 in /usr/local/lib/python3.10/dist-packages (from Flask>=1.0.4->dash<3.0.0,>=2.2.0->plotly-resampler>=0.8.3.1->pycaret) (2.3.0)\n",
            "Requirement already satisfied: itsdangerous>=2.0 in /usr/local/lib/python3.10/dist-packages (from Flask>=1.0.4->dash<3.0.0,>=2.2.0->plotly-resampler>=0.8.3.1->pycaret) (2.1.2)\n",
            "Requirement already satisfied: click>=8.0 in /usr/local/lib/python3.10/dist-packages (from Flask>=1.0.4->dash<3.0.0,>=2.2.0->plotly-resampler>=0.8.3.1->pycaret) (8.1.3)\n",
            "Requirement already satisfied: pyzmq>=17 in /usr/local/lib/python3.10/dist-packages (from notebook>=4.4.1->widgetsnbextension~=3.6.0->ipywidgets>=7.6.5->pycaret) (23.2.1)\n",
            "Requirement already satisfied: argon2-cffi in /usr/local/lib/python3.10/dist-packages (from notebook>=4.4.1->widgetsnbextension~=3.6.0->ipywidgets>=7.6.5->pycaret) (21.3.0)\n",
            "Requirement already satisfied: nbconvert in /usr/local/lib/python3.10/dist-packages (from notebook>=4.4.1->widgetsnbextension~=3.6.0->ipywidgets>=7.6.5->pycaret) (6.5.4)\n",
            "Requirement already satisfied: Send2Trash>=1.8.0 in /usr/local/lib/python3.10/dist-packages (from notebook>=4.4.1->widgetsnbextension~=3.6.0->ipywidgets>=7.6.5->pycaret) (1.8.0)\n",
            "Requirement already satisfied: terminado>=0.8.3 in /usr/local/lib/python3.10/dist-packages (from notebook>=4.4.1->widgetsnbextension~=3.6.0->ipywidgets>=7.6.5->pycaret) (0.17.1)\n",
            "Requirement already satisfied: prometheus-client in /usr/local/lib/python3.10/dist-packages (from notebook>=4.4.1->widgetsnbextension~=3.6.0->ipywidgets>=7.6.5->pycaret) (0.16.0)\n",
            "Requirement already satisfied: argon2-cffi-bindings in /usr/local/lib/python3.10/dist-packages (from argon2-cffi->notebook>=4.4.1->widgetsnbextension~=3.6.0->ipywidgets>=7.6.5->pycaret) (21.2.0)\n",
            "Requirement already satisfied: lxml in /usr/local/lib/python3.10/dist-packages (from nbconvert->notebook>=4.4.1->widgetsnbextension~=3.6.0->ipywidgets>=7.6.5->pycaret) (4.9.2)\n",
            "Requirement already satisfied: beautifulsoup4 in /usr/local/lib/python3.10/dist-packages (from nbconvert->notebook>=4.4.1->widgetsnbextension~=3.6.0->ipywidgets>=7.6.5->pycaret) (4.11.2)\n",
            "Requirement already satisfied: bleach in /usr/local/lib/python3.10/dist-packages (from nbconvert->notebook>=4.4.1->widgetsnbextension~=3.6.0->ipywidgets>=7.6.5->pycaret) (6.0.0)\n",
            "Requirement already satisfied: defusedxml in /usr/local/lib/python3.10/dist-packages (from nbconvert->notebook>=4.4.1->widgetsnbextension~=3.6.0->ipywidgets>=7.6.5->pycaret) (0.7.1)\n",
            "Requirement already satisfied: entrypoints>=0.2.2 in /usr/local/lib/python3.10/dist-packages (from nbconvert->notebook>=4.4.1->widgetsnbextension~=3.6.0->ipywidgets>=7.6.5->pycaret) (0.4)\n",
            "Requirement already satisfied: jupyterlab-pygments in /usr/local/lib/python3.10/dist-packages (from nbconvert->notebook>=4.4.1->widgetsnbextension~=3.6.0->ipywidgets>=7.6.5->pycaret) (0.2.2)\n",
            "Requirement already satisfied: mistune<2,>=0.8.1 in /usr/local/lib/python3.10/dist-packages (from nbconvert->notebook>=4.4.1->widgetsnbextension~=3.6.0->ipywidgets>=7.6.5->pycaret) (0.8.4)\n",
            "Requirement already satisfied: nbclient>=0.5.0 in /usr/local/lib/python3.10/dist-packages (from nbconvert->notebook>=4.4.1->widgetsnbextension~=3.6.0->ipywidgets>=7.6.5->pycaret) (0.7.4)\n",
            "Requirement already satisfied: pandocfilters>=1.4.1 in /usr/local/lib/python3.10/dist-packages (from nbconvert->notebook>=4.4.1->widgetsnbextension~=3.6.0->ipywidgets>=7.6.5->pycaret) (1.5.0)\n",
            "Requirement already satisfied: tinycss2 in /usr/local/lib/python3.10/dist-packages (from nbconvert->notebook>=4.4.1->widgetsnbextension~=3.6.0->ipywidgets>=7.6.5->pycaret) (1.2.1)\n",
            "Requirement already satisfied: cffi>=1.0.1 in /usr/local/lib/python3.10/dist-packages (from argon2-cffi-bindings->argon2-cffi->notebook>=4.4.1->widgetsnbextension~=3.6.0->ipywidgets>=7.6.5->pycaret) (1.15.1)\n",
            "Requirement already satisfied: soupsieve>1.2 in /usr/local/lib/python3.10/dist-packages (from beautifulsoup4->nbconvert->notebook>=4.4.1->widgetsnbextension~=3.6.0->ipywidgets>=7.6.5->pycaret) (2.4.1)\n",
            "Requirement already satisfied: webencodings in /usr/local/lib/python3.10/dist-packages (from bleach->nbconvert->notebook>=4.4.1->widgetsnbextension~=3.6.0->ipywidgets>=7.6.5->pycaret) (0.5.1)\n",
            "Requirement already satisfied: pycparser in /usr/local/lib/python3.10/dist-packages (from cffi>=1.0.1->argon2-cffi-bindings->argon2-cffi->notebook>=4.4.1->widgetsnbextension~=3.6.0->ipywidgets>=7.6.5->pycaret) (2.21)\n"
          ]
        }
      ]
    },
    {
      "cell_type": "code",
      "execution_count": 37,
      "id": "7556fbe9",
      "metadata": {
        "colab": {
          "base_uri": "https://localhost:8080/",
          "height": 361
        },
        "id": "7556fbe9",
        "outputId": "b9a862e9-e4fb-4eb7-caa1-576762b6b121"
      },
      "outputs": [
        {
          "output_type": "error",
          "ename": "ValueError",
          "evalue": "ignored",
          "traceback": [
            "\u001b[0;31m---------------------------------------------------------------------------\u001b[0m",
            "\u001b[0;31mValueError\u001b[0m                                Traceback (most recent call last)",
            "\u001b[0;32m<ipython-input-37-dd851b1302de>\u001b[0m in \u001b[0;36m<cell line: 2>\u001b[0;34m()\u001b[0m\n\u001b[1;32m      1\u001b[0m \u001b[0;32mfrom\u001b[0m \u001b[0mpycaret\u001b[0m \u001b[0;32mimport\u001b[0m \u001b[0mclassification\u001b[0m\u001b[0;34m\u001b[0m\u001b[0;34m\u001b[0m\u001b[0m\n\u001b[0;32m----> 2\u001b[0;31m classification.setup(data=x_train,target='TARGET',\n\u001b[0m\u001b[1;32m      3\u001b[0m                  remove_outliers=True)\n",
            "\u001b[0;32m/usr/local/lib/python3.10/dist-packages/pycaret/classification/functional.py\u001b[0m in \u001b[0;36msetup\u001b[0;34m(data, data_func, target, index, train_size, test_data, ordinal_features, numeric_features, categorical_features, date_features, text_features, ignore_features, keep_features, preprocess, create_date_columns, imputation_type, numeric_imputation, categorical_imputation, iterative_imputation_iters, numeric_iterative_imputer, categorical_iterative_imputer, text_features_method, max_encoding_ohe, encoding_method, rare_to_value, rare_value, polynomial_features, polynomial_degree, low_variance_threshold, group_features, group_names, drop_groups, remove_multicollinearity, multicollinearity_threshold, bin_numeric_features, remove_outliers, outliers_method, outliers_threshold, fix_imbalance, fix_imbalance_method, transformation, transformation_method, normalize, normalize_method, pca, pca_method, pca_components, feature_selection, feature_selection_method, feature_selection_estimator, n_features_to_select, custom_pipeline, custom_pipeline_position, data_split_shuffle, data_split_stratify, fold_strategy, fold, fold_shuffle, fold_groups, n_jobs, use_gpu, html, session_id, system_log, log_experiment, experiment_name, experiment_custom_tags, log_plots, log_profile, log_data, verbose, memory, profile, profile_kwargs)\u001b[0m\n\u001b[1;32m    600\u001b[0m     \u001b[0mexp\u001b[0m \u001b[0;34m=\u001b[0m \u001b[0m_EXPERIMENT_CLASS\u001b[0m\u001b[0;34m(\u001b[0m\u001b[0;34m)\u001b[0m\u001b[0;34m\u001b[0m\u001b[0;34m\u001b[0m\u001b[0m\n\u001b[1;32m    601\u001b[0m     \u001b[0mset_current_experiment\u001b[0m\u001b[0;34m(\u001b[0m\u001b[0mexp\u001b[0m\u001b[0;34m)\u001b[0m\u001b[0;34m\u001b[0m\u001b[0;34m\u001b[0m\u001b[0m\n\u001b[0;32m--> 602\u001b[0;31m     return exp.setup(\n\u001b[0m\u001b[1;32m    603\u001b[0m         \u001b[0mdata\u001b[0m\u001b[0;34m=\u001b[0m\u001b[0mdata\u001b[0m\u001b[0;34m,\u001b[0m\u001b[0;34m\u001b[0m\u001b[0;34m\u001b[0m\u001b[0m\n\u001b[1;32m    604\u001b[0m         \u001b[0mdata_func\u001b[0m\u001b[0;34m=\u001b[0m\u001b[0mdata_func\u001b[0m\u001b[0;34m,\u001b[0m\u001b[0;34m\u001b[0m\u001b[0;34m\u001b[0m\u001b[0m\n",
            "\u001b[0;32m/usr/local/lib/python3.10/dist-packages/pycaret/classification/oop.py\u001b[0m in \u001b[0;36msetup\u001b[0;34m(self, data, data_func, target, index, train_size, test_data, ordinal_features, numeric_features, categorical_features, date_features, text_features, ignore_features, keep_features, preprocess, create_date_columns, imputation_type, numeric_imputation, categorical_imputation, iterative_imputation_iters, numeric_iterative_imputer, categorical_iterative_imputer, text_features_method, max_encoding_ohe, encoding_method, rare_to_value, rare_value, polynomial_features, polynomial_degree, low_variance_threshold, group_features, group_names, drop_groups, remove_multicollinearity, multicollinearity_threshold, bin_numeric_features, remove_outliers, outliers_method, outliers_threshold, fix_imbalance, fix_imbalance_method, transformation, transformation_method, normalize, normalize_method, pca, pca_method, pca_components, feature_selection, feature_selection_method, feature_selection_estimator, n_features_to_select, custom_pipeline, custom_pipeline_position, data_split_shuffle, data_split_stratify, fold_strategy, fold, fold_shuffle, fold_groups, n_jobs, use_gpu, html, session_id, system_log, log_experiment, experiment_name, experiment_custom_tags, log_plots, log_profile, log_data, engine, verbose, memory, profile, profile_kwargs)\u001b[0m\n\u001b[1;32m    753\u001b[0m             \u001b[0mdata\u001b[0m \u001b[0;34m=\u001b[0m \u001b[0mdata_func\u001b[0m\u001b[0;34m(\u001b[0m\u001b[0;34m)\u001b[0m\u001b[0;34m\u001b[0m\u001b[0;34m\u001b[0m\u001b[0m\n\u001b[1;32m    754\u001b[0m \u001b[0;34m\u001b[0m\u001b[0m\n\u001b[0;32m--> 755\u001b[0;31m         \u001b[0mself\u001b[0m\u001b[0;34m.\u001b[0m\u001b[0mdata\u001b[0m \u001b[0;34m=\u001b[0m \u001b[0mself\u001b[0m\u001b[0;34m.\u001b[0m\u001b[0m_prepare_dataset\u001b[0m\u001b[0;34m(\u001b[0m\u001b[0mdata\u001b[0m\u001b[0;34m,\u001b[0m \u001b[0mtarget\u001b[0m\u001b[0;34m)\u001b[0m\u001b[0;34m\u001b[0m\u001b[0;34m\u001b[0m\u001b[0m\n\u001b[0m\u001b[1;32m    756\u001b[0m         \u001b[0mself\u001b[0m\u001b[0;34m.\u001b[0m\u001b[0mtarget_param\u001b[0m \u001b[0;34m=\u001b[0m \u001b[0mself\u001b[0m\u001b[0;34m.\u001b[0m\u001b[0mdata\u001b[0m\u001b[0;34m.\u001b[0m\u001b[0mcolumns\u001b[0m\u001b[0;34m[\u001b[0m\u001b[0;34m-\u001b[0m\u001b[0;36m1\u001b[0m\u001b[0;34m]\u001b[0m\u001b[0;34m\u001b[0m\u001b[0;34m\u001b[0m\u001b[0m\n\u001b[1;32m    757\u001b[0m         \u001b[0mself\u001b[0m\u001b[0;34m.\u001b[0m\u001b[0mindex\u001b[0m \u001b[0;34m=\u001b[0m \u001b[0mindex\u001b[0m\u001b[0;34m\u001b[0m\u001b[0;34m\u001b[0m\u001b[0m\n",
            "\u001b[0;32m/usr/local/lib/python3.10/dist-packages/pycaret/internal/preprocess/preprocessor.py\u001b[0m in \u001b[0;36m_prepare_dataset\u001b[0;34m(self, X, y)\u001b[0m\n\u001b[1;32m    146\u001b[0m         \u001b[0;32melif\u001b[0m \u001b[0misinstance\u001b[0m\u001b[0;34m(\u001b[0m\u001b[0my\u001b[0m\u001b[0;34m,\u001b[0m \u001b[0mstr\u001b[0m\u001b[0;34m)\u001b[0m\u001b[0;34m:\u001b[0m\u001b[0;34m\u001b[0m\u001b[0;34m\u001b[0m\u001b[0m\n\u001b[1;32m    147\u001b[0m             \u001b[0;32mif\u001b[0m \u001b[0my\u001b[0m \u001b[0;32mnot\u001b[0m \u001b[0;32min\u001b[0m \u001b[0mX\u001b[0m\u001b[0;34m.\u001b[0m\u001b[0mcolumns\u001b[0m\u001b[0;34m:\u001b[0m\u001b[0;34m\u001b[0m\u001b[0;34m\u001b[0m\u001b[0m\n\u001b[0;32m--> 148\u001b[0;31m                 raise ValueError(\n\u001b[0m\u001b[1;32m    149\u001b[0m                     \u001b[0;34m\"Invalid value for the target parameter. \"\u001b[0m\u001b[0;34m\u001b[0m\u001b[0;34m\u001b[0m\u001b[0m\n\u001b[1;32m    150\u001b[0m                     \u001b[0;34mf\"Column {y} not found in the data.\"\u001b[0m\u001b[0;34m\u001b[0m\u001b[0;34m\u001b[0m\u001b[0m\n",
            "\u001b[0;31mValueError\u001b[0m: Invalid value for the target parameter. Column TARGET not found in the data."
          ]
        }
      ],
      "source": [
        "from pycaret import classification\n",
        "classification.setup(data=x_train,target='TARGET',\n",
        "                 remove_outliers=True)"
      ]
    },
    {
      "cell_type": "code",
      "execution_count": 28,
      "id": "03fa8f95",
      "metadata": {
        "id": "03fa8f95",
        "colab": {
          "base_uri": "https://localhost:8080/",
          "height": 519,
          "referenced_widgets": [
            "4330fee3232e4aa386ca032432b038d5",
            "5ede3cf3728541ecb48bc2847d528705",
            "6bd7158149054409a83bdeb173cffafe",
            "a2bfc5dcfc714a74afd04a89ac83f291",
            "757abca72ac3482ab8ccb37c59af5e9b",
            "463944b440df453ca716bd1a62cf8f97",
            "c7a47d5f99754b6297b9f358b6096a86",
            "e9a26eb8f68244538ea859519726186c",
            "d239eac40e644884907d7b70cbf57f94",
            "056553436ded4efdaf43a204961f87ed",
            "f3738ee3c7c341d4bf8d26cd664cfe39"
          ]
        },
        "outputId": "64586c10-689c-4040-a6ef-c78fe18041e9"
      },
      "outputs": [
        {
          "output_type": "display_data",
          "data": {
            "text/plain": [
              "<IPython.core.display.HTML object>"
            ],
            "text/html": []
          },
          "metadata": {}
        },
        {
          "output_type": "display_data",
          "data": {
            "text/plain": [
              "<pandas.io.formats.style.Styler at 0x7f9ec42d2710>"
            ],
            "text/html": [
              "<style type=\"text/css\">\n",
              "#T_96fb7 th {\n",
              "  text-align: left;\n",
              "}\n",
              "#T_96fb7_row0_col0, #T_96fb7_row0_col4, #T_96fb7_row1_col0, #T_96fb7_row1_col1, #T_96fb7_row1_col2, #T_96fb7_row1_col3, #T_96fb7_row1_col5, #T_96fb7_row1_col6, #T_96fb7_row1_col7, #T_96fb7_row2_col0, #T_96fb7_row2_col1, #T_96fb7_row2_col2, #T_96fb7_row2_col3, #T_96fb7_row2_col4, #T_96fb7_row2_col5, #T_96fb7_row2_col6, #T_96fb7_row2_col7, #T_96fb7_row3_col0, #T_96fb7_row3_col1, #T_96fb7_row3_col2, #T_96fb7_row3_col3, #T_96fb7_row3_col4, #T_96fb7_row3_col5, #T_96fb7_row3_col6, #T_96fb7_row3_col7, #T_96fb7_row4_col0, #T_96fb7_row4_col1, #T_96fb7_row4_col2, #T_96fb7_row4_col3, #T_96fb7_row4_col4, #T_96fb7_row4_col5, #T_96fb7_row4_col6, #T_96fb7_row4_col7, #T_96fb7_row5_col0, #T_96fb7_row5_col1, #T_96fb7_row5_col2, #T_96fb7_row5_col3, #T_96fb7_row5_col4, #T_96fb7_row5_col5, #T_96fb7_row5_col6, #T_96fb7_row5_col7, #T_96fb7_row6_col0, #T_96fb7_row6_col1, #T_96fb7_row6_col2, #T_96fb7_row6_col3, #T_96fb7_row6_col4, #T_96fb7_row6_col5, #T_96fb7_row6_col6, #T_96fb7_row6_col7, #T_96fb7_row7_col0, #T_96fb7_row7_col1, #T_96fb7_row7_col2, #T_96fb7_row7_col3, #T_96fb7_row7_col4, #T_96fb7_row7_col5, #T_96fb7_row7_col6, #T_96fb7_row7_col7, #T_96fb7_row8_col0, #T_96fb7_row8_col1, #T_96fb7_row8_col2, #T_96fb7_row8_col3, #T_96fb7_row8_col4, #T_96fb7_row8_col5, #T_96fb7_row8_col6, #T_96fb7_row8_col7, #T_96fb7_row9_col0, #T_96fb7_row9_col1, #T_96fb7_row9_col2, #T_96fb7_row9_col3, #T_96fb7_row9_col4, #T_96fb7_row9_col5, #T_96fb7_row9_col6, #T_96fb7_row9_col7, #T_96fb7_row10_col0, #T_96fb7_row10_col1, #T_96fb7_row10_col2, #T_96fb7_row10_col3, #T_96fb7_row10_col4, #T_96fb7_row10_col5, #T_96fb7_row10_col6, #T_96fb7_row10_col7, #T_96fb7_row11_col0, #T_96fb7_row11_col1, #T_96fb7_row11_col2, #T_96fb7_row11_col3, #T_96fb7_row11_col4, #T_96fb7_row11_col5, #T_96fb7_row11_col6, #T_96fb7_row11_col7, #T_96fb7_row12_col0, #T_96fb7_row12_col1, #T_96fb7_row12_col2, #T_96fb7_row12_col3, #T_96fb7_row12_col4, #T_96fb7_row12_col5, #T_96fb7_row12_col6, #T_96fb7_row12_col7, #T_96fb7_row13_col0, #T_96fb7_row13_col1, #T_96fb7_row13_col2, #T_96fb7_row13_col3, #T_96fb7_row13_col4, #T_96fb7_row13_col5, #T_96fb7_row13_col6, #T_96fb7_row13_col7, #T_96fb7_row14_col0, #T_96fb7_row14_col1, #T_96fb7_row14_col2, #T_96fb7_row14_col3, #T_96fb7_row14_col4, #T_96fb7_row14_col5, #T_96fb7_row14_col6, #T_96fb7_row14_col7 {\n",
              "  text-align: left;\n",
              "}\n",
              "#T_96fb7_row0_col1, #T_96fb7_row0_col2, #T_96fb7_row0_col3, #T_96fb7_row0_col5, #T_96fb7_row0_col6, #T_96fb7_row0_col7, #T_96fb7_row1_col4 {\n",
              "  text-align: left;\n",
              "  background-color: yellow;\n",
              "}\n",
              "#T_96fb7_row0_col8, #T_96fb7_row1_col8, #T_96fb7_row2_col8, #T_96fb7_row3_col8, #T_96fb7_row4_col8, #T_96fb7_row5_col8, #T_96fb7_row6_col8, #T_96fb7_row7_col8, #T_96fb7_row9_col8, #T_96fb7_row10_col8, #T_96fb7_row11_col8, #T_96fb7_row12_col8, #T_96fb7_row13_col8, #T_96fb7_row14_col8 {\n",
              "  text-align: left;\n",
              "  background-color: lightgrey;\n",
              "}\n",
              "#T_96fb7_row8_col8 {\n",
              "  text-align: left;\n",
              "  background-color: yellow;\n",
              "  background-color: lightgrey;\n",
              "}\n",
              "</style>\n",
              "<table id=\"T_96fb7\" class=\"dataframe\">\n",
              "  <thead>\n",
              "    <tr>\n",
              "      <th class=\"blank level0\" >&nbsp;</th>\n",
              "      <th id=\"T_96fb7_level0_col0\" class=\"col_heading level0 col0\" >Model</th>\n",
              "      <th id=\"T_96fb7_level0_col1\" class=\"col_heading level0 col1\" >Accuracy</th>\n",
              "      <th id=\"T_96fb7_level0_col2\" class=\"col_heading level0 col2\" >AUC</th>\n",
              "      <th id=\"T_96fb7_level0_col3\" class=\"col_heading level0 col3\" >Recall</th>\n",
              "      <th id=\"T_96fb7_level0_col4\" class=\"col_heading level0 col4\" >Prec.</th>\n",
              "      <th id=\"T_96fb7_level0_col5\" class=\"col_heading level0 col5\" >F1</th>\n",
              "      <th id=\"T_96fb7_level0_col6\" class=\"col_heading level0 col6\" >Kappa</th>\n",
              "      <th id=\"T_96fb7_level0_col7\" class=\"col_heading level0 col7\" >MCC</th>\n",
              "      <th id=\"T_96fb7_level0_col8\" class=\"col_heading level0 col8\" >TT (Sec)</th>\n",
              "    </tr>\n",
              "  </thead>\n",
              "  <tbody>\n",
              "    <tr>\n",
              "      <th id=\"T_96fb7_level0_row0\" class=\"row_heading level0 row0\" >lightgbm</th>\n",
              "      <td id=\"T_96fb7_row0_col0\" class=\"data row0 col0\" >Light Gradient Boosting Machine</td>\n",
              "      <td id=\"T_96fb7_row0_col1\" class=\"data row0 col1\" >0.5492</td>\n",
              "      <td id=\"T_96fb7_row0_col2\" class=\"data row0 col2\" >0.6990</td>\n",
              "      <td id=\"T_96fb7_row0_col3\" class=\"data row0 col3\" >0.5492</td>\n",
              "      <td id=\"T_96fb7_row0_col4\" class=\"data row0 col4\" >0.5460</td>\n",
              "      <td id=\"T_96fb7_row0_col5\" class=\"data row0 col5\" >0.5389</td>\n",
              "      <td id=\"T_96fb7_row0_col6\" class=\"data row0 col6\" >0.2884</td>\n",
              "      <td id=\"T_96fb7_row0_col7\" class=\"data row0 col7\" >0.2942</td>\n",
              "      <td id=\"T_96fb7_row0_col8\" class=\"data row0 col8\" >2.6160</td>\n",
              "    </tr>\n",
              "    <tr>\n",
              "      <th id=\"T_96fb7_level0_row1\" class=\"row_heading level0 row1\" >gbc</th>\n",
              "      <td id=\"T_96fb7_row1_col0\" class=\"data row1 col0\" >Gradient Boosting Classifier</td>\n",
              "      <td id=\"T_96fb7_row1_col1\" class=\"data row1 col1\" >0.5477</td>\n",
              "      <td id=\"T_96fb7_row1_col2\" class=\"data row1 col2\" >0.6970</td>\n",
              "      <td id=\"T_96fb7_row1_col3\" class=\"data row1 col3\" >0.5477</td>\n",
              "      <td id=\"T_96fb7_row1_col4\" class=\"data row1 col4\" >0.5462</td>\n",
              "      <td id=\"T_96fb7_row1_col5\" class=\"data row1 col5\" >0.5373</td>\n",
              "      <td id=\"T_96fb7_row1_col6\" class=\"data row1 col6\" >0.2863</td>\n",
              "      <td id=\"T_96fb7_row1_col7\" class=\"data row1 col7\" >0.2924</td>\n",
              "      <td id=\"T_96fb7_row1_col8\" class=\"data row1 col8\" >24.7480</td>\n",
              "    </tr>\n",
              "    <tr>\n",
              "      <th id=\"T_96fb7_level0_row2\" class=\"row_heading level0 row2\" >xgboost</th>\n",
              "      <td id=\"T_96fb7_row2_col0\" class=\"data row2 col0\" >Extreme Gradient Boosting</td>\n",
              "      <td id=\"T_96fb7_row2_col1\" class=\"data row2 col1\" >0.5435</td>\n",
              "      <td id=\"T_96fb7_row2_col2\" class=\"data row2 col2\" >0.6925</td>\n",
              "      <td id=\"T_96fb7_row2_col3\" class=\"data row2 col3\" >0.5435</td>\n",
              "      <td id=\"T_96fb7_row2_col4\" class=\"data row2 col4\" >0.5392</td>\n",
              "      <td id=\"T_96fb7_row2_col5\" class=\"data row2 col5\" >0.5335</td>\n",
              "      <td id=\"T_96fb7_row2_col6\" class=\"data row2 col6\" >0.2801</td>\n",
              "      <td id=\"T_96fb7_row2_col7\" class=\"data row2 col7\" >0.2853</td>\n",
              "      <td id=\"T_96fb7_row2_col8\" class=\"data row2 col8\" >18.6400</td>\n",
              "    </tr>\n",
              "    <tr>\n",
              "      <th id=\"T_96fb7_level0_row3\" class=\"row_heading level0 row3\" >ada</th>\n",
              "      <td id=\"T_96fb7_row3_col0\" class=\"data row3 col0\" >Ada Boost Classifier</td>\n",
              "      <td id=\"T_96fb7_row3_col1\" class=\"data row3 col1\" >0.5428</td>\n",
              "      <td id=\"T_96fb7_row3_col2\" class=\"data row3 col2\" >0.6861</td>\n",
              "      <td id=\"T_96fb7_row3_col3\" class=\"data row3 col3\" >0.5428</td>\n",
              "      <td id=\"T_96fb7_row3_col4\" class=\"data row3 col4\" >0.5406</td>\n",
              "      <td id=\"T_96fb7_row3_col5\" class=\"data row3 col5\" >0.5333</td>\n",
              "      <td id=\"T_96fb7_row3_col6\" class=\"data row3 col6\" >0.2809</td>\n",
              "      <td id=\"T_96fb7_row3_col7\" class=\"data row3 col7\" >0.2859</td>\n",
              "      <td id=\"T_96fb7_row3_col8\" class=\"data row3 col8\" >2.7020</td>\n",
              "    </tr>\n",
              "    <tr>\n",
              "      <th id=\"T_96fb7_level0_row4\" class=\"row_heading level0 row4\" >rf</th>\n",
              "      <td id=\"T_96fb7_row4_col0\" class=\"data row4 col0\" >Random Forest Classifier</td>\n",
              "      <td id=\"T_96fb7_row4_col1\" class=\"data row4 col1\" >0.5238</td>\n",
              "      <td id=\"T_96fb7_row4_col2\" class=\"data row4 col2\" >0.6739</td>\n",
              "      <td id=\"T_96fb7_row4_col3\" class=\"data row4 col3\" >0.5238</td>\n",
              "      <td id=\"T_96fb7_row4_col4\" class=\"data row4 col4\" >0.5168</td>\n",
              "      <td id=\"T_96fb7_row4_col5\" class=\"data row4 col5\" >0.5133</td>\n",
              "      <td id=\"T_96fb7_row4_col6\" class=\"data row4 col6\" >0.2491</td>\n",
              "      <td id=\"T_96fb7_row4_col7\" class=\"data row4 col7\" >0.2534</td>\n",
              "      <td id=\"T_96fb7_row4_col8\" class=\"data row4 col8\" >11.2540</td>\n",
              "    </tr>\n",
              "    <tr>\n",
              "      <th id=\"T_96fb7_level0_row5\" class=\"row_heading level0 row5\" >et</th>\n",
              "      <td id=\"T_96fb7_row5_col0\" class=\"data row5 col0\" >Extra Trees Classifier</td>\n",
              "      <td id=\"T_96fb7_row5_col1\" class=\"data row5 col1\" >0.4997</td>\n",
              "      <td id=\"T_96fb7_row5_col2\" class=\"data row5 col2\" >0.6523</td>\n",
              "      <td id=\"T_96fb7_row5_col3\" class=\"data row5 col3\" >0.4997</td>\n",
              "      <td id=\"T_96fb7_row5_col4\" class=\"data row5 col4\" >0.4909</td>\n",
              "      <td id=\"T_96fb7_row5_col5\" class=\"data row5 col5\" >0.4900</td>\n",
              "      <td id=\"T_96fb7_row5_col6\" class=\"data row5 col6\" >0.2134</td>\n",
              "      <td id=\"T_96fb7_row5_col7\" class=\"data row5 col7\" >0.2163</td>\n",
              "      <td id=\"T_96fb7_row5_col8\" class=\"data row5 col8\" >11.7200</td>\n",
              "    </tr>\n",
              "    <tr>\n",
              "      <th id=\"T_96fb7_level0_row6\" class=\"row_heading level0 row6\" >nb</th>\n",
              "      <td id=\"T_96fb7_row6_col0\" class=\"data row6 col0\" >Naive Bayes</td>\n",
              "      <td id=\"T_96fb7_row6_col1\" class=\"data row6 col1\" >0.4687</td>\n",
              "      <td id=\"T_96fb7_row6_col2\" class=\"data row6 col2\" >0.6106</td>\n",
              "      <td id=\"T_96fb7_row6_col3\" class=\"data row6 col3\" >0.4687</td>\n",
              "      <td id=\"T_96fb7_row6_col4\" class=\"data row6 col4\" >0.4645</td>\n",
              "      <td id=\"T_96fb7_row6_col5\" class=\"data row6 col5\" >0.4632</td>\n",
              "      <td id=\"T_96fb7_row6_col6\" class=\"data row6 col6\" >0.1761</td>\n",
              "      <td id=\"T_96fb7_row6_col7\" class=\"data row6 col7\" >0.1774</td>\n",
              "      <td id=\"T_96fb7_row6_col8\" class=\"data row6 col8\" >0.1680</td>\n",
              "    </tr>\n",
              "    <tr>\n",
              "      <th id=\"T_96fb7_level0_row7\" class=\"row_heading level0 row7\" >lda</th>\n",
              "      <td id=\"T_96fb7_row7_col0\" class=\"data row7 col0\" >Linear Discriminant Analysis</td>\n",
              "      <td id=\"T_96fb7_row7_col1\" class=\"data row7 col1\" >0.4560</td>\n",
              "      <td id=\"T_96fb7_row7_col2\" class=\"data row7 col2\" >0.6001</td>\n",
              "      <td id=\"T_96fb7_row7_col3\" class=\"data row7 col3\" >0.4560</td>\n",
              "      <td id=\"T_96fb7_row7_col4\" class=\"data row7 col4\" >0.4178</td>\n",
              "      <td id=\"T_96fb7_row7_col5\" class=\"data row7 col5\" >0.3868</td>\n",
              "      <td id=\"T_96fb7_row7_col6\" class=\"data row7 col6\" >0.0935</td>\n",
              "      <td id=\"T_96fb7_row7_col7\" class=\"data row7 col7\" >0.1142</td>\n",
              "      <td id=\"T_96fb7_row7_col8\" class=\"data row7 col8\" >0.3320</td>\n",
              "    </tr>\n",
              "    <tr>\n",
              "      <th id=\"T_96fb7_level0_row8\" class=\"row_heading level0 row8\" >ridge</th>\n",
              "      <td id=\"T_96fb7_row8_col0\" class=\"data row8 col0\" >Ridge Classifier</td>\n",
              "      <td id=\"T_96fb7_row8_col1\" class=\"data row8 col1\" >0.4543</td>\n",
              "      <td id=\"T_96fb7_row8_col2\" class=\"data row8 col2\" >0.0000</td>\n",
              "      <td id=\"T_96fb7_row8_col3\" class=\"data row8 col3\" >0.4543</td>\n",
              "      <td id=\"T_96fb7_row8_col4\" class=\"data row8 col4\" >0.3973</td>\n",
              "      <td id=\"T_96fb7_row8_col5\" class=\"data row8 col5\" >0.3703</td>\n",
              "      <td id=\"T_96fb7_row8_col6\" class=\"data row8 col6\" >0.0826</td>\n",
              "      <td id=\"T_96fb7_row8_col7\" class=\"data row8 col7\" >0.1072</td>\n",
              "      <td id=\"T_96fb7_row8_col8\" class=\"data row8 col8\" >0.1660</td>\n",
              "    </tr>\n",
              "    <tr>\n",
              "      <th id=\"T_96fb7_level0_row9\" class=\"row_heading level0 row9\" >lr</th>\n",
              "      <td id=\"T_96fb7_row9_col0\" class=\"data row9 col0\" >Logistic Regression</td>\n",
              "      <td id=\"T_96fb7_row9_col1\" class=\"data row9 col1\" >0.4417</td>\n",
              "      <td id=\"T_96fb7_row9_col2\" class=\"data row9 col2\" >0.5730</td>\n",
              "      <td id=\"T_96fb7_row9_col3\" class=\"data row9 col3\" >0.4417</td>\n",
              "      <td id=\"T_96fb7_row9_col4\" class=\"data row9 col4\" >0.4187</td>\n",
              "      <td id=\"T_96fb7_row9_col5\" class=\"data row9 col5\" >0.3719</td>\n",
              "      <td id=\"T_96fb7_row9_col6\" class=\"data row9 col6\" >0.0673</td>\n",
              "      <td id=\"T_96fb7_row9_col7\" class=\"data row9 col7\" >0.0846</td>\n",
              "      <td id=\"T_96fb7_row9_col8\" class=\"data row9 col8\" >14.6940</td>\n",
              "    </tr>\n",
              "    <tr>\n",
              "      <th id=\"T_96fb7_level0_row10\" class=\"row_heading level0 row10\" >dt</th>\n",
              "      <td id=\"T_96fb7_row10_col0\" class=\"data row10 col0\" >Decision Tree Classifier</td>\n",
              "      <td id=\"T_96fb7_row10_col1\" class=\"data row10 col1\" >0.4339</td>\n",
              "      <td id=\"T_96fb7_row10_col2\" class=\"data row10 col2\" >0.5661</td>\n",
              "      <td id=\"T_96fb7_row10_col3\" class=\"data row10 col3\" >0.4339</td>\n",
              "      <td id=\"T_96fb7_row10_col4\" class=\"data row10 col4\" >0.4347</td>\n",
              "      <td id=\"T_96fb7_row10_col5\" class=\"data row10 col5\" >0.4343</td>\n",
              "      <td id=\"T_96fb7_row10_col6\" class=\"data row10 col6\" >0.1324</td>\n",
              "      <td id=\"T_96fb7_row10_col7\" class=\"data row10 col7\" >0.1324</td>\n",
              "      <td id=\"T_96fb7_row10_col8\" class=\"data row10 col8\" >0.8340</td>\n",
              "    </tr>\n",
              "    <tr>\n",
              "      <th id=\"T_96fb7_level0_row11\" class=\"row_heading level0 row11\" >dummy</th>\n",
              "      <td id=\"T_96fb7_row11_col0\" class=\"data row11 col0\" >Dummy Classifier</td>\n",
              "      <td id=\"T_96fb7_row11_col1\" class=\"data row11 col1\" >0.4319</td>\n",
              "      <td id=\"T_96fb7_row11_col2\" class=\"data row11 col2\" >0.5000</td>\n",
              "      <td id=\"T_96fb7_row11_col3\" class=\"data row11 col3\" >0.4319</td>\n",
              "      <td id=\"T_96fb7_row11_col4\" class=\"data row11 col4\" >0.1865</td>\n",
              "      <td id=\"T_96fb7_row11_col5\" class=\"data row11 col5\" >0.2605</td>\n",
              "      <td id=\"T_96fb7_row11_col6\" class=\"data row11 col6\" >0.0000</td>\n",
              "      <td id=\"T_96fb7_row11_col7\" class=\"data row11 col7\" >0.0000</td>\n",
              "      <td id=\"T_96fb7_row11_col8\" class=\"data row11 col8\" >0.1720</td>\n",
              "    </tr>\n",
              "    <tr>\n",
              "      <th id=\"T_96fb7_level0_row12\" class=\"row_heading level0 row12\" >knn</th>\n",
              "      <td id=\"T_96fb7_row12_col0\" class=\"data row12 col0\" >K Neighbors Classifier</td>\n",
              "      <td id=\"T_96fb7_row12_col1\" class=\"data row12 col1\" >0.4206</td>\n",
              "      <td id=\"T_96fb7_row12_col2\" class=\"data row12 col2\" >0.5568</td>\n",
              "      <td id=\"T_96fb7_row12_col3\" class=\"data row12 col3\" >0.4206</td>\n",
              "      <td id=\"T_96fb7_row12_col4\" class=\"data row12 col4\" >0.4024</td>\n",
              "      <td id=\"T_96fb7_row12_col5\" class=\"data row12 col5\" >0.3979</td>\n",
              "      <td id=\"T_96fb7_row12_col6\" class=\"data row12 col6\" >0.0725</td>\n",
              "      <td id=\"T_96fb7_row12_col7\" class=\"data row12 col7\" >0.0757</td>\n",
              "      <td id=\"T_96fb7_row12_col8\" class=\"data row12 col8\" >7.0320</td>\n",
              "    </tr>\n",
              "    <tr>\n",
              "      <th id=\"T_96fb7_level0_row13\" class=\"row_heading level0 row13\" >qda</th>\n",
              "      <td id=\"T_96fb7_row13_col0\" class=\"data row13 col0\" >Quadratic Discriminant Analysis</td>\n",
              "      <td id=\"T_96fb7_row13_col1\" class=\"data row13 col1\" >0.4025</td>\n",
              "      <td id=\"T_96fb7_row13_col2\" class=\"data row13 col2\" >0.1216</td>\n",
              "      <td id=\"T_96fb7_row13_col3\" class=\"data row13 col3\" >0.4025</td>\n",
              "      <td id=\"T_96fb7_row13_col4\" class=\"data row13 col4\" >0.2205</td>\n",
              "      <td id=\"T_96fb7_row13_col5\" class=\"data row13 col5\" >0.2639</td>\n",
              "      <td id=\"T_96fb7_row13_col6\" class=\"data row13 col6\" >0.0241</td>\n",
              "      <td id=\"T_96fb7_row13_col7\" class=\"data row13 col7\" >0.0266</td>\n",
              "      <td id=\"T_96fb7_row13_col8\" class=\"data row13 col8\" >0.2200</td>\n",
              "    </tr>\n",
              "    <tr>\n",
              "      <th id=\"T_96fb7_level0_row14\" class=\"row_heading level0 row14\" >svm</th>\n",
              "      <td id=\"T_96fb7_row14_col0\" class=\"data row14 col0\" >SVM - Linear Kernel</td>\n",
              "      <td id=\"T_96fb7_row14_col1\" class=\"data row14 col1\" >0.3335</td>\n",
              "      <td id=\"T_96fb7_row14_col2\" class=\"data row14 col2\" >0.0000</td>\n",
              "      <td id=\"T_96fb7_row14_col3\" class=\"data row14 col3\" >0.3335</td>\n",
              "      <td id=\"T_96fb7_row14_col4\" class=\"data row14 col4\" >0.3878</td>\n",
              "      <td id=\"T_96fb7_row14_col5\" class=\"data row14 col5\" >0.2268</td>\n",
              "      <td id=\"T_96fb7_row14_col6\" class=\"data row14 col6\" >0.0117</td>\n",
              "      <td id=\"T_96fb7_row14_col7\" class=\"data row14 col7\" >0.0174</td>\n",
              "      <td id=\"T_96fb7_row14_col8\" class=\"data row14 col8\" >8.1300</td>\n",
              "    </tr>\n",
              "  </tbody>\n",
              "</table>\n"
            ]
          },
          "metadata": {}
        },
        {
          "output_type": "display_data",
          "data": {
            "text/plain": [
              "Processing:   0%|          | 0/69 [00:00<?, ?it/s]"
            ],
            "application/vnd.jupyter.widget-view+json": {
              "version_major": 2,
              "version_minor": 0,
              "model_id": "4330fee3232e4aa386ca032432b038d5"
            }
          },
          "metadata": {
            "application/vnd.jupyter.widget-view+json": {
              "colab": {
                "custom_widget_manager": {
                  "url": "https://ssl.gstatic.com/colaboratory-static/widgets/colab-cdn-widget-manager/b3e629b1971e1542/manager.min.js"
                }
              }
            }
          }
        },
        {
          "output_type": "display_data",
          "data": {
            "text/plain": [
              "<IPython.core.display.HTML object>"
            ],
            "text/html": []
          },
          "metadata": {}
        }
      ],
      "source": [
        "best = classification.compare_models(n_select=5,fold=5)"
      ]
    },
    {
      "cell_type": "code",
      "source": [
        "print(\"x_train shape:\", x_train.shape)\n",
        "print(\"x_test shape:\", x_test.shape)\n"
      ],
      "metadata": {
        "colab": {
          "base_uri": "https://localhost:8080/"
        },
        "id": "P2ZcvRkHYZVu",
        "outputId": "e22d8512-32b8-40b3-e8aa-c19fed1a85a4"
      },
      "id": "P2ZcvRkHYZVu",
      "execution_count": 38,
      "outputs": [
        {
          "output_type": "stream",
          "name": "stdout",
          "text": [
            "x_train shape: (84406, 18)\n",
            "x_test shape: (17289, 18)\n"
          ]
        }
      ]
    },
    {
      "cell_type": "code",
      "execution_count": 41,
      "id": "f8c2b3dc",
      "metadata": {
        "id": "f8c2b3dc"
      },
      "outputs": [],
      "source": [
        "probas = []\n",
        "for model in best:\n",
        "    probas.append(model.predict_proba(x_test))\n",
        "\n",
        "pred = [np.argmax(i) for i in np.array(probas).mean(axis=0)]"
      ]
    },
    {
      "cell_type": "code",
      "source": [
        "from lightgbm import LGBMClassifier"
      ],
      "metadata": {
        "id": "3MYWP8ee4-HV"
      },
      "id": "3MYWP8ee4-HV",
      "execution_count": 54,
      "outputs": []
    },
    {
      "cell_type": "code",
      "source": [
        "# LightGBM 모델 인스턴스화\n",
        "lgbm_model = LGBMClassifier()\n",
        "\n",
        "# 모델 학습\n",
        "lgbm_model.fit(x_train, y_train)"
      ],
      "metadata": {
        "colab": {
          "base_uri": "https://localhost:8080/",
          "height": 161
        },
        "id": "3CvadTV_aT0Z",
        "outputId": "115acdc6-cc91-4724-999f-23ee65e43f26"
      },
      "id": "3CvadTV_aT0Z",
      "execution_count": 82,
      "outputs": [
        {
          "output_type": "execute_result",
          "data": {
            "text/plain": [
              "LGBMClassifier(boosting_type='gbdt', class_weight=None, colsample_bytree=1.0,\n",
              "               importance_type='split', learning_rate=0.1, max_depth=-1,\n",
              "               min_child_samples=20, min_child_weight=0.001, min_split_gain=0.0,\n",
              "               n_estimators=100, n_jobs=-1, num_leaves=31, objective=None,\n",
              "               random_state=None, reg_alpha=0.0, reg_lambda=0.0, silent='warn',\n",
              "               subsample=1.0, subsample_for_bin=200000, subsample_freq=0)"
            ],
            "text/html": [
              "<style>#sk-container-id-2 {color: black;background-color: white;}#sk-container-id-2 pre{padding: 0;}#sk-container-id-2 div.sk-toggleable {background-color: white;}#sk-container-id-2 label.sk-toggleable__label {cursor: pointer;display: block;width: 100%;margin-bottom: 0;padding: 0.3em;box-sizing: border-box;text-align: center;}#sk-container-id-2 label.sk-toggleable__label-arrow:before {content: \"▸\";float: left;margin-right: 0.25em;color: #696969;}#sk-container-id-2 label.sk-toggleable__label-arrow:hover:before {color: black;}#sk-container-id-2 div.sk-estimator:hover label.sk-toggleable__label-arrow:before {color: black;}#sk-container-id-2 div.sk-toggleable__content {max-height: 0;max-width: 0;overflow: hidden;text-align: left;background-color: #f0f8ff;}#sk-container-id-2 div.sk-toggleable__content pre {margin: 0.2em;color: black;border-radius: 0.25em;background-color: #f0f8ff;}#sk-container-id-2 input.sk-toggleable__control:checked~div.sk-toggleable__content {max-height: 200px;max-width: 100%;overflow: auto;}#sk-container-id-2 input.sk-toggleable__control:checked~label.sk-toggleable__label-arrow:before {content: \"▾\";}#sk-container-id-2 div.sk-estimator input.sk-toggleable__control:checked~label.sk-toggleable__label {background-color: #d4ebff;}#sk-container-id-2 div.sk-label input.sk-toggleable__control:checked~label.sk-toggleable__label {background-color: #d4ebff;}#sk-container-id-2 input.sk-hidden--visually {border: 0;clip: rect(1px 1px 1px 1px);clip: rect(1px, 1px, 1px, 1px);height: 1px;margin: -1px;overflow: hidden;padding: 0;position: absolute;width: 1px;}#sk-container-id-2 div.sk-estimator {font-family: monospace;background-color: #f0f8ff;border: 1px dotted black;border-radius: 0.25em;box-sizing: border-box;margin-bottom: 0.5em;}#sk-container-id-2 div.sk-estimator:hover {background-color: #d4ebff;}#sk-container-id-2 div.sk-parallel-item::after {content: \"\";width: 100%;border-bottom: 1px solid gray;flex-grow: 1;}#sk-container-id-2 div.sk-label:hover label.sk-toggleable__label {background-color: #d4ebff;}#sk-container-id-2 div.sk-serial::before {content: \"\";position: absolute;border-left: 1px solid gray;box-sizing: border-box;top: 0;bottom: 0;left: 50%;z-index: 0;}#sk-container-id-2 div.sk-serial {display: flex;flex-direction: column;align-items: center;background-color: white;padding-right: 0.2em;padding-left: 0.2em;position: relative;}#sk-container-id-2 div.sk-item {position: relative;z-index: 1;}#sk-container-id-2 div.sk-parallel {display: flex;align-items: stretch;justify-content: center;background-color: white;position: relative;}#sk-container-id-2 div.sk-item::before, #sk-container-id-2 div.sk-parallel-item::before {content: \"\";position: absolute;border-left: 1px solid gray;box-sizing: border-box;top: 0;bottom: 0;left: 50%;z-index: -1;}#sk-container-id-2 div.sk-parallel-item {display: flex;flex-direction: column;z-index: 1;position: relative;background-color: white;}#sk-container-id-2 div.sk-parallel-item:first-child::after {align-self: flex-end;width: 50%;}#sk-container-id-2 div.sk-parallel-item:last-child::after {align-self: flex-start;width: 50%;}#sk-container-id-2 div.sk-parallel-item:only-child::after {width: 0;}#sk-container-id-2 div.sk-dashed-wrapped {border: 1px dashed gray;margin: 0 0.4em 0.5em 0.4em;box-sizing: border-box;padding-bottom: 0.4em;background-color: white;}#sk-container-id-2 div.sk-label label {font-family: monospace;font-weight: bold;display: inline-block;line-height: 1.2em;}#sk-container-id-2 div.sk-label-container {text-align: center;}#sk-container-id-2 div.sk-container {/* jupyter's `normalize.less` sets `[hidden] { display: none; }` but bootstrap.min.css set `[hidden] { display: none !important; }` so we also need the `!important` here to be able to override the default hidden behavior on the sphinx rendered scikit-learn.org. See: https://github.com/scikit-learn/scikit-learn/issues/21755 */display: inline-block !important;position: relative;}#sk-container-id-2 div.sk-text-repr-fallback {display: none;}</style><div id=\"sk-container-id-2\" class=\"sk-top-container\"><div class=\"sk-text-repr-fallback\"><pre>LGBMClassifier(boosting_type=&#x27;gbdt&#x27;, class_weight=None, colsample_bytree=1.0,\n",
              "               importance_type=&#x27;split&#x27;, learning_rate=0.1, max_depth=-1,\n",
              "               min_child_samples=20, min_child_weight=0.001, min_split_gain=0.0,\n",
              "               n_estimators=100, n_jobs=-1, num_leaves=31, objective=None,\n",
              "               random_state=None, reg_alpha=0.0, reg_lambda=0.0, silent=&#x27;warn&#x27;,\n",
              "               subsample=1.0, subsample_for_bin=200000, subsample_freq=0)</pre><b>In a Jupyter environment, please rerun this cell to show the HTML representation or trust the notebook. <br />On GitHub, the HTML representation is unable to render, please try loading this page with nbviewer.org.</b></div><div class=\"sk-container\" hidden><div class=\"sk-item\"><div class=\"sk-estimator sk-toggleable\"><input class=\"sk-toggleable__control sk-hidden--visually\" id=\"sk-estimator-id-2\" type=\"checkbox\" checked><label for=\"sk-estimator-id-2\" class=\"sk-toggleable__label sk-toggleable__label-arrow\">LGBMClassifier</label><div class=\"sk-toggleable__content\"><pre>LGBMClassifier(boosting_type=&#x27;gbdt&#x27;, class_weight=None, colsample_bytree=1.0,\n",
              "               importance_type=&#x27;split&#x27;, learning_rate=0.1, max_depth=-1,\n",
              "               min_child_samples=20, min_child_weight=0.001, min_split_gain=0.0,\n",
              "               n_estimators=100, n_jobs=-1, num_leaves=31, objective=None,\n",
              "               random_state=None, reg_alpha=0.0, reg_lambda=0.0, silent=&#x27;warn&#x27;,\n",
              "               subsample=1.0, subsample_for_bin=200000, subsample_freq=0)</pre></div></div></div></div></div>"
            ]
          },
          "metadata": {},
          "execution_count": 82
        }
      ]
    },
    {
      "cell_type": "code",
      "source": [
        "# 테스트 데이터에 대한 예측\n",
        "pred = lgbm_model.predict(x_test)\n",
        "pred"
      ],
      "metadata": {
        "colab": {
          "base_uri": "https://localhost:8080/"
        },
        "id": "_ANZAOmQeJ8Y",
        "outputId": "28d8a50e-4f55-4661-fd84-503032d00133"
      },
      "id": "_ANZAOmQeJ8Y",
      "execution_count": 83,
      "outputs": [
        {
          "output_type": "execute_result",
          "data": {
            "text/plain": [
              "array([2, 0, 0, ..., 0, 0, 1])"
            ]
          },
          "metadata": {},
          "execution_count": 83
        }
      ]
    },
    {
      "cell_type": "code",
      "source": [
        "# 제출 파일을 읽어옵니다.\n",
        "submit = pd.read_csv('/content/drive/MyDrive/Colab Notebooks/범죄유형/sample_submission.csv') "
      ],
      "metadata": {
        "id": "Gq4BPHP2fAK7"
      },
      "id": "Gq4BPHP2fAK7",
      "execution_count": 86,
      "outputs": []
    },
    {
      "cell_type": "code",
      "source": [
        "# 예측한 값을 TARGET 컬럼에 할당합니다.\n",
        "submit['TARGET'] = pred\n",
        "submit.head()"
      ],
      "metadata": {
        "colab": {
          "base_uri": "https://localhost:8080/",
          "height": 206
        },
        "id": "B_UH92NdjuC2",
        "outputId": "0dd2be4b-0e0d-4fc7-a6f3-c221d1c941fe"
      },
      "id": "B_UH92NdjuC2",
      "execution_count": 105,
      "outputs": [
        {
          "output_type": "execute_result",
          "data": {
            "text/plain": [
              "           ID  TARGET\n",
              "0  TEST_00000       2\n",
              "1  TEST_00001       0\n",
              "2  TEST_00002       0\n",
              "3  TEST_00003       0\n",
              "4  TEST_00004       0"
            ],
            "text/html": [
              "\n",
              "  <div id=\"df-2cd12a5c-d64d-4bce-804a-dbad67a42c8f\">\n",
              "    <div class=\"colab-df-container\">\n",
              "      <div>\n",
              "<style scoped>\n",
              "    .dataframe tbody tr th:only-of-type {\n",
              "        vertical-align: middle;\n",
              "    }\n",
              "\n",
              "    .dataframe tbody tr th {\n",
              "        vertical-align: top;\n",
              "    }\n",
              "\n",
              "    .dataframe thead th {\n",
              "        text-align: right;\n",
              "    }\n",
              "</style>\n",
              "<table border=\"1\" class=\"dataframe\">\n",
              "  <thead>\n",
              "    <tr style=\"text-align: right;\">\n",
              "      <th></th>\n",
              "      <th>ID</th>\n",
              "      <th>TARGET</th>\n",
              "    </tr>\n",
              "  </thead>\n",
              "  <tbody>\n",
              "    <tr>\n",
              "      <th>0</th>\n",
              "      <td>TEST_00000</td>\n",
              "      <td>2</td>\n",
              "    </tr>\n",
              "    <tr>\n",
              "      <th>1</th>\n",
              "      <td>TEST_00001</td>\n",
              "      <td>0</td>\n",
              "    </tr>\n",
              "    <tr>\n",
              "      <th>2</th>\n",
              "      <td>TEST_00002</td>\n",
              "      <td>0</td>\n",
              "    </tr>\n",
              "    <tr>\n",
              "      <th>3</th>\n",
              "      <td>TEST_00003</td>\n",
              "      <td>0</td>\n",
              "    </tr>\n",
              "    <tr>\n",
              "      <th>4</th>\n",
              "      <td>TEST_00004</td>\n",
              "      <td>0</td>\n",
              "    </tr>\n",
              "  </tbody>\n",
              "</table>\n",
              "</div>\n",
              "      <button class=\"colab-df-convert\" onclick=\"convertToInteractive('df-2cd12a5c-d64d-4bce-804a-dbad67a42c8f')\"\n",
              "              title=\"Convert this dataframe to an interactive table.\"\n",
              "              style=\"display:none;\">\n",
              "        \n",
              "  <svg xmlns=\"http://www.w3.org/2000/svg\" height=\"24px\"viewBox=\"0 0 24 24\"\n",
              "       width=\"24px\">\n",
              "    <path d=\"M0 0h24v24H0V0z\" fill=\"none\"/>\n",
              "    <path d=\"M18.56 5.44l.94 2.06.94-2.06 2.06-.94-2.06-.94-.94-2.06-.94 2.06-2.06.94zm-11 1L8.5 8.5l.94-2.06 2.06-.94-2.06-.94L8.5 2.5l-.94 2.06-2.06.94zm10 10l.94 2.06.94-2.06 2.06-.94-2.06-.94-.94-2.06-.94 2.06-2.06.94z\"/><path d=\"M17.41 7.96l-1.37-1.37c-.4-.4-.92-.59-1.43-.59-.52 0-1.04.2-1.43.59L10.3 9.45l-7.72 7.72c-.78.78-.78 2.05 0 2.83L4 21.41c.39.39.9.59 1.41.59.51 0 1.02-.2 1.41-.59l7.78-7.78 2.81-2.81c.8-.78.8-2.07 0-2.86zM5.41 20L4 18.59l7.72-7.72 1.47 1.35L5.41 20z\"/>\n",
              "  </svg>\n",
              "      </button>\n",
              "      \n",
              "  <style>\n",
              "    .colab-df-container {\n",
              "      display:flex;\n",
              "      flex-wrap:wrap;\n",
              "      gap: 12px;\n",
              "    }\n",
              "\n",
              "    .colab-df-convert {\n",
              "      background-color: #E8F0FE;\n",
              "      border: none;\n",
              "      border-radius: 50%;\n",
              "      cursor: pointer;\n",
              "      display: none;\n",
              "      fill: #1967D2;\n",
              "      height: 32px;\n",
              "      padding: 0 0 0 0;\n",
              "      width: 32px;\n",
              "    }\n",
              "\n",
              "    .colab-df-convert:hover {\n",
              "      background-color: #E2EBFA;\n",
              "      box-shadow: 0px 1px 2px rgba(60, 64, 67, 0.3), 0px 1px 3px 1px rgba(60, 64, 67, 0.15);\n",
              "      fill: #174EA6;\n",
              "    }\n",
              "\n",
              "    [theme=dark] .colab-df-convert {\n",
              "      background-color: #3B4455;\n",
              "      fill: #D2E3FC;\n",
              "    }\n",
              "\n",
              "    [theme=dark] .colab-df-convert:hover {\n",
              "      background-color: #434B5C;\n",
              "      box-shadow: 0px 1px 3px 1px rgba(0, 0, 0, 0.15);\n",
              "      filter: drop-shadow(0px 1px 2px rgba(0, 0, 0, 0.3));\n",
              "      fill: #FFFFFF;\n",
              "    }\n",
              "  </style>\n",
              "\n",
              "      <script>\n",
              "        const buttonEl =\n",
              "          document.querySelector('#df-2cd12a5c-d64d-4bce-804a-dbad67a42c8f button.colab-df-convert');\n",
              "        buttonEl.style.display =\n",
              "          google.colab.kernel.accessAllowed ? 'block' : 'none';\n",
              "\n",
              "        async function convertToInteractive(key) {\n",
              "          const element = document.querySelector('#df-2cd12a5c-d64d-4bce-804a-dbad67a42c8f');\n",
              "          const dataTable =\n",
              "            await google.colab.kernel.invokeFunction('convertToInteractive',\n",
              "                                                     [key], {});\n",
              "          if (!dataTable) return;\n",
              "\n",
              "          const docLinkHtml = 'Like what you see? Visit the ' +\n",
              "            '<a target=\"_blank\" href=https://colab.research.google.com/notebooks/data_table.ipynb>data table notebook</a>'\n",
              "            + ' to learn more about interactive tables.';\n",
              "          element.innerHTML = '';\n",
              "          dataTable['output_type'] = 'display_data';\n",
              "          await google.colab.output.renderOutput(dataTable, element);\n",
              "          const docLink = document.createElement('div');\n",
              "          docLink.innerHTML = docLinkHtml;\n",
              "          element.appendChild(docLink);\n",
              "        }\n",
              "      </script>\n",
              "    </div>\n",
              "  </div>\n",
              "  "
            ]
          },
          "metadata": {},
          "execution_count": 105
        }
      ]
    },
    {
      "cell_type": "code",
      "source": [
        "print(submit.head())\n"
      ],
      "metadata": {
        "id": "VjjwPBT46kD9",
        "colab": {
          "base_uri": "https://localhost:8080/"
        },
        "outputId": "2bd09baa-1993-436a-9bf0-0c1deba3ab1a"
      },
      "id": "VjjwPBT46kD9",
      "execution_count": 106,
      "outputs": [
        {
          "output_type": "stream",
          "name": "stdout",
          "text": [
            "           ID  TARGET\n",
            "0  TEST_00000       2\n",
            "1  TEST_00001       0\n",
            "2  TEST_00002       0\n",
            "3  TEST_00003       0\n",
            "4  TEST_00004       0\n"
          ]
        }
      ]
    },
    {
      "cell_type": "code",
      "source": [
        "# 예측 결과 출력\n",
        "print(predictions)"
      ],
      "metadata": {
        "colab": {
          "base_uri": "https://localhost:8080/"
        },
        "id": "bYB-3HHyeOyP",
        "outputId": "481fbe1a-b674-4b2f-e9d7-3a3d90280815"
      },
      "id": "bYB-3HHyeOyP",
      "execution_count": 88,
      "outputs": [
        {
          "output_type": "stream",
          "name": "stdout",
          "text": [
            "[2 0 0 ... 0 0 1]\n"
          ]
        }
      ]
    },
    {
      "cell_type": "code",
      "source": [
        "# 'ID' 열을 포함하여 제출 파일을 다시 읽어옵니다.\n",
        "sub = pd.read_csv('/content/drive/MyDrive/Colab Notebooks/범죄유형/sample_submission.csv')\n",
        "\n",
        "print(sub.columns)"
      ],
      "metadata": {
        "colab": {
          "base_uri": "https://localhost:8080/"
        },
        "id": "x2YoVXRymiWg",
        "outputId": "48f630b4-2699-4afa-f125-bbe41836e46c"
      },
      "id": "x2YoVXRymiWg",
      "execution_count": 100,
      "outputs": [
        {
          "output_type": "stream",
          "name": "stdout",
          "text": [
            "Index(['ID', 'TARGET'], dtype='object')\n"
          ]
        }
      ]
    },
    {
      "cell_type": "code",
      "source": [
        "# 예측한 결과를 파일로 저장합니다. index 인자의 값을 False로 설정하지 않으면 제출이 정상적으로 진행되지 않습니다.\n",
        "sub.set_index('ID',inplace=True)\n",
        "sub['TARGET'] = pred"
      ],
      "metadata": {
        "id": "REP_nBohp-Xa"
      },
      "id": "REP_nBohp-Xa",
      "execution_count": 101,
      "outputs": []
    },
    {
      "cell_type": "code",
      "source": [
        "# 'ID' 컬럼이 제대로 포함되어 있는지 확인합니다.\n",
        "if 'ID' not in sub.columns:\n",
        "    sub.insert(0, 'ID', sub.index)"
      ],
      "metadata": {
        "id": "Z0hsAkznp-F-"
      },
      "id": "Z0hsAkznp-F-",
      "execution_count": 102,
      "outputs": []
    },
    {
      "cell_type": "code",
      "source": [
        "print(sub.head())"
      ],
      "metadata": {
        "colab": {
          "base_uri": "https://localhost:8080/"
        },
        "id": "ZxO9pFyNnBk5",
        "outputId": "5aba4d3e-da00-476b-d746-97e14966d9da"
      },
      "id": "ZxO9pFyNnBk5",
      "execution_count": 103,
      "outputs": [
        {
          "output_type": "stream",
          "name": "stdout",
          "text": [
            "                    ID  TARGET\n",
            "ID                            \n",
            "TEST_00000  TEST_00000       2\n",
            "TEST_00001  TEST_00001       0\n",
            "TEST_00002  TEST_00002       0\n",
            "TEST_00003  TEST_00003       0\n",
            "TEST_00004  TEST_00004       0\n"
          ]
        }
      ]
    },
    {
      "cell_type": "code",
      "source": [
        "# 수정된 데이터프레임을 파일로 저장합니다.\n",
        "sub.to_csv('./lightbgm_submit.csv', index=False)\n"
      ],
      "metadata": {
        "id": "vmAQauRngnp4"
      },
      "id": "vmAQauRngnp4",
      "execution_count": 104,
      "outputs": []
    },
    {
      "cell_type": "code",
      "source": [],
      "metadata": {
        "id": "cS7mwu94gn1L"
      },
      "id": "cS7mwu94gn1L",
      "execution_count": 49,
      "outputs": []
    },
    {
      "cell_type": "code",
      "source": [],
      "metadata": {
        "id": "egc42IT7gn7Q"
      },
      "id": "egc42IT7gn7Q",
      "execution_count": null,
      "outputs": []
    },
    {
      "cell_type": "markdown",
      "source": [
        "# 다시 구현(dense.layer)\n"
      ],
      "metadata": {
        "id": "Bu9wT1x4goE9"
      },
      "id": "Bu9wT1x4goE9"
    },
    {
      "cell_type": "code",
      "source": [
        "from tensorflow.keras.models import Sequential\n",
        "from tensorflow.keras.layers import Dense"
      ],
      "metadata": {
        "id": "49JpLJA5goAA"
      },
      "id": "49JpLJA5goAA",
      "execution_count": 108,
      "outputs": []
    },
    {
      "cell_type": "code",
      "source": [
        "# Sequential 모델 인스턴스화\n",
        "model = Sequential()"
      ],
      "metadata": {
        "id": "fnhQxS_iuUIE"
      },
      "id": "fnhQxS_iuUIE",
      "execution_count": 109,
      "outputs": []
    },
    {
      "cell_type": "code",
      "source": [
        "# Dense 레이어 추가\n",
        "model.add(Dense(units=64, activation='relu', input_dim=x_train.shape[1]))\n",
        "model.add(Dense(units=128, activation='relu'))\n",
        "model.add(Dense(units=64, activation='relu'))\n",
        "model.add(Dense(units=1, activation='sigmoid'))  # 이진 분류의 경우\n"
      ],
      "metadata": {
        "id": "0bpawmdYvfWy"
      },
      "id": "0bpawmdYvfWy",
      "execution_count": 111,
      "outputs": []
    },
    {
      "cell_type": "code",
      "source": [
        "# 모델 컴파일\n",
        "model.compile(loss='binary_crossentropy', optimizer='adam', metrics=['accuracy'])\n"
      ],
      "metadata": {
        "id": "0U0hidSrvhZ4"
      },
      "id": "0U0hidSrvhZ4",
      "execution_count": 112,
      "outputs": []
    },
    {
      "cell_type": "code",
      "source": [
        "# 모델 학습\n",
        "model.fit(x_train, y_train, epochs=10, batch_size=32)"
      ],
      "metadata": {
        "colab": {
          "base_uri": "https://localhost:8080/"
        },
        "id": "Oz3wu0b3uVQb",
        "outputId": "b4d4ee28-d30e-4bb6-8696-87a880249a62"
      },
      "id": "Oz3wu0b3uVQb",
      "execution_count": 113,
      "outputs": [
        {
          "output_type": "stream",
          "name": "stdout",
          "text": [
            "Epoch 1/10\n",
            "2638/2638 [==============================] - 10s 2ms/step - loss: 1.2021 - accuracy: 0.3131\n",
            "Epoch 2/10\n",
            "2638/2638 [==============================] - 6s 2ms/step - loss: 0.4901 - accuracy: 0.3031\n",
            "Epoch 3/10\n",
            "2638/2638 [==============================] - 8s 3ms/step - loss: 0.4477 - accuracy: 0.3016\n",
            "Epoch 4/10\n",
            "2638/2638 [==============================] - 6s 2ms/step - loss: 0.4230 - accuracy: 0.3011\n",
            "Epoch 5/10\n",
            "2638/2638 [==============================] - 10s 4ms/step - loss: 0.4212 - accuracy: 0.3014\n",
            "Epoch 6/10\n",
            "2638/2638 [==============================] - 6s 2ms/step - loss: 0.4108 - accuracy: 0.3009\n",
            "Epoch 7/10\n",
            "2638/2638 [==============================] - 7s 3ms/step - loss: 0.4024 - accuracy: 0.3009\n",
            "Epoch 8/10\n",
            "2638/2638 [==============================] - 7s 3ms/step - loss: 0.3760 - accuracy: 0.3010\n",
            "Epoch 9/10\n",
            "2638/2638 [==============================] - 6s 2ms/step - loss: 0.3698 - accuracy: 0.3011\n",
            "Epoch 10/10\n",
            "2638/2638 [==============================] - 8s 3ms/step - loss: 0.3643 - accuracy: 0.3022\n"
          ]
        },
        {
          "output_type": "execute_result",
          "data": {
            "text/plain": [
              "<keras.callbacks.History at 0x7f9e43dcdf30>"
            ]
          },
          "metadata": {},
          "execution_count": 113
        }
      ]
    },
    {
      "cell_type": "code",
      "source": [
        "# 모델 예측\n",
        "predictions = model.predict(x_test)"
      ],
      "metadata": {
        "colab": {
          "base_uri": "https://localhost:8080/"
        },
        "id": "Qh-qeHY8uVqy",
        "outputId": "b2af706c-ea7b-4a00-eba2-23b52baab471"
      },
      "id": "Qh-qeHY8uVqy",
      "execution_count": 114,
      "outputs": [
        {
          "output_type": "stream",
          "name": "stdout",
          "text": [
            "541/541 [==============================] - 1s 2ms/step\n"
          ]
        }
      ]
    },
    {
      "cell_type": "code",
      "source": [
        "predictions"
      ],
      "metadata": {
        "colab": {
          "base_uri": "https://localhost:8080/"
        },
        "id": "7b7aiOmRwDIf",
        "outputId": "d568ed75-7859-48a8-8df3-59ec33f9e525"
      },
      "id": "7b7aiOmRwDIf",
      "execution_count": 116,
      "outputs": [
        {
          "output_type": "execute_result",
          "data": {
            "text/plain": [
              "array([[0.9049086 ],\n",
              "       [0.77963006],\n",
              "       [0.92300093],\n",
              "       ...,\n",
              "       [0.9397096 ],\n",
              "       [0.77091575],\n",
              "       [0.62798643]], dtype=float32)"
            ]
          },
          "metadata": {},
          "execution_count": 116
        }
      ]
    },
    {
      "cell_type": "code",
      "source": [
        "# 제출 파일을 읽어옵니다.\n",
        "submit = pd.read_csv('/content/drive/MyDrive/Colab Notebooks/범죄유형/sample_submission.csv') "
      ],
      "metadata": {
        "id": "ZUY4vJNXwDOw"
      },
      "id": "ZUY4vJNXwDOw",
      "execution_count": 117,
      "outputs": []
    },
    {
      "cell_type": "code",
      "source": [
        "# 예측한 값을 TARGET 컬럼에 할당합니다.\n",
        "submit['TARGET'] = predictions\n",
        "submit.head()"
      ],
      "metadata": {
        "colab": {
          "base_uri": "https://localhost:8080/",
          "height": 206
        },
        "id": "MB0aEFsLwDVM",
        "outputId": "b910d69c-186a-4e9f-ccff-d0d2df24469c"
      },
      "id": "MB0aEFsLwDVM",
      "execution_count": 118,
      "outputs": [
        {
          "output_type": "execute_result",
          "data": {
            "text/plain": [
              "           ID    TARGET\n",
              "0  TEST_00000  0.904909\n",
              "1  TEST_00001  0.779630\n",
              "2  TEST_00002  0.923001\n",
              "3  TEST_00003  0.906029\n",
              "4  TEST_00004  0.842916"
            ],
            "text/html": [
              "\n",
              "  <div id=\"df-604e5097-14d8-4db4-bef6-d2eada7acff0\">\n",
              "    <div class=\"colab-df-container\">\n",
              "      <div>\n",
              "<style scoped>\n",
              "    .dataframe tbody tr th:only-of-type {\n",
              "        vertical-align: middle;\n",
              "    }\n",
              "\n",
              "    .dataframe tbody tr th {\n",
              "        vertical-align: top;\n",
              "    }\n",
              "\n",
              "    .dataframe thead th {\n",
              "        text-align: right;\n",
              "    }\n",
              "</style>\n",
              "<table border=\"1\" class=\"dataframe\">\n",
              "  <thead>\n",
              "    <tr style=\"text-align: right;\">\n",
              "      <th></th>\n",
              "      <th>ID</th>\n",
              "      <th>TARGET</th>\n",
              "    </tr>\n",
              "  </thead>\n",
              "  <tbody>\n",
              "    <tr>\n",
              "      <th>0</th>\n",
              "      <td>TEST_00000</td>\n",
              "      <td>0.904909</td>\n",
              "    </tr>\n",
              "    <tr>\n",
              "      <th>1</th>\n",
              "      <td>TEST_00001</td>\n",
              "      <td>0.779630</td>\n",
              "    </tr>\n",
              "    <tr>\n",
              "      <th>2</th>\n",
              "      <td>TEST_00002</td>\n",
              "      <td>0.923001</td>\n",
              "    </tr>\n",
              "    <tr>\n",
              "      <th>3</th>\n",
              "      <td>TEST_00003</td>\n",
              "      <td>0.906029</td>\n",
              "    </tr>\n",
              "    <tr>\n",
              "      <th>4</th>\n",
              "      <td>TEST_00004</td>\n",
              "      <td>0.842916</td>\n",
              "    </tr>\n",
              "  </tbody>\n",
              "</table>\n",
              "</div>\n",
              "      <button class=\"colab-df-convert\" onclick=\"convertToInteractive('df-604e5097-14d8-4db4-bef6-d2eada7acff0')\"\n",
              "              title=\"Convert this dataframe to an interactive table.\"\n",
              "              style=\"display:none;\">\n",
              "        \n",
              "  <svg xmlns=\"http://www.w3.org/2000/svg\" height=\"24px\"viewBox=\"0 0 24 24\"\n",
              "       width=\"24px\">\n",
              "    <path d=\"M0 0h24v24H0V0z\" fill=\"none\"/>\n",
              "    <path d=\"M18.56 5.44l.94 2.06.94-2.06 2.06-.94-2.06-.94-.94-2.06-.94 2.06-2.06.94zm-11 1L8.5 8.5l.94-2.06 2.06-.94-2.06-.94L8.5 2.5l-.94 2.06-2.06.94zm10 10l.94 2.06.94-2.06 2.06-.94-2.06-.94-.94-2.06-.94 2.06-2.06.94z\"/><path d=\"M17.41 7.96l-1.37-1.37c-.4-.4-.92-.59-1.43-.59-.52 0-1.04.2-1.43.59L10.3 9.45l-7.72 7.72c-.78.78-.78 2.05 0 2.83L4 21.41c.39.39.9.59 1.41.59.51 0 1.02-.2 1.41-.59l7.78-7.78 2.81-2.81c.8-.78.8-2.07 0-2.86zM5.41 20L4 18.59l7.72-7.72 1.47 1.35L5.41 20z\"/>\n",
              "  </svg>\n",
              "      </button>\n",
              "      \n",
              "  <style>\n",
              "    .colab-df-container {\n",
              "      display:flex;\n",
              "      flex-wrap:wrap;\n",
              "      gap: 12px;\n",
              "    }\n",
              "\n",
              "    .colab-df-convert {\n",
              "      background-color: #E8F0FE;\n",
              "      border: none;\n",
              "      border-radius: 50%;\n",
              "      cursor: pointer;\n",
              "      display: none;\n",
              "      fill: #1967D2;\n",
              "      height: 32px;\n",
              "      padding: 0 0 0 0;\n",
              "      width: 32px;\n",
              "    }\n",
              "\n",
              "    .colab-df-convert:hover {\n",
              "      background-color: #E2EBFA;\n",
              "      box-shadow: 0px 1px 2px rgba(60, 64, 67, 0.3), 0px 1px 3px 1px rgba(60, 64, 67, 0.15);\n",
              "      fill: #174EA6;\n",
              "    }\n",
              "\n",
              "    [theme=dark] .colab-df-convert {\n",
              "      background-color: #3B4455;\n",
              "      fill: #D2E3FC;\n",
              "    }\n",
              "\n",
              "    [theme=dark] .colab-df-convert:hover {\n",
              "      background-color: #434B5C;\n",
              "      box-shadow: 0px 1px 3px 1px rgba(0, 0, 0, 0.15);\n",
              "      filter: drop-shadow(0px 1px 2px rgba(0, 0, 0, 0.3));\n",
              "      fill: #FFFFFF;\n",
              "    }\n",
              "  </style>\n",
              "\n",
              "      <script>\n",
              "        const buttonEl =\n",
              "          document.querySelector('#df-604e5097-14d8-4db4-bef6-d2eada7acff0 button.colab-df-convert');\n",
              "        buttonEl.style.display =\n",
              "          google.colab.kernel.accessAllowed ? 'block' : 'none';\n",
              "\n",
              "        async function convertToInteractive(key) {\n",
              "          const element = document.querySelector('#df-604e5097-14d8-4db4-bef6-d2eada7acff0');\n",
              "          const dataTable =\n",
              "            await google.colab.kernel.invokeFunction('convertToInteractive',\n",
              "                                                     [key], {});\n",
              "          if (!dataTable) return;\n",
              "\n",
              "          const docLinkHtml = 'Like what you see? Visit the ' +\n",
              "            '<a target=\"_blank\" href=https://colab.research.google.com/notebooks/data_table.ipynb>data table notebook</a>'\n",
              "            + ' to learn more about interactive tables.';\n",
              "          element.innerHTML = '';\n",
              "          dataTable['output_type'] = 'display_data';\n",
              "          await google.colab.output.renderOutput(dataTable, element);\n",
              "          const docLink = document.createElement('div');\n",
              "          docLink.innerHTML = docLinkHtml;\n",
              "          element.appendChild(docLink);\n",
              "        }\n",
              "      </script>\n",
              "    </div>\n",
              "  </div>\n",
              "  "
            ]
          },
          "metadata": {},
          "execution_count": 118
        }
      ]
    },
    {
      "cell_type": "code",
      "source": [],
      "metadata": {
        "id": "pxuH3a3lwkFQ"
      },
      "id": "pxuH3a3lwkFQ",
      "execution_count": null,
      "outputs": []
    },
    {
      "cell_type": "code",
      "source": [],
      "metadata": {
        "id": "_Z22QV-PwkKS"
      },
      "id": "_Z22QV-PwkKS",
      "execution_count": null,
      "outputs": []
    },
    {
      "cell_type": "code",
      "source": [],
      "metadata": {
        "id": "Al83aym6wkVT"
      },
      "id": "Al83aym6wkVT",
      "execution_count": null,
      "outputs": []
    },
    {
      "cell_type": "code",
      "source": [],
      "metadata": {
        "id": "JrQjGB46wkcZ"
      },
      "id": "JrQjGB46wkcZ",
      "execution_count": null,
      "outputs": []
    }
  ],
  "metadata": {
    "kernelspec": {
      "display_name": "Python 3 (ipykernel)",
      "language": "python",
      "name": "python3"
    },
    "language_info": {
      "codemirror_mode": {
        "name": "ipython",
        "version": 3
      },
      "file_extension": ".py",
      "mimetype": "text/x-python",
      "name": "python",
      "nbconvert_exporter": "python",
      "pygments_lexer": "ipython3",
      "version": "3.9.12"
    },
    "colab": {
      "provenance": [],
      "include_colab_link": true
    },
    "widgets": {
      "application/vnd.jupyter.widget-state+json": {
        "4330fee3232e4aa386ca032432b038d5": {
          "model_module": "@jupyter-widgets/controls",
          "model_name": "HBoxModel",
          "model_module_version": "1.5.0",
          "state": {
            "_dom_classes": [],
            "_model_module": "@jupyter-widgets/controls",
            "_model_module_version": "1.5.0",
            "_model_name": "HBoxModel",
            "_view_count": null,
            "_view_module": "@jupyter-widgets/controls",
            "_view_module_version": "1.5.0",
            "_view_name": "HBoxView",
            "box_style": "",
            "children": [
              "IPY_MODEL_5ede3cf3728541ecb48bc2847d528705",
              "IPY_MODEL_6bd7158149054409a83bdeb173cffafe",
              "IPY_MODEL_a2bfc5dcfc714a74afd04a89ac83f291"
            ],
            "layout": "IPY_MODEL_757abca72ac3482ab8ccb37c59af5e9b"
          }
        },
        "5ede3cf3728541ecb48bc2847d528705": {
          "model_module": "@jupyter-widgets/controls",
          "model_name": "HTMLModel",
          "model_module_version": "1.5.0",
          "state": {
            "_dom_classes": [],
            "_model_module": "@jupyter-widgets/controls",
            "_model_module_version": "1.5.0",
            "_model_name": "HTMLModel",
            "_view_count": null,
            "_view_module": "@jupyter-widgets/controls",
            "_view_module_version": "1.5.0",
            "_view_name": "HTMLView",
            "description": "",
            "description_tooltip": null,
            "layout": "IPY_MODEL_463944b440df453ca716bd1a62cf8f97",
            "placeholder": "​",
            "style": "IPY_MODEL_c7a47d5f99754b6297b9f358b6096a86",
            "value": "Processing: 100%"
          }
        },
        "6bd7158149054409a83bdeb173cffafe": {
          "model_module": "@jupyter-widgets/controls",
          "model_name": "FloatProgressModel",
          "model_module_version": "1.5.0",
          "state": {
            "_dom_classes": [],
            "_model_module": "@jupyter-widgets/controls",
            "_model_module_version": "1.5.0",
            "_model_name": "FloatProgressModel",
            "_view_count": null,
            "_view_module": "@jupyter-widgets/controls",
            "_view_module_version": "1.5.0",
            "_view_name": "ProgressView",
            "bar_style": "",
            "description": "",
            "description_tooltip": null,
            "layout": "IPY_MODEL_e9a26eb8f68244538ea859519726186c",
            "max": 69,
            "min": 0,
            "orientation": "horizontal",
            "style": "IPY_MODEL_d239eac40e644884907d7b70cbf57f94",
            "value": 69
          }
        },
        "a2bfc5dcfc714a74afd04a89ac83f291": {
          "model_module": "@jupyter-widgets/controls",
          "model_name": "HTMLModel",
          "model_module_version": "1.5.0",
          "state": {
            "_dom_classes": [],
            "_model_module": "@jupyter-widgets/controls",
            "_model_module_version": "1.5.0",
            "_model_name": "HTMLModel",
            "_view_count": null,
            "_view_module": "@jupyter-widgets/controls",
            "_view_module_version": "1.5.0",
            "_view_name": "HTMLView",
            "description": "",
            "description_tooltip": null,
            "layout": "IPY_MODEL_056553436ded4efdaf43a204961f87ed",
            "placeholder": "​",
            "style": "IPY_MODEL_f3738ee3c7c341d4bf8d26cd664cfe39",
            "value": " 69/69 [10:04&lt;00:00, 11.27s/it]"
          }
        },
        "757abca72ac3482ab8ccb37c59af5e9b": {
          "model_module": "@jupyter-widgets/base",
          "model_name": "LayoutModel",
          "model_module_version": "1.2.0",
          "state": {
            "_model_module": "@jupyter-widgets/base",
            "_model_module_version": "1.2.0",
            "_model_name": "LayoutModel",
            "_view_count": null,
            "_view_module": "@jupyter-widgets/base",
            "_view_module_version": "1.2.0",
            "_view_name": "LayoutView",
            "align_content": null,
            "align_items": null,
            "align_self": null,
            "border": null,
            "bottom": null,
            "display": null,
            "flex": null,
            "flex_flow": null,
            "grid_area": null,
            "grid_auto_columns": null,
            "grid_auto_flow": null,
            "grid_auto_rows": null,
            "grid_column": null,
            "grid_gap": null,
            "grid_row": null,
            "grid_template_areas": null,
            "grid_template_columns": null,
            "grid_template_rows": null,
            "height": null,
            "justify_content": null,
            "justify_items": null,
            "left": null,
            "margin": null,
            "max_height": null,
            "max_width": null,
            "min_height": null,
            "min_width": null,
            "object_fit": null,
            "object_position": null,
            "order": null,
            "overflow": null,
            "overflow_x": null,
            "overflow_y": null,
            "padding": null,
            "right": null,
            "top": null,
            "visibility": "hidden",
            "width": null
          }
        },
        "463944b440df453ca716bd1a62cf8f97": {
          "model_module": "@jupyter-widgets/base",
          "model_name": "LayoutModel",
          "model_module_version": "1.2.0",
          "state": {
            "_model_module": "@jupyter-widgets/base",
            "_model_module_version": "1.2.0",
            "_model_name": "LayoutModel",
            "_view_count": null,
            "_view_module": "@jupyter-widgets/base",
            "_view_module_version": "1.2.0",
            "_view_name": "LayoutView",
            "align_content": null,
            "align_items": null,
            "align_self": null,
            "border": null,
            "bottom": null,
            "display": null,
            "flex": null,
            "flex_flow": null,
            "grid_area": null,
            "grid_auto_columns": null,
            "grid_auto_flow": null,
            "grid_auto_rows": null,
            "grid_column": null,
            "grid_gap": null,
            "grid_row": null,
            "grid_template_areas": null,
            "grid_template_columns": null,
            "grid_template_rows": null,
            "height": null,
            "justify_content": null,
            "justify_items": null,
            "left": null,
            "margin": null,
            "max_height": null,
            "max_width": null,
            "min_height": null,
            "min_width": null,
            "object_fit": null,
            "object_position": null,
            "order": null,
            "overflow": null,
            "overflow_x": null,
            "overflow_y": null,
            "padding": null,
            "right": null,
            "top": null,
            "visibility": null,
            "width": null
          }
        },
        "c7a47d5f99754b6297b9f358b6096a86": {
          "model_module": "@jupyter-widgets/controls",
          "model_name": "DescriptionStyleModel",
          "model_module_version": "1.5.0",
          "state": {
            "_model_module": "@jupyter-widgets/controls",
            "_model_module_version": "1.5.0",
            "_model_name": "DescriptionStyleModel",
            "_view_count": null,
            "_view_module": "@jupyter-widgets/base",
            "_view_module_version": "1.2.0",
            "_view_name": "StyleView",
            "description_width": ""
          }
        },
        "e9a26eb8f68244538ea859519726186c": {
          "model_module": "@jupyter-widgets/base",
          "model_name": "LayoutModel",
          "model_module_version": "1.2.0",
          "state": {
            "_model_module": "@jupyter-widgets/base",
            "_model_module_version": "1.2.0",
            "_model_name": "LayoutModel",
            "_view_count": null,
            "_view_module": "@jupyter-widgets/base",
            "_view_module_version": "1.2.0",
            "_view_name": "LayoutView",
            "align_content": null,
            "align_items": null,
            "align_self": null,
            "border": null,
            "bottom": null,
            "display": null,
            "flex": null,
            "flex_flow": null,
            "grid_area": null,
            "grid_auto_columns": null,
            "grid_auto_flow": null,
            "grid_auto_rows": null,
            "grid_column": null,
            "grid_gap": null,
            "grid_row": null,
            "grid_template_areas": null,
            "grid_template_columns": null,
            "grid_template_rows": null,
            "height": null,
            "justify_content": null,
            "justify_items": null,
            "left": null,
            "margin": null,
            "max_height": null,
            "max_width": null,
            "min_height": null,
            "min_width": null,
            "object_fit": null,
            "object_position": null,
            "order": null,
            "overflow": null,
            "overflow_x": null,
            "overflow_y": null,
            "padding": null,
            "right": null,
            "top": null,
            "visibility": null,
            "width": null
          }
        },
        "d239eac40e644884907d7b70cbf57f94": {
          "model_module": "@jupyter-widgets/controls",
          "model_name": "ProgressStyleModel",
          "model_module_version": "1.5.0",
          "state": {
            "_model_module": "@jupyter-widgets/controls",
            "_model_module_version": "1.5.0",
            "_model_name": "ProgressStyleModel",
            "_view_count": null,
            "_view_module": "@jupyter-widgets/base",
            "_view_module_version": "1.2.0",
            "_view_name": "StyleView",
            "bar_color": null,
            "description_width": ""
          }
        },
        "056553436ded4efdaf43a204961f87ed": {
          "model_module": "@jupyter-widgets/base",
          "model_name": "LayoutModel",
          "model_module_version": "1.2.0",
          "state": {
            "_model_module": "@jupyter-widgets/base",
            "_model_module_version": "1.2.0",
            "_model_name": "LayoutModel",
            "_view_count": null,
            "_view_module": "@jupyter-widgets/base",
            "_view_module_version": "1.2.0",
            "_view_name": "LayoutView",
            "align_content": null,
            "align_items": null,
            "align_self": null,
            "border": null,
            "bottom": null,
            "display": null,
            "flex": null,
            "flex_flow": null,
            "grid_area": null,
            "grid_auto_columns": null,
            "grid_auto_flow": null,
            "grid_auto_rows": null,
            "grid_column": null,
            "grid_gap": null,
            "grid_row": null,
            "grid_template_areas": null,
            "grid_template_columns": null,
            "grid_template_rows": null,
            "height": null,
            "justify_content": null,
            "justify_items": null,
            "left": null,
            "margin": null,
            "max_height": null,
            "max_width": null,
            "min_height": null,
            "min_width": null,
            "object_fit": null,
            "object_position": null,
            "order": null,
            "overflow": null,
            "overflow_x": null,
            "overflow_y": null,
            "padding": null,
            "right": null,
            "top": null,
            "visibility": null,
            "width": null
          }
        },
        "f3738ee3c7c341d4bf8d26cd664cfe39": {
          "model_module": "@jupyter-widgets/controls",
          "model_name": "DescriptionStyleModel",
          "model_module_version": "1.5.0",
          "state": {
            "_model_module": "@jupyter-widgets/controls",
            "_model_module_version": "1.5.0",
            "_model_name": "DescriptionStyleModel",
            "_view_count": null,
            "_view_module": "@jupyter-widgets/base",
            "_view_module_version": "1.2.0",
            "_view_name": "StyleView",
            "description_width": ""
          }
        }
      }
    }
  },
  "nbformat": 4,
  "nbformat_minor": 5
}