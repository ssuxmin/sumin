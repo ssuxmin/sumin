{
  "nbformat": 4,
  "nbformat_minor": 0,
  "metadata": {
    "colab": {
      "provenance": [],
      "authorship_tag": "ABX9TyMGhelHaMwaazIEdKKtnj1r",
      "include_colab_link": true
    },
    "kernelspec": {
      "name": "python3",
      "display_name": "Python 3"
    },
    "language_info": {
      "name": "python"
    }
  },
  "cells": [
    {
      "cell_type": "markdown",
      "metadata": {
        "id": "view-in-github",
        "colab_type": "text"
      },
      "source": [
        "<a href=\"https://colab.research.google.com/github/ssuxmin/tmp/blob/main/chap_2_%EC%8B%A0%EA%B2%BD%EB%A7%9D%EC%9D%98_%EC%88%98%ED%95%99%EC%A0%81_%EA%B5%AC%EC%84%B1_%EC%9A%94%EC%86%8C(%EC%BD%94%EB%93%9C_%EC%97%B0%EC%8A%B5).ipynb\" target=\"_parent\"><img src=\"https://colab.research.google.com/assets/colab-badge.svg\" alt=\"Open In Colab\"/></a>"
      ]
    },
    {
      "cell_type": "markdown",
      "source": [
        "# 2.1 신경망과의 첫 만남"
      ],
      "metadata": {
        "id": "FlspRRHSdKaQ"
      }
    },
    {
      "cell_type": "markdown",
      "source": [
        "**(코드 2-1) 케라스에서 Mnist 데이터셋 적재**\n"
      ],
      "metadata": {
        "id": "RCUguM6Ze8i9"
      }
    },
    {
      "cell_type": "code",
      "source": [
        "from tensorflow.keras.datasets import mnist\n",
        "(train_images, train_labels), (test_images, test_labels) = mnist.load_data()   \n",
        "#training set(훈련 세트), test set(테스트 세트)"
      ],
      "metadata": {
        "id": "-EnYa3Mlc7Gj"
      },
      "execution_count": 128,
      "outputs": []
    },
    {
      "cell_type": "code",
      "source": [
        "train_images.shape"
      ],
      "metadata": {
        "colab": {
          "base_uri": "https://localhost:8080/"
        },
        "id": "v651ETOnc7bh",
        "outputId": "52476bf2-516b-44c4-e262-74f8c06df149"
      },
      "execution_count": 129,
      "outputs": [
        {
          "output_type": "execute_result",
          "data": {
            "text/plain": [
              "(60000, 28, 28)"
            ]
          },
          "metadata": {},
          "execution_count": 129
        }
      ]
    },
    {
      "cell_type": "code",
      "source": [
        "len(train_labels)"
      ],
      "metadata": {
        "colab": {
          "base_uri": "https://localhost:8080/"
        },
        "id": "Na96z1b9c-SB",
        "outputId": "72fb645d-7e61-4b87-e389-dbeb193e330e"
      },
      "execution_count": 130,
      "outputs": [
        {
          "output_type": "execute_result",
          "data": {
            "text/plain": [
              "60000"
            ]
          },
          "metadata": {},
          "execution_count": 130
        }
      ]
    },
    {
      "cell_type": "code",
      "source": [
        "train_labels"
      ],
      "metadata": {
        "colab": {
          "base_uri": "https://localhost:8080/"
        },
        "id": "GtX0Kl1Wc_DI",
        "outputId": "42ab4643-0f50-4033-fe82-165b87b6fc16"
      },
      "execution_count": 131,
      "outputs": [
        {
          "output_type": "execute_result",
          "data": {
            "text/plain": [
              "array([5, 0, 4, ..., 5, 6, 8], dtype=uint8)"
            ]
          },
          "metadata": {},
          "execution_count": 131
        }
      ]
    },
    {
      "cell_type": "code",
      "source": [
        "test_images.shape"
      ],
      "metadata": {
        "colab": {
          "base_uri": "https://localhost:8080/"
        },
        "id": "N2R2j0yac_qR",
        "outputId": "f92e1a6c-4d70-49f9-cea1-31dd830f1823"
      },
      "execution_count": 132,
      "outputs": [
        {
          "output_type": "execute_result",
          "data": {
            "text/plain": [
              "(10000, 28, 28)"
            ]
          },
          "metadata": {},
          "execution_count": 132
        }
      ]
    },
    {
      "cell_type": "code",
      "source": [
        "len(test_labels)"
      ],
      "metadata": {
        "colab": {
          "base_uri": "https://localhost:8080/"
        },
        "id": "EZCJkDgNc_1Q",
        "outputId": "313859ee-9e47-455c-9e9f-e68db07af3ac"
      },
      "execution_count": 133,
      "outputs": [
        {
          "output_type": "execute_result",
          "data": {
            "text/plain": [
              "10000"
            ]
          },
          "metadata": {},
          "execution_count": 133
        }
      ]
    },
    {
      "cell_type": "code",
      "source": [
        "len(train_images)"
      ],
      "metadata": {
        "colab": {
          "base_uri": "https://localhost:8080/"
        },
        "id": "OeNke3dIc_9e",
        "outputId": "b27d2c54-7577-430a-9501-8068d98640a1"
      },
      "execution_count": 134,
      "outputs": [
        {
          "output_type": "execute_result",
          "data": {
            "text/plain": [
              "60000"
            ]
          },
          "metadata": {},
          "execution_count": 134
        }
      ]
    },
    {
      "cell_type": "code",
      "source": [
        "test_labels"
      ],
      "metadata": {
        "colab": {
          "base_uri": "https://localhost:8080/"
        },
        "id": "Wv2qKFsldAEu",
        "outputId": "b16753a7-fb59-4f27-e6f9-3a7404af3604"
      },
      "execution_count": 135,
      "outputs": [
        {
          "output_type": "execute_result",
          "data": {
            "text/plain": [
              "array([7, 2, 1, ..., 4, 5, 6], dtype=uint8)"
            ]
          },
          "metadata": {},
          "execution_count": 135
        }
      ]
    },
    {
      "cell_type": "markdown",
      "source": [
        "**(코드 2-2) 신경망 구조**"
      ],
      "metadata": {
        "id": "_RjwxRN1er50"
      }
    },
    {
      "cell_type": "code",
      "source": [
        "from tensorflow import keras\n",
        "from tensorflow.keras import layers\n",
        "\n",
        "model = keras.Sequential([\n",
        "    layers.Dense(512, activation=\"relu\"),\n",
        "    layers.Dense(10, activation=\"softmax\")\n",
        "])\n",
        "\n",
        "# output이 512 였으면 512개가 그다음의 layer의 input이 된다."
      ],
      "metadata": {
        "id": "2tn4Rdu0erXt"
      },
      "execution_count": 136,
      "outputs": []
    },
    {
      "cell_type": "code",
      "source": [
        "model"
      ],
      "metadata": {
        "colab": {
          "base_uri": "https://localhost:8080/"
        },
        "id": "0FejhOovdAK8",
        "outputId": "607ef271-e0b6-4e89-adb0-8c8806d776bf"
      },
      "execution_count": 137,
      "outputs": [
        {
          "output_type": "execute_result",
          "data": {
            "text/plain": [
              "<keras.engine.sequential.Sequential at 0x7f4426e7c7c0>"
            ]
          },
          "metadata": {},
          "execution_count": 137
        }
      ]
    },
    {
      "cell_type": "markdown",
      "source": [
        "**(코드 2-3) 컴파일 단계**"
      ],
      "metadata": {
        "id": "XJkxaHsZdARY"
      }
    },
    {
      "cell_type": "code",
      "source": [
        "model.compile(optimizer=\"rmsprop\",                        # 모델이 옳은 방향으로 학습될 수 있도록 도움을 줌\n",
        "              loss=\"sparse_categorical_crossentropy\",    # 모델 업데이트\n",
        "              metrics=[\"accuracy\"])"
      ],
      "metadata": {
        "id": "CFX8u2nVdAqD"
      },
      "execution_count": 138,
      "outputs": []
    },
    {
      "cell_type": "markdown",
      "source": [
        "**(코드2-4) 이미지 데이터 준비하기**"
      ],
      "metadata": {
        "id": "Kuw7YAqddA2w"
      }
    },
    {
      "cell_type": "code",
      "source": [
        "train_images = train_images.reshape((60000, 28 * 28))\n",
        "train_images = train_images.astype(\"float32\")/255\n",
        "test_images = test_images.reshape((10000, 28 * 28))\n",
        "test_images = test_images.astype(\"float32\")/255"
      ],
      "metadata": {
        "id": "ni23Pq3edBDY"
      },
      "execution_count": 139,
      "outputs": []
    },
    {
      "cell_type": "markdown",
      "source": [
        "**(코드2-5) 모델 훈련하기**"
      ],
      "metadata": {
        "id": "7npGFgsFc82Y"
      }
    },
    {
      "cell_type": "code",
      "source": [
        "model.fit(train_images, train_labels, epochs=5, batch_size=128)"
      ],
      "metadata": {
        "colab": {
          "base_uri": "https://localhost:8080/"
        },
        "id": "7aCUyihiih9z",
        "outputId": "e0e4e845-6686-4b9b-ef65-28eb5244fb73"
      },
      "execution_count": 140,
      "outputs": [
        {
          "output_type": "stream",
          "name": "stdout",
          "text": [
            "Epoch 1/5\n",
            "469/469 [==============================] - 4s 7ms/step - loss: 0.2652 - accuracy: 0.9238\n",
            "Epoch 2/5\n",
            "469/469 [==============================] - 3s 7ms/step - loss: 0.1089 - accuracy: 0.9676\n",
            "Epoch 3/5\n",
            "469/469 [==============================] - 4s 9ms/step - loss: 0.0704 - accuracy: 0.9791\n",
            "Epoch 4/5\n",
            "469/469 [==============================] - 3s 7ms/step - loss: 0.0522 - accuracy: 0.9842\n",
            "Epoch 5/5\n",
            "469/469 [==============================] - 3s 7ms/step - loss: 0.0383 - accuracy: 0.9883\n"
          ]
        },
        {
          "output_type": "execute_result",
          "data": {
            "text/plain": [
              "<keras.callbacks.History at 0x7f4426e11220>"
            ]
          },
          "metadata": {},
          "execution_count": 140
        }
      ]
    },
    {
      "cell_type": "markdown",
      "source": [
        "**(코드2-6) 모델을 사용하여 예측 만들기**"
      ],
      "metadata": {
        "id": "SawcQINUiiHq"
      }
    },
    {
      "cell_type": "code",
      "source": [
        "test_digits = test_images[0:10]\n",
        "predictions = model.predict(test_digits)\n",
        "predictions[0]"
      ],
      "metadata": {
        "colab": {
          "base_uri": "https://localhost:8080/"
        },
        "id": "QO9c-Z-4iivZ",
        "outputId": "3b2d20ed-018d-4c87-a9a8-488f4df7eee8"
      },
      "execution_count": 141,
      "outputs": [
        {
          "output_type": "stream",
          "name": "stdout",
          "text": [
            "1/1 [==============================] - 0s 57ms/step\n"
          ]
        },
        {
          "output_type": "execute_result",
          "data": {
            "text/plain": [
              "array([1.3786723e-07, 3.4905114e-09, 1.6071883e-05, 1.3297814e-04,\n",
              "       3.6394276e-10, 9.7550540e-08, 9.2989266e-13, 9.9984503e-01,\n",
              "       6.2101229e-08, 5.6689005e-06], dtype=float32)"
            ]
          },
          "metadata": {},
          "execution_count": 141
        }
      ]
    },
    {
      "cell_type": "code",
      "source": [
        "predictions"
      ],
      "metadata": {
        "colab": {
          "base_uri": "https://localhost:8080/"
        },
        "id": "d_zkOy1rii6S",
        "outputId": "014bc84a-6ba6-4dec-b82e-8b24a16de814"
      },
      "execution_count": 142,
      "outputs": [
        {
          "output_type": "execute_result",
          "data": {
            "text/plain": [
              "array([[1.37867232e-07, 3.49051144e-09, 1.60718828e-05, 1.32978137e-04,\n",
              "        3.63942765e-10, 9.75505401e-08, 9.29892665e-13, 9.99845028e-01,\n",
              "        6.21012290e-08, 5.66890049e-06],\n",
              "       [1.35109246e-07, 2.54175757e-06, 9.99985039e-01, 9.71144436e-06,\n",
              "        2.31093329e-13, 4.34610797e-07, 6.96164904e-08, 3.65767150e-13,\n",
              "        1.97121676e-06, 5.10731431e-13],\n",
              "       [9.58060227e-08, 9.99345958e-01, 8.72749588e-05, 8.76425656e-06,\n",
              "        1.96907247e-04, 5.41538020e-06, 2.73987553e-06, 1.70345316e-04,\n",
              "        1.81684431e-04, 1.00279988e-06],\n",
              "       [9.99945939e-01, 1.83794979e-09, 3.70984490e-05, 2.00844653e-07,\n",
              "        1.70434244e-08, 8.37227105e-07, 1.01546357e-05, 3.97700296e-06,\n",
              "        3.59638819e-10, 1.75740297e-06],\n",
              "       [1.23321456e-06, 2.56425103e-10, 1.80179291e-06, 5.85968740e-09,\n",
              "        9.98336375e-01, 1.59061493e-08, 2.27897908e-06, 7.85732482e-06,\n",
              "        2.15225600e-06, 1.64842815e-03],\n",
              "       [1.45210666e-09, 9.99875784e-01, 2.70064419e-07, 5.46415663e-07,\n",
              "        2.50395769e-05, 6.78022261e-09, 2.54910515e-09, 9.54921925e-05,\n",
              "        2.95044356e-06, 6.91388848e-08],\n",
              "       [1.12939019e-10, 3.27836567e-08, 3.23452198e-08, 6.83921675e-09,\n",
              "        9.99879658e-01, 5.74730848e-07, 1.60001381e-08, 1.56372494e-06,\n",
              "        9.16839563e-05, 2.64551891e-05],\n",
              "       [1.28056836e-08, 8.18500666e-07, 6.72383658e-06, 1.58710915e-04,\n",
              "        2.05297110e-04, 5.94748940e-07, 7.68590913e-10, 7.61964620e-05,\n",
              "        3.66023016e-07, 9.99551237e-01],\n",
              "       [2.88348190e-07, 1.34167850e-08, 5.16304135e-05, 5.86485442e-07,\n",
              "        1.35545139e-04, 9.38411295e-01, 6.05659597e-02, 3.03077101e-08,\n",
              "        7.90861144e-04, 4.36326409e-05],\n",
              "       [9.69387015e-10, 7.95389969e-12, 2.61850319e-09, 5.32361582e-07,\n",
              "        3.07784118e-02, 1.13959146e-07, 3.58005400e-12, 1.00850407e-03,\n",
              "        4.43570825e-05, 9.68168080e-01]], dtype=float32)"
            ]
          },
          "metadata": {},
          "execution_count": 142
        }
      ]
    },
    {
      "cell_type": "code",
      "source": [
        "predictions[1]"
      ],
      "metadata": {
        "colab": {
          "base_uri": "https://localhost:8080/"
        },
        "id": "_Fjk2rJlmdQU",
        "outputId": "12efc68c-9adb-4fd0-d6c8-3859cb01f429"
      },
      "execution_count": 143,
      "outputs": [
        {
          "output_type": "execute_result",
          "data": {
            "text/plain": [
              "array([1.3510925e-07, 2.5417576e-06, 9.9998504e-01, 9.7114444e-06,\n",
              "       2.3109333e-13, 4.3461080e-07, 6.9616490e-08, 3.6576715e-13,\n",
              "       1.9712168e-06, 5.1073143e-13], dtype=float32)"
            ]
          },
          "metadata": {},
          "execution_count": 143
        }
      ]
    },
    {
      "cell_type": "code",
      "source": [
        "predictions[0].argmax()"
      ],
      "metadata": {
        "colab": {
          "base_uri": "https://localhost:8080/"
        },
        "id": "j2tf2rmlmi4O",
        "outputId": "4894beb3-b95a-462f-8f35-6a7bc3093522"
      },
      "execution_count": 144,
      "outputs": [
        {
          "output_type": "execute_result",
          "data": {
            "text/plain": [
              "7"
            ]
          },
          "metadata": {},
          "execution_count": 144
        }
      ]
    },
    {
      "cell_type": "code",
      "source": [
        "predictions[0][7]"
      ],
      "metadata": {
        "colab": {
          "base_uri": "https://localhost:8080/"
        },
        "id": "RQToG5KzmjTa",
        "outputId": "9e442e26-6991-4033-d8b1-9dd6eb00b50b"
      },
      "execution_count": 145,
      "outputs": [
        {
          "output_type": "execute_result",
          "data": {
            "text/plain": [
              "0.999845"
            ]
          },
          "metadata": {},
          "execution_count": 145
        }
      ]
    },
    {
      "cell_type": "code",
      "source": [
        "test_labels"
      ],
      "metadata": {
        "colab": {
          "base_uri": "https://localhost:8080/"
        },
        "id": "j0JURrUnmjiP",
        "outputId": "6d89f814-d08c-4394-9583-ff75e7435441"
      },
      "execution_count": 146,
      "outputs": [
        {
          "output_type": "execute_result",
          "data": {
            "text/plain": [
              "array([7, 2, 1, ..., 4, 5, 6], dtype=uint8)"
            ]
          },
          "metadata": {},
          "execution_count": 146
        }
      ]
    },
    {
      "cell_type": "code",
      "source": [
        "test_labels[0]"
      ],
      "metadata": {
        "colab": {
          "base_uri": "https://localhost:8080/"
        },
        "id": "4YzEAwQtmxdw",
        "outputId": "b69fb204-0c4b-43a8-b105-e5f7f628b115"
      },
      "execution_count": 147,
      "outputs": [
        {
          "output_type": "execute_result",
          "data": {
            "text/plain": [
              "7"
            ]
          },
          "metadata": {},
          "execution_count": 147
        }
      ]
    },
    {
      "cell_type": "markdown",
      "source": [
        "**(코드2-7) 새로운 데이터에서 모델 평가**"
      ],
      "metadata": {
        "id": "uo8AY_fEmxrH"
      }
    },
    {
      "cell_type": "code",
      "source": [
        "test_loss, test_acc = model.evaluate(test_images, test_labels)\n",
        "print(f\"테스트 정확도: {test_acc}\")"
      ],
      "metadata": {
        "colab": {
          "base_uri": "https://localhost:8080/"
        },
        "id": "94APP-Spm8Mk",
        "outputId": "2538ca5a-9811-45f0-f140-87bc418dc94a"
      },
      "execution_count": 148,
      "outputs": [
        {
          "output_type": "stream",
          "name": "stdout",
          "text": [
            "313/313 [==============================] - 2s 5ms/step - loss: 0.0619 - accuracy: 0.9813\n",
            "테스트 정확도: 0.9812999963760376\n"
          ]
        }
      ]
    },
    {
      "cell_type": "markdown",
      "source": [
        "# 2.2 신경망을 위한 데이터 표현"
      ],
      "metadata": {
        "id": "GGwQmzdKm8xt"
      }
    },
    {
      "cell_type": "markdown",
      "source": [
        "###스칼라(랭크-0 텐서)"
      ],
      "metadata": {
        "id": "_TicaPgUm9C1"
      }
    },
    {
      "cell_type": "code",
      "source": [
        "import numpy as np\n",
        "x= np.array(12)\n",
        "x"
      ],
      "metadata": {
        "colab": {
          "base_uri": "https://localhost:8080/"
        },
        "id": "7oYwt-TTpPev",
        "outputId": "25a9c9c7-62e5-456c-c8ee-dcfd6767aa80"
      },
      "execution_count": 149,
      "outputs": [
        {
          "output_type": "execute_result",
          "data": {
            "text/plain": [
              "array(12)"
            ]
          },
          "metadata": {},
          "execution_count": 149
        }
      ]
    },
    {
      "cell_type": "code",
      "source": [
        "x.ndim"
      ],
      "metadata": {
        "colab": {
          "base_uri": "https://localhost:8080/"
        },
        "id": "JOpPpp5tpPpQ",
        "outputId": "f5df933f-d2ac-405d-f6cf-0fa494e22eea"
      },
      "execution_count": 150,
      "outputs": [
        {
          "output_type": "execute_result",
          "data": {
            "text/plain": [
              "0"
            ]
          },
          "metadata": {},
          "execution_count": 150
        }
      ]
    },
    {
      "cell_type": "markdown",
      "source": [
        "### 벡터(랭크-1 텐서)"
      ],
      "metadata": {
        "id": "DyK8NKJvpP0A"
      }
    },
    {
      "cell_type": "code",
      "source": [
        "x= np.array([12,3,6,14,7])    # 5개의 원소 = 5차원 벡터\n",
        "\n",
        "# 5D 벡터 : 하나의 축을 따라 5개의 차원을 가진 것\n",
        "# 5D 텐서 : 5개의 축을 가진 것"
      ],
      "metadata": {
        "id": "OtUjMW4jm9Os"
      },
      "execution_count": 151,
      "outputs": []
    },
    {
      "cell_type": "code",
      "source": [
        "x"
      ],
      "metadata": {
        "colab": {
          "base_uri": "https://localhost:8080/"
        },
        "id": "mxNKRODUm9m1",
        "outputId": "19457cd6-0429-485b-a585-cb1be8d67c61"
      },
      "execution_count": 152,
      "outputs": [
        {
          "output_type": "execute_result",
          "data": {
            "text/plain": [
              "array([12,  3,  6, 14,  7])"
            ]
          },
          "metadata": {},
          "execution_count": 152
        }
      ]
    },
    {
      "cell_type": "code",
      "source": [
        "x.ndim"
      ],
      "metadata": {
        "colab": {
          "base_uri": "https://localhost:8080/"
        },
        "id": "17G02_73m9yM",
        "outputId": "45c79b91-8d3d-4916-bd06-3b0fd2bb3814"
      },
      "execution_count": 153,
      "outputs": [
        {
          "output_type": "execute_result",
          "data": {
            "text/plain": [
              "1"
            ]
          },
          "metadata": {},
          "execution_count": 153
        }
      ]
    },
    {
      "cell_type": "markdown",
      "source": [
        "### 행렬(랭크-2 텐서)"
      ],
      "metadata": {
        "id": "fMTWInkMonWZ"
      }
    },
    {
      "cell_type": "code",
      "source": [
        "x = np.array([[5, 78, 2, 34, 0],\n",
        "              [6, 79, 3, 35, 1],\n",
        "              [7, 80, 4, 36, 2]])\n",
        "x"
      ],
      "metadata": {
        "colab": {
          "base_uri": "https://localhost:8080/"
        },
        "id": "3_r4k8HIonke",
        "outputId": "7d04a436-020a-478a-8040-556070b64a7d"
      },
      "execution_count": 154,
      "outputs": [
        {
          "output_type": "execute_result",
          "data": {
            "text/plain": [
              "array([[ 5, 78,  2, 34,  0],\n",
              "       [ 6, 79,  3, 35,  1],\n",
              "       [ 7, 80,  4, 36,  2]])"
            ]
          },
          "metadata": {},
          "execution_count": 154
        }
      ]
    },
    {
      "cell_type": "code",
      "source": [
        "x.ndim"
      ],
      "metadata": {
        "colab": {
          "base_uri": "https://localhost:8080/"
        },
        "id": "Dr50NDJqon6e",
        "outputId": "848e5fd8-7092-4541-9e6d-1eac3f1735ce"
      },
      "execution_count": 155,
      "outputs": [
        {
          "output_type": "execute_result",
          "data": {
            "text/plain": [
              "2"
            ]
          },
          "metadata": {},
          "execution_count": 155
        }
      ]
    },
    {
      "cell_type": "markdown",
      "source": [
        "### 랭크-3 텐서 와 더 높은 랭크의 텐서"
      ],
      "metadata": {
        "id": "oWaPakdIp4n6"
      }
    },
    {
      "cell_type": "code",
      "source": [
        "x = np.array([[[5, 78, 2, 34, 0],\n",
        "               [6, 79, 3, 35, 1],\n",
        "               [7, 80, 4, 36, 2]],\n",
        "              [[5, 78, 2, 34, 0],\n",
        "               [6, 79, 3, 35, 1],\n",
        "               [7, 80, 4, 36, 2]],\n",
        "              [[5, 78, 2, 34, 0],\n",
        "               [6, 79, 3, 35, 1],\n",
        "               [7, 80, 4, 36, 2]]])\n",
        "x"
      ],
      "metadata": {
        "colab": {
          "base_uri": "https://localhost:8080/"
        },
        "id": "B3sOWh1dp4yA",
        "outputId": "764514c0-8272-4d01-cf4b-a3d96c15f3fe"
      },
      "execution_count": 156,
      "outputs": [
        {
          "output_type": "execute_result",
          "data": {
            "text/plain": [
              "array([[[ 5, 78,  2, 34,  0],\n",
              "        [ 6, 79,  3, 35,  1],\n",
              "        [ 7, 80,  4, 36,  2]],\n",
              "\n",
              "       [[ 5, 78,  2, 34,  0],\n",
              "        [ 6, 79,  3, 35,  1],\n",
              "        [ 7, 80,  4, 36,  2]],\n",
              "\n",
              "       [[ 5, 78,  2, 34,  0],\n",
              "        [ 6, 79,  3, 35,  1],\n",
              "        [ 7, 80,  4, 36,  2]]])"
            ]
          },
          "metadata": {},
          "execution_count": 156
        }
      ]
    },
    {
      "cell_type": "code",
      "source": [
        "x.ndim"
      ],
      "metadata": {
        "colab": {
          "base_uri": "https://localhost:8080/"
        },
        "id": "nvzIyoVIp48x",
        "outputId": "54285441-c226-440f-9be7-c3a91e10b634"
      },
      "execution_count": 157,
      "outputs": [
        {
          "output_type": "execute_result",
          "data": {
            "text/plain": [
              "3"
            ]
          },
          "metadata": {},
          "execution_count": 157
        }
      ]
    },
    {
      "cell_type": "markdown",
      "source": [
        "### 핵심 속성"
      ],
      "metadata": {
        "id": "SQ2qZXqQp5R5"
      }
    },
    {
      "cell_type": "code",
      "source": [
        "from tensorflow.keras.datasets import mnist\n",
        "(train_images, train_labels), (test_images, test_labels) = mnist.load_data()"
      ],
      "metadata": {
        "id": "JIsD5Blnp5dY"
      },
      "execution_count": 158,
      "outputs": []
    },
    {
      "cell_type": "code",
      "source": [
        "train_images"
      ],
      "metadata": {
        "colab": {
          "base_uri": "https://localhost:8080/"
        },
        "id": "JRaa1u9Up5ma",
        "outputId": "71cff35b-d0b4-4e8c-addd-1592cf037489"
      },
      "execution_count": 159,
      "outputs": [
        {
          "output_type": "execute_result",
          "data": {
            "text/plain": [
              "array([[[0, 0, 0, ..., 0, 0, 0],\n",
              "        [0, 0, 0, ..., 0, 0, 0],\n",
              "        [0, 0, 0, ..., 0, 0, 0],\n",
              "        ...,\n",
              "        [0, 0, 0, ..., 0, 0, 0],\n",
              "        [0, 0, 0, ..., 0, 0, 0],\n",
              "        [0, 0, 0, ..., 0, 0, 0]],\n",
              "\n",
              "       [[0, 0, 0, ..., 0, 0, 0],\n",
              "        [0, 0, 0, ..., 0, 0, 0],\n",
              "        [0, 0, 0, ..., 0, 0, 0],\n",
              "        ...,\n",
              "        [0, 0, 0, ..., 0, 0, 0],\n",
              "        [0, 0, 0, ..., 0, 0, 0],\n",
              "        [0, 0, 0, ..., 0, 0, 0]],\n",
              "\n",
              "       [[0, 0, 0, ..., 0, 0, 0],\n",
              "        [0, 0, 0, ..., 0, 0, 0],\n",
              "        [0, 0, 0, ..., 0, 0, 0],\n",
              "        ...,\n",
              "        [0, 0, 0, ..., 0, 0, 0],\n",
              "        [0, 0, 0, ..., 0, 0, 0],\n",
              "        [0, 0, 0, ..., 0, 0, 0]],\n",
              "\n",
              "       ...,\n",
              "\n",
              "       [[0, 0, 0, ..., 0, 0, 0],\n",
              "        [0, 0, 0, ..., 0, 0, 0],\n",
              "        [0, 0, 0, ..., 0, 0, 0],\n",
              "        ...,\n",
              "        [0, 0, 0, ..., 0, 0, 0],\n",
              "        [0, 0, 0, ..., 0, 0, 0],\n",
              "        [0, 0, 0, ..., 0, 0, 0]],\n",
              "\n",
              "       [[0, 0, 0, ..., 0, 0, 0],\n",
              "        [0, 0, 0, ..., 0, 0, 0],\n",
              "        [0, 0, 0, ..., 0, 0, 0],\n",
              "        ...,\n",
              "        [0, 0, 0, ..., 0, 0, 0],\n",
              "        [0, 0, 0, ..., 0, 0, 0],\n",
              "        [0, 0, 0, ..., 0, 0, 0]],\n",
              "\n",
              "       [[0, 0, 0, ..., 0, 0, 0],\n",
              "        [0, 0, 0, ..., 0, 0, 0],\n",
              "        [0, 0, 0, ..., 0, 0, 0],\n",
              "        ...,\n",
              "        [0, 0, 0, ..., 0, 0, 0],\n",
              "        [0, 0, 0, ..., 0, 0, 0],\n",
              "        [0, 0, 0, ..., 0, 0, 0]]], dtype=uint8)"
            ]
          },
          "metadata": {},
          "execution_count": 159
        }
      ]
    },
    {
      "cell_type": "code",
      "source": [
        "train_images.ndim    # 축의 갯수"
      ],
      "metadata": {
        "colab": {
          "base_uri": "https://localhost:8080/"
        },
        "id": "SnlAC3DOp5_F",
        "outputId": "3da18ed1-d290-4dd7-b33f-8f710ac0318a"
      },
      "execution_count": 160,
      "outputs": [
        {
          "output_type": "execute_result",
          "data": {
            "text/plain": [
              "3"
            ]
          },
          "metadata": {},
          "execution_count": 160
        }
      ]
    },
    {
      "cell_type": "code",
      "source": [
        "train_images.shape # 배열의 크기"
      ],
      "metadata": {
        "colab": {
          "base_uri": "https://localhost:8080/"
        },
        "id": "zBbsd_uNp6C9",
        "outputId": "b45dad44-c1a5-4e00-845f-7d36ad173e7f"
      },
      "execution_count": 161,
      "outputs": [
        {
          "output_type": "execute_result",
          "data": {
            "text/plain": [
              "(60000, 28, 28)"
            ]
          },
          "metadata": {},
          "execution_count": 161
        }
      ]
    },
    {
      "cell_type": "code",
      "source": [
        "train_images.dtype  # 데이터 타입"
      ],
      "metadata": {
        "colab": {
          "base_uri": "https://localhost:8080/"
        },
        "id": "_ffnjHiRp6FE",
        "outputId": "41353ab4-ce23-4d75-8f8c-a9b26825a79d"
      },
      "execution_count": 162,
      "outputs": [
        {
          "output_type": "execute_result",
          "data": {
            "text/plain": [
              "dtype('uint8')"
            ]
          },
          "metadata": {},
          "execution_count": 162
        }
      ]
    },
    {
      "cell_type": "markdown",
      "source": [
        "**(코드 2-8)다섯 번째 이미지 출력하기**"
      ],
      "metadata": {
        "id": "YLXAF4LSp6Hs"
      }
    },
    {
      "cell_type": "code",
      "source": [
        "import matplotlib.pyplot as plt\n",
        "digit = train_images[4]\n",
        "plt.imshow(digit, cmap=plt.cm.binary)\n",
        "plt.show()"
      ],
      "metadata": {
        "colab": {
          "base_uri": "https://localhost:8080/",
          "height": 0
        },
        "id": "tmAR0C8Vp6KB",
        "outputId": "ec595bf6-0648-48c5-9ded-4f6465354612"
      },
      "execution_count": 163,
      "outputs": [
        {
          "output_type": "display_data",
          "data": {
            "text/plain": [
              "<Figure size 432x288 with 1 Axes>"
            ],
            "image/png": "[encoded data removed]"
          },
          "metadata": {
            "needs_background": "light"
          }
        }
      ]
    },
    {
      "cell_type": "code",
      "source": [
        "import matplotlib.pyplot as plt\n",
        "digit = train_images[5]\n",
        "plt.imshow(digit, cmap=plt.cm.binary)\n",
        "plt.show()"
      ],
      "metadata": {
        "colab": {
          "base_uri": "https://localhost:8080/",
          "height": 0
        },
        "id": "VuzCj9IMskRN",
        "outputId": "7a2f1c28-257f-4ef0-c2ea-49b164afaa2f"
      },
      "execution_count": 164,
      "outputs": [
        {
          "output_type": "display_data",
          "data": {
            "text/plain": [
              "<Figure size 432x288 with 1 Axes>"
            ],
            "image/png": "[encoded data removed]"
          },
          "metadata": {
            "needs_background": "light"
          }
        }
      ]
    },
    {
      "cell_type": "code",
      "source": [
        "import matplotlib.pyplot as plt\n",
        "digit = train_images[9]\n",
        "plt.imshow(digit, cmap=plt.cm.binary)\n",
        "plt.show()"
      ],
      "metadata": {
        "colab": {
          "base_uri": "https://localhost:8080/",
          "height": 0
        },
        "id": "ImN_W97zsufB",
        "outputId": "b1341e3f-ff14-4310-bfcf-be0cdb935c67"
      },
      "execution_count": 165,
      "outputs": [
        {
          "output_type": "display_data",
          "data": {
            "text/plain": [
              "<Figure size 432x288 with 1 Axes>"
            ],
            "image/png": "[encoded data removed]"
          },
          "metadata": {
            "needs_background": "light"
          }
        }
      ]
    },
    {
      "cell_type": "code",
      "source": [
        "train_labels[4]"
      ],
      "metadata": {
        "colab": {
          "base_uri": "https://localhost:8080/"
        },
        "id": "pjJsuPg9p6MS",
        "outputId": "333e57e6-2a2f-472b-8ef6-ad0f07bc00f3"
      },
      "execution_count": 166,
      "outputs": [
        {
          "output_type": "execute_result",
          "data": {
            "text/plain": [
              "9"
            ]
          },
          "metadata": {},
          "execution_count": 166
        }
      ]
    },
    {
      "cell_type": "code",
      "source": [
        "train_labels[5]"
      ],
      "metadata": {
        "colab": {
          "base_uri": "https://localhost:8080/"
        },
        "id": "Mn_lR_torYNs",
        "outputId": "7221aba1-1b6e-4eea-ff4e-6690f212f566"
      },
      "execution_count": 167,
      "outputs": [
        {
          "output_type": "execute_result",
          "data": {
            "text/plain": [
              "2"
            ]
          },
          "metadata": {},
          "execution_count": 167
        }
      ]
    },
    {
      "cell_type": "code",
      "source": [
        "train_labels[9]"
      ],
      "metadata": {
        "colab": {
          "base_uri": "https://localhost:8080/"
        },
        "id": "jLBYBICvrYmd",
        "outputId": "80e5dbdc-81bb-45ee-bd77-23c756627913"
      },
      "execution_count": 168,
      "outputs": [
        {
          "output_type": "execute_result",
          "data": {
            "text/plain": [
              "4"
            ]
          },
          "metadata": {},
          "execution_count": 168
        }
      ]
    },
    {
      "cell_type": "markdown",
      "source": [
        "### 2.2.6 넘파이로 텐서 조작하기"
      ],
      "metadata": {
        "id": "KdZAvpbMrYo2"
      }
    },
    {
      "cell_type": "code",
      "source": [
        "my_slice = train_images[10:100]\n",
        "my_slice.shape"
      ],
      "metadata": {
        "colab": {
          "base_uri": "https://localhost:8080/"
        },
        "id": "v6u2UeM3s5GS",
        "outputId": "1ec85b6f-c521-4f52-8dc8-445e4b7254d0"
      },
      "execution_count": 169,
      "outputs": [
        {
          "output_type": "execute_result",
          "data": {
            "text/plain": [
              "(90, 28, 28)"
            ]
          },
          "metadata": {},
          "execution_count": 169
        }
      ]
    },
    {
      "cell_type": "code",
      "source": [
        "my_slice = train_images[10:100, :, :]\n",
        "my_slice.shape"
      ],
      "metadata": {
        "colab": {
          "base_uri": "https://localhost:8080/"
        },
        "id": "G7ZhrfGHrYrU",
        "outputId": "a37ec653-6fc2-461e-ce21-56c36bb29dd8"
      },
      "execution_count": 170,
      "outputs": [
        {
          "output_type": "execute_result",
          "data": {
            "text/plain": [
              "(90, 28, 28)"
            ]
          },
          "metadata": {},
          "execution_count": 170
        }
      ]
    },
    {
      "cell_type": "code",
      "source": [
        "my_slice = train_images[10:100, 0:28, 0:28]\n",
        "my_slice.shape"
      ],
      "metadata": {
        "colab": {
          "base_uri": "https://localhost:8080/"
        },
        "id": "N6ixB_33rYt5",
        "outputId": "eb149d7a-e817-49d5-9ea4-e1e55e3de447"
      },
      "execution_count": 171,
      "outputs": [
        {
          "output_type": "execute_result",
          "data": {
            "text/plain": [
              "(90, 28, 28)"
            ]
          },
          "metadata": {},
          "execution_count": 171
        }
      ]
    },
    {
      "cell_type": "code",
      "source": [
        "my_slice = train_images[:, 14:, 14:]\n",
        "my_slice.shape"
      ],
      "metadata": {
        "colab": {
          "base_uri": "https://localhost:8080/"
        },
        "id": "vkdqW5wJrYyW",
        "outputId": "c82a9aa0-6d6e-486d-e97d-86bef5723e73"
      },
      "execution_count": 172,
      "outputs": [
        {
          "output_type": "execute_result",
          "data": {
            "text/plain": [
              "(60000, 14, 14)"
            ]
          },
          "metadata": {},
          "execution_count": 172
        }
      ]
    },
    {
      "cell_type": "code",
      "source": [
        "my_slice =train_images[:, 7:-7, 7:-7]\n",
        "my_slice.shape"
      ],
      "metadata": {
        "colab": {
          "base_uri": "https://localhost:8080/"
        },
        "id": "UV8z3oe8rYwB",
        "outputId": "9166c0d4-913b-4079-ffef-5f20034ec018"
      },
      "execution_count": 173,
      "outputs": [
        {
          "output_type": "execute_result",
          "data": {
            "text/plain": [
              "(60000, 14, 14)"
            ]
          },
          "metadata": {},
          "execution_count": 173
        }
      ]
    },
    {
      "cell_type": "markdown",
      "source": [
        "### 2.2.7 배치 데이터"
      ],
      "metadata": {
        "id": "unclhZAUrY0g"
      }
    },
    {
      "cell_type": "code",
      "source": [
        "batch = train_images[:128]\n",
        "batch.shape"
      ],
      "metadata": {
        "colab": {
          "base_uri": "https://localhost:8080/"
        },
        "id": "V7OuiTlBrY2y",
        "outputId": "ad0469fe-1cea-4047-9f02-ac3fd2014f7d"
      },
      "execution_count": 174,
      "outputs": [
        {
          "output_type": "execute_result",
          "data": {
            "text/plain": [
              "(128, 28, 28)"
            ]
          },
          "metadata": {},
          "execution_count": 174
        }
      ]
    },
    {
      "cell_type": "code",
      "source": [
        "batch = train_images[128:256]\n",
        "batch.shape"
      ],
      "metadata": {
        "colab": {
          "base_uri": "https://localhost:8080/"
        },
        "id": "Zkq6o3KzrY5c",
        "outputId": "57123d62-0c4a-4653-fc6d-4be5ff206518"
      },
      "execution_count": 175,
      "outputs": [
        {
          "output_type": "execute_result",
          "data": {
            "text/plain": [
              "(128, 28, 28)"
            ]
          },
          "metadata": {},
          "execution_count": 175
        }
      ]
    },
    {
      "cell_type": "code",
      "source": [
        "n = 3\n",
        "batch = train_images[128 * n:128 * (n + 1)]\n",
        "batch.shape"
      ],
      "metadata": {
        "colab": {
          "base_uri": "https://localhost:8080/"
        },
        "id": "TlQ2nyuSrY7p",
        "outputId": "87bbf196-3f91-4c0e-b6a5-82792e33a2fe"
      },
      "execution_count": 176,
      "outputs": [
        {
          "output_type": "execute_result",
          "data": {
            "text/plain": [
              "(128, 28, 28)"
            ]
          },
          "metadata": {},
          "execution_count": 176
        }
      ]
    },
    {
      "cell_type": "markdown",
      "source": [
        "### 2.2.8 텐서의 실제 사례 \n",
        "### 2.2.9 벡터 데이터\n",
        "### 2.2.10 시계열 데이터 또는 시퀀스 데이터\n",
        "### 2.2.11 이미지 데이터\n",
        "### 2.2.12 비디오 데이터"
      ],
      "metadata": {
        "id": "W_vY9NRAu2AZ"
      }
    },
    {
      "cell_type": "markdown",
      "source": [
        "# 2.3 신경마의 톱니바퀴 : 텐서 연산\n"
      ],
      "metadata": {
        "id": "92ky5tQ6u2eu"
      }
    },
    {
      "cell_type": "markdown",
      "source": [
        "### 2.3.1 원소별 연산"
      ],
      "metadata": {
        "id": "xKDo_3mZvpim"
      }
    },
    {
      "cell_type": "code",
      "source": [
        "import numpy as np \n",
        "x = np.array([[5, 78, 2, 34, 0],\n",
        "              [6, 79, 3, 35, 1],\n",
        "              [7, 80, 4, 36, 2]])"
      ],
      "metadata": {
        "id": "xnmSyRttOq2v"
      },
      "execution_count": 177,
      "outputs": []
    },
    {
      "cell_type": "code",
      "source": [
        "def naive_relu(x):\n",
        "    assert len(x.shape) == 2              # x는 랭크-2 넘파이 배열\n",
        "    x = x.copy()\n",
        "    for i in range(x.shape[0]):\n",
        "        for j in range(x.shape[1]):\n",
        "            x[i, j] = max(x[i, j], 0)\n",
        "    return x"
      ],
      "metadata": {
        "id": "PXzIf7vNvpny"
      },
      "execution_count": 178,
      "outputs": []
    },
    {
      "cell_type": "code",
      "source": [
        "x.ndim"
      ],
      "metadata": {
        "colab": {
          "base_uri": "https://localhost:8080/"
        },
        "id": "qtBFN0MWwwLG",
        "outputId": "0781e8c4-ee94-41f0-b8f6-3260632393e1"
      },
      "execution_count": 179,
      "outputs": [
        {
          "output_type": "execute_result",
          "data": {
            "text/plain": [
              "2"
            ]
          },
          "metadata": {},
          "execution_count": 179
        }
      ]
    },
    {
      "cell_type": "code",
      "source": [
        "x.shape"
      ],
      "metadata": {
        "colab": {
          "base_uri": "https://localhost:8080/"
        },
        "id": "_J9eOne2vpqa",
        "outputId": "d168348e-27a1-4a0c-af63-72c9ddb89cfc"
      },
      "execution_count": 180,
      "outputs": [
        {
          "output_type": "execute_result",
          "data": {
            "text/plain": [
              "(3, 5)"
            ]
          },
          "metadata": {},
          "execution_count": 180
        }
      ]
    },
    {
      "cell_type": "code",
      "source": [
        "def naive_add(x, y):        # 랭크-2 텐서만 지원 가능!!!\n",
        "    assert len(x.shape) == 2         # x와 y는 랭크-2 넘파이 배열\n",
        "    assert x.shape == y.shape    \n",
        "    x = x.copy()\n",
        "    for i in range(x.shape[0]):\n",
        "        for j in range(x.shape[1]):\n",
        "            x[i, j] += y[i, j]\n",
        "    return x"
      ],
      "metadata": {
        "id": "EMu84FS9vpsx"
      },
      "execution_count": 181,
      "outputs": []
    },
    {
      "cell_type": "code",
      "source": [
        "x.ndim"
      ],
      "metadata": {
        "colab": {
          "base_uri": "https://localhost:8080/"
        },
        "id": "L6Mm8eMfvpvf",
        "outputId": "89af3f81-6a36-4212-c4d4-4d00a9cdf621"
      },
      "execution_count": 182,
      "outputs": [
        {
          "output_type": "execute_result",
          "data": {
            "text/plain": [
              "2"
            ]
          },
          "metadata": {},
          "execution_count": 182
        }
      ]
    },
    {
      "cell_type": "code",
      "source": [
        "x.shape"
      ],
      "metadata": {
        "colab": {
          "base_uri": "https://localhost:8080/"
        },
        "id": "yPhGN8dH4VH3",
        "outputId": "46b56f3c-58c9-4d01-afcb-320b1ae44db9"
      },
      "execution_count": 183,
      "outputs": [
        {
          "output_type": "execute_result",
          "data": {
            "text/plain": [
              "(3, 5)"
            ]
          },
          "metadata": {},
          "execution_count": 183
        }
      ]
    },
    {
      "cell_type": "code",
      "source": [
        "import time                         \n",
        "\n",
        "x = np.random.random((20, 100))\n",
        "y = np.random.random((20, 100))\n",
        "\n",
        "t0 = time.time()\n",
        "for _ in range(1000):\n",
        "    z = x + y\n",
        "    z = np.maximum(z, 0.)\n",
        "print(\"걸린 시간: {0:.2f} s\".format(time.time() - t0))"
      ],
      "metadata": {
        "colab": {
          "base_uri": "https://localhost:8080/"
        },
        "id": "hCMYtJBvu2p2",
        "outputId": "0f07c04b-e2c6-4d84-99c5-474f6c1972d5"
      },
      "execution_count": 184,
      "outputs": [
        {
          "output_type": "stream",
          "name": "stdout",
          "text": [
            "걸린 시간: 0.01 s\n"
          ]
        }
      ]
    },
    {
      "cell_type": "code",
      "source": [
        "t0 = time.time()\n",
        "for _ in range(1000):\n",
        "    z = naive_add(x, y)\n",
        "    z = naive_relu(z)\n",
        "print(\"걸린 시간: {0:.2f} s\".format(time.time() - t0))"
      ],
      "metadata": {
        "colab": {
          "base_uri": "https://localhost:8080/"
        },
        "id": "f9PLUOTzu212",
        "outputId": "e89ca514-90df-4ebe-c976-abada54ffdd1"
      },
      "execution_count": 185,
      "outputs": [
        {
          "output_type": "stream",
          "name": "stdout",
          "text": [
            "걸린 시간: 1.88 s\n"
          ]
        }
      ]
    },
    {
      "cell_type": "markdown",
      "source": [
        "### 2.3.2 브로드캐스팅"
      ],
      "metadata": {
        "id": "8sTuHy_Mu2_m"
      }
    },
    {
      "cell_type": "code",
      "source": [
        "import numpy as np\n",
        "X = np.random.random((32, 10))   # x는 크기가 (32,10)인 랜덤한 행렬\n",
        "y = np.random.random((10,))      # y는 크기가 (10,)인 랜덤한 벡터터"
      ],
      "metadata": {
        "id": "k9QOZ66H3oxC"
      },
      "execution_count": 186,
      "outputs": []
    },
    {
      "cell_type": "code",
      "source": [
        "y = np.expand_dims(y, axis=0)     # y의 크기는 (1,10) : y에 비어 있는 첫 번째 축을 추가한 것"
      ],
      "metadata": {
        "id": "qgVwVwmU3o3k"
      },
      "execution_count": 187,
      "outputs": []
    },
    {
      "cell_type": "code",
      "source": [
        "Y = np.concatenate([y] * 32, axis=0)   # 축 0을 따라 y를 32번 반복하여 (32,10)인 Y를 얻음."
      ],
      "metadata": {
        "id": "4nWeEBSj3pBC"
      },
      "execution_count": 188,
      "outputs": []
    },
    {
      "cell_type": "code",
      "source": [
        "def naive_add_matrix_and_vector(x, y):\n",
        "    assert len(x.shape) == 2\n",
        "    assert len(y.shape) == 1\n",
        "    assert x.shape[1] == y.shape[0]\n",
        "    x = x.copy()\n",
        "    for i in range(x.shape[0]):\n",
        "        for j in range(x.shape[1]):\n",
        "            x[i, j] += y[j]\n",
        "    return x"
      ],
      "metadata": {
        "id": "r8gcEGQK4iaj"
      },
      "execution_count": 189,
      "outputs": []
    },
    {
      "cell_type": "code",
      "source": [
        "import numpy as np\n",
        "x = np.random.random((64, 3, 32, 10))\n",
        "y = np.random.random((32, 10))\n",
        "z = np.maximum(x, y)             # 출력 z 크기는 x와 동일하게 (64,3,32,10)임."
      ],
      "metadata": {
        "id": "FrXjsqcu3pI6"
      },
      "execution_count": 190,
      "outputs": []
    },
    {
      "cell_type": "markdown",
      "source": [
        "### 2.3.3 텐서 곱셈(np.dot) : 원소 개수가 같은 벡터끼리 점곱 가능"
      ],
      "metadata": {
        "id": "QOCLZb-03pQM"
      }
    },
    {
      "cell_type": "code",
      "source": [
        "x = np.random.random((32,))\n",
        "y = np.random.random((32,))\n",
        "z = np.dot(x, y)"
      ],
      "metadata": {
        "id": "Y1ZvQ_aE3prP"
      },
      "execution_count": 191,
      "outputs": []
    },
    {
      "cell_type": "code",
      "source": [
        "def naive_vector_dot(x, y):\n",
        "    assert len(x.shape) == 1     # x와 y는 넘파이 벡터\n",
        "    assert len(y.shape) == 1\n",
        "    assert x.shape[0] == y.shape[0]\n",
        "    z = 0.\n",
        "    for i in range(x.shape[0]):\n",
        "        z += x[i] * y[i]\n",
        "    return z"
      ],
      "metadata": {
        "id": "zeeYyse04y3o"
      },
      "execution_count": 192,
      "outputs": []
    },
    {
      "cell_type": "code",
      "source": [
        "def naive_matrix_vector_dot(x, y):\n",
        "    assert len(x.shape) == 2     # x는 넘파이 행렬\n",
        "    assert len(y.shape) == 1     # y는 넘파이 벡터\n",
        "    assert x.shape[1] == y.shape[0]    # x의 두번째 차원 = y의 첫 번째 차원\n",
        "    z = np.zeros(x.shape[0])\n",
        "    for i in range(x.shape[0]):\n",
        "        for j in range(x.shape[1]):\n",
        "            z[i] += x[i, j] * y[j]\n",
        "    return z"
      ],
      "metadata": {
        "id": "_j7UyDIB4y6L"
      },
      "execution_count": 193,
      "outputs": []
    },
    {
      "cell_type": "code",
      "source": [
        "def naive_matrix_vector_dot(x, y):\n",
        "    z = np.zeros(x.shape[0])\n",
        "    for i in range(x.shape[0]):\n",
        "        z[i] = naive_vector_dot(x[i, :], y)\n",
        "    return z"
      ],
      "metadata": {
        "id": "vWBqtrCO4y8s"
      },
      "execution_count": 194,
      "outputs": []
    },
    {
      "cell_type": "code",
      "source": [
        "def naive_matrix_dot(x, y):\n",
        "    assert len(x.shape) == 2\n",
        "    assert len(y.shape) == 2\n",
        "    assert x.shape[1] == y.shape[0]\n",
        "    z = np.zeros((x.shape[0], y.shape[1]))\n",
        "    for i in range(x.shape[0]):\n",
        "        for j in range(y.shape[1]):\n",
        "            row_x = x[i, :]\n",
        "            column_y = y[:, j]\n",
        "            z[i, j] = naive_vector_dot(row_x, column_y)\n",
        "    return z"
      ],
      "metadata": {
        "id": "PMbsAE-t4y_I"
      },
      "execution_count": 195,
      "outputs": []
    },
    {
      "cell_type": "markdown",
      "source": [
        "### 2.3.4 텐서 크기 변환"
      ],
      "metadata": {
        "id": "XnNgdbdh4zBy"
      }
    },
    {
      "cell_type": "code",
      "source": [
        "train_images = train_images.reshape((60000, 28 * 28))"
      ],
      "metadata": {
        "id": "BzzkdiMM3ptn"
      },
      "execution_count": 196,
      "outputs": []
    },
    {
      "cell_type": "code",
      "source": [
        "x = np.array([[0., 1.],\n",
        "             [2., 3.],\n",
        "             [4., 5.]])\n",
        "x.shape"
      ],
      "metadata": {
        "id": "JMvy-uL53pvu",
        "colab": {
          "base_uri": "https://localhost:8080/"
        },
        "outputId": "8bec7271-a87f-412e-bc1f-bd6cc104f9bf"
      },
      "execution_count": 197,
      "outputs": [
        {
          "output_type": "execute_result",
          "data": {
            "text/plain": [
              "(3, 2)"
            ]
          },
          "metadata": {},
          "execution_count": 197
        }
      ]
    },
    {
      "cell_type": "code",
      "source": [
        "x = x.reshape((6, 1))\n",
        "x"
      ],
      "metadata": {
        "id": "yRh0vf73486o",
        "colab": {
          "base_uri": "https://localhost:8080/"
        },
        "outputId": "4f7cd24c-a3e5-4907-b5c9-113f92959a9b"
      },
      "execution_count": 198,
      "outputs": [
        {
          "output_type": "execute_result",
          "data": {
            "text/plain": [
              "array([[0.],\n",
              "       [1.],\n",
              "       [2.],\n",
              "       [3.],\n",
              "       [4.],\n",
              "       [5.]])"
            ]
          },
          "metadata": {},
          "execution_count": 198
        }
      ]
    },
    {
      "cell_type": "code",
      "source": [
        "x = x.reshape((2, 3))\n",
        "x"
      ],
      "metadata": {
        "id": "oZuwoHIu489E",
        "colab": {
          "base_uri": "https://localhost:8080/"
        },
        "outputId": "3333fe25-863a-4dbc-8e96-3fc3ac21cb14"
      },
      "execution_count": 199,
      "outputs": [
        {
          "output_type": "execute_result",
          "data": {
            "text/plain": [
              "array([[0., 1., 2.],\n",
              "       [3., 4., 5.]])"
            ]
          },
          "metadata": {},
          "execution_count": 199
        }
      ]
    },
    {
      "cell_type": "code",
      "source": [
        "x = np.zeros((300, 20))\n",
        "x = np.transpose(x)\n",
        "x.shape"
      ],
      "metadata": {
        "id": "73K3WGOJ48_h",
        "colab": {
          "base_uri": "https://localhost:8080/"
        },
        "outputId": "4b8e3b2a-d3dc-4bf4-829c-81ae26e80ea8"
      },
      "execution_count": 200,
      "outputs": [
        {
          "output_type": "execute_result",
          "data": {
            "text/plain": [
              "(20, 300)"
            ]
          },
          "metadata": {},
          "execution_count": 200
        }
      ]
    },
    {
      "cell_type": "markdown",
      "source": [
        "### 2.3.5 텐서 연산의 기하학적 해석"
      ],
      "metadata": {
        "id": "oRONoIHb49Br"
      }
    },
    {
      "cell_type": "markdown",
      "source": [
        "### 2.3.6 딥러닝의 기하학적 해석"
      ],
      "metadata": {
        "id": "bJrFkNF-49Ev"
      }
    },
    {
      "cell_type": "markdown",
      "source": [
        "# 2.4 신경망의 엔진 : 그레이디언트 기반 최적화"
      ],
      "metadata": {
        "id": "N8Z3QWrh5Lsg"
      }
    },
    {
      "cell_type": "markdown",
      "source": [
        "### 2.4.1 도함수란?"
      ],
      "metadata": {
        "id": "_BIs-fe65l0d"
      }
    },
    {
      "cell_type": "markdown",
      "source": [
        "### 2.4.2 텐서 연산의 도함수"
      ],
      "metadata": {
        "id": "4WY6M5Qx5l3W"
      }
    },
    {
      "cell_type": "markdown",
      "source": [
        "### 2.4.3 확률적 경사 하강법"
      ],
      "metadata": {
        "id": "8BMtcxD1YQ9w"
      }
    },
    {
      "cell_type": "markdown",
      "source": [
        "1. 훈련 샘플 배치 x와 이에 상응하는 타깃 y_true를 추출\n",
        "2. x로 모델을 실행하고 예측 y_pred를 구한다 (정방향 패스)\n",
        "3. 이 배치에서 y_pred와 y_true 사이의 오차를 측정하여 모델의 손실 계산\n",
        "4. 모델의 파라미터에 대한 손실 함수의 gradient 계산 (역방향 패스)\n",
        "5. gradient의 반대 방향으로 파라미터를 조금 이동시킨다. 학습률은 경사 하강법 과정의 속도를 조절하는 스칼라의 값이다.\n"
      ],
      "metadata": {
        "id": "s9PIUlQYYhNw"
      }
    },
    {
      "cell_type": "markdown",
      "source": [
        "### 2.4.4 도함수 연결 : 역적파 알고리즘"
      ],
      "metadata": {
        "id": "j0FezBmOZ_f4"
      }
    },
    {
      "cell_type": "markdown",
      "source": [
        "#### 연쇄 법칙\n",
        "*loss_value= loss(y_true, softmax(dot(relu(inputs, W1)+b1), W2 )+ b2)*\n"
      ],
      "metadata": {
        "id": "UsRBBW8uahnA"
      }
    },
    {
      "cell_type": "code",
      "source": [
        "def fg(x):\n",
        "  x1 = g(x)\n",
        "  y = f(x1)\n",
        "  return y\n",
        "\n",
        "\n",
        "  # grad(y,x) == grad(y, x1) * grad(x1, x)"
      ],
      "metadata": {
        "id": "6-LnTD8daJ5B"
      },
      "execution_count": 201,
      "outputs": []
    },
    {
      "cell_type": "code",
      "source": [
        "def fghj(x):\n",
        "  x1=j(x)\n",
        "  x2=h(x1)\n",
        "  x3=g(x2)\n",
        "  y=f(x3)\n",
        "  return y"
      ],
      "metadata": {
        "id": "Ll_9xb_vaKAK"
      },
      "execution_count": 202,
      "outputs": []
    },
    {
      "cell_type": "markdown",
      "source": [
        "*grad(y,x) == (grad(y,x3) * grad(x3,x2) * grad(x2, x1) * grad(x1,x))*"
      ],
      "metadata": {
        "id": "byGzBwRsbtFf"
      }
    },
    {
      "cell_type": "markdown",
      "source": [
        "#### 텐서플로의 그레이디언트 테이프"
      ],
      "metadata": {
        "id": "GRrdWsZg5l5C"
      }
    },
    {
      "cell_type": "code",
      "source": [
        "import tensorflow as tf\n",
        "x = tf.Variable(0.)   #초기값 0으로 스칼라 변수 생성\n",
        "with tf.GradientTape() as tape:   # GradientTape 블록 시작\n",
        "    y = 2 * x + 3  \n",
        "grad_of_y_wrt_x = tape.gradient(y, x)"
      ],
      "metadata": {
        "id": "XVxstzx15l7u"
      },
      "execution_count": 204,
      "outputs": []
    },
    {
      "cell_type": "code",
      "source": [
        "x = tf.Variable(tf.zeros((2, 2)))      # x는 행렬, 크기는 (2,2)고 초기값이 모두 0인 변수 생성\n",
        "with tf.GradientTape() as tape:\n",
        "    y = 2 * x + 3\n",
        "grad_of_y_wrt_x = tape.gradient(y, x)    # x= [[0,0],[0,0]]일 때 y =2*x+3의 곡률을 나타낸다."
      ],
      "metadata": {
        "id": "bT3my5TyCBA-"
      },
      "execution_count": 205,
      "outputs": []
    },
    {
      "cell_type": "code",
      "source": [
        "W = tf.Variable(tf.random.uniform((2, 2)))\n",
        "b = tf.Variable(tf.zeros((2,)))\n",
        "x = tf.random.uniform((2, 2))\n",
        "with tf.GradientTape() as tape:\n",
        "    y = tf.matmul(x, W) + b         # matmul : tensorflow의 점곱 함수\n",
        "grad_of_y_wrt_W_and_b = tape.gradient(y, [W, b])    \n",
        "# grad_of_y_wrt_W_and_b는 2개의 텐서를 담은 리스트. 각 텐서는 W, b와 크기가 같다.\n"
      ],
      "metadata": {
        "id": "_A8_Xf-NCBDU"
      },
      "execution_count": 206,
      "outputs": []
    },
    {
      "cell_type": "markdown",
      "source": [
        "# 첫 번째 예제 다시 살펴보기"
      ],
      "metadata": {
        "id": "CLWx8_aw5mJV"
      }
    },
    {
      "cell_type": "markdown",
      "source": [
        "**데이터 입력 -> 모델 -> 모델 컴파일 -> 훈련 반복** "
      ],
      "metadata": {
        "id": "6MfxTBcJ5mL1"
      }
    },
    {
      "cell_type": "code",
      "source": [
        "(train_images, train_labels), (test_images, test_labels) = mnist.load_data()\n",
        "train_images = train_images.reshape((60000, 28 * 28))\n",
        "train_images = train_images.astype(\"float32\") / 255\n",
        "test_images = test_images.reshape((10000, 28 * 28))\n",
        "test_images = test_images.astype(\"float32\") / 255"
      ],
      "metadata": {
        "id": "JAzN_fUzB40W"
      },
      "execution_count": 207,
      "outputs": []
    },
    {
      "cell_type": "code",
      "source": [
        "model = keras.Sequential([\n",
        "    layers.Dense(512, activation=\"relu\"),\n",
        "    layers.Dense(10, activation=\"softmax\")\n",
        "])"
      ],
      "metadata": {
        "id": "oiD6BlcU5LvH"
      },
      "execution_count": 208,
      "outputs": []
    },
    {
      "cell_type": "code",
      "source": [
        "model.compile(optimizer=\"rmsprop\",\n",
        "              loss=\"sparse_categorical_crossentropy\",\n",
        "              metrics=[\"accuracy\"])"
      ],
      "metadata": {
        "id": "TtcCyNR25Lxf"
      },
      "execution_count": 209,
      "outputs": []
    },
    {
      "cell_type": "code",
      "source": [
        "model.fit(train_images, train_labels, epochs=5, batch_size=128)"
      ],
      "metadata": {
        "id": "URVAFMbcfeW5",
        "outputId": "903ac04c-8b3c-42df-83f3-d44540db0cd9",
        "colab": {
          "base_uri": "https://localhost:8080/"
        }
      },
      "execution_count": 211,
      "outputs": [
        {
          "output_type": "stream",
          "name": "stdout",
          "text": [
            "Epoch 1/5\n",
            "469/469 [==============================] - 7s 12ms/step - loss: 0.2635 - accuracy: 0.9235\n",
            "Epoch 2/5\n",
            "469/469 [==============================] - 5s 11ms/step - loss: 0.1076 - accuracy: 0.9692\n",
            "Epoch 3/5\n",
            "469/469 [==============================] - 6s 14ms/step - loss: 0.0702 - accuracy: 0.9790\n",
            "Epoch 4/5\n",
            "469/469 [==============================] - 8s 17ms/step - loss: 0.0509 - accuracy: 0.9848\n",
            "Epoch 5/5\n",
            "469/469 [==============================] - 6s 12ms/step - loss: 0.0386 - accuracy: 0.9886\n"
          ]
        },
        {
          "output_type": "execute_result",
          "data": {
            "text/plain": [
              "<keras.callbacks.History at 0x7f4425516610>"
            ]
          },
          "metadata": {},
          "execution_count": 211
        }
      ]
    },
    {
      "cell_type": "markdown",
      "source": [
        "### 2.5.1 텐서플로를 사용해 첫 번째 예제를 밑바닥부터 다시 구현하기"
      ],
      "metadata": {
        "id": "Ene2VgaRfeZR"
      }
    },
    {
      "cell_type": "markdown",
      "source": [
        "#### 단순한 Dense 클래스"
      ],
      "metadata": {
        "id": "jDDrFJFyfeb0"
      }
    },
    {
      "cell_type": "code",
      "source": [
        "import tensorflow as tf\n",
        "\n",
        "class NaiveDense:\n",
        "    def __init__(self, input_size, output_size, activation):    #__init__ : 생성자\n",
        "        self.activation = activation\n",
        "\n",
        "        w_shape = (input_size, output_size)\n",
        "        w_initial_value = tf.random.uniform(w_shape, minval=0, maxval=1e-1)\n",
        "        self.W = tf.Variable(w_initial_value)\n",
        "\n",
        "        b_shape = (output_size,)\n",
        "        b_initial_value = tf.zeros(b_shape)\n",
        "        self.b = tf.Variable(b_initial_value)\n",
        "\n",
        "    def __call__(self, inputs):    # 정방향 패스\n",
        "        return self.activation(tf.matmul(inputs, self.W) + self.b)\n",
        "                               \n",
        "    @property\n",
        "    def weights(self):     #층의 가중치를 추출하기 위한 메서드\n",
        "        return [self.W, self.b]"
      ],
      "metadata": {
        "id": "6wW68wa-fyfH"
      },
      "execution_count": 216,
      "outputs": []
    },
    {
      "cell_type": "code",
      "source": [
        "dense1 = NaiveDense(5,3,activation=tf.nn.relu)"
      ],
      "metadata": {
        "id": "cZ67RJr7gIkN"
      },
      "execution_count": 217,
      "outputs": []
    },
    {
      "cell_type": "code",
      "source": [
        "dense1"
      ],
      "metadata": {
        "id": "0nXNJG9ohnob",
        "outputId": "8b5e0642-3051-4238-a92c-1bf35ba8e73f",
        "colab": {
          "base_uri": "https://localhost:8080/"
        }
      },
      "execution_count": 218,
      "outputs": [
        {
          "output_type": "execute_result",
          "data": {
            "text/plain": [
              "<__main__.NaiveDense at 0x7f44351cb1f0>"
            ]
          },
          "metadata": {},
          "execution_count": 218
        }
      ]
    },
    {
      "cell_type": "code",
      "source": [
        "dense1.W"
      ],
      "metadata": {
        "id": "C8qmEp-FgIqz",
        "outputId": "384ef55e-a6da-499c-eb56-120252dc4aef",
        "colab": {
          "base_uri": "https://localhost:8080/"
        }
      },
      "execution_count": 219,
      "outputs": [
        {
          "output_type": "execute_result",
          "data": {
            "text/plain": [
              "<tf.Variable 'Variable:0' shape=(5, 3) dtype=float32, numpy=\n",
              "array([[0.08898715, 0.03278458, 0.05806719],\n",
              "       [0.01473442, 0.06908911, 0.08677109],\n",
              "       [0.08227675, 0.08547156, 0.06008452],\n",
              "       [0.04525738, 0.02679275, 0.07474398],\n",
              "       [0.07655016, 0.0945906 , 0.06095923]], dtype=float32)>"
            ]
          },
          "metadata": {},
          "execution_count": 219
        }
      ]
    },
    {
      "cell_type": "code",
      "source": [
        "dense1.activation"
      ],
      "metadata": {
        "id": "tvOxuTqKh0Qi",
        "outputId": "252c4a68-9233-4cd9-d08c-1ba7887e32d2",
        "colab": {
          "base_uri": "https://localhost:8080/"
        }
      },
      "execution_count": 220,
      "outputs": [
        {
          "output_type": "execute_result",
          "data": {
            "text/plain": [
              "<function tensorflow.python.ops.gen_nn_ops.relu(features, name=None)>"
            ]
          },
          "metadata": {},
          "execution_count": 220
        }
      ]
    },
    {
      "cell_type": "code",
      "source": [
        "dense1.weights"
      ],
      "metadata": {
        "id": "ih9E9XtVh0TF",
        "outputId": "e9a15c9f-a522-4d7c-bdaf-3daefac9695b",
        "colab": {
          "base_uri": "https://localhost:8080/"
        }
      },
      "execution_count": 221,
      "outputs": [
        {
          "output_type": "execute_result",
          "data": {
            "text/plain": [
              "[<tf.Variable 'Variable:0' shape=(5, 3) dtype=float32, numpy=\n",
              " array([[0.08898715, 0.03278458, 0.05806719],\n",
              "        [0.01473442, 0.06908911, 0.08677109],\n",
              "        [0.08227675, 0.08547156, 0.06008452],\n",
              "        [0.04525738, 0.02679275, 0.07474398],\n",
              "        [0.07655016, 0.0945906 , 0.06095923]], dtype=float32)>,\n",
              " <tf.Variable 'Variable:0' shape=(3,) dtype=float32, numpy=array([0., 0., 0.], dtype=float32)>]"
            ]
          },
          "metadata": {},
          "execution_count": 221
        }
      ]
    },
    {
      "cell_type": "code",
      "source": [],
      "metadata": {
        "id": "UIsmjrT7h0Vj"
      },
      "execution_count": null,
      "outputs": []
    },
    {
      "cell_type": "markdown",
      "source": [
        "#### 단순한 Sequential 클래스"
      ],
      "metadata": {
        "id": "H7zRNZKZh0Xy"
      }
    },
    {
      "cell_type": "code",
      "source": [
        "class NaiveSequential:\n",
        "    def __init__(self, layers):\n",
        "        self.layers = layers\n",
        "\n",
        "    def __call__(self, inputs):\n",
        "        x = inputs\n",
        "        for layer in self.layers:\n",
        "           x = layer(x)\n",
        "        return x\n",
        "\n",
        "    @property\n",
        "    def weights(self):\n",
        "       weights = []\n",
        "       for layer in self.layers:\n",
        "           weights += layer.weights\n",
        "       return weights"
      ],
      "metadata": {
        "id": "y03b1dtVh0Z5"
      },
      "execution_count": 222,
      "outputs": []
    },
    {
      "cell_type": "code",
      "source": [
        "model = NaiveSequential([\n",
        "    NaiveDense(input_size=28 * 28, output_size=512, activation=tf.nn.relu),\n",
        "    NaiveDense(input_size=512, output_size=10, activation=tf.nn.softmax)\n",
        "])\n",
        "assert len(model.weights) == 4"
      ],
      "metadata": {
        "id": "uW3s_8eVh-Mt"
      },
      "execution_count": 223,
      "outputs": []
    },
    {
      "cell_type": "code",
      "source": [
        "model.weights"
      ],
      "metadata": {
        "id": "ZgJphrx3h-W6",
        "outputId": "147916f7-790b-4115-a8dd-a6902c9ad784",
        "colab": {
          "base_uri": "https://localhost:8080/"
        }
      },
      "execution_count": 224,
      "outputs": [
        {
          "output_type": "execute_result",
          "data": {
            "text/plain": [
              "[<tf.Variable 'Variable:0' shape=(784, 512) dtype=float32, numpy=\n",
              " array([[0.07355634, 0.07942367, 0.06761213, ..., 0.00889356, 0.03906621,\n",
              "         0.05608571],\n",
              "        [0.05762508, 0.03194259, 0.08041462, ..., 0.05828841, 0.07885515,\n",
              "         0.0609763 ],\n",
              "        [0.00924104, 0.05022935, 0.08597119, ..., 0.05141616, 0.00534644,\n",
              "         0.03727077],\n",
              "        ...,\n",
              "        [0.08058587, 0.01093051, 0.01483176, ..., 0.00283271, 0.01850001,\n",
              "         0.03568648],\n",
              "        [0.00542966, 0.00394416, 0.07306457, ..., 0.05191959, 0.07399215,\n",
              "         0.07011302],\n",
              "        [0.07027487, 0.08507907, 0.01734774, ..., 0.06225945, 0.01459223,\n",
              "         0.0578212 ]], dtype=float32)>,\n",
              " <tf.Variable 'Variable:0' shape=(512,) dtype=float32, numpy=\n",
              " array([0., 0., 0., 0., 0., 0., 0., 0., 0., 0., 0., 0., 0., 0., 0., 0., 0.,\n",
              "        0., 0., 0., 0., 0., 0., 0., 0., 0., 0., 0., 0., 0., 0., 0., 0., 0.,\n",
              "        0., 0., 0., 0., 0., 0., 0., 0., 0., 0., 0., 0., 0., 0., 0., 0., 0.,\n",
              "        0., 0., 0., 0., 0., 0., 0., 0., 0., 0., 0., 0., 0., 0., 0., 0., 0.,\n",
              "        0., 0., 0., 0., 0., 0., 0., 0., 0., 0., 0., 0., 0., 0., 0., 0., 0.,\n",
              "        0., 0., 0., 0., 0., 0., 0., 0., 0., 0., 0., 0., 0., 0., 0., 0., 0.,\n",
              "        0., 0., 0., 0., 0., 0., 0., 0., 0., 0., 0., 0., 0., 0., 0., 0., 0.,\n",
              "        0., 0., 0., 0., 0., 0., 0., 0., 0., 0., 0., 0., 0., 0., 0., 0., 0.,\n",
              "        0., 0., 0., 0., 0., 0., 0., 0., 0., 0., 0., 0., 0., 0., 0., 0., 0.,\n",
              "        0., 0., 0., 0., 0., 0., 0., 0., 0., 0., 0., 0., 0., 0., 0., 0., 0.,\n",
              "        0., 0., 0., 0., 0., 0., 0., 0., 0., 0., 0., 0., 0., 0., 0., 0., 0.,\n",
              "        0., 0., 0., 0., 0., 0., 0., 0., 0., 0., 0., 0., 0., 0., 0., 0., 0.,\n",
              "        0., 0., 0., 0., 0., 0., 0., 0., 0., 0., 0., 0., 0., 0., 0., 0., 0.,\n",
              "        0., 0., 0., 0., 0., 0., 0., 0., 0., 0., 0., 0., 0., 0., 0., 0., 0.,\n",
              "        0., 0., 0., 0., 0., 0., 0., 0., 0., 0., 0., 0., 0., 0., 0., 0., 0.,\n",
              "        0., 0., 0., 0., 0., 0., 0., 0., 0., 0., 0., 0., 0., 0., 0., 0., 0.,\n",
              "        0., 0., 0., 0., 0., 0., 0., 0., 0., 0., 0., 0., 0., 0., 0., 0., 0.,\n",
              "        0., 0., 0., 0., 0., 0., 0., 0., 0., 0., 0., 0., 0., 0., 0., 0., 0.,\n",
              "        0., 0., 0., 0., 0., 0., 0., 0., 0., 0., 0., 0., 0., 0., 0., 0., 0.,\n",
              "        0., 0., 0., 0., 0., 0., 0., 0., 0., 0., 0., 0., 0., 0., 0., 0., 0.,\n",
              "        0., 0., 0., 0., 0., 0., 0., 0., 0., 0., 0., 0., 0., 0., 0., 0., 0.,\n",
              "        0., 0., 0., 0., 0., 0., 0., 0., 0., 0., 0., 0., 0., 0., 0., 0., 0.,\n",
              "        0., 0., 0., 0., 0., 0., 0., 0., 0., 0., 0., 0., 0., 0., 0., 0., 0.,\n",
              "        0., 0., 0., 0., 0., 0., 0., 0., 0., 0., 0., 0., 0., 0., 0., 0., 0.,\n",
              "        0., 0., 0., 0., 0., 0., 0., 0., 0., 0., 0., 0., 0., 0., 0., 0., 0.,\n",
              "        0., 0., 0., 0., 0., 0., 0., 0., 0., 0., 0., 0., 0., 0., 0., 0., 0.,\n",
              "        0., 0., 0., 0., 0., 0., 0., 0., 0., 0., 0., 0., 0., 0., 0., 0., 0.,\n",
              "        0., 0., 0., 0., 0., 0., 0., 0., 0., 0., 0., 0., 0., 0., 0., 0., 0.,\n",
              "        0., 0., 0., 0., 0., 0., 0., 0., 0., 0., 0., 0., 0., 0., 0., 0., 0.,\n",
              "        0., 0., 0., 0., 0., 0., 0., 0., 0., 0., 0., 0., 0., 0., 0., 0., 0.,\n",
              "        0., 0.], dtype=float32)>,\n",
              " <tf.Variable 'Variable:0' shape=(512, 10) dtype=float32, numpy=\n",
              " array([[0.07325102, 0.0013914 , 0.06799376, ..., 0.0313817 , 0.01082138,\n",
              "         0.06359965],\n",
              "        [0.03661815, 0.05674951, 0.01170703, ..., 0.0308095 , 0.06762525,\n",
              "         0.06938425],\n",
              "        [0.01640116, 0.03500153, 0.04649746, ..., 0.0983851 , 0.01722665,\n",
              "         0.0211684 ],\n",
              "        ...,\n",
              "        [0.04112123, 0.05083871, 0.0828732 , ..., 0.0425557 , 0.03185895,\n",
              "         0.05751487],\n",
              "        [0.07131845, 0.0176483 , 0.00050312, ..., 0.01685509, 0.06645876,\n",
              "         0.03598658],\n",
              "        [0.03494433, 0.04695473, 0.09702843, ..., 0.07857441, 0.0404145 ,\n",
              "         0.03960142]], dtype=float32)>,\n",
              " <tf.Variable 'Variable:0' shape=(10,) dtype=float32, numpy=array([0., 0., 0., 0., 0., 0., 0., 0., 0., 0.], dtype=float32)>]"
            ]
          },
          "metadata": {},
          "execution_count": 224
        }
      ]
    },
    {
      "cell_type": "markdown",
      "source": [
        "#### 배치 제너레이터 (p.106) 와 훈련스텝 실행하기 비교해볼 것!!\n"
      ],
      "metadata": {
        "id": "BVV_pLjfiGH-"
      }
    },
    {
      "cell_type": "code",
      "source": [
        "import math\n",
        "\n",
        "class BatchGenerator:\n",
        "    def __init__(self, images, labels, batch_size=128):\n",
        "        assert len(images) == len(labels)\n",
        "        self.index = 0\n",
        "        self.images = images\n",
        "        self.labels = labels\n",
        "        self.batch_size = batch_size\n",
        "        self.num_batches = math.ceil(len(images) / batch_size)   \n",
        "\n",
        "    def next(self):\n",
        "        images = self.images[self.index : self.index + self.batch_size]\n",
        "        labels = self.labels[self.index : self.index + self.batch_size]\n",
        "        self.index += self.batch_size\n",
        "        return images, labels"
      ],
      "metadata": {
        "id": "6KfaVXRJh-hg"
      },
      "execution_count": 225,
      "outputs": []
    },
    {
      "cell_type": "code",
      "source": [
        "generator1 = BatchGenerator(train_images, train_labels)"
      ],
      "metadata": {
        "id": "Wy-odUJ4ilHY"
      },
      "execution_count": 226,
      "outputs": []
    },
    {
      "cell_type": "code",
      "source": [
        "generator1.num_batches"
      ],
      "metadata": {
        "id": "T_CHb1zzilJ1",
        "outputId": "4d905659-d34e-4ffc-f960-921bc95f669b",
        "colab": {
          "base_uri": "https://localhost:8080/"
        }
      },
      "execution_count": 227,
      "outputs": [
        {
          "output_type": "execute_result",
          "data": {
            "text/plain": [
              "469"
            ]
          },
          "metadata": {},
          "execution_count": 227
        }
      ]
    },
    {
      "cell_type": "code",
      "source": [
        "train_labels[:128]"
      ],
      "metadata": {
        "id": "tNsM2W9WilMV",
        "outputId": "48c7389c-20da-4707-d3d9-6104f541a84e",
        "colab": {
          "base_uri": "https://localhost:8080/"
        }
      },
      "execution_count": 228,
      "outputs": [
        {
          "output_type": "execute_result",
          "data": {
            "text/plain": [
              "array([5, 0, 4, 1, 9, 2, 1, 3, 1, 4, 3, 5, 3, 6, 1, 7, 2, 8, 6, 9, 4, 0,\n",
              "       9, 1, 1, 2, 4, 3, 2, 7, 3, 8, 6, 9, 0, 5, 6, 0, 7, 6, 1, 8, 7, 9,\n",
              "       3, 9, 8, 5, 9, 3, 3, 0, 7, 4, 9, 8, 0, 9, 4, 1, 4, 4, 6, 0, 4, 5,\n",
              "       6, 1, 0, 0, 1, 7, 1, 6, 3, 0, 2, 1, 1, 7, 9, 0, 2, 6, 7, 8, 3, 9,\n",
              "       0, 4, 6, 7, 4, 6, 8, 0, 7, 8, 3, 1, 5, 7, 1, 7, 1, 1, 6, 3, 0, 2,\n",
              "       9, 3, 1, 1, 0, 4, 9, 2, 0, 0, 2, 0, 2, 7, 1, 8, 6, 4], dtype=uint8)"
            ]
          },
          "metadata": {},
          "execution_count": 228
        }
      ]
    },
    {
      "cell_type": "code",
      "source": [
        "generator1.next()"
      ],
      "metadata": {
        "id": "O7tqvo9-ilOr",
        "outputId": "17996469-90eb-4fb1-852c-a6d091652cc7",
        "colab": {
          "base_uri": "https://localhost:8080/"
        }
      },
      "execution_count": 229,
      "outputs": [
        {
          "output_type": "execute_result",
          "data": {
            "text/plain": [
              "(array([[0., 0., 0., ..., 0., 0., 0.],\n",
              "        [0., 0., 0., ..., 0., 0., 0.],\n",
              "        [0., 0., 0., ..., 0., 0., 0.],\n",
              "        ...,\n",
              "        [0., 0., 0., ..., 0., 0., 0.],\n",
              "        [0., 0., 0., ..., 0., 0., 0.],\n",
              "        [0., 0., 0., ..., 0., 0., 0.]], dtype=float32),\n",
              " array([5, 0, 4, 1, 9, 2, 1, 3, 1, 4, 3, 5, 3, 6, 1, 7, 2, 8, 6, 9, 4, 0,\n",
              "        9, 1, 1, 2, 4, 3, 2, 7, 3, 8, 6, 9, 0, 5, 6, 0, 7, 6, 1, 8, 7, 9,\n",
              "        3, 9, 8, 5, 9, 3, 3, 0, 7, 4, 9, 8, 0, 9, 4, 1, 4, 4, 6, 0, 4, 5,\n",
              "        6, 1, 0, 0, 1, 7, 1, 6, 3, 0, 2, 1, 1, 7, 9, 0, 2, 6, 7, 8, 3, 9,\n",
              "        0, 4, 6, 7, 4, 6, 8, 0, 7, 8, 3, 1, 5, 7, 1, 7, 1, 1, 6, 3, 0, 2,\n",
              "        9, 3, 1, 1, 0, 4, 9, 2, 0, 0, 2, 0, 2, 7, 1, 8, 6, 4], dtype=uint8))"
            ]
          },
          "metadata": {},
          "execution_count": 229
        }
      ]
    },
    {
      "cell_type": "code",
      "source": [
        "train_labels[128:(128+128)]"
      ],
      "metadata": {
        "id": "QGQcxwZbilRR",
        "outputId": "a8af70c6-2a21-4329-aaa9-c9b8a2452b6e",
        "colab": {
          "base_uri": "https://localhost:8080/"
        }
      },
      "execution_count": 230,
      "outputs": [
        {
          "output_type": "execute_result",
          "data": {
            "text/plain": [
              "array([1, 6, 3, 4, 5, 9, 1, 3, 3, 8, 5, 4, 7, 7, 4, 2, 8, 5, 8, 6, 7, 3,\n",
              "       4, 6, 1, 9, 9, 6, 0, 3, 7, 2, 8, 2, 9, 4, 4, 6, 4, 9, 7, 0, 9, 2,\n",
              "       9, 5, 1, 5, 9, 1, 2, 3, 2, 3, 5, 9, 1, 7, 6, 2, 8, 2, 2, 5, 0, 7,\n",
              "       4, 9, 7, 8, 3, 2, 1, 1, 8, 3, 6, 1, 0, 3, 1, 0, 0, 1, 7, 2, 7, 3,\n",
              "       0, 4, 6, 5, 2, 6, 4, 7, 1, 8, 9, 9, 3, 0, 7, 1, 0, 2, 0, 3, 5, 4,\n",
              "       6, 5, 8, 6, 3, 7, 5, 8, 0, 9, 1, 0, 3, 1, 2, 2, 3, 3], dtype=uint8)"
            ]
          },
          "metadata": {},
          "execution_count": 230
        }
      ]
    },
    {
      "cell_type": "code",
      "source": [
        "generator1.next()"
      ],
      "metadata": {
        "id": "Ri_nxnnailTn",
        "outputId": "4797ca41-f501-4d27-ab5f-8e7e9ae13d5a",
        "colab": {
          "base_uri": "https://localhost:8080/"
        }
      },
      "execution_count": 231,
      "outputs": [
        {
          "output_type": "execute_result",
          "data": {
            "text/plain": [
              "(array([[0., 0., 0., ..., 0., 0., 0.],\n",
              "        [0., 0., 0., ..., 0., 0., 0.],\n",
              "        [0., 0., 0., ..., 0., 0., 0.],\n",
              "        ...,\n",
              "        [0., 0., 0., ..., 0., 0., 0.],\n",
              "        [0., 0., 0., ..., 0., 0., 0.],\n",
              "        [0., 0., 0., ..., 0., 0., 0.]], dtype=float32),\n",
              " array([1, 6, 3, 4, 5, 9, 1, 3, 3, 8, 5, 4, 7, 7, 4, 2, 8, 5, 8, 6, 7, 3,\n",
              "        4, 6, 1, 9, 9, 6, 0, 3, 7, 2, 8, 2, 9, 4, 4, 6, 4, 9, 7, 0, 9, 2,\n",
              "        9, 5, 1, 5, 9, 1, 2, 3, 2, 3, 5, 9, 1, 7, 6, 2, 8, 2, 2, 5, 0, 7,\n",
              "        4, 9, 7, 8, 3, 2, 1, 1, 8, 3, 6, 1, 0, 3, 1, 0, 0, 1, 7, 2, 7, 3,\n",
              "        0, 4, 6, 5, 2, 6, 4, 7, 1, 8, 9, 9, 3, 0, 7, 1, 0, 2, 0, 3, 5, 4,\n",
              "        6, 5, 8, 6, 3, 7, 5, 8, 0, 9, 1, 0, 3, 1, 2, 2, 3, 3], dtype=uint8))"
            ]
          },
          "metadata": {},
          "execution_count": 231
        }
      ]
    },
    {
      "cell_type": "code",
      "source": [
        "generator1.index"
      ],
      "metadata": {
        "id": "ia7KYaSzilV6",
        "outputId": "8fe751dc-750f-4652-cac1-c16addee2338",
        "colab": {
          "base_uri": "https://localhost:8080/"
        }
      },
      "execution_count": 232,
      "outputs": [
        {
          "output_type": "execute_result",
          "data": {
            "text/plain": [
              "256"
            ]
          },
          "metadata": {},
          "execution_count": 232
        }
      ]
    },
    {
      "cell_type": "markdown",
      "source": [
        "### 2.5.2 훈련 스텝 실행하기\n",
        "\n",
        "1. 배치에 있는 이미지에 대해 모델의 예측 계산\n",
        "2. 실제 레이블 사용하여 이 예측의 손실 값 계산 \n",
        "3. 모델 가중치에 대한 손실의 gradient를 계산\n",
        "4. 이 gradient의 반대 방향으로 가중치를 조금 이동\n"
      ],
      "metadata": {
        "id": "zK86g0emjQdm"
      }
    },
    {
      "cell_type": "code",
      "source": [
        "def one_training_step(model, images_batch, labels_batch):\n",
        "    with tf.GradientTape() as tape:\n",
        "        predictions = model(images_batch)\n",
        "        per_sample_losses = tf.keras.losses.sparse_categorical_crossentropy(\n",
        "            labels_batch, predictions)\n",
        "        average_loss = tf.reduce_mean(per_sample_losses)\n",
        "    gradients = tape.gradient(average_loss, model.weights)\n",
        "    update_weights(gradients, model.weights)\n",
        "    return average_loss"
      ],
      "metadata": {
        "id": "qHF9HbK9ilYI"
      },
      "execution_count": 233,
      "outputs": []
    },
    {
      "cell_type": "code",
      "source": [
        "learning_rate = 1e-3\n",
        "\n",
        "def update_weights(gradients, weights):\n",
        "    for g, w in zip(gradients, weights):\n",
        "        w.assign_sub(g * learning_rate)    # tensorflow 변수의 assing_sub 메서드는 -=와 동일"
      ],
      "metadata": {
        "id": "lyzaV9uUjn3T"
      },
      "execution_count": 234,
      "outputs": []
    },
    {
      "cell_type": "code",
      "source": [
        "from tensorflow.keras import optimizers\n",
        "\n",
        "optimizer = optimizers.SGD(learning_rate=1e-3)    # SGD = stochastic gradient\n",
        "\n",
        "def update_weights(gradients, weights):\n",
        "    optimizer.apply_gradients(zip(gradients, weights))"
      ],
      "metadata": {
        "id": "3X5DBEagjn-p"
      },
      "execution_count": 235,
      "outputs": []
    },
    {
      "cell_type": "markdown",
      "source": [
        "### 2.5.3 전체 훈련 루프 (= 에포크의 반복)"
      ],
      "metadata": {
        "id": "bpHb1pYIjq99"
      }
    },
    {
      "cell_type": "code",
      "source": [
        "def fit(model, images, labels, epochs, batch_size=128):\n",
        "    for epoch_counter in range(epochs):\n",
        "        print(f\"에포크 {epoch_counter}\")\n",
        "        batch_generator = BatchGenerator(images, labels)\n",
        "        for batch_counter in range(batch_generator.num_batches):\n",
        "            images_batch, labels_batch = batch_generator.next()\n",
        "            loss = one_training_step(model, images_batch, labels_batch)\n",
        "            if batch_counter % 100 == 0:\n",
        "                print(f\"{batch_counter}번째 배치 손실: {loss:.2f}\")"
      ],
      "metadata": {
        "id": "F-yTPH4wjoGt"
      },
      "execution_count": 236,
      "outputs": []
    },
    {
      "cell_type": "code",
      "source": [
        "from tensorflow.keras.datasets import mnist\n",
        "(train_images, train_labels), (test_images, test_labels) = mnist.load_data()\n",
        "\n",
        "train_images = train_images.reshape((60000, 28 * 28))\n",
        "train_images = train_images.astype(\"float32\") / 255\n",
        "test_images = test_images.reshape((10000, 28 * 28))\n",
        "test_images = test_images.astype(\"float32\") / 255\n",
        "\n",
        "fit(model, train_images, train_labels, epochs=10, batch_size=128)"
      ],
      "metadata": {
        "id": "w2zk038TjoOy",
        "outputId": "bc14053d-d548-4bc0-a090-6546e2c3ae83",
        "colab": {
          "base_uri": "https://localhost:8080/"
        }
      },
      "execution_count": 237,
      "outputs": [
        {
          "output_type": "stream",
          "name": "stdout",
          "text": [
            "에포크 0\n",
            "0번째 배치 손실: 6.38\n",
            "100번째 배치 손실: 2.28\n",
            "200번째 배치 손실: 2.24\n",
            "300번째 배치 손실: 2.16\n",
            "400번째 배치 손실: 2.29\n",
            "에포크 1\n",
            "0번째 배치 손실: 1.93\n",
            "100번째 배치 손실: 1.92\n",
            "200번째 배치 손실: 1.86\n",
            "300번째 배치 손실: 1.78\n",
            "400번째 배치 손실: 1.89\n",
            "에포크 2\n",
            "0번째 배치 손실: 1.60\n",
            "100번째 배치 손실: 1.61\n",
            "200번째 배치 손실: 1.53\n",
            "300번째 배치 손실: 1.46\n",
            "400번째 배치 손실: 1.57\n",
            "에포크 3\n",
            "0번째 배치 손실: 1.34\n",
            "100번째 배치 손실: 1.37\n",
            "200번째 배치 손실: 1.27\n",
            "300번째 배치 손실: 1.24\n",
            "400번째 배치 손실: 1.33\n",
            "에포크 4\n",
            "0번째 배치 손실: 1.13\n",
            "100번째 배치 손실: 1.18\n",
            "200번째 배치 손실: 1.06\n",
            "300번째 배치 손실: 1.08\n",
            "400번째 배치 손실: 1.15\n",
            "에포크 5\n",
            "0번째 배치 손실: 0.99\n",
            "100번째 배치 손실: 1.04\n",
            "200번째 배치 손실: 0.92\n",
            "300번째 배치 손실: 0.95\n",
            "400번째 배치 손실: 1.02\n",
            "에포크 6\n",
            "0번째 배치 손실: 0.88\n",
            "100번째 배치 손실: 0.93\n",
            "200번째 배치 손실: 0.81\n",
            "300번째 배치 손실: 0.86\n",
            "400번째 배치 손실: 0.93\n",
            "에포크 7\n",
            "0번째 배치 손실: 0.79\n",
            "100번째 배치 손실: 0.85\n",
            "200번째 배치 손실: 0.73\n",
            "300번째 배치 손실: 0.78\n",
            "400번째 배치 손실: 0.86\n",
            "에포크 8\n",
            "0번째 배치 손실: 0.73\n",
            "100번째 배치 손실: 0.78\n",
            "200번째 배치 손실: 0.67\n",
            "300번째 배치 손실: 0.73\n",
            "400번째 배치 손실: 0.80\n",
            "에포크 9\n",
            "0번째 배치 손실: 0.68\n",
            "100번째 배치 손실: 0.72\n",
            "200번째 배치 손실: 0.62\n",
            "300번째 배치 손실: 0.68\n",
            "400번째 배치 손실: 0.76\n"
          ]
        }
      ]
    },
    {
      "cell_type": "markdown",
      "source": [
        "### 2.5.4 모델 평가하기"
      ],
      "metadata": {
        "id": "OwK4kOhUnxdt"
      }
    },
    {
      "cell_type": "code",
      "source": [
        "import numpy as np"
      ],
      "metadata": {
        "id": "EslgeRw9nwZ_"
      },
      "execution_count": 238,
      "outputs": []
    },
    {
      "cell_type": "code",
      "source": [
        "predictions = model(test_images)\n",
        "predictions = predictions.numpy()\n",
        "predicted_labels = np.argmax(predictions, axis=1)\n",
        "matches = predicted_labels == test_labels\n",
        "print(f\"정확도: {matches.mean():.2f}\")"
      ],
      "metadata": {
        "id": "dv0hNvqen9_A",
        "outputId": "918e93ef-2d0c-41fc-933b-5392e662f0ce",
        "colab": {
          "base_uri": "https://localhost:8080/"
        }
      },
      "execution_count": 239,
      "outputs": [
        {
          "output_type": "stream",
          "name": "stdout",
          "text": [
            "정확도: 0.82\n"
          ]
        }
      ]
    }
  ]
}