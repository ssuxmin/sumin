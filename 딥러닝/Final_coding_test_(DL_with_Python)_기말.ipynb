{
  "nbformat": 4,
  "nbformat_minor": 0,
  "metadata": {
    "accelerator": "GPU",
    "colab": {
      "provenance": [],
      "include_colab_link": true
    },
    "kernelspec": {
      "display_name": "Python 3",
      "language": "python",
      "name": "python3"
    },
    "language_info": {
      "codemirror_mode": {
        "name": "ipython",
        "version": 3
      },
      "file_extension": ".py",
      "mimetype": "text/x-python",
      "name": "python",
      "nbconvert_exporter": "python",
      "pygments_lexer": "ipython3",
      "version": "3.6.8"
    }
  },
  "cells": [
    {
      "cell_type": "markdown",
      "metadata": {
        "id": "view-in-github",
        "colab_type": "text"
      },
      "source": [
        "<a href=\"https://colab.research.google.com/github/ssuxmin/tmp/blob/main/%EB%94%A5%EB%9F%AC%EB%8B%9D/Final_coding_test_(DL_with_Python)_%EA%B8%B0%EB%A7%90.ipynb\" target=\"_parent\"><img src=\"https://colab.research.google.com/assets/colab-badge.svg\" alt=\"Open In Colab\"/></a>"
      ]
    },
    {
      "cell_type": "markdown",
      "metadata": {
        "id": "ZPi3ACwumNQV"
      },
      "source": [
        "# final-term coding test on Deep Learning with Python\n",
        "\n",
        "- Name:  \n",
        "- ID Number: \n",
        "\n",
        "------------------------------------------\n",
        "\n",
        "1. 이 노트북을 보인 구글 드라이브에 저장해주세요. \n",
        "2. 'Runtime' 탭을 클릭 후, 'Change runtime type' 에서 'Hardware accelerator' 를 'GPU'로 설정해주세요.  \n",
        "3. 문제를 풀어주세요. 굿럭! :) \n"
      ]
    },
    {
      "cell_type": "code",
      "metadata": {
        "colab": {
          "base_uri": "https://localhost:8080/",
          "height": 36
        },
        "id": "-6p6VRmTmAPZ",
        "outputId": "8129e162-ddcd-4616-dba9-69d5639162c7"
      },
      "source": [
        "import tensorflow \n",
        "tensorflow.keras.__version__"
      ],
      "execution_count": 1,
      "outputs": [
        {
          "output_type": "execute_result",
          "data": {
            "text/plain": [
              "'2.12.0'"
            ],
            "application/vnd.google.colaboratory.intrinsic+json": {
              "type": "string"
            }
          },
          "metadata": {},
          "execution_count": 1
        }
      ]
    },
    {
      "cell_type": "markdown",
      "source": [
        "## Q1 Use dog-cat data"
      ],
      "metadata": {
        "id": "cxKO4yRd48OQ"
      }
    },
    {
      "cell_type": "code",
      "source": [
        "from tensorflow import keras\n",
        "import os\n",
        "import numpy as np\n",
        "from tensorflow.keras.preprocessing.image import ImageDataGenerator\n",
        "\n",
        "_URL = 'https://storage.googleapis.com/mledu-datasets/cats_and_dogs_filtered.zip'\n",
        "\n",
        "path_to_zip = tensorflow.keras.utils.get_file('cats_and_dogs.zip', origin=_URL, extract=True)\n",
        "\n",
        "PATH = os.path.join(os.path.dirname(path_to_zip), 'cats_and_dogs_filtered')"
      ],
      "metadata": {
        "id": "dXJ-8qWVxFlH",
        "colab": {
          "base_uri": "https://localhost:8080/"
        },
        "outputId": "0e01734c-5b92-4c58-bc88-ada56383d180"
      },
      "execution_count": 2,
      "outputs": [
        {
          "output_type": "stream",
          "name": "stdout",
          "text": [
            "Downloading data from https://storage.googleapis.com/mledu-datasets/cats_and_dogs_filtered.zip\n",
            "68606236/68606236 [==============================] - 2s 0us/step\n"
          ]
        }
      ]
    },
    {
      "cell_type": "code",
      "source": [
        "train_dir = os.path.join(PATH, 'train')\n",
        "validation_dir = os.path.join(PATH, 'validation')\n",
        "\n",
        "train_cats_dir = os.path.join(train_dir, 'cats')  # directory with our training cat pictures\n",
        "train_dogs_dir = os.path.join(train_dir, 'dogs')  # directory with our training dog pictures\n",
        "validation_cats_dir = os.path.join(validation_dir, 'cats')  # directory with our validation cat pictures\n",
        "validation_dogs_dir = os.path.join(validation_dir, 'dogs')  # directory with our validation dog pictures\n",
        "\n",
        "num_cats_tr = len(os.listdir(train_cats_dir))\n",
        "num_dogs_tr = len(os.listdir(train_dogs_dir))\n",
        "\n",
        "num_cats_val = len(os.listdir(validation_cats_dir))\n",
        "num_dogs_val = len(os.listdir(validation_dogs_dir))\n",
        "\n",
        "total_train = num_cats_tr + num_dogs_tr\n",
        "total_val = num_cats_val + num_dogs_val"
      ],
      "metadata": {
        "id": "Pyca2OjE4fvU"
      },
      "execution_count": 3,
      "outputs": []
    },
    {
      "cell_type": "code",
      "source": [
        "import os\n",
        "os.listdir(PATH)"
      ],
      "metadata": {
        "colab": {
          "base_uri": "https://localhost:8080/"
        },
        "id": "GGA7nWDL8Irf",
        "outputId": "52188e64-16f9-482a-c7e9-fa6e5fd9f905"
      },
      "execution_count": 4,
      "outputs": [
        {
          "output_type": "execute_result",
          "data": {
            "text/plain": [
              "['validation', 'vectorize.py', 'train']"
            ]
          },
          "metadata": {},
          "execution_count": 4
        }
      ]
    },
    {
      "cell_type": "markdown",
      "source": [
        "(Q1-1) 데이터를 살펴보세요. Train, Validation 데이터에 각각 몇개씩 샘플이 있습니까? "
      ],
      "metadata": {
        "id": "-6KB6TH05FoB"
      }
    },
    {
      "cell_type": "code",
      "source": [
        "print(\"Number of cat samples in training set:\", num_cats_tr)\n",
        "print(\"Number of dog samples in training set:\", num_dogs_tr)\n",
        "print(\"Number of cat samples in validation set:\", num_cats_val)\n",
        "print(\"Number of dog samples in validation set:\", num_dogs_val)\n",
        "print(\"Total number of samples in training set:\", total_train)\n",
        "print(\"Total number of samples in validation set:\", total_val)"
      ],
      "metadata": {
        "id": "F8a9uQrV5ARk",
        "colab": {
          "base_uri": "https://localhost:8080/"
        },
        "outputId": "ffc5b072-450c-489c-9bbb-ac92640c732d"
      },
      "execution_count": 6,
      "outputs": [
        {
          "output_type": "stream",
          "name": "stdout",
          "text": [
            "Number of cat samples in training set: 1000\n",
            "Number of dog samples in training set: 1000\n",
            "Number of cat samples in validation set: 500\n",
            "Number of dog samples in validation set: 500\n",
            "Total number of samples in training set: 2000\n",
            "Total number of samples in validation set: 1000\n"
          ]
        }
      ]
    },
    {
      "cell_type": "code",
      "source": [],
      "metadata": {
        "id": "9NYauR_M84_K"
      },
      "execution_count": null,
      "outputs": []
    },
    {
      "cell_type": "markdown",
      "source": [
        "(Q1-2) 아래 데이터 파이프라인을 완성하세요.\n",
        "- Train data 는 PATH 디렉토리 안의 train 디렉토리로부터 가져오세요.\n",
        "- Vailidation data는 PATH 디렉토리 안의 Vailidation 디렉토리로부터 가져오세요.\n",
        "- 그림 크기는 (150,150)으로 읽어오세요. \n",
        "- batch size 는 64로 설정하세요"
      ],
      "metadata": {
        "id": "Z-Fqm1eV9ViS"
      }
    },
    {
      "cell_type": "code",
      "source": [
        "import os, shutil, pathlib\n",
        "from tensorflow.keras.utils import image_dataset_from_directory\n",
        "basedir = pathlib.Path(\"PATH\")\n",
        "\n",
        "train_dataset = image_dataset_from_directory(\n",
        "train_dir,  # Train 데이터 디렉토리 경로\n",
        "    shuffle=True,\n",
        "    batch_size=64,\n",
        "    image_size=(150,150)\n",
        ")\n",
        "validation_dataset = image_dataset_from_directory(\n",
        "    validation_dir,  # Validation 데이터 디렉토리 경로\n",
        "    shuffle=False,\n",
        "    batch_size=64,\n",
        "    image_size=(150,150)\n",
        ")\n"
      ],
      "metadata": {
        "colab": {
          "base_uri": "https://localhost:8080/"
        },
        "id": "zsbOdins8prf",
        "outputId": "c801aa34-c569-4ace-8f2d-a0db6d1943e6"
      },
      "execution_count": 8,
      "outputs": [
        {
          "output_type": "stream",
          "name": "stdout",
          "text": [
            "Found 2000 files belonging to 2 classes.\n",
            "Found 1000 files belonging to 2 classes.\n"
          ]
        }
      ]
    },
    {
      "cell_type": "code",
      "source": [
        "for data_batch, labels_batch in train_dataset:\n",
        "    print(\"data batch shape:\", data_batch.shape)\n",
        "    print(\"labels batch shape:\", labels_batch.shape)\n",
        "    break"
      ],
      "metadata": {
        "colab": {
          "base_uri": "https://localhost:8080/"
        },
        "id": "I40VUl4H-Z1A",
        "outputId": "5965c0c0-8582-4ad4-8c78-bfbfcb93cbb2"
      },
      "execution_count": 9,
      "outputs": [
        {
          "output_type": "stream",
          "name": "stdout",
          "text": [
            "data batch shape: (64, 150, 150, 3)\n",
            "labels batch shape: (64,)\n"
          ]
        }
      ]
    },
    {
      "cell_type": "markdown",
      "metadata": {
        "id": "APqepHCVmnbd"
      },
      "source": [
        "(Q1-3) 아래와 같이 모형을 만들어보세요.\n",
        "- 네개의 Conv2D block 을 사용하고, 각각의 필터 갯수는 15, 30, 60, 100 개로 설정. \n",
        "- 각각 strides 는 1 zero padding은 적용하지 않음\n",
        "- MaxPooling2D의 filter는 (2,2)로 설정, stride 는 2\n",
        "- output layer의 차원은 1 또는 2로 편하게 설정..  (1 로 하든, 2로하든 뒤에 loss를 잘 정의하여 모형이 잘 학습되도록 할 것!)\n",
        "\n",
        "![image.png](data:image/png;base64,iVBORw0KGgoAAAANSUhEUgAAA8AAAAN8CAMAAACgADOnAAAAAXNSR0IArs4c6QAAAARnQU1BAACxjwv8YQUAAADtUExURQAAAAAAAGBgYAAAAGBgYAAAAFVVVQAAAFhYWAAAAFlZWQAAAFpaWgAAAFdXVwAAAFhYWAAAAFlZWQAAAFlZWQAAAFpaWgAAAFhYWAAAAFhYWAAAAFlZWQAAAFlZWQAAAFpaWgAAAFlZWQAAAFlZWQAAAFpaWgAAAFpaWgAAAFlZWQAAAFlZWQAAAFlZWQAAAFlZWQAAAAAAAFpaWgAAAFlZWQAAAFlZWQAAAFlZWQAAAFlZWQAAAFlZWQAAAFlZWQAAAAMDAwgICAsLCxERERwcHCcnJywsLDIyMj09PUhISE5OTlFRUVZWVllZWdPSnbIAAABAdFJOUwAICBAQGBggICgoMDA4OEBASEhQUFhYYGBoaHBweHiAgIeHj4+Xl5+fp6evr7e3v7/Ax8fPz9fX39/n5+/v9/eyiYRyAAAACXBIWXMAABcRAAAXEQHKJvM/AAB5uklEQVR4Xu29DVsbOdL3a2MMYQgxhBBCgOkQQhhCiHkI4dUxvbvn3Lvn2Xv8/T/OqSqV1OoXg4XVRi3X77pmWlJsd6Oqf5feutXKs/Tx04/z65Hwgtyfn3/+8w82iCBMzOLeT/Yh4cW5/vKKzSIIk7Cw95t9RwiDL4tsGkF4kvVbdhshGH5/ZOMIwhPssc8IQfFtge0jCI+w+I0dRgiMX9ITFp7mO7vLaHT79f36OpcKL8Kb9beff7E5RqNricHCU/zJzjI6f8Mlwgvz6i82yeg7lwjCGN6yq9y/4wIhAF7r6fhPXCAIlSzcK0f5ucQFQhAs6o7Nay4QhCp4APqndLZCg4cWpREtPMLSA3nJvcTf4FjgsSwJwcJ4Piknkf5vgLxSN9dvnBWEMuouL820IPlCxnmQ3o0wjlfkItJKCxPu37zlrCAUUXPA15wTAkONY/3FOUEoohYMfOacEBjvyTw/OScIRX6Qh8gQVqCoHs4t5wShiBrDkiWUoULmeeCMIBRRy7DkmZdQUaNYnBGEIuQf4iDBIvYRHkUcJGzEPsKjiIOEjdhHeBRxkLAR+wiPIg4SNmIf4VHEQcJG7CM8ijhI2Ih9hEcRBwkbsY/wKOIgYSP2ER5FHCRsxD7Co4iDhI3YR3gUcZCwEfsIjyIOEjZiH+FRxEHCRuwjPIo4SNiIfYRHEQcJG7GP8CjiIGEj9hEeRRwkbMQ+wqOIg4SN2Ed4FHGQsBH7CI/SGAdZ6/XanJwnGmMf4WVojIPcpOkyJ+eJxthHeBka4yC+BdzlY+A0xj7Cy9AYB/Eq4M7hzTEnA6cx9hFehsY4iFcB99JUBCzEQGMcRAQsCGUa4yAiYEEo0xgHEQELQpnGOIgR8HKSbLZanZ3+1c1ZYjStSltbp/1h/2BblQHbSfaR1qbKwOE4TS8ToKf+IWAaYx/hZWiMgxgBU/TcHKTEAFVrSleuVGl6oSeJ+mmaiRRkixk4aBL1DwHTGPsIL0NjHCQn4K00vTo56A9Bg6tUSKUroOr+4QmqeLCmikXAQtw0xkFsAfcHQ2olr96l6SkVYunpTXrcoTQI+ZJKKwUMULxuBI2xj/AyNMZBbAGnQw6wq5BWIRhL0x1KtlorEJq3KCUCFuKmMQ6SE/AhpQAQ6C4lsLRPKSRJ0ztKiICFuGmMg+QEbJ5L2tdixlIOy0AbGtE0jiUCFuKmMQ5iC1hFV2RLd4KhdEgJxQXLWQQsxE1jHMQW8BklEMiohjMkeNyKOOFOsAhYiJvGOIgt4Ex8toBPKKGATvA+HkXAQtw0xkGeFrAtSdAqTTSJgIW4aYyDuAkYhDu/fWBofggV3HD9RMVzHORFeFrAF5RQwKdpFFr3hYlMzSLgeUQE/JI8LeABJYhlnTvgvjBxNxcCTpL/ww4r5BkkSfhrZ11xd5AX4mkB62XRwKGeXdpJ0yNKALhsKxOwPeQVMO72IV8VxsCVFA/uDvJCTCDgS72+oztMh+rDG2k61E8mncFHWMAr+mvB424f8lNhDFxJ8eDuIC/EBAJOT+hZhtYKfJYXW7ah2XysdA1R2Qi4bek6bNztg39mfH7qgTgrxt1BXoinBXx6k97t9rqbB4M0vdHy3AWjXWyurG5fpFcnRsCtSyjdWN7WTxOHi7t94vRTD8RZMe4O8kI8LeDjVX7KH/SrPgq0seFM3K1k00itTVUW4/PA9IdxWrCIs2LcHeSFmEDArWWl1rsj1ZRW7OBj/9C87lrzwK3WNok9G6EOFXf70F/LacEizopxd5AwYVkv95KerV5iZQNa1pw2tHs7myucDhh3+8Tppx6Is2LcHSRMcnE5ItztE6efeiDOinF3kDARAWvi9FMPxFkx7g4SJiJgTZx+6oE4K8bdQcJEBKyJ0089EGfFuDtImIiANXH6qQfirBh3BwkTEbAmTj/1QJwV4+4gYSIC1sTppx6Is2LcHSRMRMCaOP3UA3FWjLuDCLPE3T5x+qkH4qwYdwcRZom7feL0Uw/EWTHuDiLMEnf7xOmnHoizYtwdRJgl7vaJ0089EGfFuDuIMEvc7ROnn3ogzopxdxBhlrjbJ04/9UCcFePuIMIscbdPnH7qgTgrxt1BhFnibp84/dQDcVaMu4MIs8TdPnH6qQfirJgHcpAlzgmh8Zvsw5mJiNNPPRBnxdySg7zmnBAaZB4RsA/irJhzcpB1zgmBsUTmuefcRMTppx6Is2K+kYfscU4IjDdknmvOTUScfjodp1QpGnsn+MbzhTzknHNCYHwm8/zg3ESQj3JaUOC2WBnhv87fgXXykIdFzgphoYYoPnJuIshHOS0wdgiOKgC3WvfkIp85JwTFOzLO6BVnJ4KclNMCY4fgqAJwq/UXuciDTCQFyMI1GecnZyeDnJTTgiYLwZEF4NZr8pHR+QLnhXBQPWDHIUbyUk4LmiwERxaAW63vyku+clYIhg/KMr84OyHkpZwWDDoExxaAW61XajHW6AvnhUD4wIZ5x/kJITfltGDQITi6AGwaaqMfMhQdEtosbj1gEfA4VAiOLwADajXWaPR7TzrCofBOjV+NRreuw4vkp5wWMlQIjjAAt1qLarYRuP8qiyoD4I9PWr6jB+dl6uSnnBYsMARHGYBbrddqMpjJZYRZY+6myMNbNtHk1CLgpY+ffpybu0oz+b9QL/8fpxvJ/fn55z//YIvkWfrJnxGC4vYZj4n5F/DiXhzu8f+m/w+nmsz1l6p1PQtqPYcQFD+fs7zGt4AX9tQzyc3n/zY7AGd8qRpuXtdDWQ3n3winm83tezaNG54FvJ5r0jebOPwC+F25Ov5dFBIm/+V0k7l+7iOeVAGcnp49vhwhLL5VThgtffje8IGKOAR8f75XPVYxCVQBnJ6WRfW4uBAev5yecGkQPv23kfisAF5mC9x+fb8uU4wvy5v1t59/sT2giRbpog2f/ttIPFbAn+wro/M3XCK8NK/McPN3LokMj/7bTPxVwFv2lHvH1dhCrbzW3dxPXBAX/vy3oXirgAVe0fOsySyhPhZ1zybKl8l689+m4q0CeAD6pyyQDw4eW4yyEe3Nf5uKrwpYUk8z3kv8DY8FHsuKMQT78t/G4qsCPikfkf5viPBD/N84GxO+/Lex+KoAdZOPdKiz8ajXQT9E2L3x5b+NxVMFvCIPkU13AoU7OO4PqwWPJ/9tLp4qQM0BO+0JIcwQNY71F+ciwpP/NhdPFaDWC8j7wkPlPdnH9X1LDcCT/zYXTxXwgxxEhrBCRXVxbjkXEZ78t7l4qgA1hiVLKIOF7PPAmYjw5L/NxVMFqGVYsT7yEgFqFIszEeHJf5uLpwog94jQP6IhVgN58t/m4qkCYvWPaIjVQJ78t7l4qoBY/SMaIjTQTgKQ/2Jin0vnDaoATk9BhP4RFxEaaJd8V3PIpfMG/fGcnoII/SMuIjRQ+46cVzHscum8QX89p6cgQv+IixgNZIfgeQ3AIuA5IUYDWSF4bgOwCHhOiNJAWQie2wAsAp4TojSQCcHzG4BFwHNCnAbSIXh+A7AIeE6I00Acguc4AIuA54RIDaRC8BwHYBHwnBCpgSgEz3MAFgHPCbEaCEPwPAdgEfCcUGmgpY+ffpw3e4PCv/+Z/uN/Od1I7s/PP//5/M0JRcBzQtlAi3s/VWGz+U/6P5xqMtdfnvssvQh4PigaaGHvtypqOn//q9EBOOPLIpvGDRHwfFAw0PqtKoiA//Kx8fz+yMZxQgQ8H+QNxBtZCWHx7Rlv3hcBzwe2gRZ5tzMhNH6594SbLODN5KjfP072Vznvgd7OYf9wf41zSM/w1Gk6vd4yJ4GN5KTfP8pd20Zy1j/e6XCu11vh1CywDaT3Gx2Nbr++X19XhcLL8Gb97WfefA64do7BjRXw8vGQrh252+bCKdnWi+PPMiVyCdE/eExzx+nAfG3zhr+SmqI1Lhryy1/sj9ePZSC1iwZwLq8BDoRXamMEwHl3MfIpTk+BOjtnZkD7iC5ck3DxVCyfwS8N+xf4g8MeF+YEDJzZ0TnHZpqa+8ghfvSmfwn/1yLdxqI7EvERFbRv0j4lZkJmoLcqObqX1/AHxGs9Hf+JCyYFHap5Au6gNO4ON0Ada72dCz8CTiDEbmBi7QrU16YyqiB8Z1py2OcIOuZc3bv0lJOo3+E+re9bPeJlfmvQXjiC9vTqMfzEjipK09m9ic0YaEG9wnv0U3ZyDopF3bFx3CCQfJLTU6DOzZna6YKWBrtaYq3WiomX05CYNXltuD/otF09PYrOx5zLc5otyYVge1PsMMMvqsALH0zv1KUfznAVrzEQD0D/jHCr0YbDQ4uOjWj0yMYJuF+hkOnZ3eIExMk0veJkvnq2sJdcFTfhG0b+d+mweHXQvu7zDacN8X2XUt3h7JbxagPxRqP3En+DY4HHstxCcBMFDG3dYc3jPyAy1luhelB+VXHzOCvdqmhmwy3H3B72QcwqdTS7EKwN9EklpP8bIK/UzfUbZyejgQKGwJUecLouoJ3Lo1XF6ulBQTluwjVxCxlbyyVZdkD1evoIg/VQ3R2ssF032kDqLu881inMgi9knAen3k0DBXxoOpFl2pvJ6eXNWbKZfWA1SaCL3N3v31ydJkpF3SRJrF9YSxIavLIAAfOMUal6joz+LKBRoFvNa2k2mqWBoGyNOA/M3eEsHYz7SzzDBlLbjLoOlAizgfs3bzk7EQ0UMPh/1lvNg+PHiisz3bONLdodnjS+o2J8DNySLLRvNzmpgd/hFHyJU0wHfqo0aNZPbzjVOqn45wPd7SXg7qDGofFpVi/jb0/DBlJzwNdcKASGGsf6i3MTQW7N6SmgE89GwNgC5WSBNugkTS8Oj2mwWLeyUcDQ7bw8PgShcusWgng2lrwMuuakBlrE1YNYCIi7OIzVHma/l2k/A0RtrTU5Ni1n+Fu8zIA9DRtILRj4zIVCYLwn8/zk3ESgqzdLwBC1tLgKgEzTQ2qSdkAxOqqCgM+GAwq4GxC8STpZNxSA5m9RRSBwHTHL1QMBtDiTBB1jI9Ah3g5WjyHI9491mL/MRXw4of6BwawWc7CBftBBhrACRfVwbjk3EajfZgkYxFXqYxIQNodGJihzJVFcAqUXLW7qEAyKMs1wCJmFQacN/TGgXD0VFwCS1MPiXQj2mFccqGu4yTWV4Uajf+C0oj9dC2wgNYYlSyhDhczzwJmJIDfj9BTQiWcj4KwBWgAio/UPIFEVRFHApgMKSqLADPrWGioPOuGqKSPvcvXs5EakiOOsVQ8/dwb6vThKTrFDfkGFcFpr3guuSP+Apfx6YQOpZVjPffuDUDdqFIszE4H6bZaAoSfLQ0B5oCtrT99AsFXiAblkXdwjFnMHojXP60BRfghrExra2TTVRAI+zcaw8LzDO9USwD45Na2hPV0tYLiR+F+RUgUbiA9CoLjbp3kCPhsz8APtXrtr2tG6BbkoJSPQelVR2gwrtQeFISxs/lqRvFw9FU3ofnYKkGS2zAROd4f3iVIEPsuSsxmGZgPxQQgUd/ugfpslYGhCn3AyBygnJ2yIoxRjQSNmjQVmlMpB7ioKFtZNdeH+MLRnqcrVUzGIdWMUSQI2LQScr8Ifu8gFWpC1/gF79KtW2EB8EALF3T7NEzA0eS85mQPKc1oA0dCkL2g2U6gRMLZqqcENgrUa3htQfGOmkJFy9UDX1prUJW4yScMNQd04CIjWOOUEmrcCLbSs9S1FBCzYuNuneQIGDVbOA4MSraka6iuTaMYIGFSEgbI7zIIndW/T00x+SKl62lBSHHiyIjBI0mqSQzzG8+VvLtCG0HcAEbBg424f1G+zBNyFC84plYFglxvc0rNDYwS8orrGoLBsCAu7v8UBslL1gPLNiJXmIusDL+f+GVrqKG34Yet3IR7rPwCup+pv8Q8biA9CoLjbB/XbLAFj2/iyYvIUomduemnIgXqMgPFnIJBeWuuq4RcGpSGlYvWsDsstaIj+mWjhC9nVQYMaLwoOWZxvwy/oKA+nzDXYa4MNxAchUNzt00ABb8IVlySkJmA5iUCEVV3lcQIG7ezjkiwzY4TSLIfDYvVcVnXBrXlg/ED25iwI19hExlkro2ozfgbMeh6YD0KguNungQLGxnHF++DwIQNLf9CiVgF5nIDh81f4KfNL0LKteFQ/Xz0d6L+WntbP6xBOkbUEQM306ROrpQ4dYnMeUP5MV2LxQQgUd/s0UcArINVBfvEFAt3ZLDZ2h+mdGl0eJ2AcS1q+tKK2HSUzctWzcwfZik6rPRaFL+TQ49rmkiDq6mb/ysBacDKzF9uxgfggBIq7fZooYJqqSY+M2nqnpFB8k9UFB0J8hytLaqyAQXX2EJZpc+cx1dPt7eJTThV3DhqZNj+LzeYr1YjGNV0crkH56lbRgSszEXrZvrZaYQPxQQgUd/ugFBon4NYWxOB0cJL0etvJIbSolQp6GJkPNpdXt6BlbELrWAFD+LuxhrCga33Xt+DVIvBLlMV6AvQdosClNYqFEh0kveUNaCvbE77pxe7q2j7844U5J1zObBZiiYCbgbt9yCs5PQXuJ56ONQyGGdynXMlK9evTHxMwzhpli57xYUQbViTnFJdV4ReBqJv1jJfxKQZFdmYI9ox1D5hZF1gE3Azc7UMuxekpcD/xtGyeYhRG7g6zUd99pZ3haVY0XsDQgLXGgFHONgUB3/VPd8ujVxr7nVgQg4+g7QxkrwUB1Dtp0xvrZT7wrdzMV42wgfggBIq7fcipOD0F7if2QK+3u9PrWQshid6OvUXRrLBeC420e1s7pcbxcm9/I3cPmOGLodlAfBACxd0+TRZwSDznBZMzDMAi4Gbgbh8RsCcKIXgSXmBnBj4IgeJuHxGwJ+y9kSZjrXJBWU2wgfggBIq7fUTAvnB9sKhjPcJUP2wgPgiB4m4fEbA3oEXsMnp2rJeKzQQ2EB+EQHG3jwjYG+3cDv1P4fbpqWED8WGWLO+e9W/Sfv90x9vfu7x90B/0j/etJ7d3aQ9YYLc3frKP6OT34Vi7yy1m5V8haBphNyk+YFon7vYRAc8HbCA+zA6e/VZ4GnPfNysAMiXecBHR335kecyx/SRM+2CYX43Ov0DQ8oHt4jsPa8XdPnSlnJ4C9xMLM4UNxIdZ0eEVqFdqfU22hmYKVi7xB0+P6afNKGBOwGk6qHiuTLFlP3dCD6fYAsa3RRjU+p/TWXZ13O1DV8rpKXA/sTBT2EB8mBG0pvRCNZ27G8dDLwKGkHhG6+y6+GinXnEHAt7qAckhtNeRi2rVWZMFy4dqvZwt4GX4cfwZQgVq+MbsBhvd7UN/AqenwP3EwkxhA/FhNnRBSgPrDZ/tJ3qnk7GdhV1QsFYfnMo0jLv4LEt6lX+3GZNN1+P7z9L0NC/gtYpmAsTsmTWi3e1DfwWnp8D9xMJMYQPxYTZAI/fGi2ZzbGRLVDsD8zCILWAIpKDLfN+WsRa/4dr3q7Ve/nOQzRbOM+27yudMa8HdPiLg+YANxIeZsFv58hKvnJmHwPICpuBcFTchNuumdZKeQeugIGBon5d7z/CHzOihTxGwMAY2EB9mAb7Uvu6l3qBHbqIXBQw914q4CQHYLJdbo88XBAzt6vJqHPhLHBfZPRt3+4iA5wM2EB9mAcQt2lamis7+6SU+oXmQPW+52u9D7Fs9HkK7u68CXqff71uq3Oj3i83bIxMbiwKmt7aU4j9cU+EloAUBQ7va6rRrDoo/Xhvu9hEBzwdsID7MAlDouCUQuP+FInvvAijpOHvrgVIqdKKtBi30a4uNYvgAt4hLAsaS0vlP0wGnNAUBQ0ivaC3Dh5xWyT4fd/tQdXF6CtxPLMwUNhAfZkAH/GrM/Cn2Ty9PkuQEZ3T1+4VQwKDffpLg3uhKqtAjzfZyh+Zv9v4jBRZxsixg0HtpQHlQagsXBAyXVtFtbw/9TGE/jbt9oK5EwHMAG4gPM2AzLUU7BsMst4V3ocHM/WRQ0tXwjsJfF4RN/df2wHrHNnwte/+RAuKlLioLGP7RliayWn7+qyBgUP3hSf9gt7DMtW/vtlEn7vbxJGC1MfES54Tg+E0GmqGAQW/Vky9dUKVZAgn64XlZSJmHQfBdR/QR6OOabu9FSaIbw+yB6rKAd+zwrYBrKsbXgoB55RhwaPff7fd+14q7fehiOT0Ft3Ti15wTgoPsM0sBg89X7gKLrVTrHyDkqRwK2HR4oZRC5Zp5NRm+9bewIAp30jAjTmUBww8WwyZcU3FYrSDg7HWEufcHQ1t+NhNJ7vaha+X0FJzTidc5J4TGEtnnfoYCBp0WW7xE28RcAlq1qhuLAjZdXAiVqmUNguJh44PiEBa+Wjg7Q1nAG2UBQ0DnlKEgYHWyTu8EFZxdJvxWxeB0Dbjbx5OAv9GJ9zgnhMYbss/1DAUMYqmMwKDYXNf0jqNiLmBCB1qNNu2bPvJdfgirDV1ce9FUWcBwEzBbRjIn5a5sQcCGVfjBLOJDS2A2DxW628eTgL/Qic85J4TGZ7LPjxkKGJqrlX3grexl9wR0bSnsgZIywRhZdXWAhhhoB/Rl+NrQDoplAcMdpPgQQr98SeME3FqDAG86zDPbQcPdPp4EvE4nfljkrBAYaozi4wwFDAGwchQaYmpusSI0VkmIoKRsqiaT1Rn3PuFjlkBxz5qr3HhUWcAg8aLo+mWxjhUw3gDM5G/8Am7d05k/c04Ii3dkndGrGQoYmsqV88Cgi1xrFPrKpJMxAuaA3R7a4RRuDulJfjiqJGCcgioOPPVL49KPCHjHtN7nQsB/0ZkfZCIpRBauyTo/n+MgzwYElAu1jBmfYvpZE7pKwKDDAfR9c+/FgNb5sNglLQkYPqQXeRiOy0XjBQz/YlZ9QHo2S7Hc7eNLwK/Vqc8XOC8EhOoB4xijSnBxvRzmh5s10JnNrYYC5elBrCoB489soMyzISwQ86CworksYJxjKr20F36LU4bxAt607jSQLq7irAd3+/gScOu7OvdXzgrh8EGZ5hckVUoV1wy2oSse4sFhKWs4GbKqqzxOwPAzJ9iENUNYXZCm/VY6RVHA0APWGzJnQFQu3lLGC/jAauvHPw/car1Si7FGXzgvhMIHtsw7SKuUKq8bnEstKw2ndq2mNQRFs5CjUsCty3TYBuUZeUKnuaJpnhdwG849KC9qrtDhWAG3sylousp8A70u3O3jTcC6nTb6IUPRQaHtAj3g2Qq4AxIY5rqOuq2cvT8bwimvlxgrYOg09/rWENZd5eBYTsC9SzhHxb2jYixqrICP0vTKhPDL8uhXPbjbx5+AeTXWaPR7TzrCwfBOjV+NRrc0vqjS9C/1szIA3zozgXD7QikUoyOraw3UyD3VsQIGjR8Osi5op2JwCtAC7vZ2EnzIST0WUeSmpNa8gPcP+d7QwR68uXI4Z27grT7c7eNRwItqshG4/yqLKkPgj09avqMHtU5dZSg5A5ZBVml6c5QkyVkftKoU2sUFxydJr5dgI1t3k8cKuHWa2g8SroH8+zaqmM6U0a8I0gA0vwuLofMCTtLhUbLR2znAJxqzYD2zMayXFXDrtZoMZnIZYeaY2yny8FaZSOVUegZ0oSFqwZJog46YbDpovIBBPtYqLOjH5lHFOQGflgapGfhyYU1zUcCGG0uyR+mwoPu6cLcPXSynp2bpp7oAITBu9XNiKsuZWbBygA1a5HIni4obGI+hk3lqnvblV+owkMnarO0z+806Gxx4Dar4hHP942SjNPpsKL9gMnem1jKFXqC/b4+Uz24fZ3f70OVyenoW1HoOISx+mvU1Ks+ZWdHr9cohsVNRVj+7lQPjNh242kL7e3avxHpxAbda63ooq+n8G+F0s7l9z7YBVAln5pDnvGByhi+lDEDArda7OCRMFcPpJnOde8ZTlXFmHoEQ7Br592t/vXWGu33ITznti6UP383oZ2OhiuF0U7k/3/uDbcKocs7MJRfpzfg+chVrw8o13fXgbh/yU04LFnFWjLuDxMbywBrtnoD2lT1MXTfu9onTTz0QZ8W4O0h0bD05jpXj2H61Tu242ydOP/VAnBXj7iDCLHG3T5x+6oE4K8bdQYRZ4m6fOP3UA3FWjLuDCLPE3T5x+qkH4qwYdwcRZom7feL0Uw/EWTHuDiLMEnf7xOmnHoizYtwdRJgl7vaJ0089EGfFuDuIMEvc7ROnn3ogzopxdxBhlrjbJ04/9UCcFePuIMIscbdPnH7qgTgrxt1BhFnibp84/dQDcVaMu4MIs8TdPnH6qQfirBh3BxFmibt94vRTD8RZMeoV0bIBTqj8JvtwZiLi9FMPxFkx6k13+g1ZQmiQeUTAPoizYtTbUuSlv4GyROa559xExOmn07GTAFQxmJjd6xhmwDfykNxbdoRweEPmuebcRJCfclpQ4PazGbN6o+hM+EIecs45ITDUNjg/ODcR5KOcFhRtfjkwUbVFZnNZJw95kO2rwkQNUXzk3ESQk3JaYOwQHFUAbrXUfhmfOScExTsyzugVZyeCnJTTAmOF4LgCcKul3rz/IBNJAbKg3uVK20hODHkppwVNFoIjC8Ct1+Qjo3PZQDI8eCNYtyFG8lJOCxoTgmMLwK3Wd+UlXzkrBMMHZZlfnJ0QclNOCwYdgmMLwK3WK96v/wvnhUD4wIZ5x/kJITfltGDgEBxfAM527P8hQ9Ehoc3i1gMWAY9DheD4AjCg9676vScd4VB4p/ciunUdXiQ/5bSQQSE4xgDcai2arb/vv8qiygD445PZSuzBeZm6CHgMGIKjDMCt1ms1GczkMsKsMXdT5OEtm2hyahHw0sdPP84bvkHh3/9M//G/nG4k9+fnn/8sbE7ILP3kzwhBcfuMx8T8C3hxLw73+E/6P5xqMtdfqtb1LKj1HEJQ/HzO8hrfAl7YU88kN5+//9XoAJzxpWq4eT2ObdhH/0Y43Wxu37Np3PAs4PVck77Z/JePjed35er4d1FImPyX003m+rmPeFIFcHp69vhyhLD4VjlhtPThe8MHKuIQ8P35XvVYxSRQBXB6WhbV4+JCePxyesKlQfj030biswJ4mS1w+/X9ukwxvixv1t9+/sX2gCZapIs2fPpvI/FYAX+yr4zO33CJ8NK8MsPN37kkMjz6bzPxVwFv2VPuHVdjC7XyWndzP3FBXPjz34birQIWeEXPsyazhPpY1D2bKF8m681/m4q3CuAB6J+yQD44eGwxyka0N/9tKr4qYEk9zXgv8Tc8FngsK8YQ7Mt/G4uvCvikfET6vyHCD/F/42xM+PLfxuKrAtRNPtKhzsajXgf9EGH3xpf/NhZPFfCKPEQ23QkU7uC4P6wWPJ78t7l4qgA1B+y0J4QwQ9Q41l+ciwhP/ttcPFWAWi8g7wsPlfdkH9f3LTUAT/7bXDxVwA9yEBnCChXVxbnlXER48t/m4qkC1BiWLKEMFrLPA2ciwpP/NhdPFaCWYcX6yEsEqFEszkSEJ/9tLp4qgNwjQv+IhlgN5Ml/m4unCojVP6IhVgN58t/m4qkCYvWPaIjQQDsJQP6LiX0unTeoAjg9BRH6R1xEaCB7F+do3+H9JPTHc3oKIvSPuIjQQNYuzrFuojEB9Ndzegoi9I+4iNFAdgie1wAsAp4TYjSQFYLnNgCLgOeEKA2UheC5DcAi4DkhSgOZEDy/AVgEPCfEaSAdguc3AIuA54Q4DcQheI4DsAh4TojUQCoEz3EAFgHPCZEaiELwPAdgEfCcEKuBMATPcwAWAc8JlQZa+vjpx3mzNyj8+5/pPxq9j/P9+fnnP5+/OaEIeE4oG2hx76cqbDb/Sf+HU03m+stzn6UXAc8HRQMt7P1WRU3n7381OgBnfFlk07ghAp4PCgZav1UFEfBfPjae3x/ZOE6IgOeDvIF4IyshLL494837IuDJ2U7ThBLt7d2mzVzYBlrk3c6E0Pjl3hMOX8D4uoU2py26ULzJ6cnAH0I2e1zgihHwfpqeUcKRlZ3D/qB/tGv9OXxNSbLTW+GiWrANpPcbHY1uv75fX1eFwsvwZv3tZ958Drh2jsHhCxgvcIfTFodQfMzpycAfYi7WuMwJI+CzNB1Qwon2AZ89vdrgotxFpcOzLS71j2UgtYsGcC6vAQ6EV2pjBMB5dzHyHE5PgTo7Z/yCF3jJ6QxagvNsAafpaYdLHTAC3him7q9gWruB016enFzg6be5MH9RaXpn/sEzmYHequToXl7DHxCv9XT8Jy6YFHIbTk+BOjln/EJXWGos0yJYZwH3gJ3kaAjJUy51wAi41XlGFziB613GxDIGcP0DfFEbyVFfLcx/zp1lAoyBFtQrvEc/ZSfnoFjUHRvHDQLJaTg9BercnPFLmt4My3K7S6+eIWBOdY8g7R7rMgE/h2RoGsj9ND3hpF37yydojH5Fh396jIF4APpnhFuNNhweWnRsRKPLBC9gcPhVzjGbEKqeL+BWC77s3oudTsBb2Z+wDH8TJ/O1vwp/qeNfNSHaQLzR6L3E3+BY4LEstxCM+g1ewPtpesQ55hIi6DQC7kLGuRk8nYBtoPXALeVi7aOCCzcrL2gDfVIJ6f8GyCt1c/3G2ckAfwlfwN1h4ZGxHgTgqQSMEnKbhAL8CRgaADwOXqz9FeifP6N7/iTaQOou7zzWKcyCL2ScB6feTSMEjHNGOemgAHIC3jrDwd2rU55L3e/3s5B90u/TtE3uD4Vf0APJ3eQM5HzTT/ITseViI+CNfl/1oFWih33Xq7Nc4Nw8xFh6Ad1eOD2XZZylKY1nlQWMc8w6OvuEDaS2GXUdKBFmA/dv3nJ2IsBdGiBg6DTeWWM7qzixZAl4F2doiOEuFUDINgF2B3RECfhnOhIgIf7A9kB9FXrF9rhWRbERcD6BM9LIMJutbuuy9LQN18alGVDGfw58RCU0bbj0bJrYG2wgNQd8zYVCYKhxrL84NxHkZZyeAjpxfQLGgGkt5jhG9VkCxr/h4ig5xokYFQdBtTx33L1LhyqG5v5QkCeVtkHJ6cVxkpxCuM0ar5XF1QI+TIdnSXKCetcxeBmbA5dHySEcjysEDDegK07CBzmlge69+nGvsIHUgoHPXCgExnsyz0/OTQQ4UBMETDFXA/H1jsRjBDxQ6u6CYLi9CikVjI9MW9n+Q9f0KDSESh05caGU+s6Y4koBX6ZXpNsVEKrWP45xq/i+SXGckhbw7/pE5X+Ff3Tr208EG+gHHWQIK1BUD+eWcxOB/tUAAaMgzaATqAv83xLwke40gs65A7kKIsdWKihVNaBzWumA2ujLK8N0aPqu8IvcUK8utnVrEukdn7wHaRXq4SrudMcZrqNUv1tWh6D8r3DDeNZC68dhA6kxLFlCGSpkngfOTAQ4UCMEjBO/Kt9qD8j/QTzlSAU65+HdRL0r6VI3oG2tbEK7+IokBOHugIoIaL2qXHVxtYDN8gz4mLrHWAGWrqNQvxtwdzDPU5RrH36zPOo1NWwgtQzruW9/EOpGjWJxZiLAgRohYJQHx8RdJc1KAYN2WFDtK5x6gs+aVcvwh9KixQP4KZZ1x4qFANwlKFyPKa4UMDTmGdUwoGUa1rchl6/fHYjJWX++XPvQfa9PwHwQAsXdPuBAzRAwSFHNDLXv1KRwWcDt3hZoU48ZQ+P5tDtIL42W6E9l+HEk+Iz9G23uGY8prhRwJja+sbQ28t+GXjCnkM5Jbri6QsBwH9DrLD3CBuKDECju9iF35vQUuJ94YljAWrfYgyR95AS8vH3c53kfMxd0BOqyurKWgO90sxeiXe6xoju1PmtMcaWAs/lmfUHwbfWvitwo9Co03gf288hwNZzSnJWWnfmADcQHIVDc7UMOzekpcD/xxLCAcYUD6UK3pS0Br0DX12AE3MFZJUtKmAM2eln7FqKd6cIi3IUeU1wp4OwE+oIO8g9K2ALG5vMFL+FQwEVxSgNXbX/dE2wgPgiB4m4fdPlmCBgnj0B6ZjQrE/AmjvReHoE0cYY4837I6CEtpOIPhU/kFk30oZsMhzHFEwoYvm3HWEvAcGNID63ONVC6KFylnZO4H9hAfBACxd0+4C4NETC6P3QeT7W4jIAx0p6wz9sCxnkdqwtcJWAIltl4MQBiw7bymOIJBayu0wBXxym4OJ4ezihdFHxIz3v5hA3EByFQ3O2DTt4QAS/jYg76H2EEDG1rM5J0kgkYdH2pm91ExR8K/encvhw8WjWmeEIB7+bmoDrmtAn8JXpKy1C8qA0oKIrcB2wgPgiB4m4f8JemCBiD7yqogLunRsCWaLGDrNNQvNG+TIemEV3xh+YWeNHoM2XHFE8oYNCgtRID2wGUgB+1RtQ0hYvCldM1LOMQATcEd/ugfpsiYJDA8Z2ZYzUCvsr6nMvQG2YBwz+fkPbUig2g4g/F1rc1XKXXb4wpLuvWJBB9QTjzmykVF1VTAjrSuZExRf6iOvChmxp6wCLghuBuH3CgxggY42vWO9V6QYnoqAtS4/TyQL13CrqUuj1b9YfCj+ilkHSDuFFqry42ci0nEMioC4KrMFEUWuPqtG0IwFSSJ3dRmxB/B+Uo7QM2EB+EQHG3D/pXYwS8Cdc61AHV6OUAPkFqax+mAy1gCGWU6EIJN6Ir/9AL+DL/Oz54oLuflcWTChjXP/O76XaHA/g6Feab5Rp9Ucu93QTky09G+IcNxAchUNztAz7THAFja9mMLhm9YLv57qC3mVyll3oONhvY2jGN6Mo/dAVay8Pj/d5GgtHb/Hhl8aQCxltKepNs9hK4jWBUxTIIxYO+Ba+2gk/anJi47xk2EB+EQHG3D7kNp6fA/cQTYwt413q1TqYXaqYiV8uJEjA+TaQHfKHdrRrR8AE65ulgJ1Vhz/FUFU8sYHqtBjHc1fPA+FCDDf9RnFMclwapvcEG4oMQKO72Icfh9BS4n3hiTLAC2mfZBM1Gv6/XO65ApAOhHXVa2+r1OYf9vpnIXYVwR6qHIxUU2VaLMC9PzL2BKBcX3qRjJxDrglo9uqLhCTTD79TzDnBlOfiP4ly/f5TYqz+8wwbigxAo7vZBPwtbwJOx1pum89it/vaY4slY6VEnulPPwgxX2EB8EALF3T6xCDhYcO6Lky8JG4gPQqC420cEXDPQ9826yS8HG4gPQqC420cEXC/4fsyaZoacYAPxQQgUd/uIgP3TzeaCOqeFZdUvBRuID1HT6dW71XKduNtHBOyf7cERL4fcuEuzjQhfFDYQH6Kmp0cd2gentY7s14C7fUTA/tmGKh30j9VOwHd1PFvkDhuIDzVw0ufZujxtKHZrguAPAcfJVu95tz4j4F2ofb1uz4W15OwGDKjvwoi5qCTZrPOG7G4f9DERsF8w7mqO61pa5QgbiA81gOtAK5QKInJ8Rx/+EDNMnqM/I+AD+AX36u/gaxcI6/TWRaXpzUFtGna3D10Rp6fA/cRRs3nSv8J7eGG7pReEDcSHGkAXL8uljfeyZwsYIigvSHfBCHj5aug+AbCKV3yWJMe4JYeZAMxdFHD0nDvLBLjbhy6H01PgfmJhprCB+FAD5OK595ggtMrVWcDYdu1tJPjwmXpMxQkj4GcB/Z9DFWD3h9mblfii8JETaF4DNT104m4fvBgRcPywgfhQA+DWN+Uu52UKKnyWgBF82Zm7FqcU8MA8tZ2ATjlpXVSrtYNB+s7qIfvD3T4i4PmADcSHGgAXPy69DWiTCp8t4OfttTqdgK0pKGz/8x0pJ+BWBx83s9625g93+4iA5wM2EB9qAFwclFN45PksTaER/XwB4xsBc+8HnYTpBGxzap4lzwtYvV+01F/wgLt9RMDzARuIDzUALo5PbuYGnVbT9ALklBNw56lVFjmtgIRsnSxXz+vmix8R8FrFmFinl5OmjX66vCxgfHdZtqmOP9ztIwKeD9hAfKgBFDBEW7PDMgLy27QF3NmllyKlVxxVN/v9M9MQPe73qQGe0wpISM9NrRzTI5pXp/mQXC42Al7Vz3eqxCY94n2ZPf8J7JzC6dK7gzY+gVqaHILmP98aigKmt4fWMI7lbh/8m0TA8cMG4kMNoICx02j5eRcHgSwBHwzJ2xCl8zboWT9CDeJXvcqcVk5MBMYxYcaeW68oNgLOJdqgRsWxuWcs41QRcbUMt4G8RIELU1YSMLY2amhDu9uHLp/TU+B+YmGmsIH4UAMoYLO/mwI6iru2gOEjF8f7vV2MhOrV92upfsUKbn2lIlpOKyATioFtXNV2kWxtJZi40rGysrhawIfp4GhnI0HJauF14VTD06S3czBILzOxGqAHoIfVywKG1kWuteEHd/vA3yMCngPYQHyoARJwZ2gt5lB74dgCvuFmLiiblQEptZMbJHjRha0VELgahYamtJ7e2Rhku79VFlcK+Ca9oL43vipJq/IIkqpTvIz6LwnY6oCXBQynzvXt/eBuH7xwDwJWGxMvcU4Ijt9koLoFrIIuo7bFsAS8o9uu2NRWysHBIAy8+M7OcrDrQJpePbRsveOMXmKognV1caWAjWrx+U6leTinecMabYRXkOiO9SBKWcDb2D/wjrt9PAn4lk78mnNCcJB96hcw70CHYKMY/N8ScAZ0bXXgVO/Qvsh2rci0sg1JtRILYmG+aa5ar9XF1QI221XBuVW/O/dtfGNxXqJwZUMzul0WMPxm9rJFb7jbx5OAz+nE65wTQmOJ7HNfu4BRFbyYg/vDlQKG9qdepUyrP+y3e8IPHSZJctyHhN4YB24L1sBVF0IjJaqLqwVMCQQCKzW1O1YABiAw5ySKbxHNBqzLAgbFxyTgb3TiPc4JofGG7HNdv4CxLUx5HH/C5m1ZwL1NfF+2Fmz3DhrP+B/n8YcMfRWWVwobRkF7F6U3prhSwFlzF5RH34IrtS8sP4iFL2IYmjWVVQKGDkINLyt0tw/VE6en4Aud+JxzQmh8Jvv8qF/AuCUGRU3QiW7QZjpZS/p62sdE3C0cYbK2fcsEfKEXZsJv6WErgs8xprhSwNmIsb4g+Lb6V0VuGmkNLuImu6QqAUPLIXf38IO7faimOD0F63Tih0XOCoGhxig+zkDAWrgQgEnIloBXaKwXgVhpBEzbv2U5/KGtHmA1jqE1nptzBfFg63ZMcaWAM63qC4JvW2fNCXgX7jJn1vmrBAx/i3kLuD/c7UP1yelpuKczf+acEBbvyDqjVzMQMCoXfN00pTMBb4Ashv1ks9fOv6rzCDzQ2hG9rBX8eFGp2LwdUzyhgOHb9j7sloDxggriLF1UexDXSqzWX3TmB5lICpGFa7LOz+c4yKQYAe/Q4JUZzDICxpmaYx41sgUMHximw0weFQKGVrY12kzRD8UzprisW5NA9AVBBM62+bD7wHAfGKixs4zSReEcMid94m4fXwJ+rU59vsB5ISBUDxjHGFWCi71iBNy+Swft7lCP0Wq9oLDNqE+2bAN1fWM+g1QIeK08WoUN3DHFZd2aBKJPtmF3jFstiKjqtAfQ/S1eQOmicIVJ4dFJL7jbx5eAW9/Vub9yVgiHD8o0vyCpUqrYL0bAOD67nXVPjThBtKZdCt1eLeATVAIEPdOcrRBwB8KdNeMDzXOKfmOKJxTwCnzcDH1jTp0WfsUaUdMULqp9ZQbb/eJuH28CfqUWY42+cF4IhQ9smXeQVilV7pdMwBB9L7KXcxgBQ6Naz6viaigWsHqAqTvIGtEVAsb2rdVYhl9Sjd/q4gkFjAE760LDl9Vp4YZid42Z/EWtQT8/sjdyANxOG/2Qoeig0HaBHvBsBIyxNlOW0QuU6jJUixIwKheDKERs9alqAa9CL9msioLmK98dqosnFTCc06wDgfsInxZkbUV1jX1RXWgvpIMaRrAAd/vghfsRMK/GGo1+70lHOBjeqfGr0eiWxhdVmv7FM5aAl8GlzCInoxfoAw+p29g5yaaR+joKQkzjwFclYOyY6gb4DoRv3f2sLJ5UwLgimyd799MBNIrxtNgsp6I8fFGd3s4B7Tp79cRbCZ6Lu33gYnwJeFFNNgL3X2VRZQj88UnLd/Sg1qmrDCU9YwkYI6xZYZHpBZ/kO0mSk7v0CsRMAoYjdyWx66l0WyngNk4WX+K3Qemm/1xdPKmAKewO+0lyBF/e5GkkHJ3KoT4KF2VzlJsk9oi7feh6OD0tr9VkMJPLCDPH3E6Rh7fKRCqn0n6xBQxqNC3MTC/0xmXkcpnXPq9A1NQfPNKfqxRwq7UNn1Vc2XM8FcUTC7i1pq9osKXngXFXjRzqk7aA7w6rrs8P7vahS+L01Cz9VBcgBMatfk5MZTnjlZO+lgVwko0trWZbq7TVm573262Nfh8HtA70O2+A7lm/T/1Z+KGKTiioPemD3i5P9vPRr1xceJOOnUCsC2p1DnBp580BKBIuDUvgyvLQ5/TWKhCud2pqPCvc7eNVwK0FtZ5DCIufZn2NynNGsBjU8XCRM+728SvgVmtdD2UJoXD7nm0DqBLOCBmdWp5NcMbdPr4F3Gq9EwmHxHXuGU9VxhkhY7fwZNML4W4f/wKGrvCH72b0s7H8G+F0U7k/3/uDbcKocs4Ihi70o+uZ2XXD3T51CDgK4qwYdweJl+VsOAqf38/GqV8Qd/vE6aceiLNi3B0kXnqpepN8q427ldmv13k53O0Tp596IM6KcXeQeOmhhQd9WlmV3jlvwVQL7vbBixcBVxBnxbg7SLzgZgyag7qWVjnibh+6fE4LFnFWjLuDxEx357Df758km7UuznDB3T5x+qkH4qwYdwcRZom7feL0Uw/EWTHuDiLMEnf7xOmnHoizYtwdRJgl7vaJ0089EGfFuDuIMEvc7ROnn3ogzopxdxBhlrjbJ04/9UCcFePuIMIscbdPnH7qgTgrxt1BhFnibp84/dQDcVaMu4MIs8TdPnH6qQfirBh3BxFmibt94vRTD8RZMeoV0bIBTqj8JvtwZiLi9FMPxFkx6k13+g1ZQmiQeUTAPoizYtTbUuSlv4GyROa559xExOmnHoizYr6Rh+TesiOEwxsyzzXnJiJOP/VAnBXzhTzknHNCYKhtcH5wbiLi9NPp2EkAqhhMZG8UjoB18pAH2b4qTNQQxUfOTQT5KacFxS5ViiZ7R3kMqP0yPnNOCIp3ZJzRK85OBPkopwUF7nplCONdSd5Qb95/kImkAFlQ73KlbSQnhpyU0wJjh+C4AnDrNfnI6Fw2kAwP3gjWbYiRnJTTAmOF4MgCcKv1XXnJV84KwfBBWeYXZyeEvJTTgiYLwZEF4FbrFe/X/4XzQiB8YMO84/yEkJdyWtCYEBxdAM527P8hQ9Ehoc3i1gMWAY9Bh+DoAjCg9676vScd4VB4p/ciunUdXiQ35bRg4BAcYQButRbN1t/3X2VRZQD88clsJfbgvEyd/JTTQoYKwTEG4FbrtZoMZnIZYdaYuyny8JZNNDnkp5wWMigERxmAgaWf7DBCUNw+4zExEfAYMATHGYCBBbWeQwiKn89ZXlOLgJc+fvpx3vAtgv/+Z/qP/+V0I7k/P//8Z2F74Ix12YY9MG7fs2nc8C/gxb04Gmj/Sf+HU03m+su4lbXvRMIBcf3cRzx9C3hhT70VpPn8/a9GB+CML+MmfJc+fG94M2k0+jfC6aZyf743tqX0JJ4FvJ4bVGs2/+Vj4/nt9Hxas/Dsv83DbwXsscsIYfEt2iUbfv23gfisgEX1whYhPH45PWPaIHz6byPxWQH8oAtw+/X9uizyeVnerL/9/IvtMRpdRxqDffpvI/FYAX+yr4zO33CJ8NK8MhO+37kkMjz6bzPxVwFv2VPuHZ+HEmrltR5o/sQFceHPfxuKtwpY4DW1z1pOItTHou7ZRPk6d2/+21S8VQAPQP+UR9SCg8cWo2xEe/PfpuKrApbU+wTuJf6GxwKPZcUYgn35b2PxVQGflI9I/zdE+DU63zgbE778t7H4qgB1k490qLPxqA0ZHiLs3vjy38biqQJekYfItneBwh0c98fFg8eT/zYXTxWg5oCddmUSZogax/qLcxHhyX+bi6cKUOsFZMeOUHlP9nF942ED8OS/zcVTBfwgB5EhrFBRXZxbzkWEJ/9tLp4qQI1hyRLKYCH7PHAmIjz5b3PxVAFqGVasj7xEgBrF4kxEePLf5uKpAsg9IvSPaIjVQJ78t7l4qoBY/SMaYjWQJ/9tLp4qIFb/iIYIDbSTAOS/mNjn0nmDKoDTUxChf8RFhAayd3GO+B3eT0B/PKenIEL/iIsIDWTt4hzvJhpPQn89p6cgQv+IixgNZIfgeQ3AIuA5IUYDWSF4bgOwCHhOiNJAWQie2wAsAp4TojSQCcHzG4BFwHNCnAbSIXh+A7AIeE6I00Acguc4AIuA54RIDaRC8BwHYBHwnBCpgSgEz3MAFgHPCZUGimAj9v+A+zZ6H+fH92F/GhHwfFA2UBwbsf/9z/QfEezjPH4f9qcQAc8HRQNFsxH7f5odgDPG7sP+OCLg+aBgoHg2Yv/7XxEEYOJ5+7CLgOeDvIFi2oj9v3yMgOfswy4Cng9sA8lG7KHyjH3YGyfg7gY+vr3Za3PeB72dZKfX4QzSU0wwPdHu9VY4iXSOiw+Wd7eSZGeVM5pcYafXW+ZkfdgGko3YA2LafdibJeD2ziVdMHLW48IpWblQvzc8yO4JqoS4ONx67F6RpMM1TgJrV+kxJxXdU/UrV/bFFgv76Y1996gFy0CyEXtwTLEPO3kSp6dAnZ0ztbFrP8KdJlw6Fe0D/jXgzsRSLmAGB2ND8drQuozuMXw4J+DeQP0CsM1FFYXLg/SEEjWSGUg2Yg+RZ+/DTn7E6SlQJ+dMTbRRH2l/F9q228mJrZwpSEC3B9CYXdsHWV3qWAvnwYb6SX+IpwQJb/A/FGhfpRf6O2sn9FFbwKDM9Gy7290+g3/QP1FRuG3rux6MgWQj9jB57j7s5HScngJ1bs7UQxsd/tT0Fjs7Xnw+SfvcfO1CeNf3BKtOeirsV78z7TAdctTeoLY9aNMWMFxxn/Tdhmb6HSu9qvCs9uWAxkCyEXuoPG8fdnS7Zgj4CLqp/uNUksXxTQjBnMzVSecA4/Am52y6Q6NXbB0MDyCUWgJeTU3nFu8O6hfGFda8IF8bSDZiD5bn7cOO+m2EgEEbphXqEXv06C4dcqpQJyugtKoQeZimeij5OB0eL+NFWgKGNrW540BT/ZQSlYWt07pDsDaQbMQeLs/ah70pAsbHTtjZawMat6zHYp3g3aMcItvD7JL2d/BWkBcwNKiNKntwC6DmcmUhRn8vXfqxaAPJRuwB85x92Jsi4F3w9bGzpSsbyclZsmlNyHbV3OpG0j9NOG53ej17Lmc5P4GLnI4VMGp7wMkMuCZrCgnJCRjkecFJAISLH64sBC5NH7ke2ECyEXvIPGcf9qYI+GZ8L7GLo1vEmYltoKSktQZfQi6oGOKlrTdQ6y4nNZdpyi1q+JJKaJahRLeWDf2SqHMCBn1bURXOtwWHykIAWtOe5rWrYQPJRuxB84x92MnDOT0FdOIaBYwCGhOAN2iU+JLEOtBDTShgaJamN2pwmBR8nKZH9I9IZ5gO7f4vAAof0wcG4OeLeof4WWzU5wR8lJscgv7yARwqCwGIzKXf9wkbSDZiD5pn7MOO/t0AAYMyyk1YAmXax8ja3ryCJIdJVNIgTVCiuH0OBW/QyB0eiZ1cb5WA4KiDfLlOIMoXP79a1lxOwBe5oWu4DPynykLA7k/XARtINmIPmmfsww6u2gQBH+S6jhZtCI26Tdo+MZ8CJZk1jvuQpGALHzXj2CAkqz2NLEMk10G+XCcQK4urpUDwxVZ1TsBwOqtVDHcM/IHKQqTcHvcKG0g2Yg8bMo/TPuwNEXCu+WsD6swiFw5Vq/iGAtbhtD1g4WbxrrWSzfkyHWhsc3O2SsCg1j4nNXBNnDIUBWwNk8E/4Q9UFiJwixo7SOcBNpBsxB427vuwN0TA0IKt7CJiv9UKgyCzM0qAMgamiwtK28EjdKQHPNQLcsn/Xhf0m90JynViSU1zmt5wylAUsCVJaMCzgMuFCNyJSqNkHmED8UEIFHf7NETA/TGLGaEfardsu7qbC0rKIixEXhVb4Ve4A3pXGMLagCh9ls3jlOsEFK9uDRn9YhAvCNhqkgMbSquVhQh8tc5haDYQH4RAcbdPQwQMQTRThsWW1e5FhmlKMgQ5ZMI2soJPq1KIfLmfw0eS7CZ6uU6ge128gKtSTM4LGGK6FVP5nyoLEdAyzyjVAhuID0KguNunOQKuHMSC4EqtY43WBygjm241MoHesFr5BD9nDWF1L9J0mPuZcp3ADxeXSt2UJJ0XMDT7rZgKTWT8p8pCBO4p/ld6Z7CB+CAEirt9GiLgnTHTSKDEXMMTGsmUrxawnoWFnrPV+l2D5vNNfki6XCcQ2otd1JvyxE9OwHBtVkyFWw12AioLERGwELGAcSFHceUjclhwewiU9LExAl5TPVkoyIawNkCbJ4U1HaU6gW+UbiCXTzShQZ3WtYFysf9dWYhA896aIPYOG4gPQqC426chAsbR2+IgEgKRudgHpuMYAUO/FZ/66VtDWGvwlWLjuCTgLgTp0of6T4xC59eKXKnRq8pCBP5BBrHmHnf7NEXAu3CZFRFqozQKfUWJcQKGTucOhnMjInwmtzy+XayTk+x5/IzjclDOCRhnrThJGbqyykIEQrM1PO0dNhAfhEBxt09TBIxrNG5KGkLF2n1TkLnS8zgBw+f7qGLT5a1YYQUU6gSiY8UQMXy10PLOC9h0yBG4MjOVVS4EoHte/DWfsIH4IASKu31Qv00QsFrzXHZx8PusaQ0q52Ud4wSMo8Cdi2wICx9RqtBNrk7acI6qWWi4omKbIC9gyOmbQ1u13YHKQuCyPKvsEzYQH4RAcbcP6rcRAsaAZ7+dtbNLg0HYBD7iyNw5NRFtrIC3IJYOsyGsHsR1TtpYdbKWwBkqV5F0yk845gWMdwe+Crgy/mxlYeWPeYUNxAchUNztg/pthoBptUV6ud9bafd6+8f6rZTYvL3cgCja3bzJWtljBQxB+sIawoJ/usH3T2pY2fCbmDvqo3ih11o9PlwOmnkBU8edXnkJfegbHWsrC6vCuVfYQHwQAsXdPuSgnJ4C9xM/g60BXa2GFbpNpTf0f/NE/1gBUyDPctAdzsHhmHOKwaGRWR74qcK/FASMMRa+DzE3HWQ99crCmrvAIuBm4G4fdKamCLjVOcwkfLath7TMGzkG2QzreAGvwgezVRuJ+qahJOCb4+2xwoKfys1hlQXcSlCnwKmt9IrCTs2PA4uAm4G7fciTOD0F7id+JmtJcnqSJPndhLq95CTZthdT8TuxFJCxFoHkXo21jFsgWfBv5HNjOS1OLuXPhHS2k7OD/cIEUbkQ2tVZNK4DNhAfhEBxt0/TBBwUPV/vwYGeeWlVl1/YQHwQAsXdPiLgafD1LkkIwLUOYYmAG4K7fUTA07Ay9DL5szwodJ39wwbigxAo7vYRAU+FnxXMF+mVl0D+CGwgPgiB4m4fEfB0nKZ3U0//JGaLtPpgA/FBCBR3+4iAp6Mz0T7+j1PeI8I/bCA+zJTV/eS4nyS7Hv/I5Y3kND/tsMYTB72nB/NNdS9vJ4cnyVbxGZKV/cN+sqNvy5P8oj/c7SMCng/YQHyYHZ2DG3Ix5Cb31pPns4YvAEfOsntCdpZ00E+KmrTZ517Pll4+MDy021DLfS7ldQQHM2geZbjbhy6W01PgfmJhprCB+DAzktziOS8jdR1cS5fekYiHZuzeEjByNnYKf3XIq2/ocxf0f73fK9CjC6YVtGplTfsy2/e9ftztg1cqAo4fNhAfZgS+aT8dnGz3utDTSC79CHgb9EUN3LVLSOn+Cwj4EJevn/T5llFYI6cBPfKAYTrYxcYx7f5sVsHh2/1PN9ut1WP4CRWDV7TiZ4G7feiP5fQUuJ9YmClsID7MhjY0UofWQvIVL3Pd2+mpDpjQ2tWPZoKATbt5k+Jq9dLUA7PkzTScN+DDeirhNE37St9HcO3q0qHNPbNusLt98E8VAccPG4gPswHaukP/e7JvZ4vcl7Pt6GwBQ/8WW9RVM/TtqjXncJ/hBXWrWXO6DXcH9Qvtu5rXqVu420cEPB+wgfgwE7bAs2peXwahlkeY8gJutTEIV8TNyjXnEGL5peDQcDa3B2iq86MtcCOaVQh2t48IeD5gA/FhFuBLkOqOXNDO5VtEQcA4VlVxdrimiveegFRZwHDJRqr4tib1k91h7QvlNO72EQHPB2wgPswCCHbDnKZs1nYP+/2TBF/EwCwnCWixvX3W7x8nqvPZSRLaIJZZSZLii8kgNnIbvShgelC0dHqQakWbAD6q3riCLWhKEJfmRWhHpb2k68LdPiLg+YANxIdZAP4/bvTWPMFtvVCfdrvpqTegpHdqUOkq9xJtCLfFZ7/gd6qb0HArGFS8Kf+Yd+bIc6rjbhaKEbg78B9Q9+tSMtztQ/XF6SlwP7EwU9hAfJgBHfCrMQF4B2d6bk5PQOKZyFHAIJS7s2MaQyZFQec0e8oS98UpxEFoEVcPYiEg7tIw1k3VU5twVm5sH9ivgcDAzOV1v7Asw90+WFki4PhhA/FhBoAstLgKwL+kZyTFNs628vIsEHD/bkghFve6IelA5zN7adFWeSEItNJ1xCwLGAJoUa3LOYEq2tuD9Ia/CqHYWiy2k/1Aza8MzXC3jwh4PmAD8WEGgPtXOz0ObhkZgQT5iWoQsJmOxTSFYFCUaTVDRC0sr1oBoesxp7KA4acr3jloPTvW7fW2kwO4mgt9k+jnWt3wab2hHtwMZtMJdrcPVpsHAaudxZc4JwTHbzLQDAWcNUAL5Hdahma0ap2iaE07FUopFEKw1hqCaFzQ4zKI1vSyywLeyI1IEXBN2bISFCjSz24L9kv36Yr0D+SVXyPu9qG/gdNTcEsnfs05ITjIPrMU8NG4MSxoFpupGpKo2pIdBWyiHHR+6csYrVmXEFDzQ1iroNnsFlEWsKU/DQRSTiEs4PTmyIrA1QKGq5zNKJa7fehP4PQUnNOJ1zknhMYS2ed+hgKG7q29ZbphpbDTMzSDqQ0NclFKRsxO7CA5bm5fFoawtnCiNxtSLgu4og1/bJ2CmtC9XnIEF6BfZ1oSsN65CpKlEe1acLePJwF/oxPvcU4IjTdkn+sZChiaq5VbskMwy41FQWuZAjJoJBtzMplVLSJI2F9rg7JzEb4s4IpBrH62l1xGB8I9T/ie5AIt3EX0D1SNftWCu308CfgLnficc0JofCb7/JihgEEWlVuyQ3lOC6csGtBsptBMzVrfIEdrCGsFige5VR1lAVdMI12UJE3gSBq1ouEk+UEs3VmPX8DrdOKHRc4KgaHGKD7OUMCgwcqRW+gb51qj0NSm/BgBg7go0ObWQOKe7Jf5x+zLAobuc7Hf2h8zMA5NZ7ob5G8u0IbQd4D4Bdy6pzN/5pwQFu/IOqNXMxQwbuJW1W/U41MaCJTU7xwj4O6QRpI27CEs1K/e0E5TEjDEz9Kqq5PSsJYCIi9JFb5jXRuU6lnhtdwEcY2428eXgP+iMz/IRFKILFyTdX4+x0GeDbSNq16aDX3g3IbMVzy1M0bA+DMg8BNrCGsN9FuSU1HAuGtlsQWN0Z9TeUC4dG7QqRWi4cr0cDncP4rLsOvB3T6+BPxanfp8gfNCQKgeMI4xqgQX18sqOFYu1iq62dguAoFadZXHCRi0c4RbR5l/7IA0i2uiywKGlrl5W4cBGsWV6zGgVUC/aM1aUbPZjFmDwiOfB261vqtzf+WsEA4flGl+QVKlVHHdXFQ/jgQisaIZ9HGVVMcJGD5/h1NCZggLWra5EK4oCBgkWREz4WTWFHSGivKA1WrGD5t5MFB+xV9SA+728SbgV2ox1ugL54VQ+MCWeQdplVLldbOMM6xlFUE0y5rW+DiC0tRYAR+Auk6tpi20bCteE5kTcA/feFexJzs0CkypFYrhbNxAx1kr/ocO/KJRe39M59k77vbxJmDdThv9kKHooNB2gR7wbAVMg03psRHr8qHqlPazIeQuRGluZo8V8EqaJndZo7ldPT2VCXhtE1+lV9HKBgZWYDehdhXaBHq4Da7njC4Y36hj1nlBOz+7tlpxtw/+rX4EzKuxRqPfe9IRDoZ3avxqNLql8UWVpn+ZARsQg9O7461er7efgKyUCvBlGYODXrfbO4B/15vKjBUwiOrGGsKCIDno26hiEPAF5uCI3BWee2BOs5FpOHOysdJa24D2c3ZmHCA721le3jmz+9BwOVUD6jXgbh/6czk9JYtqshG4/yqLKkPgj09avqMHtU5dZSg5C1bp2V4D62TFKjUBeryAoQNs/RO+aSuHKmbhKu52TdjPA/1aPRjFHyUOs49DA5+5y7rLM+sCv6yAW6/VZDCTywgzx9xOkYe3ykQqp9IzYRNCmWJwnL2hch9archVVjRewB2IillAzRTGqGIj4Jv+wcYY+dKssm4Xb1BDGznOiRPfNg0Mj7JOMnTUqx+s8o+7fehqOT01Sz/VBQiBcaufE1NZzsyGdm8zSTaL2z91evvbs5mZyXFojUx1e70kqdiWamUz2e3Z94Bxg9c14G4frwJuLaj1HEJY/DTra1SeM3MIhOCKOagnqHwRTz2428evgFutdT2U1XT+jXC62dy+Z9sAqoQz88jhI6/KHAP0uv2/nn4M7vbxLeBW610cEqaK4XSTuc4946nKODOPtG+qn3IcT3dgdc7rxt0+5Kec9sXSh+9m9LOxUMVwuqncn+/9wTZhVDln5pK1YdUSj0fom5muGeBuH/JTTgsWcVaMu4NER6LXfk3GvtvHp8TdPnH6qQfirBh3B4kPs0P/RKzNxw798RFnxbg7iDBL3O0Tp596IM6KcXcQYZa42ydOP/VAnBXj7iDCLHG3T5x+6oE4K8bdQYRZ4m6fOP3UA3FWjLuDCLPE3T5x+qkH4qwYdwcRZom7feL0Uw/EWTHuDiLMEnf7xOmnHoizYtwdRJgl7vaJ0089EGfFuDuIMEvc7ROnn3ogzopxdxBhlrjbJ04/9UCcFePuIMIscbdPnH7qgTgrRjZiDxveh92BOP3UA3FWjGzEHjZkHhGwD+KsGNmIPWj0PuwOxOmnHoizYmQj9qDR+7A7EKefeiDOipGN2ING78PuQJx+6oE4K0Y2Yg8avQ+7A3H6qQcirRjZiD1gzD7sDkTqp1OxkwBUMZhwewVa6MhG7OGS7cPuAPkppwXFLlWKprTPe6ORjdjDJduH3QHyUU4LCtyo3TAs7fPebGQj9lCx9mF3gJyU0wJjh+C4ArBsxB4s9j7sDpCTclpgrBAcWwCWjdgDJbcPuwPkpZwWNFkIji0AA7IRe3gU9mF3gLyU04LGhOD4ArBsxB4c5X3YHSA35bRg0CE4wgAsG7EHReU+7A6Qm3JaMHAIjjEAA7IRe5iYfdgdID/ltJChQnCUARiQjdhDJNuH3QHyU04LGRSCIw3ASCwbsce5D7sDtQh46eOnH+cN3yL4P1Av/8PpRnJ/fv75z8L2wDZxbMRO/svpJpPfh90BqgBO+2FxL4oe1t//TP/xv5xuMNdfxi+Nj2EjdvJfTjeV8j7sDlAFcNoHC3vqtT7N5z/NDsAZX2JeseHbfxuH5wpYz42KN5q//xVBACZ+Oz1g2iw8+2/z8FsBe+wyUfBfPkbAt2jXXPn13wbiswIW1RuXhPD45fSQeIPw6b+NxGcF8JNqwO3X9+uySu9lebP+9vMvtsdodB1pDPbpv43EYwX8yb4yOn/DJcJL88qs2PjOJZHh0X+bib8KeMuecu/4QKNQK6/1TNEnLogLf/7bULxVwAIvin/WejChPhZ1zybK/Ri8+W9T8VYBPAD9U54xDQ4eW4yyEe3Nf5uKrwpYUi8EuZf4Gx4LPJYVYwj25b+NxVcFfFI+Iv3fEOH3YH3jbEz48t/G4qsC1E0+0qHOxqN2VHmIsHvjy38bi6cKeEUeIvtWBgp3cNzf9xA8nvy3uXiqADUH7LStmjBD1DjWX5yLCE/+21w8VYBaLyBb7oTKe7KP6ytLG4An/20unirgBzmIDGGFiuri3HIuIjz5b3PxVAFqDEuWUAYL2eeBMxHhyX+bi6cKUMuwYn3kJQLUKBZnIsKT/zYXTxVA7hGhf0RDrAby5L/NxVMFxOof0RCrgTz5b3PxVAGx+kc0RGigmPdhnxyqAE5PQYT+ERcRGijmfdgnh/54Tk9BhP4RFxEaKOp92CeG/npOT0GE/hEXMRoo5n3YJ4b+ek5PQYz+ERUxGijqfdgnhf58Tk9BjP4RFVEaKOp92CeE/nxOT0GU/hETURoo6n3YJ4T+fk5PQZT+ERNxGijqfdgng/5+Tk9BnP4REXEaKO592CeCKoDTUxCnf0REpAaKex/2SaAK4PQUROof8RCpgWLfh/1pRMDzQawGwhA8zwFYBDwnVBpo6eOnH+fN3uO78fuw35+ff/7z+ft7i4DnhLKBFvd+qsJmE8c+7NdfnvssvQh4PigaaGHvtypqOtHsw/5lkU3jhgh4PigYaP1WFURANPuw//7IxnFCBDwf5A3EG1kJYfHtGW/eFwFPzka/v61Sy6vq2BxsAy3ybmdCaPxy7wmHL+AewEmbNhSvcHoy8IeQDued2U7ThBJbaXpECVdWNpPTZMtWP1+T69/ijG0gvd/oaHT79f36uioUXoY3628/8+ZzwLVzDA5fwHiBm5y2wAnAY05PBv6Qon/4LBEbAZ+m6YASbmzotfcn2coDLkHuzvbrW5FgGUjtogGcy2uAA+GV2hgBcN5djFyH01Ogzs4Zv+AFnnLa4gqKnytg0N9+m0sdMAKGm0fFFT1B9wRPfEciHpg2BeYsTuoKxJmB3qrk6F5ewx8Qr/V0/CcumBRyG05PgTo5Z/xCV1jqc25iqbOA8e1nJ33UfnrApQ4YAbfWttTRhSRNr7Yh8re3QMM3+v7BF5Wc9od4Velwl//BM8ZAC+oV3qOfspNzUCzqjo3jBoHkNZyeAnVuzvgFolZFl/MSS50FzKnNS0hXdawfJxPwc0jSI1ZtG+4gevmfVfvtLbqz1LMw0BiIB6B/RrjVaMPhoUXHRjS6TOgCvrksrVdfTdOz5wuYJHTF6cmZTsD7O5xotXppesnJfO3vYgO7lhisDcQbjd5L/A2OBR7LcgvBqN/gBQytz4JyTtN0fwoB4w0gdR7Imk7ANqBTjsaF2u/c1PRwjTbQJ5WQ/m+AvFI312+cnQzUb/AC7kIzOjfotAIhbGsaAaOEnNvQ/gQMrQfu1RdrfwMK6mhEawOpu7zzWKcwC76QcR6cejeo3+AFjAE3a4ACh2m6CXLKBNzdP+j3+0e7LPOtJMmGmXaSZA2PuT8UJGSaqr39o37/OOnl7hEVxUbAq0mi1K8SnR08934uoi9vJlB4sAzN4qSsevh7eLi5VPvHEIILF+IDNpDaZtR1oESYDdy/ecvZiWiGgKHFqzuNSHcIEdkS8Cp4veKKpNpag6QeuIYO5x1pC8qogAAJ8aqqlQv6JnBpz+FUFBsB5xNbA/W5K2uofJPLhrstaBRzYQZ0wVnu8BmV0EBr4xnja0/CBlJzwNdcKASGGsf6i3MTQW7G6SmgE9cn4BaoyVrMcYDh0xIw/REXfZQcdyCPzExt+zJNNyiV+0NBVkpv+zh9c9Pvo+KsOZyq4moB78IH+n0cfTKd1za0EED4fRzs3q0QMN6AOAmf4JQGxF3DMBYbSC0Y+MyFQmC8J/P85NxEoKc1QMCb9tKJ9h22MnMCPiI1roGM1IQTvmpFyRb0xR+z/1CIc6qhugOlx5Tqov7Vd8YUVwr4dDik1v0WKF53XlG/tNkWKHkI5VRoAf+up6Hhk5zSOI+uTwQb6AcdZAgrUFQP55ZzEwEO1AQBtyCYmRYqaBKkYgn4QjWc1fIO1YGEFDW6MdhVtFb7adrHYweEzk1p0hU31KuLKwWcDvm6IM0hGM451O0F/ESxflfh33WwLv8rnM59mdeTsIHUGJYsoQwVMs8DZyYC/asJAgbRmsUcN+T/II1ypIL2J+vpRI17QV9XR9XsD8VVjYNlTIFasjUiGLZV67W62NZtJmCVsoM+fDsbSMYFlJxklqFRbRrJ5dqH4E/3Fr+wgdQyrOe+/UGoGzWKxZmJAAdqhICx2cxRC4LrCRwqBQztT4593QFOPW1YH4I/lJ772TnC/i19rG3FQgDuEhd4HFNcKeCBGTKGfjc1pju5b+OMMycVq6Df7O5Qrn34zfoEzAchUNztAw7UCAHjUmKOddyarhLwMghYN33h3w/aV+md0RL9qcxAhUBQF94LNJ1UDS6NKbZ1axIkbWKfe7a9/LcLfeAdyJ8Y0VcI+KDOJjQfhEBxtw+5M6enwP3EE8MCpqkjTIA+zvCYF/DKzgEN+lp91346hMZsNh9M/6o4YlVvmbuCYqCmd8YUVwo4uwadgaP9pERuFLqDLWp7M3nIckoDjf7SjWl62EB8EALF3T7kz5yeAvcTTwwLGHuW1EIFB6fmryWe9gGoRGMEvIItZSsWQq6PiyuSDTPfC9HOfBzh4D6m2NZtIYHoC4K2gr3qxBbwKvTRB9Z8WJWAa51G4oMQKO72QZdvhoBx+SQczJqOTMAr4PNpegXS7FlNaOqUZkPXVVrBZU+5RRN9lR9TPKGA4dt63AyxBLwJt5QLGjwzlC6qnb9oX7CB+CAEirt9wF0aImAOvaBKJdFMwBAgb/BJWwDEYwS8XI7AnDLoqK6BOwFG5zHFEwoYrtB+XDgTMHwgPcy6v0TpoqAnzX+vV9hAfBACxd0+4EBNEfAaju50dFfY6AXnXczz8baAL9I76HHm+sCcMsBXcw/2D9MhHsYUl3VrEoi+ID2YpcCIqlKbaTosvQigeFHY7q+hBS0Cbgbu9kH9NkTAGGm7oC32byNgiHjG5S8yAUNXdLdzlx+F5pQB7gk0IMYs81PCY4onFDBPczFmGqk7yEdmRfGioLV+VQjSXmAD8UEIFHf7oH6bImBQRpI9228EDLrWPdYOiIQFvDbEvjJ8yEix4g/tQryzOpzQdCbpjSku69YkEH1BIFlrHhi+rE4LjYNcWFcULuoAvpvrfvuCDcQHIVDc7YP6bYqAcQlWtshJ68V+0AHVogSM79xADVohueoPBcHw6kkAl0Aq5VUXTyhgvKOYlVgYgNVp4dIrQmvuorrQza+I0j5gA/FBCBR3+6B/NUbAu3ixOrgZvYBqeekSjvKyXqFdTfEOBDTgb1T9obj+8ZTXSi+D2LktXl08qYChpaB/aI3uOZha4XZ4geyiVnvH8NGhvt14hg3EByFQ3O0DDtQcAZOuOJ3ppQd/QX+z0904Se/0GPUGfEvFO5A3N6Ir/1B8A8bN9lqr3duF5veFjpGVxZMKGMfL09Nep9VLhmnCo9Cg6ht6/yTDCsdrR+BTyE0NM0gEG4gPQqC424fchtNT4H7iiQGv5hSp0Xh4phdsOBPDjUQJGJ8m4rlYFL2KavABOubBRxA11hxPVfHEAu6c8Tdx1TMLeJ8LNPxHcU5xs5NdgGfYQHwQAsXdPuQ4nJ4C9xNPjC3g7jBb55/ppbUDURK4WsWhZ1TriTUQvKUb0WP+0M4xfTlN7+zlF1XFEwuYhsDpuzvYcaddHLjEUBTwVZ9f01MPbCA+CIHibh9yHk5PgfuJvdLp7Se7z299rm4luxVbJo0pnozeTrKPjym37fGwl4MNxAchUNztE4eAA2YlNyv8YrCB+CAEirt9RMA1Aw3riunfmcMG4oMQKO72EQHXC46h5R4/eiHYQHwQAsXdPiLgeknyqzJfDDYQH4RAcbePCNg/2329mqqL80l1Te06wQbiQ9T0zGzAxq5e9dMU3O0jAvYPdHtvTpPtnQN6q3Q2z/SSsIH4UAO7SZJUzWJDsdviMvwh/FLvueIzAt585gRAp7d/3D+19vawLqr37GmJiXC3jwjYPyBgA28V8eKwgfhQA7iUzDwUloHLSt3e0cdr0pDLZ82MGwEfwU884y6wqdfwXGWnty4qvTrOLRjwirt96JI4PQXuJ46ZlUPlA1f9+pZWOcIG4kMNoIvnd6AjLqH42QJO09NnCNAIuPBU6GRQr+eG17aaO1LuosCw9TxxIgIOiG4viL6vhg3EhxogFy+Nt+M6dXcBb0FLNTno46Mpbt8lsj5w9xnNH2g+XVCERSUP9dvT+KK2k1O6KjhDPS1pd/vQ1XB6CtxPLMwUNhAfagBcfFDucp6mUO4sYH5tWBcXuduv8JyMTMDPYTs90u2Ik+zSs4tqtZbxzaLZcy9ecbcPXosIOH7YQHyoAXDx0zQthLzVNLVUMBm2Vo4hCDoLZToBb2WtY3wQnJP2RUHb/AJEU8v6Onf7iIDnAzYQH2oAXHzLethTAQLcnUbA+IYV52bwdAK2gUY094PyAqZ/qWV9jrt9RMDzARuIDzUALo6rznJuDiHsBuT0fAHjK8Jy7wedBH8ChiY8x+OigPGNp3U8o+JuHxHwfMAG4kMNgIvztpEZIIDdnIBXD/uX6V1fb4zRS5Ksi7udqOcpc1qBX9C/2N5O+jdp/6iwOKNcbAS8nCQqSqpEd78/HPYPzVv9kZXk9Cq9Odmg05fGpY7MU+VFAdPLYfIlXnC3jwh4PmAD8aEGUMDYabRU0MZXAFsC3sSuI8FbU3WtheLQXVYvEM1pBSTEEl+jt/cjA3thSEWxEXA+sa2Gj3MvLaJ3NCHHbYj1JUFCQ5nlXhIwlrgtUJkId/vQ5XN6CtxPLMwUNhAfagAFTCGX8wAFZEvA8JH05iw5xUlytUZiO5s7vtTN1ZxWQPJK4QfwnWH/IOnjl7PN4aqKqwUMp+ofJme4Nk7fM2ijqrvT5AjOclIhYOt+VBYwiFv9uFfc7QN/ggh4DmAD8aEGSMDL9mIO6BIPu3kBH9A/dkAs3IEEGSjF75hhXVsrICG1lgoXt/H0Dr7aRN8lKosrBXwxVHtSrcDP684rzlKpr2wO8N2DRQFb7feygOEf3fr2E+FuH/gbfAhYbUy8xDkhOH6TgeoWsNl5DgF1HZF4tKMf6+4n6lIN7y7zK3txN2fuxNpaAaWrDZshwJrpnQ0Iuuqz1cWVAk6H/KP4nl/VscWr0IslaSO8gkTXoMxayFH4V7jj1DCK5W4f1K8HAd/SiV9zTggOsk/9AgZ5GLeGRjGo1BJwRqZzHvc6zpSYaWUZPjagNIQ7a4IKilVkrC6uFrCOpfgxFXZz38Z3DuYlugytbR3pKwSM7z3lpEfc7eNJwOd04nXOCaGxRPa5r13A2GnlidtNpY9KAYN29PAzfGEVVy2bdRHwQ2rVIr1VUOkcWrjW4DGOd1GiurhawKZlr4fK26YZgOAWVjmJ9iC6QwOCiV7A3+jEe5wTQuMN2ee6fgGzbAHo3mIDtULAy7gLrH7KcnUIX7i0trCCHzLcqYHebuE3IDbi4NKY4koBK8UjernJCjfPGWgv2BLF8elMvxUChg/E1IT+Qic+55wQGp/JPj/qFzBuxUqurhvTeQH3kjN8Pgkwj0knEH2trqwt4AMeA4Zop5TIUNQeW1wp4OyxJH1B8G17NWRuFLoD7exhYZf2goCPyjcmD7jbhyqK01OwTid+WOSsEBhqjOLjDASsW6ggAWr+WgJuH+BQEWMEjLtY2VKCHzrEh+c3e6bVu1N4poEFP6a4UsCZ0vUFwbfttw3aAl6Da7jLLeEsCxg+X8PLCt3tQ5XJ6Wm4pzN/5pwQFu/IOqNXMxAwTh5B4ITmrZpQygS8Qmsu+ofJRu/AflEJTgCZoesqreAncgsqoXeMbesxxRMKuPBtS8BbcJ854+DPlC8KusjZ8/7ecLcP1qkPAf9FZ36QiaQQWbgm6/x8joNMihYwCmOXhqnMrCwLGFq4lyxU+IwRMC4rznZorxRwIVhi9xrj45jiCQW8b99EbAHj5HIusgOli4Jvuz8n9TTu9vEl4Nfq1OcLnBcCQvWAcYxRJbjYK0bA3WF602oP0oHybyPgLZCpDmt2BL5IB9DsfmzAF3/Dmi6ij+CY1/jiSQS8me8DQ0RVp4XyodUgUBQvCu86RZH7wN0+vgTc+q7O/ZWzQjh8UKb5BUmVUsV+MQLG4LsBauWJV60XFK2Jl9BB1gKmgA3hz7RHKwQM7fErK9xBlrabGlM8oYBX4dtUQHRABnRaXN6RjahpihcFwb7i/UHT424fbwJ+pRZjjb5wXgiFD2yZd5BWKVXul0zAoIyTC71YKhMwiFav/scVVCzg1SEOVsP/TSO6QsAYHs2aCmsFRnXxhALGeeAs0sKX1WkhYdZ8ZOQvqnMEUbqWN9u528ebgHU7bfRDhqKDQtsFesCzETBKNWueGgFnDxbRIwhKwDgEjVM/IBvdiK4SMDRrs4liiJF8d6gunlDAeE4zkwt3ED4tXJC1OESTu6htuHHU8SgS4G4frGs/AubVWKPR7z3pCAfDOzV+NRrd0viiStO/eMYS8Br6lF7kZPQCHd07JYKdIchFCVjHO4zJ3IiuEjDeE/S8zipITN8JKosnFTA2lk9Vr3ztLoULwNO2uR1ewFzUykZyAX/doNzK9oK7fbCuPQl4UU02AvdfZVFlCPzxSct39KDWqasMJT1jCRhXNZnRpUwvIJHBTq+3c5be6RFg+EfuSuIQl0pVChi/nB7itw9Bdn3d3K4sLuvWJBBzQdQQuEp6vS24jSQ8Cg3t/2HfRn0ULuoCMrwIJb2oCNJecLcPXQ+np+W1mgxmchlh5pjbKfLwVplI5VTaL7aAoWlrepeZXkCjikFvWwm4A1/SoQwEpBrRlQLO9lsHgVnDv1XFEwu4tYsNZ+JITyOZi9SoT8JFZejJsBpwtw9dEaenZumnugAhMG71c2Iqyxmv2AJu3WXLhC29rIJIgJMVnGpFAYP6zBJH7IVSI7pawNDzVN++O8ueQEDKxZMLWL1eEgIqKBJSGMBxEjiH+qAWcL9/slNX9EXc7UOXxenpWVDrOYSw+GnW16g8Z2ZPp9d79pZHwEr1zkRjiidjrdej+wX0gin/srjbx6+AW611PZQlhMLte7YNoEo4I2S0888mvRTu9vEt4FbrnUg4JK5zz3iqMs4IGdBtz1rZL4e7ffwLGLrCH76b0U/hBbk/3/uDbcKocs4IhvZl7oGKF8PdPnUIWAgWdweJl46ejAKSMFrQImB/0IbOnI4HdweJl97ggAfUVs5ABPnB7RfC3T4i4DHEWTHuDhIvPVyzcZokpzSXFMbN2t0+cfqpB+KsGHcHiRda/8xc5N6/8XK424cun9OCRZwV4+4gEdPeOsG1kXf9Q+cN1OrC3T5x+qkH4qwYdwcRZom7feL0Uw/EWTHuDiLMEnf7xOmnHoizYtwdRJgl7vaJ0089EGfFuDuIMEvc7ROnn3ogzopxdxBhlrjbJ04/9UCcFePuIMIscbdPnH7qgTgrxt1BhFnibp84/dQDcVaMu4MIs8TdPnH6qQfirBh3BxFmibt94vRTD8RZMeoV0bIBTqj8JvtwZiLi9FMPxFkx6k13+g1ZQmiQeUTAPoizYtTbUuSlv4GyROa559xExOmnHoizYr6Rh+TesiOEwxsyzzXnJiJOP/VAnBXzhTzknHNCYKhtcH5wbiLi9FMPxFkx6+QhD7J9VZioIYqPnJuIOP3UA5FWjNov4zPnhKB4R8YZveLsRETqp9MTacWoN+8/yERSgCyod7nSNpITE6mfTk+kFfOafGR0LhtIhgdvBOs2xBipn05PrBXzXXnJV84KwfBBWeYXZyckVj+dhh18oyxVDCasvfBi4BXv1/+F80IgfGDDvOP8hJCfclpQ7FKlaGgD6ojQO/b/kKHokNBmcesBi4CrwO3iDcMpdtMLE7131e896QiHwju9F9Gt6/AiOSmnBcYOwbEF4FZr0Wz9ff9VFlUGwB+fzFZiD87L1MlJOS0wVgiOLwC3Wq/VZDCTywizxtxNkYe3bKLJIS/ltKDJQnB8ARhY+skOIwTF7TMeEyMv5bSgMSE4xgAMLKj1HEJQ/HzO8hpyU04LBh2CowzAyHok27D/G+F0s7l9z6Zxg9yU04KBQ3CkAZh4F4WEyUycbjLXz33EkyqA00KGCsHRBmBi6cN3M/zZVMhMnG4q9+d7f7BJ3KEK4LSQQSE45gAcCXPvv3NfAePAEBx3AI6Cufffua+AcUAIlgAcPnPvv7VUwNLHTz/Om969+k/6P5xqJvfn55//fH7fqiHU4r9Nwn8FLO7FsUzg73/9L6eazPUXp/c7NA7//tswfFfAwp56N3UE/JePTedLzI8d+fbfxuG5AtZzSzuFIPjt9Ja0ZuHZf5uH3wrYY5cRwuJbtA8O+vXfBuKzAhbVa8OF8PgVa0/Yp/82Ep8VwK9bAm6/vl+XR01fljfrbz//YnuMRteRxmCf/ttIPFbAn+wro/M3XCK8NK/MY0ffuSQyPPpvM/FXAW/ZU+4d38ol1MprPR//iQviwp//NhRvFbDAb3Z41kONQn0s6p5NlJuKevPfpuKtAngA+qe8KC04eGwxyka0N/9tKr4qYEm91fZe4m94LPBYVowh2Jf/NhZfFfBJ+Yj0f0OEX+b+jbMx4ct/G4uvClA3+UiHOhuP2hb4IcLujS//bSyeKuAVeUic4yQRwB0c95eWBo8n/20unipAzQFfc04IDTWO9RfnIsKT/zYXTxWg1gvIvtGh8p7s47rvTgPw5L/NxVMF/CAHkSGsUFFdnFvORYQn/20unipAjWHJEspgIfs8cCYiPPlvc/FUAWoZVtwvf2g0ahSLMxHhyX+bi6cKIPeI0D+iIVYDefLf5uKpAmL1j2iI1UCe/Le5eKqAWP0jGmI1kCf/bS6eKiBW/4iGWA3kyX+bi6cKiNU/oiFWA3ny3+biqQJi9Y9oiNVAnvy3uXiqgFj9IxpiNZAn/20uniogVv+IhlgN5Ml/m4unCojVP6IhVgN58t/m4qkCYvWPaIjVQJ78t7l4qoBY/SMaYjWQJ/9tLp4qIFb/iIZYDeTJf5uLpwqI1T+iIVYDefLf5uKpAmL1j2iI1UCe/Le5eKqAWP0jGmI1kCf/bS6eKiBW/4iGWA3kyX+bi6cKiNU/oiFWA3ny3+biqQJi9Y9oiNVAnvy3uXiqgIb5x2qS9Dg5JzTMQBPjyX+bi6cKaJh/bKdpwsk5oWEGmhhP/ttcPFVA0P7RtznEEhFwLHjy3+biqQKC9g/6GzV9LBEBxwLZlNNziacKCNo/6G/UTCLg7s4Wp4BcprEEbaApIJtyei7xVAFB+0f5L3xcwJv2v+YyzSVoA02BJ/9tLp4qIGj/KP+Fjws496+RtLaDNtAUJMn/IReeb7gypiBo/yj/hSLgeEiUD88xy1wT0xC0f8DfyCmNCDgeRMBzL+C13n5vldPIEwLubmyvcTKj3dvesn8jNII20FSIgOdbwL1TVQvDfZXvqyyS5DNE++COsv0VlVc/1TkcUCn/RoAEbaCpEAHPtYCvVB0gNMH0hIC7F5xNBzy5hD+1Yn7lVBWGR9AGEl6coP0DhMUpTSZgUOLRbq/bO4YPbWPBdpJATO4nQC+fAVYg0N7tri1vnMDHN7EEf+rgIr3YXl3ZRHGrwvAI2kDCixO0fzwq4OOuSkBL7E6lrH8FchmIyCcdSu2k6SUl4N8H6WEbk22QtSoMj6ANJLw4QfsHCBhjKLFLJZkqzXBUd2g6E2MFvJmmF5xsQWSmaAv/np5RSau1DOny+FYQBG0g4cUJ2j9AVoYbKslJlIHouqFS4wTcvrMGDNa4wwv/PjTDz2fcDg+PoA0kvDhB+wdrlxgvYOgFs/jGCXhVD3QhHW4uw79fUQFyUPG7YRC0gYQXJ2j/AN32NKqFWxDwcm83OYPw+oSAt6AHzD8DDNMBFsK/Z0PP0DM+5mRgBG0g4cUJ2j9AwJzSWKpc3j2D3q/iCQHv88cMOJ4F/36g/hmAjAhYaCBB+wdIjVOaTJX7rN6b/tMRGKeacmCHuPhhEbDQQIL2D5AapzRGddBpTa+SDVxW9XQf+AhayzyYreAILAIWmk7Q/jFewKvDdKiXXjwtYGhCl9dKioCFCAjaP8YLGAKw6cBmU0DjBIyDWJzMEAELERC0f4wXMIjWrH3M9YFz41I6swrNbVpyZSMCFiIgaP8YL+CrNNXvh96ET7GAIdJmMrQy7Zs0VSu5LETAQgQE7R/jBXxi1NfBpwRZwGvWislcBkQ+1I8Rtjrq0yJgIQKC9o/xAt4FRdJjgWt36aURcBe+gIGZHnPIZeAz/Nxwe3egVmWJgIUICNo/xgu4jQ/yXp2cQtv4ODECxgcV0v7RnRKmnVnFzw/7R2fwBV5WKQIWIiBo/wCxcUpjVLcCMZU4alsCXsH2tPmInWlnizlO1SMMImAhAoL2jyTJJKawNjfbPu2n/eO1VquXJOapos5B/66vs7kMfPXk8q5/auWtfdIgE+gT/UEbSHhxxD8CRwwkPIb4R+CIgYTHEP8IHDGQ8BjiH4EjBhIeQ/wjcMRAwmOIfwSOGEh4DPGPwBEDCY8h/hE4YiDhMcQ/AkcMJDyG+EfgiIGExxD/CBwxkPAY4h+BIwYSHkP8I3DEQMJjiH8EjhhIeAzxj8ARAwmPIf4ROGIg4THEPwJHDCQ8hvhH4IiBhMd4IP9Y4pwQHL/JQJwRhAK35B+vOScEB9lHBCyM4Zz8Y51zQmgskX3uOScIBb6Rg+xxTgiNN2Sfa84JQoEv5CDnnBNC4zPZ5wfnBKHAOjnIwyJnhcBQYxQfOScIRe7JQz5zTgiLd2Sd0SvOCkKRv8hDHmQiKUQWrsk6PzkrCCVek4uMzhc4LwSE6gHLGKPwCN+Vk3zlrBAOH5RpfnFWECp4pRZjjb5wXgiFD2yZd5wXhCq4nTb6IUPRQaHtIj1g4XHUaqzR6PeedISD4Z0avxqNbmV8UXicRTXZCNx/lUWVIfDHJy3f0YOsUxee4rWaDGZymebxb4TTjcTcTpGHt2wjQRjP0k/2lwhIEU43nluJv8IkLKj1HDEQk4B/Sv9XmJB1PZTVdOIR8O17to0gTMC7OCQci4CvZf2V4MjSh+9m9LOxxCDg+/O9P9gmgjBfkIA5LQhCwxABC0KDEQELQoMRAQtCgxEBC0KDEQELQoMRAQtCgxEBC0KDEQELQoMRAQtCgxEBC0KDEQELQoMRAQtCgxEBC0KDEQELQoMRAQtCgxEBC0Iz2UkAEjAm9rlUEIRGsEvi1RxyqSAIjaB9x9pFhl0uFQShGdghWAKwIDQMKwRLABaExpGFYAnAgtA4TAiWACwIDUSHYAnAgtBAOARLABaERqJCsARgQWgkFIIlAAtzydLHTz/OG76/2X9AwP/D6UZyf37++U/Z20xwZXEvin36//5n+o//5XSDuf7yiu0iCBOwsPebXafp/KfZATjjyyLbRhCeYv2Wvab5/P2vCAIw8fsjW0cQHmePXSYK/svHCPi2wAYShPEsfmN/EULjl/SEhSf5zt4yGt1+fb++zqXCy/Bm/e3nX2yP0ehaYrDwBH+yr4zO33CJ8NK8+ottMvrOJYJQzVv2lPt3XCCEwGs9H/+JCwShioV75Sc/l7hACINF3bN5zQWCUAEPQP+UvlZw8NiiNKKF8Sw9kJPcS/wNjwUey5IQLIzlk/IR6f+GyCt1d/3GWUEooW7y0koLky9knQfp3ghjeEUeIo20QOEOzlvOCkIBNQd8zTkhNNQ41l+cE4QCar3AZ84JofGe7POTc4JQ4Ac5iAxhhYrq4txyThAKqDEsWUIZLGSfB84IQgG1DEseeQkWNYrFGUEoQO4h/hEuYiDhMcQ/AkcMJDyG+EfgiIGExxD/CBwxkPAY4h+BIwYSHkP8I3DEQMJjiH8EjhhIeAzxj8ARAwmPIf4ROGIg4THEPwJHDCQ8hvhH4IiBhMcQ/wgcMZDwGOIfgSMGEh5D/CNwxEDCY4h/BI4YSHgM8Y/AEQMJjyH+EThiIOExxD8CRwwkPIb4R+CIgYTHEP8IHDGQ8BjiH4EjBhIeQ/wjcMRAwmPE4x/trZN9Tjry/G/OgHgMJNRBPP6xnaYJJx15/jdnQDwGEuogHv8QAQtzSDz+IQIW5pB4/EMELMwhwfvHykZycpZsrnAWWOv12pxstVZVBg4HaXrcA5Yh21WHleSkn2x08XPEBN8MjuANJLwogftH9yxlzowOb9I0k1pfZeCgwWBKMVV/d7hLnwQm+GZwBG4g4YUJ2z827lBYlyC8NB1scuGEAl7B714MsOi0Q58VAQvREbR/bIKqLtYg0d68guSqKq2SYaEhDAI+uEovepBcPoJvHuJHJ/pmcARtIOHFCdk/2iC4A053TtK0r5JVMgTsoShID9Mj7u/uQ0a1vyf4ZnCEbCDh5QnZP0B5p5wENUOLWDWiJxNweslp+oz6HRGwEBsB+0d7aFrNyG6anlFiQgFnX12FDjQlRMBCbATsH6C7LAC3Wt00vaHEZAK+4yQCwZuGsUTAQmwE7B9bWQ+YgIBMvdrJBKyiteKC47EIWIiNgP0jSdMdThKXk8sQ0jzwTJxw91kELMRGwP5xnKY4D2QAxVF+MgHbkjxL0w08ioCF2AjYPw7TdJuTBERgWlDpLuCryb8ZHAEbSAiAgP1jp9wHpqNuShOgzWoBH3EScfhmcARsICEAAvaPjTQ94STSTdMrSpzqCWEEtFkt4AtOAqsO3wyOgA0kBEDA/gGKHWYBE+eBlZ6haW0Gt9ZSW4Zm4ArSg+y5I/jCxN8MjoANJARAyP5xVFiJxXIGJZtVVhBTtQw3rU+DJLPmdxdi7cTfDI6QDSS8PCH7R/cOZMiBtAOCY0lCi1i3hEGRRoZQbBZvoIDTLZXuQs+X9TnBN4MjZAMJL0/Q/rEDIrvY6IAIN2/S9EY3ijF47kNm5Ti9uTAy7ECgBYmv4tNLIOB+mh6v8DdNS/zpbwZH0AYSXpyw/WObHue9of9nT/SvqlKQ3XAtmwzCHi6C41Eg4GQf0kNQb5pemdd5PP3N4AjbQMJLE7h/mDdyDOwp4S6ID7latWZzW51jKtQCbu2ATpETfpwfefKbwRG4gYQXJnj/6PaSk2S72Lrt7R6eJLi6it9spVjdT3bpkyTgVmfn4DTpWfJFnvhmcARvIOFFidM/lICjIE4DCb6I0z9EwMKcEKd/iICFOSFO/xABC3NCnP4hAhbmhDj9QwQszAlx+ocIWJgT4vQPEbAwJ8TpH7y5WQzEaSDBF+IfgSMGEh5D/CNwxEDCY4h/BI4YSHgM8Y/AEQMJjyH+EThiIOExxD8CRwwkPIb4R+CIgYTHEP8IHDGQ8BjiH4EjBhIe44H8Y4lzQnD8JgNxRhAK3JJ/vOacEBxkHxGwMIZz8o91zgmhsUT2ueecIBT4Rg6yxzkhNN6Qfa45JwgFvpCDnHNOCI3PZJ8fnBOEAuvkIA+LnBUCQ41RfOScIBS5Jw/5zDkhLN6RdUavOCsIRf4iD3mQiaQQWbgm6/zkrCCUeE0uMjpf4LwQEKoHLGOMwiN8V07ylbNCOHxQpvnFWUGo4JVajDX6wnkhFD6wZd5xXhCq4Hba6IcMRQeFtov0gIXHUauxRqPfe9IRDoZ3avxqNLqV8UXhcRbVZCNw/1UWVYbAH5+0fEcPsk5deIrXajKYyWWEmWNup8jDW7aRIIxn6Sf7ixAWtxJ/hUlYUOs5hLD4Kf1fYULW9VCWEAq379k2gjAB70TCIXEt668ER5Y+fDejn8ILcn++9wfbBGm1/n9nUvDm7d5x5AAAAABJRU5ErkJggg==)"
      ]
    },
    {
      "cell_type": "code",
      "source": [
        "from tensorflow import keras\n",
        "from tensorflow.keras import layers\n",
        "from tensorflow.keras import models\n",
        "\n",
        "### 여기 모형부분을 완성하세요.\n",
        "\n",
        "\n",
        "model.summary()"
      ],
      "metadata": {
        "colab": {
          "base_uri": "https://localhost:8080/"
        },
        "id": "DFFjqf6MjsnY",
        "outputId": "959d5d49-9a30-4d4e-f309-d28887617cd8"
      },
      "execution_count": null,
      "outputs": [
        {
          "output_type": "stream",
          "name": "stdout",
          "text": [
            "Model: \"sequential_5\"\n",
            "_________________________________________________________________\n",
            " Layer (type)                Output Shape              Param #   \n",
            "=================================================================\n",
            " conv2d_24 (Conv2D)          (None, 148, 148, 15)      420       \n",
            "                                                                 \n",
            " max_pooling2d_19 (MaxPoolin  (None, 74, 74, 15)       0         \n",
            " g2D)                                                            \n",
            "                                                                 \n",
            " conv2d_25 (Conv2D)          (None, 72, 72, 30)        4080      \n",
            "                                                                 \n",
            " max_pooling2d_20 (MaxPoolin  (None, 36, 36, 30)       0         \n",
            " g2D)                                                            \n",
            "                                                                 \n",
            " conv2d_26 (Conv2D)          (None, 34, 34, 60)        16260     \n",
            "                                                                 \n",
            " max_pooling2d_21 (MaxPoolin  (None, 17, 17, 60)       0         \n",
            " g2D)                                                            \n",
            "                                                                 \n",
            " conv2d_27 (Conv2D)          (None, 15, 15, 100)       54100     \n",
            "                                                                 \n",
            " max_pooling2d_22 (MaxPoolin  (None, 7, 7, 100)        0         \n",
            " g2D)                                                            \n",
            "                                                                 \n",
            " flatten_9 (Flatten)         (None, 4900)              0         \n",
            "                                                                 \n",
            " dense_9 (Dense)             (None, 1)                 4901      \n",
            "                                                                 \n",
            "=================================================================\n",
            "Total params: 79,761\n",
            "Trainable params: 79,761\n",
            "Non-trainable params: 0\n",
            "_________________________________________________________________\n"
          ]
        }
      ]
    },
    {
      "cell_type": "code",
      "source": [],
      "metadata": {
        "id": "d3hR5s5VBi0F"
      },
      "execution_count": null,
      "outputs": []
    },
    {
      "cell_type": "markdown",
      "source": [
        "(Q1-4) 아래와 같이 모형을 컴파일하세요.\n",
        "- loss 는 binary cross entrophy loss 또는 cross entrophy loss를 사용하세요 (앞 모형의 output 차원에 따라 적절하게 정의하세요)\n",
        "- optimizer 로 rmsprop을 사용하세요.\n",
        "- metric으로 accuracy를 사용하세요."
      ],
      "metadata": {
        "id": "xs5kmBmGBlE7"
      }
    },
    {
      "cell_type": "code",
      "source": [
        "from tensorflow.keras import optimizers\n",
        "\n",
        "model.compile(\n",
        "    # 이 부분을 완성하세요\n",
        ")"
      ],
      "metadata": {
        "id": "TPjNrdpi-FbW"
      },
      "execution_count": null,
      "outputs": []
    },
    {
      "cell_type": "markdown",
      "source": [
        "(Q1-5) 아래 코드를 완성하여 모형을 학습시키세요. \n",
        "\n",
        "- callback 은 validation accuracy 기준으로 가장 성능 좋은 모형을 저장하도록 설정하세요.\n",
        "- 10 epoch 만 트레이닝해 보세요."
      ],
      "metadata": {
        "id": "PP64kNcRCAbg"
      }
    },
    {
      "cell_type": "code",
      "source": [
        "callbacks = [\n",
        "## 해당 부분을 완성하세요\n",
        "]\n",
        "history = model.fit(\n",
        "## 해당 부분을 완성하세요\n",
        ")"
      ],
      "metadata": {
        "id": "mCZg526dCjL_"
      },
      "execution_count": null,
      "outputs": []
    },
    {
      "cell_type": "markdown",
      "source": [
        "(Q1-6) Data augmentation 을 추가로 적용해보세요. \n",
        "- RandomFlip으로 좌우, 상하방향 대칭을 추가하세요.\n",
        "- RandomZoom 을 적당한 파라메터로 추가하세요."
      ],
      "metadata": {
        "id": "5SZQlPnAC4Gv"
      }
    },
    {
      "cell_type": "code",
      "source": [
        "data_augmentation = keras.Sequential(\n",
        "    [\n",
        "## 해당 부분을 완성하세요.\n",
        "    ]\n",
        ")"
      ],
      "metadata": {
        "id": "byMhlOzqC5fn"
      },
      "execution_count": null,
      "outputs": []
    },
    {
      "cell_type": "markdown",
      "source": [
        "(Q1-7) 앞에서 정의한 모형에서 data augmentation 을 추가로 적용하여 20 epoch 만 학습시켜보고 validation accuracy 기준 가장 좋았던 결과를 알려주세요. "
      ],
      "metadata": {
        "id": "SlQxLcKxDdou"
      }
    },
    {
      "cell_type": "code",
      "source": [],
      "metadata": {
        "id": "vGsTWKz7DPU_"
      },
      "execution_count": null,
      "outputs": []
    },
    {
      "cell_type": "code",
      "source": [],
      "metadata": {
        "id": "9eN2wiN9mcM6"
      },
      "execution_count": null,
      "outputs": []
    },
    {
      "cell_type": "markdown",
      "source": [
        "## Q2 Use Jena climate data"
      ],
      "metadata": {
        "id": "2A8lwnIKm2eN"
      }
    },
    {
      "cell_type": "code",
      "source": [
        "!wget https://s3.amazonaws.com/keras-datasets/jena_climate_2009_2016.csv.zip\n",
        "!unzip jena_climate_2009_2016.csv.zip"
      ],
      "metadata": {
        "colab": {
          "base_uri": "https://localhost:8080/"
        },
        "id": "7KZwOfAOnsLB",
        "outputId": "1829b232-c3e1-4dd0-b058-8e585000588b"
      },
      "execution_count": null,
      "outputs": [
        {
          "output_type": "stream",
          "name": "stdout",
          "text": [
            "--2022-06-06 08:12:34--  https://s3.amazonaws.com/keras-datasets/jena_climate_2009_2016.csv.zip\n",
            "Resolving s3.amazonaws.com (s3.amazonaws.com)... 52.217.201.72\n",
            "Connecting to s3.amazonaws.com (s3.amazonaws.com)|52.217.201.72|:443... connected.\n",
            "HTTP request sent, awaiting response... 200 OK\n",
            "Length: 13565642 (13M) [application/zip]\n",
            "Saving to: ‘jena_climate_2009_2016.csv.zip’\n",
            "\n",
            "\r          jena_clim   0%[                    ]       0  --.-KB/s               \rjena_climate_2009_2 100%[===================>]  12.94M  --.-KB/s    in 0.1s    \n",
            "\n",
            "2022-06-06 08:12:34 (89.4 MB/s) - ‘jena_climate_2009_2016.csv.zip’ saved [13565642/13565642]\n",
            "\n",
            "Archive:  jena_climate_2009_2016.csv.zip\n",
            "  inflating: jena_climate_2009_2016.csv  \n",
            "  inflating: __MACOSX/._jena_climate_2009_2016.csv  \n"
          ]
        }
      ]
    },
    {
      "cell_type": "code",
      "source": [
        "import os\n",
        "fname = os.path.join(\"jena_climate_2009_2016.csv\")\n",
        "\n",
        "with open(fname) as f:\n",
        "    data = f.read()\n",
        "\n",
        "lines = data.split(\"\\n\")\n",
        "header = lines[0].split(\",\")\n",
        "lines = lines[1:]\n",
        "\n",
        "import numpy as np\n",
        "temperature = np.zeros((len(lines),))\n",
        "raw_data = np.zeros((len(lines), len(header) - 1))\n",
        "for i, line in enumerate(lines):\n",
        "    values = [float(x) for x in line.split(\",\")[1:]]\n",
        "    temperature[i] = values[1]\n",
        "    raw_data[i, :] = values[:]"
      ],
      "metadata": {
        "id": "4MmMkQkWnzC1"
      },
      "execution_count": null,
      "outputs": []
    },
    {
      "cell_type": "markdown",
      "source": [
        "전체 데이터 온도변화 시각화.. "
      ],
      "metadata": {
        "id": "JwTB4U4Ln-EY"
      }
    },
    {
      "cell_type": "code",
      "source": [
        "from matplotlib import pyplot as plt\n",
        "plt.plot(range(len(temperature)), temperature)"
      ],
      "metadata": {
        "colab": {
          "base_uri": "https://localhost:8080/",
          "height": 286
        },
        "id": "QjmLGij2n70u",
        "outputId": "68194f5b-582c-4b01-b39a-86584938ea47"
      },
      "execution_count": null,
      "outputs": [
        {
          "output_type": "execute_result",
          "data": {
            "text/plain": [
              "[<matplotlib.lines.Line2D at 0x7f1cbb263ad0>]"
            ]
          },
          "metadata": {},
          "execution_count": 45
        },
        {
          "output_type": "display_data",
          "data": {
            "text/plain": [
              "<Figure size 432x288 with 1 Axes>"
            ],
            "image/png": "[encoded data removed]"
          },
          "metadata": {
            "needs_background": "light"
          }
        }
      ]
    },
    {
      "cell_type": "markdown",
      "source": [
        "(Q2-1) 처음 7 일간 온도를 시각화해보세요. "
      ],
      "metadata": {
        "id": "iBpt-HV00iVF"
      }
    },
    {
      "cell_type": "code",
      "source": [],
      "metadata": {
        "id": "A8VjLGZToTbl"
      },
      "execution_count": null,
      "outputs": []
    },
    {
      "cell_type": "markdown",
      "source": [
        "Train, valid, test 데이터 나누기"
      ],
      "metadata": {
        "id": "AA5Ob7NHoXUH"
      }
    },
    {
      "cell_type": "code",
      "source": [
        "num_train_samples = int(0.5 * len(raw_data))\n",
        "num_val_samples = int(0.25 * len(raw_data))\n",
        "num_test_samples = len(raw_data) - num_train_samples - num_val_samples\n",
        "print(\"num_train_samples:\", num_train_samples)\n",
        "print(\"num_val_samples:\", num_val_samples)\n",
        "print(\"num_test_samples:\", num_test_samples)"
      ],
      "metadata": {
        "colab": {
          "base_uri": "https://localhost:8080/"
        },
        "id": "LdH3GR_QoHbt",
        "outputId": "7286c4b6-e30e-44c7-ab6a-cf88125ef2bd"
      },
      "execution_count": null,
      "outputs": [
        {
          "output_type": "stream",
          "name": "stdout",
          "text": [
            "num_train_samples: 210225\n",
            "num_val_samples: 105112\n",
            "num_test_samples: 105114\n"
          ]
        }
      ]
    },
    {
      "cell_type": "code",
      "source": [],
      "metadata": {
        "id": "0XNI01BjoQGW"
      },
      "execution_count": null,
      "outputs": []
    },
    {
      "cell_type": "markdown",
      "source": [
        "학습용 데이터의 평균과 분산을 사용한 표준화"
      ],
      "metadata": {
        "id": "FVBICkCSoQ9f"
      }
    },
    {
      "cell_type": "code",
      "source": [
        "mean = raw_data[:num_train_samples].mean(axis=0)\n",
        "raw_data -= mean\n",
        "std = raw_data[:num_train_samples].std(axis=0)\n",
        "raw_data /= std"
      ],
      "metadata": {
        "id": "tAdxKHSDoPAs"
      },
      "execution_count": null,
      "outputs": []
    },
    {
      "cell_type": "markdown",
      "source": [
        "(Q2-3) 아래의 코드를 수정해서 데이터 전처리를 진행하세요. \n",
        "- Jena데이터는 매 10분마다 기록되었습니다. 매 6개마다 추출하면 한시간당 한개의 샘플을 추출하게 됩니다. 코드를 수정하여 30분 마다 샘플을 추출하도록 해주세요. \n",
        "- 최근 3일간의 데이터를 보고 판별을 수행합니다. \n",
        "- 예측하고자 하는 시점은 하루 후 입니다. \n",
        "\n"
      ],
      "metadata": {
        "id": "e-0X_vhT00h2"
      }
    },
    {
      "cell_type": "code",
      "source": [
        "## 아래 ? 들을 완성하세요. \n",
        "\n",
        "sampling_rate = #?\n",
        "sequence_length = #?\n",
        "delay = #?\n",
        "batch_size = #?\n",
        "\n",
        "train_dataset = keras.utils.timeseries_dataset_from_array(\n",
        "    raw_data[:-delay],\n",
        "    targets=temperature[delay:],\n",
        "    sampling_rate=sampling_rate,\n",
        "    sequence_length=sequence_length,\n",
        "    shuffle=True,\n",
        "    batch_size=batch_size,\n",
        "    start_index=0,\n",
        "    end_index=num_train_samples)\n",
        "\n",
        "val_dataset = keras.utils.timeseries_dataset_from_array(\n",
        "    raw_data[:-delay],\n",
        "    targets=temperature[delay:],\n",
        "    sampling_rate=sampling_rate,\n",
        "    sequence_length=sequence_length,\n",
        "    shuffle=True,\n",
        "    batch_size=batch_size,\n",
        "    start_index=num_train_samples,\n",
        "    end_index=num_train_samples + num_val_samples)\n",
        "\n",
        "test_dataset = keras.utils.timeseries_dataset_from_array(\n",
        "    raw_data[:-delay],\n",
        "    targets=temperature[delay:],\n",
        "    sampling_rate=sampling_rate,\n",
        "    sequence_length=sequence_length,\n",
        "    shuffle=True,\n",
        "    batch_size=batch_size,\n",
        "    start_index=num_train_samples + num_val_samples)"
      ],
      "metadata": {
        "id": "kFNlAwNnoZot"
      },
      "execution_count": null,
      "outputs": []
    },
    {
      "cell_type": "code",
      "source": [
        "for samples, targets in train_dataset:\n",
        "    print(\"samples shape:\", samples.shape)\n",
        "    print(\"targets shape:\", targets.shape)\n",
        "    break"
      ],
      "metadata": {
        "colab": {
          "base_uri": "https://localhost:8080/"
        },
        "id": "PGXBPnvlorRP",
        "outputId": "43efb20d-d9da-4c70-c4b5-5ef5f4e2506f"
      },
      "execution_count": null,
      "outputs": [
        {
          "output_type": "stream",
          "name": "stdout",
          "text": [
            "samples shape: (256, 144, 14)\n",
            "targets shape: (256,)\n"
          ]
        }
      ]
    },
    {
      "cell_type": "markdown",
      "source": [
        "common sense baseline"
      ],
      "metadata": {
        "id": "FyDXQKyi0N0R"
      }
    },
    {
      "cell_type": "code",
      "source": [
        "def evaluate_naive_method(dataset):\n",
        "    total_abs_err = 0.\n",
        "    samples_seen = 0\n",
        "    for samples, targets in dataset:\n",
        "        preds = samples[:, -1, 1] * std[1] + mean[1]\n",
        "        total_abs_err += np.sum(np.abs(preds - targets))\n",
        "        samples_seen += samples.shape[0]\n",
        "    return total_abs_err / samples_seen\n",
        "\n",
        "print(f\"Validation MAE: {evaluate_naive_method(val_dataset):.2f}\")\n",
        "print(f\"Test MAE: {evaluate_naive_method(test_dataset):.2f}\")"
      ],
      "metadata": {
        "colab": {
          "base_uri": "https://localhost:8080/"
        },
        "id": "Fzm5xF82orG8",
        "outputId": "72296bd0-81ba-4590-a87b-d1961e6e79d7"
      },
      "execution_count": null,
      "outputs": [
        {
          "output_type": "stream",
          "name": "stdout",
          "text": [
            "Validation MAE: 2.44\n",
            "Test MAE: 2.62\n"
          ]
        }
      ]
    },
    {
      "cell_type": "markdown",
      "source": [
        "(Q2-4) 아래의 코드를 수정하여 임의의 \n",
        "- LSTM 모형, \n",
        "- bidirectional GRU모형\n",
        "을 정의해보고 5 epoch 씩만 학습을 진행해보세요.  "
      ],
      "metadata": {
        "id": "XHQq57LY0SwK"
      }
    },
    {
      "cell_type": "code",
      "source": [
        "from tensorflow import keras\n",
        "from tensorflow.keras import layers\n",
        "\n",
        "inputs = keras.Input(shape=(sequence_length, raw_data.shape[-1]))\n",
        "x = layers.Flatten()(inputs)\n",
        "x = layers.Dense(16, activation=\"relu\")(x)\n",
        "outputs = layers.Dense(1)(x)\n",
        "model = keras.Model(inputs, outputs)\n",
        "\n",
        "callbacks = [\n",
        "    keras.callbacks.ModelCheckpoint(\"jena_dense.keras\",\n",
        "                                    save_best_only=True)\n",
        "]\n",
        "model.compile(optimizer=\"rmsprop\", loss=\"mse\", metrics=[\"mae\"])\n",
        "history = model.fit(train_dataset,\n",
        "                    epochs=3,\n",
        "                    validation_data=val_dataset,\n",
        "                    callbacks=callbacks)\n",
        "\n",
        "model = keras.models.load_model(\"jena_dense.keras\")\n",
        "print(f\"Test MAE: {model.evaluate(test_dataset)[1]:.2f}\")"
      ],
      "metadata": {
        "colab": {
          "base_uri": "https://localhost:8080/"
        },
        "id": "WT0mMptfoq5J",
        "outputId": "06dff7ff-554d-4f2d-b771-ef18dfa4e021"
      },
      "execution_count": null,
      "outputs": [
        {
          "output_type": "stream",
          "name": "stdout",
          "text": [
            "Epoch 1/3\n",
            "819/819 [==============================] - 42s 51ms/step - loss: 13.5275 - mae: 2.8512 - val_loss: 13.4187 - val_mae: 2.8989\n",
            "Epoch 2/3\n",
            "819/819 [==============================] - 42s 51ms/step - loss: 9.5772 - mae: 2.4362 - val_loss: 11.8028 - val_mae: 2.7173\n",
            "Epoch 3/3\n",
            "819/819 [==============================] - 41s 50ms/step - loss: 8.6739 - mae: 2.3181 - val_loss: 10.8952 - val_mae: 2.5993\n",
            "405/405 [==============================] - 14s 33ms/step - loss: 11.8330 - mae: 2.7059\n",
            "Test MAE: 2.71\n"
          ]
        }
      ]
    },
    {
      "cell_type": "code",
      "metadata": {
        "id": "DSHyXp3nzOuI"
      },
      "source": [],
      "execution_count": null,
      "outputs": []
    },
    {
      "cell_type": "markdown",
      "source": [
        "## Q3 ImDB 데이터"
      ],
      "metadata": {
        "id": "lKUvp5F9HVoQ"
      }
    },
    {
      "cell_type": "code",
      "source": [
        "!curl -O https://ai.stanford.edu/~amaas/data/sentiment/aclImdb_v1.tar.gz\n",
        "!tar -xf aclImdb_v1.tar.gz"
      ],
      "metadata": {
        "colab": {
          "base_uri": "https://localhost:8080/"
        },
        "id": "7fq0mbJtHXxt",
        "outputId": "cbc8aea6-6fb2-42a1-c006-f9c569c5de20"
      },
      "execution_count": null,
      "outputs": [
        {
          "output_type": "stream",
          "name": "stdout",
          "text": [
            "  % Total    % Received % Xferd  Average Speed   Time    Time     Time  Current\n",
            "                                 Dload  Upload   Total   Spent    Left  Speed\n",
            "100 80.2M  100 80.2M    0     0  2664k      0  0:00:30  0:00:30 --:--:-- 3154k\n"
          ]
        }
      ]
    },
    {
      "cell_type": "code",
      "source": [
        "!rm -r aclImdb/train/unsup"
      ],
      "metadata": {
        "id": "jYO8SRyEHi-K"
      },
      "execution_count": null,
      "outputs": []
    },
    {
      "cell_type": "markdown",
      "source": [
        "하나의 positive text 예제"
      ],
      "metadata": {
        "id": "yHikVLcPH-f0"
      }
    },
    {
      "cell_type": "code",
      "source": [
        "!cat aclImdb/train/pos/4077_10.txt"
      ],
      "metadata": {
        "colab": {
          "base_uri": "https://localhost:8080/"
        },
        "id": "DFVXwaGoHl7L",
        "outputId": "397bf97d-c78f-4b0e-fc35-4291aefc7044"
      },
      "execution_count": null,
      "outputs": [
        {
          "output_type": "stream",
          "name": "stdout",
          "text": [
            "I first saw this back in the early 90s on UK TV, i did like it then but i missed the chance to tape it, many years passed but the film always stuck with me and i lost hope of seeing it TV again, the main thing that stuck with me was the end, the hole castle part really touched me, its easy to watch, has a great story, great music, the list goes on and on, its OK me saying how good it is but everyone will take there own best bits away with them once they have seen it, yes the animation is top notch and beautiful to watch, it does show its age in a very few parts but that has now become part of it beauty, i am so glad it has came out on DVD as it is one of my top 10 films of all time. Buy it or rent it just see it, best viewing is at night alone with drink and food in reach so you don't have to stop the film.<br /><br />Enjoy"
          ]
        }
      ]
    },
    {
      "cell_type": "markdown",
      "source": [
        "Validation 디렉토리를 만들고, 트레이닝 데이터의 0.2% 를 validation 디렉토리로 이동 "
      ],
      "metadata": {
        "id": "lAy5djMMIDvY"
      }
    },
    {
      "cell_type": "code",
      "source": [
        "import os, pathlib, shutil, random\n",
        "\n",
        "base_dir = pathlib.Path(\"aclImdb\")\n",
        "val_dir = base_dir / \"val\"\n",
        "train_dir = base_dir / \"train\"\n",
        "for category in (\"neg\", \"pos\"):\n",
        "    os.makedirs(val_dir / category)\n",
        "    files = os.listdir(train_dir / category)\n",
        "    random.Random(1337).shuffle(files)\n",
        "    num_val_samples = int(0.2 * len(files))\n",
        "    val_files = files[-num_val_samples:]\n",
        "    for fname in val_files:\n",
        "        shutil.move(train_dir / category / fname,\n",
        "                    val_dir / category / fname)"
      ],
      "metadata": {
        "id": "2Rm6aZY4Hqu8"
      },
      "execution_count": null,
      "outputs": []
    },
    {
      "cell_type": "markdown",
      "source": [
        "train, valid, test 데이터 만들기"
      ],
      "metadata": {
        "id": "98zU2qFgIRee"
      }
    },
    {
      "cell_type": "code",
      "source": [
        "from tensorflow import keras\n",
        "batch_size = 32\n",
        "\n",
        "train_ds = keras.utils.text_dataset_from_directory(\n",
        "    \"aclImdb/train\", batch_size=batch_size\n",
        ")\n",
        "val_ds = keras.utils.text_dataset_from_directory(\n",
        "    \"aclImdb/val\", batch_size=batch_size\n",
        ")\n",
        "test_ds = keras.utils.text_dataset_from_directory(\n",
        "    \"aclImdb/test\", batch_size=batch_size\n",
        ")"
      ],
      "metadata": {
        "colab": {
          "base_uri": "https://localhost:8080/"
        },
        "id": "uq0qvW-mHq_M",
        "outputId": "2cd85f87-ebbd-4bac-8dd6-a402d29d9b29"
      },
      "execution_count": null,
      "outputs": [
        {
          "output_type": "stream",
          "name": "stdout",
          "text": [
            "Found 20000 files belonging to 2 classes.\n",
            "Found 5000 files belonging to 2 classes.\n",
            "Found 25000 files belonging to 2 classes.\n"
          ]
        }
      ]
    },
    {
      "cell_type": "code",
      "source": [
        "for inputs, targets in train_ds:\n",
        "    print(\"inputs.shape:\", inputs.shape)\n",
        "    print(\"inputs.dtype:\", inputs.dtype)\n",
        "    print(\"targets.shape:\", targets.shape)\n",
        "    print(\"targets.dtype:\", targets.dtype)\n",
        "    print(\"inputs[0]:\", inputs[0])\n",
        "    print(\"targets[0]:\", targets[0])\n",
        "    break"
      ],
      "metadata": {
        "colab": {
          "base_uri": "https://localhost:8080/"
        },
        "id": "Edvhzn5SHzj8",
        "outputId": "f1cb972a-5483-4c8c-9df5-5d084def9a30"
      },
      "execution_count": null,
      "outputs": [
        {
          "output_type": "stream",
          "name": "stdout",
          "text": [
            "inputs.shape: (32,)\n",
            "inputs.dtype: <dtype: 'string'>\n",
            "targets.shape: (32,)\n",
            "targets.dtype: <dtype: 'int32'>\n",
            "inputs[0]: tf.Tensor(b'\"Match Point\" and now \"Scoop\" have both convinced me that not only is Woody Allen doing a neat job making movies in England (and that Scarlett Johansson is the right cast member), but corroborated what I have known for years: he shouldn\\'t focus on neurotic rich New Yorkers. In this case, Johansson plays journalism student Sondra Pransky, whom magician Sid Waterman (Allen) puts in his disappearing box, where she meets the ghost of murdered reporter Joe Strombel (Ian McShane), who tells her that the serial killings that have plagued London were committed by millionaire Peter Lyman (Hugh Jackman). So, she gets to know him, and...well, I don\\'t know how much I can tell you without giving it away. But I can say that this is probably Allen\\'s funniest movie in years. There\\'s his ubiquitous unique style of humor (especially the line about his religion).<br /><br />So, you\\'re sure to like this movie. If nothing else, it\\'ll make you fall in love with London. But mostly, it\\'s just so damn hilarious. Even if you don\\'t like Woody Allen, you gotta love this one.', shape=(), dtype=string)\n",
            "targets[0]: tf.Tensor(1, shape=(), dtype=int32)\n"
          ]
        }
      ]
    },
    {
      "cell_type": "markdown",
      "source": [
        "(Q3-1) bigram Bag of Words 모형을 만들고자 합니다. TextVectorization 클래스를 사용하여, multihot encoding을 통해 학습데이터를 전처리 후 학습을 진행해보고자 합니다. \n",
        "- max_tokens 로 상위 15000 개의 자주 사용된 단어들을 이용합니다. \n",
        "- 모형은 아래 정의된 모형을 get_model 함수를 통해 불러와주세요.\n",
        "- callback 없이 5 epoch 만 학습시켜보세요.\n",
        "- 가장 마지막에 학습된 모형으로 test 데이터에 대한 정확도를 알려주세요. "
      ],
      "metadata": {
        "id": "kNJ_V0boIa-i"
      }
    },
    {
      "cell_type": "code",
      "source": [
        "from tensorflow.keras.layers import TextVectorization\n",
        "\n",
        "from tensorflow import keras\n",
        "from tensorflow.keras import layers\n",
        "\n",
        "def get_model(max_tokens=20000, hidden_dim=16):\n",
        "    inputs = keras.Input(shape=(max_tokens,))\n",
        "    x = layers.Dense(hidden_dim, activation=\"relu\")(inputs)\n",
        "    x = layers.Dropout(0.5)(x)\n",
        "    outputs = layers.Dense(1, activation=\"sigmoid\")(x)\n",
        "    model = keras.Model(inputs, outputs)\n",
        "    model.compile(optimizer=\"rmsprop\",\n",
        "                  loss=\"binary_crossentropy\",\n",
        "                  metrics=[\"accuracy\"])\n",
        "    return model"
      ],
      "metadata": {
        "id": "n3nRBR8EH75I"
      },
      "execution_count": null,
      "outputs": []
    },
    {
      "cell_type": "markdown",
      "source": [
        "(Q3-2) 아래 정의된 TransformerEncoder, PositionalEmbedding 을 이용하여 영화 리뷰에 대한 긍정, 부정 판별모형을 만들어보고자 합니다. 아래 내용들을 고려해 모형을 학습시켜보세요.\n",
        "- 가장 많이 사용된 15000 개의 단어들을 모형에 고려함\n",
        "- 최대 문장길이로 550 을 고려함\n",
        "- 단어를 embedding 시키는 embedding layer의 차원으로는 200을 사용\n",
        "- multi-head attention 에서 헤드 갯수로 2개를 사용.\n",
        "- Transformer encoder의 dense layer 차원으로 30 을 사용\n",
        "- callback 없이 5 epoch 만 학습시켜보고, 가장 마지막에 학습된 모형을 사용하여 test 데이터에 대한 정확도를 구해보세요. "
      ],
      "metadata": {
        "id": "nfhaA9wmKWyt"
      }
    },
    {
      "cell_type": "code",
      "source": [
        "import tensorflow as tf\n",
        "from tensorflow import keras\n",
        "from tensorflow.keras import layers\n",
        "\n",
        "class TransformerEncoder(layers.Layer):\n",
        "    def __init__(self, embed_dim, dense_dim, num_heads, **kwargs):\n",
        "        super().__init__(**kwargs)\n",
        "        self.embed_dim = embed_dim\n",
        "        self.dense_dim = dense_dim\n",
        "        self.num_heads = num_heads\n",
        "        self.attention = layers.MultiHeadAttention(\n",
        "            num_heads=num_heads, key_dim=embed_dim)\n",
        "        self.dense_proj = keras.Sequential(\n",
        "            [layers.Dense(dense_dim, activation=\"relu\"),\n",
        "             layers.Dense(embed_dim),]\n",
        "        )\n",
        "        self.layernorm_1 = layers.LayerNormalization()\n",
        "        self.layernorm_2 = layers.LayerNormalization()\n",
        "\n",
        "    def call(self, inputs, mask=None):\n",
        "        if mask is not None:\n",
        "            mask = mask[:, tf.newaxis, :]\n",
        "        attention_output = self.attention(\n",
        "            inputs, inputs, attention_mask=mask)\n",
        "        proj_input = self.layernorm_1(inputs + attention_output)\n",
        "        proj_output = self.dense_proj(proj_input)\n",
        "        return self.layernorm_2(proj_input + proj_output)\n",
        "\n",
        "    def get_config(self):\n",
        "        config = super().get_config()\n",
        "        config.update({\n",
        "            \"embed_dim\": self.embed_dim,\n",
        "            \"num_heads\": self.num_heads,\n",
        "            \"dense_dim\": self.dense_dim,\n",
        "        })\n",
        "        return config\n",
        "\n",
        "class PositionalEmbedding(layers.Layer):\n",
        "    def __init__(self, sequence_length, input_dim, output_dim, **kwargs):\n",
        "        super().__init__(**kwargs)\n",
        "        self.token_embeddings = layers.Embedding(\n",
        "            input_dim=input_dim, output_dim=output_dim)\n",
        "        self.position_embeddings = layers.Embedding(\n",
        "            input_dim=sequence_length, output_dim=output_dim)\n",
        "        self.sequence_length = sequence_length\n",
        "        self.input_dim = input_dim\n",
        "        self.output_dim = output_dim\n",
        "\n",
        "    def call(self, inputs):\n",
        "        length = tf.shape(inputs)[-1]\n",
        "        positions = tf.range(start=0, limit=length, delta=1)\n",
        "        embedded_tokens = self.token_embeddings(inputs)\n",
        "        embedded_positions = self.position_embeddings(positions)\n",
        "        return embedded_tokens + embedded_positions\n",
        "\n",
        "    def compute_mask(self, inputs, mask=None):\n",
        "        return tf.math.not_equal(inputs, 0)\n",
        "\n",
        "    def get_config(self):\n",
        "        config = super().get_config()\n",
        "        config.update({\n",
        "            \"output_dim\": self.output_dim,\n",
        "            \"sequence_length\": self.sequence_length,\n",
        "            \"input_dim\": self.input_dim,\n",
        "        })\n",
        "        return config"
      ],
      "metadata": {
        "id": "2MhiHZvnJBLg"
      },
      "execution_count": null,
      "outputs": []
    }
  ]
}