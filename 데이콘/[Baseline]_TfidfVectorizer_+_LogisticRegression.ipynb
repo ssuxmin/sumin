{
  "cells": [
    {
      "cell_type": "markdown",
      "metadata": {
        "id": "view-in-github",
        "colab_type": "text"
      },
      "source": [
        "<a href=\"https://colab.research.google.com/github/ssuxmin/tmp/blob/main/%EB%8D%B0%EC%9D%B4%EC%BD%98/%5BBaseline%5D_TfidfVectorizer_%2B_LogisticRegression.ipynb\" target=\"_parent\"><img src=\"https://colab.research.google.com/assets/colab-badge.svg\" alt=\"Open In Colab\"/></a>"
      ]
    },
    {
      "cell_type": "code",
      "source": [
        "from google.colab import drive\n",
        "drive.mount('/content/drive')"
      ],
      "metadata": {
        "colab": {
          "base_uri": "https://localhost:8080/"
        },
        "id": "-E-iQHdHeWCC",
        "outputId": "fcacfb73-380c-417d-e6cd-a8b64c7475c6"
      },
      "id": "-E-iQHdHeWCC",
      "execution_count": null,
      "outputs": [
        {
          "output_type": "stream",
          "name": "stdout",
          "text": [
            "Mounted at /content/drive\n"
          ]
        }
      ]
    },
    {
      "cell_type": "code",
      "execution_count": null,
      "id": "7aebeef3",
      "metadata": {
        "id": "7aebeef3"
      },
      "outputs": [],
      "source": [
        "import pandas as pd\n",
        "import numpy as np\n",
        "import os\n",
        "\n",
        "from sklearn.feature_extraction.text import TfidfVectorizer\n",
        "from sklearn.linear_model import LogisticRegression"
      ]
    },
    {
      "cell_type": "code",
      "source": [
        "train = pd.read_csv('/content/drive/MyDrive/Colab Notebooks/law/train.csv')\n",
        "test = pd.read_csv('/content/drive/MyDrive/Colab Notebooks/law/test.csv')"
      ],
      "metadata": {
        "id": "uyA5RBhVeWok"
      },
      "id": "uyA5RBhVeWok",
      "execution_count": null,
      "outputs": []
    },
    {
      "cell_type": "code",
      "source": [
        "# /content/drive/MyDrive/Colab Notebooks/law"
      ],
      "metadata": {
        "id": "s9c48CCieWmN"
      },
      "id": "s9c48CCieWmN",
      "execution_count": null,
      "outputs": []
    },
    {
      "cell_type": "code",
      "source": [
        "train"
      ],
      "metadata": {
        "colab": {
          "base_uri": "https://localhost:8080/",
          "height": 814
        },
        "id": "2Ai-U_zheWjo",
        "outputId": "c4791455-999c-4811-ecd0-846cb68ffbf4"
      },
      "id": "2Ai-U_zheWjo",
      "execution_count": null,
      "outputs": [
        {
          "output_type": "execute_result",
          "data": {
            "text/plain": [
              "              ID                                   first_party  \\\n",
              "0     TRAIN_0000                             Phil A. St. Amant   \n",
              "1     TRAIN_0001                                Stephen Duncan   \n",
              "2     TRAIN_0002                             Billy Joe Magwood   \n",
              "3     TRAIN_0003                                    Linkletter   \n",
              "4     TRAIN_0004                            William Earl Fikes   \n",
              "...          ...                                           ...   \n",
              "2473  TRAIN_2473  HollyFrontier Cheyenne Refining, LLC, et al.   \n",
              "2474  TRAIN_2474           Grupo Mexicano de Desarrollo, S. A.   \n",
              "2475  TRAIN_2475                                       Peguero   \n",
              "2476  TRAIN_2476        Immigration and Naturalization Service   \n",
              "2477  TRAIN_2477                                       Markman   \n",
              "\n",
              "                             second_party  \\\n",
              "0                      Herman A. Thompson   \n",
              "1                          Lawrence Owens   \n",
              "2          Tony Patterson, Warden, et al.   \n",
              "3                                  Walker   \n",
              "4                                 Alabama   \n",
              "...                                   ...   \n",
              "2473  Renewable Fuels Association, et al.   \n",
              "2474             Alliance Bond Fund, Inc.   \n",
              "2475                        United States   \n",
              "2476                              St. Cyr   \n",
              "2477           Westview Instruments, Inc.   \n",
              "\n",
              "                                                  facts  first_party_winner  \n",
              "0     On June 27, 1962, Phil St. Amant, a candidate ...                   1  \n",
              "1     Ramon Nelson was riding his bike when he suffe...                   0  \n",
              "2     An Alabama state court convicted Billy Joe Mag...                   1  \n",
              "3     Victor Linkletter was convicted in state court...                   0  \n",
              "4     On April 24, 1953 in Selma, Alabama, an intrud...                   1  \n",
              "...                                                 ...                 ...  \n",
              "2473  Congress amended the Clean Air Act through the...                   1  \n",
              "2474  Alliance Bond Fund, Inc., an investment fund, ...                   1  \n",
              "2475  In 1992, the District Court sentenced Manuel D...                   0  \n",
              "2476  On March 8, 1996, Enrico St. Cyr, a lawful per...                   0  \n",
              "2477  Herbert Markman owns the patent to a system th...                   0  \n",
              "\n",
              "[2478 rows x 5 columns]"
            ],
            "text/html": [
              "\n",
              "  <div id=\"df-686eb379-1e5d-43b1-b6bc-d87d809f3b3b\">\n",
              "    <div class=\"colab-df-container\">\n",
              "      <div>\n",
              "<style scoped>\n",
              "    .dataframe tbody tr th:only-of-type {\n",
              "        vertical-align: middle;\n",
              "    }\n",
              "\n",
              "    .dataframe tbody tr th {\n",
              "        vertical-align: top;\n",
              "    }\n",
              "\n",
              "    .dataframe thead th {\n",
              "        text-align: right;\n",
              "    }\n",
              "</style>\n",
              "<table border=\"1\" class=\"dataframe\">\n",
              "  <thead>\n",
              "    <tr style=\"text-align: right;\">\n",
              "      <th></th>\n",
              "      <th>ID</th>\n",
              "      <th>first_party</th>\n",
              "      <th>second_party</th>\n",
              "      <th>facts</th>\n",
              "      <th>first_party_winner</th>\n",
              "    </tr>\n",
              "  </thead>\n",
              "  <tbody>\n",
              "    <tr>\n",
              "      <th>0</th>\n",
              "      <td>TRAIN_0000</td>\n",
              "      <td>Phil A. St. Amant</td>\n",
              "      <td>Herman A. Thompson</td>\n",
              "      <td>On June 27, 1962, Phil St. Amant, a candidate ...</td>\n",
              "      <td>1</td>\n",
              "    </tr>\n",
              "    <tr>\n",
              "      <th>1</th>\n",
              "      <td>TRAIN_0001</td>\n",
              "      <td>Stephen Duncan</td>\n",
              "      <td>Lawrence Owens</td>\n",
              "      <td>Ramon Nelson was riding his bike when he suffe...</td>\n",
              "      <td>0</td>\n",
              "    </tr>\n",
              "    <tr>\n",
              "      <th>2</th>\n",
              "      <td>TRAIN_0002</td>\n",
              "      <td>Billy Joe Magwood</td>\n",
              "      <td>Tony Patterson, Warden, et al.</td>\n",
              "      <td>An Alabama state court convicted Billy Joe Mag...</td>\n",
              "      <td>1</td>\n",
              "    </tr>\n",
              "    <tr>\n",
              "      <th>3</th>\n",
              "      <td>TRAIN_0003</td>\n",
              "      <td>Linkletter</td>\n",
              "      <td>Walker</td>\n",
              "      <td>Victor Linkletter was convicted in state court...</td>\n",
              "      <td>0</td>\n",
              "    </tr>\n",
              "    <tr>\n",
              "      <th>4</th>\n",
              "      <td>TRAIN_0004</td>\n",
              "      <td>William Earl Fikes</td>\n",
              "      <td>Alabama</td>\n",
              "      <td>On April 24, 1953 in Selma, Alabama, an intrud...</td>\n",
              "      <td>1</td>\n",
              "    </tr>\n",
              "    <tr>\n",
              "      <th>...</th>\n",
              "      <td>...</td>\n",
              "      <td>...</td>\n",
              "      <td>...</td>\n",
              "      <td>...</td>\n",
              "      <td>...</td>\n",
              "    </tr>\n",
              "    <tr>\n",
              "      <th>2473</th>\n",
              "      <td>TRAIN_2473</td>\n",
              "      <td>HollyFrontier Cheyenne Refining, LLC, et al.</td>\n",
              "      <td>Renewable Fuels Association, et al.</td>\n",
              "      <td>Congress amended the Clean Air Act through the...</td>\n",
              "      <td>1</td>\n",
              "    </tr>\n",
              "    <tr>\n",
              "      <th>2474</th>\n",
              "      <td>TRAIN_2474</td>\n",
              "      <td>Grupo Mexicano de Desarrollo, S. A.</td>\n",
              "      <td>Alliance Bond Fund, Inc.</td>\n",
              "      <td>Alliance Bond Fund, Inc., an investment fund, ...</td>\n",
              "      <td>1</td>\n",
              "    </tr>\n",
              "    <tr>\n",
              "      <th>2475</th>\n",
              "      <td>TRAIN_2475</td>\n",
              "      <td>Peguero</td>\n",
              "      <td>United States</td>\n",
              "      <td>In 1992, the District Court sentenced Manuel D...</td>\n",
              "      <td>0</td>\n",
              "    </tr>\n",
              "    <tr>\n",
              "      <th>2476</th>\n",
              "      <td>TRAIN_2476</td>\n",
              "      <td>Immigration and Naturalization Service</td>\n",
              "      <td>St. Cyr</td>\n",
              "      <td>On March 8, 1996, Enrico St. Cyr, a lawful per...</td>\n",
              "      <td>0</td>\n",
              "    </tr>\n",
              "    <tr>\n",
              "      <th>2477</th>\n",
              "      <td>TRAIN_2477</td>\n",
              "      <td>Markman</td>\n",
              "      <td>Westview Instruments, Inc.</td>\n",
              "      <td>Herbert Markman owns the patent to a system th...</td>\n",
              "      <td>0</td>\n",
              "    </tr>\n",
              "  </tbody>\n",
              "</table>\n",
              "<p>2478 rows × 5 columns</p>\n",
              "</div>\n",
              "      <button class=\"colab-df-convert\" onclick=\"convertToInteractive('df-686eb379-1e5d-43b1-b6bc-d87d809f3b3b')\"\n",
              "              title=\"Convert this dataframe to an interactive table.\"\n",
              "              style=\"display:none;\">\n",
              "        \n",
              "  <svg xmlns=\"http://www.w3.org/2000/svg\" height=\"24px\"viewBox=\"0 0 24 24\"\n",
              "       width=\"24px\">\n",
              "    <path d=\"M0 0h24v24H0V0z\" fill=\"none\"/>\n",
              "    <path d=\"M18.56 5.44l.94 2.06.94-2.06 2.06-.94-2.06-.94-.94-2.06-.94 2.06-2.06.94zm-11 1L8.5 8.5l.94-2.06 2.06-.94-2.06-.94L8.5 2.5l-.94 2.06-2.06.94zm10 10l.94 2.06.94-2.06 2.06-.94-2.06-.94-.94-2.06-.94 2.06-2.06.94z\"/><path d=\"M17.41 7.96l-1.37-1.37c-.4-.4-.92-.59-1.43-.59-.52 0-1.04.2-1.43.59L10.3 9.45l-7.72 7.72c-.78.78-.78 2.05 0 2.83L4 21.41c.39.39.9.59 1.41.59.51 0 1.02-.2 1.41-.59l7.78-7.78 2.81-2.81c.8-.78.8-2.07 0-2.86zM5.41 20L4 18.59l7.72-7.72 1.47 1.35L5.41 20z\"/>\n",
              "  </svg>\n",
              "      </button>\n",
              "      \n",
              "  <style>\n",
              "    .colab-df-container {\n",
              "      display:flex;\n",
              "      flex-wrap:wrap;\n",
              "      gap: 12px;\n",
              "    }\n",
              "\n",
              "    .colab-df-convert {\n",
              "      background-color: #E8F0FE;\n",
              "      border: none;\n",
              "      border-radius: 50%;\n",
              "      cursor: pointer;\n",
              "      display: none;\n",
              "      fill: #1967D2;\n",
              "      height: 32px;\n",
              "      padding: 0 0 0 0;\n",
              "      width: 32px;\n",
              "    }\n",
              "\n",
              "    .colab-df-convert:hover {\n",
              "      background-color: #E2EBFA;\n",
              "      box-shadow: 0px 1px 2px rgba(60, 64, 67, 0.3), 0px 1px 3px 1px rgba(60, 64, 67, 0.15);\n",
              "      fill: #174EA6;\n",
              "    }\n",
              "\n",
              "    [theme=dark] .colab-df-convert {\n",
              "      background-color: #3B4455;\n",
              "      fill: #D2E3FC;\n",
              "    }\n",
              "\n",
              "    [theme=dark] .colab-df-convert:hover {\n",
              "      background-color: #434B5C;\n",
              "      box-shadow: 0px 1px 3px 1px rgba(0, 0, 0, 0.15);\n",
              "      filter: drop-shadow(0px 1px 2px rgba(0, 0, 0, 0.3));\n",
              "      fill: #FFFFFF;\n",
              "    }\n",
              "  </style>\n",
              "\n",
              "      <script>\n",
              "        const buttonEl =\n",
              "          document.querySelector('#df-686eb379-1e5d-43b1-b6bc-d87d809f3b3b button.colab-df-convert');\n",
              "        buttonEl.style.display =\n",
              "          google.colab.kernel.accessAllowed ? 'block' : 'none';\n",
              "\n",
              "        async function convertToInteractive(key) {\n",
              "          const element = document.querySelector('#df-686eb379-1e5d-43b1-b6bc-d87d809f3b3b');\n",
              "          const dataTable =\n",
              "            await google.colab.kernel.invokeFunction('convertToInteractive',\n",
              "                                                     [key], {});\n",
              "          if (!dataTable) return;\n",
              "\n",
              "          const docLinkHtml = 'Like what you see? Visit the ' +\n",
              "            '<a target=\"_blank\" href=https://colab.research.google.com/notebooks/data_table.ipynb>data table notebook</a>'\n",
              "            + ' to learn more about interactive tables.';\n",
              "          element.innerHTML = '';\n",
              "          dataTable['output_type'] = 'display_data';\n",
              "          await google.colab.output.renderOutput(dataTable, element);\n",
              "          const docLink = document.createElement('div');\n",
              "          docLink.innerHTML = docLinkHtml;\n",
              "          element.appendChild(docLink);\n",
              "        }\n",
              "      </script>\n",
              "    </div>\n",
              "  </div>\n",
              "  "
            ]
          },
          "metadata": {},
          "execution_count": 5
        }
      ]
    },
    {
      "cell_type": "markdown",
      "source": [],
      "metadata": {
        "id": "jvKuI4Dzh8V3"
      },
      "id": "jvKuI4Dzh8V3"
    },
    {
      "cell_type": "code",
      "source": [
        "test"
      ],
      "metadata": {
        "colab": {
          "base_uri": "https://localhost:8080/",
          "height": 814
        },
        "id": "Ur5RX2A4hsKT",
        "outputId": "0581b851-6a6e-4137-d651-f1d35e6b1df9"
      },
      "id": "Ur5RX2A4hsKT",
      "execution_count": null,
      "outputs": [
        {
          "output_type": "execute_result",
          "data": {
            "text/plain": [
              "             ID                                        first_party  \\\n",
              "0     TEST_0000                                            Salerno   \n",
              "1     TEST_0001             Milberg Weiss Bershad Hynes and Lerach   \n",
              "2     TEST_0002  No. 07-582\\t Title: \\t Federal Communications ...   \n",
              "3     TEST_0003                                    Harold Kaufman    \n",
              "4     TEST_0004                                             Berger   \n",
              "...         ...                                                ...   \n",
              "1235  TEST_1235              Haitian Centers Council, Inc., et al.   \n",
              "1236  TEST_1236                                            Whitman   \n",
              "1237  TEST_1237                Linda A. Matteo and John J. Madigan   \n",
              "1238  TEST_1238      Washington State Apple Advertising Commission   \n",
              "1239  TEST_1239                                   Theodore Stovall   \n",
              "\n",
              "                                           second_party  \\\n",
              "0                                         United States   \n",
              "1                                         Lexecon, Inc.   \n",
              "2                 Fox Television Stations, Inc., et al.   \n",
              "3                                         United States   \n",
              "4                                                Hanlon   \n",
              "...                                                 ...   \n",
              "1235  Chris Sale, Acting Commissioner, Immigration A...   \n",
              "1236               American Trucking Associations, Inc.   \n",
              "1237                                    William G. Barr   \n",
              "1238                                               Hunt   \n",
              "1239                              Wilfred Denno, Warden   \n",
              "\n",
              "                                                  facts  \n",
              "0     The 1984 Bail Reform Act allowed the federal c...  \n",
              "1     Lexecon Inc. was a defendant in a class action...  \n",
              "2     In 2002 and 2003, Fox Television Stations broa...  \n",
              "3     During his trial for armed robbery of a federa...  \n",
              "4     In 1993, a magistrate judge issued a warrant a...  \n",
              "...                                                 ...  \n",
              "1235  According to Executive Order No. 12807 signed ...  \n",
              "1236  Section 109(a) of the Clean Air Act (CAA) requ...  \n",
              "1237  Linda Matteo and John Madigan created a plan f...  \n",
              "1238  In 1972, the North Carolina Board of Agricultu...  \n",
              "1239  On August 23, 1961, Dr. Paul Berheldt was stab...  \n",
              "\n",
              "[1240 rows x 4 columns]"
            ],
            "text/html": [
              "\n",
              "  <div id=\"df-1c2a061f-2aa9-482a-b326-98c83764f3b2\">\n",
              "    <div class=\"colab-df-container\">\n",
              "      <div>\n",
              "<style scoped>\n",
              "    .dataframe tbody tr th:only-of-type {\n",
              "        vertical-align: middle;\n",
              "    }\n",
              "\n",
              "    .dataframe tbody tr th {\n",
              "        vertical-align: top;\n",
              "    }\n",
              "\n",
              "    .dataframe thead th {\n",
              "        text-align: right;\n",
              "    }\n",
              "</style>\n",
              "<table border=\"1\" class=\"dataframe\">\n",
              "  <thead>\n",
              "    <tr style=\"text-align: right;\">\n",
              "      <th></th>\n",
              "      <th>ID</th>\n",
              "      <th>first_party</th>\n",
              "      <th>second_party</th>\n",
              "      <th>facts</th>\n",
              "    </tr>\n",
              "  </thead>\n",
              "  <tbody>\n",
              "    <tr>\n",
              "      <th>0</th>\n",
              "      <td>TEST_0000</td>\n",
              "      <td>Salerno</td>\n",
              "      <td>United States</td>\n",
              "      <td>The 1984 Bail Reform Act allowed the federal c...</td>\n",
              "    </tr>\n",
              "    <tr>\n",
              "      <th>1</th>\n",
              "      <td>TEST_0001</td>\n",
              "      <td>Milberg Weiss Bershad Hynes and Lerach</td>\n",
              "      <td>Lexecon, Inc.</td>\n",
              "      <td>Lexecon Inc. was a defendant in a class action...</td>\n",
              "    </tr>\n",
              "    <tr>\n",
              "      <th>2</th>\n",
              "      <td>TEST_0002</td>\n",
              "      <td>No. 07-582\\t Title: \\t Federal Communications ...</td>\n",
              "      <td>Fox Television Stations, Inc., et al.</td>\n",
              "      <td>In 2002 and 2003, Fox Television Stations broa...</td>\n",
              "    </tr>\n",
              "    <tr>\n",
              "      <th>3</th>\n",
              "      <td>TEST_0003</td>\n",
              "      <td>Harold Kaufman</td>\n",
              "      <td>United States</td>\n",
              "      <td>During his trial for armed robbery of a federa...</td>\n",
              "    </tr>\n",
              "    <tr>\n",
              "      <th>4</th>\n",
              "      <td>TEST_0004</td>\n",
              "      <td>Berger</td>\n",
              "      <td>Hanlon</td>\n",
              "      <td>In 1993, a magistrate judge issued a warrant a...</td>\n",
              "    </tr>\n",
              "    <tr>\n",
              "      <th>...</th>\n",
              "      <td>...</td>\n",
              "      <td>...</td>\n",
              "      <td>...</td>\n",
              "      <td>...</td>\n",
              "    </tr>\n",
              "    <tr>\n",
              "      <th>1235</th>\n",
              "      <td>TEST_1235</td>\n",
              "      <td>Haitian Centers Council, Inc., et al.</td>\n",
              "      <td>Chris Sale, Acting Commissioner, Immigration A...</td>\n",
              "      <td>According to Executive Order No. 12807 signed ...</td>\n",
              "    </tr>\n",
              "    <tr>\n",
              "      <th>1236</th>\n",
              "      <td>TEST_1236</td>\n",
              "      <td>Whitman</td>\n",
              "      <td>American Trucking Associations, Inc.</td>\n",
              "      <td>Section 109(a) of the Clean Air Act (CAA) requ...</td>\n",
              "    </tr>\n",
              "    <tr>\n",
              "      <th>1237</th>\n",
              "      <td>TEST_1237</td>\n",
              "      <td>Linda A. Matteo and John J. Madigan</td>\n",
              "      <td>William G. Barr</td>\n",
              "      <td>Linda Matteo and John Madigan created a plan f...</td>\n",
              "    </tr>\n",
              "    <tr>\n",
              "      <th>1238</th>\n",
              "      <td>TEST_1238</td>\n",
              "      <td>Washington State Apple Advertising Commission</td>\n",
              "      <td>Hunt</td>\n",
              "      <td>In 1972, the North Carolina Board of Agricultu...</td>\n",
              "    </tr>\n",
              "    <tr>\n",
              "      <th>1239</th>\n",
              "      <td>TEST_1239</td>\n",
              "      <td>Theodore Stovall</td>\n",
              "      <td>Wilfred Denno, Warden</td>\n",
              "      <td>On August 23, 1961, Dr. Paul Berheldt was stab...</td>\n",
              "    </tr>\n",
              "  </tbody>\n",
              "</table>\n",
              "<p>1240 rows × 4 columns</p>\n",
              "</div>\n",
              "      <button class=\"colab-df-convert\" onclick=\"convertToInteractive('df-1c2a061f-2aa9-482a-b326-98c83764f3b2')\"\n",
              "              title=\"Convert this dataframe to an interactive table.\"\n",
              "              style=\"display:none;\">\n",
              "        \n",
              "  <svg xmlns=\"http://www.w3.org/2000/svg\" height=\"24px\"viewBox=\"0 0 24 24\"\n",
              "       width=\"24px\">\n",
              "    <path d=\"M0 0h24v24H0V0z\" fill=\"none\"/>\n",
              "    <path d=\"M18.56 5.44l.94 2.06.94-2.06 2.06-.94-2.06-.94-.94-2.06-.94 2.06-2.06.94zm-11 1L8.5 8.5l.94-2.06 2.06-.94-2.06-.94L8.5 2.5l-.94 2.06-2.06.94zm10 10l.94 2.06.94-2.06 2.06-.94-2.06-.94-.94-2.06-.94 2.06-2.06.94z\"/><path d=\"M17.41 7.96l-1.37-1.37c-.4-.4-.92-.59-1.43-.59-.52 0-1.04.2-1.43.59L10.3 9.45l-7.72 7.72c-.78.78-.78 2.05 0 2.83L4 21.41c.39.39.9.59 1.41.59.51 0 1.02-.2 1.41-.59l7.78-7.78 2.81-2.81c.8-.78.8-2.07 0-2.86zM5.41 20L4 18.59l7.72-7.72 1.47 1.35L5.41 20z\"/>\n",
              "  </svg>\n",
              "      </button>\n",
              "      \n",
              "  <style>\n",
              "    .colab-df-container {\n",
              "      display:flex;\n",
              "      flex-wrap:wrap;\n",
              "      gap: 12px;\n",
              "    }\n",
              "\n",
              "    .colab-df-convert {\n",
              "      background-color: #E8F0FE;\n",
              "      border: none;\n",
              "      border-radius: 50%;\n",
              "      cursor: pointer;\n",
              "      display: none;\n",
              "      fill: #1967D2;\n",
              "      height: 32px;\n",
              "      padding: 0 0 0 0;\n",
              "      width: 32px;\n",
              "    }\n",
              "\n",
              "    .colab-df-convert:hover {\n",
              "      background-color: #E2EBFA;\n",
              "      box-shadow: 0px 1px 2px rgba(60, 64, 67, 0.3), 0px 1px 3px 1px rgba(60, 64, 67, 0.15);\n",
              "      fill: #174EA6;\n",
              "    }\n",
              "\n",
              "    [theme=dark] .colab-df-convert {\n",
              "      background-color: #3B4455;\n",
              "      fill: #D2E3FC;\n",
              "    }\n",
              "\n",
              "    [theme=dark] .colab-df-convert:hover {\n",
              "      background-color: #434B5C;\n",
              "      box-shadow: 0px 1px 3px 1px rgba(0, 0, 0, 0.15);\n",
              "      filter: drop-shadow(0px 1px 2px rgba(0, 0, 0, 0.3));\n",
              "      fill: #FFFFFF;\n",
              "    }\n",
              "  </style>\n",
              "\n",
              "      <script>\n",
              "        const buttonEl =\n",
              "          document.querySelector('#df-1c2a061f-2aa9-482a-b326-98c83764f3b2 button.colab-df-convert');\n",
              "        buttonEl.style.display =\n",
              "          google.colab.kernel.accessAllowed ? 'block' : 'none';\n",
              "\n",
              "        async function convertToInteractive(key) {\n",
              "          const element = document.querySelector('#df-1c2a061f-2aa9-482a-b326-98c83764f3b2');\n",
              "          const dataTable =\n",
              "            await google.colab.kernel.invokeFunction('convertToInteractive',\n",
              "                                                     [key], {});\n",
              "          if (!dataTable) return;\n",
              "\n",
              "          const docLinkHtml = 'Like what you see? Visit the ' +\n",
              "            '<a target=\"_blank\" href=https://colab.research.google.com/notebooks/data_table.ipynb>data table notebook</a>'\n",
              "            + ' to learn more about interactive tables.';\n",
              "          element.innerHTML = '';\n",
              "          dataTable['output_type'] = 'display_data';\n",
              "          await google.colab.output.renderOutput(dataTable, element);\n",
              "          const docLink = document.createElement('div');\n",
              "          docLink.innerHTML = docLinkHtml;\n",
              "          element.appendChild(docLink);\n",
              "        }\n",
              "      </script>\n",
              "    </div>\n",
              "  </div>\n",
              "  "
            ]
          },
          "metadata": {},
          "execution_count": 18
        }
      ]
    },
    {
      "cell_type": "code",
      "source": [],
      "metadata": {
        "id": "VKbyJsyJeU4A"
      },
      "id": "VKbyJsyJeU4A",
      "execution_count": null,
      "outputs": []
    },
    {
      "cell_type": "code",
      "execution_count": null,
      "id": "dc13fc3c-c1b1-4b77-9ea2-8742c3633345",
      "metadata": {
        "id": "dc13fc3c-c1b1-4b77-9ea2-8742c3633345"
      },
      "outputs": [],
      "source": []
    },
    {
      "cell_type": "markdown",
      "id": "fa1440cf-2e5e-4644-b9e2-0be81c46610b",
      "metadata": {
        "id": "fa1440cf-2e5e-4644-b9e2-0be81c46610b"
      },
      "source": [
        "## Data Preprocessing"
      ]
    },
    {
      "cell_type": "code",
      "execution_count": null,
      "id": "8a440bd5-19ee-4c3c-b21e-5c0eb24bb826",
      "metadata": {
        "id": "8a440bd5-19ee-4c3c-b21e-5c0eb24bb826"
      },
      "outputs": [],
      "source": [
        "vectorizer = TfidfVectorizer()\n",
        "def get_vector(vectorizer, df, train_mode):\n",
        "    if train_mode:\n",
        "        X_facts = vectorizer.fit_transform(df['facts'])\n",
        "    else:\n",
        "        X_facts = vectorizer.transform(df['facts'])\n",
        "    X_party1 = vectorizer.transform(df['first_party'])\n",
        "    X_party2 = vectorizer.transform(df['second_party'])\n",
        "    \n",
        "    X = np.concatenate([X_party1.todense(), X_party2.todense(), X_facts.todense()], axis=1)\n",
        "    return X"
      ]
    },
    {
      "cell_type": "code",
      "source": [],
      "metadata": {
        "id": "k6Frg6bRhYIY"
      },
      "id": "k6Frg6bRhYIY",
      "execution_count": null,
      "outputs": []
    },
    {
      "cell_type": "code",
      "execution_count": null,
      "id": "fae10e03-4a60-4dd6-988d-01e80d704cb4",
      "metadata": {
        "id": "fae10e03-4a60-4dd6-988d-01e80d704cb4"
      },
      "outputs": [],
      "source": [
        "X_train = get_vector(vectorizer, train, True)\n",
        "Y_train = train[\"first_party_winner\"]\n",
        "X_test = get_vector(vectorizer, test, False)"
      ]
    },
    {
      "cell_type": "code",
      "source": [
        "from sklearn.utils import all_estimators\n",
        "\n",
        "classifiers = all_estimators(type_filter='classifier')\n",
        "for name, ClassifierClass in classifiers:\n",
        "    print(name)\n",
        "\n"
      ],
      "metadata": {
        "id": "tUOEzY2BfspM",
        "colab": {
          "base_uri": "https://localhost:8080/"
        },
        "outputId": "49b30289-d2cd-40c7-d22a-2a21e3cd4948"
      },
      "id": "tUOEzY2BfspM",
      "execution_count": null,
      "outputs": [
        {
          "output_type": "stream",
          "name": "stdout",
          "text": [
            "AdaBoostClassifier\n",
            "BaggingClassifier\n",
            "BernoulliNB\n",
            "CalibratedClassifierCV\n",
            "CategoricalNB\n",
            "ClassifierChain\n",
            "ComplementNB\n",
            "DecisionTreeClassifier\n",
            "DummyClassifier\n",
            "ExtraTreeClassifier\n",
            "ExtraTreesClassifier\n",
            "GaussianNB\n",
            "GaussianProcessClassifier\n",
            "GradientBoostingClassifier\n",
            "HistGradientBoostingClassifier\n",
            "KNeighborsClassifier\n",
            "LabelPropagation\n",
            "LabelSpreading\n",
            "LinearDiscriminantAnalysis\n",
            "LinearSVC\n",
            "LogisticRegression\n",
            "LogisticRegressionCV\n",
            "MLPClassifier\n",
            "MultiOutputClassifier\n",
            "MultinomialNB\n",
            "NearestCentroid\n",
            "NuSVC\n",
            "OneVsOneClassifier\n",
            "OneVsRestClassifier\n",
            "OutputCodeClassifier\n",
            "PassiveAggressiveClassifier\n",
            "Perceptron\n",
            "QuadraticDiscriminantAnalysis\n",
            "RadiusNeighborsClassifier\n",
            "RandomForestClassifier\n",
            "RidgeClassifier\n",
            "RidgeClassifierCV\n",
            "SGDClassifier\n",
            "SVC\n",
            "StackingClassifier\n",
            "VotingClassifier\n"
          ]
        }
      ]
    },
    {
      "cell_type": "markdown",
      "id": "7e8b3119-8c8b-47e9-a73b-80513b6d07f0",
      "metadata": {
        "id": "7e8b3119-8c8b-47e9-a73b-80513b6d07f0"
      },
      "source": [
        "## Define Model & Train"
      ]
    },
    {
      "cell_type": "code",
      "execution_count": null,
      "id": "0d50e7ee",
      "metadata": {
        "colab": {
          "base_uri": "https://localhost:8080/",
          "height": 74
        },
        "id": "0d50e7ee",
        "outputId": "2376f78b-0259-4eb9-e797-c2666eb51530"
      },
      "outputs": [
        {
          "output_type": "execute_result",
          "data": {
            "text/plain": [
              "LogisticRegression()"
            ],
            "text/html": [
              "<style>#sk-container-id-1 {color: black;background-color: white;}#sk-container-id-1 pre{padding: 0;}#sk-container-id-1 div.sk-toggleable {background-color: white;}#sk-container-id-1 label.sk-toggleable__label {cursor: pointer;display: block;width: 100%;margin-bottom: 0;padding: 0.3em;box-sizing: border-box;text-align: center;}#sk-container-id-1 label.sk-toggleable__label-arrow:before {content: \"▸\";float: left;margin-right: 0.25em;color: #696969;}#sk-container-id-1 label.sk-toggleable__label-arrow:hover:before {color: black;}#sk-container-id-1 div.sk-estimator:hover label.sk-toggleable__label-arrow:before {color: black;}#sk-container-id-1 div.sk-toggleable__content {max-height: 0;max-width: 0;overflow: hidden;text-align: left;background-color: #f0f8ff;}#sk-container-id-1 div.sk-toggleable__content pre {margin: 0.2em;color: black;border-radius: 0.25em;background-color: #f0f8ff;}#sk-container-id-1 input.sk-toggleable__control:checked~div.sk-toggleable__content {max-height: 200px;max-width: 100%;overflow: auto;}#sk-container-id-1 input.sk-toggleable__control:checked~label.sk-toggleable__label-arrow:before {content: \"▾\";}#sk-container-id-1 div.sk-estimator input.sk-toggleable__control:checked~label.sk-toggleable__label {background-color: #d4ebff;}#sk-container-id-1 div.sk-label input.sk-toggleable__control:checked~label.sk-toggleable__label {background-color: #d4ebff;}#sk-container-id-1 input.sk-hidden--visually {border: 0;clip: rect(1px 1px 1px 1px);clip: rect(1px, 1px, 1px, 1px);height: 1px;margin: -1px;overflow: hidden;padding: 0;position: absolute;width: 1px;}#sk-container-id-1 div.sk-estimator {font-family: monospace;background-color: #f0f8ff;border: 1px dotted black;border-radius: 0.25em;box-sizing: border-box;margin-bottom: 0.5em;}#sk-container-id-1 div.sk-estimator:hover {background-color: #d4ebff;}#sk-container-id-1 div.sk-parallel-item::after {content: \"\";width: 100%;border-bottom: 1px solid gray;flex-grow: 1;}#sk-container-id-1 div.sk-label:hover label.sk-toggleable__label {background-color: #d4ebff;}#sk-container-id-1 div.sk-serial::before {content: \"\";position: absolute;border-left: 1px solid gray;box-sizing: border-box;top: 0;bottom: 0;left: 50%;z-index: 0;}#sk-container-id-1 div.sk-serial {display: flex;flex-direction: column;align-items: center;background-color: white;padding-right: 0.2em;padding-left: 0.2em;position: relative;}#sk-container-id-1 div.sk-item {position: relative;z-index: 1;}#sk-container-id-1 div.sk-parallel {display: flex;align-items: stretch;justify-content: center;background-color: white;position: relative;}#sk-container-id-1 div.sk-item::before, #sk-container-id-1 div.sk-parallel-item::before {content: \"\";position: absolute;border-left: 1px solid gray;box-sizing: border-box;top: 0;bottom: 0;left: 50%;z-index: -1;}#sk-container-id-1 div.sk-parallel-item {display: flex;flex-direction: column;z-index: 1;position: relative;background-color: white;}#sk-container-id-1 div.sk-parallel-item:first-child::after {align-self: flex-end;width: 50%;}#sk-container-id-1 div.sk-parallel-item:last-child::after {align-self: flex-start;width: 50%;}#sk-container-id-1 div.sk-parallel-item:only-child::after {width: 0;}#sk-container-id-1 div.sk-dashed-wrapped {border: 1px dashed gray;margin: 0 0.4em 0.5em 0.4em;box-sizing: border-box;padding-bottom: 0.4em;background-color: white;}#sk-container-id-1 div.sk-label label {font-family: monospace;font-weight: bold;display: inline-block;line-height: 1.2em;}#sk-container-id-1 div.sk-label-container {text-align: center;}#sk-container-id-1 div.sk-container {/* jupyter's `normalize.less` sets `[hidden] { display: none; }` but bootstrap.min.css set `[hidden] { display: none !important; }` so we also need the `!important` here to be able to override the default hidden behavior on the sphinx rendered scikit-learn.org. See: https://github.com/scikit-learn/scikit-learn/issues/21755 */display: inline-block !important;position: relative;}#sk-container-id-1 div.sk-text-repr-fallback {display: none;}</style><div id=\"sk-container-id-1\" class=\"sk-top-container\"><div class=\"sk-text-repr-fallback\"><pre>LogisticRegression()</pre><b>In a Jupyter environment, please rerun this cell to show the HTML representation or trust the notebook. <br />On GitHub, the HTML representation is unable to render, please try loading this page with nbviewer.org.</b></div><div class=\"sk-container\" hidden><div class=\"sk-item\"><div class=\"sk-estimator sk-toggleable\"><input class=\"sk-toggleable__control sk-hidden--visually\" id=\"sk-estimator-id-1\" type=\"checkbox\" checked><label for=\"sk-estimator-id-1\" class=\"sk-toggleable__label sk-toggleable__label-arrow\">LogisticRegression</label><div class=\"sk-toggleable__content\"><pre>LogisticRegression()</pre></div></div></div></div></div>"
            ]
          },
          "metadata": {},
          "execution_count": 20
        }
      ],
      "source": [
        "# LogisticRegression 모델 훈련\n",
        "model = LogisticRegression()\n",
        "model.fit(np.asarray(X_train), Y_train)"
      ]
    },
    {
      "cell_type": "markdown",
      "id": "a4aa8041-458a-4404-8bb1-d0169d4dd64d",
      "metadata": {
        "id": "a4aa8041-458a-4404-8bb1-d0169d4dd64d"
      },
      "source": [
        "## Inference & Submission"
      ]
    },
    {
      "cell_type": "code",
      "execution_count": null,
      "id": "3d774bbb-d9f1-473c-b7f3-b506e7299007",
      "metadata": {
        "id": "3d774bbb-d9f1-473c-b7f3-b506e7299007"
      },
      "outputs": [],
      "source": [
        "# 제출 파일을 읽어옵니다.\n",
        "submit = pd.read_csv('/content/drive/MyDrive/Colab Notebooks/law/sample_submission.csv') \n"
      ]
    },
    {
      "cell_type": "code",
      "execution_count": null,
      "id": "07b2fe58",
      "metadata": {
        "id": "07b2fe58"
      },
      "outputs": [],
      "source": [
        "pred = model.predict(np.asarray(X_test))"
      ]
    },
    {
      "cell_type": "code",
      "source": [],
      "metadata": {
        "id": "iJ-Zwwavjx7_"
      },
      "id": "iJ-Zwwavjx7_",
      "execution_count": null,
      "outputs": []
    },
    {
      "cell_type": "code",
      "execution_count": null,
      "id": "1abd55c4",
      "metadata": {
        "id": "1abd55c4",
        "outputId": "eb7155a3-484b-49a5-9b3d-265e897dd536",
        "colab": {
          "base_uri": "https://localhost:8080/"
        }
      },
      "outputs": [
        {
          "output_type": "stream",
          "name": "stdout",
          "text": [
            "Done\n"
          ]
        }
      ],
      "source": [
        "submit['first_party_winner'] = pred\n",
        "submit.to_csv('./baseline_submit.csv', index=False)\n",
        "print('Done')"
      ]
    }
  ],
  "metadata": {
    "kernelspec": {
      "display_name": "PyTorch 1.14 (NGC 22.12/Python 3.8) on Backend.AI",
      "language": "python",
      "name": "python3"
    },
    "language_info": {
      "codemirror_mode": {
        "name": "ipython",
        "version": 3
      },
      "file_extension": ".py",
      "mimetype": "text/x-python",
      "name": "python",
      "nbconvert_exporter": "python",
      "pygments_lexer": "ipython3",
      "version": "3.8.10"
    },
    "colab": {
      "provenance": [],
      "include_colab_link": true
    }
  },
  "nbformat": 4,
  "nbformat_minor": 5
}