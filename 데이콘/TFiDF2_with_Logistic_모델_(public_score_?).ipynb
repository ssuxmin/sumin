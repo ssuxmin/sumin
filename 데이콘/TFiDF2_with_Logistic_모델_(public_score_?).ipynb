{
  "nbformat": 4,
  "nbformat_minor": 0,
  "metadata": {
    "colab": {
      "provenance": [],
      "include_colab_link": true
    },
    "kernelspec": {
      "name": "python3",
      "display_name": "Python 3"
    },
    "language_info": {
      "name": "python"
    },
    "accelerator": "GPU"
  },
  "cells": [
    {
      "cell_type": "markdown",
      "metadata": {
        "id": "view-in-github",
        "colab_type": "text"
      },
      "source": [
        "<a href=\"https://colab.research.google.com/github/ssuxmin/tmp/blob/main/%EB%8D%B0%EC%9D%B4%EC%BD%98/TFiDF2_with_Logistic_%EB%AA%A8%EB%8D%B8_(public_score_%3F).ipynb\" target=\"_parent\"><img src=\"https://colab.research.google.com/assets/colab-badge.svg\" alt=\"Open In Colab\"/></a>"
      ]
    },
    {
      "cell_type": "code",
      "source": [
        "import pandas as pd\n",
        "import numpy as np\n",
        "from sklearn.feature_extraction.text import TfidfVectorizer\n",
        "from sklearn.linear_model import LogisticRegression\n",
        "from sklearn.model_selection import train_test_split"
      ],
      "metadata": {
        "id": "VEszxgkbiXOR"
      },
      "execution_count": 1,
      "outputs": []
    },
    {
      "cell_type": "code",
      "source": [
        "from google.colab import drive\n",
        "drive.mount('/content/drive')"
      ],
      "metadata": {
        "colab": {
          "base_uri": "https://localhost:8080/"
        },
        "id": "lZu6Y1h225lE",
        "outputId": "77e9d3e0-dc4b-4dc2-9ace-86805567d40f"
      },
      "execution_count": 2,
      "outputs": [
        {
          "output_type": "stream",
          "name": "stdout",
          "text": [
            "Mounted at /content/drive\n"
          ]
        }
      ]
    },
    {
      "cell_type": "code",
      "source": [
        "train = pd.read_csv('/content/drive/MyDrive/Colab Notebooks/law/train.csv')\n",
        "test = pd.read_csv('/content/drive/MyDrive/Colab Notebooks/law/test.csv')"
      ],
      "metadata": {
        "id": "r2rG3npzL4qM"
      },
      "execution_count": 3,
      "outputs": []
    },
    {
      "cell_type": "code",
      "source": [
        "# tf-idf 벡터화\n",
        "for max_features in range(100, 1000, 10):\n",
        "    vectorizer = TfidfVectorizer(min_df=0, analyzer=\"char\", sublinear_tf=True, ngram_range=(1, 3), max_features=max_features)\n",
        "\n",
        "    X = train['facts']\n",
        "    y = np.array(train[\"first_party_winner\"])\n",
        "\n",
        "    X_train, X_eval, y_train, y_eval = train_test_split(X, y, test_size=0.01, random_state=2)\n",
        "\n",
        "    X_train = vectorizer.fit_transform(X_train)\n",
        "    X_eval = vectorizer.transform(X_eval)\n",
        "    lgs = LogisticRegression(class_weight='balanced')\n",
        "    lgs.fit(X_train, y_train)\n",
        "    predicted = lgs.predict(X_eval)\n",
        "    print(f\"max_features: {max_features}, Accuracy: {lgs.score(X_eval, y_eval)}\" )"
      ],
      "metadata": {
        "id": "7F8Wf9QTiXRA",
        "colab": {
          "base_uri": "https://localhost:8080/"
        },
        "outputId": "b488095f-448a-44e0-8fdf-5bfd18b96168"
      },
      "execution_count": 30,
      "outputs": [
        {
          "output_type": "stream",
          "name": "stdout",
          "text": [
            "max_features: 100, Accuracy: 0.6\n",
            "max_features: 110, Accuracy: 0.64\n",
            "max_features: 120, Accuracy: 0.64\n",
            "max_features: 130, Accuracy: 0.68\n",
            "max_features: 140, Accuracy: 0.68\n",
            "max_features: 150, Accuracy: 0.6\n",
            "max_features: 160, Accuracy: 0.6\n",
            "max_features: 170, Accuracy: 0.6\n",
            "max_features: 180, Accuracy: 0.68\n",
            "max_features: 190, Accuracy: 0.64\n",
            "max_features: 200, Accuracy: 0.56\n",
            "max_features: 210, Accuracy: 0.6\n",
            "max_features: 220, Accuracy: 0.68\n",
            "max_features: 230, Accuracy: 0.72\n",
            "max_features: 240, Accuracy: 0.76\n",
            "max_features: 250, Accuracy: 0.76\n",
            "max_features: 260, Accuracy: 0.8\n",
            "max_features: 270, Accuracy: 0.8\n",
            "max_features: 280, Accuracy: 0.68\n",
            "max_features: 290, Accuracy: 0.72\n",
            "max_features: 300, Accuracy: 0.76\n",
            "max_features: 310, Accuracy: 0.72\n",
            "max_features: 320, Accuracy: 0.72\n",
            "max_features: 330, Accuracy: 0.72\n",
            "max_features: 340, Accuracy: 0.76\n",
            "max_features: 350, Accuracy: 0.72\n",
            "max_features: 360, Accuracy: 0.76\n",
            "max_features: 370, Accuracy: 0.64\n",
            "max_features: 380, Accuracy: 0.64\n",
            "max_features: 390, Accuracy: 0.68\n",
            "max_features: 400, Accuracy: 0.68\n",
            "max_features: 410, Accuracy: 0.64\n",
            "max_features: 420, Accuracy: 0.64\n",
            "max_features: 430, Accuracy: 0.64\n",
            "max_features: 440, Accuracy: 0.68\n",
            "max_features: 450, Accuracy: 0.68\n",
            "max_features: 460, Accuracy: 0.72\n",
            "max_features: 470, Accuracy: 0.68\n",
            "max_features: 480, Accuracy: 0.72\n",
            "max_features: 490, Accuracy: 0.64\n",
            "max_features: 500, Accuracy: 0.72\n",
            "max_features: 510, Accuracy: 0.72\n",
            "max_features: 520, Accuracy: 0.72\n",
            "max_features: 530, Accuracy: 0.72\n",
            "max_features: 540, Accuracy: 0.68\n",
            "max_features: 550, Accuracy: 0.68\n",
            "max_features: 560, Accuracy: 0.68\n",
            "max_features: 570, Accuracy: 0.68\n",
            "max_features: 580, Accuracy: 0.72\n",
            "max_features: 590, Accuracy: 0.68\n",
            "max_features: 600, Accuracy: 0.68\n",
            "max_features: 610, Accuracy: 0.72\n",
            "max_features: 620, Accuracy: 0.64\n",
            "max_features: 630, Accuracy: 0.64\n",
            "max_features: 640, Accuracy: 0.64\n",
            "max_features: 650, Accuracy: 0.64\n",
            "max_features: 660, Accuracy: 0.64\n",
            "max_features: 670, Accuracy: 0.64\n",
            "max_features: 680, Accuracy: 0.64\n",
            "max_features: 690, Accuracy: 0.64\n",
            "max_features: 700, Accuracy: 0.64\n",
            "max_features: 710, Accuracy: 0.64\n",
            "max_features: 720, Accuracy: 0.64\n",
            "max_features: 730, Accuracy: 0.68\n",
            "max_features: 740, Accuracy: 0.64\n",
            "max_features: 750, Accuracy: 0.64\n",
            "max_features: 760, Accuracy: 0.64\n",
            "max_features: 770, Accuracy: 0.72\n",
            "max_features: 780, Accuracy: 0.68\n",
            "max_features: 790, Accuracy: 0.76\n",
            "max_features: 800, Accuracy: 0.72\n",
            "max_features: 810, Accuracy: 0.72\n",
            "max_features: 820, Accuracy: 0.68\n",
            "max_features: 830, Accuracy: 0.72\n",
            "max_features: 840, Accuracy: 0.68\n",
            "max_features: 850, Accuracy: 0.68\n",
            "max_features: 860, Accuracy: 0.68\n",
            "max_features: 870, Accuracy: 0.72\n",
            "max_features: 880, Accuracy: 0.72\n",
            "max_features: 890, Accuracy: 0.72\n",
            "max_features: 900, Accuracy: 0.76\n",
            "max_features: 910, Accuracy: 0.72\n",
            "max_features: 920, Accuracy: 0.72\n",
            "max_features: 930, Accuracy: 0.76\n",
            "max_features: 940, Accuracy: 0.76\n",
            "max_features: 950, Accuracy: 0.72\n",
            "max_features: 960, Accuracy: 0.72\n",
            "max_features: 970, Accuracy: 0.72\n",
            "max_features: 980, Accuracy: 0.72\n",
            "max_features: 990, Accuracy: 0.72\n"
          ]
        }
      ]
    },
    {
      "cell_type": "code",
      "source": [
        "# max_features가 500일 때, Accuracy: 0.6008064516129032 얻었음\n",
        "vectorizer = TfidfVectorizer(min_df = 0, analyzer=\"char\", sublinear_tf=True, ngram_range=(1,3), max_features=260)\n",
        "\n",
        "X = train['facts']\n",
        "y = np.array(train[\"first_party_winner\"])\n",
        "\n",
        "X_train = vectorizer.fit_transform(X)\n",
        "X_test = vectorizer.transform(test['facts'])\n",
        "lgs = LogisticRegression(class_weight='balanced')\n",
        "lgs.fit(X_train, y)\n",
        "predicted = lgs.predict(X_test)\n",
        "\n",
        "X_train = vectorizer.fit_transform(train['facts'])\n",
        "X_test = vectorizer.transform(test['facts'])\n",
        "y = np.array(train.first_party_winner)\n",
        "\n",
        "lgs = LogisticRegression(class_weight='balanced')\n",
        "lgs.fit(X_train, y)\n",
        "predicted = lgs.predict(X_test)"
      ],
      "metadata": {
        "id": "ZtprfCQyiXTi"
      },
      "execution_count": 25,
      "outputs": []
    },
    {
      "cell_type": "code",
      "source": [
        "# 제출 파일을 읽어옵니다.\n",
        "submit = pd.read_csv('/content/drive/MyDrive/Colab Notebooks/law/sample_submission.csv') \n",
        "submit.loc[:, 'first_party_winner'] = predicted\n",
        "submit.to_csv('./TFiDF2_submit.csv', index=False)"
      ],
      "metadata": {
        "id": "HD1Tzond5WCE"
      },
      "execution_count": 26,
      "outputs": []
    },
    {
      "cell_type": "code",
      "source": [
        "submit"
      ],
      "metadata": {
        "id": "ocL_HbkmiXWo",
        "colab": {
          "base_uri": "https://localhost:8080/",
          "height": 423
        },
        "outputId": "e029505d-18ff-40ef-f1c4-d21ee26e29ba"
      },
      "execution_count": 27,
      "outputs": [
        {
          "output_type": "execute_result",
          "data": {
            "text/plain": [
              "             ID  first_party_winner\n",
              "0     TEST_0000                   1\n",
              "1     TEST_0001                   0\n",
              "2     TEST_0002                   1\n",
              "3     TEST_0003                   1\n",
              "4     TEST_0004                   0\n",
              "...         ...                 ...\n",
              "1235  TEST_1235                   1\n",
              "1236  TEST_1236                   0\n",
              "1237  TEST_1237                   1\n",
              "1238  TEST_1238                   0\n",
              "1239  TEST_1239                   1\n",
              "\n",
              "[1240 rows x 2 columns]"
            ],
            "text/html": [
              "\n",
              "  <div id=\"df-5a0bd298-ba7f-41ea-a2ff-83ab19f6e3cf\">\n",
              "    <div class=\"colab-df-container\">\n",
              "      <div>\n",
              "<style scoped>\n",
              "    .dataframe tbody tr th:only-of-type {\n",
              "        vertical-align: middle;\n",
              "    }\n",
              "\n",
              "    .dataframe tbody tr th {\n",
              "        vertical-align: top;\n",
              "    }\n",
              "\n",
              "    .dataframe thead th {\n",
              "        text-align: right;\n",
              "    }\n",
              "</style>\n",
              "<table border=\"1\" class=\"dataframe\">\n",
              "  <thead>\n",
              "    <tr style=\"text-align: right;\">\n",
              "      <th></th>\n",
              "      <th>ID</th>\n",
              "      <th>first_party_winner</th>\n",
              "    </tr>\n",
              "  </thead>\n",
              "  <tbody>\n",
              "    <tr>\n",
              "      <th>0</th>\n",
              "      <td>TEST_0000</td>\n",
              "      <td>1</td>\n",
              "    </tr>\n",
              "    <tr>\n",
              "      <th>1</th>\n",
              "      <td>TEST_0001</td>\n",
              "      <td>0</td>\n",
              "    </tr>\n",
              "    <tr>\n",
              "      <th>2</th>\n",
              "      <td>TEST_0002</td>\n",
              "      <td>1</td>\n",
              "    </tr>\n",
              "    <tr>\n",
              "      <th>3</th>\n",
              "      <td>TEST_0003</td>\n",
              "      <td>1</td>\n",
              "    </tr>\n",
              "    <tr>\n",
              "      <th>4</th>\n",
              "      <td>TEST_0004</td>\n",
              "      <td>0</td>\n",
              "    </tr>\n",
              "    <tr>\n",
              "      <th>...</th>\n",
              "      <td>...</td>\n",
              "      <td>...</td>\n",
              "    </tr>\n",
              "    <tr>\n",
              "      <th>1235</th>\n",
              "      <td>TEST_1235</td>\n",
              "      <td>1</td>\n",
              "    </tr>\n",
              "    <tr>\n",
              "      <th>1236</th>\n",
              "      <td>TEST_1236</td>\n",
              "      <td>0</td>\n",
              "    </tr>\n",
              "    <tr>\n",
              "      <th>1237</th>\n",
              "      <td>TEST_1237</td>\n",
              "      <td>1</td>\n",
              "    </tr>\n",
              "    <tr>\n",
              "      <th>1238</th>\n",
              "      <td>TEST_1238</td>\n",
              "      <td>0</td>\n",
              "    </tr>\n",
              "    <tr>\n",
              "      <th>1239</th>\n",
              "      <td>TEST_1239</td>\n",
              "      <td>1</td>\n",
              "    </tr>\n",
              "  </tbody>\n",
              "</table>\n",
              "<p>1240 rows × 2 columns</p>\n",
              "</div>\n",
              "      <button class=\"colab-df-convert\" onclick=\"convertToInteractive('df-5a0bd298-ba7f-41ea-a2ff-83ab19f6e3cf')\"\n",
              "              title=\"Convert this dataframe to an interactive table.\"\n",
              "              style=\"display:none;\">\n",
              "        \n",
              "  <svg xmlns=\"http://www.w3.org/2000/svg\" height=\"24px\"viewBox=\"0 0 24 24\"\n",
              "       width=\"24px\">\n",
              "    <path d=\"M0 0h24v24H0V0z\" fill=\"none\"/>\n",
              "    <path d=\"M18.56 5.44l.94 2.06.94-2.06 2.06-.94-2.06-.94-.94-2.06-.94 2.06-2.06.94zm-11 1L8.5 8.5l.94-2.06 2.06-.94-2.06-.94L8.5 2.5l-.94 2.06-2.06.94zm10 10l.94 2.06.94-2.06 2.06-.94-2.06-.94-.94-2.06-.94 2.06-2.06.94z\"/><path d=\"M17.41 7.96l-1.37-1.37c-.4-.4-.92-.59-1.43-.59-.52 0-1.04.2-1.43.59L10.3 9.45l-7.72 7.72c-.78.78-.78 2.05 0 2.83L4 21.41c.39.39.9.59 1.41.59.51 0 1.02-.2 1.41-.59l7.78-7.78 2.81-2.81c.8-.78.8-2.07 0-2.86zM5.41 20L4 18.59l7.72-7.72 1.47 1.35L5.41 20z\"/>\n",
              "  </svg>\n",
              "      </button>\n",
              "      \n",
              "  <style>\n",
              "    .colab-df-container {\n",
              "      display:flex;\n",
              "      flex-wrap:wrap;\n",
              "      gap: 12px;\n",
              "    }\n",
              "\n",
              "    .colab-df-convert {\n",
              "      background-color: #E8F0FE;\n",
              "      border: none;\n",
              "      border-radius: 50%;\n",
              "      cursor: pointer;\n",
              "      display: none;\n",
              "      fill: #1967D2;\n",
              "      height: 32px;\n",
              "      padding: 0 0 0 0;\n",
              "      width: 32px;\n",
              "    }\n",
              "\n",
              "    .colab-df-convert:hover {\n",
              "      background-color: #E2EBFA;\n",
              "      box-shadow: 0px 1px 2px rgba(60, 64, 67, 0.3), 0px 1px 3px 1px rgba(60, 64, 67, 0.15);\n",
              "      fill: #174EA6;\n",
              "    }\n",
              "\n",
              "    [theme=dark] .colab-df-convert {\n",
              "      background-color: #3B4455;\n",
              "      fill: #D2E3FC;\n",
              "    }\n",
              "\n",
              "    [theme=dark] .colab-df-convert:hover {\n",
              "      background-color: #434B5C;\n",
              "      box-shadow: 0px 1px 3px 1px rgba(0, 0, 0, 0.15);\n",
              "      filter: drop-shadow(0px 1px 2px rgba(0, 0, 0, 0.3));\n",
              "      fill: #FFFFFF;\n",
              "    }\n",
              "  </style>\n",
              "\n",
              "      <script>\n",
              "        const buttonEl =\n",
              "          document.querySelector('#df-5a0bd298-ba7f-41ea-a2ff-83ab19f6e3cf button.colab-df-convert');\n",
              "        buttonEl.style.display =\n",
              "          google.colab.kernel.accessAllowed ? 'block' : 'none';\n",
              "\n",
              "        async function convertToInteractive(key) {\n",
              "          const element = document.querySelector('#df-5a0bd298-ba7f-41ea-a2ff-83ab19f6e3cf');\n",
              "          const dataTable =\n",
              "            await google.colab.kernel.invokeFunction('convertToInteractive',\n",
              "                                                     [key], {});\n",
              "          if (!dataTable) return;\n",
              "\n",
              "          const docLinkHtml = 'Like what you see? Visit the ' +\n",
              "            '<a target=\"_blank\" href=https://colab.research.google.com/notebooks/data_table.ipynb>data table notebook</a>'\n",
              "            + ' to learn more about interactive tables.';\n",
              "          element.innerHTML = '';\n",
              "          dataTable['output_type'] = 'display_data';\n",
              "          await google.colab.output.renderOutput(dataTable, element);\n",
              "          const docLink = document.createElement('div');\n",
              "          docLink.innerHTML = docLinkHtml;\n",
              "          element.appendChild(docLink);\n",
              "        }\n",
              "      </script>\n",
              "    </div>\n",
              "  </div>\n",
              "  "
            ]
          },
          "metadata": {},
          "execution_count": 27
        }
      ]
    },
    {
      "cell_type": "markdown",
      "source": [
        "max_features 기준 100 ~ 10,000 까지 100단위로 범위를 늘려 확인했습니다.\n",
        "\n",
        "ngram_range을 고려하지 못한 내용이라 발전 가능성이 좀 더 있을 것 같습니다.\n",
        "\n",
        "---\n",
        "\n",
        "TFiDF를 이용해 다른 알고리즘과 결합하면 더 좋은 성과가 있을 것 같습니다.\n",
        "\n"
      ],
      "metadata": {
        "id": "miPV2Y5Al9vn"
      }
    },
    {
      "cell_type": "code",
      "source": [],
      "metadata": {
        "id": "pWEkFepMNGiZ"
      },
      "execution_count": null,
      "outputs": []
    }
  ]
}