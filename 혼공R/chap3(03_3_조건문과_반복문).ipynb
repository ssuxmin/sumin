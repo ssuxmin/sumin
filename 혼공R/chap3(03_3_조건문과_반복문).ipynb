{
  "nbformat": 4,
  "nbformat_minor": 0,
  "metadata": {
    "colab": {
      "provenance": [],
      "authorship_tag": "ABX9TyPjqxT1byvqLd2xqnLEvXWM",
      "include_colab_link": true
    },
    "kernelspec": {
      "name": "ir",
      "display_name": "R"
    },
    "language_info": {
      "name": "R"
    }
  },
  "cells": [
    {
      "cell_type": "markdown",
      "metadata": {
        "id": "view-in-github",
        "colab_type": "text"
      },
      "source": [
        "<a href=\"https://colab.research.google.com/github/ssuxmin/sumin/blob/main/%ED%98%BC%EA%B3%B5R/chap3(03_3_%EC%A1%B0%EA%B1%B4%EB%AC%B8%EA%B3%BC_%EB%B0%98%EB%B3%B5%EB%AC%B8).ipynb\" target=\"_parent\"><img src=\"https://colab.research.google.com/assets/colab-badge.svg\" alt=\"Open In Colab\"/></a>"
      ]
    },
    {
      "cell_type": "markdown",
      "source": [
        "# 03-3 조건문과 반복문"
      ],
      "metadata": {
        "id": "QnjJrOeeHvPL"
      }
    },
    {
      "cell_type": "code",
      "source": [
        "A <- 2\n",
        "A\n",
        "B = 10\n",
        "B"
      ],
      "metadata": {
        "colab": {
          "base_uri": "https://localhost:8080/",
          "height": 52
        },
        "id": "WbEr9vzAIZws",
        "outputId": "9492006f-7364-4af4-c1c3-d70eb320c6c3"
      },
      "execution_count": 2,
      "outputs": [
        {
          "output_type": "display_data",
          "data": {
            "text/html": [
              "2"
            ],
            "text/markdown": "2",
            "text/latex": "2",
            "text/plain": [
              "[1] 2"
            ]
          },
          "metadata": {}
        },
        {
          "output_type": "display_data",
          "data": {
            "text/html": [
              "10"
            ],
            "text/markdown": "10",
            "text/latex": "10",
            "text/plain": [
              "[1] 10"
            ]
          },
          "metadata": {}
        }
      ]
    },
    {
      "cell_type": "code",
      "source": [
        "C = D <- 5\n",
        "C\n",
        "D"
      ],
      "metadata": {
        "colab": {
          "base_uri": "https://localhost:8080/",
          "height": 52
        },
        "id": "E2EQR8UEIZ28",
        "outputId": "f0bd59e8-a365-43b3-d0a1-ed69fc755657"
      },
      "execution_count": 3,
      "outputs": [
        {
          "output_type": "display_data",
          "data": {
            "text/html": [
              "5"
            ],
            "text/markdown": "5",
            "text/latex": "5",
            "text/plain": [
              "[1] 5"
            ]
          },
          "metadata": {}
        },
        {
          "output_type": "display_data",
          "data": {
            "text/html": [
              "5"
            ],
            "text/markdown": "5",
            "text/latex": "5",
            "text/plain": [
              "[1] 5"
            ]
          },
          "metadata": {}
        }
      ]
    },
    {
      "cell_type": "code",
      "source": [
        "G <- E = 10"
      ],
      "metadata": {
        "colab": {
          "base_uri": "https://localhost:8080/",
          "height": 100
        },
        "id": "1jkTRlqxReBz",
        "outputId": "83877b05-36ac-4306-ee2e-fc8991548287"
      },
      "execution_count": 4,
      "outputs": [
        {
          "output_type": "error",
          "ename": "ERROR",
          "evalue": "ignored",
          "traceback": [
            "Error: object 'G' not found\nTraceback:\n"
          ]
        }
      ]
    },
    {
      "cell_type": "code",
      "source": [
        "sum(x <- 1)\n",
        "x\n",
        "sum(y = 1)\n",
        "y\n",
        "# R에서는 변수를 생성할 때 = 보단 <-를 주로 사용"
      ],
      "metadata": {
        "colab": {
          "base_uri": "https://localhost:8080/",
          "height": 152
        },
        "id": "Ge2e1ntoSUso",
        "outputId": "e2fd8f75-34f6-41a5-b634-b775506ccf59"
      },
      "execution_count": 5,
      "outputs": [
        {
          "output_type": "display_data",
          "data": {
            "text/html": [
              "1"
            ],
            "text/markdown": "1",
            "text/latex": "1",
            "text/plain": [
              "[1] 1"
            ]
          },
          "metadata": {}
        },
        {
          "output_type": "display_data",
          "data": {
            "text/html": [
              "1"
            ],
            "text/markdown": "1",
            "text/latex": "1",
            "text/plain": [
              "[1] 1"
            ]
          },
          "metadata": {}
        },
        {
          "output_type": "display_data",
          "data": {
            "text/html": [
              "1"
            ],
            "text/markdown": "1",
            "text/latex": "1",
            "text/plain": [
              "[1] 1"
            ]
          },
          "metadata": {}
        },
        {
          "output_type": "error",
          "ename": "ERROR",
          "evalue": "ignored",
          "traceback": [
            "Error in eval(expr, envir, enclos): object 'y' not found\nTraceback:\n"
          ]
        }
      ]
    },
    {
      "cell_type": "code",
      "source": [
        "1 + 2 # 더하기\n",
        "5 - 3 # 빼기\n",
        "3 * 7 #곱하기\n",
        "20/4 #나누기\n",
        "-1+3\n",
        "20%/%7 #몫\n",
        "20 %% 7 #나머지\n",
        "6^2  #제곱(1)\n",
        "6**2 #제곱(2)"
      ],
      "metadata": {
        "colab": {
          "base_uri": "https://localhost:8080/",
          "height": 173
        },
        "id": "jrkOyrOrSjVl",
        "outputId": "da5a4c84-6f75-40fe-ca68-c7bee729ae6f"
      },
      "execution_count": 11,
      "outputs": [
        {
          "output_type": "display_data",
          "data": {
            "text/html": [
              "3"
            ],
            "text/markdown": "3",
            "text/latex": "3",
            "text/plain": [
              "[1] 3"
            ]
          },
          "metadata": {}
        },
        {
          "output_type": "display_data",
          "data": {
            "text/html": [
              "2"
            ],
            "text/markdown": "2",
            "text/latex": "2",
            "text/plain": [
              "[1] 2"
            ]
          },
          "metadata": {}
        },
        {
          "output_type": "display_data",
          "data": {
            "text/html": [
              "21"
            ],
            "text/markdown": "21",
            "text/latex": "21",
            "text/plain": [
              "[1] 21"
            ]
          },
          "metadata": {}
        },
        {
          "output_type": "display_data",
          "data": {
            "text/html": [
              "5"
            ],
            "text/markdown": "5",
            "text/latex": "5",
            "text/plain": [
              "[1] 5"
            ]
          },
          "metadata": {}
        },
        {
          "output_type": "display_data",
          "data": {
            "text/html": [
              "2"
            ],
            "text/markdown": "2",
            "text/latex": "2",
            "text/plain": [
              "[1] 2"
            ]
          },
          "metadata": {}
        },
        {
          "output_type": "display_data",
          "data": {
            "text/html": [
              "2"
            ],
            "text/markdown": "2",
            "text/latex": "2",
            "text/plain": [
              "[1] 2"
            ]
          },
          "metadata": {}
        },
        {
          "output_type": "display_data",
          "data": {
            "text/html": [
              "6"
            ],
            "text/markdown": "6",
            "text/latex": "6",
            "text/plain": [
              "[1] 6"
            ]
          },
          "metadata": {}
        },
        {
          "output_type": "display_data",
          "data": {
            "text/html": [
              "36"
            ],
            "text/markdown": "36",
            "text/latex": "36",
            "text/plain": [
              "[1] 36"
            ]
          },
          "metadata": {}
        },
        {
          "output_type": "display_data",
          "data": {
            "text/html": [
              "36"
            ],
            "text/markdown": "36",
            "text/latex": "36",
            "text/plain": [
              "[1] 36"
            ]
          },
          "metadata": {}
        }
      ]
    },
    {
      "cell_type": "code",
      "source": [
        "5>3\n",
        "5>=6"
      ],
      "metadata": {
        "colab": {
          "base_uri": "https://localhost:8080/",
          "height": 52
        },
        "id": "eKV1vPwzS-ce",
        "outputId": "42cab333-95e2-484f-e41a-b60b0983cefb"
      },
      "execution_count": 13,
      "outputs": [
        {
          "output_type": "display_data",
          "data": {
            "text/html": [
              "TRUE"
            ],
            "text/markdown": "TRUE",
            "text/latex": "TRUE",
            "text/plain": [
              "[1] TRUE"
            ]
          },
          "metadata": {}
        },
        {
          "output_type": "display_data",
          "data": {
            "text/html": [
              "FALSE"
            ],
            "text/markdown": "FALSE",
            "text/latex": "FALSE",
            "text/plain": [
              "[1] FALSE"
            ]
          },
          "metadata": {}
        }
      ]
    },
    {
      "cell_type": "code",
      "source": [
        "x<-1:3\n",
        "y<-3:1\n",
        "(x>0)&(y>1)\n",
        "(x>0)|(y>1)\n",
        "\n",
        "# & 기능 : 그리고 => 양쪽 조건을 모두 만족 : TRUE / 한쪽을 만족하지 않거나 둘다 만족하지 않을 경우 : FALSE\n",
        "# | 기능 : 또는   => 양쪽 조건 중 한쪽만 만족하면 TRUE"
      ],
      "metadata": {
        "colab": {
          "base_uri": "https://localhost:8080/",
          "height": 52
        },
        "id": "x9OzHaNLS-i2",
        "outputId": "92a91e4c-ad5c-4d2b-e000-54757688cb75"
      },
      "execution_count": 15,
      "outputs": [
        {
          "output_type": "display_data",
          "data": {
            "text/html": [
              "<style>\n",
              ".list-inline {list-style: none; margin:0; padding: 0}\n",
              ".list-inline>li {display: inline-block}\n",
              ".list-inline>li:not(:last-child)::after {content: \"\\00b7\"; padding: 0 .5ex}\n",
              "</style>\n",
              "<ol class=list-inline><li>TRUE</li><li>TRUE</li><li>FALSE</li></ol>\n"
            ],
            "text/markdown": "1. TRUE\n2. TRUE\n3. FALSE\n\n\n",
            "text/latex": "\\begin{enumerate*}\n\\item TRUE\n\\item TRUE\n\\item FALSE\n\\end{enumerate*}\n",
            "text/plain": [
              "[1]  TRUE  TRUE FALSE"
            ]
          },
          "metadata": {}
        },
        {
          "output_type": "display_data",
          "data": {
            "text/html": [
              "<style>\n",
              ".list-inline {list-style: none; margin:0; padding: 0}\n",
              ".list-inline>li {display: inline-block}\n",
              ".list-inline>li:not(:last-child)::after {content: \"\\00b7\"; padding: 0 .5ex}\n",
              "</style>\n",
              "<ol class=list-inline><li>TRUE</li><li>TRUE</li><li>TRUE</li></ol>\n"
            ],
            "text/markdown": "1. TRUE\n2. TRUE\n3. TRUE\n\n\n",
            "text/latex": "\\begin{enumerate*}\n\\item TRUE\n\\item TRUE\n\\item TRUE\n\\end{enumerate*}\n",
            "text/plain": [
              "[1] TRUE TRUE TRUE"
            ]
          },
          "metadata": {}
        }
      ]
    },
    {
      "cell_type": "code",
      "source": [],
      "metadata": {
        "id": "uF5vms2YSU01"
      },
      "execution_count": null,
      "outputs": []
    },
    {
      "cell_type": "code",
      "source": [
        "a <- 10\n",
        "if(a %% 2 == 0){\n",
        "  print(\"짝수입니다\")\n",
        "} else {\n",
        "  print(\"홀수입니다\")\n",
        "}"
      ],
      "metadata": {
        "colab": {
          "base_uri": "https://localhost:8080/"
        },
        "id": "tLTqhv37SU8B",
        "outputId": "d94b0227-a3f9-4424-e1b9-4bd9a79b5b4a"
      },
      "execution_count": 16,
      "outputs": [
        {
          "output_type": "stream",
          "name": "stdout",
          "text": [
            "[1] \"짝수입니다\"\n"
          ]
        }
      ]
    },
    {
      "cell_type": "code",
      "source": [
        "b <- 80\n",
        "if(b >= 90){\n",
        "  print(\"A 학점입니다\")\n",
        "} else if (b >= 80){\n",
        "  print(\"B 학점입니다\")\n",
        "} else {\n",
        "  print(\"C 학점입니다\")\n",
        "}"
      ],
      "metadata": {
        "colab": {
          "base_uri": "https://localhost:8080/"
        },
        "id": "i4Yy2NdpReI4",
        "outputId": "1a7bb201-0dca-46bc-8a18-97f0d6121663"
      },
      "execution_count": 17,
      "outputs": [
        {
          "output_type": "stream",
          "name": "stdout",
          "text": [
            "[1] \"B 학점입니다\"\n"
          ]
        }
      ]
    },
    {
      "cell_type": "code",
      "source": [],
      "metadata": {
        "id": "oQd-UKOpW2Ju"
      },
      "execution_count": null,
      "outputs": []
    },
    {
      "cell_type": "code",
      "source": [
        "for(i in 1:9){\n",
        "  a <- 2*i\n",
        "  print(a)\n",
        "}"
      ],
      "metadata": {
        "colab": {
          "base_uri": "https://localhost:8080/"
        },
        "id": "ejxdJYupReOo",
        "outputId": "d2bb4828-fe84-4d55-a6df-49be1f07268c"
      },
      "execution_count": 18,
      "outputs": [
        {
          "output_type": "stream",
          "name": "stdout",
          "text": [
            "[1] 2\n",
            "[1] 4\n",
            "[1] 6\n",
            "[1] 8\n",
            "[1] 10\n",
            "[1] 12\n",
            "[1] 14\n",
            "[1] 16\n",
            "[1] 18\n"
          ]
        }
      ]
    },
    {
      "cell_type": "code",
      "source": [
        "for(i in 2:9){\n",
        "  for(j in 1:9){\n",
        "    print(paste(i, \"*\", j, \"=\", i*j))\n",
        "  }\n",
        "}"
      ],
      "metadata": {
        "colab": {
          "base_uri": "https://localhost:8080/"
        },
        "id": "NnNmz0fPXB_L",
        "outputId": "c84f4646-2ad0-4b87-929f-03eef8021c5c"
      },
      "execution_count": 22,
      "outputs": [
        {
          "output_type": "stream",
          "name": "stdout",
          "text": [
            "[1] \"2 * 1 = 2\"\n",
            "[1] \"2 * 2 = 4\"\n",
            "[1] \"2 * 3 = 6\"\n",
            "[1] \"2 * 4 = 8\"\n",
            "[1] \"2 * 5 = 10\"\n",
            "[1] \"2 * 6 = 12\"\n",
            "[1] \"2 * 7 = 14\"\n",
            "[1] \"2 * 8 = 16\"\n",
            "[1] \"2 * 9 = 18\"\n",
            "[1] \"3 * 1 = 3\"\n",
            "[1] \"3 * 2 = 6\"\n",
            "[1] \"3 * 3 = 9\"\n",
            "[1] \"3 * 4 = 12\"\n",
            "[1] \"3 * 5 = 15\"\n",
            "[1] \"3 * 6 = 18\"\n",
            "[1] \"3 * 7 = 21\"\n",
            "[1] \"3 * 8 = 24\"\n",
            "[1] \"3 * 9 = 27\"\n",
            "[1] \"4 * 1 = 4\"\n",
            "[1] \"4 * 2 = 8\"\n",
            "[1] \"4 * 3 = 12\"\n",
            "[1] \"4 * 4 = 16\"\n",
            "[1] \"4 * 5 = 20\"\n",
            "[1] \"4 * 6 = 24\"\n",
            "[1] \"4 * 7 = 28\"\n",
            "[1] \"4 * 8 = 32\"\n",
            "[1] \"4 * 9 = 36\"\n",
            "[1] \"5 * 1 = 5\"\n",
            "[1] \"5 * 2 = 10\"\n",
            "[1] \"5 * 3 = 15\"\n",
            "[1] \"5 * 4 = 20\"\n",
            "[1] \"5 * 5 = 25\"\n",
            "[1] \"5 * 6 = 30\"\n",
            "[1] \"5 * 7 = 35\"\n",
            "[1] \"5 * 8 = 40\"\n",
            "[1] \"5 * 9 = 45\"\n",
            "[1] \"6 * 1 = 6\"\n",
            "[1] \"6 * 2 = 12\"\n",
            "[1] \"6 * 3 = 18\"\n",
            "[1] \"6 * 4 = 24\"\n",
            "[1] \"6 * 5 = 30\"\n",
            "[1] \"6 * 6 = 36\"\n",
            "[1] \"6 * 7 = 42\"\n",
            "[1] \"6 * 8 = 48\"\n",
            "[1] \"6 * 9 = 54\"\n",
            "[1] \"7 * 1 = 7\"\n",
            "[1] \"7 * 2 = 14\"\n",
            "[1] \"7 * 3 = 21\"\n",
            "[1] \"7 * 4 = 28\"\n",
            "[1] \"7 * 5 = 35\"\n",
            "[1] \"7 * 6 = 42\"\n",
            "[1] \"7 * 7 = 49\"\n",
            "[1] \"7 * 8 = 56\"\n",
            "[1] \"7 * 9 = 63\"\n",
            "[1] \"8 * 1 = 8\"\n",
            "[1] \"8 * 2 = 16\"\n",
            "[1] \"8 * 3 = 24\"\n",
            "[1] \"8 * 4 = 32\"\n",
            "[1] \"8 * 5 = 40\"\n",
            "[1] \"8 * 6 = 48\"\n",
            "[1] \"8 * 7 = 56\"\n",
            "[1] \"8 * 8 = 64\"\n",
            "[1] \"8 * 9 = 72\"\n",
            "[1] \"9 * 1 = 9\"\n",
            "[1] \"9 * 2 = 18\"\n",
            "[1] \"9 * 3 = 27\"\n",
            "[1] \"9 * 4 = 36\"\n",
            "[1] \"9 * 5 = 45\"\n",
            "[1] \"9 * 6 = 54\"\n",
            "[1] \"9 * 7 = 63\"\n",
            "[1] \"9 * 8 = 72\"\n",
            "[1] \"9 * 9 = 81\"\n"
          ]
        }
      ]
    },
    {
      "cell_type": "code",
      "source": [],
      "metadata": {
        "id": "C3gW4_nUXCFW"
      },
      "execution_count": null,
      "outputs": []
    },
    {
      "cell_type": "code",
      "source": [
        "x <- matrix(1:4, 2, 2)\n",
        "x"
      ],
      "metadata": {
        "colab": {
          "base_uri": "https://localhost:8080/",
          "height": 184
        },
        "id": "_aHfvAGJXCMb",
        "outputId": "0ef23ac4-2303-45a1-828f-373e4de24dd2"
      },
      "execution_count": 24,
      "outputs": [
        {
          "output_type": "display_data",
          "data": {
            "text/html": [
              "<table class=\"dataframe\">\n",
              "<caption>A matrix: 2 × 2 of type int</caption>\n",
              "<tbody>\n",
              "\t<tr><td>1</td><td>3</td></tr>\n",
              "\t<tr><td>2</td><td>4</td></tr>\n",
              "</tbody>\n",
              "</table>\n"
            ],
            "text/markdown": "\nA matrix: 2 × 2 of type int\n\n| 1 | 3 |\n| 2 | 4 |\n\n",
            "text/latex": "A matrix: 2 × 2 of type int\n\\begin{tabular}{ll}\n\t 1 & 3\\\\\n\t 2 & 4\\\\\n\\end{tabular}\n",
            "text/plain": [
              "     [,1] [,2]\n",
              "[1,] 1    3   \n",
              "[2,] 2    4   "
            ]
          },
          "metadata": {}
        }
      ]
    },
    {
      "cell_type": "code",
      "source": [
        "apply(x,1, sum) # 각 행을 더한 결과\n",
        "apply(x,2, min) # 각 열에서 최솟값\n",
        "apply(x,1, max) # 각 행에서 최댓값"
      ],
      "metadata": {
        "colab": {
          "base_uri": "https://localhost:8080/",
          "height": 69
        },
        "id": "foC3lCbAXv-T",
        "outputId": "3c203228-88f2-4607-df90-c4ad88955bf1"
      },
      "execution_count": 27,
      "outputs": [
        {
          "output_type": "display_data",
          "data": {
            "text/html": [
              "<style>\n",
              ".list-inline {list-style: none; margin:0; padding: 0}\n",
              ".list-inline>li {display: inline-block}\n",
              ".list-inline>li:not(:last-child)::after {content: \"\\00b7\"; padding: 0 .5ex}\n",
              "</style>\n",
              "<ol class=list-inline><li>4</li><li>6</li></ol>\n"
            ],
            "text/markdown": "1. 4\n2. 6\n\n\n",
            "text/latex": "\\begin{enumerate*}\n\\item 4\n\\item 6\n\\end{enumerate*}\n",
            "text/plain": [
              "[1] 4 6"
            ]
          },
          "metadata": {}
        },
        {
          "output_type": "display_data",
          "data": {
            "text/html": [
              "<style>\n",
              ".list-inline {list-style: none; margin:0; padding: 0}\n",
              ".list-inline>li {display: inline-block}\n",
              ".list-inline>li:not(:last-child)::after {content: \"\\00b7\"; padding: 0 .5ex}\n",
              "</style>\n",
              "<ol class=list-inline><li>1</li><li>3</li></ol>\n"
            ],
            "text/markdown": "1. 1\n2. 3\n\n\n",
            "text/latex": "\\begin{enumerate*}\n\\item 1\n\\item 3\n\\end{enumerate*}\n",
            "text/plain": [
              "[1] 1 3"
            ]
          },
          "metadata": {}
        },
        {
          "output_type": "display_data",
          "data": {
            "text/html": [
              "<style>\n",
              ".list-inline {list-style: none; margin:0; padding: 0}\n",
              ".list-inline>li {display: inline-block}\n",
              ".list-inline>li:not(:last-child)::after {content: \"\\00b7\"; padding: 0 .5ex}\n",
              "</style>\n",
              "<ol class=list-inline><li>3</li><li>4</li></ol>\n"
            ],
            "text/markdown": "1. 3\n2. 4\n\n\n",
            "text/latex": "\\begin{enumerate*}\n\\item 3\n\\item 4\n\\end{enumerate*}\n",
            "text/plain": [
              "[1] 3 4"
            ]
          },
          "metadata": {}
        }
      ]
    },
    {
      "cell_type": "code",
      "source": [
        "str(iris)"
      ],
      "metadata": {
        "colab": {
          "base_uri": "https://localhost:8080/"
        },
        "id": "DolyBJBJXwDy",
        "outputId": "d31a74ac-91d1-402f-8878-aa0bd27fe1cc"
      },
      "execution_count": 29,
      "outputs": [
        {
          "output_type": "stream",
          "name": "stdout",
          "text": [
            "'data.frame':\t150 obs. of  5 variables:\n",
            " $ Sepal.Length: num  5.1 4.9 4.7 4.6 5 5.4 4.6 5 4.4 4.9 ...\n",
            " $ Sepal.Width : num  3.5 3 3.2 3.1 3.6 3.9 3.4 3.4 2.9 3.1 ...\n",
            " $ Petal.Length: num  1.4 1.4 1.3 1.5 1.4 1.7 1.4 1.5 1.4 1.5 ...\n",
            " $ Petal.Width : num  0.2 0.2 0.2 0.2 0.2 0.4 0.3 0.2 0.2 0.1 ...\n",
            " $ Species     : Factor w/ 3 levels \"setosa\",\"versicolor\",..: 1 1 1 1 1 1 1 1 1 1 ...\n"
          ]
        }
      ]
    },
    {
      "cell_type": "code",
      "source": [
        "View(iris)"
      ],
      "metadata": {
        "colab": {
          "base_uri": "https://localhost:8080/",
          "height": 1000
        },
        "id": "o5SS7NEhXwKF",
        "outputId": "d8b277c6-fe5c-48fd-da9e-91c82b592ec7"
      },
      "execution_count": 30,
      "outputs": [
        {
          "output_type": "display_data",
          "data": {
            "text/plain": [
              "    Sepal.Length Sepal.Width Petal.Length Petal.Width Species  \n",
              "1   5.1          3.5         1.4          0.2         setosa   \n",
              "2   4.9          3.0         1.4          0.2         setosa   \n",
              "3   4.7          3.2         1.3          0.2         setosa   \n",
              "4   4.6          3.1         1.5          0.2         setosa   \n",
              "5   5.0          3.6         1.4          0.2         setosa   \n",
              "6   5.4          3.9         1.7          0.4         setosa   \n",
              "7   4.6          3.4         1.4          0.3         setosa   \n",
              "8   5.0          3.4         1.5          0.2         setosa   \n",
              "9   4.4          2.9         1.4          0.2         setosa   \n",
              "10  4.9          3.1         1.5          0.1         setosa   \n",
              "11  5.4          3.7         1.5          0.2         setosa   \n",
              "12  4.8          3.4         1.6          0.2         setosa   \n",
              "13  4.8          3.0         1.4          0.1         setosa   \n",
              "14  4.3          3.0         1.1          0.1         setosa   \n",
              "15  5.8          4.0         1.2          0.2         setosa   \n",
              "16  5.7          4.4         1.5          0.4         setosa   \n",
              "17  5.4          3.9         1.3          0.4         setosa   \n",
              "18  5.1          3.5         1.4          0.3         setosa   \n",
              "19  5.7          3.8         1.7          0.3         setosa   \n",
              "20  5.1          3.8         1.5          0.3         setosa   \n",
              "21  5.4          3.4         1.7          0.2         setosa   \n",
              "22  5.1          3.7         1.5          0.4         setosa   \n",
              "23  4.6          3.6         1.0          0.2         setosa   \n",
              "24  5.1          3.3         1.7          0.5         setosa   \n",
              "25  4.8          3.4         1.9          0.2         setosa   \n",
              "26  5.0          3.0         1.6          0.2         setosa   \n",
              "27  5.0          3.4         1.6          0.4         setosa   \n",
              "28  5.2          3.5         1.5          0.2         setosa   \n",
              "29  5.2          3.4         1.4          0.2         setosa   \n",
              "30  4.7          3.2         1.6          0.2         setosa   \n",
              "⋮   ⋮            ⋮           ⋮            ⋮           ⋮        \n",
              "121 6.9          3.2         5.7          2.3         virginica\n",
              "122 5.6          2.8         4.9          2.0         virginica\n",
              "123 7.7          2.8         6.7          2.0         virginica\n",
              "124 6.3          2.7         4.9          1.8         virginica\n",
              "125 6.7          3.3         5.7          2.1         virginica\n",
              "126 7.2          3.2         6.0          1.8         virginica\n",
              "127 6.2          2.8         4.8          1.8         virginica\n",
              "128 6.1          3.0         4.9          1.8         virginica\n",
              "129 6.4          2.8         5.6          2.1         virginica\n",
              "130 7.2          3.0         5.8          1.6         virginica\n",
              "131 7.4          2.8         6.1          1.9         virginica\n",
              "132 7.9          3.8         6.4          2.0         virginica\n",
              "133 6.4          2.8         5.6          2.2         virginica\n",
              "134 6.3          2.8         5.1          1.5         virginica\n",
              "135 6.1          2.6         5.6          1.4         virginica\n",
              "136 7.7          3.0         6.1          2.3         virginica\n",
              "137 6.3          3.4         5.6          2.4         virginica\n",
              "138 6.4          3.1         5.5          1.8         virginica\n",
              "139 6.0          3.0         4.8          1.8         virginica\n",
              "140 6.9          3.1         5.4          2.1         virginica\n",
              "141 6.7          3.1         5.6          2.4         virginica\n",
              "142 6.9          3.1         5.1          2.3         virginica\n",
              "143 5.8          2.7         5.1          1.9         virginica\n",
              "144 6.8          3.2         5.9          2.3         virginica\n",
              "145 6.7          3.3         5.7          2.5         virginica\n",
              "146 6.7          3.0         5.2          2.3         virginica\n",
              "147 6.3          2.5         5.0          1.9         virginica\n",
              "148 6.5          3.0         5.2          2.0         virginica\n",
              "149 6.2          3.4         5.4          2.3         virginica\n",
              "150 5.9          3.0         5.1          1.8         virginica"
            ],
            "text/html": [
              "<table class=\"dataframe\">\n",
              "<caption>A data.frame: 150 × 5</caption>\n",
              "<thead>\n",
              "\t<tr><th scope=col>Sepal.Length</th><th scope=col>Sepal.Width</th><th scope=col>Petal.Length</th><th scope=col>Petal.Width</th><th scope=col>Species</th></tr>\n",
              "\t<tr><th scope=col>&lt;dbl&gt;</th><th scope=col>&lt;dbl&gt;</th><th scope=col>&lt;dbl&gt;</th><th scope=col>&lt;dbl&gt;</th><th scope=col>&lt;fct&gt;</th></tr>\n",
              "</thead>\n",
              "<tbody>\n",
              "\t<tr><td>5.1</td><td>3.5</td><td>1.4</td><td>0.2</td><td>setosa</td></tr>\n",
              "\t<tr><td>4.9</td><td>3.0</td><td>1.4</td><td>0.2</td><td>setosa</td></tr>\n",
              "\t<tr><td>4.7</td><td>3.2</td><td>1.3</td><td>0.2</td><td>setosa</td></tr>\n",
              "\t<tr><td>4.6</td><td>3.1</td><td>1.5</td><td>0.2</td><td>setosa</td></tr>\n",
              "\t<tr><td>5.0</td><td>3.6</td><td>1.4</td><td>0.2</td><td>setosa</td></tr>\n",
              "\t<tr><td>5.4</td><td>3.9</td><td>1.7</td><td>0.4</td><td>setosa</td></tr>\n",
              "\t<tr><td>4.6</td><td>3.4</td><td>1.4</td><td>0.3</td><td>setosa</td></tr>\n",
              "\t<tr><td>5.0</td><td>3.4</td><td>1.5</td><td>0.2</td><td>setosa</td></tr>\n",
              "\t<tr><td>4.4</td><td>2.9</td><td>1.4</td><td>0.2</td><td>setosa</td></tr>\n",
              "\t<tr><td>4.9</td><td>3.1</td><td>1.5</td><td>0.1</td><td>setosa</td></tr>\n",
              "\t<tr><td>5.4</td><td>3.7</td><td>1.5</td><td>0.2</td><td>setosa</td></tr>\n",
              "\t<tr><td>4.8</td><td>3.4</td><td>1.6</td><td>0.2</td><td>setosa</td></tr>\n",
              "\t<tr><td>4.8</td><td>3.0</td><td>1.4</td><td>0.1</td><td>setosa</td></tr>\n",
              "\t<tr><td>4.3</td><td>3.0</td><td>1.1</td><td>0.1</td><td>setosa</td></tr>\n",
              "\t<tr><td>5.8</td><td>4.0</td><td>1.2</td><td>0.2</td><td>setosa</td></tr>\n",
              "\t<tr><td>5.7</td><td>4.4</td><td>1.5</td><td>0.4</td><td>setosa</td></tr>\n",
              "\t<tr><td>5.4</td><td>3.9</td><td>1.3</td><td>0.4</td><td>setosa</td></tr>\n",
              "\t<tr><td>5.1</td><td>3.5</td><td>1.4</td><td>0.3</td><td>setosa</td></tr>\n",
              "\t<tr><td>5.7</td><td>3.8</td><td>1.7</td><td>0.3</td><td>setosa</td></tr>\n",
              "\t<tr><td>5.1</td><td>3.8</td><td>1.5</td><td>0.3</td><td>setosa</td></tr>\n",
              "\t<tr><td>5.4</td><td>3.4</td><td>1.7</td><td>0.2</td><td>setosa</td></tr>\n",
              "\t<tr><td>5.1</td><td>3.7</td><td>1.5</td><td>0.4</td><td>setosa</td></tr>\n",
              "\t<tr><td>4.6</td><td>3.6</td><td>1.0</td><td>0.2</td><td>setosa</td></tr>\n",
              "\t<tr><td>5.1</td><td>3.3</td><td>1.7</td><td>0.5</td><td>setosa</td></tr>\n",
              "\t<tr><td>4.8</td><td>3.4</td><td>1.9</td><td>0.2</td><td>setosa</td></tr>\n",
              "\t<tr><td>5.0</td><td>3.0</td><td>1.6</td><td>0.2</td><td>setosa</td></tr>\n",
              "\t<tr><td>5.0</td><td>3.4</td><td>1.6</td><td>0.4</td><td>setosa</td></tr>\n",
              "\t<tr><td>5.2</td><td>3.5</td><td>1.5</td><td>0.2</td><td>setosa</td></tr>\n",
              "\t<tr><td>5.2</td><td>3.4</td><td>1.4</td><td>0.2</td><td>setosa</td></tr>\n",
              "\t<tr><td>4.7</td><td>3.2</td><td>1.6</td><td>0.2</td><td>setosa</td></tr>\n",
              "\t<tr><td>⋮</td><td>⋮</td><td>⋮</td><td>⋮</td><td>⋮</td></tr>\n",
              "\t<tr><td>6.9</td><td>3.2</td><td>5.7</td><td>2.3</td><td>virginica</td></tr>\n",
              "\t<tr><td>5.6</td><td>2.8</td><td>4.9</td><td>2.0</td><td>virginica</td></tr>\n",
              "\t<tr><td>7.7</td><td>2.8</td><td>6.7</td><td>2.0</td><td>virginica</td></tr>\n",
              "\t<tr><td>6.3</td><td>2.7</td><td>4.9</td><td>1.8</td><td>virginica</td></tr>\n",
              "\t<tr><td>6.7</td><td>3.3</td><td>5.7</td><td>2.1</td><td>virginica</td></tr>\n",
              "\t<tr><td>7.2</td><td>3.2</td><td>6.0</td><td>1.8</td><td>virginica</td></tr>\n",
              "\t<tr><td>6.2</td><td>2.8</td><td>4.8</td><td>1.8</td><td>virginica</td></tr>\n",
              "\t<tr><td>6.1</td><td>3.0</td><td>4.9</td><td>1.8</td><td>virginica</td></tr>\n",
              "\t<tr><td>6.4</td><td>2.8</td><td>5.6</td><td>2.1</td><td>virginica</td></tr>\n",
              "\t<tr><td>7.2</td><td>3.0</td><td>5.8</td><td>1.6</td><td>virginica</td></tr>\n",
              "\t<tr><td>7.4</td><td>2.8</td><td>6.1</td><td>1.9</td><td>virginica</td></tr>\n",
              "\t<tr><td>7.9</td><td>3.8</td><td>6.4</td><td>2.0</td><td>virginica</td></tr>\n",
              "\t<tr><td>6.4</td><td>2.8</td><td>5.6</td><td>2.2</td><td>virginica</td></tr>\n",
              "\t<tr><td>6.3</td><td>2.8</td><td>5.1</td><td>1.5</td><td>virginica</td></tr>\n",
              "\t<tr><td>6.1</td><td>2.6</td><td>5.6</td><td>1.4</td><td>virginica</td></tr>\n",
              "\t<tr><td>7.7</td><td>3.0</td><td>6.1</td><td>2.3</td><td>virginica</td></tr>\n",
              "\t<tr><td>6.3</td><td>3.4</td><td>5.6</td><td>2.4</td><td>virginica</td></tr>\n",
              "\t<tr><td>6.4</td><td>3.1</td><td>5.5</td><td>1.8</td><td>virginica</td></tr>\n",
              "\t<tr><td>6.0</td><td>3.0</td><td>4.8</td><td>1.8</td><td>virginica</td></tr>\n",
              "\t<tr><td>6.9</td><td>3.1</td><td>5.4</td><td>2.1</td><td>virginica</td></tr>\n",
              "\t<tr><td>6.7</td><td>3.1</td><td>5.6</td><td>2.4</td><td>virginica</td></tr>\n",
              "\t<tr><td>6.9</td><td>3.1</td><td>5.1</td><td>2.3</td><td>virginica</td></tr>\n",
              "\t<tr><td>5.8</td><td>2.7</td><td>5.1</td><td>1.9</td><td>virginica</td></tr>\n",
              "\t<tr><td>6.8</td><td>3.2</td><td>5.9</td><td>2.3</td><td>virginica</td></tr>\n",
              "\t<tr><td>6.7</td><td>3.3</td><td>5.7</td><td>2.5</td><td>virginica</td></tr>\n",
              "\t<tr><td>6.7</td><td>3.0</td><td>5.2</td><td>2.3</td><td>virginica</td></tr>\n",
              "\t<tr><td>6.3</td><td>2.5</td><td>5.0</td><td>1.9</td><td>virginica</td></tr>\n",
              "\t<tr><td>6.5</td><td>3.0</td><td>5.2</td><td>2.0</td><td>virginica</td></tr>\n",
              "\t<tr><td>6.2</td><td>3.4</td><td>5.4</td><td>2.3</td><td>virginica</td></tr>\n",
              "\t<tr><td>5.9</td><td>3.0</td><td>5.1</td><td>1.8</td><td>virginica</td></tr>\n",
              "</tbody>\n",
              "</table>\n"
            ],
            "text/markdown": "\nA data.frame: 150 × 5\n\n| Sepal.Length &lt;dbl&gt; | Sepal.Width &lt;dbl&gt; | Petal.Length &lt;dbl&gt; | Petal.Width &lt;dbl&gt; | Species &lt;fct&gt; |\n|---|---|---|---|---|\n| 5.1 | 3.5 | 1.4 | 0.2 | setosa |\n| 4.9 | 3.0 | 1.4 | 0.2 | setosa |\n| 4.7 | 3.2 | 1.3 | 0.2 | setosa |\n| 4.6 | 3.1 | 1.5 | 0.2 | setosa |\n| 5.0 | 3.6 | 1.4 | 0.2 | setosa |\n| 5.4 | 3.9 | 1.7 | 0.4 | setosa |\n| 4.6 | 3.4 | 1.4 | 0.3 | setosa |\n| 5.0 | 3.4 | 1.5 | 0.2 | setosa |\n| 4.4 | 2.9 | 1.4 | 0.2 | setosa |\n| 4.9 | 3.1 | 1.5 | 0.1 | setosa |\n| 5.4 | 3.7 | 1.5 | 0.2 | setosa |\n| 4.8 | 3.4 | 1.6 | 0.2 | setosa |\n| 4.8 | 3.0 | 1.4 | 0.1 | setosa |\n| 4.3 | 3.0 | 1.1 | 0.1 | setosa |\n| 5.8 | 4.0 | 1.2 | 0.2 | setosa |\n| 5.7 | 4.4 | 1.5 | 0.4 | setosa |\n| 5.4 | 3.9 | 1.3 | 0.4 | setosa |\n| 5.1 | 3.5 | 1.4 | 0.3 | setosa |\n| 5.7 | 3.8 | 1.7 | 0.3 | setosa |\n| 5.1 | 3.8 | 1.5 | 0.3 | setosa |\n| 5.4 | 3.4 | 1.7 | 0.2 | setosa |\n| 5.1 | 3.7 | 1.5 | 0.4 | setosa |\n| 4.6 | 3.6 | 1.0 | 0.2 | setosa |\n| 5.1 | 3.3 | 1.7 | 0.5 | setosa |\n| 4.8 | 3.4 | 1.9 | 0.2 | setosa |\n| 5.0 | 3.0 | 1.6 | 0.2 | setosa |\n| 5.0 | 3.4 | 1.6 | 0.4 | setosa |\n| 5.2 | 3.5 | 1.5 | 0.2 | setosa |\n| 5.2 | 3.4 | 1.4 | 0.2 | setosa |\n| 4.7 | 3.2 | 1.6 | 0.2 | setosa |\n| ⋮ | ⋮ | ⋮ | ⋮ | ⋮ |\n| 6.9 | 3.2 | 5.7 | 2.3 | virginica |\n| 5.6 | 2.8 | 4.9 | 2.0 | virginica |\n| 7.7 | 2.8 | 6.7 | 2.0 | virginica |\n| 6.3 | 2.7 | 4.9 | 1.8 | virginica |\n| 6.7 | 3.3 | 5.7 | 2.1 | virginica |\n| 7.2 | 3.2 | 6.0 | 1.8 | virginica |\n| 6.2 | 2.8 | 4.8 | 1.8 | virginica |\n| 6.1 | 3.0 | 4.9 | 1.8 | virginica |\n| 6.4 | 2.8 | 5.6 | 2.1 | virginica |\n| 7.2 | 3.0 | 5.8 | 1.6 | virginica |\n| 7.4 | 2.8 | 6.1 | 1.9 | virginica |\n| 7.9 | 3.8 | 6.4 | 2.0 | virginica |\n| 6.4 | 2.8 | 5.6 | 2.2 | virginica |\n| 6.3 | 2.8 | 5.1 | 1.5 | virginica |\n| 6.1 | 2.6 | 5.6 | 1.4 | virginica |\n| 7.7 | 3.0 | 6.1 | 2.3 | virginica |\n| 6.3 | 3.4 | 5.6 | 2.4 | virginica |\n| 6.4 | 3.1 | 5.5 | 1.8 | virginica |\n| 6.0 | 3.0 | 4.8 | 1.8 | virginica |\n| 6.9 | 3.1 | 5.4 | 2.1 | virginica |\n| 6.7 | 3.1 | 5.6 | 2.4 | virginica |\n| 6.9 | 3.1 | 5.1 | 2.3 | virginica |\n| 5.8 | 2.7 | 5.1 | 1.9 | virginica |\n| 6.8 | 3.2 | 5.9 | 2.3 | virginica |\n| 6.7 | 3.3 | 5.7 | 2.5 | virginica |\n| 6.7 | 3.0 | 5.2 | 2.3 | virginica |\n| 6.3 | 2.5 | 5.0 | 1.9 | virginica |\n| 6.5 | 3.0 | 5.2 | 2.0 | virginica |\n| 6.2 | 3.4 | 5.4 | 2.3 | virginica |\n| 5.9 | 3.0 | 5.1 | 1.8 | virginica |\n\n",
            "text/latex": "A data.frame: 150 × 5\n\\begin{tabular}{lllll}\n Sepal.Length & Sepal.Width & Petal.Length & Petal.Width & Species\\\\\n <dbl> & <dbl> & <dbl> & <dbl> & <fct>\\\\\n\\hline\n\t 5.1 & 3.5 & 1.4 & 0.2 & setosa\\\\\n\t 4.9 & 3.0 & 1.4 & 0.2 & setosa\\\\\n\t 4.7 & 3.2 & 1.3 & 0.2 & setosa\\\\\n\t 4.6 & 3.1 & 1.5 & 0.2 & setosa\\\\\n\t 5.0 & 3.6 & 1.4 & 0.2 & setosa\\\\\n\t 5.4 & 3.9 & 1.7 & 0.4 & setosa\\\\\n\t 4.6 & 3.4 & 1.4 & 0.3 & setosa\\\\\n\t 5.0 & 3.4 & 1.5 & 0.2 & setosa\\\\\n\t 4.4 & 2.9 & 1.4 & 0.2 & setosa\\\\\n\t 4.9 & 3.1 & 1.5 & 0.1 & setosa\\\\\n\t 5.4 & 3.7 & 1.5 & 0.2 & setosa\\\\\n\t 4.8 & 3.4 & 1.6 & 0.2 & setosa\\\\\n\t 4.8 & 3.0 & 1.4 & 0.1 & setosa\\\\\n\t 4.3 & 3.0 & 1.1 & 0.1 & setosa\\\\\n\t 5.8 & 4.0 & 1.2 & 0.2 & setosa\\\\\n\t 5.7 & 4.4 & 1.5 & 0.4 & setosa\\\\\n\t 5.4 & 3.9 & 1.3 & 0.4 & setosa\\\\\n\t 5.1 & 3.5 & 1.4 & 0.3 & setosa\\\\\n\t 5.7 & 3.8 & 1.7 & 0.3 & setosa\\\\\n\t 5.1 & 3.8 & 1.5 & 0.3 & setosa\\\\\n\t 5.4 & 3.4 & 1.7 & 0.2 & setosa\\\\\n\t 5.1 & 3.7 & 1.5 & 0.4 & setosa\\\\\n\t 4.6 & 3.6 & 1.0 & 0.2 & setosa\\\\\n\t 5.1 & 3.3 & 1.7 & 0.5 & setosa\\\\\n\t 4.8 & 3.4 & 1.9 & 0.2 & setosa\\\\\n\t 5.0 & 3.0 & 1.6 & 0.2 & setosa\\\\\n\t 5.0 & 3.4 & 1.6 & 0.4 & setosa\\\\\n\t 5.2 & 3.5 & 1.5 & 0.2 & setosa\\\\\n\t 5.2 & 3.4 & 1.4 & 0.2 & setosa\\\\\n\t 4.7 & 3.2 & 1.6 & 0.2 & setosa\\\\\n\t ⋮ & ⋮ & ⋮ & ⋮ & ⋮\\\\\n\t 6.9 & 3.2 & 5.7 & 2.3 & virginica\\\\\n\t 5.6 & 2.8 & 4.9 & 2.0 & virginica\\\\\n\t 7.7 & 2.8 & 6.7 & 2.0 & virginica\\\\\n\t 6.3 & 2.7 & 4.9 & 1.8 & virginica\\\\\n\t 6.7 & 3.3 & 5.7 & 2.1 & virginica\\\\\n\t 7.2 & 3.2 & 6.0 & 1.8 & virginica\\\\\n\t 6.2 & 2.8 & 4.8 & 1.8 & virginica\\\\\n\t 6.1 & 3.0 & 4.9 & 1.8 & virginica\\\\\n\t 6.4 & 2.8 & 5.6 & 2.1 & virginica\\\\\n\t 7.2 & 3.0 & 5.8 & 1.6 & virginica\\\\\n\t 7.4 & 2.8 & 6.1 & 1.9 & virginica\\\\\n\t 7.9 & 3.8 & 6.4 & 2.0 & virginica\\\\\n\t 6.4 & 2.8 & 5.6 & 2.2 & virginica\\\\\n\t 6.3 & 2.8 & 5.1 & 1.5 & virginica\\\\\n\t 6.1 & 2.6 & 5.6 & 1.4 & virginica\\\\\n\t 7.7 & 3.0 & 6.1 & 2.3 & virginica\\\\\n\t 6.3 & 3.4 & 5.6 & 2.4 & virginica\\\\\n\t 6.4 & 3.1 & 5.5 & 1.8 & virginica\\\\\n\t 6.0 & 3.0 & 4.8 & 1.8 & virginica\\\\\n\t 6.9 & 3.1 & 5.4 & 2.1 & virginica\\\\\n\t 6.7 & 3.1 & 5.6 & 2.4 & virginica\\\\\n\t 6.9 & 3.1 & 5.1 & 2.3 & virginica\\\\\n\t 5.8 & 2.7 & 5.1 & 1.9 & virginica\\\\\n\t 6.8 & 3.2 & 5.9 & 2.3 & virginica\\\\\n\t 6.7 & 3.3 & 5.7 & 2.5 & virginica\\\\\n\t 6.7 & 3.0 & 5.2 & 2.3 & virginica\\\\\n\t 6.3 & 2.5 & 5.0 & 1.9 & virginica\\\\\n\t 6.5 & 3.0 & 5.2 & 2.0 & virginica\\\\\n\t 6.2 & 3.4 & 5.4 & 2.3 & virginica\\\\\n\t 5.9 & 3.0 & 5.1 & 1.8 & virginica\\\\\n\\end{tabular}\n"
          },
          "metadata": {}
        }
      ]
    },
    {
      "cell_type": "code",
      "source": [
        "apply(iris[,1:4],2, sum) # 4개의 열의 합\n",
        "apply(iris[,1:4],2, mean) # 평균\n",
        "apply(iris[,1:4],2, min)\n",
        "apply(iris[,1:4],2, max)\n",
        "apply(iris[,1:4],2, median)"
      ],
      "metadata": {
        "colab": {
          "base_uri": "https://localhost:8080/",
          "height": 104
        },
        "id": "YfRDqee_YoJx",
        "outputId": "014d7f15-5e13-48f3-800d-dc68301c19f4"
      },
      "execution_count": 33,
      "outputs": [
        {
          "output_type": "display_data",
          "data": {
            "text/html": [
              "<style>\n",
              ".dl-inline {width: auto; margin:0; padding: 0}\n",
              ".dl-inline>dt, .dl-inline>dd {float: none; width: auto; display: inline-block}\n",
              ".dl-inline>dt::after {content: \":\\0020\"; padding-right: .5ex}\n",
              ".dl-inline>dt:not(:first-of-type) {padding-left: .5ex}\n",
              "</style><dl class=dl-inline><dt>Sepal.Length</dt><dd>876.5</dd><dt>Sepal.Width</dt><dd>458.6</dd><dt>Petal.Length</dt><dd>563.7</dd><dt>Petal.Width</dt><dd>179.9</dd></dl>\n"
            ],
            "text/markdown": "Sepal.Length\n:   876.5Sepal.Width\n:   458.6Petal.Length\n:   563.7Petal.Width\n:   179.9\n\n",
            "text/latex": "\\begin{description*}\n\\item[Sepal.Length] 876.5\n\\item[Sepal.Width] 458.6\n\\item[Petal.Length] 563.7\n\\item[Petal.Width] 179.9\n\\end{description*}\n",
            "text/plain": [
              "Sepal.Length  Sepal.Width Petal.Length  Petal.Width \n",
              "       876.5        458.6        563.7        179.9 "
            ]
          },
          "metadata": {}
        },
        {
          "output_type": "display_data",
          "data": {
            "text/html": [
              "<style>\n",
              ".dl-inline {width: auto; margin:0; padding: 0}\n",
              ".dl-inline>dt, .dl-inline>dd {float: none; width: auto; display: inline-block}\n",
              ".dl-inline>dt::after {content: \":\\0020\"; padding-right: .5ex}\n",
              ".dl-inline>dt:not(:first-of-type) {padding-left: .5ex}\n",
              "</style><dl class=dl-inline><dt>Sepal.Length</dt><dd>5.84333333333333</dd><dt>Sepal.Width</dt><dd>3.05733333333333</dd><dt>Petal.Length</dt><dd>3.758</dd><dt>Petal.Width</dt><dd>1.19933333333333</dd></dl>\n"
            ],
            "text/markdown": "Sepal.Length\n:   5.84333333333333Sepal.Width\n:   3.05733333333333Petal.Length\n:   3.758Petal.Width\n:   1.19933333333333\n\n",
            "text/latex": "\\begin{description*}\n\\item[Sepal.Length] 5.84333333333333\n\\item[Sepal.Width] 3.05733333333333\n\\item[Petal.Length] 3.758\n\\item[Petal.Width] 1.19933333333333\n\\end{description*}\n",
            "text/plain": [
              "Sepal.Length  Sepal.Width Petal.Length  Petal.Width \n",
              "    5.843333     3.057333     3.758000     1.199333 "
            ]
          },
          "metadata": {}
        },
        {
          "output_type": "display_data",
          "data": {
            "text/html": [
              "<style>\n",
              ".dl-inline {width: auto; margin:0; padding: 0}\n",
              ".dl-inline>dt, .dl-inline>dd {float: none; width: auto; display: inline-block}\n",
              ".dl-inline>dt::after {content: \":\\0020\"; padding-right: .5ex}\n",
              ".dl-inline>dt:not(:first-of-type) {padding-left: .5ex}\n",
              "</style><dl class=dl-inline><dt>Sepal.Length</dt><dd>4.3</dd><dt>Sepal.Width</dt><dd>2</dd><dt>Petal.Length</dt><dd>1</dd><dt>Petal.Width</dt><dd>0.1</dd></dl>\n"
            ],
            "text/markdown": "Sepal.Length\n:   4.3Sepal.Width\n:   2Petal.Length\n:   1Petal.Width\n:   0.1\n\n",
            "text/latex": "\\begin{description*}\n\\item[Sepal.Length] 4.3\n\\item[Sepal.Width] 2\n\\item[Petal.Length] 1\n\\item[Petal.Width] 0.1\n\\end{description*}\n",
            "text/plain": [
              "Sepal.Length  Sepal.Width Petal.Length  Petal.Width \n",
              "         4.3          2.0          1.0          0.1 "
            ]
          },
          "metadata": {}
        },
        {
          "output_type": "display_data",
          "data": {
            "text/html": [
              "<style>\n",
              ".dl-inline {width: auto; margin:0; padding: 0}\n",
              ".dl-inline>dt, .dl-inline>dd {float: none; width: auto; display: inline-block}\n",
              ".dl-inline>dt::after {content: \":\\0020\"; padding-right: .5ex}\n",
              ".dl-inline>dt:not(:first-of-type) {padding-left: .5ex}\n",
              "</style><dl class=dl-inline><dt>Sepal.Length</dt><dd>7.9</dd><dt>Sepal.Width</dt><dd>4.4</dd><dt>Petal.Length</dt><dd>6.9</dd><dt>Petal.Width</dt><dd>2.5</dd></dl>\n"
            ],
            "text/markdown": "Sepal.Length\n:   7.9Sepal.Width\n:   4.4Petal.Length\n:   6.9Petal.Width\n:   2.5\n\n",
            "text/latex": "\\begin{description*}\n\\item[Sepal.Length] 7.9\n\\item[Sepal.Width] 4.4\n\\item[Petal.Length] 6.9\n\\item[Petal.Width] 2.5\n\\end{description*}\n",
            "text/plain": [
              "Sepal.Length  Sepal.Width Petal.Length  Petal.Width \n",
              "         7.9          4.4          6.9          2.5 "
            ]
          },
          "metadata": {}
        },
        {
          "output_type": "display_data",
          "data": {
            "text/html": [
              "<style>\n",
              ".dl-inline {width: auto; margin:0; padding: 0}\n",
              ".dl-inline>dt, .dl-inline>dd {float: none; width: auto; display: inline-block}\n",
              ".dl-inline>dt::after {content: \":\\0020\"; padding-right: .5ex}\n",
              ".dl-inline>dt:not(:first-of-type) {padding-left: .5ex}\n",
              "</style><dl class=dl-inline><dt>Sepal.Length</dt><dd>5.8</dd><dt>Sepal.Width</dt><dd>3</dd><dt>Petal.Length</dt><dd>4.35</dd><dt>Petal.Width</dt><dd>1.3</dd></dl>\n"
            ],
            "text/markdown": "Sepal.Length\n:   5.8Sepal.Width\n:   3Petal.Length\n:   4.35Petal.Width\n:   1.3\n\n",
            "text/latex": "\\begin{description*}\n\\item[Sepal.Length] 5.8\n\\item[Sepal.Width] 3\n\\item[Petal.Length] 4.35\n\\item[Petal.Width] 1.3\n\\end{description*}\n",
            "text/plain": [
              "Sepal.Length  Sepal.Width Petal.Length  Petal.Width \n",
              "        5.80         3.00         4.35         1.30 "
            ]
          },
          "metadata": {}
        }
      ]
    },
    {
      "cell_type": "code",
      "source": [
        "apply(iris[,1:4],2, sum) # 4개의 열의 합"
      ],
      "metadata": {
        "colab": {
          "base_uri": "https://localhost:8080/",
          "height": 34
        },
        "id": "ZWCNVRHaZGv2",
        "outputId": "2a853b83-138e-4697-9999-a27cafa33b33"
      },
      "execution_count": 34,
      "outputs": [
        {
          "output_type": "display_data",
          "data": {
            "text/html": [
              "<style>\n",
              ".dl-inline {width: auto; margin:0; padding: 0}\n",
              ".dl-inline>dt, .dl-inline>dd {float: none; width: auto; display: inline-block}\n",
              ".dl-inline>dt::after {content: \":\\0020\"; padding-right: .5ex}\n",
              ".dl-inline>dt:not(:first-of-type) {padding-left: .5ex}\n",
              "</style><dl class=dl-inline><dt>Sepal.Length</dt><dd>876.5</dd><dt>Sepal.Width</dt><dd>458.6</dd><dt>Petal.Length</dt><dd>563.7</dd><dt>Petal.Width</dt><dd>179.9</dd></dl>\n"
            ],
            "text/markdown": "Sepal.Length\n:   876.5Sepal.Width\n:   458.6Petal.Length\n:   563.7Petal.Width\n:   179.9\n\n",
            "text/latex": "\\begin{description*}\n\\item[Sepal.Length] 876.5\n\\item[Sepal.Width] 458.6\n\\item[Petal.Length] 563.7\n\\item[Petal.Width] 179.9\n\\end{description*}\n",
            "text/plain": [
              "Sepal.Length  Sepal.Width Petal.Length  Petal.Width \n",
              "       876.5        458.6        563.7        179.9 "
            ]
          },
          "metadata": {}
        }
      ]
    },
    {
      "cell_type": "code",
      "source": [
        "lapply(iris[, 1:4], sum)"
      ],
      "metadata": {
        "colab": {
          "base_uri": "https://localhost:8080/",
          "height": 184
        },
        "id": "eKWQ2Ha_ZG5m",
        "outputId": "404a327f-e227-4710-bf25-98858878c2a5"
      },
      "execution_count": 35,
      "outputs": [
        {
          "output_type": "display_data",
          "data": {
            "text/html": [
              "<dl>\n",
              "\t<dt>$Sepal.Length</dt>\n",
              "\t\t<dd>876.5</dd>\n",
              "\t<dt>$Sepal.Width</dt>\n",
              "\t\t<dd>458.6</dd>\n",
              "\t<dt>$Petal.Length</dt>\n",
              "\t\t<dd>563.7</dd>\n",
              "\t<dt>$Petal.Width</dt>\n",
              "\t\t<dd>179.9</dd>\n",
              "</dl>\n"
            ],
            "text/markdown": "$Sepal.Length\n:   876.5\n$Sepal.Width\n:   458.6\n$Petal.Length\n:   563.7\n$Petal.Width\n:   179.9\n\n\n",
            "text/latex": "\\begin{description}\n\\item[\\$Sepal.Length] 876.5\n\\item[\\$Sepal.Width] 458.6\n\\item[\\$Petal.Length] 563.7\n\\item[\\$Petal.Width] 179.9\n\\end{description}\n",
            "text/plain": [
              "$Sepal.Length\n",
              "[1] 876.5\n",
              "\n",
              "$Sepal.Width\n",
              "[1] 458.6\n",
              "\n",
              "$Petal.Length\n",
              "[1] 563.7\n",
              "\n",
              "$Petal.Width\n",
              "[1] 179.9\n"
            ]
          },
          "metadata": {}
        }
      ]
    },
    {
      "cell_type": "code",
      "source": [
        "sapply(iris[, 1:4], sum)"
      ],
      "metadata": {
        "colab": {
          "base_uri": "https://localhost:8080/",
          "height": 34
        },
        "id": "RdWVFXmHZUcU",
        "outputId": "1efdc017-716c-4cf0-caa3-70295233e2ac"
      },
      "execution_count": 37,
      "outputs": [
        {
          "output_type": "display_data",
          "data": {
            "text/html": [
              "<style>\n",
              ".dl-inline {width: auto; margin:0; padding: 0}\n",
              ".dl-inline>dt, .dl-inline>dd {float: none; width: auto; display: inline-block}\n",
              ".dl-inline>dt::after {content: \":\\0020\"; padding-right: .5ex}\n",
              ".dl-inline>dt:not(:first-of-type) {padding-left: .5ex}\n",
              "</style><dl class=dl-inline><dt>Sepal.Length</dt><dd>876.5</dd><dt>Sepal.Width</dt><dd>458.6</dd><dt>Petal.Length</dt><dd>563.7</dd><dt>Petal.Width</dt><dd>179.9</dd></dl>\n"
            ],
            "text/markdown": "Sepal.Length\n:   876.5Sepal.Width\n:   458.6Petal.Length\n:   563.7Petal.Width\n:   179.9\n\n",
            "text/latex": "\\begin{description*}\n\\item[Sepal.Length] 876.5\n\\item[Sepal.Width] 458.6\n\\item[Petal.Length] 563.7\n\\item[Petal.Width] 179.9\n\\end{description*}\n",
            "text/plain": [
              "Sepal.Length  Sepal.Width Petal.Length  Petal.Width \n",
              "       876.5        458.6        563.7        179.9 "
            ]
          },
          "metadata": {}
        }
      ]
    },
    {
      "cell_type": "code",
      "source": [],
      "metadata": {
        "id": "PZTafHOtZUhr"
      },
      "execution_count": null,
      "outputs": []
    },
    {
      "cell_type": "code",
      "source": [
        "sum <- 0\n",
        "for(i in 1:100){\n",
        "  sum <- sum +i\n",
        "  i <- i +1\n",
        "}\n",
        "cat(sum)"
      ],
      "metadata": {
        "colab": {
          "base_uri": "https://localhost:8080/"
        },
        "id": "B_wBUQ9UZUnC",
        "outputId": "a56ac258-e295-4b90-f8f0-e749df8f698b"
      },
      "execution_count": 39,
      "outputs": [
        {
          "output_type": "stream",
          "name": "stdout",
          "text": [
            "5050"
          ]
        }
      ]
    },
    {
      "cell_type": "code",
      "source": [
        "{\n",
        "\n",
        "}"
      ],
      "metadata": {
        "id": "Lb76mBN_Z-QF"
      },
      "execution_count": null,
      "outputs": []
    }
  ]
}