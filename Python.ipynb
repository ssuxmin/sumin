{
  "nbformat": 4,
  "nbformat_minor": 0,
  "metadata": {
    "colab": {
      "provenance": [],
      "machine_shape": "hm",
      "gpuType": "V100",
      "authorship_tag": "ABX9TyNoRnK9jhA6YmTYTvBrH8vJ",
      "include_colab_link": true
    },
    "kernelspec": {
      "name": "python3",
      "display_name": "Python 3"
    },
    "language_info": {
      "name": "python"
    },
    "accelerator": "GPU"
  },
  "cells": [
    {
      "cell_type": "markdown",
      "metadata": {
        "id": "view-in-github",
        "colab_type": "text"
      },
      "source": [
        "<a href=\"https://colab.research.google.com/github/ssuxmin/sumin/blob/main/Python.ipynb\" target=\"_parent\"><img src=\"https://colab.research.google.com/assets/colab-badge.svg\" alt=\"Open In Colab\"/></a>"
      ]
    },
    {
      "cell_type": "markdown",
      "source": [
        "# Exam1"
      ],
      "metadata": {
        "id": "0Gd_NC7_y7nr"
      }
    },
    {
      "cell_type": "code",
      "source": [
        "import tensorflow as tf\n",
        "import numpy as np\n",
        "\n",
        "tf.__version__"
      ],
      "metadata": {
        "colab": {
          "base_uri": "https://localhost:8080/",
          "height": 35
        },
        "id": "z_X4CnUczYH_",
        "outputId": "3adcfb99-2556-47a9-dbaa-00eb370c1479"
      },
      "execution_count": null,
      "outputs": [
        {
          "output_type": "execute_result",
          "data": {
            "text/plain": [
              "'2.15.0'"
            ],
            "application/vnd.google.colaboratory.intrinsic+json": {
              "type": "string"
            }
          },
          "metadata": {},
          "execution_count": 9
        }
      ]
    },
    {
      "cell_type": "code",
      "source": [
        "import numpy as np\n",
        "from sklearn.datasets import make_circles\n",
        "\n",
        "inputs, targets = make_circles(n_samples=5000, factor=0.5, noise=0.05)\n",
        "inputs_dev, targets_dev = make_circles(n_samples=1000, factor=0.5, noise=0.05)\n",
        "\n",
        "import matplotlib.pyplot as plt\n",
        "plt.scatter(inputs[:, 0], inputs[:, 1], c=targets)\n",
        "plt.show()"
      ],
      "metadata": {
        "id": "-yjZ8OLOzYbI"
      },
      "execution_count": null,
      "outputs": []
    },
    {
      "cell_type": "markdown",
      "source": [
        "### Q1 [10] 아래와 같은 모형을 완성해주세요.\n",
        "  - [5] inputs 와 inputs_dev 데이터의 차원을 확인해주세요.\n",
        "  - [5] 아래와 같이 모형을 정의해 봅시다.\n",
        "    \n",
        "![image.png](data:image/png;base64,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)"
      ],
      "metadata": {
        "id": "V4bO21r3zYlH"
      }
    },
    {
      "cell_type": "code",
      "source": [
        "# 1. inputs와 inputs_dev 데이터의 차원 확인\n",
        "print(\"inputs shape:\", inputs.shape)\n",
        "print(\"inputs_dev shape:\", inputs_dev.shape)"
      ],
      "metadata": {
        "colab": {
          "base_uri": "https://localhost:8080/"
        },
        "id": "dOn7ybZWzYsk",
        "outputId": "3c8d581f-9be5-4dc9-fed2-4ec69f40e863"
      },
      "execution_count": null,
      "outputs": [
        {
          "output_type": "stream",
          "name": "stdout",
          "text": [
            "inputs shape: (5000, 2)\n",
            "inputs_dev shape: (1000, 2)\n"
          ]
        }
      ]
    },
    {
      "cell_type": "code",
      "source": [
        "# 입력 데이터의 형태 지정\n",
        "input_shape = inputs.shape[1:]\n",
        "\n",
        "# 모델 정의\n",
        "model = tf.keras.Sequential([\n",
        "    tf.keras.layers.Input(shape=input_shape),\n",
        "    tf.keras.layers.Dense(3, activation='relu', name='dense_1'),\n",
        "    tf.keras.layers.Dense(1, activation='sigmoid', name='dense_2')\n",
        "])\n",
        "\n",
        "\n",
        "# 모델 컴파일\n",
        "model.compile(optimizer='adam',\n",
        "              loss='sparse_categorical_crossentropy',\n",
        "              metrics=['accuracy'])\n",
        "\n",
        "# 모델 구조 확인\n",
        "model.summary()"
      ],
      "metadata": {
        "colab": {
          "base_uri": "https://localhost:8080/"
        },
        "id": "4lo029BdzYzr",
        "outputId": "e1e8e0af-c6d2-4a12-a332-fb637a1bab5c"
      },
      "execution_count": null,
      "outputs": [
        {
          "output_type": "stream",
          "name": "stdout",
          "text": [
            "Model: \"sequential_3\"\n",
            "_________________________________________________________________\n",
            " Layer (type)                Output Shape              Param #   \n",
            "=================================================================\n",
            " dense_1 (Dense)             (None, 3)                 9         \n",
            "                                                                 \n",
            " dense_2 (Dense)             (None, 1)                 4         \n",
            "                                                                 \n",
            "=================================================================\n",
            "Total params: 13 (52.00 Byte)\n",
            "Trainable params: 13 (52.00 Byte)\n",
            "Non-trainable params: 0 (0.00 Byte)\n",
            "_________________________________________________________________\n"
          ]
        }
      ]
    },
    {
      "cell_type": "markdown",
      "source": [
        "### Q2 [20] 모형을 컴파일해보세요.  \n",
        " - [5] optimizer 로 'SGD' 를 사용합니다.\n",
        " - [5] binary cross entropy loss 를 사용합니다.\n",
        " - [5] evaluation metric 으로 'accuracy' 를 사용합니다.\n",
        " - [5] 배치사이즈를 50으로 하고, 100 epoch 학습을 수행해보세요. validation 데이터로 inputs_dev, targets_dev를 활용해서 학습과정중에 dev셋 성능을 확인해주세요."
      ],
      "metadata": {
        "id": "JoEX7cZJ07L7"
      }
    },
    {
      "cell_type": "code",
      "source": [
        "import tensorflow as tf\n",
        "\n",
        "# 모델 컴파일\n",
        "model.compile(optimizer='SGD',\n",
        "              loss='binary_crossentropy',\n",
        "              metrics=['accuracy'])\n",
        "\n",
        "# 모델 학습\n",
        "history = model.fit(inputs, targets, epochs=100, batch_size=50, validation_data=(inputs_dev, targets_dev))"
      ],
      "metadata": {
        "colab": {
          "base_uri": "https://localhost:8080/"
        },
        "id": "0EGptSTm07Ri",
        "outputId": "fc9e03df-6e7b-445f-cdb6-ffa7d12e934f"
      },
      "execution_count": null,
      "outputs": [
        {
          "output_type": "stream",
          "name": "stdout",
          "text": [
            "Epoch 1/100\n",
            "100/100 [==============================] - 1s 4ms/step - loss: 0.6460 - accuracy: 0.5158 - val_loss: 0.6334 - val_accuracy: 0.5250\n",
            "Epoch 2/100\n",
            "100/100 [==============================] - 0s 3ms/step - loss: 0.6262 - accuracy: 0.5386 - val_loss: 0.6205 - val_accuracy: 0.5520\n",
            "Epoch 3/100\n",
            "100/100 [==============================] - 0s 2ms/step - loss: 0.6167 - accuracy: 0.5658 - val_loss: 0.6133 - val_accuracy: 0.5900\n",
            "Epoch 4/100\n",
            "100/100 [==============================] - 0s 2ms/step - loss: 0.6109 - accuracy: 0.6216 - val_loss: 0.6084 - val_accuracy: 0.6420\n",
            "Epoch 5/100\n",
            "100/100 [==============================] - 0s 2ms/step - loss: 0.6064 - accuracy: 0.6642 - val_loss: 0.6039 - val_accuracy: 0.6870\n",
            "Epoch 6/100\n",
            "100/100 [==============================] - 0s 2ms/step - loss: 0.6020 - accuracy: 0.6910 - val_loss: 0.5997 - val_accuracy: 0.7090\n",
            "Epoch 7/100\n",
            "100/100 [==============================] - 0s 2ms/step - loss: 0.5981 - accuracy: 0.7060 - val_loss: 0.5959 - val_accuracy: 0.7250\n",
            "Epoch 8/100\n",
            "100/100 [==============================] - 0s 2ms/step - loss: 0.5945 - accuracy: 0.7230 - val_loss: 0.5923 - val_accuracy: 0.7300\n",
            "Epoch 9/100\n",
            "100/100 [==============================] - 0s 3ms/step - loss: 0.5910 - accuracy: 0.7374 - val_loss: 0.5889 - val_accuracy: 0.7340\n",
            "Epoch 10/100\n",
            "100/100 [==============================] - 0s 2ms/step - loss: 0.5876 - accuracy: 0.7392 - val_loss: 0.5855 - val_accuracy: 0.7380\n",
            "Epoch 11/100\n",
            "100/100 [==============================] - 0s 3ms/step - loss: 0.5843 - accuracy: 0.7438 - val_loss: 0.5821 - val_accuracy: 0.7450\n",
            "Epoch 12/100\n",
            "100/100 [==============================] - 0s 2ms/step - loss: 0.5809 - accuracy: 0.7488 - val_loss: 0.5787 - val_accuracy: 0.7550\n",
            "Epoch 13/100\n",
            "100/100 [==============================] - 0s 2ms/step - loss: 0.5775 - accuracy: 0.7546 - val_loss: 0.5753 - val_accuracy: 0.7590\n",
            "Epoch 14/100\n",
            "100/100 [==============================] - 0s 3ms/step - loss: 0.5741 - accuracy: 0.7564 - val_loss: 0.5719 - val_accuracy: 0.7660\n",
            "Epoch 15/100\n",
            "100/100 [==============================] - 0s 4ms/step - loss: 0.5707 - accuracy: 0.7618 - val_loss: 0.5685 - val_accuracy: 0.7700\n",
            "Epoch 16/100\n",
            "100/100 [==============================] - 0s 4ms/step - loss: 0.5673 - accuracy: 0.7666 - val_loss: 0.5651 - val_accuracy: 0.7730\n",
            "Epoch 17/100\n",
            "100/100 [==============================] - 0s 3ms/step - loss: 0.5639 - accuracy: 0.7704 - val_loss: 0.5617 - val_accuracy: 0.7730\n",
            "Epoch 18/100\n",
            "100/100 [==============================] - 0s 3ms/step - loss: 0.5605 - accuracy: 0.7672 - val_loss: 0.5583 - val_accuracy: 0.7810\n",
            "Epoch 19/100\n",
            "100/100 [==============================] - 0s 4ms/step - loss: 0.5571 - accuracy: 0.7754 - val_loss: 0.5550 - val_accuracy: 0.7850\n",
            "Epoch 20/100\n",
            "100/100 [==============================] - 0s 4ms/step - loss: 0.5538 - accuracy: 0.7780 - val_loss: 0.5516 - val_accuracy: 0.7860\n",
            "Epoch 21/100\n",
            "100/100 [==============================] - 0s 3ms/step - loss: 0.5504 - accuracy: 0.7796 - val_loss: 0.5482 - val_accuracy: 0.7880\n",
            "Epoch 22/100\n",
            "100/100 [==============================] - 0s 2ms/step - loss: 0.5470 - accuracy: 0.7840 - val_loss: 0.5448 - val_accuracy: 0.7900\n",
            "Epoch 23/100\n",
            "100/100 [==============================] - 0s 2ms/step - loss: 0.5436 - accuracy: 0.7880 - val_loss: 0.5414 - val_accuracy: 0.7940\n",
            "Epoch 24/100\n",
            "100/100 [==============================] - 0s 2ms/step - loss: 0.5402 - accuracy: 0.7882 - val_loss: 0.5381 - val_accuracy: 0.7970\n",
            "Epoch 25/100\n",
            "100/100 [==============================] - 0s 2ms/step - loss: 0.5369 - accuracy: 0.7916 - val_loss: 0.5347 - val_accuracy: 0.7990\n",
            "Epoch 26/100\n",
            "100/100 [==============================] - 0s 2ms/step - loss: 0.5335 - accuracy: 0.7916 - val_loss: 0.5313 - val_accuracy: 0.7990\n",
            "Epoch 27/100\n",
            "100/100 [==============================] - 0s 2ms/step - loss: 0.5301 - accuracy: 0.7970 - val_loss: 0.5279 - val_accuracy: 0.7990\n",
            "Epoch 28/100\n",
            "100/100 [==============================] - 0s 2ms/step - loss: 0.5267 - accuracy: 0.7982 - val_loss: 0.5245 - val_accuracy: 0.8000\n",
            "Epoch 29/100\n",
            "100/100 [==============================] - 0s 2ms/step - loss: 0.5233 - accuracy: 0.8014 - val_loss: 0.5211 - val_accuracy: 0.8000\n",
            "Epoch 30/100\n",
            "100/100 [==============================] - 0s 2ms/step - loss: 0.5198 - accuracy: 0.8022 - val_loss: 0.5176 - val_accuracy: 0.8010\n",
            "Epoch 31/100\n",
            "100/100 [==============================] - 0s 2ms/step - loss: 0.5164 - accuracy: 0.8032 - val_loss: 0.5142 - val_accuracy: 0.8060\n",
            "Epoch 32/100\n",
            "100/100 [==============================] - 0s 2ms/step - loss: 0.5129 - accuracy: 0.8050 - val_loss: 0.5107 - val_accuracy: 0.8070\n",
            "Epoch 33/100\n",
            "100/100 [==============================] - 0s 2ms/step - loss: 0.5094 - accuracy: 0.8094 - val_loss: 0.5072 - val_accuracy: 0.8070\n",
            "Epoch 34/100\n",
            "100/100 [==============================] - 0s 2ms/step - loss: 0.5059 - accuracy: 0.8100 - val_loss: 0.5036 - val_accuracy: 0.8100\n",
            "Epoch 35/100\n",
            "100/100 [==============================] - 0s 2ms/step - loss: 0.5024 - accuracy: 0.8106 - val_loss: 0.5000 - val_accuracy: 0.8130\n",
            "Epoch 36/100\n",
            "100/100 [==============================] - 0s 2ms/step - loss: 0.4988 - accuracy: 0.8128 - val_loss: 0.4964 - val_accuracy: 0.8130\n",
            "Epoch 37/100\n",
            "100/100 [==============================] - 0s 2ms/step - loss: 0.4952 - accuracy: 0.8128 - val_loss: 0.4928 - val_accuracy: 0.8140\n",
            "Epoch 38/100\n",
            "100/100 [==============================] - 0s 2ms/step - loss: 0.4915 - accuracy: 0.8122 - val_loss: 0.4891 - val_accuracy: 0.8140\n",
            "Epoch 39/100\n",
            "100/100 [==============================] - 0s 2ms/step - loss: 0.4878 - accuracy: 0.8154 - val_loss: 0.4853 - val_accuracy: 0.8150\n",
            "Epoch 40/100\n",
            "100/100 [==============================] - 0s 2ms/step - loss: 0.4841 - accuracy: 0.8178 - val_loss: 0.4815 - val_accuracy: 0.8150\n",
            "Epoch 41/100\n",
            "100/100 [==============================] - 0s 2ms/step - loss: 0.4803 - accuracy: 0.8176 - val_loss: 0.4777 - val_accuracy: 0.8160\n",
            "Epoch 42/100\n",
            "100/100 [==============================] - 0s 2ms/step - loss: 0.4765 - accuracy: 0.8188 - val_loss: 0.4737 - val_accuracy: 0.8170\n",
            "Epoch 43/100\n",
            "100/100 [==============================] - 0s 2ms/step - loss: 0.4726 - accuracy: 0.8204 - val_loss: 0.4698 - val_accuracy: 0.8180\n",
            "Epoch 44/100\n",
            "100/100 [==============================] - 0s 3ms/step - loss: 0.4686 - accuracy: 0.8216 - val_loss: 0.4657 - val_accuracy: 0.8190\n",
            "Epoch 45/100\n",
            "100/100 [==============================] - 0s 2ms/step - loss: 0.4645 - accuracy: 0.8232 - val_loss: 0.4616 - val_accuracy: 0.8200\n",
            "Epoch 46/100\n",
            "100/100 [==============================] - 0s 2ms/step - loss: 0.4605 - accuracy: 0.8266 - val_loss: 0.4574 - val_accuracy: 0.8210\n",
            "Epoch 47/100\n",
            "100/100 [==============================] - 0s 2ms/step - loss: 0.4563 - accuracy: 0.8282 - val_loss: 0.4531 - val_accuracy: 0.8220\n",
            "Epoch 48/100\n",
            "100/100 [==============================] - 0s 2ms/step - loss: 0.4520 - accuracy: 0.8304 - val_loss: 0.4488 - val_accuracy: 0.8250\n",
            "Epoch 49/100\n",
            "100/100 [==============================] - 0s 2ms/step - loss: 0.4477 - accuracy: 0.8316 - val_loss: 0.4444 - val_accuracy: 0.8250\n",
            "Epoch 50/100\n",
            "100/100 [==============================] - 0s 2ms/step - loss: 0.4434 - accuracy: 0.8338 - val_loss: 0.4399 - val_accuracy: 0.8260\n",
            "Epoch 51/100\n",
            "100/100 [==============================] - 0s 2ms/step - loss: 0.4390 - accuracy: 0.8354 - val_loss: 0.4355 - val_accuracy: 0.8250\n",
            "Epoch 52/100\n",
            "100/100 [==============================] - 0s 2ms/step - loss: 0.4344 - accuracy: 0.8348 - val_loss: 0.4310 - val_accuracy: 0.8260\n",
            "Epoch 53/100\n",
            "100/100 [==============================] - 0s 3ms/step - loss: 0.4299 - accuracy: 0.8360 - val_loss: 0.4264 - val_accuracy: 0.8300\n",
            "Epoch 54/100\n",
            "100/100 [==============================] - 0s 3ms/step - loss: 0.4253 - accuracy: 0.8386 - val_loss: 0.4217 - val_accuracy: 0.8310\n",
            "Epoch 55/100\n",
            "100/100 [==============================] - 0s 3ms/step - loss: 0.4206 - accuracy: 0.8392 - val_loss: 0.4171 - val_accuracy: 0.8340\n",
            "Epoch 56/100\n",
            "100/100 [==============================] - 0s 3ms/step - loss: 0.4159 - accuracy: 0.8398 - val_loss: 0.4124 - val_accuracy: 0.8350\n",
            "Epoch 57/100\n",
            "100/100 [==============================] - 0s 2ms/step - loss: 0.4111 - accuracy: 0.8416 - val_loss: 0.4076 - val_accuracy: 0.8350\n",
            "Epoch 58/100\n",
            "100/100 [==============================] - 0s 2ms/step - loss: 0.4063 - accuracy: 0.8396 - val_loss: 0.4027 - val_accuracy: 0.8350\n",
            "Epoch 59/100\n",
            "100/100 [==============================] - 0s 3ms/step - loss: 0.4014 - accuracy: 0.8416 - val_loss: 0.3978 - val_accuracy: 0.8360\n",
            "Epoch 60/100\n",
            "100/100 [==============================] - 0s 2ms/step - loss: 0.3965 - accuracy: 0.8406 - val_loss: 0.3929 - val_accuracy: 0.8360\n",
            "Epoch 61/100\n",
            "100/100 [==============================] - 0s 2ms/step - loss: 0.3916 - accuracy: 0.8408 - val_loss: 0.3879 - val_accuracy: 0.8360\n",
            "Epoch 62/100\n",
            "100/100 [==============================] - 0s 2ms/step - loss: 0.3866 - accuracy: 0.8410 - val_loss: 0.3829 - val_accuracy: 0.8380\n",
            "Epoch 63/100\n",
            "100/100 [==============================] - 0s 3ms/step - loss: 0.3817 - accuracy: 0.8422 - val_loss: 0.3779 - val_accuracy: 0.8400\n",
            "Epoch 64/100\n",
            "100/100 [==============================] - 0s 3ms/step - loss: 0.3767 - accuracy: 0.8420 - val_loss: 0.3728 - val_accuracy: 0.8400\n",
            "Epoch 65/100\n",
            "100/100 [==============================] - 0s 3ms/step - loss: 0.3716 - accuracy: 0.8430 - val_loss: 0.3676 - val_accuracy: 0.8400\n",
            "Epoch 66/100\n",
            "100/100 [==============================] - 0s 3ms/step - loss: 0.3666 - accuracy: 0.8436 - val_loss: 0.3625 - val_accuracy: 0.8410\n",
            "Epoch 67/100\n",
            "100/100 [==============================] - 0s 3ms/step - loss: 0.3616 - accuracy: 0.8440 - val_loss: 0.3574 - val_accuracy: 0.8420\n",
            "Epoch 68/100\n",
            "100/100 [==============================] - 0s 3ms/step - loss: 0.3566 - accuracy: 0.8448 - val_loss: 0.3523 - val_accuracy: 0.8440\n",
            "Epoch 69/100\n",
            "100/100 [==============================] - 0s 4ms/step - loss: 0.3517 - accuracy: 0.8442 - val_loss: 0.3473 - val_accuracy: 0.8440\n",
            "Epoch 70/100\n",
            "100/100 [==============================] - 0s 4ms/step - loss: 0.3468 - accuracy: 0.8442 - val_loss: 0.3423 - val_accuracy: 0.8440\n",
            "Epoch 71/100\n",
            "100/100 [==============================] - 0s 2ms/step - loss: 0.3419 - accuracy: 0.8460 - val_loss: 0.3372 - val_accuracy: 0.8460\n",
            "Epoch 72/100\n",
            "100/100 [==============================] - 0s 3ms/step - loss: 0.3370 - accuracy: 0.8458 - val_loss: 0.3323 - val_accuracy: 0.8460\n",
            "Epoch 73/100\n",
            "100/100 [==============================] - 0s 3ms/step - loss: 0.3322 - accuracy: 0.8464 - val_loss: 0.3274 - val_accuracy: 0.8480\n",
            "Epoch 74/100\n",
            "100/100 [==============================] - 0s 3ms/step - loss: 0.3273 - accuracy: 0.8464 - val_loss: 0.3226 - val_accuracy: 0.8480\n",
            "Epoch 75/100\n",
            "100/100 [==============================] - 0s 4ms/step - loss: 0.3226 - accuracy: 0.9166 - val_loss: 0.3178 - val_accuracy: 0.9200\n",
            "Epoch 76/100\n",
            "100/100 [==============================] - 0s 3ms/step - loss: 0.3179 - accuracy: 0.9216 - val_loss: 0.3130 - val_accuracy: 0.9240\n",
            "Epoch 77/100\n",
            "100/100 [==============================] - 0s 3ms/step - loss: 0.3132 - accuracy: 0.9256 - val_loss: 0.3083 - val_accuracy: 0.9270\n",
            "Epoch 78/100\n",
            "100/100 [==============================] - 0s 3ms/step - loss: 0.3085 - accuracy: 0.9298 - val_loss: 0.3037 - val_accuracy: 0.9330\n",
            "Epoch 79/100\n",
            "100/100 [==============================] - 0s 3ms/step - loss: 0.3040 - accuracy: 0.9330 - val_loss: 0.2991 - val_accuracy: 0.9370\n",
            "Epoch 80/100\n",
            "100/100 [==============================] - 0s 4ms/step - loss: 0.2994 - accuracy: 0.9352 - val_loss: 0.2946 - val_accuracy: 0.9400\n",
            "Epoch 81/100\n",
            "100/100 [==============================] - 0s 4ms/step - loss: 0.2949 - accuracy: 0.9364 - val_loss: 0.2902 - val_accuracy: 0.9420\n",
            "Epoch 82/100\n",
            "100/100 [==============================] - 1s 6ms/step - loss: 0.2905 - accuracy: 0.9414 - val_loss: 0.2857 - val_accuracy: 0.9460\n",
            "Epoch 83/100\n",
            "100/100 [==============================] - 0s 2ms/step - loss: 0.2861 - accuracy: 0.9432 - val_loss: 0.2814 - val_accuracy: 0.9480\n",
            "Epoch 84/100\n",
            "100/100 [==============================] - 0s 2ms/step - loss: 0.2818 - accuracy: 0.9440 - val_loss: 0.2772 - val_accuracy: 0.9490\n",
            "Epoch 85/100\n",
            "100/100 [==============================] - 0s 2ms/step - loss: 0.2775 - accuracy: 0.9468 - val_loss: 0.2730 - val_accuracy: 0.9510\n",
            "Epoch 86/100\n",
            "100/100 [==============================] - 0s 2ms/step - loss: 0.2732 - accuracy: 0.9486 - val_loss: 0.2689 - val_accuracy: 0.9510\n",
            "Epoch 87/100\n",
            "100/100 [==============================] - 0s 2ms/step - loss: 0.2691 - accuracy: 0.9518 - val_loss: 0.2648 - val_accuracy: 0.9520\n",
            "Epoch 88/100\n",
            "100/100 [==============================] - 0s 2ms/step - loss: 0.2650 - accuracy: 0.9524 - val_loss: 0.2609 - val_accuracy: 0.9590\n",
            "Epoch 89/100\n",
            "100/100 [==============================] - 0s 2ms/step - loss: 0.2610 - accuracy: 0.9554 - val_loss: 0.2569 - val_accuracy: 0.9610\n",
            "Epoch 90/100\n",
            "100/100 [==============================] - 0s 2ms/step - loss: 0.2571 - accuracy: 0.9570 - val_loss: 0.2531 - val_accuracy: 0.9610\n",
            "Epoch 91/100\n",
            "100/100 [==============================] - 0s 2ms/step - loss: 0.2531 - accuracy: 0.9580 - val_loss: 0.2493 - val_accuracy: 0.9620\n",
            "Epoch 92/100\n",
            "100/100 [==============================] - 0s 2ms/step - loss: 0.2493 - accuracy: 0.9588 - val_loss: 0.2456 - val_accuracy: 0.9670\n",
            "Epoch 93/100\n",
            "100/100 [==============================] - 0s 2ms/step - loss: 0.2456 - accuracy: 0.9616 - val_loss: 0.2419 - val_accuracy: 0.9670\n",
            "Epoch 94/100\n",
            "100/100 [==============================] - 0s 2ms/step - loss: 0.2419 - accuracy: 0.9636 - val_loss: 0.2383 - val_accuracy: 0.9670\n",
            "Epoch 95/100\n",
            "100/100 [==============================] - 0s 2ms/step - loss: 0.2383 - accuracy: 0.9652 - val_loss: 0.2348 - val_accuracy: 0.9700\n",
            "Epoch 96/100\n",
            "100/100 [==============================] - 0s 3ms/step - loss: 0.2348 - accuracy: 0.9670 - val_loss: 0.2313 - val_accuracy: 0.9710\n",
            "Epoch 97/100\n",
            "100/100 [==============================] - 0s 2ms/step - loss: 0.2313 - accuracy: 0.9678 - val_loss: 0.2279 - val_accuracy: 0.9710\n",
            "Epoch 98/100\n",
            "100/100 [==============================] - 0s 2ms/step - loss: 0.2278 - accuracy: 0.9686 - val_loss: 0.2246 - val_accuracy: 0.9720\n",
            "Epoch 99/100\n",
            "100/100 [==============================] - 0s 3ms/step - loss: 0.2244 - accuracy: 0.9702 - val_loss: 0.2213 - val_accuracy: 0.9720\n",
            "Epoch 100/100\n",
            "100/100 [==============================] - 0s 3ms/step - loss: 0.2211 - accuracy: 0.9706 - val_loss: 0.2181 - val_accuracy: 0.9720\n"
          ]
        }
      ]
    },
    {
      "cell_type": "code",
      "source": [
        "model.evaluate(inputs_dev, targets_dev)"
      ],
      "metadata": {
        "colab": {
          "base_uri": "https://localhost:8080/"
        },
        "id": "ZmviUgsx2xyE",
        "outputId": "85599925-f636-4b94-f67a-29859683b557"
      },
      "execution_count": null,
      "outputs": [
        {
          "output_type": "stream",
          "name": "stdout",
          "text": [
            "32/32 [==============================] - 0s 3ms/step - loss: 0.2181 - accuracy: 0.9720\n"
          ]
        },
        {
          "output_type": "execute_result",
          "data": {
            "text/plain": [
              "[0.21810512244701385, 0.972000002861023]"
            ]
          },
          "metadata": {},
          "execution_count": 18
        }
      ]
    },
    {
      "cell_type": "markdown",
      "source": [
        "성능을 확인하기 위해 시각화 시켜보면 아래와 같습니다."
      ],
      "metadata": {
        "id": "liP_j8_r2xv0"
      }
    },
    {
      "cell_type": "code",
      "source": [
        "## Plot of the ground truth set\n",
        "import matplotlib.pyplot as plt\n",
        "plt.scatter(inputs_dev[:, 0], inputs_dev[:, 1], c=targets_dev)\n",
        "plt.show()"
      ],
      "metadata": {
        "colab": {
          "base_uri": "https://localhost:8080/",
          "height": 430
        },
        "id": "xrqbApH02xtR",
        "outputId": "b49be9ef-b1c2-4a43-fb6b-7ee65a0376d4"
      },
      "execution_count": null,
      "outputs": [
        {
          "output_type": "display_data",
          "data": {
            "text/plain": [
              "<Figure size 640x480 with 1 Axes>"
            ],
            "image/png": "[encoded data removed]"
          },
          "metadata": {}
        }
      ]
    },
    {
      "cell_type": "code",
      "source": [
        "## Plot of your model\n",
        "## replace the result with your upgraded model\n",
        "import matplotlib.pyplot as plt\n",
        "res1 = model.predict(inputs_dev)\n",
        "decision1 = res1 > .5\n",
        "plt.scatter(inputs_dev[:, 0], inputs_dev[:, 1], c=decision1)\n",
        "plt.show()"
      ],
      "metadata": {
        "colab": {
          "base_uri": "https://localhost:8080/",
          "height": 448
        },
        "id": "8p77mRrV2xqx",
        "outputId": "a4cadae6-8bdb-4adf-f95b-427e7c2eeb1c"
      },
      "execution_count": null,
      "outputs": [
        {
          "output_type": "stream",
          "name": "stdout",
          "text": [
            "32/32 [==============================] - 0s 3ms/step\n"
          ]
        },
        {
          "output_type": "display_data",
          "data": {
            "text/plain": [
              "<Figure size 640x480 with 1 Axes>"
            ],
            "image/png": "[encoded data removed]"
          },
          "metadata": {}
        }
      ]
    },
    {
      "cell_type": "markdown",
      "source": [
        "### Q3 [10] 임의로 모형을 만들어서 성능을 향상시켜보세요."
      ],
      "metadata": {
        "id": "PsHiX9J03UlW"
      }
    },
    {
      "cell_type": "code",
      "source": [
        "import tensorflow as tf\n",
        "\n",
        "# 모형 정의\n",
        "model = tf.keras.Sequential([\n",
        "    tf.keras.layers.Input(shape=input_shape),\n",
        "    tf.keras.layers.Dense(64, activation='relu'),\n",
        "    tf.keras.layers.Dropout(0.5),\n",
        "    tf.keras.layers.Dense(32, activation='relu'),\n",
        "    tf.keras.layers.Dropout(0.3),\n",
        "    tf.keras.layers.Dense(1, activation='sigmoid')\n",
        "])\n",
        "\n",
        "# 모형 컴파일\n",
        "model.compile(optimizer='Adam',\n",
        "              loss='binary_crossentropy',\n",
        "              metrics=['accuracy'])\n",
        "\n",
        "# 학습\n",
        "history = model.fit(inputs, targets,\n",
        "                    batch_size=50,\n",
        "                    epochs=100,\n",
        "                    validation_data=(inputs_dev, targets_dev))"
      ],
      "metadata": {
        "colab": {
          "base_uri": "https://localhost:8080/"
        },
        "id": "eh_IO3xC3VGx",
        "outputId": "b1a3dbe1-22b8-48b8-e855-672af17e3cfc"
      },
      "execution_count": null,
      "outputs": [
        {
          "output_type": "stream",
          "name": "stdout",
          "text": [
            "Epoch 1/100\n",
            "100/100 [==============================] - 3s 9ms/step - loss: 0.6403 - accuracy: 0.5348 - val_loss: 0.5696 - val_accuracy: 0.5750\n",
            "Epoch 2/100\n",
            "100/100 [==============================] - 0s 4ms/step - loss: 0.4752 - accuracy: 0.8676 - val_loss: 0.3006 - val_accuracy: 1.0000\n",
            "Epoch 3/100\n",
            "100/100 [==============================] - 0s 4ms/step - loss: 0.2380 - accuracy: 0.9812 - val_loss: 0.1037 - val_accuracy: 1.0000\n",
            "Epoch 4/100\n",
            "100/100 [==============================] - 0s 4ms/step - loss: 0.1151 - accuracy: 0.9878 - val_loss: 0.0416 - val_accuracy: 1.0000\n",
            "Epoch 5/100\n",
            "100/100 [==============================] - 0s 3ms/step - loss: 0.0646 - accuracy: 0.9918 - val_loss: 0.0222 - val_accuracy: 1.0000\n",
            "Epoch 6/100\n",
            "100/100 [==============================] - 0s 2ms/step - loss: 0.0465 - accuracy: 0.9930 - val_loss: 0.0151 - val_accuracy: 1.0000\n",
            "Epoch 7/100\n",
            "100/100 [==============================] - 0s 3ms/step - loss: 0.0363 - accuracy: 0.9938 - val_loss: 0.0113 - val_accuracy: 1.0000\n",
            "Epoch 8/100\n",
            "100/100 [==============================] - 0s 2ms/step - loss: 0.0308 - accuracy: 0.9938 - val_loss: 0.0080 - val_accuracy: 1.0000\n",
            "Epoch 9/100\n",
            "100/100 [==============================] - 0s 3ms/step - loss: 0.0226 - accuracy: 0.9962 - val_loss: 0.0065 - val_accuracy: 1.0000\n",
            "Epoch 10/100\n",
            "100/100 [==============================] - 0s 2ms/step - loss: 0.0209 - accuracy: 0.9946 - val_loss: 0.0064 - val_accuracy: 1.0000\n",
            "Epoch 11/100\n",
            "100/100 [==============================] - 0s 2ms/step - loss: 0.0199 - accuracy: 0.9962 - val_loss: 0.0051 - val_accuracy: 1.0000\n",
            "Epoch 12/100\n",
            "100/100 [==============================] - 0s 2ms/step - loss: 0.0141 - accuracy: 0.9968 - val_loss: 0.0037 - val_accuracy: 1.0000\n",
            "Epoch 13/100\n",
            "100/100 [==============================] - 0s 3ms/step - loss: 0.0136 - accuracy: 0.9976 - val_loss: 0.0036 - val_accuracy: 1.0000\n",
            "Epoch 14/100\n",
            "100/100 [==============================] - 0s 2ms/step - loss: 0.0167 - accuracy: 0.9946 - val_loss: 0.0041 - val_accuracy: 1.0000\n",
            "Epoch 15/100\n",
            "100/100 [==============================] - 0s 2ms/step - loss: 0.0111 - accuracy: 0.9978 - val_loss: 0.0030 - val_accuracy: 1.0000\n",
            "Epoch 16/100\n",
            "100/100 [==============================] - 0s 2ms/step - loss: 0.0109 - accuracy: 0.9976 - val_loss: 0.0029 - val_accuracy: 1.0000\n",
            "Epoch 17/100\n",
            "100/100 [==============================] - 0s 2ms/step - loss: 0.0130 - accuracy: 0.9960 - val_loss: 0.0026 - val_accuracy: 1.0000\n",
            "Epoch 18/100\n",
            "100/100 [==============================] - 0s 4ms/step - loss: 0.0127 - accuracy: 0.9962 - val_loss: 0.0026 - val_accuracy: 1.0000\n",
            "Epoch 19/100\n",
            "100/100 [==============================] - 0s 4ms/step - loss: 0.0097 - accuracy: 0.9980 - val_loss: 0.0019 - val_accuracy: 1.0000\n",
            "Epoch 20/100\n",
            "100/100 [==============================] - 0s 5ms/step - loss: 0.0068 - accuracy: 0.9986 - val_loss: 0.0015 - val_accuracy: 1.0000\n",
            "Epoch 21/100\n",
            "100/100 [==============================] - 0s 4ms/step - loss: 0.0089 - accuracy: 0.9982 - val_loss: 0.0019 - val_accuracy: 1.0000\n",
            "Epoch 22/100\n",
            "100/100 [==============================] - 0s 3ms/step - loss: 0.0079 - accuracy: 0.9976 - val_loss: 0.0012 - val_accuracy: 1.0000\n",
            "Epoch 23/100\n",
            "100/100 [==============================] - 0s 2ms/step - loss: 0.0067 - accuracy: 0.9982 - val_loss: 0.0014 - val_accuracy: 1.0000\n",
            "Epoch 24/100\n",
            "100/100 [==============================] - 0s 2ms/step - loss: 0.0088 - accuracy: 0.9976 - val_loss: 0.0019 - val_accuracy: 1.0000\n",
            "Epoch 25/100\n",
            "100/100 [==============================] - 0s 2ms/step - loss: 0.0073 - accuracy: 0.9988 - val_loss: 0.0013 - val_accuracy: 1.0000\n",
            "Epoch 26/100\n",
            "100/100 [==============================] - 0s 3ms/step - loss: 0.0057 - accuracy: 0.9984 - val_loss: 0.0011 - val_accuracy: 1.0000\n",
            "Epoch 27/100\n",
            "100/100 [==============================] - 0s 2ms/step - loss: 0.0051 - accuracy: 0.9986 - val_loss: 0.0010 - val_accuracy: 1.0000\n",
            "Epoch 28/100\n",
            "100/100 [==============================] - 0s 3ms/step - loss: 0.0057 - accuracy: 0.9990 - val_loss: 0.0011 - val_accuracy: 1.0000\n",
            "Epoch 29/100\n",
            "100/100 [==============================] - 0s 2ms/step - loss: 0.0052 - accuracy: 0.9990 - val_loss: 0.0013 - val_accuracy: 1.0000\n",
            "Epoch 30/100\n",
            "100/100 [==============================] - 0s 2ms/step - loss: 0.0050 - accuracy: 0.9984 - val_loss: 7.3188e-04 - val_accuracy: 1.0000\n",
            "Epoch 31/100\n",
            "100/100 [==============================] - 0s 3ms/step - loss: 0.0060 - accuracy: 0.9984 - val_loss: 0.0013 - val_accuracy: 1.0000\n",
            "Epoch 32/100\n",
            "100/100 [==============================] - 0s 2ms/step - loss: 0.0059 - accuracy: 0.9984 - val_loss: 0.0011 - val_accuracy: 1.0000\n",
            "Epoch 33/100\n",
            "100/100 [==============================] - 0s 3ms/step - loss: 0.0046 - accuracy: 0.9990 - val_loss: 5.8221e-04 - val_accuracy: 1.0000\n",
            "Epoch 34/100\n",
            "100/100 [==============================] - 0s 3ms/step - loss: 0.0049 - accuracy: 0.9986 - val_loss: 8.2212e-04 - val_accuracy: 1.0000\n",
            "Epoch 35/100\n",
            "100/100 [==============================] - 0s 2ms/step - loss: 0.0046 - accuracy: 0.9988 - val_loss: 0.0010 - val_accuracy: 1.0000\n",
            "Epoch 36/100\n",
            "100/100 [==============================] - 0s 3ms/step - loss: 0.0055 - accuracy: 0.9984 - val_loss: 8.1489e-04 - val_accuracy: 1.0000\n",
            "Epoch 37/100\n",
            "100/100 [==============================] - 0s 3ms/step - loss: 0.0047 - accuracy: 0.9988 - val_loss: 5.8340e-04 - val_accuracy: 1.0000\n",
            "Epoch 38/100\n",
            "100/100 [==============================] - 0s 3ms/step - loss: 0.0033 - accuracy: 0.9994 - val_loss: 6.1170e-04 - val_accuracy: 1.0000\n",
            "Epoch 39/100\n",
            "100/100 [==============================] - 0s 3ms/step - loss: 0.0033 - accuracy: 0.9992 - val_loss: 9.1005e-04 - val_accuracy: 1.0000\n",
            "Epoch 40/100\n",
            "100/100 [==============================] - 0s 3ms/step - loss: 0.0051 - accuracy: 0.9990 - val_loss: 7.6171e-04 - val_accuracy: 1.0000\n",
            "Epoch 41/100\n",
            "100/100 [==============================] - 0s 4ms/step - loss: 0.0020 - accuracy: 0.9998 - val_loss: 4.4032e-04 - val_accuracy: 1.0000\n",
            "Epoch 42/100\n",
            "100/100 [==============================] - 0s 3ms/step - loss: 0.0033 - accuracy: 0.9992 - val_loss: 5.1344e-04 - val_accuracy: 1.0000\n",
            "Epoch 43/100\n",
            "100/100 [==============================] - 0s 4ms/step - loss: 0.0040 - accuracy: 0.9990 - val_loss: 5.7237e-04 - val_accuracy: 1.0000\n",
            "Epoch 44/100\n",
            "100/100 [==============================] - 0s 4ms/step - loss: 0.0056 - accuracy: 0.9980 - val_loss: 0.0011 - val_accuracy: 1.0000\n",
            "Epoch 45/100\n",
            "100/100 [==============================] - 0s 3ms/step - loss: 0.0027 - accuracy: 0.9996 - val_loss: 4.2340e-04 - val_accuracy: 1.0000\n",
            "Epoch 46/100\n",
            "100/100 [==============================] - 0s 4ms/step - loss: 0.0025 - accuracy: 0.9996 - val_loss: 7.8209e-04 - val_accuracy: 1.0000\n",
            "Epoch 47/100\n",
            "100/100 [==============================] - 0s 4ms/step - loss: 0.0039 - accuracy: 0.9986 - val_loss: 8.0642e-04 - val_accuracy: 1.0000\n",
            "Epoch 48/100\n",
            "100/100 [==============================] - 0s 3ms/step - loss: 0.0019 - accuracy: 0.9996 - val_loss: 4.1913e-04 - val_accuracy: 1.0000\n",
            "Epoch 49/100\n",
            "100/100 [==============================] - 0s 3ms/step - loss: 0.0014 - accuracy: 1.0000 - val_loss: 2.8449e-04 - val_accuracy: 1.0000\n",
            "Epoch 50/100\n",
            "100/100 [==============================] - 0s 2ms/step - loss: 0.0041 - accuracy: 0.9992 - val_loss: 3.8966e-04 - val_accuracy: 1.0000\n",
            "Epoch 51/100\n",
            "100/100 [==============================] - 0s 2ms/step - loss: 0.0036 - accuracy: 0.9988 - val_loss: 6.2458e-04 - val_accuracy: 1.0000\n",
            "Epoch 52/100\n",
            "100/100 [==============================] - 0s 2ms/step - loss: 0.0030 - accuracy: 0.9992 - val_loss: 5.0878e-04 - val_accuracy: 1.0000\n",
            "Epoch 53/100\n",
            "100/100 [==============================] - 0s 3ms/step - loss: 0.0021 - accuracy: 0.9994 - val_loss: 3.2494e-04 - val_accuracy: 1.0000\n",
            "Epoch 54/100\n",
            "100/100 [==============================] - 0s 3ms/step - loss: 0.0061 - accuracy: 0.9990 - val_loss: 5.0182e-04 - val_accuracy: 1.0000\n",
            "Epoch 55/100\n",
            "100/100 [==============================] - 0s 2ms/step - loss: 0.0055 - accuracy: 0.9988 - val_loss: 5.0093e-04 - val_accuracy: 1.0000\n",
            "Epoch 56/100\n",
            "100/100 [==============================] - 0s 2ms/step - loss: 0.0031 - accuracy: 0.9994 - val_loss: 4.3574e-04 - val_accuracy: 1.0000\n",
            "Epoch 57/100\n",
            "100/100 [==============================] - 0s 2ms/step - loss: 0.0030 - accuracy: 0.9996 - val_loss: 3.4593e-04 - val_accuracy: 1.0000\n",
            "Epoch 58/100\n",
            "100/100 [==============================] - 0s 3ms/step - loss: 0.0021 - accuracy: 0.9994 - val_loss: 3.5177e-04 - val_accuracy: 1.0000\n",
            "Epoch 59/100\n",
            "100/100 [==============================] - 0s 2ms/step - loss: 0.0020 - accuracy: 0.9992 - val_loss: 5.1593e-04 - val_accuracy: 1.0000\n",
            "Epoch 60/100\n",
            "100/100 [==============================] - 0s 2ms/step - loss: 0.0020 - accuracy: 0.9994 - val_loss: 5.1986e-04 - val_accuracy: 1.0000\n",
            "Epoch 61/100\n",
            "100/100 [==============================] - 0s 2ms/step - loss: 0.0021 - accuracy: 0.9996 - val_loss: 4.3638e-04 - val_accuracy: 1.0000\n",
            "Epoch 62/100\n",
            "100/100 [==============================] - 0s 2ms/step - loss: 0.0036 - accuracy: 0.9992 - val_loss: 4.8595e-04 - val_accuracy: 1.0000\n",
            "Epoch 63/100\n",
            "100/100 [==============================] - 0s 3ms/step - loss: 0.0019 - accuracy: 0.9994 - val_loss: 2.7072e-04 - val_accuracy: 1.0000\n",
            "Epoch 64/100\n",
            "100/100 [==============================] - 0s 2ms/step - loss: 0.0019 - accuracy: 0.9994 - val_loss: 5.3353e-04 - val_accuracy: 1.0000\n",
            "Epoch 65/100\n",
            "100/100 [==============================] - 0s 3ms/step - loss: 0.0016 - accuracy: 0.9998 - val_loss: 3.5422e-04 - val_accuracy: 1.0000\n",
            "Epoch 66/100\n",
            "100/100 [==============================] - 0s 3ms/step - loss: 0.0014 - accuracy: 0.9996 - val_loss: 2.5325e-04 - val_accuracy: 1.0000\n",
            "Epoch 67/100\n",
            "100/100 [==============================] - 0s 2ms/step - loss: 0.0011 - accuracy: 0.9998 - val_loss: 2.0383e-04 - val_accuracy: 1.0000\n",
            "Epoch 68/100\n",
            "100/100 [==============================] - 0s 3ms/step - loss: 0.0019 - accuracy: 0.9992 - val_loss: 2.1934e-04 - val_accuracy: 1.0000\n",
            "Epoch 69/100\n",
            "100/100 [==============================] - 0s 2ms/step - loss: 0.0041 - accuracy: 0.9992 - val_loss: 2.3669e-04 - val_accuracy: 1.0000\n",
            "Epoch 70/100\n",
            "100/100 [==============================] - 0s 2ms/step - loss: 0.0043 - accuracy: 0.9992 - val_loss: 3.0000e-04 - val_accuracy: 1.0000\n",
            "Epoch 71/100\n",
            "100/100 [==============================] - 0s 3ms/step - loss: 0.0016 - accuracy: 0.9994 - val_loss: 2.1983e-04 - val_accuracy: 1.0000\n",
            "Epoch 72/100\n",
            "100/100 [==============================] - 0s 2ms/step - loss: 0.0030 - accuracy: 0.9992 - val_loss: 4.2570e-04 - val_accuracy: 1.0000\n",
            "Epoch 73/100\n",
            "100/100 [==============================] - 0s 2ms/step - loss: 0.0021 - accuracy: 0.9994 - val_loss: 3.7581e-04 - val_accuracy: 1.0000\n",
            "Epoch 74/100\n",
            "100/100 [==============================] - 0s 3ms/step - loss: 0.0016 - accuracy: 0.9996 - val_loss: 3.2878e-04 - val_accuracy: 1.0000\n",
            "Epoch 75/100\n",
            "100/100 [==============================] - 0s 2ms/step - loss: 0.0011 - accuracy: 1.0000 - val_loss: 2.3304e-04 - val_accuracy: 1.0000\n",
            "Epoch 76/100\n",
            "100/100 [==============================] - 0s 2ms/step - loss: 8.6892e-04 - accuracy: 0.9998 - val_loss: 3.4998e-04 - val_accuracy: 1.0000\n",
            "Epoch 77/100\n",
            "100/100 [==============================] - 0s 3ms/step - loss: 0.0025 - accuracy: 0.9994 - val_loss: 1.8199e-04 - val_accuracy: 1.0000\n",
            "Epoch 78/100\n",
            "100/100 [==============================] - 0s 2ms/step - loss: 8.2577e-04 - accuracy: 1.0000 - val_loss: 1.7739e-04 - val_accuracy: 1.0000\n",
            "Epoch 79/100\n",
            "100/100 [==============================] - 0s 3ms/step - loss: 7.4838e-04 - accuracy: 1.0000 - val_loss: 1.8608e-04 - val_accuracy: 1.0000\n",
            "Epoch 80/100\n",
            "100/100 [==============================] - 0s 2ms/step - loss: 0.0018 - accuracy: 0.9998 - val_loss: 1.4298e-04 - val_accuracy: 1.0000\n",
            "Epoch 81/100\n",
            "100/100 [==============================] - 0s 2ms/step - loss: 0.0013 - accuracy: 0.9994 - val_loss: 1.2678e-04 - val_accuracy: 1.0000\n",
            "Epoch 82/100\n",
            "100/100 [==============================] - 0s 2ms/step - loss: 0.0019 - accuracy: 0.9994 - val_loss: 4.5216e-04 - val_accuracy: 1.0000\n",
            "Epoch 83/100\n",
            "100/100 [==============================] - 0s 3ms/step - loss: 0.0017 - accuracy: 0.9992 - val_loss: 1.9591e-04 - val_accuracy: 1.0000\n",
            "Epoch 84/100\n",
            "100/100 [==============================] - 0s 3ms/step - loss: 0.0014 - accuracy: 0.9998 - val_loss: 1.6254e-04 - val_accuracy: 1.0000\n",
            "Epoch 85/100\n",
            "100/100 [==============================] - 0s 3ms/step - loss: 0.0023 - accuracy: 0.9992 - val_loss: 3.4653e-04 - val_accuracy: 1.0000\n",
            "Epoch 86/100\n",
            "100/100 [==============================] - 0s 4ms/step - loss: 0.0017 - accuracy: 0.9996 - val_loss: 1.6198e-04 - val_accuracy: 1.0000\n",
            "Epoch 87/100\n",
            "100/100 [==============================] - 0s 3ms/step - loss: 0.0025 - accuracy: 0.9992 - val_loss: 6.5036e-04 - val_accuracy: 1.0000\n",
            "Epoch 88/100\n",
            "100/100 [==============================] - 0s 3ms/step - loss: 8.1871e-04 - accuracy: 1.0000 - val_loss: 2.7657e-04 - val_accuracy: 1.0000\n",
            "Epoch 89/100\n",
            "100/100 [==============================] - 0s 3ms/step - loss: 0.0012 - accuracy: 0.9998 - val_loss: 2.0651e-04 - val_accuracy: 1.0000\n",
            "Epoch 90/100\n",
            "100/100 [==============================] - 0s 4ms/step - loss: 0.0014 - accuracy: 0.9996 - val_loss: 3.0273e-04 - val_accuracy: 1.0000\n",
            "Epoch 91/100\n",
            "100/100 [==============================] - 0s 4ms/step - loss: 0.0010 - accuracy: 0.9996 - val_loss: 2.3079e-04 - val_accuracy: 1.0000\n",
            "Epoch 92/100\n",
            "100/100 [==============================] - 0s 3ms/step - loss: 0.0028 - accuracy: 0.9992 - val_loss: 2.6647e-04 - val_accuracy: 1.0000\n",
            "Epoch 93/100\n",
            "100/100 [==============================] - 0s 3ms/step - loss: 0.0018 - accuracy: 0.9996 - val_loss: 2.2022e-04 - val_accuracy: 1.0000\n",
            "Epoch 94/100\n",
            "100/100 [==============================] - 0s 3ms/step - loss: 3.7643e-04 - accuracy: 1.0000 - val_loss: 1.1300e-04 - val_accuracy: 1.0000\n",
            "Epoch 95/100\n",
            "100/100 [==============================] - 0s 3ms/step - loss: 3.8573e-04 - accuracy: 1.0000 - val_loss: 1.3204e-04 - val_accuracy: 1.0000\n",
            "Epoch 96/100\n",
            "100/100 [==============================] - 0s 3ms/step - loss: 0.0028 - accuracy: 0.9996 - val_loss: 1.7075e-04 - val_accuracy: 1.0000\n",
            "Epoch 97/100\n",
            "100/100 [==============================] - 0s 2ms/step - loss: 0.0010 - accuracy: 0.9998 - val_loss: 0.0011 - val_accuracy: 0.9990\n",
            "Epoch 98/100\n",
            "100/100 [==============================] - 0s 3ms/step - loss: 6.3162e-04 - accuracy: 1.0000 - val_loss: 4.1277e-04 - val_accuracy: 1.0000\n",
            "Epoch 99/100\n",
            "100/100 [==============================] - 0s 3ms/step - loss: 0.0028 - accuracy: 0.9994 - val_loss: 1.5818e-04 - val_accuracy: 1.0000\n",
            "Epoch 100/100\n",
            "100/100 [==============================] - 0s 3ms/step - loss: 0.0040 - accuracy: 0.9994 - val_loss: 4.9067e-04 - val_accuracy: 1.0000\n"
          ]
        }
      ]
    },
    {
      "cell_type": "markdown",
      "source": [
        "### Q4 [10] 아래의 Fake input 데이터가 추가되었을 때, multi-input 모형을 정의하여 아래 그림과 같이 모형을 만들어주세요.\n",
        " - 모형을 만든 후 적절하게 컴파일 및 학습을 시켜보세요.\n",
        "\n",
        "![image.png](data:image/png;base64,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)"
      ],
      "metadata": {
        "id": "0lPHGr743lPD"
      }
    },
    {
      "cell_type": "code",
      "source": [
        "import numpy as np\n",
        "fake_input = targets - 5 + np.random.random(len(targets))*10\n",
        "fake_input_dev = targets_dev - 5 + np.random.random(len(targets_dev))*10"
      ],
      "metadata": {
        "id": "EEBoCx9r3lMs"
      },
      "execution_count": null,
      "outputs": []
    },
    {
      "cell_type": "code",
      "source": [
        "from tensorflow.keras.layers import Input, Dense, Concatenate\n",
        "from tensorflow.keras.models import Model\n",
        "from tensorflow import keras\n",
        "from tensorflow.keras import layers\n",
        "\n",
        "# 첫 번째 입력 레이어\n",
        "my_input = Input(shape=(2,), name='my_input')\n",
        "\n",
        "# 첫 번째 레이어\n",
        "dense_10 = Dense(10, activation='relu')(my_input)\n",
        "\n",
        "# 두 번째 레이어\n",
        "dense_11 = Dense(10, activation='relu')(dense_10)\n",
        "\n",
        "# 두 번째 입력 레이어\n",
        "my_input2 = Input(shape=(1,), name='my_input2')\n",
        "\n",
        "# Concatenate 레이어\n",
        "concatenate_2 = Concatenate()([dense_11, my_input2])\n",
        "\n",
        "# 출력 레이어\n",
        "dense_12 = Dense(1, activation='sigmoid')(concatenate_2)\n",
        "\n",
        "# 모델 정의\n",
        "model_2 = Model(inputs=[my_input, my_input2], outputs=dense_12)\n",
        "\n",
        "# 모델 컴파일\n",
        "model_2.compile(optimizer='adam', loss='binary_crossentropy', metrics=['accuracy'])\n",
        "\n",
        "# 모델 구조 확인\n",
        "model_2.summary()"
      ],
      "metadata": {
        "colab": {
          "base_uri": "https://localhost:8080/"
        },
        "id": "bDQwHAWJ3lBY",
        "outputId": "dde1bccf-0445-49fd-8582-c1243e5804e9"
      },
      "execution_count": null,
      "outputs": [
        {
          "output_type": "stream",
          "name": "stdout",
          "text": [
            "Model: \"model_3\"\n",
            "__________________________________________________________________________________________________\n",
            " Layer (type)                Output Shape                 Param #   Connected to                  \n",
            "==================================================================================================\n",
            " my_input (InputLayer)       [(None, 2)]                  0         []                            \n",
            "                                                                                                  \n",
            " dense_15 (Dense)            (None, 10)                   30        ['my_input[0][0]']            \n",
            "                                                                                                  \n",
            " dense_16 (Dense)            (None, 10)                   110       ['dense_15[0][0]']            \n",
            "                                                                                                  \n",
            " my_input2 (InputLayer)      [(None, 1)]                  0         []                            \n",
            "                                                                                                  \n",
            " concatenate_3 (Concatenate  (None, 11)                   0         ['dense_16[0][0]',            \n",
            " )                                                                   'my_input2[0][0]']           \n",
            "                                                                                                  \n",
            " dense_17 (Dense)            (None, 1)                    12        ['concatenate_3[0][0]']       \n",
            "                                                                                                  \n",
            "==================================================================================================\n",
            "Total params: 152 (608.00 Byte)\n",
            "Trainable params: 152 (608.00 Byte)\n",
            "Non-trainable params: 0 (0.00 Byte)\n",
            "__________________________________________________________________________________________________\n"
          ]
        }
      ]
    },
    {
      "cell_type": "code",
      "source": [
        "keras.utils.plot_model(model_2, \"model2.png\", show_shapes=True)"
      ],
      "metadata": {
        "colab": {
          "base_uri": "https://localhost:8080/",
          "height": 533
        },
        "id": "u6MHL3Az3k-U",
        "outputId": "d1e12bbc-6781-4773-b37c-cdf52f960bcb"
      },
      "execution_count": null,
      "outputs": [
        {
          "output_type": "execute_result",
          "data": {
            "image/png": "[encoded data removed]",
            "text/plain": [
              "<IPython.core.display.Image object>"
            ]
          },
          "metadata": {},
          "execution_count": 33
        }
      ]
    },
    {
      "cell_type": "code",
      "source": [],
      "metadata": {
        "id": "KH3eGrnc3VXI"
      },
      "execution_count": null,
      "outputs": []
    },
    {
      "cell_type": "markdown",
      "source": [
        "# Dog and Cat data\n",
        "- 아래의 Dog vs Cat 데이터를 읽어옵시다."
      ],
      "metadata": {
        "id": "n5GGIUhC3Vcx"
      }
    },
    {
      "cell_type": "code",
      "source": [
        "import os\n",
        "import numpy as np\n",
        "import tensorflow as tf\n",
        "import tensorflow_datasets as tfds\n",
        "import matplotlib.pyplot as plt\n",
        "import tensorflow as tf\n",
        "from tensorflow.keras.preprocessing.image import ImageDataGenerator\n",
        "\n",
        "_URL = 'https://storage.googleapis.com/mledu-datasets/cats_and_dogs_filtered.zip'\n",
        "\n",
        "path_to_zip = tf.keras.utils.get_file('cats_and_dogs.zip', origin=_URL, extract=True)\n",
        "\n",
        "PATH = os.path.join(os.path.dirname(path_to_zip), 'cats_and_dogs_filtered')"
      ],
      "metadata": {
        "colab": {
          "base_uri": "https://localhost:8080/"
        },
        "id": "WdV1CIs36llp",
        "outputId": "76942fdd-9d12-44e2-9b6b-57d2f791f2dc"
      },
      "execution_count": null,
      "outputs": [
        {
          "output_type": "stream",
          "name": "stdout",
          "text": [
            "Downloading data from https://storage.googleapis.com/mledu-datasets/cats_and_dogs_filtered.zip\n",
            "68606236/68606236 [==============================] - 2s 0us/step\n"
          ]
        }
      ]
    },
    {
      "cell_type": "code",
      "source": [
        "train_dir = os.path.join(PATH, 'train')\n",
        "validation_dir = os.path.join(PATH, 'validation')\n",
        "\n",
        "train_cats_dir = os.path.join(train_dir, 'cats')  # directory with our training cat pictures\n",
        "train_dogs_dir = os.path.join(train_dir, 'dogs')  # directory with our training dog pictures\n",
        "validation_cats_dir = os.path.join(validation_dir, 'cats')  # directory with our validation cat pictures\n",
        "validation_dogs_dir = os.path.join(validation_dir, 'dogs')  # directory with our validation dog pictures\n",
        "\n",
        "num_cats_tr = len(os.listdir(train_cats_dir))\n",
        "num_dogs_tr = len(os.listdir(train_dogs_dir))\n",
        "\n",
        "num_cats_val = len(os.listdir(validation_cats_dir))\n",
        "num_dogs_val = len(os.listdir(validation_dogs_dir))\n",
        "\n",
        "total_train = num_cats_tr + num_dogs_tr\n",
        "total_val = num_cats_val + num_dogs_val"
      ],
      "metadata": {
        "id": "sarrU82I6lr1"
      },
      "execution_count": null,
      "outputs": []
    },
    {
      "cell_type": "markdown",
      "source": [
        "(Q1-1) 데이터를 살펴보세요. Train, Validation 데이터에 각각 몇개씩 샘플이 있습니까?\n"
      ],
      "metadata": {
        "id": "4qesjKGR6lxk"
      }
    },
    {
      "cell_type": "code",
      "source": [
        "# Train dataset\n",
        "print(f'train dataset : {total_train}')\n",
        "print(f'Validation dataset : {total_val}')"
      ],
      "metadata": {
        "colab": {
          "base_uri": "https://localhost:8080/"
        },
        "id": "8myjIk6g7tPu",
        "outputId": "5b77f471-66f9-485c-d002-05b695d0abca"
      },
      "execution_count": null,
      "outputs": [
        {
          "output_type": "stream",
          "name": "stdout",
          "text": [
            "train dataset : 2000\n",
            "Validation dataset : 1000\n"
          ]
        }
      ]
    },
    {
      "cell_type": "markdown",
      "source": [
        "(Q1-2) 아래 데이터 파이프라인을 완성하세요.\n",
        "- Train data 는 PATH 디렉토리 안의 train 디렉토리로부터 가져오세요.\n",
        "- Vailidation data는 PATH 디렉토리 안의 Vailidation 디렉토리로부터 가져오세요.\n",
        "- ***그림 크기는 (150,150)으로 읽어오세요. vs  그림 크기는 (100,100)으로 읽어오세요***\n",
        "- batch size 는 64로 설정하세요"
      ],
      "metadata": {
        "id": "ZKks16vE7tUE"
      }
    },
    {
      "cell_type": "code",
      "source": [
        "import os, shutil, pathlib\n",
        "from tensorflow.keras.utils import image_dataset_from_directory\n",
        "basedir = pathlib.Path(\"PATH\")\n",
        "\n",
        "train_dataset = image_dataset_from_directory(\n",
        "    train_dir,\n",
        "    image_size=(150, 150),\n",
        "    batch_size=64)\n",
        "validation_dataset = image_dataset_from_directory(\n",
        "    validation_dir,\n",
        "    image_size=(150, 150),\n",
        "    batch_size=64)"
      ],
      "metadata": {
        "colab": {
          "base_uri": "https://localhost:8080/"
        },
        "id": "MvsILQbX71Dj",
        "outputId": "997c2797-ab83-4ee7-aedf-b02a3c6242a1"
      },
      "execution_count": null,
      "outputs": [
        {
          "output_type": "stream",
          "name": "stdout",
          "text": [
            "Found 2000 files belonging to 2 classes.\n",
            "Found 1000 files belonging to 2 classes.\n"
          ]
        }
      ]
    },
    {
      "cell_type": "code",
      "source": [
        "for data_batch, labels_batch in train_dataset:\n",
        "    print(\"data batch shape:\", data_batch.shape)\n",
        "    print(\"labels batch shape:\", labels_batch.shape)\n",
        "    break"
      ],
      "metadata": {
        "colab": {
          "base_uri": "https://localhost:8080/"
        },
        "id": "LZ0Xd4qf7tZN",
        "outputId": "c54f43fd-553f-40e3-dd03-ae9990b34de0"
      },
      "execution_count": null,
      "outputs": [
        {
          "output_type": "stream",
          "name": "stdout",
          "text": [
            "data batch shape: (64, 150, 150, 3)\n",
            "labels batch shape: (64,)\n"
          ]
        }
      ]
    },
    {
      "cell_type": "markdown",
      "metadata": {
        "id": "APqepHCVmnbd"
      },
      "source": [
        "(Q1-3) 아래와 같이 모형을 만들어보세요.\n",
        "- 네개의 Conv2D block 을 사용하고, 각각의 필터 갯수는 15, 30, 60, 100 개로 설정.\n",
        "- 각각 strides 는 1 zero padding은 적용하지 않음\n",
        "- MaxPooling2D의 filter는 (2,2)로 설정, stride 는 2\n",
        "- output layer의 차원은 1 또는 2로 편하게 설정..  (1 로 하든, 2로하든 뒤에 loss를 잘 정의하여 모형이 잘 학습되도록 할 것!)\n",
        "\n",
        "![image.png](data:image/png;base64,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)"
      ]
    },
    {
      "cell_type": "code",
      "source": [
        "from tensorflow import keras\n",
        "from tensorflow.keras import layers\n",
        "from tensorflow.keras import models\n",
        "\n",
        "### 여기 모형부분을 완성하세요.\n",
        "inputs = keras.Input(shape = (150,150,3))\n",
        "x = layers.Conv2D(filters = 15, kernel_size = 3,strides = 1, activation = 'relu')(inputs)\n",
        "x = layers.MaxPooling2D(pool_size = (2,2), strides=2)(x)\n",
        "x = layers.Conv2D(filters = 30,  kernel_size = 3,strides = 1, activation = 'relu')(x)\n",
        "x = layers.MaxPooling2D(pool_size = (2,2), strides=2)(x)\n",
        "x = layers.Conv2D(filters = 60,  kernel_size = 3,strides = 1, activation = 'relu')(x)\n",
        "x = layers.MaxPooling2D(pool_size = (2,2), strides=2)(x)\n",
        "x = layers.Conv2D(filters = 100,  kernel_size = 3,strides = 1, activation = 'relu')(x)\n",
        "x = layers.MaxPooling2D(pool_size = (2,2), strides=2)(x)\n",
        "x = layers.Flatten()(x)\n",
        "outputs = layers.Dense(1, activation='sigmoid')(x)\n",
        "model = keras.Model(inputs,outputs)\n",
        "model.summary()"
      ],
      "metadata": {
        "colab": {
          "base_uri": "https://localhost:8080/"
        },
        "id": "pszsrseH7tj5",
        "outputId": "73da8dde-b6e0-40c5-f48e-ccc4a14ba559"
      },
      "execution_count": null,
      "outputs": [
        {
          "output_type": "stream",
          "name": "stdout",
          "text": [
            "Model: \"model_4\"\n",
            "_________________________________________________________________\n",
            " Layer (type)                Output Shape              Param #   \n",
            "=================================================================\n",
            " input_5 (InputLayer)        [(None, 150, 150, 3)]     0         \n",
            "                                                                 \n",
            " conv2d_1 (Conv2D)           (None, 148, 148, 15)      420       \n",
            "                                                                 \n",
            " max_pooling2d_1 (MaxPoolin  (None, 74, 74, 15)        0         \n",
            " g2D)                                                            \n",
            "                                                                 \n",
            " conv2d_2 (Conv2D)           (None, 72, 72, 30)        4080      \n",
            "                                                                 \n",
            " max_pooling2d_2 (MaxPoolin  (None, 36, 36, 30)        0         \n",
            " g2D)                                                            \n",
            "                                                                 \n",
            " conv2d_3 (Conv2D)           (None, 34, 34, 60)        16260     \n",
            "                                                                 \n",
            " max_pooling2d_3 (MaxPoolin  (None, 17, 17, 60)        0         \n",
            " g2D)                                                            \n",
            "                                                                 \n",
            " conv2d_4 (Conv2D)           (None, 15, 15, 100)       54100     \n",
            "                                                                 \n",
            " max_pooling2d_4 (MaxPoolin  (None, 7, 7, 100)         0         \n",
            " g2D)                                                            \n",
            "                                                                 \n",
            " flatten_1 (Flatten)         (None, 4900)              0         \n",
            "                                                                 \n",
            " dense_21 (Dense)            (None, 1)                 4901      \n",
            "                                                                 \n",
            "=================================================================\n",
            "Total params: 79761 (311.57 KB)\n",
            "Trainable params: 79761 (311.57 KB)\n",
            "Non-trainable params: 0 (0.00 Byte)\n",
            "_________________________________________________________________\n"
          ]
        }
      ]
    },
    {
      "cell_type": "markdown",
      "metadata": {
        "id": "xs5kmBmGBlE7"
      },
      "source": [
        "(Q1-4) 아래와 같이 모형을 컴파일하세요.\n",
        "- loss 는 binary cross entrophy loss 또는 cross entrophy loss를 사용하세요 (앞 모형의 output 차원에 따라 적절하게 정의하세요)\n",
        "- optimizer 로 rmsprop을 사용하세요.\n",
        "- metric으로 accuracy를 사용하세요."
      ]
    },
    {
      "cell_type": "code",
      "execution_count": null,
      "metadata": {
        "id": "TPjNrdpi-FbW"
      },
      "outputs": [],
      "source": [
        "from tensorflow.keras import optimizers\n",
        "\n",
        "model.compile(\n",
        "    optimizer=\"rmsprop\",\n",
        "    loss=\"binary_crossentropy\",\n",
        "    metrics=[\"accuracy\"])"
      ]
    },
    {
      "cell_type": "markdown",
      "metadata": {
        "id": "PP64kNcRCAbg"
      },
      "source": [
        "(Q1-5) 아래 코드를 완성하여 모형을 학습시키세요.\n",
        "\n",
        "- callback 은 validation accuracy 기준으로 가장 성능 좋은 모형을 저장하도록 설정하세요.\n",
        "- 10 epoch 만 트레이닝해 보세요."
      ]
    },
    {
      "cell_type": "code",
      "execution_count": null,
      "metadata": {
        "colab": {
          "base_uri": "https://localhost:8080/",
          "height": 558
        },
        "id": "PMR8wZi3vopo",
        "outputId": "9c23e1d5-a4dd-4513-ca29-398d2243ef50"
      },
      "outputs": [
        {
          "output_type": "stream",
          "name": "stdout",
          "text": [
            "Epoch 1/10\n",
            "32/32 [==============================] - 69s 2s/step - loss: 7.5753 - accuracy: 0.5135 - val_loss: 0.7967 - val_accuracy: 0.5430\n",
            "Epoch 2/10\n",
            "32/32 [==============================] - 53s 2s/step - loss: 0.7351 - accuracy: 0.5800 - val_loss: 0.8419 - val_accuracy: 0.5030\n",
            "Epoch 3/10\n",
            "32/32 [==============================] - 47s 1s/step - loss: 0.6795 - accuracy: 0.5975 - val_loss: 0.8419 - val_accuracy: 0.5070\n",
            "Epoch 4/10\n",
            " 2/32 [>.............................] - ETA: 51s - loss: 0.7307 - accuracy: 0.5781"
          ]
        },
        {
          "output_type": "error",
          "ename": "KeyboardInterrupt",
          "evalue": "",
          "traceback": [
            "\u001b[0;31m---------------------------------------------------------------------------\u001b[0m",
            "\u001b[0;31mKeyboardInterrupt\u001b[0m                         Traceback (most recent call last)",
            "\u001b[0;32m<ipython-input-49-099698cca83b>\u001b[0m in \u001b[0;36m<cell line: 7>\u001b[0;34m()\u001b[0m\n\u001b[1;32m      5\u001b[0m         monitor=\"val_accuracy\")\n\u001b[1;32m      6\u001b[0m ]\n\u001b[0;32m----> 7\u001b[0;31m history = model.fit(\n\u001b[0m\u001b[1;32m      8\u001b[0m     \u001b[0mtrain_dataset\u001b[0m\u001b[0;34m,\u001b[0m\u001b[0;34m\u001b[0m\u001b[0;34m\u001b[0m\u001b[0m\n\u001b[1;32m      9\u001b[0m     \u001b[0mepochs\u001b[0m\u001b[0;34m=\u001b[0m\u001b[0;36m10\u001b[0m\u001b[0;34m,\u001b[0m\u001b[0;34m\u001b[0m\u001b[0;34m\u001b[0m\u001b[0m\n",
            "\u001b[0;32m/usr/local/lib/python3.10/dist-packages/keras/src/utils/traceback_utils.py\u001b[0m in \u001b[0;36merror_handler\u001b[0;34m(*args, **kwargs)\u001b[0m\n\u001b[1;32m     63\u001b[0m         \u001b[0mfiltered_tb\u001b[0m \u001b[0;34m=\u001b[0m \u001b[0;32mNone\u001b[0m\u001b[0;34m\u001b[0m\u001b[0;34m\u001b[0m\u001b[0m\n\u001b[1;32m     64\u001b[0m         \u001b[0;32mtry\u001b[0m\u001b[0;34m:\u001b[0m\u001b[0;34m\u001b[0m\u001b[0;34m\u001b[0m\u001b[0m\n\u001b[0;32m---> 65\u001b[0;31m             \u001b[0;32mreturn\u001b[0m \u001b[0mfn\u001b[0m\u001b[0;34m(\u001b[0m\u001b[0;34m*\u001b[0m\u001b[0margs\u001b[0m\u001b[0;34m,\u001b[0m \u001b[0;34m**\u001b[0m\u001b[0mkwargs\u001b[0m\u001b[0;34m)\u001b[0m\u001b[0;34m\u001b[0m\u001b[0;34m\u001b[0m\u001b[0m\n\u001b[0m\u001b[1;32m     66\u001b[0m         \u001b[0;32mexcept\u001b[0m \u001b[0mException\u001b[0m \u001b[0;32mas\u001b[0m \u001b[0me\u001b[0m\u001b[0;34m:\u001b[0m\u001b[0;34m\u001b[0m\u001b[0;34m\u001b[0m\u001b[0m\n\u001b[1;32m     67\u001b[0m             \u001b[0mfiltered_tb\u001b[0m \u001b[0;34m=\u001b[0m \u001b[0m_process_traceback_frames\u001b[0m\u001b[0;34m(\u001b[0m\u001b[0me\u001b[0m\u001b[0;34m.\u001b[0m\u001b[0m__traceback__\u001b[0m\u001b[0;34m)\u001b[0m\u001b[0;34m\u001b[0m\u001b[0;34m\u001b[0m\u001b[0m\n",
            "\u001b[0;32m/usr/local/lib/python3.10/dist-packages/keras/src/engine/training.py\u001b[0m in \u001b[0;36mfit\u001b[0;34m(self, x, y, batch_size, epochs, verbose, callbacks, validation_split, validation_data, shuffle, class_weight, sample_weight, initial_epoch, steps_per_epoch, validation_steps, validation_batch_size, validation_freq, max_queue_size, workers, use_multiprocessing)\u001b[0m\n\u001b[1;32m   1805\u001b[0m                         ):\n\u001b[1;32m   1806\u001b[0m                             \u001b[0mcallbacks\u001b[0m\u001b[0;34m.\u001b[0m\u001b[0mon_train_batch_begin\u001b[0m\u001b[0;34m(\u001b[0m\u001b[0mstep\u001b[0m\u001b[0;34m)\u001b[0m\u001b[0;34m\u001b[0m\u001b[0;34m\u001b[0m\u001b[0m\n\u001b[0;32m-> 1807\u001b[0;31m                             \u001b[0mtmp_logs\u001b[0m \u001b[0;34m=\u001b[0m \u001b[0mself\u001b[0m\u001b[0;34m.\u001b[0m\u001b[0mtrain_function\u001b[0m\u001b[0;34m(\u001b[0m\u001b[0miterator\u001b[0m\u001b[0;34m)\u001b[0m\u001b[0;34m\u001b[0m\u001b[0;34m\u001b[0m\u001b[0m\n\u001b[0m\u001b[1;32m   1808\u001b[0m                             \u001b[0;32mif\u001b[0m \u001b[0mdata_handler\u001b[0m\u001b[0;34m.\u001b[0m\u001b[0mshould_sync\u001b[0m\u001b[0;34m:\u001b[0m\u001b[0;34m\u001b[0m\u001b[0;34m\u001b[0m\u001b[0m\n\u001b[1;32m   1809\u001b[0m                                 \u001b[0mcontext\u001b[0m\u001b[0;34m.\u001b[0m\u001b[0masync_wait\u001b[0m\u001b[0;34m(\u001b[0m\u001b[0;34m)\u001b[0m\u001b[0;34m\u001b[0m\u001b[0;34m\u001b[0m\u001b[0m\n",
            "\u001b[0;32m/usr/local/lib/python3.10/dist-packages/tensorflow/python/util/traceback_utils.py\u001b[0m in \u001b[0;36merror_handler\u001b[0;34m(*args, **kwargs)\u001b[0m\n\u001b[1;32m    148\u001b[0m     \u001b[0mfiltered_tb\u001b[0m \u001b[0;34m=\u001b[0m \u001b[0;32mNone\u001b[0m\u001b[0;34m\u001b[0m\u001b[0;34m\u001b[0m\u001b[0m\n\u001b[1;32m    149\u001b[0m     \u001b[0;32mtry\u001b[0m\u001b[0;34m:\u001b[0m\u001b[0;34m\u001b[0m\u001b[0;34m\u001b[0m\u001b[0m\n\u001b[0;32m--> 150\u001b[0;31m       \u001b[0;32mreturn\u001b[0m \u001b[0mfn\u001b[0m\u001b[0;34m(\u001b[0m\u001b[0;34m*\u001b[0m\u001b[0margs\u001b[0m\u001b[0;34m,\u001b[0m \u001b[0;34m**\u001b[0m\u001b[0mkwargs\u001b[0m\u001b[0;34m)\u001b[0m\u001b[0;34m\u001b[0m\u001b[0;34m\u001b[0m\u001b[0m\n\u001b[0m\u001b[1;32m    151\u001b[0m     \u001b[0;32mexcept\u001b[0m \u001b[0mException\u001b[0m \u001b[0;32mas\u001b[0m \u001b[0me\u001b[0m\u001b[0;34m:\u001b[0m\u001b[0;34m\u001b[0m\u001b[0;34m\u001b[0m\u001b[0m\n\u001b[1;32m    152\u001b[0m       \u001b[0mfiltered_tb\u001b[0m \u001b[0;34m=\u001b[0m \u001b[0m_process_traceback_frames\u001b[0m\u001b[0;34m(\u001b[0m\u001b[0me\u001b[0m\u001b[0;34m.\u001b[0m\u001b[0m__traceback__\u001b[0m\u001b[0;34m)\u001b[0m\u001b[0;34m\u001b[0m\u001b[0;34m\u001b[0m\u001b[0m\n",
            "\u001b[0;32m/usr/local/lib/python3.10/dist-packages/tensorflow/python/eager/polymorphic_function/polymorphic_function.py\u001b[0m in \u001b[0;36m__call__\u001b[0;34m(self, *args, **kwds)\u001b[0m\n\u001b[1;32m    830\u001b[0m \u001b[0;34m\u001b[0m\u001b[0m\n\u001b[1;32m    831\u001b[0m       \u001b[0;32mwith\u001b[0m \u001b[0mOptionalXlaContext\u001b[0m\u001b[0;34m(\u001b[0m\u001b[0mself\u001b[0m\u001b[0;34m.\u001b[0m\u001b[0m_jit_compile\u001b[0m\u001b[0;34m)\u001b[0m\u001b[0;34m:\u001b[0m\u001b[0;34m\u001b[0m\u001b[0;34m\u001b[0m\u001b[0m\n\u001b[0;32m--> 832\u001b[0;31m         \u001b[0mresult\u001b[0m \u001b[0;34m=\u001b[0m \u001b[0mself\u001b[0m\u001b[0;34m.\u001b[0m\u001b[0m_call\u001b[0m\u001b[0;34m(\u001b[0m\u001b[0;34m*\u001b[0m\u001b[0margs\u001b[0m\u001b[0;34m,\u001b[0m \u001b[0;34m**\u001b[0m\u001b[0mkwds\u001b[0m\u001b[0;34m)\u001b[0m\u001b[0;34m\u001b[0m\u001b[0;34m\u001b[0m\u001b[0m\n\u001b[0m\u001b[1;32m    833\u001b[0m \u001b[0;34m\u001b[0m\u001b[0m\n\u001b[1;32m    834\u001b[0m       \u001b[0mnew_tracing_count\u001b[0m \u001b[0;34m=\u001b[0m \u001b[0mself\u001b[0m\u001b[0;34m.\u001b[0m\u001b[0mexperimental_get_tracing_count\u001b[0m\u001b[0;34m(\u001b[0m\u001b[0;34m)\u001b[0m\u001b[0;34m\u001b[0m\u001b[0;34m\u001b[0m\u001b[0m\n",
            "\u001b[0;32m/usr/local/lib/python3.10/dist-packages/tensorflow/python/eager/polymorphic_function/polymorphic_function.py\u001b[0m in \u001b[0;36m_call\u001b[0;34m(self, *args, **kwds)\u001b[0m\n\u001b[1;32m    866\u001b[0m       \u001b[0;31m# In this case we have created variables on the first call, so we run the\u001b[0m\u001b[0;34m\u001b[0m\u001b[0;34m\u001b[0m\u001b[0m\n\u001b[1;32m    867\u001b[0m       \u001b[0;31m# defunned version which is guaranteed to never create variables.\u001b[0m\u001b[0;34m\u001b[0m\u001b[0;34m\u001b[0m\u001b[0m\n\u001b[0;32m--> 868\u001b[0;31m       return tracing_compilation.call_function(\n\u001b[0m\u001b[1;32m    869\u001b[0m           \u001b[0margs\u001b[0m\u001b[0;34m,\u001b[0m \u001b[0mkwds\u001b[0m\u001b[0;34m,\u001b[0m \u001b[0mself\u001b[0m\u001b[0;34m.\u001b[0m\u001b[0m_no_variable_creation_config\u001b[0m\u001b[0;34m\u001b[0m\u001b[0;34m\u001b[0m\u001b[0m\n\u001b[1;32m    870\u001b[0m       )\n",
            "\u001b[0;32m/usr/local/lib/python3.10/dist-packages/tensorflow/python/eager/polymorphic_function/tracing_compilation.py\u001b[0m in \u001b[0;36mcall_function\u001b[0;34m(args, kwargs, tracing_options)\u001b[0m\n\u001b[1;32m    137\u001b[0m   \u001b[0mbound_args\u001b[0m \u001b[0;34m=\u001b[0m \u001b[0mfunction\u001b[0m\u001b[0;34m.\u001b[0m\u001b[0mfunction_type\u001b[0m\u001b[0;34m.\u001b[0m\u001b[0mbind\u001b[0m\u001b[0;34m(\u001b[0m\u001b[0;34m*\u001b[0m\u001b[0margs\u001b[0m\u001b[0;34m,\u001b[0m \u001b[0;34m**\u001b[0m\u001b[0mkwargs\u001b[0m\u001b[0;34m)\u001b[0m\u001b[0;34m\u001b[0m\u001b[0;34m\u001b[0m\u001b[0m\n\u001b[1;32m    138\u001b[0m   \u001b[0mflat_inputs\u001b[0m \u001b[0;34m=\u001b[0m \u001b[0mfunction\u001b[0m\u001b[0;34m.\u001b[0m\u001b[0mfunction_type\u001b[0m\u001b[0;34m.\u001b[0m\u001b[0munpack_inputs\u001b[0m\u001b[0;34m(\u001b[0m\u001b[0mbound_args\u001b[0m\u001b[0;34m)\u001b[0m\u001b[0;34m\u001b[0m\u001b[0;34m\u001b[0m\u001b[0m\n\u001b[0;32m--> 139\u001b[0;31m   return function._call_flat(  # pylint: disable=protected-access\n\u001b[0m\u001b[1;32m    140\u001b[0m       \u001b[0mflat_inputs\u001b[0m\u001b[0;34m,\u001b[0m \u001b[0mcaptured_inputs\u001b[0m\u001b[0;34m=\u001b[0m\u001b[0mfunction\u001b[0m\u001b[0;34m.\u001b[0m\u001b[0mcaptured_inputs\u001b[0m\u001b[0;34m\u001b[0m\u001b[0;34m\u001b[0m\u001b[0m\n\u001b[1;32m    141\u001b[0m   )\n",
            "\u001b[0;32m/usr/local/lib/python3.10/dist-packages/tensorflow/python/eager/polymorphic_function/concrete_function.py\u001b[0m in \u001b[0;36m_call_flat\u001b[0;34m(self, tensor_inputs, captured_inputs)\u001b[0m\n\u001b[1;32m   1321\u001b[0m         and executing_eagerly):\n\u001b[1;32m   1322\u001b[0m       \u001b[0;31m# No tape is watching; skip to running the function.\u001b[0m\u001b[0;34m\u001b[0m\u001b[0;34m\u001b[0m\u001b[0m\n\u001b[0;32m-> 1323\u001b[0;31m       \u001b[0;32mreturn\u001b[0m \u001b[0mself\u001b[0m\u001b[0;34m.\u001b[0m\u001b[0m_inference_function\u001b[0m\u001b[0;34m.\u001b[0m\u001b[0mcall_preflattened\u001b[0m\u001b[0;34m(\u001b[0m\u001b[0margs\u001b[0m\u001b[0;34m)\u001b[0m\u001b[0;34m\u001b[0m\u001b[0;34m\u001b[0m\u001b[0m\n\u001b[0m\u001b[1;32m   1324\u001b[0m     forward_backward = self._select_forward_and_backward_functions(\n\u001b[1;32m   1325\u001b[0m         \u001b[0margs\u001b[0m\u001b[0;34m,\u001b[0m\u001b[0;34m\u001b[0m\u001b[0;34m\u001b[0m\u001b[0m\n",
            "\u001b[0;32m/usr/local/lib/python3.10/dist-packages/tensorflow/python/eager/polymorphic_function/atomic_function.py\u001b[0m in \u001b[0;36mcall_preflattened\u001b[0;34m(self, args)\u001b[0m\n\u001b[1;32m    214\u001b[0m   \u001b[0;32mdef\u001b[0m \u001b[0mcall_preflattened\u001b[0m\u001b[0;34m(\u001b[0m\u001b[0mself\u001b[0m\u001b[0;34m,\u001b[0m \u001b[0margs\u001b[0m\u001b[0;34m:\u001b[0m \u001b[0mSequence\u001b[0m\u001b[0;34m[\u001b[0m\u001b[0mcore\u001b[0m\u001b[0;34m.\u001b[0m\u001b[0mTensor\u001b[0m\u001b[0;34m]\u001b[0m\u001b[0;34m)\u001b[0m \u001b[0;34m->\u001b[0m \u001b[0mAny\u001b[0m\u001b[0;34m:\u001b[0m\u001b[0;34m\u001b[0m\u001b[0;34m\u001b[0m\u001b[0m\n\u001b[1;32m    215\u001b[0m     \u001b[0;34m\"\"\"Calls with flattened tensor inputs and returns the structured output.\"\"\"\u001b[0m\u001b[0;34m\u001b[0m\u001b[0;34m\u001b[0m\u001b[0m\n\u001b[0;32m--> 216\u001b[0;31m     \u001b[0mflat_outputs\u001b[0m \u001b[0;34m=\u001b[0m \u001b[0mself\u001b[0m\u001b[0;34m.\u001b[0m\u001b[0mcall_flat\u001b[0m\u001b[0;34m(\u001b[0m\u001b[0;34m*\u001b[0m\u001b[0margs\u001b[0m\u001b[0;34m)\u001b[0m\u001b[0;34m\u001b[0m\u001b[0;34m\u001b[0m\u001b[0m\n\u001b[0m\u001b[1;32m    217\u001b[0m     \u001b[0;32mreturn\u001b[0m \u001b[0mself\u001b[0m\u001b[0;34m.\u001b[0m\u001b[0mfunction_type\u001b[0m\u001b[0;34m.\u001b[0m\u001b[0mpack_output\u001b[0m\u001b[0;34m(\u001b[0m\u001b[0mflat_outputs\u001b[0m\u001b[0;34m)\u001b[0m\u001b[0;34m\u001b[0m\u001b[0;34m\u001b[0m\u001b[0m\n\u001b[1;32m    218\u001b[0m \u001b[0;34m\u001b[0m\u001b[0m\n",
            "\u001b[0;32m/usr/local/lib/python3.10/dist-packages/tensorflow/python/eager/polymorphic_function/atomic_function.py\u001b[0m in \u001b[0;36mcall_flat\u001b[0;34m(self, *args)\u001b[0m\n\u001b[1;32m    249\u001b[0m         \u001b[0;32mwith\u001b[0m \u001b[0mrecord\u001b[0m\u001b[0;34m.\u001b[0m\u001b[0mstop_recording\u001b[0m\u001b[0;34m(\u001b[0m\u001b[0;34m)\u001b[0m\u001b[0;34m:\u001b[0m\u001b[0;34m\u001b[0m\u001b[0;34m\u001b[0m\u001b[0m\n\u001b[1;32m    250\u001b[0m           \u001b[0;32mif\u001b[0m \u001b[0mself\u001b[0m\u001b[0;34m.\u001b[0m\u001b[0m_bound_context\u001b[0m\u001b[0;34m.\u001b[0m\u001b[0mexecuting_eagerly\u001b[0m\u001b[0;34m(\u001b[0m\u001b[0;34m)\u001b[0m\u001b[0;34m:\u001b[0m\u001b[0;34m\u001b[0m\u001b[0;34m\u001b[0m\u001b[0m\n\u001b[0;32m--> 251\u001b[0;31m             outputs = self._bound_context.call_function(\n\u001b[0m\u001b[1;32m    252\u001b[0m                 \u001b[0mself\u001b[0m\u001b[0;34m.\u001b[0m\u001b[0mname\u001b[0m\u001b[0;34m,\u001b[0m\u001b[0;34m\u001b[0m\u001b[0;34m\u001b[0m\u001b[0m\n\u001b[1;32m    253\u001b[0m                 \u001b[0mlist\u001b[0m\u001b[0;34m(\u001b[0m\u001b[0margs\u001b[0m\u001b[0;34m)\u001b[0m\u001b[0;34m,\u001b[0m\u001b[0;34m\u001b[0m\u001b[0;34m\u001b[0m\u001b[0m\n",
            "\u001b[0;32m/usr/local/lib/python3.10/dist-packages/tensorflow/python/eager/context.py\u001b[0m in \u001b[0;36mcall_function\u001b[0;34m(self, name, tensor_inputs, num_outputs)\u001b[0m\n\u001b[1;32m   1484\u001b[0m     \u001b[0mcancellation_context\u001b[0m \u001b[0;34m=\u001b[0m \u001b[0mcancellation\u001b[0m\u001b[0;34m.\u001b[0m\u001b[0mcontext\u001b[0m\u001b[0;34m(\u001b[0m\u001b[0;34m)\u001b[0m\u001b[0;34m\u001b[0m\u001b[0;34m\u001b[0m\u001b[0m\n\u001b[1;32m   1485\u001b[0m     \u001b[0;32mif\u001b[0m \u001b[0mcancellation_context\u001b[0m \u001b[0;32mis\u001b[0m \u001b[0;32mNone\u001b[0m\u001b[0;34m:\u001b[0m\u001b[0;34m\u001b[0m\u001b[0;34m\u001b[0m\u001b[0m\n\u001b[0;32m-> 1486\u001b[0;31m       outputs = execute.execute(\n\u001b[0m\u001b[1;32m   1487\u001b[0m           \u001b[0mname\u001b[0m\u001b[0;34m.\u001b[0m\u001b[0mdecode\u001b[0m\u001b[0;34m(\u001b[0m\u001b[0;34m\"utf-8\"\u001b[0m\u001b[0;34m)\u001b[0m\u001b[0;34m,\u001b[0m\u001b[0;34m\u001b[0m\u001b[0;34m\u001b[0m\u001b[0m\n\u001b[1;32m   1488\u001b[0m           \u001b[0mnum_outputs\u001b[0m\u001b[0;34m=\u001b[0m\u001b[0mnum_outputs\u001b[0m\u001b[0;34m,\u001b[0m\u001b[0;34m\u001b[0m\u001b[0;34m\u001b[0m\u001b[0m\n",
            "\u001b[0;32m/usr/local/lib/python3.10/dist-packages/tensorflow/python/eager/execute.py\u001b[0m in \u001b[0;36mquick_execute\u001b[0;34m(op_name, num_outputs, inputs, attrs, ctx, name)\u001b[0m\n\u001b[1;32m     51\u001b[0m   \u001b[0;32mtry\u001b[0m\u001b[0;34m:\u001b[0m\u001b[0;34m\u001b[0m\u001b[0;34m\u001b[0m\u001b[0m\n\u001b[1;32m     52\u001b[0m     \u001b[0mctx\u001b[0m\u001b[0;34m.\u001b[0m\u001b[0mensure_initialized\u001b[0m\u001b[0;34m(\u001b[0m\u001b[0;34m)\u001b[0m\u001b[0;34m\u001b[0m\u001b[0;34m\u001b[0m\u001b[0m\n\u001b[0;32m---> 53\u001b[0;31m     tensors = pywrap_tfe.TFE_Py_Execute(ctx._handle, device_name, op_name,\n\u001b[0m\u001b[1;32m     54\u001b[0m                                         inputs, attrs, num_outputs)\n\u001b[1;32m     55\u001b[0m   \u001b[0;32mexcept\u001b[0m \u001b[0mcore\u001b[0m\u001b[0;34m.\u001b[0m\u001b[0m_NotOkStatusException\u001b[0m \u001b[0;32mas\u001b[0m \u001b[0me\u001b[0m\u001b[0;34m:\u001b[0m\u001b[0;34m\u001b[0m\u001b[0;34m\u001b[0m\u001b[0m\n",
            "\u001b[0;31mKeyboardInterrupt\u001b[0m: "
          ]
        }
      ],
      "source": [
        "callbacks = [\n",
        "    keras.callbacks.ModelCheckpoint(\n",
        "        filepath=\"bestmodel.keras\",\n",
        "        save_best_only=True,\n",
        "        monitor=\"val_accuracy\")\n",
        "]\n",
        "history = model.fit(\n",
        "    train_dataset,\n",
        "    epochs=10,\n",
        "    validation_data=validation_dataset,\n",
        "    callbacks=callbacks)"
      ]
    },
    {
      "cell_type": "markdown",
      "metadata": {
        "id": "5SZQlPnAC4Gv"
      },
      "source": [
        "(Q1-6) Data augmentation 을 추가로 적용해보세요.\n",
        "- RandomFlip으로 좌우, 상하방향 대칭을 추가하세요.\n",
        "- RandomZoom 을 적당한 파라메터로 추가하세요."
      ]
    },
    {
      "cell_type": "code",
      "execution_count": null,
      "metadata": {
        "id": "rGR_TrYBw6f2"
      },
      "outputs": [],
      "source": [
        "data_augmentation = keras.Sequential(\n",
        "    [\n",
        "        layers.RandomFlip(\"horizontal\"),\n",
        "        layers.RandomRotation(0.3),\n",
        "        layers.RandomFlip(\"vertical\"),\n",
        "        layers.RandomRotation(0.2),\n",
        "        layers.RandomZoom(height_factor=0.2, width_factor=0.2),\n",
        "    ]\n",
        ")"
      ]
    },
    {
      "cell_type": "markdown",
      "source": [
        "(Q1-7) 앞에서 정의한 모형에서 data augmentation 을 추가로 적용하여 20 epoch 만 학습시켜보고 validation accuracy 기준 가장 좋았던 결과를 알려주세요."
      ],
      "metadata": {
        "id": "w4eaGE0m-J40"
      }
    },
    {
      "cell_type": "code",
      "execution_count": null,
      "metadata": {
        "colab": {
          "base_uri": "https://localhost:8080/",
          "height": 1000
        },
        "id": "vGsTWKz7DPU_",
        "outputId": "16358f17-376f-4525-d19a-b2dc16f3b0ce"
      },
      "outputs": [
        {
          "output_type": "stream",
          "name": "stdout",
          "text": [
            "Model: \"model_5\"\n",
            "_________________________________________________________________\n",
            " Layer (type)                Output Shape              Param #   \n",
            "=================================================================\n",
            " input_6 (InputLayer)        [(None, 150, 150, 3)]     0         \n",
            "                                                                 \n",
            " sequential_7 (Sequential)   (None, 150, 150, 3)       0         \n",
            "                                                                 \n",
            " conv2d_5 (Conv2D)           (None, 148, 148, 15)      420       \n",
            "                                                                 \n",
            " max_pooling2d_5 (MaxPoolin  (None, 74, 74, 15)        0         \n",
            " g2D)                                                            \n",
            "                                                                 \n",
            " conv2d_6 (Conv2D)           (None, 72, 72, 30)        4080      \n",
            "                                                                 \n",
            " max_pooling2d_6 (MaxPoolin  (None, 36, 36, 30)        0         \n",
            " g2D)                                                            \n",
            "                                                                 \n",
            " conv2d_7 (Conv2D)           (None, 34, 34, 60)        16260     \n",
            "                                                                 \n",
            " max_pooling2d_7 (MaxPoolin  (None, 17, 17, 60)        0         \n",
            " g2D)                                                            \n",
            "                                                                 \n",
            " conv2d_8 (Conv2D)           (None, 15, 15, 100)       54100     \n",
            "                                                                 \n",
            " max_pooling2d_8 (MaxPoolin  (None, 7, 7, 100)         0         \n",
            " g2D)                                                            \n",
            "                                                                 \n",
            " flatten_2 (Flatten)         (None, 4900)              0         \n",
            "                                                                 \n",
            " dense_22 (Dense)            (None, 1)                 4901      \n",
            "                                                                 \n",
            "=================================================================\n",
            "Total params: 79761 (311.57 KB)\n",
            "Trainable params: 79761 (311.57 KB)\n",
            "Non-trainable params: 0 (0.00 Byte)\n",
            "_________________________________________________________________\n",
            "Epoch 1/20\n",
            "32/32 [==============================] - 60s 2s/step - loss: 4.3251 - accuracy: 0.5245 - val_loss: 0.8734 - val_accuracy: 0.5130\n",
            "Epoch 2/20\n",
            "32/32 [==============================] - 61s 2s/step - loss: 0.7986 - accuracy: 0.5365 - val_loss: 0.7853 - val_accuracy: 0.5210\n",
            "Epoch 3/20\n",
            "32/32 [==============================] - 67s 2s/step - loss: 0.7260 - accuracy: 0.5560 - val_loss: 0.7571 - val_accuracy: 0.5050\n",
            "Epoch 4/20\n",
            "13/32 [===========>..................] - ETA: 30s - loss: 0.7069 - accuracy: 0.5192"
          ]
        },
        {
          "output_type": "error",
          "ename": "KeyboardInterrupt",
          "evalue": "",
          "traceback": [
            "\u001b[0;31m---------------------------------------------------------------------------\u001b[0m",
            "\u001b[0;31mKeyboardInterrupt\u001b[0m                         Traceback (most recent call last)",
            "\u001b[0;32m<ipython-input-52-e3a7d139a11f>\u001b[0m in \u001b[0;36m<cell line: 27>\u001b[0;34m()\u001b[0m\n\u001b[1;32m     25\u001b[0m         monitor=\"val_accuracy\")\n\u001b[1;32m     26\u001b[0m ]\n\u001b[0;32m---> 27\u001b[0;31m history = model.fit(\n\u001b[0m\u001b[1;32m     28\u001b[0m     \u001b[0mtrain_dataset\u001b[0m\u001b[0;34m,\u001b[0m\u001b[0;34m\u001b[0m\u001b[0;34m\u001b[0m\u001b[0m\n\u001b[1;32m     29\u001b[0m     \u001b[0mepochs\u001b[0m\u001b[0;34m=\u001b[0m\u001b[0;36m20\u001b[0m\u001b[0;34m,\u001b[0m\u001b[0;34m\u001b[0m\u001b[0;34m\u001b[0m\u001b[0m\n",
            "\u001b[0;32m/usr/local/lib/python3.10/dist-packages/keras/src/utils/traceback_utils.py\u001b[0m in \u001b[0;36merror_handler\u001b[0;34m(*args, **kwargs)\u001b[0m\n\u001b[1;32m     63\u001b[0m         \u001b[0mfiltered_tb\u001b[0m \u001b[0;34m=\u001b[0m \u001b[0;32mNone\u001b[0m\u001b[0;34m\u001b[0m\u001b[0;34m\u001b[0m\u001b[0m\n\u001b[1;32m     64\u001b[0m         \u001b[0;32mtry\u001b[0m\u001b[0;34m:\u001b[0m\u001b[0;34m\u001b[0m\u001b[0;34m\u001b[0m\u001b[0m\n\u001b[0;32m---> 65\u001b[0;31m             \u001b[0;32mreturn\u001b[0m \u001b[0mfn\u001b[0m\u001b[0;34m(\u001b[0m\u001b[0;34m*\u001b[0m\u001b[0margs\u001b[0m\u001b[0;34m,\u001b[0m \u001b[0;34m**\u001b[0m\u001b[0mkwargs\u001b[0m\u001b[0;34m)\u001b[0m\u001b[0;34m\u001b[0m\u001b[0;34m\u001b[0m\u001b[0m\n\u001b[0m\u001b[1;32m     66\u001b[0m         \u001b[0;32mexcept\u001b[0m \u001b[0mException\u001b[0m \u001b[0;32mas\u001b[0m \u001b[0me\u001b[0m\u001b[0;34m:\u001b[0m\u001b[0;34m\u001b[0m\u001b[0;34m\u001b[0m\u001b[0m\n\u001b[1;32m     67\u001b[0m             \u001b[0mfiltered_tb\u001b[0m \u001b[0;34m=\u001b[0m \u001b[0m_process_traceback_frames\u001b[0m\u001b[0;34m(\u001b[0m\u001b[0me\u001b[0m\u001b[0;34m.\u001b[0m\u001b[0m__traceback__\u001b[0m\u001b[0;34m)\u001b[0m\u001b[0;34m\u001b[0m\u001b[0;34m\u001b[0m\u001b[0m\n",
            "\u001b[0;32m/usr/local/lib/python3.10/dist-packages/keras/src/engine/training.py\u001b[0m in \u001b[0;36mfit\u001b[0;34m(self, x, y, batch_size, epochs, verbose, callbacks, validation_split, validation_data, shuffle, class_weight, sample_weight, initial_epoch, steps_per_epoch, validation_steps, validation_batch_size, validation_freq, max_queue_size, workers, use_multiprocessing)\u001b[0m\n\u001b[1;32m   1805\u001b[0m                         ):\n\u001b[1;32m   1806\u001b[0m                             \u001b[0mcallbacks\u001b[0m\u001b[0;34m.\u001b[0m\u001b[0mon_train_batch_begin\u001b[0m\u001b[0;34m(\u001b[0m\u001b[0mstep\u001b[0m\u001b[0;34m)\u001b[0m\u001b[0;34m\u001b[0m\u001b[0;34m\u001b[0m\u001b[0m\n\u001b[0;32m-> 1807\u001b[0;31m                             \u001b[0mtmp_logs\u001b[0m \u001b[0;34m=\u001b[0m \u001b[0mself\u001b[0m\u001b[0;34m.\u001b[0m\u001b[0mtrain_function\u001b[0m\u001b[0;34m(\u001b[0m\u001b[0miterator\u001b[0m\u001b[0;34m)\u001b[0m\u001b[0;34m\u001b[0m\u001b[0;34m\u001b[0m\u001b[0m\n\u001b[0m\u001b[1;32m   1808\u001b[0m                             \u001b[0;32mif\u001b[0m \u001b[0mdata_handler\u001b[0m\u001b[0;34m.\u001b[0m\u001b[0mshould_sync\u001b[0m\u001b[0;34m:\u001b[0m\u001b[0;34m\u001b[0m\u001b[0;34m\u001b[0m\u001b[0m\n\u001b[1;32m   1809\u001b[0m                                 \u001b[0mcontext\u001b[0m\u001b[0;34m.\u001b[0m\u001b[0masync_wait\u001b[0m\u001b[0;34m(\u001b[0m\u001b[0;34m)\u001b[0m\u001b[0;34m\u001b[0m\u001b[0;34m\u001b[0m\u001b[0m\n",
            "\u001b[0;32m/usr/local/lib/python3.10/dist-packages/tensorflow/python/util/traceback_utils.py\u001b[0m in \u001b[0;36merror_handler\u001b[0;34m(*args, **kwargs)\u001b[0m\n\u001b[1;32m    148\u001b[0m     \u001b[0mfiltered_tb\u001b[0m \u001b[0;34m=\u001b[0m \u001b[0;32mNone\u001b[0m\u001b[0;34m\u001b[0m\u001b[0;34m\u001b[0m\u001b[0m\n\u001b[1;32m    149\u001b[0m     \u001b[0;32mtry\u001b[0m\u001b[0;34m:\u001b[0m\u001b[0;34m\u001b[0m\u001b[0;34m\u001b[0m\u001b[0m\n\u001b[0;32m--> 150\u001b[0;31m       \u001b[0;32mreturn\u001b[0m \u001b[0mfn\u001b[0m\u001b[0;34m(\u001b[0m\u001b[0;34m*\u001b[0m\u001b[0margs\u001b[0m\u001b[0;34m,\u001b[0m \u001b[0;34m**\u001b[0m\u001b[0mkwargs\u001b[0m\u001b[0;34m)\u001b[0m\u001b[0;34m\u001b[0m\u001b[0;34m\u001b[0m\u001b[0m\n\u001b[0m\u001b[1;32m    151\u001b[0m     \u001b[0;32mexcept\u001b[0m \u001b[0mException\u001b[0m \u001b[0;32mas\u001b[0m \u001b[0me\u001b[0m\u001b[0;34m:\u001b[0m\u001b[0;34m\u001b[0m\u001b[0;34m\u001b[0m\u001b[0m\n\u001b[1;32m    152\u001b[0m       \u001b[0mfiltered_tb\u001b[0m \u001b[0;34m=\u001b[0m \u001b[0m_process_traceback_frames\u001b[0m\u001b[0;34m(\u001b[0m\u001b[0me\u001b[0m\u001b[0;34m.\u001b[0m\u001b[0m__traceback__\u001b[0m\u001b[0;34m)\u001b[0m\u001b[0;34m\u001b[0m\u001b[0;34m\u001b[0m\u001b[0m\n",
            "\u001b[0;32m/usr/local/lib/python3.10/dist-packages/tensorflow/python/eager/polymorphic_function/polymorphic_function.py\u001b[0m in \u001b[0;36m__call__\u001b[0;34m(self, *args, **kwds)\u001b[0m\n\u001b[1;32m    830\u001b[0m \u001b[0;34m\u001b[0m\u001b[0m\n\u001b[1;32m    831\u001b[0m       \u001b[0;32mwith\u001b[0m \u001b[0mOptionalXlaContext\u001b[0m\u001b[0;34m(\u001b[0m\u001b[0mself\u001b[0m\u001b[0;34m.\u001b[0m\u001b[0m_jit_compile\u001b[0m\u001b[0;34m)\u001b[0m\u001b[0;34m:\u001b[0m\u001b[0;34m\u001b[0m\u001b[0;34m\u001b[0m\u001b[0m\n\u001b[0;32m--> 832\u001b[0;31m         \u001b[0mresult\u001b[0m \u001b[0;34m=\u001b[0m \u001b[0mself\u001b[0m\u001b[0;34m.\u001b[0m\u001b[0m_call\u001b[0m\u001b[0;34m(\u001b[0m\u001b[0;34m*\u001b[0m\u001b[0margs\u001b[0m\u001b[0;34m,\u001b[0m \u001b[0;34m**\u001b[0m\u001b[0mkwds\u001b[0m\u001b[0;34m)\u001b[0m\u001b[0;34m\u001b[0m\u001b[0;34m\u001b[0m\u001b[0m\n\u001b[0m\u001b[1;32m    833\u001b[0m \u001b[0;34m\u001b[0m\u001b[0m\n\u001b[1;32m    834\u001b[0m       \u001b[0mnew_tracing_count\u001b[0m \u001b[0;34m=\u001b[0m \u001b[0mself\u001b[0m\u001b[0;34m.\u001b[0m\u001b[0mexperimental_get_tracing_count\u001b[0m\u001b[0;34m(\u001b[0m\u001b[0;34m)\u001b[0m\u001b[0;34m\u001b[0m\u001b[0;34m\u001b[0m\u001b[0m\n",
            "\u001b[0;32m/usr/local/lib/python3.10/dist-packages/tensorflow/python/eager/polymorphic_function/polymorphic_function.py\u001b[0m in \u001b[0;36m_call\u001b[0;34m(self, *args, **kwds)\u001b[0m\n\u001b[1;32m    866\u001b[0m       \u001b[0;31m# In this case we have created variables on the first call, so we run the\u001b[0m\u001b[0;34m\u001b[0m\u001b[0;34m\u001b[0m\u001b[0m\n\u001b[1;32m    867\u001b[0m       \u001b[0;31m# defunned version which is guaranteed to never create variables.\u001b[0m\u001b[0;34m\u001b[0m\u001b[0;34m\u001b[0m\u001b[0m\n\u001b[0;32m--> 868\u001b[0;31m       return tracing_compilation.call_function(\n\u001b[0m\u001b[1;32m    869\u001b[0m           \u001b[0margs\u001b[0m\u001b[0;34m,\u001b[0m \u001b[0mkwds\u001b[0m\u001b[0;34m,\u001b[0m \u001b[0mself\u001b[0m\u001b[0;34m.\u001b[0m\u001b[0m_no_variable_creation_config\u001b[0m\u001b[0;34m\u001b[0m\u001b[0;34m\u001b[0m\u001b[0m\n\u001b[1;32m    870\u001b[0m       )\n",
            "\u001b[0;32m/usr/local/lib/python3.10/dist-packages/tensorflow/python/eager/polymorphic_function/tracing_compilation.py\u001b[0m in \u001b[0;36mcall_function\u001b[0;34m(args, kwargs, tracing_options)\u001b[0m\n\u001b[1;32m    137\u001b[0m   \u001b[0mbound_args\u001b[0m \u001b[0;34m=\u001b[0m \u001b[0mfunction\u001b[0m\u001b[0;34m.\u001b[0m\u001b[0mfunction_type\u001b[0m\u001b[0;34m.\u001b[0m\u001b[0mbind\u001b[0m\u001b[0;34m(\u001b[0m\u001b[0;34m*\u001b[0m\u001b[0margs\u001b[0m\u001b[0;34m,\u001b[0m \u001b[0;34m**\u001b[0m\u001b[0mkwargs\u001b[0m\u001b[0;34m)\u001b[0m\u001b[0;34m\u001b[0m\u001b[0;34m\u001b[0m\u001b[0m\n\u001b[1;32m    138\u001b[0m   \u001b[0mflat_inputs\u001b[0m \u001b[0;34m=\u001b[0m \u001b[0mfunction\u001b[0m\u001b[0;34m.\u001b[0m\u001b[0mfunction_type\u001b[0m\u001b[0;34m.\u001b[0m\u001b[0munpack_inputs\u001b[0m\u001b[0;34m(\u001b[0m\u001b[0mbound_args\u001b[0m\u001b[0;34m)\u001b[0m\u001b[0;34m\u001b[0m\u001b[0;34m\u001b[0m\u001b[0m\n\u001b[0;32m--> 139\u001b[0;31m   return function._call_flat(  # pylint: disable=protected-access\n\u001b[0m\u001b[1;32m    140\u001b[0m       \u001b[0mflat_inputs\u001b[0m\u001b[0;34m,\u001b[0m \u001b[0mcaptured_inputs\u001b[0m\u001b[0;34m=\u001b[0m\u001b[0mfunction\u001b[0m\u001b[0;34m.\u001b[0m\u001b[0mcaptured_inputs\u001b[0m\u001b[0;34m\u001b[0m\u001b[0;34m\u001b[0m\u001b[0m\n\u001b[1;32m    141\u001b[0m   )\n",
            "\u001b[0;32m/usr/local/lib/python3.10/dist-packages/tensorflow/python/eager/polymorphic_function/concrete_function.py\u001b[0m in \u001b[0;36m_call_flat\u001b[0;34m(self, tensor_inputs, captured_inputs)\u001b[0m\n\u001b[1;32m   1321\u001b[0m         and executing_eagerly):\n\u001b[1;32m   1322\u001b[0m       \u001b[0;31m# No tape is watching; skip to running the function.\u001b[0m\u001b[0;34m\u001b[0m\u001b[0;34m\u001b[0m\u001b[0m\n\u001b[0;32m-> 1323\u001b[0;31m       \u001b[0;32mreturn\u001b[0m \u001b[0mself\u001b[0m\u001b[0;34m.\u001b[0m\u001b[0m_inference_function\u001b[0m\u001b[0;34m.\u001b[0m\u001b[0mcall_preflattened\u001b[0m\u001b[0;34m(\u001b[0m\u001b[0margs\u001b[0m\u001b[0;34m)\u001b[0m\u001b[0;34m\u001b[0m\u001b[0;34m\u001b[0m\u001b[0m\n\u001b[0m\u001b[1;32m   1324\u001b[0m     forward_backward = self._select_forward_and_backward_functions(\n\u001b[1;32m   1325\u001b[0m         \u001b[0margs\u001b[0m\u001b[0;34m,\u001b[0m\u001b[0;34m\u001b[0m\u001b[0;34m\u001b[0m\u001b[0m\n",
            "\u001b[0;32m/usr/local/lib/python3.10/dist-packages/tensorflow/python/eager/polymorphic_function/atomic_function.py\u001b[0m in \u001b[0;36mcall_preflattened\u001b[0;34m(self, args)\u001b[0m\n\u001b[1;32m    214\u001b[0m   \u001b[0;32mdef\u001b[0m \u001b[0mcall_preflattened\u001b[0m\u001b[0;34m(\u001b[0m\u001b[0mself\u001b[0m\u001b[0;34m,\u001b[0m \u001b[0margs\u001b[0m\u001b[0;34m:\u001b[0m \u001b[0mSequence\u001b[0m\u001b[0;34m[\u001b[0m\u001b[0mcore\u001b[0m\u001b[0;34m.\u001b[0m\u001b[0mTensor\u001b[0m\u001b[0;34m]\u001b[0m\u001b[0;34m)\u001b[0m \u001b[0;34m->\u001b[0m \u001b[0mAny\u001b[0m\u001b[0;34m:\u001b[0m\u001b[0;34m\u001b[0m\u001b[0;34m\u001b[0m\u001b[0m\n\u001b[1;32m    215\u001b[0m     \u001b[0;34m\"\"\"Calls with flattened tensor inputs and returns the structured output.\"\"\"\u001b[0m\u001b[0;34m\u001b[0m\u001b[0;34m\u001b[0m\u001b[0m\n\u001b[0;32m--> 216\u001b[0;31m     \u001b[0mflat_outputs\u001b[0m \u001b[0;34m=\u001b[0m \u001b[0mself\u001b[0m\u001b[0;34m.\u001b[0m\u001b[0mcall_flat\u001b[0m\u001b[0;34m(\u001b[0m\u001b[0;34m*\u001b[0m\u001b[0margs\u001b[0m\u001b[0;34m)\u001b[0m\u001b[0;34m\u001b[0m\u001b[0;34m\u001b[0m\u001b[0m\n\u001b[0m\u001b[1;32m    217\u001b[0m     \u001b[0;32mreturn\u001b[0m \u001b[0mself\u001b[0m\u001b[0;34m.\u001b[0m\u001b[0mfunction_type\u001b[0m\u001b[0;34m.\u001b[0m\u001b[0mpack_output\u001b[0m\u001b[0;34m(\u001b[0m\u001b[0mflat_outputs\u001b[0m\u001b[0;34m)\u001b[0m\u001b[0;34m\u001b[0m\u001b[0;34m\u001b[0m\u001b[0m\n\u001b[1;32m    218\u001b[0m \u001b[0;34m\u001b[0m\u001b[0m\n",
            "\u001b[0;32m/usr/local/lib/python3.10/dist-packages/tensorflow/python/eager/polymorphic_function/atomic_function.py\u001b[0m in \u001b[0;36mcall_flat\u001b[0;34m(self, *args)\u001b[0m\n\u001b[1;32m    249\u001b[0m         \u001b[0;32mwith\u001b[0m \u001b[0mrecord\u001b[0m\u001b[0;34m.\u001b[0m\u001b[0mstop_recording\u001b[0m\u001b[0;34m(\u001b[0m\u001b[0;34m)\u001b[0m\u001b[0;34m:\u001b[0m\u001b[0;34m\u001b[0m\u001b[0;34m\u001b[0m\u001b[0m\n\u001b[1;32m    250\u001b[0m           \u001b[0;32mif\u001b[0m \u001b[0mself\u001b[0m\u001b[0;34m.\u001b[0m\u001b[0m_bound_context\u001b[0m\u001b[0;34m.\u001b[0m\u001b[0mexecuting_eagerly\u001b[0m\u001b[0;34m(\u001b[0m\u001b[0;34m)\u001b[0m\u001b[0;34m:\u001b[0m\u001b[0;34m\u001b[0m\u001b[0;34m\u001b[0m\u001b[0m\n\u001b[0;32m--> 251\u001b[0;31m             outputs = self._bound_context.call_function(\n\u001b[0m\u001b[1;32m    252\u001b[0m                 \u001b[0mself\u001b[0m\u001b[0;34m.\u001b[0m\u001b[0mname\u001b[0m\u001b[0;34m,\u001b[0m\u001b[0;34m\u001b[0m\u001b[0;34m\u001b[0m\u001b[0m\n\u001b[1;32m    253\u001b[0m                 \u001b[0mlist\u001b[0m\u001b[0;34m(\u001b[0m\u001b[0margs\u001b[0m\u001b[0;34m)\u001b[0m\u001b[0;34m,\u001b[0m\u001b[0;34m\u001b[0m\u001b[0;34m\u001b[0m\u001b[0m\n",
            "\u001b[0;32m/usr/local/lib/python3.10/dist-packages/tensorflow/python/eager/context.py\u001b[0m in \u001b[0;36mcall_function\u001b[0;34m(self, name, tensor_inputs, num_outputs)\u001b[0m\n\u001b[1;32m   1484\u001b[0m     \u001b[0mcancellation_context\u001b[0m \u001b[0;34m=\u001b[0m \u001b[0mcancellation\u001b[0m\u001b[0;34m.\u001b[0m\u001b[0mcontext\u001b[0m\u001b[0;34m(\u001b[0m\u001b[0;34m)\u001b[0m\u001b[0;34m\u001b[0m\u001b[0;34m\u001b[0m\u001b[0m\n\u001b[1;32m   1485\u001b[0m     \u001b[0;32mif\u001b[0m \u001b[0mcancellation_context\u001b[0m \u001b[0;32mis\u001b[0m \u001b[0;32mNone\u001b[0m\u001b[0;34m:\u001b[0m\u001b[0;34m\u001b[0m\u001b[0;34m\u001b[0m\u001b[0m\n\u001b[0;32m-> 1486\u001b[0;31m       outputs = execute.execute(\n\u001b[0m\u001b[1;32m   1487\u001b[0m           \u001b[0mname\u001b[0m\u001b[0;34m.\u001b[0m\u001b[0mdecode\u001b[0m\u001b[0;34m(\u001b[0m\u001b[0;34m\"utf-8\"\u001b[0m\u001b[0;34m)\u001b[0m\u001b[0;34m,\u001b[0m\u001b[0;34m\u001b[0m\u001b[0;34m\u001b[0m\u001b[0m\n\u001b[1;32m   1488\u001b[0m           \u001b[0mnum_outputs\u001b[0m\u001b[0;34m=\u001b[0m\u001b[0mnum_outputs\u001b[0m\u001b[0;34m,\u001b[0m\u001b[0;34m\u001b[0m\u001b[0;34m\u001b[0m\u001b[0m\n",
            "\u001b[0;32m/usr/local/lib/python3.10/dist-packages/tensorflow/python/eager/execute.py\u001b[0m in \u001b[0;36mquick_execute\u001b[0;34m(op_name, num_outputs, inputs, attrs, ctx, name)\u001b[0m\n\u001b[1;32m     51\u001b[0m   \u001b[0;32mtry\u001b[0m\u001b[0;34m:\u001b[0m\u001b[0;34m\u001b[0m\u001b[0;34m\u001b[0m\u001b[0m\n\u001b[1;32m     52\u001b[0m     \u001b[0mctx\u001b[0m\u001b[0;34m.\u001b[0m\u001b[0mensure_initialized\u001b[0m\u001b[0;34m(\u001b[0m\u001b[0;34m)\u001b[0m\u001b[0;34m\u001b[0m\u001b[0;34m\u001b[0m\u001b[0m\n\u001b[0;32m---> 53\u001b[0;31m     tensors = pywrap_tfe.TFE_Py_Execute(ctx._handle, device_name, op_name,\n\u001b[0m\u001b[1;32m     54\u001b[0m                                         inputs, attrs, num_outputs)\n\u001b[1;32m     55\u001b[0m   \u001b[0;32mexcept\u001b[0m \u001b[0mcore\u001b[0m\u001b[0;34m.\u001b[0m\u001b[0m_NotOkStatusException\u001b[0m \u001b[0;32mas\u001b[0m \u001b[0me\u001b[0m\u001b[0;34m:\u001b[0m\u001b[0;34m\u001b[0m\u001b[0;34m\u001b[0m\u001b[0m\n",
            "\u001b[0;31mKeyboardInterrupt\u001b[0m: "
          ]
        }
      ],
      "source": [
        "inputs = keras.Input(shape = (150,150,3))\n",
        "x = data_augmentation(inputs)\n",
        "x = layers.Conv2D(filters = 15, kernel_size = 3,strides = 1, activation = 'relu')(x)\n",
        "x = layers.MaxPooling2D(pool_size = (2,2), strides=2)(x)\n",
        "x = layers.Conv2D(filters = 30,  kernel_size = 3,strides = 1, activation = 'relu')(x)\n",
        "x = layers.MaxPooling2D(pool_size = (2,2), strides=2)(x)\n",
        "x = layers.Conv2D(filters = 60,  kernel_size = 3,strides = 1, activation = 'relu')(x)\n",
        "x = layers.MaxPooling2D(pool_size = (2,2), strides=2)(x)\n",
        "x = layers.Conv2D(filters = 100,  kernel_size = 3,strides = 1, activation = 'relu')(x)\n",
        "x = layers.MaxPooling2D(pool_size = (2,2), strides=2)(x)\n",
        "x = layers.Flatten()(x)\n",
        "outputs = layers.Dense(1, activation='sigmoid')(x)\n",
        "model = keras.Model(inputs,outputs)\n",
        "model.summary()\n",
        "\n",
        "model.compile(\n",
        "    optimizer=\"rmsprop\",\n",
        "    loss=\"binary_crossentropy\",\n",
        "    metrics=[\"accuracy\"])\n",
        "\n",
        "callbacks = [\n",
        "    keras.callbacks.ModelCheckpoint(\n",
        "        filepath=\"bestmodel.keras\",\n",
        "        save_best_only=True,\n",
        "        monitor=\"val_accuracy\")\n",
        "]\n",
        "history = model.fit(\n",
        "    train_dataset,\n",
        "    epochs=20,\n",
        "    validation_data=validation_dataset,\n",
        "    callbacks=callbacks)\n",
        "\n",
        "print('The Best validation_accuracy : ' ,max(history.history['val_accuracy']))"
      ]
    },
    {
      "cell_type": "markdown",
      "source": [
        "# Exam 2"
      ],
      "metadata": {
        "id": "YCjE3MjQ2xoL"
      }
    },
    {
      "cell_type": "code",
      "source": [
        "import tensorflow as tf\n",
        "import numpy as np\n",
        "\n",
        "tf.__version__"
      ],
      "metadata": {
        "colab": {
          "base_uri": "https://localhost:8080/",
          "height": 35
        },
        "id": "j01ejm5d-0PR",
        "outputId": "f2a3992f-1449-4ac1-8bf9-e05e769ae1af"
      },
      "execution_count": null,
      "outputs": [
        {
          "output_type": "execute_result",
          "data": {
            "text/plain": [
              "'2.15.0'"
            ],
            "application/vnd.google.colaboratory.intrinsic+json": {
              "type": "string"
            }
          },
          "metadata": {},
          "execution_count": 56
        }
      ]
    },
    {
      "cell_type": "code",
      "source": [
        "(x_train, y_train), (x_test, y_test) = tf.keras.datasets.mnist.load_data()\n",
        "x_train, x_test = x_train / 255.0, x_test / 255.0\n",
        "\n",
        "# Add a channels dimension\n",
        "x_train = x_train[..., tf.newaxis].astype(\"float32\")\n",
        "x_test = x_test[..., tf.newaxis].astype(\"float32\")\n",
        "\n",
        "#train_labels = tf.keras.utils.to_categorical(y_train)\n",
        "#test_labels = tf.keras.utils.to_categorical(y_test)"
      ],
      "metadata": {
        "colab": {
          "base_uri": "https://localhost:8080/"
        },
        "id": "kdTDgqTF-0Vv",
        "outputId": "227c0bfe-06ee-4844-d37c-ca9aab70eda6"
      },
      "execution_count": null,
      "outputs": [
        {
          "output_type": "stream",
          "name": "stdout",
          "text": [
            "Downloading data from https://storage.googleapis.com/tensorflow/tf-keras-datasets/mnist.npz\n",
            "11490434/11490434 [==============================] - 0s 0us/step\n"
          ]
        }
      ]
    },
    {
      "cell_type": "markdown",
      "source": [
        "## 손글씨 데이터에서 0--3 사이의 숫자에 대해서만 서브셋을 취해서 모형을 만들어 보고자 합니다."
      ],
      "metadata": {
        "id": "uNo8BMuFFduv"
      }
    },
    {
      "cell_type": "markdown",
      "source": [
        "### Q1 아래는 0--3 사이 숫자 데이터를 준비하기 위한 일부 코드이다. [10 points]\n",
        " - 부족한 부분을 완성시키시오.\n",
        " - 트레이닝 데이터 갯수를 구하시오."
      ],
      "metadata": {
        "id": "pWudfruUF6mm"
      }
    },
    {
      "cell_type": "code",
      "source": [
        "idx_0_3_train = np.array([ (nm in [0,1,2,3] ) for nm in y_train ] )\n",
        "idx_0_3_test = np.array([ (nm in [0,1,2,3] ) for nm in y_test ] )"
      ],
      "metadata": {
        "id": "K5x9FNkxGF5E"
      },
      "execution_count": null,
      "outputs": []
    },
    {
      "cell_type": "code",
      "source": [
        "x_train_0_3 = x_train[idx_0_3_train]\n",
        "x_test_0_3 = x_test[idx_0_3_test]\n",
        "\n",
        "y_train_0_3 = y_train[idx_0_3_train]\n",
        "y_test_0_3 = y_test[idx_0_3_test]\n"
      ],
      "metadata": {
        "id": "_2a5NITwBAcw"
      },
      "execution_count": null,
      "outputs": []
    },
    {
      "cell_type": "code",
      "source": [
        "from tensorflow.keras.utils import to_categorical\n",
        "y_train_0_3 = to_categorical(y_train_0_3)\n",
        "y_test_0_3 = to_categorical(y_test_0_3)"
      ],
      "metadata": {
        "id": "ZNlAeEosAi72"
      },
      "execution_count": null,
      "outputs": []
    },
    {
      "cell_type": "code",
      "source": [
        "print('Shape of Training data : ',x_train_0_3.shape)\n",
        "print('Shape of Test data : ',x_test_0_3.shape)"
      ],
      "metadata": {
        "colab": {
          "base_uri": "https://localhost:8080/"
        },
        "id": "hEso1yMwA0nt",
        "outputId": "a4dcff91-2a06-4eba-de3f-58c79368af86"
      },
      "execution_count": null,
      "outputs": [
        {
          "output_type": "stream",
          "name": "stdout",
          "text": [
            "Shape of Training data :  (24754, 28, 28, 1)\n",
            "Shape of Test data :  (4157, 28, 28, 1)\n"
          ]
        }
      ]
    },
    {
      "cell_type": "code",
      "source": [
        "## 트레이닝 데이터 갯수를 확인하세요.\n",
        "print('# of Training data : ',x_train_0_3.shape[0])\n",
        "print('# of Test data : ',x_test_0_3.shape[0])"
      ],
      "metadata": {
        "colab": {
          "base_uri": "https://localhost:8080/"
        },
        "id": "l5xK4zDPDkJp",
        "outputId": "3f78768a-e4f1-4b29-da14-5fe9775bd717"
      },
      "execution_count": null,
      "outputs": [
        {
          "output_type": "stream",
          "name": "stdout",
          "text": [
            "# of Training data :  24754\n",
            "# of Test data :  4157\n"
          ]
        }
      ]
    },
    {
      "cell_type": "markdown",
      "source": [
        "### Q2 0--3 사이의 숫자 데이터에 대해 아래와 같은 구조를 같는 모형을 만들어 보자. [20 points]\n",
        "- 1개의 Convolution layer 를 사용하세요. filter size는 각각 (3,3)을 사용하고, zero padding 을 사용해서 input 과 output의 가로세로 차원을 같게해주세요. 활성함수로는 relu 를 사용해주세요.\n",
        "- Convolution layer 이후에는 Maxpooling layer 를 사용해주세요. 필터는 (4,4), stride 는 4을 사용해주세요.\n",
        "- 1개의 Convolution layer 이후에 Flatten layer를 적용해주세요.\n",
        "- Output layer 로 Dense layer 에 softmax 활성함수를 사용해주세요.\n",
        "\n",
        "![image.png](data:image/png;base64,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)"
      ],
      "metadata": {
        "id": "vw5MB9L2Ag4l"
      }
    },
    {
      "cell_type": "code",
      "source": [
        "from tensorflow.keras import layers, models\n",
        "\n",
        "## 이 부분을 완성하세요.\n",
        "model = models.Sequential()\n",
        "model.add(layers.Conv2D(32, (3, 3), strides=(1, 1), padding = \"same\", activation='relu', input_shape=(28, 28, 1)))\n",
        "model.add(layers.MaxPooling2D((4, 4),strides=(4,4)))\n",
        "model.add(layers.Flatten())\n",
        "model.add(layers.Dense(50, activation='relu'))\n",
        "model.add(layers.Dense(4, activation='softmax'))\n",
        "model.summary()"
      ],
      "metadata": {
        "colab": {
          "base_uri": "https://localhost:8080/"
        },
        "id": "dBmqAkdC07Ge",
        "outputId": "dcd3961f-c8f5-4371-e60e-8ff6d2547296"
      },
      "execution_count": null,
      "outputs": [
        {
          "output_type": "stream",
          "name": "stdout",
          "text": [
            "Model: \"sequential_8\"\n",
            "_________________________________________________________________\n",
            " Layer (type)                Output Shape              Param #   \n",
            "=================================================================\n",
            " conv2d_9 (Conv2D)           (None, 28, 28, 32)        320       \n",
            "                                                                 \n",
            " max_pooling2d_9 (MaxPoolin  (None, 7, 7, 32)          0         \n",
            " g2D)                                                            \n",
            "                                                                 \n",
            " flatten_3 (Flatten)         (None, 1568)              0         \n",
            "                                                                 \n",
            " dense_23 (Dense)            (None, 50)                78450     \n",
            "                                                                 \n",
            " dense_24 (Dense)            (None, 4)                 204       \n",
            "                                                                 \n",
            "=================================================================\n",
            "Total params: 78974 (308.49 KB)\n",
            "Trainable params: 78974 (308.49 KB)\n",
            "Non-trainable params: 0 (0.00 Byte)\n",
            "_________________________________________________________________\n"
          ]
        }
      ]
    },
    {
      "cell_type": "markdown",
      "source": [
        "### Q3 모형 컴파일 후 학습을 수행해보세요. [10 points]\n",
        "- optimizer 는 'Adam'을 사용하세요.\n",
        "- loss로 categorical cross entropy 를 사용하세요.\n",
        "- 평가용 metric 으로 'accuracy' 를 사용하세요.\n",
        "- Epoch 은 5, batch size 는 32를 사용하여 학습을 수행해보세요."
      ],
      "metadata": {
        "id": "ZGZ67lHvJXR9"
      }
    },
    {
      "cell_type": "code",
      "source": [
        "model.compile(optimizer='adam',\n",
        "              loss='categorical_crossentropy',\n",
        "              metrics=['accuracy'])\n",
        "\n",
        "## fit your model with model.fit()\n"
      ],
      "metadata": {
        "id": "mSZViuIYJnAM"
      },
      "execution_count": null,
      "outputs": []
    },
    {
      "cell_type": "code",
      "metadata": {
        "id": "SY2hVzoEHPYy",
        "colab": {
          "base_uri": "https://localhost:8080/"
        },
        "outputId": "e07904e8-8144-4ec7-cf41-e0a236cbc7f1"
      },
      "source": [
        "### Define how you fit your model\n",
        "\n",
        "history = model.fit(x_train_0_3, y_train_0_3, epochs=5, batch_size=32)"
      ],
      "execution_count": null,
      "outputs": [
        {
          "output_type": "stream",
          "name": "stdout",
          "text": [
            "Epoch 1/5\n",
            "774/774 [==============================] - 3s 3ms/step - loss: 0.0986 - accuracy: 0.9721\n",
            "Epoch 2/5\n",
            "774/774 [==============================] - 2s 3ms/step - loss: 0.0281 - accuracy: 0.9910\n",
            "Epoch 3/5\n",
            "774/774 [==============================] - 2s 3ms/step - loss: 0.0183 - accuracy: 0.9939\n",
            "Epoch 4/5\n",
            "774/774 [==============================] - 2s 3ms/step - loss: 0.0140 - accuracy: 0.9958\n",
            "Epoch 5/5\n",
            "774/774 [==============================] - 2s 3ms/step - loss: 0.0121 - accuracy: 0.9960\n"
          ]
        }
      ]
    },
    {
      "cell_type": "markdown",
      "source": [
        "### Q4 x_test_0_3, y_test_0_3 의 테스트 데이터에 대해 성능을 평가해보세요. [10 points]"
      ],
      "metadata": {
        "id": "ou3nX40wLpmN"
      }
    },
    {
      "cell_type": "code",
      "metadata": {
        "id": "ZLnyoWlmGS1Z",
        "colab": {
          "base_uri": "https://localhost:8080/"
        },
        "outputId": "f80d6a9e-ec0b-42e1-8ae2-4baf5dbe9b0b"
      },
      "source": [
        "loss , acc = model.evaluate(x_test_0_3, y_test_0_3)\n",
        "print('모델의 accuracy는 ',round(acc*100,2),'%이다')"
      ],
      "execution_count": null,
      "outputs": [
        {
          "output_type": "stream",
          "name": "stdout",
          "text": [
            "130/130 [==============================] - 0s 3ms/step - loss: 0.0193 - accuracy: 0.9942\n",
            "모델의 accuracy는  99.42 %이다\n"
          ]
        }
      ]
    },
    {
      "cell_type": "markdown",
      "source": [
        "### Q6 아래와 같이 모형을 만들어보세요. [40 points]\n",
        "- [10] 임의의 ImageNet 데이터를 이용한 pre-trained network을 가져와서 아래 그림과 같은 모형을 정의해보세요.\n",
        "- [10] Fine tunning 을 적용하지 않고 Dense 레이어만 학습시켜 모형을 적합시켜보세요\n",
        "- [10] Fine tunning을 적용하여 learning rate을 줄여서 3 epoch 정도만 더 학습시켜보세요.\n",
        "- [10] validation 셋을 통해 성능을 평가해보세요\n",
        "\n",
        "![image.png](data:image/png;base64,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)"
      ],
      "metadata": {
        "id": "K6y2zEGEjdnW"
      }
    },
    {
      "cell_type": "code",
      "source": [
        "import tensorflow as tf\n",
        "from tensorflow.keras.layers import Dense\n",
        "from tensorflow.keras.models import Model\n",
        "from tensorflow.keras.applications import ResNet50\n",
        "from tensorflow.keras.datasets import cifar10\n",
        "from tensorflow.keras.utils import to_categorical\n",
        "import numpy as np"
      ],
      "metadata": {
        "id": "ueQKNNIFBbUs"
      },
      "execution_count": null,
      "outputs": []
    },
    {
      "cell_type": "code",
      "source": [],
      "metadata": {
        "id": "BIJzCQNVBum2"
      },
      "execution_count": null,
      "outputs": []
    },
    {
      "cell_type": "markdown",
      "source": [
        "# Exam 3\n"
      ],
      "metadata": {
        "id": "pQqe6NkwCK99"
      }
    },
    {
      "cell_type": "markdown",
      "source": [
        "## Q1 - example 1 ~ 3"
      ],
      "metadata": {
        "id": "ykLwYeZ7D0Os"
      }
    },
    {
      "cell_type": "code",
      "source": [
        "import tensorflow\n",
        "tensorflow.__version__"
      ],
      "metadata": {
        "colab": {
          "base_uri": "https://localhost:8080/",
          "height": 35
        },
        "id": "1-6LBeSLCK7V",
        "outputId": "3b302da2-00fe-44d7-a352-9fbf9a5639df"
      },
      "execution_count": null,
      "outputs": [
        {
          "output_type": "execute_result",
          "data": {
            "text/plain": [
              "'2.15.0'"
            ],
            "application/vnd.google.colaboratory.intrinsic+json": {
              "type": "string"
            }
          },
          "metadata": {},
          "execution_count": 4
        }
      ]
    },
    {
      "cell_type": "code",
      "source": [
        "from tensorflow.keras.datasets import mnist\n",
        "from tensorflow.keras.utils import to_categorical\n",
        "\n",
        "(train_images, train_labels), (test_images, test_labels) = mnist.load_data()"
      ],
      "metadata": {
        "colab": {
          "base_uri": "https://localhost:8080/"
        },
        "id": "fy_BmwdACK4_",
        "outputId": "c7d74aa6-51f7-458e-a946-43e518ab4848"
      },
      "execution_count": null,
      "outputs": [
        {
          "output_type": "stream",
          "name": "stdout",
          "text": [
            "Downloading data from https://storage.googleapis.com/tensorflow/tf-keras-datasets/mnist.npz\n",
            "11490434/11490434 [==============================] - 1s 0us/step\n"
          ]
        }
      ]
    },
    {
      "cell_type": "code",
      "execution_count": null,
      "metadata": {
        "id": "PPjcbZB6ow4L"
      },
      "outputs": [],
      "source": [
        "train_images = train_images.reshape((60000, 28, 28, 1))\n",
        "train_images = train_images.astype('float32') / 255\n",
        "\n",
        "test_images = test_images.reshape((10000, 28, 28, 1))\n",
        "test_images = test_images.astype('float32') / 255\n",
        "\n",
        "train_labels = to_categorical(train_labels)\n",
        "test_labels = to_categorical(test_labels)"
      ]
    },
    {
      "cell_type": "markdown",
      "metadata": {
        "id": "YmECe4jhmqgW"
      },
      "source": [
        "(1) [30점] 아래의 내용을 만족하는 CNN을 작성해 봅시다.\n",
        " - 3개 층의 CNN layer 를 사용해서 모형을 작성해 보세요(필터갯수, 커널 크기, padding 방식, stride, activation 함수는 모형이 정의되는 한도 내에서 자유롭게 정의 가능).\n",
        " - 각 CNN layer 뒤에 (2,2)의 max pooling layer 도 포함시켜주세요.\n",
        " - 3개 층의 CNN layer 를 통과한 결과를 Flatten 시켜서 1개 층의 Dense layer 를 사용해 모형을 만들어 보세요.\n",
        " -"
      ]
    },
    {
      "cell_type": "code",
      "execution_count": null,
      "metadata": {
        "id": "Gnq4bd9AmLkk"
      },
      "outputs": [],
      "source": [
        "from tensorflow.keras import layers\n",
        "from tensorflow.keras import models\n",
        "import tensorflow as tf\n",
        "\n",
        "model = tf.keras.Sequential([\n",
        "    layers.Conv2D(16, (3, 3), strides=(1, 1), padding = \"same\", activation='relu', input_shape=(28, 28, 1)),\n",
        "    layers.MaxPooling2D((2, 2),strides=(2,2)),\n",
        "    layers.Conv2D(32, (3, 3), strides=(1, 1), padding = \"same\", activation='relu'),\n",
        "    layers.MaxPooling2D((2, 2),strides=(2,2)),\n",
        "    layers.Conv2D(32, (3, 3), strides=(1, 1), padding = \"same\", activation='relu'),\n",
        "    layers.Flatten(),\n",
        "    layers.Dense(50, activation='relu'),\n",
        "    layers.Dense(10, activation='softmax'),\n",
        "  # Rest of your model\n",
        "])\n",
        "### Define your model here"
      ]
    },
    {
      "cell_type": "code",
      "execution_count": null,
      "metadata": {
        "id": "ev3yN7tGa85d",
        "colab": {
          "base_uri": "https://localhost:8080/"
        },
        "outputId": "ec9517ed-24b0-42e3-9aeb-ecdfae30397c"
      },
      "outputs": [
        {
          "output_type": "stream",
          "name": "stdout",
          "text": [
            "Model: \"sequential\"\n",
            "_________________________________________________________________\n",
            " Layer (type)                Output Shape              Param #   \n",
            "=================================================================\n",
            " conv2d (Conv2D)             (None, 28, 28, 16)        160       \n",
            "                                                                 \n",
            " max_pooling2d (MaxPooling2  (None, 14, 14, 16)        0         \n",
            " D)                                                              \n",
            "                                                                 \n",
            " conv2d_1 (Conv2D)           (None, 14, 14, 32)        4640      \n",
            "                                                                 \n",
            " max_pooling2d_1 (MaxPoolin  (None, 7, 7, 32)          0         \n",
            " g2D)                                                            \n",
            "                                                                 \n",
            " conv2d_2 (Conv2D)           (None, 7, 7, 32)          9248      \n",
            "                                                                 \n",
            " flatten (Flatten)           (None, 1568)              0         \n",
            "                                                                 \n",
            " dense_1 (Dense)             (None, 50)                78450     \n",
            "                                                                 \n",
            " dense_2 (Dense)             (None, 10)                510       \n",
            "                                                                 \n",
            "=================================================================\n",
            "Total params: 93008 (363.31 KB)\n",
            "Trainable params: 93008 (363.31 KB)\n",
            "Non-trainable params: 0 (0.00 Byte)\n",
            "_________________________________________________________________\n"
          ]
        }
      ],
      "source": [
        "model.summary()"
      ]
    },
    {
      "cell_type": "markdown",
      "metadata": {
        "id": "XDJo_v85nDUU"
      },
      "source": [
        "(2) [20점] 아래와 같이 모형을 컴파일하고 훈련을 수행해보세요.  \n",
        " - optimizer 로는 Adam optimizer 사용\n",
        " - loss는 categorical cross entropy를 사용\n",
        " - 모형 평가 metric 으로 accuracy를 사용\n",
        " - 훈련에 있어서 epoch=5, batch size 는 32를 사용"
      ]
    },
    {
      "cell_type": "code",
      "execution_count": null,
      "metadata": {
        "id": "5bZ68LXLxMeJ",
        "colab": {
          "base_uri": "https://localhost:8080/"
        },
        "outputId": "2713dd8b-462f-4e6a-9b69-08e545303f35"
      },
      "outputs": [
        {
          "output_type": "stream",
          "name": "stdout",
          "text": [
            "Epoch 1/5\n",
            "1875/1875 [==============================] - 11s 3ms/step - loss: 0.1453 - accuracy: 0.9544\n",
            "Epoch 2/5\n",
            "1875/1875 [==============================] - 6s 3ms/step - loss: 0.0489 - accuracy: 0.9850\n",
            "Epoch 3/5\n",
            "1875/1875 [==============================] - 6s 3ms/step - loss: 0.0341 - accuracy: 0.9894\n",
            "Epoch 4/5\n",
            "1875/1875 [==============================] - 6s 3ms/step - loss: 0.0260 - accuracy: 0.9919\n",
            "Epoch 5/5\n",
            "1875/1875 [==============================] - 6s 3ms/step - loss: 0.0201 - accuracy: 0.9935\n"
          ]
        },
        {
          "output_type": "execute_result",
          "data": {
            "text/plain": [
              "<keras.src.callbacks.History at 0x7bb3d4c83280>"
            ]
          },
          "metadata": {},
          "execution_count": 9
        }
      ],
      "source": [
        "## compile your model with model.compile()\n",
        "model.compile(optimizer='adam',\n",
        "              loss='categorical_crossentropy',\n",
        "              metrics=['accuracy'])\n",
        "\n",
        "## fit your model with model.fit()\n",
        "model.fit(train_images, train_labels, epochs=5, batch_size=32)"
      ]
    },
    {
      "cell_type": "markdown",
      "metadata": {
        "id": "khIuXwIMtU_i"
      },
      "source": [
        "테스트 정확도를 출력해보면 아래와 같습니다."
      ]
    },
    {
      "cell_type": "code",
      "execution_count": null,
      "metadata": {
        "colab": {
          "base_uri": "https://localhost:8080/"
        },
        "id": "wFIQwgMhtKnU",
        "outputId": "c28c7b02-0375-44d5-ee6d-bdad471b3bf7"
      },
      "outputs": [
        {
          "output_type": "stream",
          "name": "stdout",
          "text": [
            "313/313 [==============================] - 1s 2ms/step - loss: 0.0280 - accuracy: 0.9909\n"
          ]
        },
        {
          "output_type": "execute_result",
          "data": {
            "text/plain": [
              "0.9908999800682068"
            ]
          },
          "metadata": {},
          "execution_count": 10
        }
      ],
      "source": [
        "test_loss, test_acc = model.evaluate(test_images, test_labels)\n",
        "test_acc"
      ]
    },
    {
      "cell_type": "markdown",
      "metadata": {
        "id": "UW4h8v4fvl6h"
      },
      "source": [
        "![image.png](data:image/png;base64,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)"
      ]
    },
    {
      "cell_type": "markdown",
      "metadata": {
        "id": "smQCBDL4tZvY"
      },
      "source": [
        "(3) [30점] ResNet의 Residual connection 구조를 정의하고 모형에 적용해 보세요. (그림 7.5 참고)\n",
        "- 추천하는 방법: residual connection block을 함수로 짠 후, residual connection block을 3번 호출 (residual connection 의 큰 그림만 반영 된다면 세부 파라메터들은 임의로 설정해도 무방함)"
      ]
    },
    {
      "cell_type": "code",
      "source": [
        "## model here\n",
        "\n",
        "from tensorflow.keras import layers\n",
        "from tensorflow.keras import models\n",
        "from tensorflow import keras\n",
        "\n",
        "#model = models.Sequential()\n",
        "### Define your model here\n",
        "inputs = keras.Input(shape=(28, 28, 1))\n",
        "def residual_block(x, filters, pooling=False):\n",
        "    x = layers.Conv2D(filters, 3, activation=\"relu\", padding=\"same\")(x)\n",
        "    residual = x\n",
        "    x = layers.Conv2D(filters, 3, activation=\"relu\", padding=\"same\")(x)\n",
        "    x = layers.Conv2D(filters, 3, activation=\"relu\", padding=\"same\")(x)\n",
        "    if pooling:\n",
        "        x = layers.MaxPooling2D(2, padding=\"same\")(x)\n",
        "        residual = layers.Conv2D(filters, 1, strides=2)(residual)\n",
        "    elif filters != residual.shape[-1]:\n",
        "        residual = layers.Conv2D(filters, 1)(residual)\n",
        "    x = layers.add([x, residual])\n",
        "    x = layers.Conv2D(filters, 3, activation=\"relu\", padding=\"same\")(x)\n",
        "    return x\n",
        "\n",
        "x = residual_block(inputs, filters=32, pooling=True)\n",
        "x = residual_block(x, filters=64, pooling=True)\n",
        "x = residual_block(x, filters=128, pooling=False)\n",
        "\n",
        "x = layers.GlobalAveragePooling2D()(x)\n",
        "outputs = layers.Dense(10, activation=\"sigmoid\")(x)\n",
        "model = keras.Model(inputs=inputs, outputs=outputs)\n",
        "model.summary()"
      ],
      "metadata": {
        "colab": {
          "base_uri": "https://localhost:8080/"
        },
        "id": "THKWGeqpCK2X",
        "outputId": "d8e42b75-bf8b-4a73-9f6a-9497d7ddf551"
      },
      "execution_count": null,
      "outputs": [
        {
          "output_type": "stream",
          "name": "stdout",
          "text": [
            "Model: \"model_1\"\n",
            "__________________________________________________________________________________________________\n",
            " Layer (type)                Output Shape                 Param #   Connected to                  \n",
            "==================================================================================================\n",
            " input_2 (InputLayer)        [(None, 28, 28, 1)]          0         []                            \n",
            "                                                                                                  \n",
            " conv2d_3 (Conv2D)           (None, 28, 28, 32)           320       ['input_2[0][0]']             \n",
            "                                                                                                  \n",
            " conv2d_4 (Conv2D)           (None, 28, 28, 32)           9248      ['conv2d_3[0][0]']            \n",
            "                                                                                                  \n",
            " conv2d_5 (Conv2D)           (None, 28, 28, 32)           9248      ['conv2d_4[0][0]']            \n",
            "                                                                                                  \n",
            " max_pooling2d_2 (MaxPoolin  (None, 14, 14, 32)           0         ['conv2d_5[0][0]']            \n",
            " g2D)                                                                                             \n",
            "                                                                                                  \n",
            " conv2d_6 (Conv2D)           (None, 14, 14, 32)           1056      ['conv2d_3[0][0]']            \n",
            "                                                                                                  \n",
            " add (Add)                   (None, 14, 14, 32)           0         ['max_pooling2d_2[0][0]',     \n",
            "                                                                     'conv2d_6[0][0]']            \n",
            "                                                                                                  \n",
            " conv2d_7 (Conv2D)           (None, 14, 14, 32)           9248      ['add[0][0]']                 \n",
            "                                                                                                  \n",
            " conv2d_8 (Conv2D)           (None, 14, 14, 64)           18496     ['conv2d_7[0][0]']            \n",
            "                                                                                                  \n",
            " conv2d_9 (Conv2D)           (None, 14, 14, 64)           36928     ['conv2d_8[0][0]']            \n",
            "                                                                                                  \n",
            " conv2d_10 (Conv2D)          (None, 14, 14, 64)           36928     ['conv2d_9[0][0]']            \n",
            "                                                                                                  \n",
            " max_pooling2d_3 (MaxPoolin  (None, 7, 7, 64)             0         ['conv2d_10[0][0]']           \n",
            " g2D)                                                                                             \n",
            "                                                                                                  \n",
            " conv2d_11 (Conv2D)          (None, 7, 7, 64)             4160      ['conv2d_8[0][0]']            \n",
            "                                                                                                  \n",
            " add_1 (Add)                 (None, 7, 7, 64)             0         ['max_pooling2d_3[0][0]',     \n",
            "                                                                     'conv2d_11[0][0]']           \n",
            "                                                                                                  \n",
            " conv2d_12 (Conv2D)          (None, 7, 7, 64)             36928     ['add_1[0][0]']               \n",
            "                                                                                                  \n",
            " conv2d_13 (Conv2D)          (None, 7, 7, 128)            73856     ['conv2d_12[0][0]']           \n",
            "                                                                                                  \n",
            " conv2d_14 (Conv2D)          (None, 7, 7, 128)            147584    ['conv2d_13[0][0]']           \n",
            "                                                                                                  \n",
            " conv2d_15 (Conv2D)          (None, 7, 7, 128)            147584    ['conv2d_14[0][0]']           \n",
            "                                                                                                  \n",
            " add_2 (Add)                 (None, 7, 7, 128)            0         ['conv2d_15[0][0]',           \n",
            "                                                                     'conv2d_13[0][0]']           \n",
            "                                                                                                  \n",
            " conv2d_16 (Conv2D)          (None, 7, 7, 128)            147584    ['add_2[0][0]']               \n",
            "                                                                                                  \n",
            " global_average_pooling2d_1  (None, 128)                  0         ['conv2d_16[0][0]']           \n",
            "  (GlobalAveragePooling2D)                                                                        \n",
            "                                                                                                  \n",
            " dense_3 (Dense)             (None, 10)                   1290      ['global_average_pooling2d_1[0\n",
            "                                                                    ][0]']                        \n",
            "                                                                                                  \n",
            "==================================================================================================\n",
            "Total params: 680458 (2.60 MB)\n",
            "Trainable params: 680458 (2.60 MB)\n",
            "Non-trainable params: 0 (0.00 Byte)\n",
            "__________________________________________________________________________________________________\n"
          ]
        }
      ]
    },
    {
      "cell_type": "code",
      "execution_count": null,
      "metadata": {
        "id": "aYrGgzpDtl5B",
        "colab": {
          "base_uri": "https://localhost:8080/"
        },
        "outputId": "06fc7442-d5f3-43be-9185-1e0ac85ea7e7"
      },
      "outputs": [
        {
          "output_type": "stream",
          "name": "stdout",
          "text": [
            "Epoch 1/5\n",
            "1875/1875 [==============================] - 18s 7ms/step - loss: 0.2576 - accuracy: 0.9148\n",
            "Epoch 2/5\n",
            "1875/1875 [==============================] - 13s 7ms/step - loss: 0.0564 - accuracy: 0.9837\n",
            "Epoch 3/5\n",
            "1875/1875 [==============================] - 13s 7ms/step - loss: 0.0421 - accuracy: 0.9878\n",
            "Epoch 4/5\n",
            "1875/1875 [==============================] - 13s 7ms/step - loss: 0.0363 - accuracy: 0.9893\n",
            "Epoch 5/5\n",
            "1875/1875 [==============================] - 13s 7ms/step - loss: 0.0303 - accuracy: 0.9911\n"
          ]
        },
        {
          "output_type": "execute_result",
          "data": {
            "text/plain": [
              "<keras.src.callbacks.History at 0x7bb2db945f30>"
            ]
          },
          "metadata": {},
          "execution_count": 12
        }
      ],
      "source": [
        "## compile your model with model.compile()\n",
        "model.compile(optimizer='adam',\n",
        "              loss='categorical_crossentropy',\n",
        "              metrics=['accuracy'])\n",
        "\n",
        "## fit your model with model.fit()\n",
        "model.fit(train_images, train_labels, epochs=5, batch_size=32)"
      ]
    },
    {
      "cell_type": "code",
      "execution_count": null,
      "metadata": {
        "id": "iTkjhgKXtlxw",
        "colab": {
          "base_uri": "https://localhost:8080/"
        },
        "outputId": "c7187272-c58b-472f-e77a-1ccfedc7e1be"
      },
      "outputs": [
        {
          "output_type": "stream",
          "name": "stdout",
          "text": [
            "313/313 [==============================] - 1s 3ms/step - loss: 0.0239 - accuracy: 0.9934\n"
          ]
        },
        {
          "output_type": "execute_result",
          "data": {
            "text/plain": [
              "0.993399977684021"
            ]
          },
          "metadata": {},
          "execution_count": 13
        }
      ],
      "source": [
        "# Test accuracy\n",
        "\n",
        "test_loss, test_acc = model.evaluate(test_images, test_labels)\n",
        "test_acc"
      ]
    },
    {
      "cell_type": "code",
      "source": [],
      "metadata": {
        "id": "4i0tFs_BCKxJ"
      },
      "execution_count": null,
      "outputs": []
    },
    {
      "cell_type": "markdown",
      "source": [
        "# Exam 4"
      ],
      "metadata": {
        "id": "VdRK0qCyCKuX"
      }
    },
    {
      "cell_type": "code",
      "source": [
        "import tensorflow as tf\n",
        "tf.__version__"
      ],
      "metadata": {
        "colab": {
          "base_uri": "https://localhost:8080/",
          "height": 35
        },
        "id": "_qzGLbeIDv8M",
        "outputId": "fe61468f-82d5-4e52-8b10-e640e513f614"
      },
      "execution_count": null,
      "outputs": [
        {
          "output_type": "execute_result",
          "data": {
            "text/plain": [
              "'2.15.0'"
            ],
            "application/vnd.google.colaboratory.intrinsic+json": {
              "type": "string"
            }
          },
          "metadata": {},
          "execution_count": 15
        }
      ]
    },
    {
      "cell_type": "code",
      "source": [
        "from tensorflow.keras.datasets import mnist\n",
        "from tensorflow.keras.utils import to_categorical\n",
        "\n",
        "(x_train, y_train), (x_test, y_test) = mnist.load_data()\n",
        "x_train, x_test = x_train / 255.0, x_test / 255.0\n",
        "\n",
        "# Add a channels dimension\n",
        "x_train = x_train[..., tf.newaxis].astype(\"float32\")\n",
        "x_test = x_test[..., tf.newaxis].astype(\"float32\")\n",
        "\n",
        "train_labels = to_categorical(y_train)\n",
        "test_labels = to_categorical(y_test)"
      ],
      "metadata": {
        "id": "22McmS9ADwmz"
      },
      "execution_count": null,
      "outputs": []
    },
    {
      "cell_type": "markdown",
      "metadata": {
        "id": "OLRJcuinEc0X"
      },
      "source": [
        "(1) [20점] 아래의 그림과 같은 구조를 가지는 CNN 모형을 작성해 봅시다.\n",
        "\n",
        "![image.png](data:image/png;base64,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)\n",
        "\n",
        "- Convolution layer 의 필터 갯수는 각각 16, 32, 32개로 설정하세요\n",
        "- 모든 Convolution layer 에서 커널 크기는 모두 (3,3) 으로 설정하고, zero padding을 적용하고. stride 는 1칸씩 진행되도록 합니다.\n",
        "- 모든 Convolution layer 에서 activation 은 'relu'를 사용합니다.\n",
        "- Maxpooling 은 가로 세로 2칸씩 적용하도록 하고, stride 역시 2칸씩 진행합니다.\n",
        "- Flatten layer 이후의 Dense layer 의 필터 갯수는 50으로 하고, activation은 'relu'함수를 사용합니다.\n"
      ]
    },
    {
      "cell_type": "code",
      "source": [
        "### Define your model here\n",
        "from tensorflow.keras import layers\n",
        "from tensorflow.keras import models\n",
        "\n",
        "model = models.Sequential()\n",
        "model.add(layers.Conv2D(16, (3, 3), strides=(1, 1), padding = \"same\", activation='relu', input_shape=(28, 28, 1)))\n",
        "model.add(layers.MaxPooling2D((2, 2),strides=(2,2)))\n",
        "model.add(layers.Conv2D(32, (3, 3), strides=(1, 1), padding = \"same\", activation='relu'))\n",
        "model.add(layers.MaxPooling2D((2, 2),strides=(2,2)))\n",
        "model.add(layers.Conv2D(32, (3, 3), strides=(1, 1), padding = \"same\", activation='relu'))\n",
        "model.add(layers.Flatten())\n",
        "model.add(layers.Dense(50, activation='relu'))\n",
        "model.add(layers.Dense(10, activation='softmax'))\n",
        "model.summary()"
      ],
      "metadata": {
        "colab": {
          "base_uri": "https://localhost:8080/"
        },
        "id": "Z0VY8fCADwsT",
        "outputId": "9de9809e-0816-466e-8cb6-dbf884776863"
      },
      "execution_count": null,
      "outputs": [
        {
          "output_type": "stream",
          "name": "stdout",
          "text": [
            "Model: \"sequential_2\"\n",
            "_________________________________________________________________\n",
            " Layer (type)                Output Shape              Param #   \n",
            "=================================================================\n",
            " conv2d_20 (Conv2D)          (None, 28, 28, 16)        160       \n",
            "                                                                 \n",
            " max_pooling2d_6 (MaxPoolin  (None, 14, 14, 16)        0         \n",
            " g2D)                                                            \n",
            "                                                                 \n",
            " conv2d_21 (Conv2D)          (None, 14, 14, 32)        4640      \n",
            "                                                                 \n",
            " max_pooling2d_7 (MaxPoolin  (None, 7, 7, 32)          0         \n",
            " g2D)                                                            \n",
            "                                                                 \n",
            " conv2d_22 (Conv2D)          (None, 7, 7, 32)          9248      \n",
            "                                                                 \n",
            " flatten_2 (Flatten)         (None, 1568)              0         \n",
            "                                                                 \n",
            " dense_6 (Dense)             (None, 50)                78450     \n",
            "                                                                 \n",
            " dense_7 (Dense)             (None, 10)                510       \n",
            "                                                                 \n",
            "=================================================================\n",
            "Total params: 93008 (363.31 KB)\n",
            "Trainable params: 93008 (363.31 KB)\n",
            "Non-trainable params: 0 (0.00 Byte)\n",
            "_________________________________________________________________\n"
          ]
        }
      ]
    },
    {
      "cell_type": "markdown",
      "metadata": {
        "id": "ZBVYOCHuEj71"
      },
      "source": [
        "(2) [20점] 아래와 같이 모형을 컴파일하고 훈련을 수행해보세요.  \n",
        " - optimizer 로는 Adam optimizer 사용\n",
        " - loss는 categorical cross entropy를 사용\n",
        " - 모형 평가 metric 으로 accuracy를 사용\n",
        " - 훈련에 있어서 epoch=5, batch size 는 32를 사용"
      ]
    },
    {
      "cell_type": "code",
      "source": [
        "## compile your model with model.compile()\n",
        "model.compile(optimizer='adam',\n",
        "              loss='categorical_crossentropy',\n",
        "              metrics=['accuracy'])\n",
        "\n",
        "## fit your model with model.fit()\n",
        "model.fit(x_train, train_labels, epochs=5, batch_size=32)"
      ],
      "metadata": {
        "colab": {
          "base_uri": "https://localhost:8080/"
        },
        "id": "mF6LhxDUEnf1",
        "outputId": "11e3a7b9-958b-4b77-b41c-b668964244ad"
      },
      "execution_count": null,
      "outputs": [
        {
          "output_type": "stream",
          "name": "stdout",
          "text": [
            "Epoch 1/5\n",
            "1875/1875 [==============================] - 8s 3ms/step - loss: 0.1403 - accuracy: 0.9563\n",
            "Epoch 2/5\n",
            "1875/1875 [==============================] - 6s 3ms/step - loss: 0.0468 - accuracy: 0.9855\n",
            "Epoch 3/5\n",
            "1875/1875 [==============================] - 6s 3ms/step - loss: 0.0335 - accuracy: 0.9895\n",
            "Epoch 4/5\n",
            "1875/1875 [==============================] - 6s 3ms/step - loss: 0.0264 - accuracy: 0.9916\n",
            "Epoch 5/5\n",
            "1875/1875 [==============================] - 6s 3ms/step - loss: 0.0217 - accuracy: 0.9931\n"
          ]
        },
        {
          "output_type": "execute_result",
          "data": {
            "text/plain": [
              "<keras.src.callbacks.History at 0x7bb2db90c3d0>"
            ]
          },
          "metadata": {},
          "execution_count": 20
        }
      ]
    },
    {
      "cell_type": "markdown",
      "metadata": {
        "id": "b9O1gDaRzOuH"
      },
      "source": [
        "(3) [30점] Data Augmentation 을 적용하여 훈련을 시켜보세요.\n",
        "\n",
        "- Data Augmentation 으로 RandomFlip 을 가로, 세로방향을 적용하고, RandomRotation을 시계방향 반시계방향으로 30도 정도 회전을 적용합니다.\n",
        "- Tensorflow data api를 사용하면 조금 더 편한 것 같습니다. (안사용해도 괜찮습니다)"
      ]
    },
    {
      "cell_type": "code",
      "metadata": {
        "id": "CZya4a7gXt4C"
      },
      "source": [
        "#필요한 패키지 로드\n",
        "import matplotlib.pyplot as plt\n",
        "import numpy as np\n",
        "import tensorflow as tf\n",
        "import tensorflow_datasets as tfds\n",
        "\n",
        "from tensorflow.keras import layers\n",
        "from tensorflow.keras.datasets import mnist"
      ],
      "execution_count": null,
      "outputs": []
    },
    {
      "cell_type": "code",
      "metadata": {
        "id": "Dh6ArucRX5Zw"
      },
      "source": [
        "from tensorflow.keras.datasets import mnist\n",
        "from tensorflow.keras.utils import to_categorical\n",
        "\n",
        "(x_train, y_train), (x_test, y_test) = mnist.load_data()\n",
        "x_train, x_test = x_train / 255.0, x_test / 255.0\n",
        "\n",
        "# Add a channels dimension\n",
        "x_train = x_train[..., tf.newaxis].astype(\"float32\")\n",
        "x_test = x_test[..., tf.newaxis].astype(\"float32\")\n",
        "\n",
        "train_labels = to_categorical(y_train)\n",
        "test_labels = to_categorical(y_test)"
      ],
      "execution_count": null,
      "outputs": []
    },
    {
      "cell_type": "code",
      "metadata": {
        "id": "O1N6AgBYzOuI"
      },
      "source": [
        "#데이터 증강\n",
        "data_augmentation = tf.keras.Sequential([\n",
        "  layers.experimental.preprocessing.RandomFlip(\"horizontal_and_vertical\"),\n",
        "  layers.experimental.preprocessing.RandomRotation(0.2),\n",
        "])"
      ],
      "execution_count": null,
      "outputs": []
    },
    {
      "cell_type": "code",
      "metadata": {
        "colab": {
          "base_uri": "https://localhost:8080/",
          "height": 430
        },
        "id": "H5_PZrPJXgqf",
        "outputId": "d325b6b1-8900-49f2-d422-6cddf8a337dc"
      },
      "source": [
        "#그림 확인\n",
        "image = next(iter(x_train))\n",
        "_ = plt.imshow(image.reshape(28,28))\n",
        "#_ = plt.title(get_label_name(label))"
      ],
      "execution_count": null,
      "outputs": [
        {
          "output_type": "display_data",
          "data": {
            "text/plain": [
              "<Figure size 640x480 with 1 Axes>"
            ],
            "image/png": "[encoded data removed]"
          },
          "metadata": {}
        }
      ]
    },
    {
      "cell_type": "code",
      "source": [
        "#그림 확인\n",
        "from tensorflow.python.ops.numpy_ops import np_config\n",
        "np_config.enable_numpy_behavior()\n",
        "image = next(iter(x_train))\n",
        "aug = data_augmentation(image)\n",
        "#print(aug.reshape(28,28))\n",
        "_ = plt.imshow(aug.reshape(28,28))\n",
        "#_ = plt.title(get_label_name(label))"
      ],
      "metadata": {
        "colab": {
          "base_uri": "https://localhost:8080/",
          "height": 430
        },
        "id": "mh4Iu6N4wA0J",
        "outputId": "e2fbef3d-f409-49c8-a6a3-3bb785dc9193"
      },
      "execution_count": null,
      "outputs": [
        {
          "output_type": "display_data",
          "data": {
            "text/plain": [
              "<Figure size 640x480 with 1 Axes>"
            ],
            "image/png": "[encoded data removed]"
          },
          "metadata": {}
        }
      ]
    },
    {
      "cell_type": "code",
      "metadata": {
        "colab": {
          "base_uri": "https://localhost:8080/"
        },
        "id": "Vsq3o_Roabgr",
        "outputId": "910679b8-b082-4930-967b-6ae44ed047c4"
      },
      "source": [
        "## compile your model with model.compile()\n",
        "model.compile(optimizer='adam',\n",
        "              loss='categorical_crossentropy',\n",
        "              metrics=['accuracy'])\n",
        "\n",
        "## fit your model with model.fit()\n",
        "model.fit(x_train, train_labels, epochs=5, batch_size=32)"
      ],
      "execution_count": null,
      "outputs": [
        {
          "output_type": "stream",
          "name": "stdout",
          "text": [
            "Epoch 1/5\n",
            "1875/1875 [==============================] - 8s 4ms/step - loss: 0.7615 - accuracy: 0.7428\n",
            "Epoch 2/5\n",
            "1875/1875 [==============================] - 7s 4ms/step - loss: 0.3662 - accuracy: 0.8824\n",
            "Epoch 3/5\n",
            "1875/1875 [==============================] - 8s 4ms/step - loss: 0.2915 - accuracy: 0.9045\n",
            "Epoch 4/5\n",
            "1875/1875 [==============================] - 7s 4ms/step - loss: 0.2580 - accuracy: 0.9161\n",
            "Epoch 5/5\n",
            "1875/1875 [==============================] - 7s 4ms/step - loss: 0.2294 - accuracy: 0.9260\n"
          ]
        },
        {
          "output_type": "execute_result",
          "data": {
            "text/plain": [
              "<keras.callbacks.History at 0x7f67cb240c50>"
            ]
          },
          "metadata": {},
          "execution_count": 38
        }
      ]
    },
    {
      "cell_type": "code",
      "metadata": {
        "colab": {
          "base_uri": "https://localhost:8080/"
        },
        "id": "U9c-jj2raliO",
        "outputId": "4932cad8-a4ed-4282-d7a6-d7103e385972"
      },
      "source": [
        "#데이터 증강을 적용한 모델\n",
        "model.summary()"
      ],
      "execution_count": null,
      "outputs": [
        {
          "output_type": "stream",
          "name": "stdout",
          "text": [
            "Model: \"sequential_9\"\n",
            "_________________________________________________________________\n",
            "Layer (type)                 Output Shape              Param #   \n",
            "=================================================================\n",
            "sequential_4 (Sequential)    multiple                  0         \n",
            "_________________________________________________________________\n",
            "conv2d_24 (Conv2D)           (32, 28, 28, 16)          160       \n",
            "_________________________________________________________________\n",
            "max_pooling2d_16 (MaxPooling (32, 14, 14, 16)          0         \n",
            "_________________________________________________________________\n",
            "conv2d_25 (Conv2D)           (32, 14, 14, 32)          4640      \n",
            "_________________________________________________________________\n",
            "max_pooling2d_17 (MaxPooling (32, 7, 7, 32)            0         \n",
            "_________________________________________________________________\n",
            "conv2d_26 (Conv2D)           (32, 7, 7, 32)            9248      \n",
            "_________________________________________________________________\n",
            "flatten_8 (Flatten)          (32, 1568)                0         \n",
            "_________________________________________________________________\n",
            "dense_13 (Dense)             (32, 50)                  78450     \n",
            "_________________________________________________________________\n",
            "dense_14 (Dense)             (32, 10)                  510       \n",
            "=================================================================\n",
            "Total params: 93,008\n",
            "Trainable params: 93,008\n",
            "Non-trainable params: 0\n",
            "_________________________________________________________________\n"
          ]
        }
      ]
    },
    {
      "cell_type": "markdown",
      "metadata": {
        "id": "z_MCHpg-zOuI"
      },
      "source": [
        "(4) [30점] 5이상의 숫자(5,6,7,8,9)와 5미만의 숫자(0,1,2,3,4)를 판별하는 모형을 만들고 싶습니다. 아래의 작업들을 수행하세요.\n",
        "\n",
        "- 5이상의 숫자를 0, 5미만의 숫자를 1로 하는 train_y_5, test_y_5 변수들을 만듭니다.\n",
        "- (2) 또는 (3)에서 적합시킨 pre-trained network 을 가져와서 transefer learning 을 적용해서 5이상의 숫자와 5미만 숫자를 판별하는 모형을 만들어보세요.   \n",
        "  - pre-trained network을 가져와서 마지막 layer 를 해당 문제에 맞게 수정해야 합니다.\n",
        "  - fine-tuning 을 적용합니다. 마지막 Dense(50) Lyaer 를 trainable 하게하고, 그 상위 CNN 레이어 들은 Freeze 시킨 후 트레이닝 해보세요."
      ]
    },
    {
      "cell_type": "code",
      "source": [
        "import numpy as np\n",
        "from matplotlib import pyplot as plt\n",
        "\n",
        "import keras\n",
        "from keras.datasets import cifar10\n",
        "from keras.layers import Dense, Convolution2D, Flatten, Activation, MaxPooling2D, Dropout\n",
        "from keras.models import Sequential\n",
        "from keras.utils import to_categorical\n",
        "from keras.applications import ResNet50\n",
        "from keras.optimizers import Adam"
      ],
      "metadata": {
        "id": "-mU1C0m8IPyk"
      },
      "execution_count": null,
      "outputs": []
    },
    {
      "cell_type": "code",
      "metadata": {
        "id": "DSHyXp3nzOuI"
      },
      "source": [
        "#train_y_5\n",
        "train_y_5=[]\n",
        "for i in y_train:\n",
        "    if i >= 5:\n",
        "        train_y_5.append('0')\n",
        "    elif i < 5:\n",
        "        train_y_5.append('1')"
      ],
      "execution_count": null,
      "outputs": []
    },
    {
      "cell_type": "code",
      "metadata": {
        "id": "y46wCpO-c6iX"
      },
      "source": [
        "#test_y_5\n",
        "test_y_5=[]\n",
        "for i in y_test:\n",
        "    if i >= 5:\n",
        "        test_y_5.append('0')\n",
        "    elif i < 5:\n",
        "        test_y_5.append('1')"
      ],
      "execution_count": null,
      "outputs": []
    },
    {
      "cell_type": "code",
      "metadata": {
        "colab": {
          "base_uri": "https://localhost:8080/"
        },
        "id": "YSwRtjLFhRsJ",
        "outputId": "0be4bc31-e6dd-4601-92a4-60df074cbf00"
      },
      "source": [
        "#넘파이 배열로 변환\n",
        "import numpy as np\n",
        "np.array(train_y_5)\n",
        "np.array(test_y_5)"
      ],
      "execution_count": null,
      "outputs": [
        {
          "output_type": "execute_result",
          "data": {
            "text/plain": [
              "array(['0', '1', '1', ..., '1', '0', '0'], dtype='<U1')"
            ]
          },
          "metadata": {},
          "execution_count": 49
        }
      ]
    },
    {
      "cell_type": "code",
      "metadata": {
        "id": "mOR3wUu7hl9e"
      },
      "source": [
        "train_labels = to_categorical(train_y_5)\n",
        "test_labels = to_categorical(test_y_5)"
      ],
      "execution_count": null,
      "outputs": []
    },
    {
      "cell_type": "code",
      "metadata": {
        "colab": {
          "base_uri": "https://localhost:8080/"
        },
        "id": "M7-tPk03fVza",
        "outputId": "6971cf82-a4bf-4d0d-8174-6adb9654f953"
      },
      "source": [
        "model.layers[7]"
      ],
      "execution_count": null,
      "outputs": [
        {
          "output_type": "execute_result",
          "data": {
            "text/plain": [
              "<keras.src.layers.core.dense.Dense at 0x7bab0817d420>"
            ]
          },
          "metadata": {},
          "execution_count": 51
        }
      ]
    },
    {
      "cell_type": "code",
      "metadata": {
        "colab": {
          "base_uri": "https://localhost:8080/"
        },
        "id": "xuXKCfIelATK",
        "outputId": "6f853942-66c8-41be-8706-1c24ecd29c27"
      },
      "source": [
        "#모델 레이어 확인\n",
        "model.layers[:7]"
      ],
      "execution_count": null,
      "outputs": [
        {
          "output_type": "execute_result",
          "data": {
            "text/plain": [
              "[<keras.src.engine.sequential.Sequential at 0x7bab0a8ee170>,\n",
              " <keras.src.layers.convolutional.conv2d.Conv2D at 0x7bab082fd9c0>,\n",
              " <keras.src.layers.pooling.max_pooling2d.MaxPooling2D at 0x7bab0817e230>,\n",
              " <keras.src.layers.convolutional.conv2d.Conv2D at 0x7bab0817c100>,\n",
              " <keras.src.layers.pooling.max_pooling2d.MaxPooling2D at 0x7bab0817c9a0>,\n",
              " <keras.src.layers.convolutional.conv2d.Conv2D at 0x7bab0817cc70>,\n",
              " <keras.src.layers.reshaping.flatten.Flatten at 0x7bab0817cdc0>]"
            ]
          },
          "metadata": {},
          "execution_count": 52
        }
      ]
    },
    {
      "cell_type": "code",
      "source": [
        "trans_model = Sequential()\n",
        "trans_model.add(Convolution2D(32, (3, 3), activation='relu', input_shape=(32, 32, 3)))\n",
        "trans_model.add(MaxPooling2D(pool_size=(2, 2)))\n",
        "trans_model.add(Flatten())\n",
        "trans_model.add(Dense(64, activation='relu'))\n",
        "trans_model.add(Dense(10, activation='softmax'))\n"
      ],
      "metadata": {
        "id": "WJBxeUAkI9CX"
      },
      "execution_count": null,
      "outputs": []
    },
    {
      "cell_type": "markdown",
      "source": [
        "chatgpt 돌린 결과임!!!"
      ],
      "metadata": {
        "id": "hCA8CXEcJ_2F"
      }
    },
    {
      "cell_type": "code",
      "source": [
        "import numpy as np\n",
        "from keras.datasets import cifar10\n",
        "from keras.utils import to_categorical\n",
        "from keras.applications import ResNet50\n",
        "from keras.models import Model\n",
        "from keras.layers import Dense\n",
        "from keras.optimizers import Adam\n",
        "\n",
        "# 데이터셋 로드 및 전처리\n",
        "(x_train, y_train), (x_test, y_test) = cifar10.load_data()\n",
        "y_train_5 = np.where(y_train >= 5, 0, 1)\n",
        "y_test_5 = np.where(y_test >= 5, 0, 1)\n",
        "\n",
        "# Pre-trained network 로드\n",
        "base_model = ResNet50(weights='imagenet', include_top=False, input_shape=(32, 32, 3))\n",
        "\n",
        "# 마지막 레이어 수정\n",
        "x = base_model.output\n",
        "x = Flatten()(x)\n",
        "predictions = Dense(1, activation='sigmoid')(x)\n",
        "\n",
        "# 새로운 모델 정의\n",
        "model = Model(inputs=base_model.input, outputs=predictions)\n",
        "\n",
        "# Fine-tuning을 위한 레이어 고정 및 훈련 설정\n",
        "for layer in base_model.layers:\n",
        "    layer.trainable = False\n",
        "\n",
        "model.compile(optimizer=Adam(lr=0.001),\n",
        "              loss='binary_crossentropy',\n",
        "              metrics=['accuracy'])\n",
        "\n",
        "# Fine-tuning: 마지막 Dense 레이어를 제외한 모든 레이어를 고정하고 훈련\n",
        "model.fit(x_train, y_train_5, epochs=5, batch_size=32, validation_data=(x_test, y_test_5))\n",
        "\n",
        "# 마지막 Dense 레이어만 trainable하게 설정\n",
        "for layer in base_model.layers:\n",
        "    layer.trainable = False\n",
        "model.layers[-1].trainable = True\n",
        "\n",
        "# 새로운 learning rate로 컴파일\n",
        "model.compile(optimizer=Adam(lr=0.0001),\n",
        "              loss='binary_crossentropy',\n",
        "              metrics=['accuracy'])\n",
        "\n",
        "# 추가로 3 epoch 동안 더 훈련\n",
        "model.fit(x_train, y_train_5, epochs=3, batch_size=32, validation_data=(x_test, y_test_5))"
      ],
      "metadata": {
        "colab": {
          "base_uri": "https://localhost:8080/"
        },
        "id": "rFEKlVVBJWLY",
        "outputId": "b5cd1792-5488-4fee-cba2-391d23135ed0"
      },
      "execution_count": null,
      "outputs": [
        {
          "output_type": "stream",
          "name": "stderr",
          "text": [
            "WARNING:absl:`lr` is deprecated in Keras optimizer, please use `learning_rate` or use the legacy optimizer, e.g.,tf.keras.optimizers.legacy.Adam.\n"
          ]
        },
        {
          "output_type": "stream",
          "name": "stdout",
          "text": [
            "Epoch 1/5\n",
            "1563/1563 [==============================] - 21s 11ms/step - loss: 0.6559 - accuracy: 0.6664 - val_loss: 0.6049 - val_accuracy: 0.6953\n",
            "Epoch 2/5\n",
            "1563/1563 [==============================] - 15s 10ms/step - loss: 0.5865 - accuracy: 0.7065 - val_loss: 0.5876 - val_accuracy: 0.7048\n",
            "Epoch 3/5\n",
            "1563/1563 [==============================] - 15s 10ms/step - loss: 0.5815 - accuracy: 0.7094 - val_loss: 0.6869 - val_accuracy: 0.6738\n",
            "Epoch 4/5\n",
            "1563/1563 [==============================] - 16s 10ms/step - loss: 0.5739 - accuracy: 0.7136 - val_loss: 0.5826 - val_accuracy: 0.7120\n",
            "Epoch 5/5\n",
            "1563/1563 [==============================] - 15s 10ms/step - loss: 0.5768 - accuracy: 0.7135 - val_loss: 0.5845 - val_accuracy: 0.7119\n"
          ]
        },
        {
          "output_type": "stream",
          "name": "stderr",
          "text": [
            "WARNING:absl:`lr` is deprecated in Keras optimizer, please use `learning_rate` or use the legacy optimizer, e.g.,tf.keras.optimizers.legacy.Adam.\n"
          ]
        },
        {
          "output_type": "stream",
          "name": "stdout",
          "text": [
            "Epoch 1/3\n",
            "1563/1563 [==============================] - 20s 11ms/step - loss: 0.5786 - accuracy: 0.7124 - val_loss: 0.5940 - val_accuracy: 0.7113\n",
            "Epoch 2/3\n",
            "1563/1563 [==============================] - 15s 10ms/step - loss: 0.5769 - accuracy: 0.7153 - val_loss: 0.5861 - val_accuracy: 0.7113\n",
            "Epoch 3/3\n",
            "1563/1563 [==============================] - 15s 10ms/step - loss: 0.5730 - accuracy: 0.7163 - val_loss: 0.5912 - val_accuracy: 0.7069\n"
          ]
        },
        {
          "output_type": "execute_result",
          "data": {
            "text/plain": [
              "<keras.src.callbacks.History at 0x7baae4141900>"
            ]
          },
          "metadata": {},
          "execution_count": 61
        }
      ]
    },
    {
      "cell_type": "code",
      "source": [],
      "metadata": {
        "id": "K3Dxk6BtJvfH"
      },
      "execution_count": null,
      "outputs": []
    },
    {
      "cell_type": "markdown",
      "metadata": {
        "id": "6EjGWVbNJ1XC"
      },
      "source": [
        "## 손글씨 데이터에서 0--6 사이의 숫자에 대해서만 모형을 만들어보고, 7--9 의 숫자 데이터에 대해 transfer learning 을 통해 모형을 적합시켜보고자 한다."
      ]
    },
    {
      "cell_type": "markdown",
      "metadata": {
        "id": "Bt72AytfJ1XD"
      },
      "source": [
        "### Q1 [10점] 아래는 0--6 사이 숫자, 7--9 사이 숫자 데이터를 나누기 위한 일부 코드이다. 부족한 부분을 완성시키시오."
      ]
    },
    {
      "cell_type": "code",
      "source": [
        "# 0--6 사이 숫자, 7--9 사이 숫자 데이터를 분할하기 위한 조건 생성\n",
        "idx_0_6_train = np.array([True if nm in [0, 1, 2, 3, 4, 5, 6] else False for nm in y_train])\n",
        "idx_0_6_test = np.array([True if nm in [0, 1, 2, 3, 4, 5, 6] else False for nm in y_test])\n"
      ],
      "metadata": {
        "id": "EP0aDusuKi9L"
      },
      "execution_count": null,
      "outputs": []
    },
    {
      "cell_type": "code",
      "execution_count": null,
      "metadata": {
        "id": "IZthUXyWKQPL"
      },
      "outputs": [],
      "source": [
        "## 부분을 완성하세요.\n",
        "x_train_0_6 = x_train[idx_0_6_train]\n",
        "x_train_7_9 = x_train[~idx_0_6_train]\n",
        "x_test_0_6 = x_test[idx_0_6_test]\n",
        "x_test_7_9 = x_test[~idx_0_6_test]\n",
        "\n",
        "y_train_0_6 = y_train[idx_0_6_train]\n",
        "y_train_7_9 = y_train[~idx_0_6_train]\n",
        "y_test_0_6 = y_test[idx_0_6_test]\n",
        "y_test_7_9 = y_test[~idx_0_6_test]"
      ]
    },
    {
      "cell_type": "code",
      "source": [
        "len(x_train_0_6) + len(x_train_7_9) + len(x_test_0_6) + len(x_test_7_9)"
      ],
      "metadata": {
        "colab": {
          "base_uri": "https://localhost:8080/"
        },
        "id": "oEIeYtw5KwgN",
        "outputId": "6a159720-d100-46a9-976a-c4fe3318a337"
      },
      "execution_count": null,
      "outputs": [
        {
          "output_type": "execute_result",
          "data": {
            "text/plain": [
              "60000"
            ]
          },
          "metadata": {},
          "execution_count": 73
        }
      ]
    },
    {
      "cell_type": "markdown",
      "metadata": {
        "id": "j0_B2rU1LNVy"
      },
      "source": [
        "### Q2 [20점] 0--6 사이의 숫자 데이터에 대해 아래와 같은 구조를 같는 모형을 만들어 보자.\n",
        "- 2개의 Convolution layer 를 사용하세요. filter size는 각각 (3,3)을 사용하고, zero padding 을 사용해서 input 과 output의 가로세로 차원을 같게해주세요. 활성함수로는 relu 를 사용해주세요.\n",
        "- Convolution layer 이후에는 Maxpooling layer 를 사용해주세요. 필터는 (3,3), stride 는 3을 사용해주세요.\n",
        "- 2개의 Convolution layer 이후에 Flatten layer를 적용해주세요.\n",
        "- Output layer 로 Dense layer 에 softmax 활성함수를 사용해주세요.\n",
        "\n",
        "\n",
        "![image.png](data:image/png;base64,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)"
      ]
    },
    {
      "cell_type": "code",
      "source": [
        "from tensorflow.keras import layers, models\n",
        "\n",
        "# 모형 정의\n",
        "model = models.Sequential([\n",
        "    layers.Conv2D(32, (3, 3), padding='same', activation='relu', input_shape=(28, 28, 1)),\n",
        "    layers.MaxPooling2D((3, 3), strides=3),\n",
        "    layers.Conv2D(32, (3, 3), padding='same', activation='relu'),\n",
        "    layers.MaxPooling2D((3, 3), strides=3),\n",
        "    layers.Flatten(),\n",
        "    layers.Dense(7, activation='softmax')\n",
        "])\n",
        "model.summary()"
      ],
      "metadata": {
        "colab": {
          "base_uri": "https://localhost:8080/"
        },
        "id": "ll8cUzFXSmTn",
        "outputId": "6f253b18-8105-4a58-e0c2-3ce8af259a36"
      },
      "execution_count": null,
      "outputs": [
        {
          "output_type": "stream",
          "name": "stdout",
          "text": [
            "Model: \"sequential_22\"\n",
            "_________________________________________________________________\n",
            " Layer (type)                Output Shape              Param #   \n",
            "=================================================================\n",
            " conv2d_58 (Conv2D)          (None, 28, 28, 32)        320       \n",
            "                                                                 \n",
            " max_pooling2d_34 (MaxPooli  (None, 9, 9, 32)          0         \n",
            " ng2D)                                                           \n",
            "                                                                 \n",
            " conv2d_59 (Conv2D)          (None, 9, 9, 32)          9248      \n",
            "                                                                 \n",
            " max_pooling2d_35 (MaxPooli  (None, 3, 3, 32)          0         \n",
            " ng2D)                                                           \n",
            "                                                                 \n",
            " flatten_18 (Flatten)        (None, 288)               0         \n",
            "                                                                 \n",
            " dense_34 (Dense)            (None, 7)                 2023      \n",
            "                                                                 \n",
            "=================================================================\n",
            "Total params: 11591 (45.28 KB)\n",
            "Trainable params: 11591 (45.28 KB)\n",
            "Non-trainable params: 0 (0.00 Byte)\n",
            "_________________________________________________________________\n"
          ]
        }
      ]
    },
    {
      "cell_type": "markdown",
      "metadata": {
        "id": "1E4OpDnvMIVl"
      },
      "source": [
        "### [15점] Q3 모형 컴파일 후 학습을 수행해보세요.\n",
        "- optimizer 는 'Adam'을 사용하세요.\n",
        "- loss로 categorical cross entropy 를 사용하세요.\n",
        "- 평가용 metric 으로 'accuracy' 를 사용하세요.\n",
        "- Epoch 은 5, batch size 는 32를 사용하여 학습을 수행해보세요.\n",
        "\n",
        "모형은 아래와 같은 summary 가 출력된다면 맞게 정의된 것입니다. 세부적으로 조금 다르도라도 전반적으로 맞으면 약간의 부분점수 감점만 있으니 그런부분은 너무 걱정하지 않아도 됩니다.\n",
        "\n",
        "![image.png](data:image/png;base64,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)"
      ]
    },
    {
      "cell_type": "code",
      "source": [
        "# 모형 컴파일\n",
        "model.compile(optimizer='adam',\n",
        "              loss='categorical_crossentropy',\n",
        "              metrics=['accuracy'])"
      ],
      "metadata": {
        "id": "DvSPSs6qSagc"
      },
      "execution_count": null,
      "outputs": []
    },
    {
      "cell_type": "code",
      "source": [
        "### x_train_0_6, y_train_0_6 데이터로 트레이닝 수행하는 코드 완성하세요.???\n",
        "history = model.fit(x_train_0_6, y_train_0_6,\n",
        "                    epochs=5,\n",
        "                    batch_size=32,\n",
        "                    validation_data=(x_test_0_6, y_test_0_6))"
      ],
      "metadata": {
        "colab": {
          "base_uri": "https://localhost:8080/",
          "height": 722
        },
        "id": "y8w_tLBBUob_",
        "outputId": "58452335-d544-4e56-a01e-bfd804778d82"
      },
      "execution_count": null,
      "outputs": [
        {
          "output_type": "stream",
          "name": "stdout",
          "text": [
            "Epoch 1/5\n"
          ]
        },
        {
          "output_type": "error",
          "ename": "ValueError",
          "evalue": "in user code:\n\n    File \"/usr/local/lib/python3.10/dist-packages/keras/src/engine/training.py\", line 1401, in train_function  *\n        return step_function(self, iterator)\n    File \"/usr/local/lib/python3.10/dist-packages/keras/src/engine/training.py\", line 1384, in step_function  **\n        outputs = model.distribute_strategy.run(run_step, args=(data,))\n    File \"/usr/local/lib/python3.10/dist-packages/keras/src/engine/training.py\", line 1373, in run_step  **\n        outputs = model.train_step(data)\n    File \"/usr/local/lib/python3.10/dist-packages/keras/src/engine/training.py\", line 1150, in train_step\n        y_pred = self(x, training=True)\n    File \"/usr/local/lib/python3.10/dist-packages/keras/src/utils/traceback_utils.py\", line 70, in error_handler\n        raise e.with_traceback(filtered_tb) from None\n    File \"/usr/local/lib/python3.10/dist-packages/keras/src/engine/input_spec.py\", line 298, in assert_input_compatibility\n        raise ValueError(\n\n    ValueError: Input 0 of layer \"sequential_22\" is incompatible with the layer: expected shape=(None, 28, 28, 1), found shape=(None, 32, 32, 3)\n",
          "traceback": [
            "\u001b[0;31m---------------------------------------------------------------------------\u001b[0m",
            "\u001b[0;31mValueError\u001b[0m                                Traceback (most recent call last)",
            "\u001b[0;32m<ipython-input-98-70f46f8dd90a>\u001b[0m in \u001b[0;36m<cell line: 2>\u001b[0;34m()\u001b[0m\n\u001b[1;32m      1\u001b[0m \u001b[0;31m### x_train_0_6, y_train_0_6 데이터로 트레이닝 수행하는 코드 완성하세요.\u001b[0m\u001b[0;34m\u001b[0m\u001b[0;34m\u001b[0m\u001b[0m\n\u001b[0;32m----> 2\u001b[0;31m history = model.fit(x_train_0_6, y_train_0_6,\n\u001b[0m\u001b[1;32m      3\u001b[0m                     \u001b[0mepochs\u001b[0m\u001b[0;34m=\u001b[0m\u001b[0;36m5\u001b[0m\u001b[0;34m,\u001b[0m\u001b[0;34m\u001b[0m\u001b[0;34m\u001b[0m\u001b[0m\n\u001b[1;32m      4\u001b[0m                     \u001b[0mbatch_size\u001b[0m\u001b[0;34m=\u001b[0m\u001b[0;36m32\u001b[0m\u001b[0;34m,\u001b[0m\u001b[0;34m\u001b[0m\u001b[0;34m\u001b[0m\u001b[0m\n\u001b[1;32m      5\u001b[0m                     validation_data=(x_test_0_6, y_test_0_6))\n",
            "\u001b[0;32m/usr/local/lib/python3.10/dist-packages/keras/src/utils/traceback_utils.py\u001b[0m in \u001b[0;36merror_handler\u001b[0;34m(*args, **kwargs)\u001b[0m\n\u001b[1;32m     68\u001b[0m             \u001b[0;31m# To get the full stack trace, call:\u001b[0m\u001b[0;34m\u001b[0m\u001b[0;34m\u001b[0m\u001b[0m\n\u001b[1;32m     69\u001b[0m             \u001b[0;31m# `tf.debugging.disable_traceback_filtering()`\u001b[0m\u001b[0;34m\u001b[0m\u001b[0;34m\u001b[0m\u001b[0m\n\u001b[0;32m---> 70\u001b[0;31m             \u001b[0;32mraise\u001b[0m \u001b[0me\u001b[0m\u001b[0;34m.\u001b[0m\u001b[0mwith_traceback\u001b[0m\u001b[0;34m(\u001b[0m\u001b[0mfiltered_tb\u001b[0m\u001b[0;34m)\u001b[0m \u001b[0;32mfrom\u001b[0m \u001b[0;32mNone\u001b[0m\u001b[0;34m\u001b[0m\u001b[0;34m\u001b[0m\u001b[0m\n\u001b[0m\u001b[1;32m     71\u001b[0m         \u001b[0;32mfinally\u001b[0m\u001b[0;34m:\u001b[0m\u001b[0;34m\u001b[0m\u001b[0;34m\u001b[0m\u001b[0m\n\u001b[1;32m     72\u001b[0m             \u001b[0;32mdel\u001b[0m \u001b[0mfiltered_tb\u001b[0m\u001b[0;34m\u001b[0m\u001b[0;34m\u001b[0m\u001b[0m\n",
            "\u001b[0;32m/usr/local/lib/python3.10/dist-packages/keras/src/engine/training.py\u001b[0m in \u001b[0;36mtf__train_function\u001b[0;34m(iterator)\u001b[0m\n\u001b[1;32m     13\u001b[0m                 \u001b[0;32mtry\u001b[0m\u001b[0;34m:\u001b[0m\u001b[0;34m\u001b[0m\u001b[0;34m\u001b[0m\u001b[0m\n\u001b[1;32m     14\u001b[0m                     \u001b[0mdo_return\u001b[0m \u001b[0;34m=\u001b[0m \u001b[0;32mTrue\u001b[0m\u001b[0;34m\u001b[0m\u001b[0;34m\u001b[0m\u001b[0m\n\u001b[0;32m---> 15\u001b[0;31m                     \u001b[0mretval_\u001b[0m \u001b[0;34m=\u001b[0m \u001b[0mag__\u001b[0m\u001b[0;34m.\u001b[0m\u001b[0mconverted_call\u001b[0m\u001b[0;34m(\u001b[0m\u001b[0mag__\u001b[0m\u001b[0;34m.\u001b[0m\u001b[0mld\u001b[0m\u001b[0;34m(\u001b[0m\u001b[0mstep_function\u001b[0m\u001b[0;34m)\u001b[0m\u001b[0;34m,\u001b[0m \u001b[0;34m(\u001b[0m\u001b[0mag__\u001b[0m\u001b[0;34m.\u001b[0m\u001b[0mld\u001b[0m\u001b[0;34m(\u001b[0m\u001b[0mself\u001b[0m\u001b[0;34m)\u001b[0m\u001b[0;34m,\u001b[0m \u001b[0mag__\u001b[0m\u001b[0;34m.\u001b[0m\u001b[0mld\u001b[0m\u001b[0;34m(\u001b[0m\u001b[0miterator\u001b[0m\u001b[0;34m)\u001b[0m\u001b[0;34m)\u001b[0m\u001b[0;34m,\u001b[0m \u001b[0;32mNone\u001b[0m\u001b[0;34m,\u001b[0m \u001b[0mfscope\u001b[0m\u001b[0;34m)\u001b[0m\u001b[0;34m\u001b[0m\u001b[0;34m\u001b[0m\u001b[0m\n\u001b[0m\u001b[1;32m     16\u001b[0m                 \u001b[0;32mexcept\u001b[0m\u001b[0;34m:\u001b[0m\u001b[0;34m\u001b[0m\u001b[0;34m\u001b[0m\u001b[0m\n\u001b[1;32m     17\u001b[0m                     \u001b[0mdo_return\u001b[0m \u001b[0;34m=\u001b[0m \u001b[0;32mFalse\u001b[0m\u001b[0;34m\u001b[0m\u001b[0;34m\u001b[0m\u001b[0m\n",
            "\u001b[0;31mValueError\u001b[0m: in user code:\n\n    File \"/usr/local/lib/python3.10/dist-packages/keras/src/engine/training.py\", line 1401, in train_function  *\n        return step_function(self, iterator)\n    File \"/usr/local/lib/python3.10/dist-packages/keras/src/engine/training.py\", line 1384, in step_function  **\n        outputs = model.distribute_strategy.run(run_step, args=(data,))\n    File \"/usr/local/lib/python3.10/dist-packages/keras/src/engine/training.py\", line 1373, in run_step  **\n        outputs = model.train_step(data)\n    File \"/usr/local/lib/python3.10/dist-packages/keras/src/engine/training.py\", line 1150, in train_step\n        y_pred = self(x, training=True)\n    File \"/usr/local/lib/python3.10/dist-packages/keras/src/utils/traceback_utils.py\", line 70, in error_handler\n        raise e.with_traceback(filtered_tb) from None\n    File \"/usr/local/lib/python3.10/dist-packages/keras/src/engine/input_spec.py\", line 298, in assert_input_compatibility\n        raise ValueError(\n\n    ValueError: Input 0 of layer \"sequential_22\" is incompatible with the layer: expected shape=(None, 28, 28, 1), found shape=(None, 32, 32, 3)\n"
          ]
        }
      ]
    },
    {
      "cell_type": "code",
      "source": [],
      "metadata": {
        "id": "y43jlfroU6Y9"
      },
      "execution_count": null,
      "outputs": []
    },
    {
      "cell_type": "markdown",
      "metadata": {
        "id": "sJBsESKWU75G"
      },
      "source": [
        "### [15점] Q4 x_test_0_6, y_test_0_6 의 테스트 데이터에 대해 성능을 평가해보세요."
      ]
    },
    {
      "cell_type": "code",
      "execution_count": null,
      "metadata": {
        "colab": {
          "base_uri": "https://localhost:8080/",
          "height": 704
        },
        "id": "HbqWfA6BU75H",
        "outputId": "3705284d-0470-4017-8ddb-0fb15f9f1865"
      },
      "outputs": [
        {
          "output_type": "error",
          "ename": "ValueError",
          "evalue": "in user code:\n\n    File \"/usr/local/lib/python3.10/dist-packages/keras/src/engine/training.py\", line 2066, in test_function  *\n        return step_function(self, iterator)\n    File \"/usr/local/lib/python3.10/dist-packages/keras/src/engine/training.py\", line 2049, in step_function  **\n        outputs = model.distribute_strategy.run(run_step, args=(data,))\n    File \"/usr/local/lib/python3.10/dist-packages/keras/src/engine/training.py\", line 2037, in run_step  **\n        outputs = model.test_step(data)\n    File \"/usr/local/lib/python3.10/dist-packages/keras/src/engine/training.py\", line 1917, in test_step\n        y_pred = self(x, training=False)\n    File \"/usr/local/lib/python3.10/dist-packages/keras/src/utils/traceback_utils.py\", line 70, in error_handler\n        raise e.with_traceback(filtered_tb) from None\n    File \"/usr/local/lib/python3.10/dist-packages/keras/src/engine/input_spec.py\", line 298, in assert_input_compatibility\n        raise ValueError(\n\n    ValueError: Input 0 of layer \"sequential_22\" is incompatible with the layer: expected shape=(None, 28, 28, 1), found shape=(None, 32, 32, 3)\n",
          "traceback": [
            "\u001b[0;31m---------------------------------------------------------------------------\u001b[0m",
            "\u001b[0;31mValueError\u001b[0m                                Traceback (most recent call last)",
            "\u001b[0;32m<ipython-input-99-c50def293f63>\u001b[0m in \u001b[0;36m<cell line: 3>\u001b[0;34m()\u001b[0m\n\u001b[1;32m      1\u001b[0m \u001b[0;31m## evaluation 코드 완성하세요\u001b[0m\u001b[0;34m\u001b[0m\u001b[0;34m\u001b[0m\u001b[0m\n\u001b[1;32m      2\u001b[0m \u001b[0;31m# 테스트 데이터에 대해 성능 평가\u001b[0m\u001b[0;34m\u001b[0m\u001b[0;34m\u001b[0m\u001b[0m\n\u001b[0;32m----> 3\u001b[0;31m \u001b[0mloss\u001b[0m\u001b[0;34m,\u001b[0m \u001b[0maccuracy\u001b[0m \u001b[0;34m=\u001b[0m \u001b[0mmodel\u001b[0m\u001b[0;34m.\u001b[0m\u001b[0mevaluate\u001b[0m\u001b[0;34m(\u001b[0m\u001b[0mx_test_0_6\u001b[0m\u001b[0;34m,\u001b[0m \u001b[0my_test_0_6\u001b[0m\u001b[0;34m)\u001b[0m\u001b[0;34m\u001b[0m\u001b[0;34m\u001b[0m\u001b[0m\n\u001b[0m\u001b[1;32m      4\u001b[0m \u001b[0mprint\u001b[0m\u001b[0;34m(\u001b[0m\u001b[0;34m'Test Loss:'\u001b[0m\u001b[0;34m,\u001b[0m \u001b[0mloss\u001b[0m\u001b[0;34m)\u001b[0m\u001b[0;34m\u001b[0m\u001b[0;34m\u001b[0m\u001b[0m\n\u001b[1;32m      5\u001b[0m \u001b[0mprint\u001b[0m\u001b[0;34m(\u001b[0m\u001b[0;34m'Test Accuracy:'\u001b[0m\u001b[0;34m,\u001b[0m \u001b[0maccuracy\u001b[0m\u001b[0;34m)\u001b[0m\u001b[0;34m\u001b[0m\u001b[0;34m\u001b[0m\u001b[0m\n",
            "\u001b[0;32m/usr/local/lib/python3.10/dist-packages/keras/src/utils/traceback_utils.py\u001b[0m in \u001b[0;36merror_handler\u001b[0;34m(*args, **kwargs)\u001b[0m\n\u001b[1;32m     68\u001b[0m             \u001b[0;31m# To get the full stack trace, call:\u001b[0m\u001b[0;34m\u001b[0m\u001b[0;34m\u001b[0m\u001b[0m\n\u001b[1;32m     69\u001b[0m             \u001b[0;31m# `tf.debugging.disable_traceback_filtering()`\u001b[0m\u001b[0;34m\u001b[0m\u001b[0;34m\u001b[0m\u001b[0m\n\u001b[0;32m---> 70\u001b[0;31m             \u001b[0;32mraise\u001b[0m \u001b[0me\u001b[0m\u001b[0;34m.\u001b[0m\u001b[0mwith_traceback\u001b[0m\u001b[0;34m(\u001b[0m\u001b[0mfiltered_tb\u001b[0m\u001b[0;34m)\u001b[0m \u001b[0;32mfrom\u001b[0m \u001b[0;32mNone\u001b[0m\u001b[0;34m\u001b[0m\u001b[0;34m\u001b[0m\u001b[0m\n\u001b[0m\u001b[1;32m     71\u001b[0m         \u001b[0;32mfinally\u001b[0m\u001b[0;34m:\u001b[0m\u001b[0;34m\u001b[0m\u001b[0;34m\u001b[0m\u001b[0m\n\u001b[1;32m     72\u001b[0m             \u001b[0;32mdel\u001b[0m \u001b[0mfiltered_tb\u001b[0m\u001b[0;34m\u001b[0m\u001b[0;34m\u001b[0m\u001b[0m\n",
            "\u001b[0;32m/usr/local/lib/python3.10/dist-packages/keras/src/engine/training.py\u001b[0m in \u001b[0;36mtf__test_function\u001b[0;34m(iterator)\u001b[0m\n\u001b[1;32m     13\u001b[0m                 \u001b[0;32mtry\u001b[0m\u001b[0;34m:\u001b[0m\u001b[0;34m\u001b[0m\u001b[0;34m\u001b[0m\u001b[0m\n\u001b[1;32m     14\u001b[0m                     \u001b[0mdo_return\u001b[0m \u001b[0;34m=\u001b[0m \u001b[0;32mTrue\u001b[0m\u001b[0;34m\u001b[0m\u001b[0;34m\u001b[0m\u001b[0m\n\u001b[0;32m---> 15\u001b[0;31m                     \u001b[0mretval_\u001b[0m \u001b[0;34m=\u001b[0m \u001b[0mag__\u001b[0m\u001b[0;34m.\u001b[0m\u001b[0mconverted_call\u001b[0m\u001b[0;34m(\u001b[0m\u001b[0mag__\u001b[0m\u001b[0;34m.\u001b[0m\u001b[0mld\u001b[0m\u001b[0;34m(\u001b[0m\u001b[0mstep_function\u001b[0m\u001b[0;34m)\u001b[0m\u001b[0;34m,\u001b[0m \u001b[0;34m(\u001b[0m\u001b[0mag__\u001b[0m\u001b[0;34m.\u001b[0m\u001b[0mld\u001b[0m\u001b[0;34m(\u001b[0m\u001b[0mself\u001b[0m\u001b[0;34m)\u001b[0m\u001b[0;34m,\u001b[0m \u001b[0mag__\u001b[0m\u001b[0;34m.\u001b[0m\u001b[0mld\u001b[0m\u001b[0;34m(\u001b[0m\u001b[0miterator\u001b[0m\u001b[0;34m)\u001b[0m\u001b[0;34m)\u001b[0m\u001b[0;34m,\u001b[0m \u001b[0;32mNone\u001b[0m\u001b[0;34m,\u001b[0m \u001b[0mfscope\u001b[0m\u001b[0;34m)\u001b[0m\u001b[0;34m\u001b[0m\u001b[0;34m\u001b[0m\u001b[0m\n\u001b[0m\u001b[1;32m     16\u001b[0m                 \u001b[0;32mexcept\u001b[0m\u001b[0;34m:\u001b[0m\u001b[0;34m\u001b[0m\u001b[0;34m\u001b[0m\u001b[0m\n\u001b[1;32m     17\u001b[0m                     \u001b[0mdo_return\u001b[0m \u001b[0;34m=\u001b[0m \u001b[0;32mFalse\u001b[0m\u001b[0;34m\u001b[0m\u001b[0;34m\u001b[0m\u001b[0m\n",
            "\u001b[0;31mValueError\u001b[0m: in user code:\n\n    File \"/usr/local/lib/python3.10/dist-packages/keras/src/engine/training.py\", line 2066, in test_function  *\n        return step_function(self, iterator)\n    File \"/usr/local/lib/python3.10/dist-packages/keras/src/engine/training.py\", line 2049, in step_function  **\n        outputs = model.distribute_strategy.run(run_step, args=(data,))\n    File \"/usr/local/lib/python3.10/dist-packages/keras/src/engine/training.py\", line 2037, in run_step  **\n        outputs = model.test_step(data)\n    File \"/usr/local/lib/python3.10/dist-packages/keras/src/engine/training.py\", line 1917, in test_step\n        y_pred = self(x, training=False)\n    File \"/usr/local/lib/python3.10/dist-packages/keras/src/utils/traceback_utils.py\", line 70, in error_handler\n        raise e.with_traceback(filtered_tb) from None\n    File \"/usr/local/lib/python3.10/dist-packages/keras/src/engine/input_spec.py\", line 298, in assert_input_compatibility\n        raise ValueError(\n\n    ValueError: Input 0 of layer \"sequential_22\" is incompatible with the layer: expected shape=(None, 28, 28, 1), found shape=(None, 32, 32, 3)\n"
          ]
        }
      ],
      "source": [
        "## evaluation 코드 완성하세요\n",
        "# 테스트 데이터에 대해 성능 평가\n",
        "loss, accuracy = model.evaluate(x_test_0_6, y_test_0_6)\n",
        "print('Test Loss:', loss)\n",
        "print('Test Accuracy:', accuracy)"
      ]
    },
    {
      "cell_type": "code",
      "source": [],
      "metadata": {
        "id": "cfPa67p4U7mS"
      },
      "execution_count": null,
      "outputs": []
    },
    {
      "cell_type": "code",
      "source": [],
      "metadata": {
        "id": "1QwoeOoPU6uB"
      },
      "execution_count": null,
      "outputs": []
    }
  ]
}